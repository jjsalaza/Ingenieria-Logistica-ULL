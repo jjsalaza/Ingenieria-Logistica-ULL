{
 "cells": [
  {
   "cell_type": "markdown",
   "metadata": {
    "colab_type": "text",
    "id": "view-in-github"
   },
   "source": [
    "<a href=\"https://colab.research.google.com/github/jjsalaza/Ingenieria-Logistica-ULL/blob/master/logistica.ipynb\" target=\"_parent\"><img src=\"https://colab.research.google.com/assets/colab-badge.svg\" alt=\"Open In Colab\"/></a>"
   ]
  },
  {
   "cell_type": "markdown",
   "metadata": {
    "colab_type": "text",
    "id": "11DXYsXAo6Oe"
   },
   "source": [
    "# Ingeniería Logística, Grado de Informática, Universidad de La Laguna\n",
    "---\n",
    "\n"
   ]
  },
  {
   "cell_type": "markdown",
   "metadata": {
    "colab_type": "text",
    "id": "dUf6bpwqw-su"
   },
   "source": [
    "# Introducción"
   ]
  },
  {
   "cell_type": "markdown",
   "metadata": {
    "colab_type": "text",
    "id": "TdkhAmqKpWfu"
   },
   "source": [
    "Principalmente aprendemos a representar problemas reales mediante modelos matemáticos de programación lineal (continua o entera), es decir, del tipo $\\max\\{ c^Tx: Ax\\leq b, x\\in Z^n\\}$. Luego estos modelos matemáticos serán resueltos mediante herramientas informáticas especializadas, como [Cplex](https://www.ibm.com/analytics/cplex-optimizer), [Xpress](http://www.fico.com/es/products/fico-xpress-optimization), Gurobi, SCIP, GLKP, CBC, GLOP, etc. Aunque dedicamos algo a comprender las metodologías implementadas en estas herramientas, principalmente la asignatura insistirá en la modelización de problemas.\n"
   ]
  },
  {
   "cell_type": "markdown",
   "metadata": {
    "colab_type": "text",
    "id": "MFmhocZHtxbD"
   },
   "source": [
    "Un ejemplo de modelo matemático es:\n",
    "\\begin{eqnarray}\n",
    "\\max\\;\\; x+10y& & \\\\\n",
    "x+7y&\\leq& 17.5  \\\\\n",
    "x &\\leq& 3.5  \\\\\n",
    "x,y&\\in& Z\n",
    "\\end{eqnarray}"
   ]
  },
  {
   "cell_type": "markdown",
   "metadata": {
    "colab_type": "text",
    "id": "OfPsh4ymVjwq"
   },
   "source": [
    "A fín de no complicarnos con la instalación de licencias comerciales, usamos una librería de optimización de software libre que permite ser llamada desde Python y que ha sideo desarrollada en el proyecto [COIN-OR](https://www.coin-or.org/). Se llama CBC. Además en este mismo proyecto existe un lenguaje que amplía el Python y se llama [PuLP](https://www.coin-or.org/PuLP/). Usando este lenguaje el modelo anterior se resuelve mediante:\n"
   ]
  },
  {
   "cell_type": "code",
   "execution_count": 0,
   "metadata": {
    "colab": {},
    "colab_type": "code",
    "id": "WAsnbunBNetP"
   },
   "outputs": [],
   "source": [
    "!pip install pulp\n",
    "from pulp import *\n",
    "\n",
    "prob = LpProblem(\"MiPrimerProblemaEntero\", LpMaximize)\n",
    "X = LpVariable(\"X\", 0, None,cat='Integer')\n",
    "Y = LpVariable(\"Y\", 0, None,cat='Integer')\n",
    "prob += X + 10 * Y\n",
    "prob += X + 7 * Y <= 17.5\n",
    "prob += X <= 3.5\n",
    "\n",
    "prob.solve()\n",
    "\n",
    "print(\"Status = \", LpStatus[prob.status])\n",
    "print(\"Optimal objective value = \", value(prob.objective))\n",
    "print(\"  X = \", X.varValue)\n",
    "print(\"  Y = \", Y.varValue)\n",
    "# prob.writeLP(\"modelo.lp\")\n",
    "# print(prob)"
   ]
  },
  {
   "cell_type": "markdown",
   "metadata": {
    "colab_type": "text",
    "id": "44KbU8Rwh48t"
   },
   "source": [
    "En este lenguaje PuLP podemos usar varias librerias de optimización. Por defecto usa la de COIN-or. Pero podemos elegir otras usando por ejemplo:\n",
    "\\begin{verbatim}\n",
    "if liberia == \"GUROBI\":\n",
    "\t\t\tprob.solve(GUROBI(TimeLimit=60,msg=1))\n",
    "\t\telif libreria == \"CBC\":\n",
    "\t\t\tprob.solve(PULP_CBC_CMD(msg=1,maxSeconds=60,options=[\"rens\",\"on\",\"local\",\"on\"]))\n",
    "\t\telse:\n",
    "\t\t\tprint( libreria + \" solver doesn't exists\")\n",
    "\t\t\tquit()\n",
    "\\end{verbatim}\n",
    "En este sentido parece un legunaje ideal, pero hay que tener en cuenta que algunas librerías ofrecen funciones no disponibles en otras librerias (por ejemplo, callback functions) con lo que igual tampoco PuLP es tan ideal."
   ]
  },
  {
   "cell_type": "markdown",
   "metadata": {
    "colab_type": "text",
    "id": "MIizVvLKNg1E"
   },
   "source": [
    "Otra alternativa es usar la nueva herramienta gratuita (¡por ahora!) de Google llamada [OR-tools](https://developers.google.com/optimization/). Ni PuLP ni OR-tools son librerías de optimización, sino extensiones del lenguaje Python para escribir cómodamente modelos matemáticos de Programación Lineal (Entera o Continua) que luego pueden ser resueltas con cualquiera de las librerias citadas (CBC, Cplex, Gurobi,...). Actuan como puente entre quien desea resolver un modelo y quien lo resuelve. Muy cómodo. Muy recomendable. La opción de Google es:"
   ]
  },
  {
   "cell_type": "code",
   "execution_count": 0,
   "metadata": {
    "colab": {},
    "colab_type": "code",
    "id": "QeXiQgwYjfHB"
   },
   "outputs": [],
   "source": [
    "!pip install ortools\n",
    "from ortools.linear_solver import pywraplp"
   ]
  },
  {
   "cell_type": "markdown",
   "metadata": {
    "colab_type": "text",
    "id": "exS1-MmaTrti"
   },
   "source": [
    "Tenemos dos modos de escribir los detalles del modelo. O bien coeficiente a coeficiente, o bien fila a fila. Mostramos a continuación ambos:"
   ]
  },
  {
   "cell_type": "code",
   "execution_count": 0,
   "metadata": {
    "colab": {},
    "colab_type": "code",
    "id": "4t3pdCAiUIf5"
   },
   "outputs": [],
   "source": [
    "solver = pywraplp.Solver('MiPrimerProblemaEntero',\n",
    "                           pywraplp.Solver.CBC_MIXED_INTEGER_PROGRAMMING)\n",
    "\n",
    "# x and y are integer non-negative variables.\n",
    "x = solver.IntVar(0.0, solver.infinity(), 'x')\n",
    "y = solver.IntVar(0.0, solver.infinity(), 'y')\n",
    "\n",
    "solver.Maximize(x + 10 * y)\n",
    "solver.Add( x + 7 * y <= 17.5 )\n",
    "solver.Add( x <= 7.5 )  \n",
    "\n",
    "\"\"\"Solve the problem and print the solution.\"\"\"\n",
    "result_status = solver.Solve()\n",
    "# The problem has an optimal solution.\n",
    "assert result_status == pywraplp.Solver.OPTIMAL\n",
    "  \n",
    "print('Number of variables =', solver.NumVariables())\n",
    "print('Number of constraints =', solver.NumConstraints())\n",
    "print('Optimal objective value = %d' % solver.Objective().Value())\n",
    "  \n",
    "# The value of each variable in the solution.\n",
    "variable_list = [x, y]\n",
    "\n",
    "for variable in variable_list:\n",
    "    print('   %s = %d' % (variable.name(), variable.solution_value()))"
   ]
  },
  {
   "cell_type": "code",
   "execution_count": 0,
   "metadata": {
    "colab": {},
    "colab_type": "code",
    "id": "jdl-TK8cVVbW"
   },
   "outputs": [],
   "source": [
    "solver = pywraplp.Solver('MiPrimerProblemaEntero',\n",
    "                           pywraplp.Solver.CBC_MIXED_INTEGER_PROGRAMMING)\n",
    "\n",
    "# x and y are integer non-negative variables.\n",
    "x = solver.IntVar(0.0, solver.infinity(), 'x')\n",
    "y = solver.IntVar(0.0, solver.infinity(), 'y')\n",
    "\n",
    "# x + 7 * y <= 17.5\n",
    "constraint1 = solver.Constraint(-solver.infinity(), 17.5)\n",
    "constraint1.SetCoefficient(x, 1)\n",
    "constraint1.SetCoefficient(y, 7)\n",
    "\n",
    "# x <= 3.5\n",
    "constraint2 = solver.Constraint(-solver.infinity(), 3.5)\n",
    "constraint2.SetCoefficient(x, 1)\n",
    "constraint2.SetCoefficient(y, 0)\n",
    "\n",
    "# Maximize x + 10 * y.\n",
    "objective = solver.Objective()\n",
    "objective.SetCoefficient(x, 1)\n",
    "objective.SetCoefficient(y, 10)\n",
    "objective.SetMaximization()\n",
    "\n",
    "\"\"\"Solve the problem and print the solution.\"\"\"\n",
    "result_status = solver.Solve()\n",
    "# The problem has an optimal solution.\n",
    "assert result_status == pywraplp.Solver.OPTIMAL\n",
    "  \n",
    "print('Number of variables =', solver.NumVariables())\n",
    "print('Number of constraints =', solver.NumConstraints())\n",
    "print('Optimal objective value = %d' % solver.Objective().Value())\n",
    "  \n",
    "# The value of each variable in the solution.\n",
    "variable_list = [x, y]\n",
    "\n",
    "for variable in variable_list:\n",
    "    print('   %s = %d' % (variable.name(), variable.solution_value()))"
   ]
  },
  {
   "cell_type": "markdown",
   "metadata": {
    "colab_type": "text",
    "id": "LmkB1X811j-B"
   },
   "source": [
    "El anterior ejemplo fue un modelo muy pequeño, con tan sólo 2 variables y 2 restricciones. Son ejemplo numéricos diminutos de nulo interés práctico. En la práctica se plantean problemas más complejos que necesitan ser representado mediante modelos con más variables y restricciones, y en consecuencia donde notación abreviada ayuda a entenderlos mejor y reducir la posibilidad de cometer errores al introducirlos en un ordenador. Veamos un ejemplo de problema mayor en la siguiente sección."
   ]
  },
  {
   "cell_type": "markdown",
   "metadata": {},
   "source": [
    "Pero incluso los modelos de programación entera pequeños pueden ser muy difíciles. Aqui lo mostramos con uno con 3 variables:"
   ]
  },
  {
   "cell_type": "code",
   "execution_count": 0,
   "metadata": {
    "colab": {},
    "colab_type": "code",
    "id": "utgI4m4javL6"
   },
   "outputs": [],
   "source": [
    "!pip install ortools\n",
    "from ortools.linear_solver import pywraplp\n",
    "\n",
    "solver = pywraplp.Solver('ProblemaEnteroDificil',  pywraplp.Solver.CBC_MIXED_INTEGER_PROGRAMMING )\n",
    "\n",
    "x = solver.IntVar(0.0, solver.infinity(), 'x')\n",
    "y = solver.IntVar(0.0, solver.infinity(), 'y')\n",
    "z = solver.IntVar(0.0, solver.infinity(), 'z')\n",
    "\n",
    "solver.SetTimeLimit( 60 * 1000 )   # le ponemos un tiempo límite de 60 segundos para no calentar el ordenador\n",
    "\n",
    "solver.Minimize(x)\n",
    "solver.Add( 75001 * y + 75002 * z == 75000 + 75000 * x )\n",
    "result_status = solver.Solve()\n",
    "\n",
    "# The problem has an optimal solution.\n",
    "assert result_status == pywraplp.Solver.OPTIMAL\n",
    "  \n",
    "print('Number of variables =', solver.NumVariables())\n",
    "print('Number of constraints =', solver.NumConstraints())\n",
    "print('Optimal objective value = %d' % solver.Objective().Value())\n",
    "  \n",
    "# The value of each variable in the solution.\n",
    "variable_list = [x, y, z]\n",
    "\n",
    "for variable in variable_list:\n",
    "    print('   %s = %d' % (variable.name(), variable.solution_value()))\n",
    "    \n",
    "print(\"Time = \", solver.WallTime(), \" milliseconds\")\n",
    "print(\"Iterations = \", solver.Iterations())\n",
    "print(\"Nodes = \", solver.nodes())"
   ]
  },
  {
   "cell_type": "markdown",
   "metadata": {},
   "source": [
    "Mismo problema con Gurobi:"
   ]
  },
  {
   "cell_type": "code",
   "execution_count": 0,
   "metadata": {
    "colab": {},
    "colab_type": "code",
    "id": "NZGxNeWvad4a"
   },
   "outputs": [],
   "source": [
    "from gurobi import *\n",
    "\n",
    "modelo = Model(\"ProblemaEnteroDificil\")\n",
    "\n",
    "x = modelo.addVar(vtype=GRB.INTEGER, name=\"x\")\n",
    "y = modelo.addVar(vtype=GRB.INTEGER, name=\"y\")\n",
    "z = modelo.addVar(vtype=GRB.INTEGER, name=\"z\")\n",
    "\n",
    "modelo.setObjective(x, GRB.MINIMIZE)\n",
    "modelo.addConstr( 75001 * y + 75002 * z == 75000 + 75000 * x , \"c0\")\n",
    "modelo.optimize()\n",
    "\n",
    "print('Optimal  objective value = %g' % modelo.objVal)\n",
    "for variable in modelo.getVars():\n",
    "    print('  %s = %g' % (variable.varName, variable.x))\n",
    "print('runtime is ',modelo.Runtime)"
   ]
  },
  {
   "cell_type": "markdown",
   "metadata": {
    "colab_type": "text",
    "id": "8rbIq5skxSIX"
   },
   "source": [
    "# Problemas de Asignación"
   ]
  },
  {
   "cell_type": "markdown",
   "metadata": {
    "colab_type": "text",
    "id": "EPckcxHY2xUf"
   },
   "source": [
    "Imaginemos tener 6 trabajadores y 4 tareas, y conocer el costo de $c_{ij}$ de que el trabajador $i$ esté asignado a la tarea $j$. Se busca asignar un trabajador a cada tarea, y que ningún trabajador esté asignado a más de una máquina, de manera que el coste total sea lo menor posible.\n"
   ]
  },
  {
   "cell_type": "code",
   "execution_count": 0,
   "metadata": {
    "colab": {},
    "colab_type": "code",
    "id": "xtr_eIrrkrII"
   },
   "outputs": [],
   "source": [
    "cost  =  [[90, 76, 75, 70],\n",
    "          [35, 85, 55, 65],\n",
    "          [125, 95, 90, 105],\n",
    "          [45, 110, 95, 115],\n",
    "          [60, 105, 80, 75],\n",
    "          [45, 65, 110, 95]]\n",
    "num_workers = len(cost)\n",
    "num_tasks   = len(cost[1])"
   ]
  },
  {
   "cell_type": "code",
   "execution_count": 0,
   "metadata": {
    "colab": {},
    "colab_type": "code",
    "id": "cQ8-xexGJKfc"
   },
   "outputs": [],
   "source": [
    "!pip install ortools\n",
    "from ortools.linear_solver import pywraplp\n",
    "\n",
    "solver = pywraplp.Solver('ProblemaAsignacion2dimensional',\n",
    "                           pywraplp.Solver.CBC_MIXED_INTEGER_PROGRAMMING)\n",
    "\n",
    "x = {}\n",
    "\n",
    "for i in range(num_workers):\n",
    "    for j in range(num_tasks):\n",
    "        x[i, j] = solver.BoolVar('x[%i,%i]' % (i, j))\n",
    "\n",
    "# Objective\n",
    "solver.Minimize(solver.Sum([cost[i][j] * x[i,j] for i in range(num_workers)\n",
    "                                                  for j in range(num_tasks)]))\n",
    "\n",
    "# Constraints\n",
    "\n",
    "# Each worker is assigned to at most 1 task.\n",
    "\n",
    "for i in range(num_workers):\n",
    "    solver.Add(solver.Sum([x[i, j] for j in range(num_tasks)]) <= 1)\n",
    "\n",
    "# Each task is assigned to exactly one worker.\n",
    "\n",
    "for j in range(num_tasks):\n",
    "    solver.Add(solver.Sum([x[i, j] for i in range(num_workers)]) == 1)\n",
    "\n",
    "# resolvemos:  \n",
    "sol = solver.Solve()\n",
    "\n",
    "print('Costo total = ', solver.Objective().Value())\n",
    "print()\n",
    "for i in range(num_workers):\n",
    "    for j in range(num_tasks):\n",
    "        if x[i, j].solution_value() > 0:\n",
    "            print('Trabajador %d asignado a la tarea %d.  Costo = %d' % (i,j,cost[i][j]))\n",
    "print()\n",
    "print(\"Time = \", solver.WallTime(), \" milliseconds\")"
   ]
  },
  {
   "cell_type": "markdown",
   "metadata": {
    "colab_type": "text",
    "id": "VUCKuDfB5VNf"
   },
   "source": [
    "Si los trabajadores estuviesen en dos equipos, por ejemplo, pares e impares, la solución optima obtenida usa más trabajadores de un equipo que del otro. Podría tener sentido que el problema real también desee una solución donde se eligan exactamente 2 trabajadores de cada equipo. Para ello hay que introducir nuevas restricciones en el modelo matemático:"
   ]
  },
  {
   "cell_type": "code",
   "execution_count": 0,
   "metadata": {
    "colab": {},
    "colab_type": "code",
    "id": "LJLBepm44aAX"
   },
   "outputs": [],
   "source": [
    "team1 = [0, 2, 4]\n",
    "team2 = [1, 3, 5]\n",
    "\n",
    "# Each team takes on two tasks.\n",
    "\n",
    "solver.Add(solver.Sum([x[i, j] for i in team1 for j in range(num_tasks)]) <= 2)\n",
    "solver.Add(solver.Sum([x[i, j] for i in team2 for j in range(num_tasks)]) <= 2)\n",
    "\n",
    "# resolvemos:  \n",
    "sol = solver.Solve()\n",
    "\n",
    "print('Costo total = ', solver.Objective().Value())\n",
    "print()\n",
    "for i in range(num_workers):\n",
    "    for j in range(num_tasks):\n",
    "        if x[i, j].solution_value() > 0:\n",
    "            print('Trabajador %d asignado a la tarea %d.  Costo = %d' % (i,j,cost[i][j]))"
   ]
  },
  {
   "cell_type": "markdown",
   "metadata": {
    "colab_type": "text",
    "id": "nFnQmZKr8H1l"
   },
   "source": [
    "Como era de esperar, la nueva solución óptima cuesta más que la anterior porque debe cumplir además las nuevas desigualdades."
   ]
  },
  {
   "cell_type": "markdown",
   "metadata": {
    "colab_type": "text",
    "id": "caeNLQwBWjey"
   },
   "source": [
    "Terminemos esta sección con un problema de asignación más complejo, conocido como **problema de asignación 3-dimensional**. Pensemos ahora que tenemos 5 profesores, 5 asignaturas y 5 aulas, y queremos asignar un profesor a cada asignatura en un aula, de modo que cada profesor da 1 asignatura en 1 aula, cada asignatura la da 1 profesor en 1 aula, y cada aula imparte 1 asignatura por 1 profesor. Todo queremos que se realice a costo total mínimo. Concretamente se llama problema de asignación 3-dimensional **axial** porque como veremos su modelo matemático se basa en restricciones que tienen 1 índice libre, en contraposición a otro problema que se llama de asignación 3-dimensional **planar** donde su modelo se basa en restricciones que tienen 2 indices libres. Vemos primero el modelo para el problema axial planteado, es decir, asignar profesores, asignaturas y aulas:"
   ]
  },
  {
   "cell_type": "code",
   "execution_count": 0,
   "metadata": {
    "colab": {},
    "colab_type": "code",
    "id": "WxexrgSTX2q6"
   },
   "outputs": [],
   "source": [
    "import random  \n",
    "dimension = 100\n",
    "opciones  = range(dimension)\n",
    "cost      = [[[random.randint(1,101) for i in opciones] for j in opciones] for k in opciones]\n",
    "\n",
    "!pip install ortools\n",
    "from ortools.linear_solver import pywraplp\n",
    "\n",
    "solver = pywraplp.Solver('3APaxial', pywraplp.Solver.CBC_MIXED_INTEGER_PROGRAMMING)\n",
    "x = {}\n",
    "for i in opciones:\n",
    "    for j in opciones:\n",
    "        for k in opciones:\n",
    "            x[i,j,k] = solver.BoolVar('x[%i,%i,%i]' % (i,j,k))\n",
    "\n",
    "# Objective\n",
    "solver.Minimize( solver.Sum(cost[i][j][k] * x[i,j,k] for i in opciones for j in opciones for k in opciones))\n",
    "\n",
    "# Constraints\n",
    "\n",
    "[ solver.Add(solver.Sum(x[i,j,k] for j in opciones for k in opciones) == 1) for i in opciones ]\n",
    "[ solver.Add(solver.Sum(x[i,j,k] for i in opciones for k in opciones) == 1) for j in opciones ]\n",
    "[ solver.Add(solver.Sum(x[i,j,k] for i in opciones for j in opciones) == 1) for k in opciones ]\n",
    "    \n",
    "# resolvemos:  \n",
    "sol = solver.Solve()\n",
    "\n",
    "print('Costo total = ', solver.Objective().Value())\n",
    "print()\n",
    "for i in opciones:\n",
    "    for j in opciones:\n",
    "        for k in opciones:\n",
    "            if x[i,j,k].solution_value() > 0:\n",
    "                print('Prof %d con asignatura %d en aula %d.  Costo = %d' % (i,j,k,cost[i][j][k]))\n",
    "print()\n",
    "print(\"Time = \", solver.WallTime(), \" milliseconds\")"
   ]
  },
  {
   "cell_type": "markdown",
   "metadata": {
    "colab_type": "text",
    "id": "evhjAqqida0W"
   },
   "source": [
    "El modelo del problema de asignación 3-dimensional **planar** es el siguiente. Nótese que **no** es un modelo alternativo para el problema de asignación de profesores, asignatura y aulas. Es el modelo de otro problema diferente. Por eso la solución óptima del modelo anterior y del modelo siguiente no coinciden, ni tienen relación alguna. Si tienes curiosidad por conocer el problema asociado a este otro modelo, te sugiero que estudies el concepto de [Cuadrado Latino](https://es.wikipedia.org/wiki/Cuadrado_latino)."
   ]
  },
  {
   "cell_type": "code",
   "execution_count": 0,
   "metadata": {
    "colab": {},
    "colab_type": "code",
    "id": "g8_VJgId-5D0"
   },
   "outputs": [],
   "source": [
    "import random  \n",
    "dimension = 100\n",
    "opciones  = range(dimension)\n",
    "cost      = [[[random.randint(1,101) for i in opciones] for j in opciones] for k in opciones]\n",
    "\n",
    "!pip install ortools\n",
    "from ortools.linear_solver import pywraplp\n",
    "\n",
    "solver = pywraplp.Solver('3APplanar', pywraplp.Solver.CBC_MIXED_INTEGER_PROGRAMMING)\n",
    "\n",
    "x = {}\n",
    "for i in opciones:\n",
    "    for j in opciones:\n",
    "        for k in opciones:\n",
    "            x[i,j,k] = solver.BoolVar('x[%i,%i,%i]' % (i,j,k))\n",
    "\n",
    "# Objective\n",
    "solver.Minimize(solver.Sum(cost[i][j][k] * x[i,j,k] for i in opciones for j in opciones for k in opciones))\n",
    "\n",
    "# Constraints\n",
    "\n",
    "[ solver.Add(solver.Sum(x[i,j,k] for k in opciones) == 1) for i in opciones for j in opciones ]\n",
    "[ solver.Add(solver.Sum(x[i,j,k] for j in opciones) == 1) for i in opciones for k in opciones ]\n",
    "[ solver.Add(solver.Sum(x[i,j,k] for i in opciones) == 1) for j in opciones for k in opciones ]\n",
    "    \n",
    "# resolvemos:  \n",
    "sol = solver.Solve()\n",
    "\n",
    "print('Costo total = ', solver.Objective().Value())\n",
    "print()\n",
    "for i in opciones:\n",
    "    for j in opciones:\n",
    "        for k in opciones:\n",
    "            if x[i,j,k].solution_value() > 0:\n",
    "                print('Indices: %d  %d  %d.  Costo = %d' % (i,j,k,cost[i][j][k]))\n",
    "print()\n",
    "print(\"Time = \", solver.WallTime(), \" milliseconds\")"
   ]
  },
  {
   "cell_type": "markdown",
   "metadata": {},
   "source": [
    "Para resolverlo con Gurobi:"
   ]
  },
  {
   "cell_type": "code",
   "execution_count": 1,
   "metadata": {},
   "outputs": [
    {
     "name": "stdout",
     "output_type": "stream",
     "text": [
      "Optimize a model with 300 rows, 1000000 columns and 3000000 nonzeros\n",
      "Variable types: 0 continuous, 1000000 integer (1000000 binary)\n",
      "Coefficient statistics:\n",
      "  Matrix range     [1e+00, 1e+00]\n",
      "  Objective range  [1e+00, 1e+02]\n",
      "  Bounds range     [1e+00, 1e+00]\n",
      "  RHS range        [1e+00, 1e+00]\n",
      "Presolve time: 4.54s\n",
      "Presolved: 300 rows, 1000000 columns, 3000000 nonzeros\n",
      "Variable types: 0 continuous, 1000000 integer (1000000 binary)\n",
      "Found heuristic solution: objective 139.0000000\n",
      "Found heuristic solution: objective 5311.0000000\n",
      "\n",
      "Root simplex log...\n",
      "\n",
      "Iteration    Objective       Primal Inf.    Dual Inf.      Time\n",
      "       0    5.0984559e+07   2.999700e+06   0.000000e+00     12s\n",
      "\n",
      "Starting sifting (using dual simplex for sub-problems)...\n",
      "\n",
      "    Iter     Pivots    Primal Obj      Dual Obj        Time\n",
      "       0          0     infinity     -5.0984559e+07     12s\n",
      "       1        300   2.9833590e+12  -4.9984659e+07     12s\n",
      "       2       1130   2.9698380e+12  -4.8994696e+07     13s\n",
      "       3       1829   2.9408040e+12  -4.8014411e+07     13s\n",
      "       4       2722   2.9111581e+12  -4.7044008e+07     13s\n",
      "       5       3376   2.8813531e+12  -4.6083540e+07     13s\n",
      "       6       4180   2.8517492e+12  -4.5132940e+07     13s\n",
      "       7       4866   2.8220882e+12  -4.4192231e+07     13s\n",
      "       8       5433   2.8057983e+12  -4.4191687e+07     14s\n",
      "       9       6009   2.8015173e+12  -4.4191480e+07     14s\n",
      "      10       6559   2.7956193e+12  -4.4191198e+07     14s\n",
      "      11       7108   2.7874053e+12  -4.3261126e+07     15s\n",
      "      12       7660   2.7741543e+12  -4.3260713e+07     15s\n",
      "      13       8274   2.7611314e+12  -4.2340300e+07     15s\n",
      "      14       8831   2.7418294e+12  -4.2339708e+07     16s\n",
      "      15       9422   2.7265955e+12  -4.1429165e+07     16s\n",
      "      16      10038   2.7089765e+12  -4.1428638e+07     16s\n",
      "      17      10604   2.6929026e+12  -4.0528150e+07     17s\n",
      "      18      11156   2.6740147e+12  -4.0527590e+07     17s\n",
      "      19      11709   2.6605807e+12  -3.9637166e+07     17s\n",
      "      20      12286   2.6395568e+12  -3.8756555e+07     18s\n",
      "      21      12843   2.6109069e+12  -3.7885806e+07     18s\n",
      "      22      13394   2.5791341e+12  -3.7024716e+07     18s\n",
      "      23      14024   2.5482492e+12  -3.6173593e+07     19s\n",
      "      24      14698   2.5169414e+12  -3.5332261e+07     19s\n",
      "      25      15248   2.4859846e+12  -3.4501017e+07     19s\n",
      "      26      15799   2.4542628e+12  -3.3679734e+07     20s\n",
      "      27      16406   2.4227540e+12  -3.2868449e+07     20s\n",
      "      28      16987   2.3912512e+12  -3.2066976e+07     20s\n",
      "      29      17560   2.3597424e+12  -3.1275466e+07     21s\n",
      "      30      18098   2.3271927e+12  -3.0493948e+07     21s\n",
      "      31      18730   2.2940459e+12  -2.9722320e+07     21s\n",
      "      32      19281   2.2639202e+12  -2.8960531e+07     22s\n",
      "      33      19858   2.2335694e+12  -2.8208638e+07     22s\n",
      "      34      20433   2.2027747e+12  -2.7466669e+07     22s\n",
      "      35      21015   2.1722800e+12  -2.6734670e+07     23s\n",
      "      36      21601   2.1411853e+12  -2.6012623e+07     23s\n",
      "      37      22166   2.1097186e+12  -2.5300506e+07     23s\n",
      "      38      22741   2.0783989e+12  -2.4598419e+07     24s\n",
      "      39      23391   2.0468003e+12  -2.3906340e+07     24s\n",
      "      40      23969   2.0151836e+12  -2.2552661e+07     24s\n",
      "      41      24544   1.9575273e+12  -2.1889825e+07     25s\n",
      "      42      25108   1.9225897e+12  -2.0595146e+07     25s\n",
      "      43      25675   1.8688814e+12  -1.9339313e+07     25s\n",
      "      44      26230   1.8073942e+12  -1.8122778e+07     26s\n",
      "      45      26785   1.7490660e+12  -1.6945542e+07     26s\n",
      "      46      27337   1.6889769e+12  -1.5807643e+07     26s\n",
      "      47      27909   1.6300668e+12  -1.4708818e+07     27s\n",
      "      48      28462   1.5697767e+12  -1.3649706e+07     27s\n",
      "      49      29024   1.5104827e+12  -1.2629503e+07     27s\n",
      "\n",
      "Sifting complete\n",
      "\n",
      "   29591    4.1802253e+07   2.459754e+06   0.000000e+00     28s\n",
      "   30063    1.0099999e+04   1.766390e+02   0.000000e+00     31s\n",
      "   30255    1.0099999e+04   2.238321e+01   0.000000e+00     36s\n",
      "   30357    1.0100000e+04   0.000000e+00   0.000000e+00     40s\n",
      "\n",
      "Root relaxation: objective 1.010000e+04, 30357 iterations, 27.49 seconds\n",
      "Total elapsed time = 41.71s\n",
      "Total elapsed time = 66.94s\n",
      "\n",
      "    Nodes    |    Current Node    |     Objective Bounds      |     Work\n",
      " Expl Unexpl |  Obj  Depth IntInf | Incumbent    BestBd   Gap | It/Node Time\n",
      "\n",
      "     0     0 10100.0000    0   73 5311.00000 10100.0000  90.2%     -   68s\n",
      "H    0     0                    10092.000000 10100.0000  0.08%     -   72s\n",
      "H    0     0                    10100.000000 10100.0000  0.00%     -   73s\n",
      "\n",
      "Explored 1 nodes (68513 simplex iterations) in 73.77 seconds\n",
      "Thread count was 8 (of 8 available processors)\n",
      "\n",
      "Solution count 4: 10100 10092 5311 139 \n",
      "\n",
      "Optimal solution found (tolerance 1.00e-04)\n",
      "Best objective 1.010000000000e+04, best bound 1.010000000000e+04, gap 0.0000%\n",
      "Optimal  objective value = 10100\n",
      "runtime is  73.79463505744934\n"
     ]
    }
   ],
   "source": [
    "from gurobipy import *\n",
    "import random\n",
    "\n",
    "dimension = 100\n",
    "opciones  = range(dimension)\n",
    "costo = [[[random.randint(1,101) for i in opciones] for j in opciones] for k in opciones]\n",
    "\n",
    "modelo=Model(\"Asignacion3dimensional\")\n",
    "x = {}\n",
    "for i in opciones:\n",
    "    for j in opciones:\n",
    "        for k in opciones:\n",
    "            x[i,j,k] = modelo.addVar(vtype=GRB.BINARY, name=\"x[%i,%i,%i]\" % (i,j,k))\n",
    "\n",
    "modelo.modelSense = GRB.MAXIMIZE\n",
    "modelo.setObjective( quicksum(costo[i][j][k] * x[i,j,k] for i in opciones for j in opciones for k in opciones) )\n",
    "    \n",
    "[ modelo.addConstr( quicksum(x[i,j,k] for j in opciones for k in opciones) == 1 ) for i in opciones ]\n",
    "[ modelo.addConstr( quicksum(x[i,j,k] for i in opciones for k in opciones) == 1 ) for j in opciones ]\n",
    "[ modelo.addConstr( quicksum(x[i,j,k] for i in opciones for j in opciones) == 1 ) for k in opciones ]\n",
    "                    \n",
    "modelo.optimize()\n",
    "                    \n",
    "print('Optimal  objective value = %g' % modelo.objVal)\n",
    "print('runtime is ',modelo.Runtime)"
   ]
  },
  {
   "cell_type": "markdown",
   "metadata": {
    "colab_type": "text",
    "id": "SSP4fbGOxcOv"
   },
   "source": [
    "# Problemas de Transporte"
   ]
  },
  {
   "cell_type": "markdown",
   "metadata": {
    "colab_type": "text",
    "id": "crpjqkFkxkG0"
   },
   "source": [
    "# Problemas de Flujo"
   ]
  },
  {
   "cell_type": "markdown",
   "metadata": {
    "colab_type": "text",
    "id": "ItwkPwAqxsp9"
   },
   "source": [
    "# Problemas de Caminos"
   ]
  },
  {
   "cell_type": "code",
   "execution_count": 0,
   "metadata": {
    "colab": {},
    "colab_type": "code",
    "id": "7JKQTlU5yeIa"
   },
   "outputs": [],
   "source": [
    "import sys\n",
    "import math\n",
    "import random\n",
    "#  genera N puntos para luego resolver el problema sobre estos datos\n",
    "n = 100\n",
    "random.seed(1)\n",
    "points = [(random.randint(0,100),random.randint(0,100)) for i in range(n)]\n",
    "\n",
    "# calculate Euclidean distance and round-towards-zero (truncate)\n",
    "def distance(points, i, j):\n",
    "    dx = points[i][0] - points[j][0]\n",
    "    dy = points[i][1] - points[j][1]\n",
    "    return math.floor(math.sqrt(dx*dx + dy*dy))\n",
    "\n",
    "# Dictionary of Euclidean distance between each pair of points\n",
    "dist = {(i,j) : distance(points,i,j) for i in range(n) for j in range(i)}\n",
    "  \n",
    "\n",
    "from gurobipy import *\n",
    "  \n",
    "m = Model()\n",
    "##############################################################################\n",
    "# inserta tu modelo matemático aqui\n",
    "##############################################################################\n",
    "m.optimize()\n",
    "\n",
    "solution = m.getAttr('x', vars)\n",
    "\n",
    "selected = [(i,j) for i,j in arcs if solution[i,j] > 0.5]\n",
    "print filter(lambda x: x[1]>0, solution.iteritems())\n",
    "\n",
    "print map(lambda (i, j): distance(points, i, j), arcs)\n",
    "\n",
    "print('')\n",
    "print('Optimal path: %s' % str(selected))\n",
    "print('Optimal cost: %g' % m.objVal)\n",
    "print('')\n",
    "\n",
    "import matplotlib.pyplot as plt\n",
    "\n",
    "def plot_path(points, path, style='bo-'):\n",
    "    \"Plot lines to connect a series of points.\"\n",
    "    plt.plot(map(lambda x: x[1][0], points.iteritems()), map(lambda x: x[1][1], points.iteritems()), 'bo')\n",
    "    target = str(len(points))\n",
    "    plt.plot([points['1'][0],points[target][0]],[points['1'][1],points[target][1]], 'rs')\n",
    "    plt.plot(map(lambda x: (points[x[0]][0],points[x[1]][0]), path), \n",
    "             map(lambda x: (points[x[0]][1],points[x[1]][1]), path), 'b-')\n",
    "    plt.axis('scaled'); plt.axis('off')\n",
    "    plt.show()\n",
    "\n",
    "print points, selected\n",
    "plot_path(points, selected)"
   ]
  },
  {
   "cell_type": "markdown",
   "metadata": {
    "colab_type": "text",
    "id": "AmJHLuWKxxO9"
   },
   "source": [
    "# Problema del Viajante de Comercio"
   ]
  },
  {
   "cell_type": "markdown",
   "metadata": {},
   "source": [
    "Modelo para el problema del TSP asimétrico con potenciales:"
   ]
  },
  {
   "cell_type": "code",
   "execution_count": 4,
   "metadata": {},
   "outputs": [
    {
     "name": "stdout",
     "output_type": "stream",
     "text": [
      "Requirement already satisfied: ortools in /opt/conda/lib/python3.6/site-packages (6.9.5824)\n",
      "Requirement already satisfied: six>=1.10 in /opt/conda/lib/python3.6/site-packages (from ortools) (1.11.0)\n",
      "Requirement already satisfied: protobuf>=3.6.1 in /opt/conda/lib/python3.6/site-packages (from ortools) (3.6.1)\n",
      "Requirement already satisfied: setuptools in /opt/conda/lib/python3.6/site-packages (from protobuf>=3.6.1->ortools) (40.6.2)\n",
      "Distancia total de la ruta =  199.0 Kilometros\n",
      "Ruta de mínima distancia:\n",
      "De la ciudad 0 a la ciudad 3.  Distancia = 11 Km\n",
      "De la ciudad 1 a la ciudad 10.  Distancia = 18 Km\n",
      "De la ciudad 2 a la ciudad 4.  Distancia = 3 Km\n",
      "De la ciudad 3 a la ciudad 6.  Distancia = 12 Km\n",
      "De la ciudad 4 a la ciudad 7.  Distancia = 17 Km\n",
      "De la ciudad 5 a la ciudad 2.  Distancia = 11 Km\n",
      "De la ciudad 6 a la ciudad 18.  Distancia = 8 Km\n",
      "De la ciudad 7 a la ciudad 0.  Distancia = 12 Km\n",
      "De la ciudad 8 a la ciudad 16.  Distancia = 3 Km\n",
      "De la ciudad 9 a la ciudad 14.  Distancia = 1 Km\n",
      "De la ciudad 10 a la ciudad 8.  Distancia = 9 Km\n",
      "De la ciudad 11 a la ciudad 19.  Distancia = 5 Km\n",
      "De la ciudad 12 a la ciudad 13.  Distancia = 15 Km\n",
      "De la ciudad 13 a la ciudad 11.  Distancia = 1 Km\n",
      "De la ciudad 14 a la ciudad 5.  Distancia = 27 Km\n",
      "De la ciudad 15 a la ciudad 12.  Distancia = 2 Km\n",
      "De la ciudad 16 a la ciudad 15.  Distancia = 19 Km\n",
      "De la ciudad 17 a la ciudad 9.  Distancia = 15 Km\n",
      "De la ciudad 18 a la ciudad 1.  Distancia = 6 Km\n",
      "De la ciudad 19 a la ciudad 17.  Distancia = 4 Km\n"
     ]
    }
   ],
   "source": [
    "import random\n",
    "dimension= 20\n",
    "todos = range(dimension)\n",
    "otros = range(1,dimension)\n",
    "DIST= [[random.randint(1,101) for i in todos] for j in todos] \n",
    "\n",
    "!pip install ortools\n",
    "from ortools.linear_solver import pywraplp\n",
    "\n",
    "solver = pywraplp.Solver('ATSP', pywraplp.Solver.CBC_MIXED_INTEGER_PROGRAMMING)\n",
    "\n",
    "x = {}\n",
    "for i in todos:\n",
    "    for j in todos:\n",
    "        if i!=j:\n",
    "           x[i,j] = solver.BoolVar('x[%i,%i]' % (i,j))\n",
    "u = {}\n",
    "for i in otros:\n",
    "    u[i] = solver.IntVar(0.0, solver.infinity(), 'u[%i]' % i)  \n",
    "\n",
    "solver.Minimize(solver.Sum( DIST[i][j]*x[i,j] for i in todos for j in todos if i!=j ))\n",
    "    \n",
    "[ solver.Add(  solver.Sum(x[i,j] for j in todos if i!=j) == 1  )  for i in todos ]\n",
    "[ solver.Add(  solver.Sum(x[j,i] for j in todos if i!=j) == 1  )  for i in todos ]\n",
    "[ solver.Add(  u[j] >= u[i] + x[i,j] - (dimension-2)*(1-x[i,j]) + (dimension-3)*x[j,i]   ) for i in otros for j in otros if j!=i ]\n",
    "        \n",
    "solver.Solve()\n",
    "print('Distancia total de la ruta = ', solver.Objective().Value(),'Kilometros')\n",
    "print('Ruta de mínima distancia:')\n",
    "for i in todos:\n",
    "    for j in todos:\n",
    "        if i!=j:\n",
    "            if x[i,j].solution_value() > 0.5 :\n",
    "                print('De la ciudad %d a la ciudad %d.  Distancia = %d Km'  % (i,j,DIST[i][j]))"
   ]
  },
  {
   "cell_type": "markdown",
   "metadata": {
    "colab_type": "text",
    "id": "JHIxTOE14SvG"
   },
   "source": [
    "Modelo asimétrico, es decir, con una variable para $(i,j)$ y otra para $(j,i)$"
   ]
  },
  {
   "cell_type": "code",
   "execution_count": null,
   "metadata": {},
   "outputs": [],
   "source": [
    "n = 100\n",
    "random.seed(1)\n",
    "points = [(random.randint(0,100),random.randint(0,100)) for i in range(n)]\n",
    "\n",
    "# calculate Euclidean distance and round-towards-zero (truncate)\n",
    "def distance(points, i, j):\n",
    "    dx = points[i][0] - points[j][0]\n",
    "    dy = points[i][1] - points[j][1]\n",
    "    return math.floor(math.sqrt(dx*dx + dy*dy))\n",
    "\n",
    "# Dictionary of Euclidean distance between each pair of points\n",
    "dist = {(i,j) : distance(points,i,j) for i in range(n) for j in range(n) if i!=j }"
   ]
  },
  {
   "cell_type": "code",
   "execution_count": 0,
   "metadata": {
    "colab": {},
    "colab_type": "code",
    "id": "bCzbWiTa4Q_O"
   },
   "outputs": [],
   "source": [
    "import itertools\n",
    "from gurobipy import *\n",
    "\n",
    "# Callback: detectando subtours en soluciones enteras\n",
    "\n",
    "def subtourelim(model, where):\n",
    "    if where == GRB.Callback.MIPSOL:\n",
    "        # creamos el grafo soporte con los arcos que tienen variables positivas\n",
    "        vals = model.cbGetSolution(model._vars)\n",
    "        selected = tuplelist((i,j) for i,j in model._vars.keys() if vals[i,j] > 0.5)\n",
    "        # find the shortest cycle in the selected edge list\n",
    "        tour = subtour(selected)\n",
    "        if len(tour) < n:\n",
    "#            print(\"nuevo subtour de \",len(tour),\" nodos detectado\")\n",
    "            model.cbLazy( quicksum(model._vars[i,j]+model._vars[j,i] for i,j in itertools.combinations(tour, 2)) <= len(tour)-1 )\n",
    "\n",
    "\n",
    "# Given a tuplelist of edges, find the shortest subtour\n",
    "\n",
    "def subtour(edges):\n",
    "    unvisited = list(range(n))\n",
    "    cycle = range(n+1) # initial length has 1 more city\n",
    "    while unvisited: # true if list is non-empty\n",
    "        thiscycle = []\n",
    "        neighbors = unvisited\n",
    "        while neighbors:\n",
    "            current = neighbors[0]\n",
    "            thiscycle.append(current)\n",
    "            unvisited.remove(current)\n",
    "            neighbors = [j for i,j in edges.select(current,'*') if j in unvisited]\n",
    "        if len(cycle) > len(thiscycle):\n",
    "            cycle = thiscycle\n",
    "    return cycle\n",
    "\n",
    "# función principal\n",
    "\n",
    "m = Model()\n",
    "\n",
    "vars = m.addVars( dist.keys() , obj=dist, vtype=GRB.BINARY, name='a[%d,%d]'%(i,j))\n",
    "\n",
    "m.addConstrs(vars.sum(i,'*') == 1 for i in range(n))\n",
    "m.addConstrs(vars.sum('*',i) == 1 for i in range(n))\n",
    "\n",
    "m._vars = vars\n",
    "m.Params.lazyConstraints = 1\n",
    "m.optimize(subtourelim)\n",
    "\n",
    "vals = m.getAttr('x', vars)\n",
    "selected = tuplelist((i,j) for i,j in vals.keys() if vals[i,j] > 0.5)\n",
    "\n",
    "tour = subtour(selected)\n",
    "assert len(tour) == n\n",
    "\n",
    "print('')\n",
    "print('Optimal tour: %s' % str(tour))\n",
    "print('Optimal cost: %g' % m.objVal)\n",
    "print('')"
   ]
  },
  {
   "cell_type": "markdown",
   "metadata": {
    "colab_type": "text",
    "id": "SxM4poRP4cGL"
   },
   "source": [
    "El mismo modelo pero ahora aprovechando que la matriz de costos es simétrica al ser generadas con distancias Euclídeas, y por tanto con una variable $\\{i,j\\}$ en lugar de dos variables por pareja de nodos. Esto permite trabajar con la mitad de las variables y termina antes, pero resta generalidad porque con este modelo reducido no podremos resolver ejemplos asimétricos."
   ]
  },
  {
   "cell_type": "code",
   "execution_count": null,
   "metadata": {},
   "outputs": [],
   "source": [
    "n = 100\n",
    "random.seed(1)\n",
    "points = [(random.randint(0,100),random.randint(0,100)) for i in range(n)]\n",
    "\n",
    "# calculate Euclidean distance and round-towards-zero (truncate)\n",
    "def distance(points, i, j):\n",
    "    dx = points[i][0] - points[j][0]\n",
    "    dy = points[i][1] - points[j][1]\n",
    "    return math.floor(math.sqrt(dx*dx + dy*dy))\n",
    "\n",
    "# Dictionary of Euclidean distance between each pair of points\n",
    "dist = {(i,j) : distance(points,i,j) for i in range(n) for j in range(n) if i!=j }"
   ]
  },
  {
   "cell_type": "code",
   "execution_count": 0,
   "metadata": {
    "colab": {},
    "colab_type": "code",
    "id": "Snam4hT453Ng"
   },
   "outputs": [],
   "source": [
    "import sys\n",
    "import math\n",
    "import random\n",
    "import itertools\n",
    "from gurobipy import *\n",
    "\n",
    "# Callback: detectando subtours en soluciones enteras\n",
    "\n",
    "def subtourelim(model, where):\n",
    "    if where == GRB.Callback.MIPSOL:\n",
    "        # creamos el grafo soporte con los arcos que tienen variables positivas\n",
    "        vals = model.cbGetSolution(model._vars)\n",
    "        selected = tuplelist((i,j) for i,j in model._vars.keys() if vals[i,j] > 0.5)\n",
    "        # find the shortest cycle in the selected edge list\n",
    "        tour = subtour(selected)\n",
    "        if len(tour) < n:\n",
    "            print(\"nuevo subtour de \",len(tour),\" nodos detectado\")\n",
    "            model.cbLazy( quicksum(model._vars[i,j] for i,j in itertools.combinations(tour, 2)) <= len(tour)-1 )\n",
    "\n",
    "\n",
    "# Given a tuplelist of edges, find the shortest subtour\n",
    "\n",
    "def subtour(edges):\n",
    "    unvisited = list(range(n))\n",
    "    cycle = range(n+1) # initial length has 1 more city\n",
    "    while unvisited: # true if list is non-empty\n",
    "        thiscycle = []\n",
    "        neighbors = unvisited\n",
    "        while neighbors:\n",
    "            current = neighbors[0]\n",
    "            thiscycle.append(current)\n",
    "            unvisited.remove(current)\n",
    "            neighbors = [j for i,j in edges.select(current,'*') if j in unvisited]\n",
    "        if len(cycle) > len(thiscycle):\n",
    "            cycle = thiscycle\n",
    "    return cycle\n",
    "\n",
    "# función principal\n",
    "\n",
    "m = Model()\n",
    "\n",
    "vars = m.addVars(dist.keys(), obj=dist, vtype=GRB.BINARY, name='e[%d,%d]'%(i,j))\n",
    "for i,j in vars.keys():\n",
    "    vars[j,i] = vars[i,j] # edge in opposite direction\n",
    "\n",
    "m.addConstrs(vars.sum(i,'*') == 2 for i in range(n))\n",
    "\n",
    "m._vars = vars\n",
    "m.Params.lazyConstraints = 1\n",
    "m.optimize(subtourelim)\n",
    "\n",
    "vals = m.getAttr('x', vars)\n",
    "selected = tuplelist((i,j) for i,j in vals.keys() if vals[i,j] > 0.5)\n",
    "\n",
    "tour = subtour(selected)\n",
    "assert len(tour) == n\n",
    "\n",
    "print('')\n",
    "print('Optimal tour: %s' % str(tour))\n",
    "print('Optimal cost: %g' % m.objVal)\n",
    "print('')"
   ]
  },
  {
   "cell_type": "markdown",
   "metadata": {
    "colab_type": "text",
    "id": "rAFCG-i_x1M1"
   },
   "source": [
    "# Problemas de Rutas de Vehículos"
   ]
  },
  {
   "cell_type": "markdown",
   "metadata": {
    "colab_type": "text",
    "id": "VkPz1mdnbNyB"
   },
   "source": [
    "# Ejemplos con GUROBI"
   ]
  },
  {
   "cell_type": "markdown",
   "metadata": {
    "colab_type": "text",
    "id": "9q2_AKW-iXC8"
   },
   "source": [
    "Para terminar te presento el modelo axial pero en el lenguaje de Gurobi, que es comercial y no podrás ejecutarlo sin licencia:\n",
    "\n"
   ]
  }
 ],
 "metadata": {
  "colab": {
   "collapsed_sections": [],
   "include_colab_link": true,
   "name": "logistica.ipynb",
   "provenance": [],
   "toc_visible": true,
   "version": "0.3.2"
  },
  "kernelspec": {
   "display_name": "Python 3",
   "language": "python",
   "name": "python3"
  },
  "language_info": {
   "codemirror_mode": {
    "name": "ipython",
    "version": 3
   },
   "file_extension": ".py",
   "mimetype": "text/x-python",
   "name": "python",
   "nbconvert_exporter": "python",
   "pygments_lexer": "ipython3",
   "version": "3.6.6"
  }
 },
 "nbformat": 4,
 "nbformat_minor": 1
}
