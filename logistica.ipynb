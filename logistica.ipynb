{
 "cells": [
  {
   "cell_type": "markdown",
   "metadata": {
    "colab_type": "text",
    "id": "view-in-github"
   },
   "source": [
    "<a href=\"https://colab.research.google.com/github/jjsalaza/Ingenieria-Logistica-ULL/blob/master/logistica.ipynb\" target=\"_parent\"><img src=\"https://colab.research.google.com/assets/colab-badge.svg\" alt=\"Open In Colab\"/></a>"
   ]
  },
  {
   "cell_type": "markdown",
   "metadata": {
    "colab_type": "text",
    "id": "11DXYsXAo6Oe"
   },
   "source": [
    "# Ingeniería Logística, Grado de Informática, Universidad de La Laguna\n",
    "---\n",
    "\n"
   ]
  },
  {
   "cell_type": "markdown",
   "metadata": {
    "colab_type": "text",
    "id": "dUf6bpwqw-su"
   },
   "source": [
    "# Introducción"
   ]
  },
  {
   "cell_type": "markdown",
   "metadata": {
    "colab_type": "text",
    "id": "TdkhAmqKpWfu"
   },
   "source": [
    "Principalmente aprendemos a representar problemas reales mediante modelos matemáticos de programación lineal (continua o entera), es decir, del tipo $\\max\\{ c^Tx: Ax\\leq b, x\\in Z^n\\}$. Luego estos modelos matemáticos serán resueltos mediante herramientas informáticas especializadas, como [Cplex](https://www.ibm.com/analytics/cplex-optimizer), [Xpress](http://www.fico.com/es/products/fico-xpress-optimization), Gurobi, SCIP, GLKP, CBC, GLOP, etc. Aunque dedicamos algo a comprender las metodologías implementadas en estas herramientas, principalmente la asignatura insistirá en la modelización de problemas.\n"
   ]
  },
  {
   "cell_type": "markdown",
   "metadata": {
    "colab_type": "text",
    "id": "MFmhocZHtxbD"
   },
   "source": [
    "Un ejemplo de modelo matemático es:\n",
    "\\begin{eqnarray}\n",
    "\\max\\;\\; x+10y& & \\\\\n",
    "x+7y&\\leq& 17.5  \\\\\n",
    "x &\\leq& 3.5  \\\\\n",
    "x,y&\\in& Z\n",
    "\\end{eqnarray}"
   ]
  },
  {
   "cell_type": "markdown",
   "metadata": {
    "colab_type": "text",
    "id": "OfPsh4ymVjwq"
   },
   "source": [
    "A fín de no complicarnos con la instalación de licencias comerciales, usamos una librería de optimización de software libre que permite ser llamada desde Python y que ha sideo desarrollada en el proyecto [COIN-OR](https://www.coin-or.org/). Se llama CBC. Además en este mismo proyecto existe un lenguaje que amplía el Python y se llama [PuLP](https://www.coin-or.org/PuLP/). Usando este lenguaje el modelo anterior se resuelve mediante:\n"
   ]
  },
  {
   "cell_type": "code",
   "execution_count": 1,
   "metadata": {
    "colab": {},
    "colab_type": "code",
    "id": "WAsnbunBNetP"
   },
   "outputs": [
    {
     "name": "stdout",
     "output_type": "stream",
     "text": [
      "Requirement already satisfied: pulp in c:\\programdata\\anaconda3\\lib\\site-packages (1.6.9)\n",
      "Requirement already satisfied: pyparsing>=2.0.1 in c:\\programdata\\anaconda3\\lib\\site-packages (from pulp) (2.2.0)\n",
      "Status =  Optimal\n",
      "Optimal objective value =  23.0\n",
      "  X =  3.0\n",
      "  Y =  2.0\n"
     ]
    }
   ],
   "source": [
    "!pip install pulp\n",
    "from pulp import *\n",
    "\n",
    "prob = LpProblem(\"MiPrimerProblemaEntero\", LpMaximize)\n",
    "X = LpVariable(\"X\", 0, None,cat='Integer')\n",
    "Y = LpVariable(\"Y\", 0, None,cat='Integer')\n",
    "prob += X + 10 * Y\n",
    "prob += X + 7 * Y <= 17.5\n",
    "prob += X <= 3.5\n",
    "\n",
    "prob.solve()\n",
    "\n",
    "print(\"Status = \", LpStatus[prob.status])\n",
    "print(\"Optimal objective value = \", value(prob.objective))\n",
    "print(\"  X = \", X.varValue)\n",
    "print(\"  Y = \", Y.varValue)\n",
    "# prob.writeLP(\"modelo.lp\")\n",
    "# print(prob)"
   ]
  },
  {
   "cell_type": "markdown",
   "metadata": {
    "colab_type": "text",
    "id": "44KbU8Rwh48t"
   },
   "source": [
    "En este lenguaje PuLP podemos usar varias librerias de optimización. Por defecto usa la de COIN-or. Pero podemos elegir otras usando por ejemplo:\n",
    "\\begin{verbatim}\n",
    "if liberia == \"GUROBI\":\n",
    "\t\t\tprob.solve(GUROBI(TimeLimit=60,msg=1))\n",
    "\t\telif libreria == \"CBC\":\n",
    "\t\t\tprob.solve(PULP_CBC_CMD(msg=1,maxSeconds=60,options=[\"rens\",\"on\",\"local\",\"on\"]))\n",
    "\t\telse:\n",
    "\t\t\tprint( libreria + \" solver doesn't exists\")\n",
    "\t\t\tquit()\n",
    "\\end{verbatim}\n",
    "En este sentido parece un legunaje ideal, pero hay que tener en cuenta que algunas librerías ofrecen funciones no disponibles en otras librerias (por ejemplo, callback functions) con lo que igual tampoco PuLP es tan ideal."
   ]
  },
  {
   "cell_type": "markdown",
   "metadata": {
    "colab_type": "text",
    "id": "MIizVvLKNg1E"
   },
   "source": [
    "Otra alternativa es usar la nueva herramienta gratuita (¡por ahora!) de Google llamada [OR-tools](https://developers.google.com/optimization/). Ni PuLP ni OR-tools son librerías de optimización, sino extensiones del lenguaje Python para escribir cómodamente modelos matemáticos de Programación Lineal (Entera o Continua) que luego pueden ser resueltas con cualquiera de las librerias citadas (CBC, Cplex, Gurobi,...). Actuan como puente entre quien desea resolver un modelo y quien lo resuelve. Muy cómodo. Muy recomendable. La opción de Google es:"
   ]
  },
  {
   "cell_type": "code",
   "execution_count": 2,
   "metadata": {
    "colab": {},
    "colab_type": "code",
    "id": "QeXiQgwYjfHB"
   },
   "outputs": [
    {
     "name": "stdout",
     "output_type": "stream",
     "text": [
      "Requirement already satisfied: ortools in c:\\programdata\\anaconda3\\lib\\site-packages (6.9.5824)\n",
      "Requirement already satisfied: protobuf>=3.6.1 in c:\\programdata\\anaconda3\\lib\\site-packages (from ortools) (3.6.1)\n",
      "Requirement already satisfied: six>=1.10 in c:\\programdata\\anaconda3\\lib\\site-packages (from ortools) (1.11.0)\n",
      "Requirement already satisfied: setuptools in c:\\programdata\\anaconda3\\lib\\site-packages (from protobuf>=3.6.1->ortools) (40.2.0)\n"
     ]
    }
   ],
   "source": [
    "!pip install ortools\n",
    "from ortools.linear_solver import pywraplp"
   ]
  },
  {
   "cell_type": "markdown",
   "metadata": {
    "colab_type": "text",
    "id": "exS1-MmaTrti"
   },
   "source": [
    "Tenemos dos modos de escribir los detalles del modelo. O bien coeficiente a coeficiente, o bien fila a fila. Mostramos a continuación ambos:"
   ]
  },
  {
   "cell_type": "code",
   "execution_count": 3,
   "metadata": {
    "colab": {},
    "colab_type": "code",
    "id": "4t3pdCAiUIf5"
   },
   "outputs": [
    {
     "name": "stdout",
     "output_type": "stream",
     "text": [
      "Number of variables = 2\n",
      "Number of constraints = 2\n",
      "Optimal objective value = 23\n",
      "   x = 3\n",
      "   y = 2\n"
     ]
    }
   ],
   "source": [
    "solver = pywraplp.Solver('MiPrimerProblemaEntero',\n",
    "                           pywraplp.Solver.CBC_MIXED_INTEGER_PROGRAMMING)\n",
    "\n",
    "# x and y are integer non-negative variables.\n",
    "x = solver.IntVar(0.0, solver.infinity(), 'x')\n",
    "y = solver.IntVar(0.0, solver.infinity(), 'y')\n",
    "\n",
    "solver.Maximize(x + 10 * y)\n",
    "solver.Add( x + 7 * y <= 17.5 )\n",
    "solver.Add( x <= 7.5 )  \n",
    "\n",
    "\"\"\"Solve the problem and print the solution.\"\"\"\n",
    "result_status = solver.Solve()\n",
    "# The problem has an optimal solution.\n",
    "assert result_status == pywraplp.Solver.OPTIMAL\n",
    "  \n",
    "print('Number of variables =', solver.NumVariables())\n",
    "print('Number of constraints =', solver.NumConstraints())\n",
    "print('Optimal objective value = %d' % solver.Objective().Value())\n",
    "  \n",
    "# The value of each variable in the solution.\n",
    "variable_list = [x, y]\n",
    "for variable in variable_list:\n",
    "    print('   %s = %d' % (variable.name(), variable.solution_value()))"
   ]
  },
  {
   "cell_type": "code",
   "execution_count": 4,
   "metadata": {
    "colab": {},
    "colab_type": "code",
    "id": "jdl-TK8cVVbW"
   },
   "outputs": [
    {
     "name": "stdout",
     "output_type": "stream",
     "text": [
      "Number of variables = 2\n",
      "Number of constraints = 2\n",
      "Optimal objective value = 23\n",
      "   x = 3\n",
      "   y = 2\n"
     ]
    }
   ],
   "source": [
    "solver = pywraplp.Solver('MiPrimerProblemaEntero',\n",
    "                           pywraplp.Solver.CBC_MIXED_INTEGER_PROGRAMMING)\n",
    "\n",
    "# x and y are integer non-negative variables.\n",
    "x = solver.IntVar(0.0, solver.infinity(), 'x')\n",
    "y = solver.IntVar(0.0, solver.infinity(), 'y')\n",
    "\n",
    "# x + 7 * y <= 17.5\n",
    "constraint1 = solver.Constraint(-solver.infinity(), 17.5)\n",
    "constraint1.SetCoefficient(x, 1)\n",
    "constraint1.SetCoefficient(y, 7)\n",
    "\n",
    "# x <= 3.5\n",
    "constraint2 = solver.Constraint(-solver.infinity(), 3.5)\n",
    "constraint2.SetCoefficient(x, 1)\n",
    "constraint2.SetCoefficient(y, 0)\n",
    "\n",
    "# Maximize x + 10 * y.\n",
    "objective = solver.Objective()\n",
    "objective.SetCoefficient(x, 1)\n",
    "objective.SetCoefficient(y, 10)\n",
    "objective.SetMaximization()\n",
    "\n",
    "\"\"\"Solve the problem and print the solution.\"\"\"\n",
    "result_status = solver.Solve()\n",
    "# The problem has an optimal solution.\n",
    "assert result_status == pywraplp.Solver.OPTIMAL\n",
    "  \n",
    "print('Number of variables =', solver.NumVariables())\n",
    "print('Number of constraints =', solver.NumConstraints())\n",
    "print('Optimal objective value = %d' % solver.Objective().Value())\n",
    "  \n",
    "# The value of each variable in the solution.\n",
    "variable_list = [x, y]\n",
    "for variable in variable_list:\n",
    "    print('   %s = %d' % (variable.name(), variable.solution_value()))"
   ]
  },
  {
   "cell_type": "markdown",
   "metadata": {
    "colab_type": "text",
    "id": "LmkB1X811j-B"
   },
   "source": [
    "El anterior ejemplo fue un modelo muy pequeño, con tan sólo 2 variables y 2 restricciones. Son ejemplo numéricos diminutos de nulo interés práctico. En la práctica se plantean problemas más complejos que necesitan ser representado mediante modelos con más variables y restricciones, y en consecuencia donde notación abreviada ayuda a entenderlos mejor y reducir la posibilidad de cometer errores al introducirlos en un ordenador. Veamos un ejemplo de problema mayor en la siguiente sección."
   ]
  },
  {
   "cell_type": "markdown",
   "metadata": {},
   "source": [
    "Pero incluso los modelos de programación entera pequeños pueden ser muy difíciles. Aqui lo mostramos con uno con 3 variables:"
   ]
  },
  {
   "cell_type": "code",
   "execution_count": 5,
   "metadata": {
    "colab": {},
    "colab_type": "code",
    "id": "utgI4m4javL6"
   },
   "outputs": [
    {
     "name": "stdout",
     "output_type": "stream",
     "text": [
      " Finalizó sin optimo : status =  6\n",
      "Time =  60158  milliseconds\n",
      "Iterations =  1496331\n",
      "Nodes =  2240707\n"
     ]
    }
   ],
   "source": [
    "solver = pywraplp.Solver('ProblemaEnteroDificil',  pywraplp.Solver.CBC_MIXED_INTEGER_PROGRAMMING )\n",
    "\n",
    "x = solver.IntVar(0.0, solver.infinity(), 'x')\n",
    "y = solver.IntVar(0.0, solver.infinity(), 'y')\n",
    "z = solver.IntVar(0.0, solver.infinity(), 'z')\n",
    "\n",
    "solver.SetTimeLimit( 60 * 1000 )   # le ponemos un tiempo límite de 60 segundos para no calentar el ordenador\n",
    "\n",
    "solver.Minimize(x)\n",
    "solver.Add( 75001 * y + 75002 * z == 75000 + 75000 * x )\n",
    "result_status = solver.Solve()\n",
    "\n",
    "if result_status == pywraplp.Solver.OPTIMAL:\n",
    "  \n",
    "    print('Number of variables =', solver.NumVariables())\n",
    "    print('Number of constraints =', solver.NumConstraints())\n",
    "    print('Optimal objective value = %d' % solver.Objective().Value())\n",
    "  \n",
    "    variable_list = [x, y, z]\n",
    "    for variable in variable_list:\n",
    "         print('   %s = %d' % (variable.name(), variable.solution_value()))\n",
    "else:\n",
    "    print(' Finalizó sin optimo : status = ',result_status)\n",
    "    \n",
    "print(\"Time = \", solver.WallTime(), \" milliseconds\")\n",
    "print(\"Iterations = \", solver.Iterations())\n",
    "print(\"Nodes = \", solver.nodes())"
   ]
  },
  {
   "cell_type": "markdown",
   "metadata": {},
   "source": [
    "Mismo problema con Gurobi, aunque no te funcionará si no tienes la licencia apropiada en tu máquina:"
   ]
  },
  {
   "cell_type": "code",
   "execution_count": 6,
   "metadata": {
    "colab": {},
    "colab_type": "code",
    "id": "NZGxNeWvad4a"
   },
   "outputs": [
    {
     "name": "stdout",
     "output_type": "stream",
     "text": [
      "Academic license - for non-commercial use only\n",
      "Optimize a model with 1 rows, 3 columns and 3 nonzeros\n",
      "Variable types: 0 continuous, 3 integer (0 binary)\n",
      "Coefficient statistics:\n",
      "  Matrix range     [8e+04, 8e+04]\n",
      "  Objective range  [1e+00, 1e+00]\n",
      "  Bounds range     [0e+00, 0e+00]\n",
      "  RHS range        [8e+04, 8e+04]\n",
      "Presolve removed 1 rows and 3 columns\n",
      "Presolve time: 0.00s\n",
      "Presolve: All rows and columns removed\n",
      "\n",
      "Explored 0 nodes (0 simplex iterations) in 0.01 seconds\n",
      "Thread count was 1 (of 8 available processors)\n",
      "\n",
      "Solution count 1: 37500 \n",
      "\n",
      "Optimal solution found (tolerance 1.00e-04)\n",
      "Best objective 3.750000000000e+04, best bound 3.750000000000e+04, gap 0.0000%\n",
      "Optimal  objective value = 37500\n",
      "  x = 37500\n",
      "  y = 0\n",
      "  z = 37500\n",
      "runtime is  0.010992050170898438\n"
     ]
    }
   ],
   "source": [
    "from gurobipy import *\n",
    "\n",
    "modelo = Model(\"ProblemaEnteroDificil\")\n",
    "\n",
    "x = modelo.addVar(vtype=GRB.INTEGER, name=\"x\")\n",
    "y = modelo.addVar(vtype=GRB.INTEGER, name=\"y\")\n",
    "z = modelo.addVar(vtype=GRB.INTEGER, name=\"z\")\n",
    "\n",
    "modelo.setObjective(x, GRB.MINIMIZE)\n",
    "modelo.addConstr( 75001 * y + 75002 * z == 75000 + 75000 * x , \"c0\")\n",
    "modelo.optimize()\n",
    "\n",
    "print('Optimal  objective value = %g' % modelo.objVal)\n",
    "for variable in modelo.getVars():\n",
    "    print('  %s = %g' % (variable.varName, variable.x))\n",
    "print('runtime is ',modelo.Runtime)"
   ]
  },
  {
   "cell_type": "markdown",
   "metadata": {
    "colab_type": "text",
    "id": "8rbIq5skxSIX"
   },
   "source": [
    "# Problemas de Asignación"
   ]
  },
  {
   "cell_type": "markdown",
   "metadata": {
    "colab_type": "text",
    "id": "EPckcxHY2xUf"
   },
   "source": [
    "Imaginemos tener 6 trabajadores y 4 tareas, y conocer el costo de $c_{ij}$ de que el trabajador $i$ esté asignado a la tarea $j$. Se busca asignar un trabajador a cada tarea, y que ningún trabajador esté asignado a más de una máquina, de manera que el coste total sea lo menor posible.\n"
   ]
  },
  {
   "cell_type": "code",
   "execution_count": 7,
   "metadata": {
    "colab": {},
    "colab_type": "code",
    "id": "xtr_eIrrkrII"
   },
   "outputs": [],
   "source": [
    "cost  =  [[90, 76, 75, 70],\n",
    "          [35, 85, 55, 65],\n",
    "          [125, 95, 90, 105],\n",
    "          [45, 110, 95, 115],\n",
    "          [60, 105, 80, 75],\n",
    "          [45, 65, 110, 95]]\n",
    "num_workers = len(cost)\n",
    "num_tasks   = len(cost[1])"
   ]
  },
  {
   "cell_type": "code",
   "execution_count": 8,
   "metadata": {
    "colab": {},
    "colab_type": "code",
    "id": "cQ8-xexGJKfc"
   },
   "outputs": [
    {
     "name": "stdout",
     "output_type": "stream",
     "text": [
      "Costo total =  235.0\n",
      "\n",
      "Trabajador 0 asignado a la tarea 3.  Costo = 70\n",
      "Trabajador 1 asignado a la tarea 2.  Costo = 55\n",
      "Trabajador 3 asignado a la tarea 0.  Costo = 45\n",
      "Trabajador 5 asignado a la tarea 1.  Costo = 65\n",
      "\n",
      "Time =  0.009 seconds\n"
     ]
    }
   ],
   "source": [
    "solver = pywraplp.Solver('ProblemaAsignacion2dimensional',\n",
    "                           pywraplp.Solver.CBC_MIXED_INTEGER_PROGRAMMING)\n",
    "\n",
    "x = {}\n",
    "for i in range(num_workers):\n",
    "    for j in range(num_tasks):\n",
    "        x[i, j] = solver.BoolVar('x[%i,%i]' % (i, j))\n",
    "\n",
    "solver.Minimize(solver.Sum(cost[i][j] * x[i,j] for i in range(num_workers) for j in range(num_tasks)))\n",
    "\n",
    "for i in range(num_workers):\n",
    "    solver.Add(solver.Sum(x[i, j] for j in range(num_tasks)) <= 1)\n",
    "\n",
    "for j in range(num_tasks):\n",
    "    solver.Add(solver.Sum(x[i, j] for i in range(num_workers)) == 1)\n",
    "\n",
    "solver.Solve()\n",
    "\n",
    "print('Costo total = ', solver.Objective().Value())\n",
    "print()\n",
    "for i in range(num_workers):\n",
    "    for j in range(num_tasks):\n",
    "        if x[i, j].solution_value() > 0:\n",
    "            print('Trabajador %d asignado a la tarea %d.  Costo = %d' % (i,j,cost[i][j]))\n",
    "print()\n",
    "print(\"Time = \", solver.WallTime()/1000, \"seconds\")"
   ]
  },
  {
   "cell_type": "markdown",
   "metadata": {
    "colab_type": "text",
    "id": "VUCKuDfB5VNf"
   },
   "source": [
    "Si los trabajadores estuviesen en dos equipos, por ejemplo, pares e impares, la solución optima obtenida usa más trabajadores de un equipo que del otro. Podría tener sentido que el problema real también desee una solución donde se eligan exactamente 2 trabajadores de cada equipo. Para ello hay que introducir nuevas restricciones en el modelo matemático:"
   ]
  },
  {
   "cell_type": "code",
   "execution_count": 9,
   "metadata": {
    "colab": {},
    "colab_type": "code",
    "id": "LJLBepm44aAX"
   },
   "outputs": [
    {
     "name": "stdout",
     "output_type": "stream",
     "text": [
      "Costo total =  250.0\n",
      "Trabajador 0 asignado a la tarea 2.  Costo = 75\n",
      "Trabajador 1 asignado a la tarea 0.  Costo = 35\n",
      "Trabajador 4 asignado a la tarea 3.  Costo = 75\n",
      "Trabajador 5 asignado a la tarea 1.  Costo = 65\n"
     ]
    }
   ],
   "source": [
    "team1 = [0, 2, 4]\n",
    "team2 = [1, 3, 5]\n",
    "\n",
    "solver.Add(solver.Sum(x[i, j] for i in team1 for j in range(num_tasks)) <= 2)\n",
    "solver.Add(solver.Sum(x[i, j] for i in team2 for j in range(num_tasks)) <= 2)\n",
    "\n",
    "solver.Solve()\n",
    "\n",
    "print('Costo total = ', solver.Objective().Value())\n",
    "for i in range(num_workers):\n",
    "    for j in range(num_tasks):\n",
    "        if x[i, j].solution_value() > 0:\n",
    "            print('Trabajador %d asignado a la tarea %d.  Costo = %d' % (i,j,cost[i][j]))"
   ]
  },
  {
   "cell_type": "markdown",
   "metadata": {
    "colab_type": "text",
    "id": "nFnQmZKr8H1l"
   },
   "source": [
    "Como era de esperar, la nueva solución óptima cuesta más que la anterior porque debe cumplir además las nuevas desigualdades."
   ]
  },
  {
   "cell_type": "markdown",
   "metadata": {
    "colab_type": "text",
    "id": "caeNLQwBWjey"
   },
   "source": [
    "Terminemos esta sección con un problema de asignación más complejo, conocido como **problema de asignación 3-dimensional**. Pensemos ahora que tenemos 5 profesores, 5 asignaturas y 5 aulas, y queremos asignar un profesor a cada asignatura en un aula, de modo que cada profesor da 1 asignatura en 1 aula, cada asignatura la da 1 profesor en 1 aula, y cada aula imparte 1 asignatura por 1 profesor. Todo queremos que se realice a costo total mínimo. Concretamente se llama problema de asignación 3-dimensional **axial** porque como veremos su modelo matemático se basa en restricciones que tienen 1 índice libre, en contraposición a otro problema que se llama de asignación 3-dimensional **planar** donde su modelo se basa en restricciones que tienen 2 indices libres. Vemos primero el modelo para el problema axial planteado, es decir, asignar profesores, asignaturas y aulas:"
   ]
  },
  {
   "cell_type": "code",
   "execution_count": 10,
   "metadata": {},
   "outputs": [],
   "source": [
    "import random  \n",
    "dimension = 10\n",
    "opciones  = range(dimension)\n",
    "cost      = [[[random.randint(1,100) for i in opciones] for j in opciones] for k in opciones]"
   ]
  },
  {
   "cell_type": "code",
   "execution_count": 11,
   "metadata": {
    "colab": {},
    "colab_type": "code",
    "id": "WxexrgSTX2q6"
   },
   "outputs": [
    {
     "name": "stdout",
     "output_type": "stream",
     "text": [
      "Costo total =  26.0\n",
      "\n",
      "Prof 0 con asignatura 2 en aula 8.  Costo = 1\n",
      "Prof 1 con asignatura 1 en aula 6.  Costo = 1\n",
      "Prof 2 con asignatura 4 en aula 3.  Costo = 4\n",
      "Prof 3 con asignatura 8 en aula 1.  Costo = 5\n",
      "Prof 4 con asignatura 7 en aula 7.  Costo = 2\n",
      "Prof 5 con asignatura 3 en aula 5.  Costo = 1\n",
      "Prof 6 con asignatura 0 en aula 4.  Costo = 1\n",
      "Prof 7 con asignatura 5 en aula 9.  Costo = 7\n",
      "Prof 8 con asignatura 6 en aula 2.  Costo = 2\n",
      "Prof 9 con asignatura 9 en aula 0.  Costo = 2\n",
      "\n",
      "Time =  101  milliseconds\n"
     ]
    }
   ],
   "source": [
    "solver = pywraplp.Solver('3APaxial', pywraplp.Solver.CBC_MIXED_INTEGER_PROGRAMMING)\n",
    "x = {}\n",
    "for i in opciones:\n",
    "    for j in opciones:\n",
    "        for k in opciones:\n",
    "            x[i,j,k] = solver.BoolVar('x[%i,%i,%i]' % (i,j,k))\n",
    "\n",
    "# Objective\n",
    "solver.Minimize( solver.Sum(cost[i][j][k] * x[i,j,k] for i in opciones for j in opciones for k in opciones))\n",
    "\n",
    "# Constraints\n",
    "\n",
    "[ solver.Add(solver.Sum(x[i,j,k] for j in opciones for k in opciones) == 1) for i in opciones ]\n",
    "[ solver.Add(solver.Sum(x[i,j,k] for i in opciones for k in opciones) == 1) for j in opciones ]\n",
    "[ solver.Add(solver.Sum(x[i,j,k] for i in opciones for j in opciones) == 1) for k in opciones ]\n",
    "    \n",
    "# resolvemos:  \n",
    "sol = solver.Solve()\n",
    "\n",
    "print('Costo total = ', solver.Objective().Value())\n",
    "print()\n",
    "for i in opciones:\n",
    "    for j in opciones:\n",
    "        for k in opciones:\n",
    "            if x[i,j,k].solution_value() > 0:\n",
    "                print('Prof %d con asignatura %d en aula %d.  Costo = %d' % (i,j,k,cost[i][j][k]))\n",
    "print()\n",
    "print(\"Time = \", solver.WallTime(), \" milliseconds\")"
   ]
  },
  {
   "cell_type": "markdown",
   "metadata": {
    "colab_type": "text",
    "id": "evhjAqqida0W"
   },
   "source": [
    "El modelo del problema de asignación 3-dimensional **planar** es el siguiente. Nótese que **no** es un modelo alternativo para el problema de asignación de profesores, asignatura y aulas. Es el modelo de otro problema diferente. Por eso la solución óptima del modelo anterior y del modelo siguiente no coinciden, ni tienen relación alguna. Si tienes curiosidad por conocer el problema asociado a este otro modelo, te sugiero que estudies el concepto de [Cuadrado Latino](https://es.wikipedia.org/wiki/Cuadrado_latino)."
   ]
  },
  {
   "cell_type": "code",
   "execution_count": 12,
   "metadata": {
    "colab": {},
    "colab_type": "code",
    "id": "g8_VJgId-5D0"
   },
   "outputs": [
    {
     "name": "stdout",
     "output_type": "stream",
     "text": [
      "Costo total =  2013.0\n",
      "\n",
      "Indices: 0  0  5.  Costo = 43\n",
      "Indices: 0  1  3.  Costo = 13\n",
      "Indices: 0  2  8.  Costo = 1\n",
      "Indices: 0  3  4.  Costo = 15\n",
      "Indices: 0  4  9.  Costo = 24\n",
      "Indices: 0  5  6.  Costo = 22\n",
      "Indices: 0  6  1.  Costo = 7\n",
      "Indices: 0  7  2.  Costo = 6\n",
      "Indices: 0  8  7.  Costo = 13\n",
      "Indices: 0  9  0.  Costo = 20\n",
      "Indices: 1  0  1.  Costo = 13\n",
      "Indices: 1  1  6.  Costo = 1\n",
      "Indices: 1  2  9.  Costo = 2\n",
      "Indices: 1  3  2.  Costo = 82\n",
      "Indices: 1  4  4.  Costo = 22\n",
      "Indices: 1  5  0.  Costo = 47\n",
      "Indices: 1  6  5.  Costo = 2\n",
      "Indices: 1  7  7.  Costo = 3\n",
      "Indices: 1  8  8.  Costo = 14\n",
      "Indices: 1  9  3.  Costo = 9\n",
      "Indices: 2  0  9.  Costo = 3\n",
      "Indices: 2  1  2.  Costo = 18\n",
      "Indices: 2  2  3.  Costo = 3\n",
      "Indices: 2  3  6.  Costo = 83\n",
      "Indices: 2  4  8.  Costo = 61\n",
      "Indices: 2  5  7.  Costo = 45\n",
      "Indices: 2  6  0.  Costo = 7\n",
      "Indices: 2  7  1.  Costo = 59\n",
      "Indices: 2  8  5.  Costo = 3\n",
      "Indices: 2  9  4.  Costo = 14\n",
      "Indices: 3  0  6.  Costo = 18\n",
      "Indices: 3  1  8.  Costo = 15\n",
      "Indices: 3  2  1.  Costo = 22\n",
      "Indices: 3  3  7.  Costo = 30\n",
      "Indices: 3  4  0.  Costo = 30\n",
      "Indices: 3  5  5.  Costo = 24\n",
      "Indices: 3  6  3.  Costo = 2\n",
      "Indices: 3  7  4.  Costo = 4\n",
      "Indices: 3  8  2.  Costo = 2\n",
      "Indices: 3  9  9.  Costo = 21\n",
      "Indices: 4  0  7.  Costo = 33\n",
      "Indices: 4  1  0.  Costo = 42\n",
      "Indices: 4  2  4.  Costo = 8\n",
      "Indices: 4  3  1.  Costo = 7\n",
      "Indices: 4  4  5.  Costo = 23\n",
      "Indices: 4  5  8.  Costo = 33\n",
      "Indices: 4  6  6.  Costo = 22\n",
      "Indices: 4  7  9.  Costo = 10\n",
      "Indices: 4  8  3.  Costo = 50\n",
      "Indices: 4  9  2.  Costo = 21\n",
      "Indices: 5  0  0.  Costo = 1\n",
      "Indices: 5  1  4.  Costo = 4\n",
      "Indices: 5  2  6.  Costo = 22\n",
      "Indices: 5  3  5.  Costo = 1\n",
      "Indices: 5  4  2.  Costo = 29\n",
      "Indices: 5  5  3.  Costo = 14\n",
      "Indices: 5  6  9.  Costo = 17\n",
      "Indices: 5  7  8.  Costo = 11\n",
      "Indices: 5  8  1.  Costo = 18\n",
      "Indices: 5  9  7.  Costo = 9\n",
      "Indices: 6  0  4.  Costo = 1\n",
      "Indices: 6  1  9.  Costo = 18\n",
      "Indices: 6  2  0.  Costo = 5\n",
      "Indices: 6  3  3.  Costo = 18\n",
      "Indices: 6  4  7.  Costo = 6\n",
      "Indices: 6  5  1.  Costo = 26\n",
      "Indices: 6  6  2.  Costo = 16\n",
      "Indices: 6  7  5.  Costo = 5\n",
      "Indices: 6  8  6.  Costo = 24\n",
      "Indices: 6  9  8.  Costo = 9\n",
      "Indices: 7  0  8.  Costo = 26\n",
      "Indices: 7  1  5.  Costo = 73\n",
      "Indices: 7  2  2.  Costo = 4\n",
      "Indices: 7  3  0.  Costo = 32\n",
      "Indices: 7  4  6.  Costo = 35\n",
      "Indices: 7  5  4.  Costo = 3\n",
      "Indices: 7  6  7.  Costo = 38\n",
      "Indices: 7  7  3.  Costo = 12\n",
      "Indices: 7  8  9.  Costo = 37\n",
      "Indices: 7  9  1.  Costo = 21\n",
      "Indices: 8  0  3.  Costo = 20\n",
      "Indices: 8  1  7.  Costo = 31\n",
      "Indices: 8  2  5.  Costo = 15\n",
      "Indices: 8  3  9.  Costo = 3\n",
      "Indices: 8  4  1.  Costo = 14\n",
      "Indices: 8  5  2.  Costo = 2\n",
      "Indices: 8  6  8.  Costo = 41\n",
      "Indices: 8  7  0.  Costo = 22\n",
      "Indices: 8  8  4.  Costo = 18\n",
      "Indices: 8  9  6.  Costo = 20\n",
      "Indices: 9  0  2.  Costo = 27\n",
      "Indices: 9  1  1.  Costo = 7\n",
      "Indices: 9  2  7.  Costo = 17\n",
      "Indices: 9  3  8.  Costo = 26\n",
      "Indices: 9  4  3.  Costo = 20\n",
      "Indices: 9  5  9.  Costo = 25\n",
      "Indices: 9  6  4.  Costo = 4\n",
      "Indices: 9  7  6.  Costo = 42\n",
      "Indices: 9  8  0.  Costo = 29\n",
      "Indices: 9  9  5.  Costo = 23\n",
      "\n",
      "Time =  3.647  seconds\n"
     ]
    }
   ],
   "source": [
    "solver = pywraplp.Solver('3APplanar', pywraplp.Solver.CBC_MIXED_INTEGER_PROGRAMMING)\n",
    "x = {}\n",
    "for i in opciones:\n",
    "    for j in opciones:\n",
    "        for k in opciones:\n",
    "            x[i,j,k] = solver.BoolVar('x[%i,%i,%i]' % (i,j,k))\n",
    "\n",
    "solver.Minimize( solver.Sum(cost[i][j][k] * x[i,j,k] for i in opciones for j in opciones for k in opciones) )\n",
    "\n",
    "[ solver.Add(solver.Sum(x[i,j,k] for k in opciones) == 1) for i in opciones for j in opciones ]\n",
    "[ solver.Add(solver.Sum(x[i,j,k] for j in opciones) == 1) for i in opciones for k in opciones ]\n",
    "[ solver.Add(solver.Sum(x[i,j,k] for i in opciones) == 1) for j in opciones for k in opciones ]\n",
    "    \n",
    "solver.Solve()\n",
    "\n",
    "print('Costo total = ', solver.Objective().Value())\n",
    "print()\n",
    "for i in opciones:\n",
    "    for j in opciones:\n",
    "        for k in opciones:\n",
    "            if x[i,j,k].solution_value() > 0:\n",
    "                print('Indices: %d  %d  %d.  Costo = %d' % (i,j,k,cost[i][j][k]))\n",
    "print()\n",
    "print(\"Time = \", solver.WallTime()/1000, \" seconds\")"
   ]
  },
  {
   "cell_type": "markdown",
   "metadata": {},
   "source": [
    "Para resolverlo con Gurobi (recuerda que necesitas licencia de Gurobi):"
   ]
  },
  {
   "cell_type": "code",
   "execution_count": 13,
   "metadata": {},
   "outputs": [
    {
     "name": "stdout",
     "output_type": "stream",
     "text": [
      "Optimize a model with 30 rows, 1000 columns and 3000 nonzeros\n",
      "Variable types: 0 continuous, 1000 integer (1000 binary)\n",
      "Coefficient statistics:\n",
      "  Matrix range     [1e+00, 1e+00]\n",
      "  Objective range  [1e+00, 1e+02]\n",
      "  Bounds range     [1e+00, 1e+00]\n",
      "  RHS range        [1e+00, 1e+00]\n",
      "Found heuristic solution: objective 273.0000000\n",
      "Presolve time: 0.01s\n",
      "Presolved: 30 rows, 1000 columns, 3000 nonzeros\n",
      "Variable types: 0 continuous, 1000 integer (1000 binary)\n",
      "\n",
      "Root relaxation: objective 9.818333e+02, 41 iterations, 0.00 seconds\n",
      "\n",
      "    Nodes    |    Current Node    |     Objective Bounds      |     Work\n",
      " Expl Unexpl |  Obj  Depth IntInf | Incumbent    BestBd   Gap | It/Node Time\n",
      "\n",
      "     0     0  981.83333    0   28  273.00000  981.83333   260%     -    0s\n",
      "H    0     0                     954.0000000  981.83333  2.92%     -    0s\n",
      "H    0     0                     968.0000000  981.83333  1.43%     -    0s\n",
      "H    0     0                     978.0000000  981.83333  0.39%     -    0s\n",
      "     0     0  979.50000    0   16  978.00000  979.50000  0.15%     -    0s\n",
      "     0     0  979.50000    0   16  978.00000  979.50000  0.15%     -    0s\n",
      "\n",
      "Cutting planes:\n",
      "  Mod-K: 1\n",
      "\n",
      "Explored 1 nodes (52 simplex iterations) in 0.05 seconds\n",
      "Thread count was 8 (of 8 available processors)\n",
      "\n",
      "Solution count 4: 978 968 954 273 \n",
      "\n",
      "Optimal solution found (tolerance 1.00e-04)\n",
      "Best objective 9.780000000000e+02, best bound 9.780000000000e+02, gap 0.0000%\n",
      "Costo total = 978\n",
      "\n",
      "Indices: 0  7  0.  Costo = 99\n",
      "Indices: 1  0  3.  Costo = 98\n",
      "Indices: 2  6  9.  Costo = 100\n",
      "Indices: 3  2  5.  Costo = 99\n",
      "Indices: 4  4  4.  Costo = 98\n",
      "Indices: 5  9  6.  Costo = 92\n",
      "Indices: 6  3  8.  Costo = 93\n",
      "Indices: 7  1  1.  Costo = 99\n",
      "Indices: 8  8  7.  Costo = 100\n",
      "Indices: 9  5  2.  Costo = 100\n",
      "\n",
      "Time =  0.05296897888183594  seconds\n"
     ]
    }
   ],
   "source": [
    "from gurobipy import *\n",
    "\n",
    "modelo = Model(\"Asignacion3dimensional\")\n",
    "x = {}\n",
    "for i in opciones:\n",
    "    for j in opciones:\n",
    "        for k in opciones:\n",
    "            x[i,j,k] = modelo.addVar(vtype=GRB.BINARY, name=\"x[%i,%i,%i]\" % (i,j,k))\n",
    "\n",
    "modelo.modelSense = GRB.MAXIMIZE\n",
    "modelo.setObjective( quicksum(cost[i][j][k] * x[i,j,k] for i in opciones for j in opciones for k in opciones) )\n",
    "    \n",
    "[ modelo.addConstr( quicksum(x[i,j,k] for j in opciones for k in opciones) == 1 ) for i in opciones ]\n",
    "[ modelo.addConstr( quicksum(x[i,j,k] for i in opciones for k in opciones) == 1 ) for j in opciones ]\n",
    "[ modelo.addConstr( quicksum(x[i,j,k] for i in opciones for j in opciones) == 1 ) for k in opciones ]\n",
    "                    \n",
    "modelo.optimize()\n",
    "                    \n",
    "print('Costo total = %g' % modelo.objVal)\n",
    "print()\n",
    "for i in opciones:\n",
    "    for j in opciones:\n",
    "        for k in opciones:\n",
    "            if x[i,j,k].x > 0:\n",
    "                print('Indices: %d  %d  %d.  Costo = %d' % (i,j,k,cost[i][j][k]))\n",
    "print()\n",
    "print('Time = ',modelo.Runtime, \" seconds\")"
   ]
  },
  {
   "cell_type": "markdown",
   "metadata": {
    "colab_type": "text",
    "id": "SSP4fbGOxcOv"
   },
   "source": [
    "# Problemas de Transporte"
   ]
  },
  {
   "cell_type": "markdown",
   "metadata": {
    "colab_type": "text",
    "id": "crpjqkFkxkG0"
   },
   "source": [
    "# Problemas de Flujo"
   ]
  },
  {
   "cell_type": "markdown",
   "metadata": {
    "colab_type": "text",
    "id": "ItwkPwAqxsp9"
   },
   "source": [
    "# Problemas de Caminos"
   ]
  },
  {
   "cell_type": "markdown",
   "metadata": {},
   "source": [
    "Resolvamos el problema de calcular el camino de costo mínimo del nodo $s=0$ al nodo $t=n-1$ en un grafo dirigido con costos positivos:"
   ]
  },
  {
   "cell_type": "code",
   "execution_count": 14,
   "metadata": {},
   "outputs": [],
   "source": [
    "import random\n",
    "n = 100\n",
    "opciones = range(n)\n",
    "random.seed(1)\n",
    "points = [(random.randint(0,100),random.randint(0,100)) for i in opciones]\n",
    "s = 0    # source\n",
    "t = n-1  # target\n",
    "\n",
    "import math\n",
    "def distance(points, i, j):\n",
    "    dx = points[i][0] - points[j][0]\n",
    "    dy = points[i][1] - points[j][1]\n",
    "    return math.floor(math.sqrt(dx*dx + dy*dy))"
   ]
  },
  {
   "cell_type": "code",
   "execution_count": 15,
   "metadata": {
    "colab": {},
    "colab_type": "code",
    "id": "7JKQTlU5yeIa"
   },
   "outputs": [
    {
     "name": "stdout",
     "output_type": "stream",
     "text": [
      "Costo total =  43.0\n",
      "Time =  0.471 seconds\n",
      "Optimal path: [(0, 52), (52, 99)]\n"
     ]
    }
   ],
   "source": [
    "solver = pywraplp.Solver('ShortestPath', pywraplp.Solver.CBC_MIXED_INTEGER_PROGRAMMING)\n",
    "\n",
    "x = {}\n",
    "for i in opciones:\n",
    "    for j in opciones:\n",
    "        x[i,j] = solver.BoolVar('x[%i,%i]' % (i,j))\n",
    "y = {}\n",
    "for i in opciones:\n",
    "    y[i] = solver.BoolVar('y[%i]' % i)\n",
    "            \n",
    "solver.Minimize( solver.Sum(distance(points,i,j) * x[i,j] for i in opciones for j in opciones) )\n",
    "\n",
    "solver.Add(solver.Sum(x[s,j] for j in opciones if j!=s ) == 1)\n",
    "solver.Add(solver.Sum(x[i,s] for i in opciones if i!=s ) == 0)\n",
    "solver.Add(solver.Sum(x[i,t] for i in opciones if i!=t ) == 1)\n",
    "solver.Add(solver.Sum(x[t,j] for j in opciones if j!=t ) == 0)\n",
    "[ solver.Add(solver.Sum(x[i,j] for j in opciones if j!=i) == y[i]) for i in opciones if i!=s and i!=t ]\n",
    "[ solver.Add(solver.Sum(x[i,j] for i in opciones if j!=i) == y[j]) for j in opciones if j!=s and j!=t ]\n",
    "    \n",
    "solver.Solve()\n",
    "\n",
    "print('Costo total = ', solver.Objective().Value())\n",
    "print(\"Time = \", solver.WallTime()/1000, \"seconds\")    \n",
    "\n",
    "selected = [(i,j) for i in opciones for j in opciones if x[i,j].solution_value() > 0.5]\n",
    "print('Optimal path: %s' % str(selected))\n",
    "\n"
   ]
  },
  {
   "cell_type": "code",
   "execution_count": 16,
   "metadata": {},
   "outputs": [],
   "source": [
    "import matplotlib.pyplot as plt\n",
    "plt.plot([p[0] for p in points], [p[1] for p in points], 'bo')\n",
    "plt.plot(points[s][0],points[s][1], 'rs')\n",
    "plt.plot(points[t][0],points[t][1], 'rs')\n",
    "for (i,j) in selected:\n",
    "    plt.plot([points[i][0],points[j][0]], [points[i][1],points[j][1]], 'g-')\n",
    "#plt.show()"
   ]
  },
  {
   "cell_type": "markdown",
   "metadata": {},
   "source": [
    "Para que el anterior modelo funcione es fundamental que no existan circuitos de costo negativo o nulo, cosa que viene garantizada si las distancias son positivas."
   ]
  },
  {
   "cell_type": "markdown",
   "metadata": {
    "colab_type": "text",
    "id": "AmJHLuWKxxO9"
   },
   "source": [
    "# Problema del Viajante de Comercio"
   ]
  },
  {
   "cell_type": "markdown",
   "metadata": {},
   "source": [
    "Modelo para el problema del TSP asimétrico con potenciales:"
   ]
  },
  {
   "cell_type": "code",
   "execution_count": 4,
   "metadata": {},
   "outputs": [],
   "source": [
    "import random\n",
    "n = 20\n",
    "todos = range(n)\n",
    "otros = range(1,n)\n",
    "random.seed(12345)\n",
    "dist= { (i,j) : random.randint(1,100) for i in todos for j in todos if i!=j }\n",
    "EPS = 0.001"
   ]
  },
  {
   "cell_type": "code",
   "execution_count": 18,
   "metadata": {},
   "outputs": [
    {
     "name": "stdout",
     "output_type": "stream",
     "text": [
      "Distancia total de la ruta =  142.0 kilometros\n",
      "Ruta de mínima distancia:\n",
      "De 0 a 3 con distancia=2 Km\n",
      "De 1 a 19 con distancia=4 Km\n",
      "De 2 a 16 con distancia=13 Km\n",
      "De 3 a 2 con distancia=24 Km\n",
      "De 4 a 7 con distancia=6 Km\n",
      "De 5 a 1 con distancia=8 Km\n",
      "De 6 a 0 con distancia=2 Km\n",
      "De 7 a 14 con distancia=1 Km\n",
      "De 8 a 12 con distancia=4 Km\n",
      "De 9 a 10 con distancia=9 Km\n",
      "De 10 a 13 con distancia=8 Km\n",
      "De 11 a 5 con distancia=9 Km\n",
      "De 12 a 18 con distancia=4 Km\n",
      "De 13 a 17 con distancia=6 Km\n",
      "De 14 a 8 con distancia=2 Km\n",
      "De 15 a 11 con distancia=5 Km\n",
      "De 16 a 15 con distancia=4 Km\n",
      "De 17 a 6 con distancia=3 Km\n",
      "De 18 a 9 con distancia=7 Km\n",
      "De 19 a 4 con distancia=21 Km\n"
     ]
    }
   ],
   "source": [
    "def ATSPu():\n",
    "    solver = pywraplp.Solver('ATSP', pywraplp.Solver.CBC_MIXED_INTEGER_PROGRAMMING)\n",
    "\n",
    "    x = {}\n",
    "    for i in todos:\n",
    "        for j in todos:\n",
    "            if i!=j:\n",
    "                x[i,j] = solver.BoolVar('x[%i,%i]' % (i,j))\n",
    "    u = {}\n",
    "    for i in otros:\n",
    "        u[i] = solver.IntVar(0.0, solver.infinity(), 'u[%i]' % i)  \n",
    "\n",
    "    solver.Minimize(solver.Sum( dist[i,j]*x[i,j] for i in todos for j in todos if i!=j ))\n",
    "    \n",
    "    [ solver.Add(  solver.Sum(x[i,j] for j in todos if i!=j) == 1  )  for i in todos ]\n",
    "    [ solver.Add(  solver.Sum(x[j,i] for j in todos if i!=j) == 1  )  for i in todos ]\n",
    "    [ solver.Add(  u[j] >= u[i] + x[i,j] - (n-2)*(1-x[i,j]) + (n-3)*x[j,i]   ) for i in otros for j in otros if j!=i ]\n",
    "        \n",
    "    solver.Solve()\n",
    "\n",
    "    print('Distancia total de la ruta = ', solver.Objective().Value(),'kilometros')\n",
    "    print('Ruta de mínima distancia:')\n",
    "    for i in todos:\n",
    "        for j in todos: \n",
    "            if i!=j and x[i,j].solution_value() > EPS :\n",
    "                print('De %d a %d con distancia=%d Km'  % (i,j,dist[i,j]))\n",
    "\n",
    "ATSPu()"
   ]
  },
  {
   "cell_type": "markdown",
   "metadata": {},
   "source": [
    "Y ahora lo mismo pero con Gurobi (recuerda que necesitas licencia de Gurobi para que funcione):"
   ]
  },
  {
   "cell_type": "code",
   "execution_count": 2,
   "metadata": {},
   "outputs": [],
   "source": [
    "import networkx\n",
    "from gurobipy import *"
   ]
  },
  {
   "cell_type": "code",
   "execution_count": 20,
   "metadata": {},
   "outputs": [
    {
     "name": "stdout",
     "output_type": "stream",
     "text": [
      "Optimize a model with 382 rows, 399 columns and 2128 nonzeros\n",
      "Variable types: 19 continuous, 380 integer (380 binary)\n",
      "Coefficient statistics:\n",
      "  Matrix range     [1e+00, 2e+01]\n",
      "  Objective range  [1e+00, 1e+02]\n",
      "  Bounds range     [1e+00, 1e+00]\n",
      "  RHS range        [1e+00, 2e+01]\n",
      "Presolve time: 0.00s\n",
      "Presolved: 382 rows, 399 columns, 2128 nonzeros\n",
      "Variable types: 19 continuous, 380 integer (380 binary)\n",
      "\n",
      "Root relaxation: objective 1.420000e+02, 68 iterations, 0.00 seconds\n",
      "\n",
      "    Nodes    |    Current Node    |     Objective Bounds      |     Work\n",
      " Expl Unexpl |  Obj  Depth IntInf | Incumbent    BestBd   Gap | It/Node Time\n",
      "\n",
      "*    0     0               0     142.0000000  142.00000  0.00%     -    0s\n",
      "\n",
      "Explored 0 nodes (68 simplex iterations) in 0.02 seconds\n",
      "Thread count was 8 (of 8 available processors)\n",
      "\n",
      "Solution count 1: 142 \n",
      "\n",
      "Optimal solution found (tolerance 1.00e-04)\n",
      "Best objective 1.420000000000e+02, best bound 1.420000000000e+02, gap 0.0000%\n",
      "Costo total = 142\n",
      "Time =  0.026983261108398438 seconds\n",
      "Optimal path: [(0, 3), (1, 19), (2, 16), (3, 2), (4, 7), (5, 1), (6, 0), (7, 14), (8, 12), (9, 10), (10, 13), (11, 5), (12, 18), (13, 17), (14, 8), (15, 11), (16, 15), (17, 6), (18, 9), (19, 4)]\n"
     ]
    }
   ],
   "source": [
    "def ATSPpot():\n",
    "    modelo = Model()\n",
    "    \n",
    "    x = tupledict()\n",
    "    for i,j in dist.keys():\n",
    "         x[i,j] = modelo.addVar(obj=dist[i,j], vtype=GRB.BINARY, name='a[%d,%d]'%(i,j))\n",
    "    u = tupledict()\n",
    "    for i in otros:\n",
    "        u[i] = modelo.addVar(obj=0, vtype=GRB.CONTINUOUS, name='u[%i]'%i)\n",
    "        \n",
    "    modelo.addConstrs(sum(x[i,j] for j in todos if j!=i) == 1 for i in todos)\n",
    "    modelo.addConstrs(sum(x[j,i] for j in todos if j!=i) == 1 for i in todos)\n",
    "    modelo.addConstrs( u[j] >= u[i] + x[i,j] - (n-2)*(1-x[i,j]) + (n-3)*x[j,i] for i in otros for j in otros if i!=j )\n",
    "\n",
    "    modelo.optimize()\n",
    "\n",
    "    print('Costo total = %g' % modelo.objVal)\n",
    "    print('Time = ',modelo.Runtime, \"seconds\")\n",
    "    vals = modelo.getAttr('x', x )\n",
    "    selected = [(i,j) for i,j in vals.keys() if vals[i,j] > EPS]\n",
    "    print('Optimal path: %s' % str(selected))\n",
    "    \n",
    "ATSPpot()"
   ]
  },
  {
   "cell_type": "code",
   "execution_count": 21,
   "metadata": {},
   "outputs": [
    {
     "name": "stdout",
     "output_type": "stream",
     "text": [
      "Optimize a model with 6538 rows, 722 columns and 19570 nonzeros\n",
      "Variable types: 0 continuous, 722 integer (722 binary)\n",
      "Coefficient statistics:\n",
      "  Matrix range     [1e+00, 1e+00]\n",
      "  Objective range  [1e+00, 1e+02]\n",
      "  Bounds range     [1e+00, 1e+00]\n",
      "  RHS range        [1e+00, 1e+00]\n",
      "Presolve removed 4218 rows and 171 columns\n",
      "Presolve time: 0.03s\n",
      "Presolved: 2320 rows, 551 columns, 7258 nonzeros\n",
      "Variable types: 0 continuous, 551 integer (551 binary)\n",
      "Found heuristic solution: objective 980.0000000\n",
      "Found heuristic solution: objective 847.0000000\n",
      "Found heuristic solution: objective 742.0000000\n",
      "\n",
      "Root relaxation: objective 1.420000e+02, 238 iterations, 0.01 seconds\n",
      "\n",
      "    Nodes    |    Current Node    |     Objective Bounds      |     Work\n",
      " Expl Unexpl |  Obj  Depth IntInf | Incumbent    BestBd   Gap | It/Node Time\n",
      "\n",
      "*    0     0               0     142.0000000  142.00000  0.00%     -    0s\n",
      "\n",
      "Explored 0 nodes (238 simplex iterations) in 0.07 seconds\n",
      "Thread count was 8 (of 8 available processors)\n",
      "\n",
      "Solution count 4: 142 742 847 980 \n",
      "\n",
      "Optimal solution found (tolerance 1.00e-04)\n",
      "Best objective 1.420000000000e+02, best bound 1.420000000000e+02, gap 0.0000%\n",
      "Costo total = 142\n",
      "Time =  0.08158493041992188 seconds\n",
      "Optimal path: [(0, 3), (1, 19), (2, 16), (3, 2), (4, 7), (5, 1), (6, 0), (7, 14), (8, 12), (9, 10), (10, 13), (11, 5), (12, 18), (13, 17), (14, 8), (15, 11), (16, 15), (17, 6), (18, 9), (19, 4)]\n"
     ]
    }
   ],
   "source": [
    "def ATSPpred():\n",
    "    modelo = Model()\n",
    "    \n",
    "    x = tupledict()\n",
    "    for i,j in dist.keys():\n",
    "         x[i,j] = modelo.addVar(obj=dist[i,j], vtype=GRB.BINARY, name='a[%d,%d]'%(i,j))\n",
    "    v = tupledict()\n",
    "    for i in otros:\n",
    "        for j in otros:\n",
    "            if i!=j:\n",
    "                v[i,j] = modelo.addVar(obj=0, vtype=GRB.BINARY, name='v[%d,%d]'%(i,j))\n",
    "        \n",
    "    modelo.addConstrs(sum(x[i,j] for j in todos if j!=i) == 1 for i in todos)\n",
    "    modelo.addConstrs(sum(x[j,i] for j in todos if j!=i) == 1 for i in todos)\n",
    "    modelo.addConstrs( v[i,j]+v[j,i] ==1 for i in otros for j in otros if i!=j )\n",
    "    modelo.addConstrs( v[i,j]+v[j,k] <= v[i,k]+1 for i in otros for j in otros for k in otros if i!=j and i!=k and j!=k )\n",
    "    modelo.addConstrs( v[i,j] >= x[i,j] for i in otros for j in otros if i!=j )\n",
    "\n",
    "    modelo.optimize()\n",
    "\n",
    "    print('Costo total = %g' % modelo.objVal)\n",
    "    print('Time = ',modelo.Runtime, \"seconds\")\n",
    "    vals = modelo.getAttr('x', x )\n",
    "    selected = [(i,j) for i,j in vals.keys() if vals[i,j] > EPS]\n",
    "    print('Optimal path: %s' % str(selected))\n",
    "    \n",
    "ATSPpred()"
   ]
  },
  {
   "cell_type": "code",
   "execution_count": 22,
   "metadata": {},
   "outputs": [
    {
     "name": "stdout",
     "output_type": "stream",
     "text": [
      "Optimize a model with 401 rows, 760 columns and 2166 nonzeros\n",
      "Variable types: 380 continuous, 380 integer (380 binary)\n",
      "Coefficient statistics:\n",
      "  Matrix range     [1e+00, 2e+01]\n",
      "  Objective range  [1e+00, 1e+02]\n",
      "  Bounds range     [1e+00, 1e+00]\n",
      "  RHS range        [1e+00, 1e+00]\n",
      "Found heuristic solution: objective 979.0000000\n",
      "Presolve removed 361 rows and 380 columns\n",
      "Presolve time: 0.00s\n",
      "Presolved: 40 rows, 380 columns, 760 nonzeros\n",
      "Variable types: 0 continuous, 380 integer (380 binary)\n",
      "\n",
      "Root relaxation: objective 1.420000e+02, 39 iterations, 0.00 seconds\n",
      "\n",
      "    Nodes    |    Current Node    |     Objective Bounds      |     Work\n",
      " Expl Unexpl |  Obj  Depth IntInf | Incumbent    BestBd   Gap | It/Node Time\n",
      "\n",
      "*    0     0               0     142.0000000  142.00000  0.00%     -    0s\n",
      "\n",
      "Explored 0 nodes (39 simplex iterations) in 0.02 seconds\n",
      "Thread count was 8 (of 8 available processors)\n",
      "\n",
      "Solution count 2: 142 979 \n",
      "\n",
      "Optimal solution found (tolerance 1.00e-04)\n",
      "Best objective 1.420000000000e+02, best bound 1.420000000000e+02, gap 0.0000%\n",
      "Costo total = 142\n",
      "Time =  0.021986007690429688 seconds\n",
      "Optimal path: [(0, 3), (1, 19), (2, 16), (3, 2), (4, 7), (5, 1), (6, 0), (7, 14), (8, 12), (9, 10), (10, 13), (11, 5), (12, 18), (13, 17), (14, 8), (15, 11), (16, 15), (17, 6), (18, 9), (19, 4)]\n"
     ]
    }
   ],
   "source": [
    "def ATSPscf():\n",
    "    modelo = Model()\n",
    "    \n",
    "    x = tupledict()\n",
    "    for i,j in dist.keys():\n",
    "         x[i,j] = modelo.addVar(obj=dist[i,j], vtype=GRB.BINARY, name='a[%d,%d]'%(i,j))\n",
    "    f = tupledict()\n",
    "    for i in todos:\n",
    "        for j in todos:\n",
    "            if i!=j:\n",
    "                f[i,j] = modelo.addVar(obj=0, vtype=GRB.CONTINUOUS, name='f[%d,%d]'%(i,j))\n",
    "        \n",
    "    modelo.addConstrs(sum(x[i,j] for j in todos if j!=i) == 1 for i in todos)\n",
    "    modelo.addConstrs(sum(x[j,i] for j in todos if j!=i) == 1 for i in todos)\n",
    "    modelo.addConstrs(sum(f[j,i]-f[i,j] for j in todos if j!=i) >= 1 for i in otros )\n",
    "    modelo.addConstrs( f[i,j] <= (n-2)*x[i,j] for i in otros for j in otros if i!=j )\n",
    "\n",
    "    modelo.optimize()\n",
    "\n",
    "    print('Costo total = %g' % modelo.objVal)\n",
    "    print('Time = ',modelo.Runtime, \"seconds\")\n",
    "    vals = modelo.getAttr('x', x )\n",
    "    selected = [(i,j) for i,j in vals.keys() if vals[i,j] > EPS]\n",
    "    print('Optimal path: %s' % str(selected))\n",
    "    \n",
    "ATSPscf()"
   ]
  },
  {
   "cell_type": "code",
   "execution_count": 23,
   "metadata": {},
   "outputs": [
    {
     "name": "stdout",
     "output_type": "stream",
     "text": [
      "Optimize a model with 6899 rows, 7600 columns and 27113 nonzeros\n",
      "Variable types: 0 continuous, 7600 integer (7600 binary)\n",
      "Coefficient statistics:\n",
      "  Matrix range     [1e+00, 1e+00]\n",
      "  Objective range  [1e+00, 1e+02]\n",
      "  Bounds range     [1e+00, 1e+00]\n",
      "  RHS range        [1e+00, 1e+00]\n",
      "Found heuristic solution: objective 979.0000000\n",
      "Presolve removed 0 rows and 38 columns\n",
      "Presolve time: 0.05s\n",
      "Presolved: 6899 rows, 7562 columns, 27094 nonzeros\n",
      "Variable types: 0 continuous, 7562 integer (7562 binary)\n",
      "\n",
      "Root relaxation: objective 1.420000e+02, 39 iterations, 0.00 seconds\n",
      "\n",
      "    Nodes    |    Current Node    |     Objective Bounds      |     Work\n",
      " Expl Unexpl |  Obj  Depth IntInf | Incumbent    BestBd   Gap | It/Node Time\n",
      "\n",
      "*    0     0               0     142.0000000  142.00000  0.00%     -    0s\n",
      "\n",
      "Explored 0 nodes (39 simplex iterations) in 0.11 seconds\n",
      "Thread count was 8 (of 8 available processors)\n",
      "\n",
      "Solution count 2: 142 979 \n",
      "\n",
      "Optimal solution found (tolerance 1.00e-04)\n",
      "Best objective 1.420000000000e+02, best bound 1.420000000000e+02, gap 0.0000%\n",
      "Costo total = 142\n",
      "Time =  0.11902809143066406 seconds\n",
      "Optimal path: [(0, 3), (1, 19), (2, 16), (3, 2), (4, 7), (5, 1), (6, 0), (7, 14), (8, 12), (9, 10), (10, 13), (11, 5), (12, 18), (13, 17), (14, 8), (15, 11), (16, 15), (17, 6), (18, 9), (19, 4)]\n"
     ]
    }
   ],
   "source": [
    "def ATSPmcf():\n",
    "    modelo = Model()\n",
    "    \n",
    "    x = tupledict()\n",
    "    for i,j in dist.keys():\n",
    "         x[i,j] = modelo.addVar(obj=dist[i,j], vtype=GRB.BINARY, name='a[%d,%d]'%(i,j))\n",
    "    f = tupledict()\n",
    "    for k in otros:\n",
    "        for i in todos:\n",
    "            for j in todos:\n",
    "                if i!=j:\n",
    "                    f[i,j,k] = modelo.addVar(obj=0, vtype=GRB.BINARY, name='f[%d,%d,%d]'%(i,j,k))\n",
    "        \n",
    "    modelo.addConstrs(sum(x[i,j] for j in todos if j!=i) == 1 for i in todos)\n",
    "    modelo.addConstrs(sum(x[j,i] for j in todos if j!=i) == 1 for i in todos)\n",
    "    modelo.addConstrs(sum(f[0,j,k] for j in otros) == 1 for k in otros)\n",
    "    modelo.addConstrs(sum(f[j,i,k]-f[i,j,k] for j in todos if j!=i) == 0 for i in otros for k in otros if i!=k)\n",
    "    modelo.addConstrs( f[i,j,k] <= x[i,j] for i in otros for j in otros if i!=j for k in otros )\n",
    "#    modelo.addConstrs( f[i,0,k] ==0 for i in otros for k in otros )\n",
    "#    modelo.addConstrs( f[k,i,k] ==0 for i in todos for k in otros if i!=k)\n",
    "\n",
    "    modelo.optimize()\n",
    "\n",
    "    print('Costo total = %g' % modelo.objVal)\n",
    "    print('Time = ',modelo.Runtime, \"seconds\")\n",
    "    vals = modelo.getAttr('x', x )\n",
    "    selected = [(i,j) for i,j in vals.keys() if vals[i,j] > EPS]\n",
    "    print('Optimal path: %s' % str(selected))\n",
    "    \n",
    "ATSPmcf()"
   ]
  },
  {
   "cell_type": "code",
   "execution_count": 8,
   "metadata": {},
   "outputs": [
    {
     "name": "stdout",
     "output_type": "stream",
     "text": [
      "Costo total = 142\n",
      "Time =  0.0034732818603515625 seconds\n",
      "Optimal path: [(0, 3), (1, 19), (2, 16), (3, 2), (4, 7), (5, 1), (6, 0), (7, 14), (8, 12), (9, 10), (10, 13), (11, 5), (12, 18), (13, 17), (14, 8), (15, 11), (16, 15), (17, 6), (18, 9), (19, 4)]\n"
     ]
    }
   ],
   "source": [
    "modelo = Model()\n",
    "x = modelo.addVars(dist.keys(), obj=dist, vtype=GRB.BINARY, name='a')\n",
    "\n",
    "def SEC():\n",
    "    vals = modelo.getAttr('x', x)\n",
    "    G = networkx.Graph()\n",
    "    G.add_edges_from( (i,j) for i,j in vals.keys() if vals[i,j]>EPS )\n",
    "    Components = list(networkx.connected_components(G))\n",
    "    if len(Components) == 1:\n",
    "        return False\n",
    "    for S in Components:\n",
    "        modelo.addConstr( quicksum( x[i,j] for i in S for j in S if j!=i ) <= len(S)-1 )\n",
    "    return True\n",
    "\n",
    "def ATSPsec():\n",
    "    modelo.addConstrs(sum(x[i,j] for j in todos if j!=i) == 1 for i in todos)\n",
    "    modelo.addConstrs(sum(x[j,i] for j in todos if j!=i) == 1 for i in todos)\n",
    "\n",
    "    modelo.Params.OutputFlag = 0\n",
    "\n",
    "    modelo.optimize()\n",
    "    while SEC():\n",
    "        modelo.optimize()\n",
    "\n",
    "    print('Costo total = %g' % modelo.objVal)\n",
    "    print('Time = ',modelo.Runtime, \"seconds\")\n",
    "    vals = modelo.getAttr('x', x)\n",
    "    selected = [(i,j) for i,j in vals.keys() if vals[i,j] > EPS]\n",
    "    print('Optimal path: %s' % str(selected))\n",
    "    \n",
    "ATSPsec()"
   ]
  },
  {
   "cell_type": "markdown",
   "metadata": {
    "colab_type": "text",
    "id": "SxM4poRP4cGL"
   },
   "source": [
    "Para continuar, vamos a visualizar la ruta final. A fin de que se vea algo con sentido, vamos a colocar puntos en el plano y a utilizar las distancias euclídeas entre ellos. Esto genera matrices de costos simétricas, es decir, donde $c_{ij}=c_{ji}$, lo que a su vez permite trabajar con la mitad de las variables y terminar antes. Como contrapartida, resta generalidad porque con este modelo reducido no podremos resolver ejemplos con matrices de costos asimétricos. Centrándonos ahora exclusivamente en distancias Euclideas para con ello \"ver\" la solución, los modelos pasan a ser:"
   ]
  },
  {
   "cell_type": "code",
   "execution_count": 24,
   "metadata": {},
   "outputs": [],
   "source": [
    "import matplotlib.pyplot as plt\n",
    "def dibuja(selected):                #dibuja una ruta dada como una lista de arcos\n",
    "    plt.plot([p[0] for p in points], [p[1] for p in points], 'bo')\n",
    "    for (i,j) in selected:\n",
    "        plt.plot([points[i][0],points[j][0]], [points[i][1],points[j][1]], 'g-')"
   ]
  },
  {
   "cell_type": "code",
   "execution_count": 25,
   "metadata": {},
   "outputs": [
    {
     "data": {
      "image/png": "[encoded data removed]",
      "text/plain": [
       "<Figure size 432x288 with 1 Axes>"
      ]
     },
     "metadata": {
      "needs_background": "light"
     },
     "output_type": "display_data"
    }
   ],
   "source": [
    "import math\n",
    "import random\n",
    "n = 50\n",
    "todos = range(n)\n",
    "otros = range(1,n)\n",
    "random.seed(12345)\n",
    "points = [(random.randint(0,100),random.randint(0,100)) for i in range(n)]\n",
    "EPS = 0.001\n",
    "\n",
    "# calculate Euclidean distance and round-towards-zero (truncate)\n",
    "def distance(points, i, j):\n",
    "    dx = points[i][0] - points[j][0]\n",
    "    dy = points[i][1] - points[j][1]\n",
    "    return math.floor(math.sqrt(dx*dx + dy*dy))\n",
    "\n",
    "# Dictionary of Euclidean distance between each pair of points\n",
    "dist = {(i,j) : distance(points,i,j) for i in range(n) for j in range(i)}\n",
    "\n",
    "dibuja({})"
   ]
  },
  {
   "cell_type": "markdown",
   "metadata": {},
   "source": [
    "Resolvamos el TSP simétrico mediante un algoritmo iterativo que elimina un subciclo en cada iteración mirando la solución entera:"
   ]
  },
  {
   "cell_type": "code",
   "execution_count": 26,
   "metadata": {},
   "outputs": [
    {
     "name": "stdout",
     "output_type": "stream",
     "text": [
      "Costo total = 582\n",
      "Time =  0.015628814697265625 seconds\n",
      "Optimal path: [(5, 4), (10, 0), (12, 0), (13, 10), (16, 11), (17, 1), (19, 6), (20, 1), (23, 20), (25, 16), (28, 8), (28, 24), (29, 9), (29, 25), (30, 11), (30, 27), (31, 3), (31, 8), (32, 12), (33, 18), (33, 22), (34, 26), (35, 6), (35, 14), (36, 21), (36, 32), (37, 7), (37, 21), (38, 17), (39, 7), (39, 27), (40, 9), (40, 14), (41, 15), (42, 18), (42, 26), (43, 15), (43, 38), (44, 3), (44, 13), (45, 2), (45, 5), (46, 2), (46, 19), (47, 34), (47, 41), (48, 23), (48, 24), (49, 4), (49, 22)]\n"
     ]
    },
    {
     "data": {
      "image/png": "[encoded data removed]",
      "text/plain": [
       "<Figure size 432x288 with 1 Axes>"
      ]
     },
     "metadata": {
      "needs_background": "light"
     },
     "output_type": "display_data"
    }
   ],
   "source": [
    "modelo = Model()\n",
    "x = modelo.addVars(dist.keys(), obj=dist, vtype=GRB.BINARY, name='e')\n",
    "\n",
    "def SEC():\n",
    "    vals = modelo.getAttr('x', x)\n",
    "    G = networkx.Graph()\n",
    "    G.add_edges_from( (i,j) for i,j in vals.keys() if vals[i,j]>EPS )\n",
    "    Components = list(networkx.connected_components(G))\n",
    "    if len(Components) == 1:\n",
    "        return False\n",
    "    for S in Components:\n",
    "        modelo.addConstr( quicksum( x[i,j] for i in S for j in S if j<i) <= len(S)-1 )\n",
    "    return True\n",
    "\n",
    "def TSP1():\n",
    "    modelo.addConstrs( x.sum(i,'*') + x.sum('*',i) == 2 for i in todos )\n",
    "\n",
    "    modelo.Params.OutputFlag = 0\n",
    "\n",
    "    modelo.optimize()\n",
    "    while SEC():\n",
    "        modelo.optimize()\n",
    "\n",
    "    print('Costo total = %g' % modelo.objVal)\n",
    "    print('Time = ',modelo.Runtime, \"seconds\")\n",
    "    vals = modelo.getAttr('x', x)\n",
    "    selected = [(i,j) for i,j in vals.keys() if vals[i,j] > EPS]\n",
    "    print('Optimal path: %s' % str(selected))\n",
    "    dibuja(selected)\n",
    "    \n",
    "TSP1()"
   ]
  },
  {
   "cell_type": "markdown",
   "metadata": {},
   "source": [
    "Podemos hacer algo incluso mejor: resolvemos primero el nodo raiz asegurándonos de eliminar los primeros subciclos, y luego continuar igual pero con las soluciones enteras:\n",
    "    "
   ]
  },
  {
   "cell_type": "code",
   "execution_count": 27,
   "metadata": {},
   "outputs": [
    {
     "name": "stdout",
     "output_type": "stream",
     "text": [
      "Costo total = 582\n",
      "Time =  0.0 seconds\n",
      "Optimal path: [(5, 4), (10, 0), (12, 0), (13, 10), (16, 11), (17, 1), (19, 6), (20, 1), (21, 12), (23, 20), (25, 16), (28, 8), (28, 24), (29, 9), (29, 25), (30, 11), (30, 27), (31, 3), (31, 8), (33, 18), (33, 22), (34, 26), (35, 6), (35, 14), (36, 21), (36, 32), (37, 7), (37, 32), (38, 17), (39, 7), (39, 27), (40, 9), (40, 14), (41, 15), (42, 18), (42, 26), (43, 15), (43, 38), (44, 3), (44, 13), (45, 2), (45, 5), (46, 2), (46, 19), (47, 34), (47, 41), (48, 23), (48, 24), (49, 4), (49, 22)]\n"
     ]
    },
    {
     "data": {
      "image/png": "[encoded data removed]",
      "text/plain": [
       "<Figure size 432x288 with 1 Axes>"
      ]
     },
     "metadata": {
      "needs_background": "light"
     },
     "output_type": "display_data"
    }
   ],
   "source": [
    "modelo = Model()\n",
    "x = modelo.addVars(dist.keys(), lb=0.0, ub=1.0, obj=dist, vtype=GRB.CONTINUOUS, name='e')\n",
    "\n",
    "def SEC1():\n",
    "    vals = modelo.getAttr('x', x)\n",
    "    G = networkx.Graph()\n",
    "    G.add_edges_from( (i,j) for i,j in vals.keys() if vals[i,j]>EPS)\n",
    "    Components = list(networkx.connected_components(G))\n",
    "    if len(Components) == 1:\n",
    "        return False\n",
    "    for S in Components:\n",
    "        modelo.addConstr( quicksum( x[i,j] for i in S for j in S if j<i) <= len(S)-1 )\n",
    "    return True\n",
    "    \n",
    "def SEC2():\n",
    "    vals = modelo.getAttr('x', x)\n",
    "    G = networkx.Graph()\n",
    "    for i,j in vals.keys():\n",
    "        if vals[i,j]>EPS:\n",
    "            G.add_edge( i, j, capacity = vals[i,j] )\n",
    "           \n",
    "    corte = False\n",
    "    free = [True]*n\n",
    "    for i in otros :\n",
    "        if free[i]:\n",
    "            cut_value, partition = networkx.minimum_cut(G, 0, i)\n",
    "            if cut_value < 2-EPS:\n",
    "                non_S, S = partition\n",
    "                modelo.addConstr( quicksum( x[i,j] for i in S for j in S if j<i) <= len(S)-1 ) \n",
    "                corte = True\n",
    "                for j in S: free[j] = False\n",
    "    return corte\n",
    "\n",
    "def TSP2():\n",
    "    modelo.addConstrs( x.sum(i,'*') + x.sum('*',i) == 2 for i in todos )\n",
    "\n",
    "    modelo.Params.OutputFlag = 0\n",
    "\n",
    "    modelo.optimize()\n",
    "    while SEC2():\n",
    "        modelo.optimize()\n",
    "        \n",
    "    for v in modelo.getVars(): v.vtype = GRB.BINARY     # antes problemas continuos ; después problemas enteros\n",
    "    \n",
    "    modelo.optimize()\n",
    "    while SEC1():\n",
    "        modelo.optimize()\n",
    "\n",
    "    print('Costo total = %g' % modelo.objVal)\n",
    "    print('Time = ',modelo.Runtime, \"seconds\")\n",
    "    vals = modelo.getAttr('x', x)\n",
    "    selected = [(i,j) for i,j in vals.keys() if vals[i,j] > EPS]\n",
    "    print('Optimal path: %s' % str(selected))\n",
    "    dibuja(selected)\n",
    "    \n",
    "TSP2()"
   ]
  },
  {
   "cell_type": "markdown",
   "metadata": {},
   "source": [
    "Resolvamos ahora el mismo TSP simétrico pero insertando cortes sobre todas las soluciones enteras que va encontrando también durante el proceso. Para esto necesitamos utilizar las llamadas funciones \"callback\":"
   ]
  },
  {
   "cell_type": "code",
   "execution_count": 28,
   "metadata": {
    "colab": {},
    "colab_type": "code",
    "id": "Snam4hT453Ng"
   },
   "outputs": [
    {
     "name": "stdout",
     "output_type": "stream",
     "text": [
      "Costo total = 582\n",
      "Time =  0.08652877807617188 seconds\n",
      "Optimal path: [(5, 4), (10, 0), (12, 0), (13, 10), (16, 11), (17, 1), (19, 6), (20, 1), (23, 20), (25, 16), (28, 8), (28, 24), (29, 9), (29, 25), (30, 11), (30, 27), (31, 3), (31, 8), (32, 12), (33, 18), (33, 22), (34, 26), (35, 6), (35, 14), (36, 21), (36, 32), (37, 7), (37, 21), (38, 17), (39, 7), (39, 27), (40, 9), (40, 14), (41, 15), (42, 18), (42, 26), (43, 15), (43, 38), (44, 3), (44, 13), (45, 2), (45, 5), (46, 2), (46, 19), (47, 34), (47, 41), (48, 23), (48, 24), (49, 4), (49, 22)]\n"
     ]
    },
    {
     "data": {
      "image/png": "[encoded data removed]",
      "text/plain": [
       "<Figure size 432x288 with 1 Axes>"
      ]
     },
     "metadata": {
      "needs_background": "light"
     },
     "output_type": "display_data"
    }
   ],
   "source": [
    "modelo = Model()\n",
    "x = modelo.addVars(dist.keys(), obj=dist, vtype=GRB.BINARY, name='e')\n",
    "\n",
    "def cbSEC1(modelo, where):\n",
    "    if where == GRB.Callback.MIPSOL:\n",
    "        vals = modelo.cbGetSolution(x)           \n",
    "        G = networkx.Graph()\n",
    "        G.add_edges_from( (i,j) for i,j in vals.keys() if vals[i,j]>EPS )\n",
    "        Components = list(networkx.connected_components(G))\n",
    "        if len(Components) == 1:\n",
    "            return False\n",
    "        for S in Components:\n",
    "            modelo.cbLazy( quicksum( x[i,j] for i in S for j in S if j<i) <= len(S)-1 )\n",
    "    return True\n",
    "\n",
    "def TSP3():\n",
    "    modelo.addConstrs( x.sum(i,'*') + x.sum('*',i) == 2 for i in todos )\n",
    "\n",
    "    modelo.Params.OutputFlag = 0\n",
    "    modelo.Params.lazyConstraints = 1\n",
    "    modelo.optimize(cbSEC1)\n",
    "\n",
    "    print('Costo total = %g' % modelo.objVal)\n",
    "    print('Time = ',modelo.Runtime, \"seconds\")\n",
    "    vals = modelo.getAttr('x', x)\n",
    "    selected = [(i,j) for i,j in vals.keys() if vals[i,j] > EPS]\n",
    "    print('Optimal path: %s' % str(selected))\n",
    "    dibuja(selected)\n",
    "    \n",
    "TSP3()"
   ]
  },
  {
   "cell_type": "markdown",
   "metadata": {},
   "source": [
    "Por último, resolvamos el mismo problema pero evaluando el corte también sobre cada solución fraccionaria, lo que requiere calcular un \"min-cut problem\":"
   ]
  },
  {
   "cell_type": "code",
   "execution_count": 29,
   "metadata": {},
   "outputs": [
    {
     "name": "stdout",
     "output_type": "stream",
     "text": [
      "Costo total = 582\n",
      "Time =  0.1797008514404297 seconds\n",
      "Optimal path: [(5, 4), (10, 0), (12, 0), (13, 10), (16, 11), (17, 1), (19, 6), (20, 1), (21, 12), (23, 20), (25, 16), (28, 8), (28, 24), (29, 9), (29, 25), (30, 11), (30, 27), (31, 3), (31, 8), (33, 18), (33, 22), (34, 26), (35, 6), (35, 14), (36, 21), (36, 32), (37, 7), (37, 32), (38, 17), (39, 7), (39, 27), (40, 9), (40, 14), (41, 15), (42, 18), (42, 26), (43, 15), (43, 38), (44, 3), (44, 13), (45, 2), (45, 5), (46, 2), (46, 19), (47, 34), (47, 41), (48, 23), (48, 24), (49, 4), (49, 22)]\n"
     ]
    },
    {
     "data": {
      "image/png": "[encoded data removed]",
      "text/plain": [
       "<Figure size 432x288 with 1 Axes>"
      ]
     },
     "metadata": {
      "needs_background": "light"
     },
     "output_type": "display_data"
    }
   ],
   "source": [
    "modelo = Model()\n",
    "x = modelo.addVars(dist.keys(), obj=dist, vtype=GRB.BINARY, name='e')\n",
    "\n",
    "def cbSEC2(modelo, where):\n",
    "    corte = False\n",
    "    if where == GRB.Callback.MIPSOL:\n",
    "        vals = modelo.cbGetSolution(x)     # verificar UB solutions      \n",
    "        G = networkx.Graph()\n",
    "        G.add_edges_from( (i,j) for i,j in vals.keys() if vals[i,j]>EPS )\n",
    "        Components = list(networkx.connected_components(G))\n",
    "        if len(Components) == 1:\n",
    "            return False\n",
    "        for S in Components:\n",
    "            modelo.cbLazy( quicksum( x[i,j] for i in S for j in S if j<i) <= len(S)-1 )\n",
    "            corte = True\n",
    "        \n",
    "    if where == GRB.Callback.MIPNODE:\n",
    "        vals = modelo.cbGetNodeRel(x)      # verificar LB solutions\n",
    "        G = networkx.Graph()\n",
    "        for i,j in vals.keys():\n",
    "            if vals[i,j]>EPS:\n",
    "                G.add_edge( i, j, capacity = vals[i,j] )\n",
    "            \n",
    "        free = [True]*n\n",
    "        for i in otros :\n",
    "            if free[i]:\n",
    "                cut_value, partition = networkx.minimum_cut(G, 0, i)\n",
    "                if cut_value < 2-EPS:\n",
    "                    non_S, S = partition\n",
    "                    modelo.cbLazy( quicksum( x[i,j] for i in S for j in S if j<i) <= len(S)-1 ) \n",
    "                    corte = True\n",
    "                    for j in S: free[j] = False\n",
    "    return corte\n",
    "\n",
    "def TSP4():\n",
    "    modelo.addConstrs( x.sum(i,'*') + x.sum('*',i) == 2 for i in todos )\n",
    "\n",
    "    modelo.Params.OutputFlag = 0\n",
    "    modelo.Params.lazyConstraints = 1\n",
    "    modelo.optimize(cbSEC2)\n",
    "\n",
    "    print('Costo total = %g' % modelo.objVal)\n",
    "    print('Time = ',modelo.Runtime, \"seconds\")\n",
    "    vals = modelo.getAttr('x', x)\n",
    "    selected = [(i,j) for i,j in vals.keys() if vals[i,j] > 0.5]\n",
    "    print('Optimal path: %s' % str(selected))\n",
    "    dibuja(selected)\n",
    "\n",
    "TSP4()"
   ]
  },
  {
   "cell_type": "markdown",
   "metadata": {
    "colab_type": "text",
    "id": "rAFCG-i_x1M1"
   },
   "source": [
    "# TSP con ventanas temporales"
   ]
  },
  {
   "cell_type": "markdown",
   "metadata": {},
   "source": [
    "# TSP múltiple"
   ]
  },
  {
   "cell_type": "markdown",
   "metadata": {},
   "source": [
    "# TSP con varias pilas"
   ]
  },
  {
   "cell_type": "markdown",
   "metadata": {},
   "source": [
    "# TSP con visitas consistentes"
   ]
  },
  {
   "cell_type": "code",
   "execution_count": 15,
   "metadata": {},
   "outputs": [
    {
     "data": {
      "image/png": "[encoded data removed]",
      "text/plain": [
       "<Figure size 432x288 with 1 Axes>"
      ]
     },
     "metadata": {
      "needs_background": "light"
     },
     "output_type": "display_data"
    },
    {
     "name": "stdout",
     "output_type": "stream",
     "text": [
      "miramos subtours\n",
      "miramos subtours\n",
      "miramos subtours\n",
      "miramos subtours\n",
      "miramos consistencia\n",
      "maximo= 155 kk= 46 pp= 0 qq= 3 lengthpp= 253 lengthqq= 98\n",
      "miramos subtours\n",
      "miramos subtours\n",
      "miramos subtours\n",
      "miramos consistencia\n",
      "maximo= 365 kk= 10 pp= 1 qq= 2 lengthpp= 373 lengthqq= 8\n",
      "miramos subtours\n",
      "miramos consistencia\n",
      "maximo= 324 kk= 12 pp= 0 qq= 2 lengthpp= 14 lengthqq= 338\n",
      "miramos subtours\n",
      "miramos consistencia\n",
      "maximo= 317 kk= 12 pp= 0 qq= 3 lengthpp= 14 lengthqq= 331\n",
      "miramos subtours\n",
      "miramos consistencia\n",
      "maximo= 70 kk= 22 pp= 1 qq= 3 lengthpp= 225 lengthqq= 155\n",
      "miramos subtours\n",
      "miramos consistencia\n",
      "maximo= 122 kk= 6 pp= 1 qq= 2 lengthpp= 147 lengthqq= 269\n",
      "miramos subtours\n",
      "miramos subtours\n",
      "miramos subtours\n",
      "miramos consistencia\n",
      "maximo= 62 kk= 45 pp= 1 qq= 3 lengthpp= 130 lengthqq= 192\n",
      "miramos subtours\n",
      "miramos subtours\n",
      "miramos consistencia\n",
      "maximo= 61 kk= 43 pp= 1 qq= 2 lengthpp= 138 lengthqq= 77\n",
      "miramos subtours\n",
      "miramos consistencia\n",
      "maximo= 49 kk= 1 pp= 0 qq= 2 lengthpp= 146 lengthqq= 97\n",
      "miramos subtours\n",
      "miramos consistencia\n",
      "maximo= 278 kk= 24 pp= 0 qq= 3 lengthpp= 33 lengthqq= 311\n",
      "miramos subtours\n",
      "miramos consistencia\n",
      "maximo= 28 kk= 11 pp= 1 qq= 2 lengthpp= 197 lengthqq= 225\n",
      "Costo total = 1477\n",
      "Time =  80.90397644042969 seconds\n",
      "Optimal path: [(25, 27, 0), (12, 0, 0), (1, 47, 0), (46, 14, 0), (24, 8, 0), (14, 40, 0), (33, 4, 0), (8, 31, 0), (31, 1, 0), (40, 25, 0), (4, 46, 0), (47, 33, 0), (32, 12, 0), (21, 32, 0), (27, 21, 0), (0, 24, 0), (36, 32, 1), (13, 0, 1), (24, 8, 1), (43, 15, 1), (45, 49, 1), (8, 43, 1), (49, 22, 1), (10, 24, 1), (6, 39, 1), (32, 13, 1), (11, 14, 1), (22, 11, 1), (15, 45, 1), (14, 6, 1), (39, 36, 1), (0, 10, 1), (11, 35, 2), (19, 7, 2), (10, 17, 2), (35, 6, 2), (6, 19, 2), (34, 26, 2), (1, 47, 2), (47, 34, 2), (43, 1, 2), (32, 12, 2), (12, 0, 2), (7, 32, 2), (17, 43, 2), (33, 11, 2), (26, 33, 2), (0, 10, 2), (5, 22, 3), (30, 27, 3), (27, 12, 3), (12, 0, 3), (16, 30, 3), (46, 40, 3), (2, 46, 3), (24, 44, 3), (22, 2, 3), (44, 38, 3), (26, 45, 3), (40, 16, 3), (38, 34, 3), (34, 26, 3), (45, 5, 3), (0, 24, 3)]\n"
     ]
    },
    {
     "data": {
      "image/png": "[encoded data removed]",
      "text/plain": [
       "<Figure size 432x288 with 1 Axes>"
      ]
     },
     "metadata": {
      "needs_background": "light"
     },
     "output_type": "display_data"
    },
    {
     "data": {
      "image/png": "[encoded data removed]",
      "text/plain": [
       "<Figure size 432x288 with 1 Axes>"
      ]
     },
     "metadata": {
      "needs_background": "light"
     },
     "output_type": "display_data"
    },
    {
     "data": {
      "image/png": "[encoded data removed]",
      "text/plain": [
       "<Figure size 432x288 with 1 Axes>"
      ]
     },
     "metadata": {
      "needs_background": "light"
     },
     "output_type": "display_data"
    },
    {
     "data": {
      "image/png": "[encoded data removed]",
      "text/plain": [
       "<Figure size 432x288 with 1 Axes>"
      ]
     },
     "metadata": {
      "needs_background": "light"
     },
     "output_type": "display_data"
    }
   ],
   "source": [
    "m = 4   # number of days\n",
    "n = 50  # number of locations\n",
    "ñ = 15  # number of customers in each day\n",
    "L = 30  # maximum difference for consistency\n",
    "EPS = 0.001\n",
    "\n",
    "days      = range(m)\n",
    "locations = range(n)\n",
    "customers = range(1,n)\n",
    "\n",
    "import random\n",
    "random.seed(12345)\n",
    "points = [(random.randint(0,100),random.randint(0,100)) for i in range(n)]\n",
    "\n",
    "V = {}\n",
    "D = {}\n",
    "for i in customers: D[i] = []\n",
    "for d in days:\n",
    "    V[d] = random.sample(customers,ñ)\n",
    "    for i in V[d]: D[i].append(d)\n",
    "    V[d].append(0)\n",
    "     \n",
    "import math\n",
    "def distance(points, i, j):\n",
    "    dx = points[i][0] - points[j][0]\n",
    "    dy = points[i][1] - points[j][1]\n",
    "    return math.floor(math.sqrt(dx*dx + dy*dy))\n",
    "\n",
    "dist = {(i,j) : distance(points,i,j) for i in locations for j in locations if i!=j}\n",
    "\n",
    "import matplotlib.pyplot as plt\n",
    "def dibuja(selected):                #dibuja una ruta dada como una lista de arcos\n",
    "    plt.plot([p[0] for p in points], [p[1] for p in points], 'bo')\n",
    "    plt.plot( points[0][0] , points[0][1] , 'rs')\n",
    "    for (i,j) in selected:\n",
    "        plt.plot([points[i][0],points[j][0]], [points[i][1],points[j][1]], 'g-')\n",
    "    plt.show()\n",
    "        \n",
    "dibuja({})\n",
    "from gurobipy import *\n",
    "\n",
    "modelo = Model()\n",
    "x = tupledict()\n",
    "for d in days:\n",
    "    for i in V[d]:\n",
    "        for j in V[d]:\n",
    "            if i!=j :\n",
    "                x[i,j,d] = modelo.addVar(obj=dist[i,j], vtype=GRB.BINARY, name='a[%d,%d,%d]'%(i,j,d))\n",
    "f = tupledict()\n",
    "\n",
    "import networkx as nx\n",
    "                \n",
    "def SEC():\n",
    "    print(\"miramos subtours\")\n",
    "    corte = False\n",
    "    vals = modelo.getAttr('x', x)\n",
    "    for d in days:\n",
    "        G = nx.Graph()\n",
    "        G.add_edges_from( (i,j) for i in V[d] for j in V[d] if i!=j and vals[i,j,d]>EPS )\n",
    "        Components = list(nx.connected_components(G))\n",
    "        if len(Components) > 1:\n",
    "            for S in Components:\n",
    "                modelo.addConstr( quicksum( x[i,j,d] for i in S for j in S if i!=j ) <= len(S)-1 )\n",
    "                corte = True\n",
    "    return corte  \n",
    "\n",
    "\n",
    "def Consistency():\n",
    "    print( \"miramos consistencia\")\n",
    "    vals = modelo.getAttr('x', x)\n",
    "    length = {}\n",
    "    for d in days:\n",
    "        G = nx.DiGraph()\n",
    "        G.add_weighted_edges_from( (i,j,dist[i,j]) for i in V[d] for j in V[d] if i!=j and vals[i,j,d]>EPS )\n",
    "        for i in V[d]:\n",
    "            length[i,d] = nx.dijkstra_path_length(G,source=0,target=i)\n",
    "        G.clear()\n",
    "    maximo = 0\n",
    "    for i in customers:\n",
    "        for p in D[i]:\n",
    "            for q in D[i]:\n",
    "                if p<q and maximo < abs(length[i,p]-length[i,q])  :\n",
    "                    maximo = abs(length[i,p]-length[i,q])\n",
    "                    kk = i\n",
    "                    pp = p\n",
    "                    qq = q\n",
    "    print( \"maximo=\",maximo , \"kk=\",kk,\"pp=\",pp,\"qq=\",qq, \"lengthpp=\",length[kk,pp],\"lengthqq=\",length[kk,qq])\n",
    "    if maximo <= L :\n",
    "        return False\n",
    "\n",
    "      \n",
    "    for i in V[pp]:\n",
    "        for j in V[pp]:\n",
    "            if i!=j:\n",
    "                f[i,j,kk,pp] = modelo.addVar(obj=0, vtype=GRB.BINARY, name='f[%d,%d,%d,%d]'%(i,j,kk,pp))\n",
    "    for i in V[qq]:\n",
    "        for j in V[qq]:\n",
    "            if i!=j:\n",
    "                f[i,j,kk,qq] = modelo.addVar(obj=0, vtype=GRB.BINARY, name='f[%d,%d,%d,%d]'%(i,j,kk,qq))\n",
    "        \n",
    "    modelo.addConstr(sum(f[0,j,kk,pp] for j in V[pp] if j!=0 ) == 1)\n",
    "    modelo.addConstr(sum(f[j,0,kk,pp] for j in V[pp] if j!=0 ) == 0)\n",
    "    modelo.addConstrs(sum(f[j,i,kk,pp]-f[i,j,kk,pp] for j in V[pp] if j!=i) == 0 for i in V[pp] if i!=kk and i!=0 )\n",
    "    modelo.addConstrs( f[i,j,kk,pp] <= x[i,j,pp] for i in V[pp] for j in V[pp] if i!=j )\n",
    "\n",
    "    modelo.addConstr(sum(f[0,j,kk,qq] for j in V[qq] if j!=0 ) == 1)\n",
    "    modelo.addConstr(sum(f[j,0,kk,qq] for j in V[qq] if j!=0 ) == 0)\n",
    "    modelo.addConstrs(sum(f[j,i,kk,qq]-f[i,j,kk,qq] for j in V[qq] if j!=i) == 0 for i in V[qq] if i!=kk and i!=0 )\n",
    "    modelo.addConstrs( f[i,j,kk,qq] <= x[i,j,qq] for i in V[qq] for j in V[qq] if i!=j )\n",
    "     \n",
    "    modelo.addConstr( sum(dist[i,j]*f[i,j,kk,pp] for i in V[pp] for j in V[pp] if i!=j ) - sum(dist[i,j]*f[i,j,kk,qq] for i in V[qq] for j in V[qq] if i!=j ) <= L)\n",
    "    modelo.addConstr( sum(dist[i,j]*f[i,j,kk,pp] for i in V[pp] for j in V[pp] if i!=j ) - sum(dist[i,j]*f[i,j,kk,qq] for i in V[qq] for j in V[qq] if i!=j ) >= -L)\n",
    "\n",
    "    return True\n",
    "\n",
    "\n",
    "def CATSPsec():\n",
    "    modelo.addConstrs(sum(x[i,j,k] for j in V[k] if j!=i) == 1 for k in days for i in V[k] )\n",
    "    modelo.addConstrs(sum(x[j,i,k] for j in V[k] if j!=i) == 1 for k in days for i in V[k] )\n",
    "\n",
    "    modelo.Params.OutputFlag = 0\n",
    "\n",
    "    modelo.optimize()\n",
    "    while SEC() or Consistency():\n",
    "        modelo.optimize()    \n",
    "        if modelo.status != GRB.Status.OPTIMAL:\n",
    "            print(' No solution ; status=',modelo.status)\n",
    "            return\n",
    "\n",
    "    print('Costo total = %g' % modelo.objVal)\n",
    "    print('Time = ',modelo.Runtime, \"seconds\")\n",
    "    vals = modelo.getAttr('x', x)\n",
    "    selected = [(i,j,k) for i,j,k in vals.keys() if vals[i,j,k] > EPS]\n",
    "    print('Optimal path: %s' % str(selected))\n",
    "    for k in days: \n",
    "        plt.subplot(2, 2, k+1)\n",
    "        selected = [ (i,j) for i in V[k] for j in V[k] if i!=j and vals[i,j,k]>EPS]\n",
    "        dibuja(selected)\n",
    "        \n",
    "CATSPsec()"
   ]
  },
  {
   "cell_type": "code",
   "execution_count": null,
   "metadata": {},
   "outputs": [],
   "source": []
  }
 ],
 "metadata": {
  "colab": {
   "collapsed_sections": [],
   "include_colab_link": true,
   "name": "logistica.ipynb",
   "provenance": [],
   "toc_visible": true,
   "version": "0.3.2"
  },
  "kernelspec": {
   "display_name": "Python 3",
   "language": "python",
   "name": "python3"
  },
  "language_info": {
   "codemirror_mode": {
    "name": "ipython",
    "version": 3
   },
   "file_extension": ".py",
   "mimetype": "text/x-python",
   "name": "python",
   "nbconvert_exporter": "python",
   "pygments_lexer": "ipython3",
   "version": "3.7.0"
  }
 },
 "nbformat": 4,
 "nbformat_minor": 1
}
