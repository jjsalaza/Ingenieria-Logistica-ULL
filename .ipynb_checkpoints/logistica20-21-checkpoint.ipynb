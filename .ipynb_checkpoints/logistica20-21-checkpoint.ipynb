{
 "cells": [
  {
   "cell_type": "markdown",
   "metadata": {
    "id": "11DXYsXAo6Oe"
   },
   "source": [
    "# Ingeniería Logística, Grado en Informática, ULL , curso 2020-2021\n",
    "---\n",
    "\n"
   ]
  },
  {
   "cell_type": "markdown",
   "metadata": {
    "id": "dUf6bpwqw-su"
   },
   "source": [
    "# Introducción"
   ]
  },
  {
   "cell_type": "markdown",
   "metadata": {
    "id": "TdkhAmqKpWfu"
   },
   "source": [
    "Principalmente aprendemos a representar problemas reales mediante modelos matemáticos de programación lineal (continua o entera), es decir, del tipo $\\max\\{ c^Tx: Ax\\leq b, x\\in Z^n\\}$. Luego estos modelos matemáticos serán resueltos mediante herramientas informáticas especializadas, como [Cplex](https://www.ibm.com/analytics/cplex-optimizer), [Xpress](http://www.fico.com/es/products/fico-xpress-optimization), Gurobi, SCIP, GLKP, CBC, GLOP, etc. Aunque dedicamos algo a comprender las metodologías implementadas en estas herramientas, principalmente la asignatura insistirá en la modelización de problemas.\n"
   ]
  },
  {
   "cell_type": "markdown",
   "metadata": {
    "id": "MFmhocZHtxbD"
   },
   "source": [
    "Un ejemplo de modelo matemático es:\n",
    "\\begin{eqnarray}\n",
    "\\max\\;\\; x+10y& & \\\\\n",
    "x+7y&\\leq& 17.5  \\\\\n",
    "x &\\leq& 3.5  \\\\\n",
    "x,y&\\in& Z\n",
    "\\end{eqnarray}"
   ]
  },
  {
   "cell_type": "markdown",
   "metadata": {
    "id": "ZhSciF4OTGCH"
   },
   "source": [
    "## Lenguaje PuLP de COIN-OR"
   ]
  },
  {
   "cell_type": "markdown",
   "metadata": {
    "id": "OfPsh4ymVjwq"
   },
   "source": [
    "A fín de no complicarnos con la instalación de licencias comerciales, comenzamos usando una librería de optimización de software libre que permite ser llamada desde Python y que ha sideo desarrollada en el proyecto [COIN-OR](https://www.coin-or.org/). Se llama CBC. Además en este mismo proyecto existe un lenguaje que amplía el Python y se llama [PuLP](https://www.coin-or.org/PuLP/). Usando este lenguaje el modelo anterior se resuelve mediante:\n"
   ]
  },
  {
   "cell_type": "code",
   "execution_count": 1,
   "metadata": {
    "id": "YsdTrBeL046m"
   },
   "outputs": [
    {
     "name": "stdout",
     "output_type": "stream",
     "text": [
      "Requirement already satisfied: pulp in c:\\programdata\\anaconda3\\lib\\site-packages (2.1)\n",
      "Requirement already satisfied: pyparsing>=2.0.1 in c:\\programdata\\anaconda3\\lib\\site-packages (from pulp) (2.4.6)\n"
     ]
    }
   ],
   "source": [
    "!pip install pulp\n",
    "from pulp import *"
   ]
  },
  {
   "cell_type": "code",
   "execution_count": 2,
   "metadata": {
    "id": "WAsnbunBNetP"
   },
   "outputs": [],
   "source": [
    "prob = LpProblem(\"MiPrimerProblemaEntero\", LpMaximize)\n",
    "X = LpVariable(\"X\", 0, None,cat='Integer')\n",
    "Y = LpVariable(\"Y\", 0, None,cat='Integer')\n",
    "prob += X + 10 * Y\n",
    "prob += X + 7 * Y <= 17.5\n",
    "prob += X <= 3.5\n"
   ]
  },
  {
   "cell_type": "code",
   "execution_count": 3,
   "metadata": {
    "id": "1IJAxlcv1PHM"
   },
   "outputs": [
    {
     "name": "stdout",
     "output_type": "stream",
     "text": [
      "Status =  Optimal\n",
      "Optimal objective value =  23.0\n",
      "  X =  3.0\n",
      "  Y =  2.0\n"
     ]
    }
   ],
   "source": [
    "prob.solve()\n",
    "\n",
    "print(\"Status = \", LpStatus[prob.status])\n",
    "print(\"Optimal objective value = \", value(prob.objective))\n",
    "print(\"  X = \", X.varValue)\n",
    "print(\"  Y = \", Y.varValue)\n",
    "# prob.writeLP(\"modelo.lp\")\n",
    "# print(prob)"
   ]
  },
  {
   "cell_type": "markdown",
   "metadata": {
    "id": "OzLY8spa047D"
   },
   "source": [
    "Pero con el lenguaje PuLP podemos usar otras librerias de optimización.  Por ejemplo podemos usar GLPK o LPSOLVER que son otras librerías gratuitas de optimización, o Gurobi o Cplex o Xpress que son de pago:"
   ]
  },
  {
   "cell_type": "code",
   "execution_count": 4,
   "metadata": {
    "id": "-d4FOi6K047G"
   },
   "outputs": [
    {
     "name": "stdout",
     "output_type": "stream",
     "text": [
      "Using license file c:\\gurobi902\\gurobi.lic\n",
      "Academic license - for non-commercial use only\n",
      "Status =  Optimal\n",
      "Optimal objective value =  23.0\n",
      "  X =  3.0\n",
      "  Y =  2.0\n"
     ]
    }
   ],
   "source": [
    "from gurobipy import *\n",
    "\n",
    "prob.solve( GUROBI( TimeLimit=60 , msg=False ) )\n",
    "\n",
    "print(\"Status = \", LpStatus[prob.status])\n",
    "print(\"Optimal objective value = \", value(prob.objective))\n",
    "print(\"  X = \", X.varValue)\n",
    "print(\"  Y = \", Y.varValue)"
   ]
  },
  {
   "cell_type": "code",
   "execution_count": 5,
   "metadata": {
    "id": "kTSxS8xe047S"
   },
   "outputs": [
    {
     "name": "stdout",
     "output_type": "stream",
     "text": [
      "Collecting cplex\n",
      "  Downloading cplex-12.10.0.3-cp37-cp37m-win_amd64.whl (26.8 MB)\n",
      "Installing collected packages: cplex\n",
      "Successfully installed cplex-12.10.0.3\n",
      "Status =  Optimal\n",
      "Optimal objective value =  23.0\n",
      "  X =  3.0\n",
      "  Y =  2.0\n"
     ]
    }
   ],
   "source": [
    "!pip install cplex\n",
    "from cplex import *\n",
    "\n",
    "prob.solve( CPLEX(msg=False) )\n",
    "\n",
    "print(\"Status = \", LpStatus[prob.status])\n",
    "print(\"Optimal objective value = \", value(prob.objective))\n",
    "print(\"  X = \", X.varValue)\n",
    "print(\"  Y = \", Y.varValue)"
   ]
  },
  {
   "cell_type": "code",
   "execution_count": null,
   "metadata": {
    "id": "MFQiURZX047c"
   },
   "outputs": [
    {
     "name": "stdout",
     "output_type": "stream",
     "text": [
      "Requirement already satisfied: xpress in c:\\programdata\\anaconda3\\lib\\site-packages (8.9.0)\n",
      "Requirement already satisfied: numpy>=1.8 in c:\\programdata\\anaconda3\\lib\\site-packages (from xpress) (1.18.1)\n"
     ]
    }
   ],
   "source": [
    "!pip install xpress\n",
    "from xpress import *\n",
    "\n",
    "prob.solve( XPRESS(msg=True, keepFiles=True) )\n",
    "\n",
    "print(\"Status = \", LpStatus[prob.status])\n",
    "print(\"Optimal objective value = \", value(prob.objective))\n",
    "print(\"  X = \", X.varValue)\n",
    "print(\"  Y = \", Y.varValue)"
   ]
  },
  {
   "cell_type": "markdown",
   "metadata": {
    "id": "44KbU8Rwh48t"
   },
   "source": [
    "Lo positivo es que este lenguaje permite usar fácilmente muchas librerías de optimización (comerciales o gratuitas). Lo negativo es que no permite funciones avanzadas de ninguna librería, sino sólo las funciones genéricas comunes a todas."
   ]
  },
  {
   "cell_type": "markdown",
   "metadata": {
    "id": "NIlX0QMfTGCV"
   },
   "source": [
    "## Lenguaje de Google OR-tools"
   ]
  },
  {
   "cell_type": "markdown",
   "metadata": {
    "id": "MIizVvLKNg1E"
   },
   "source": [
    "Otro lenguaje alternativo es que ofrece Google, llamado [OR-tools](https://developers.google.com/optimization/). Ni PuLP ni OR-tools son librerías de optimización, sino extensiones del lenguaje Python para escribir cómodamente modelos matemáticos de Programación Lineal (Entera o Continua) que luego pueden ser resueltas con cualquiera de las librerias citadas (CBC, Cplex, Gurobi,...). Actúan como puente entre quien desea resolver un modelo y quien lo resuelve. Muy cómodo. Muy recomendable. \n",
    "\n",
    "Para usar la herramienta OR-tools de Google:"
   ]
  },
  {
   "cell_type": "code",
   "execution_count": null,
   "metadata": {
    "id": "QeXiQgwYjfHB"
   },
   "outputs": [],
   "source": [
    "!pip install ortools\n",
    "from ortools.linear_solver import pywraplp"
   ]
  },
  {
   "cell_type": "markdown",
   "metadata": {
    "id": "fWXoW-e20472"
   },
   "source": [
    "Via este lenguaje se pueden usar varias librerías de optimización (comerciales y gratuitas) pero hay especialmente 2 librerías gratuitas de optimización muy simples de usar. Uno para programación lineal **continua** llamado GLOP_LINEAR_PROGRAMMING que está construido por Google, y otro para programación lineal **entera** llamado CBC_MIXED_INTEGER_PROGRAMMING que está prestado por Coin-OR. Existe la posibilidad de usar otras librerías de optimización (terceros), pero para ello hay que instalarse el código fuente de Google OR-tools en tu ordenador local."
   ]
  },
  {
   "cell_type": "code",
   "execution_count": null,
   "metadata": {
    "id": "4t3pdCAiUIf5"
   },
   "outputs": [],
   "source": [
    "solver = pywraplp.Solver('MiPrimerProblemaEntero', pywraplp.Solver.CBC_MIXED_INTEGER_PROGRAMMING)\n",
    "#solver = pywraplp.Solver('MiPrimerProblemaEntero', pywraplp.Solver.SCIP_MIXED_INTEGER_PROGRAMMING)\n",
    "#solver = pywraplp.Solver('MiPrimerProblemaEntero', pywraplp.Solver.GLPK_MIXED_INTEGER_PROGRAMMING)\n",
    "#solver = pywraplp.Solver('MiPrimerProblemaEntero', pywraplp.Solver.CPLEX_MIXED_INTEGER_PROGRAMMING)\n",
    "#solver = pywraplp.Solver('MiPrimerProblemaEntero', pywraplp.Solver.GUROBI_MIXED_INTEGER_PROGRAMMING)\n",
    "#solver = pywraplp.Solver('MiPrimerProblemaEntero', pywraplp.Solver.XPRESS_MIXED_INTEGER_PROGRAMMING)\n",
    "#solver = pywraplp.Solver('MiPrimerProblemaEntero', pywraplp.Solver.GLOP_LINEAR_PROGRAMMING)  # solo continua\n",
    "#solver = pywraplp.Solver('MiPrimerProblemaEntero', pywraplp.Solver.BOP_INTEGER_PROGRAMMING)  # solo 0-1\n",
    "\n",
    "x = solver.IntVar(0.0, solver.infinity(), 'x')\n",
    "y = solver.IntVar(0.0, solver.infinity(), 'y')\n",
    "\n",
    "solver.Maximize(x + 10 * y)\n",
    "solver.Add( x + 7 * y <= 17.5 )\n",
    "solver.Add( x <= 7.5 )  \n",
    "\n",
    "result_status = solver.Solve()\n",
    "assert result_status == pywraplp.Solver.OPTIMAL\n",
    "  \n",
    "print('Number of variables =', solver.NumVariables())\n",
    "print('Number of constraints =', solver.NumConstraints())\n",
    "print('Optimal objective value = %d' % solver.Objective().Value())\n",
    "  \n",
    "variable_list = [x, y]\n",
    "for variable in variable_list:\n",
    "    print('   %s = %d' % (variable.name(), variable.solution_value()))"
   ]
  },
  {
   "cell_type": "markdown",
   "metadata": {
    "id": "exS1-MmaTrti"
   },
   "source": [
    "Tenemos en OR-tools dos modos de escribir los detalles del modelo: o bien coeficiente a coeficiente, o bien fila a fila. Arriba hemos usado el fila-a-file y a abajo verás el columna-a-columna."
   ]
  },
  {
   "cell_type": "code",
   "execution_count": null,
   "metadata": {
    "id": "jdl-TK8cVVbW"
   },
   "outputs": [],
   "source": [
    "solver = pywraplp.Solver('MiPrimerProblemaEntero', pywraplp.Solver.CBC_MIXED_INTEGER_PROGRAMMING)\n",
    "\n",
    "# x and y are integer non-negative variables.\n",
    "x = solver.IntVar(0.0, solver.infinity(), 'x')\n",
    "y = solver.IntVar(0.0, solver.infinity(), 'y')\n",
    "\n",
    "# x + 7 * y <= 17.5\n",
    "constraint1 = solver.Constraint(-solver.infinity(), 17.5)\n",
    "constraint1.SetCoefficient(x, 1)\n",
    "constraint1.SetCoefficient(y, 7)\n",
    "\n",
    "# x <= 3.5\n",
    "constraint2 = solver.Constraint(-solver.infinity(), 3.5)\n",
    "constraint2.SetCoefficient(x, 1)\n",
    "constraint2.SetCoefficient(y, 0)\n",
    "\n",
    "# Maximize x + 10 * y.\n",
    "objective = solver.Objective()\n",
    "objective.SetCoefficient(x, 1)\n",
    "objective.SetCoefficient(y, 10)\n",
    "objective.SetMaximization()\n",
    "\n",
    "\"\"\"Solve the problem and print the solution.\"\"\"\n",
    "result_status = solver.Solve()\n",
    "# The problem has an optimal solution.\n",
    "assert result_status == pywraplp.Solver.OPTIMAL\n",
    "  \n",
    "print('Number of variables =', solver.NumVariables())\n",
    "print('Number of constraints =', solver.NumConstraints())\n",
    "print('Optimal objective value = %d' % solver.Objective().Value())\n",
    "  \n",
    "# The value of each variable in the solution.\n",
    "variable_list = [x, y]\n",
    "for variable in variable_list:\n",
    "    print('   %s = %d' % (variable.name(), variable.solution_value()))"
   ]
  },
  {
   "cell_type": "markdown",
   "metadata": {
    "id": "LmkB1X811j-B"
   },
   "source": [
    "Personalmente creo que el modo \"fila a fila\" es más claro. Pero pueden haber usuarios que prefieran el \"columna a columna\" (que fue el formato original de las primeras herramientas informáticas en Programación Matemática).\n",
    "\n",
    "El anterior ejemplo fue un modelo ejemplo muy pequeño, con tan sólo 2 variables y 2 restricciones. Es un ejemplo numérico diminuto, de nulo interés práctico. En la práctica se plantean problemas más complejos que necesitan ser representado mediante modelos con más variables y restricciones, y en consecuencia donde notación abreviada ayuda a entenderlos mejor y reducir la posibilidad de cometer errores al introducirlos en un ordenador. Veamos un ejemplo de problema mayor en la siguiente sección."
   ]
  },
  {
   "cell_type": "markdown",
   "metadata": {
    "id": "4d02JzOtTGCc"
   },
   "source": [
    "## Gratis frente a Comercial"
   ]
  },
  {
   "cell_type": "markdown",
   "metadata": {
    "id": "bOVBvc59048H"
   },
   "source": [
    "Los modelos de programación entera pequeños pueden ser muy difíciles. Aqui lo mostramos con 3 variables y 1 ecuación:"
   ]
  },
  {
   "cell_type": "code",
   "execution_count": null,
   "metadata": {
    "id": "utgI4m4javL6"
   },
   "outputs": [],
   "source": [
    "solver = pywraplp.Solver('ProblemaEnteroDificil',  pywraplp.Solver.CBC_MIXED_INTEGER_PROGRAMMING )\n",
    "\n",
    "x = solver.IntVar(0.0, solver.infinity(), 'x')\n",
    "y = solver.IntVar(0.0, solver.infinity(), 'y')\n",
    "z = solver.IntVar(0.0, solver.infinity(), 'z')\n",
    "\n",
    "solver.SetTimeLimit( 60 * 1000 )   # le ponemos un tiempo límite de 60 segundos para no calentar el ordenador\n",
    "\n",
    "solver.Minimize(x)\n",
    "solver.Add( 75001 * y + 75002 * z == 75000 + 75000 * x )\n",
    "result_status = solver.Solve()\n",
    "\n",
    "if result_status == pywraplp.Solver.OPTIMAL:\n",
    "  \n",
    "    print('Number of variables =', solver.NumVariables())\n",
    "    print('Number of constraints =', solver.NumConstraints())\n",
    "    print('Optimal objective value = %d' % solver.Objective().Value())\n",
    "  \n",
    "    variable_list = [x, y, z]\n",
    "    for variable in variable_list:\n",
    "         print('   %s = %d' % (variable.name(), variable.solution_value()))\n",
    "else:\n",
    "    print(' Finalizó sin optimo : status = ',result_status)\n",
    "    \n",
    "print(\"Time = \", solver.WallTime(), \" milliseconds\")\n",
    "print(\"Iterations = \", solver.Iterations())\n",
    "print(\"Nodes = \", solver.nodes())"
   ]
  },
  {
   "cell_type": "markdown",
   "metadata": {
    "id": "MKk-Yz2r048M"
   },
   "source": [
    "Mismo problema con Gurobi, aunque no te funcionará si no tienes la licencia apropiada en el ordenador donde lo quieras resolver:"
   ]
  },
  {
   "cell_type": "code",
   "execution_count": null,
   "metadata": {
    "id": "NZGxNeWvad4a"
   },
   "outputs": [],
   "source": [
    "from gurobipy import *\n",
    "\n",
    "modelo = Model(\"ProblemaEnteroDificil\")\n",
    "\n",
    "x = modelo.addVar(vtype=GRB.INTEGER, name=\"x\")\n",
    "y = modelo.addVar(vtype=GRB.INTEGER, name=\"y\")\n",
    "z = modelo.addVar(vtype=GRB.INTEGER, name=\"z\")\n",
    "\n",
    "modelo.setObjective(x, GRB.MINIMIZE)\n",
    "modelo.addConstr( 75001 * y + 75002 * z == 75000 + 75000 * x , \"c0\")\n",
    "modelo.optimize()\n",
    "\n",
    "print('Optimal  objective value = %g' % modelo.objVal)\n",
    "for variable in modelo.getVars():\n",
    "    print('  %s = %g' % (variable.varName, variable.x))\n",
    "print('runtime is ',modelo.Runtime)"
   ]
  },
  {
   "cell_type": "markdown",
   "metadata": {
    "id": "9DChzUGt048Q"
   },
   "source": [
    "Si comparas los tiempos de cálculo de esas dos herramientas entenderás mejor la diferencia entre \"gratis\" (CBC) y \"de pago\" (Gurobi)!!!\n",
    "\n",
    "Comencemos ahora con problemas más serios, de más utilidad."
   ]
  },
  {
   "cell_type": "markdown",
   "metadata": {
    "id": "8rbIq5skxSIX"
   },
   "source": [
    "# Problemas de Asignación"
   ]
  },
  {
   "cell_type": "markdown",
   "metadata": {
    "id": "EPckcxHY2xUf"
   },
   "source": [
    "Imaginemos tener 6 trabajadores y 4 tareas, y conocer el costo de $c_{ij}$ de que el trabajador $i$ esté asignado a la tarea $j$. Se busca asignar un trabajador a cada tarea, y que ningún trabajador esté asignado a más de una máquina, de manera que el coste total sea lo menor posible.\n"
   ]
  },
  {
   "cell_type": "code",
   "execution_count": null,
   "metadata": {
    "id": "xtr_eIrrkrII"
   },
   "outputs": [],
   "source": [
    "cost  =  [[ 90,  76,  75,  70],\n",
    "          [ 35,  85,  55,  65],\n",
    "          [125,  95,  90, 105],\n",
    "          [ 45, 110,  95, 115],\n",
    "          [ 60, 105,  80,  75],\n",
    "          [ 45,  65, 110,  95]]\n",
    "workers = range( len(cost) )\n",
    "tasks   = range( len(cost[1]) )\n",
    "EPS     = 0.0001"
   ]
  },
  {
   "cell_type": "code",
   "execution_count": null,
   "metadata": {
    "id": "cQ8-xexGJKfc",
    "outputId": "5bd31285-93c6-4280-8030-c4f91b775e03"
   },
   "outputs": [
    {
     "name": "stdout",
     "output_type": "stream",
     "text": [
      "Requirement already satisfied: ortools in c:\\anaconda3\\lib\\site-packages (7.4.7247)\n",
      "Requirement already satisfied: protobuf>=3.10.0 in c:\\anaconda3\\lib\\site-packages (from ortools) (3.10.0)\n",
      "Requirement already satisfied: six>=1.10 in c:\\anaconda3\\lib\\site-packages (from ortools) (1.12.0)\n",
      "Requirement already satisfied: setuptools in c:\\anaconda3\\lib\\site-packages (from protobuf>=3.10.0->ortools) (41.4.0)\n",
      "Costo total =  235.0  in  0.008 seconds\n",
      "Trabajador 0 asignado a la tarea 3.  Costo = 70\n",
      "Trabajador 1 asignado a la tarea 2.  Costo = 55\n",
      "Trabajador 3 asignado a la tarea 0.  Costo = 45\n",
      "Trabajador 5 asignado a la tarea 1.  Costo = 65\n"
     ]
    }
   ],
   "source": [
    "!pip install ortools\n",
    "from ortools.linear_solver import pywraplp\n",
    "solver = pywraplp.Solver('ProblemaAsignacion2dimensional', pywraplp.Solver.CBC_MIXED_INTEGER_PROGRAMMING)\n",
    "\n",
    "x = { (i,j) : solver.BoolVar('x[%i, %i]' % (i, j)) for i in workers for j in tasks }\n",
    "\n",
    "solver.Minimize(solver.Sum(cost[i][j] * x[i,j] for i in workers for j in tasks))\n",
    "[ solver.Add(solver.Sum(x[i,j] for j in tasks) <= 1)  for i in workers ]\n",
    "[ solver.Add(solver.Sum(x[i,j] for i in workers) >= 1)  for j in tasks ]\n",
    "\n",
    "solver.Solve()\n",
    "\n",
    "print('Costo total = ', solver.Objective().Value() ,\" in \", solver.WallTime()/1000, \"seconds\")\n",
    "for i in workers:\n",
    "    for j in tasks:\n",
    "        if x[i, j].solution_value() > EPS :\n",
    "            print('Trabajador %d asignado a la tarea %d.  Costo = %d' % (i,j,cost[i][j]))"
   ]
  },
  {
   "cell_type": "markdown",
   "metadata": {
    "id": "VUCKuDfB5VNf"
   },
   "source": [
    "Si los trabajadores estuviesen en dos equipos (por ejemplo, pares e impares) la solución óptima obtenida usa más trabajadores de un equipo que del otro. Podría tener sentido que el problema real también desee una solución donde se elijan exactamente 2 trabajadores de cada equipo. Para ello hay que introducir nuevas restricciones en el modelo matemático:"
   ]
  },
  {
   "cell_type": "code",
   "execution_count": null,
   "metadata": {
    "id": "LJLBepm44aAX"
   },
   "outputs": [],
   "source": [
    "team1 = [0, 2, 4]\n",
    "team2 = [1, 3, 5]\n",
    "\n",
    "solver.Add(solver.Sum(x[i, j] for i in team1 for j in tasks) <= 2)\n",
    "solver.Add(solver.Sum(x[i, j] for i in team2 for j in tasks) <= 2)\n",
    "\n",
    "solver.Solve()\n",
    "\n",
    "print('Costo total = ', solver.Objective().Value() ,\" in \", solver.WallTime()/1000, \"seconds\")\n",
    "for i in workers:\n",
    "    for j in tasks:\n",
    "        if x[i, j].solution_value() > 0:\n",
    "            print('Trabajador %d asignado a la tarea %d.  Costo = %d' % (i,j,cost[i][j]))"
   ]
  },
  {
   "cell_type": "markdown",
   "metadata": {
    "id": "nFnQmZKr8H1l"
   },
   "source": [
    "Como era de esperar, la nueva solución óptima cuesta más que la anterior porque debe cumplir además las nuevas desigualdades."
   ]
  },
  {
   "cell_type": "markdown",
   "metadata": {
    "id": "fs3PDp5kTGCp"
   },
   "source": [
    "## 3-dimensional"
   ]
  },
  {
   "cell_type": "markdown",
   "metadata": {
    "id": "caeNLQwBWjey"
   },
   "source": [
    "Terminemos esta sección con un problema de asignación más complejo, conocido como **problema de asignación 3-dimensional**. Pensemos ahora que tenemos 5 profesores, 5 asignaturas y 5 aulas, y queremos asignar un profesor a cada asignatura en un aula, de modo que cada profesor da 1 asignatura en 1 aula, cada asignatura la da 1 profesor en 1 aula, y cada aula imparte 1 asignatura por 1 profesor. Todo queremos que se realice a costo total mínimo. Concretamente se llama problema de asignación 3-dimensional **axial** porque como veremos su modelo matemático se basa en restricciones que tienen 1 índice libre, en contraposición a otro problema que se llama de asignación 3-dimensional **planar** donde su modelo se basa en restricciones que tienen 2 indices libres. Vemos primero el modelo para el problema axial planteado, es decir, asignar profesores, asignaturas y aulas:"
   ]
  },
  {
   "cell_type": "code",
   "execution_count": null,
   "metadata": {
    "id": "02U2AuGT048g"
   },
   "outputs": [],
   "source": [
    "import random  \n",
    "dimension = 10\n",
    "opciones  = range(dimension)\n",
    "random.seed(12345)\n",
    "cost      = [[[random.randint(1,100) for i in opciones] for j in opciones] for k in opciones]\n",
    "EPS       = 0.001"
   ]
  },
  {
   "cell_type": "code",
   "execution_count": null,
   "metadata": {
    "id": "WxexrgSTX2q6",
    "outputId": "891814f4-f597-4d52-af7a-6369878e610b"
   },
   "outputs": [
    {
     "name": "stdout",
     "output_type": "stream",
     "text": [
      "Costo total =  29.0  in  0.534 seconds\n",
      "Prof 0 con asignatura 9 en aula 4.  Costo = 2\n",
      "Prof 1 con asignatura 4 en aula 6.  Costo = 1\n",
      "Prof 2 con asignatura 8 en aula 2.  Costo = 6\n",
      "Prof 3 con asignatura 5 en aula 1.  Costo = 7\n",
      "Prof 4 con asignatura 6 en aula 9.  Costo = 1\n",
      "Prof 5 con asignatura 3 en aula 0.  Costo = 1\n",
      "Prof 6 con asignatura 0 en aula 8.  Costo = 1\n",
      "Prof 7 con asignatura 7 en aula 7.  Costo = 1\n",
      "Prof 8 con asignatura 2 en aula 5.  Costo = 2\n",
      "Prof 9 con asignatura 1 en aula 3.  Costo = 7\n"
     ]
    }
   ],
   "source": [
    "solver = pywraplp.Solver('3APaxial', pywraplp.Solver.CBC_MIXED_INTEGER_PROGRAMMING)\n",
    "\n",
    "x = { (i,j,k) : solver.BoolVar('x[%i,%i,%i]' % (i,j,k)) for i in opciones for j in opciones for k in opciones }\n",
    "            \n",
    "solver.Minimize( solver.Sum(cost[i][j][k] * x[i,j,k] for i in opciones for j in opciones for k in opciones))\n",
    "\n",
    "[ solver.Add(solver.Sum(x[i,j,k] for j in opciones for k in opciones) == 1) for i in opciones ]\n",
    "[ solver.Add(solver.Sum(x[i,j,k] for i in opciones for k in opciones) == 1) for j in opciones ]\n",
    "[ solver.Add(solver.Sum(x[i,j,k] for i in opciones for j in opciones) == 1) for k in opciones ]\n",
    "    \n",
    "sol = solver.Solve()\n",
    "\n",
    "print('Costo total = ', solver.Objective().Value() ,\" in \", solver.WallTime()/1000, \"seconds\")\n",
    "for i in opciones:\n",
    "    for j in opciones:\n",
    "        for k in opciones:\n",
    "            if x[i,j,k].solution_value() > EPS :\n",
    "                print('Prof %d con asignatura %d en aula %d.  Costo = %d' % (i,j,k,cost[i][j][k]))"
   ]
  },
  {
   "cell_type": "markdown",
   "metadata": {
    "id": "evhjAqqida0W"
   },
   "source": [
    "El modelo del problema de asignación 3-dimensional **planar** es el siguiente. Nótese que **no** es un modelo alternativo para el problema de asignación de profesores, asignatura y aulas. Es el modelo de otro problema diferente. Por eso la solución óptima del modelo anterior y del modelo siguiente no coinciden, ni tienen relación alguna. Si tienes curiosidad por conocer el problema asociado a este otro modelo, te sugiero que estudies el concepto de [Cuadrado Latino](https://es.wikipedia.org/wiki/Cuadrado_latino)."
   ]
  },
  {
   "cell_type": "code",
   "execution_count": null,
   "metadata": {
    "id": "g8_VJgId-5D0",
    "outputId": "2be5ec06-5439-4ac8-99d3-1f0aecebebd1"
   },
   "outputs": [
    {
     "name": "stdout",
     "output_type": "stream",
     "text": [
      "Costo total =  1813.0  in  8.899 seconds\n",
      "Indices: 0  0  4.  Costo = 48\n",
      "Indices: 0  1  2.  Costo = 56\n",
      "Indices: 0  2  3.  Costo = 12\n",
      "Indices: 0  3  7.  Costo = 4\n",
      "Indices: 0  4  0.  Costo = 4\n",
      "Indices: 0  5  6.  Costo = 14\n",
      "Indices: 0  6  8.  Costo = 30\n",
      "Indices: 0  7  1.  Costo = 28\n",
      "Indices: 0  8  5.  Costo = 2\n",
      "Indices: 0  9  9.  Costo = 11\n",
      "Indices: 1  0  2.  Costo = 2\n",
      "Indices: 1  1  4.  Costo = 2\n",
      "Indices: 1  2  7.  Costo = 16\n",
      "Indices: 1  3  0.  Costo = 11\n",
      "Indices: 1  4  6.  Costo = 1\n",
      "Indices: 1  5  1.  Costo = 13\n",
      "Indices: 1  6  3.  Costo = 4\n",
      "Indices: 1  7  9.  Costo = 16\n",
      "Indices: 1  8  8.  Costo = 26\n",
      "Indices: 1  9  5.  Costo = 38\n",
      "Indices: 2  0  3.  Costo = 34\n",
      "Indices: 2  1  9.  Costo = 5\n",
      "Indices: 2  2  0.  Costo = 36\n",
      "Indices: 2  3  4.  Costo = 7\n",
      "Indices: 2  4  1.  Costo = 1\n",
      "Indices: 2  5  5.  Costo = 39\n",
      "Indices: 2  6  7.  Costo = 11\n",
      "Indices: 2  7  6.  Costo = 15\n",
      "Indices: 2  8  2.  Costo = 6\n",
      "Indices: 2  9  8.  Costo = 13\n",
      "Indices: 3  0  6.  Costo = 2\n",
      "Indices: 3  1  5.  Costo = 21\n",
      "Indices: 3  2  9.  Costo = 3\n",
      "Indices: 3  3  3.  Costo = 6\n",
      "Indices: 3  4  7.  Costo = 13\n",
      "Indices: 3  5  0.  Costo = 5\n",
      "Indices: 3  6  2.  Costo = 29\n",
      "Indices: 3  7  8.  Costo = 28\n",
      "Indices: 3  8  4.  Costo = 2\n",
      "Indices: 3  9  1.  Costo = 16\n",
      "Indices: 4  0  7.  Costo = 32\n",
      "Indices: 4  1  1.  Costo = 14\n",
      "Indices: 4  2  2.  Costo = 11\n",
      "Indices: 4  3  8.  Costo = 34\n",
      "Indices: 4  4  9.  Costo = 4\n",
      "Indices: 4  5  4.  Costo = 26\n",
      "Indices: 4  6  5.  Costo = 12\n",
      "Indices: 4  7  0.  Costo = 3\n",
      "Indices: 4  8  3.  Costo = 4\n",
      "Indices: 4  9  6.  Costo = 72\n",
      "Indices: 5  0  9.  Costo = 7\n",
      "Indices: 5  1  6.  Costo = 41\n",
      "Indices: 5  2  1.  Costo = 12\n",
      "Indices: 5  3  5.  Costo = 2\n",
      "Indices: 5  4  2.  Costo = 21\n",
      "Indices: 5  5  8.  Costo = 51\n",
      "Indices: 5  6  0.  Costo = 18\n",
      "Indices: 5  7  3.  Costo = 2\n",
      "Indices: 5  8  7.  Costo = 30\n",
      "Indices: 5  9  4.  Costo = 6\n",
      "Indices: 6  0  5.  Costo = 26\n",
      "Indices: 6  1  3.  Costo = 32\n",
      "Indices: 6  2  6.  Costo = 16\n",
      "Indices: 6  3  9.  Costo = 8\n",
      "Indices: 6  4  8.  Costo = 33\n",
      "Indices: 6  5  7.  Costo = 6\n",
      "Indices: 6  6  1.  Costo = 19\n",
      "Indices: 6  7  4.  Costo = 14\n",
      "Indices: 6  8  0.  Costo = 3\n",
      "Indices: 6  9  2.  Costo = 10\n",
      "Indices: 7  0  1.  Costo = 17\n",
      "Indices: 7  1  0.  Costo = 20\n",
      "Indices: 7  2  8.  Costo = 13\n",
      "Indices: 7  3  6.  Costo = 10\n",
      "Indices: 7  4  5.  Costo = 6\n",
      "Indices: 7  5  2.  Costo = 17\n",
      "Indices: 7  6  4.  Costo = 16\n",
      "Indices: 7  7  7.  Costo = 1\n",
      "Indices: 7  8  9.  Costo = 29\n",
      "Indices: 7  9  3.  Costo = 23\n",
      "Indices: 8  0  8.  Costo = 17\n",
      "Indices: 8  1  7.  Costo = 62\n",
      "Indices: 8  2  4.  Costo = 4\n",
      "Indices: 8  3  2.  Costo = 10\n",
      "Indices: 8  4  3.  Costo = 49\n",
      "Indices: 8  5  9.  Costo = 48\n",
      "Indices: 8  6  6.  Costo = 4\n",
      "Indices: 8  7  5.  Costo = 31\n",
      "Indices: 8  8  1.  Costo = 16\n",
      "Indices: 8  9  0.  Costo = 2\n",
      "Indices: 9  0  0.  Costo = 35\n",
      "Indices: 9  1  8.  Costo = 14\n",
      "Indices: 9  2  5.  Costo = 11\n",
      "Indices: 9  3  1.  Costo = 4\n",
      "Indices: 9  4  4.  Costo = 11\n",
      "Indices: 9  5  3.  Costo = 12\n",
      "Indices: 9  6  9.  Costo = 14\n",
      "Indices: 9  7  2.  Costo = 59\n",
      "Indices: 9  8  6.  Costo = 56\n",
      "Indices: 9  9  7.  Costo = 3\n"
     ]
    }
   ],
   "source": [
    "solver = pywraplp.Solver('3APplanar', pywraplp.Solver.CBC_MIXED_INTEGER_PROGRAMMING)\n",
    "\n",
    "x = { (i,j,k) : solver.BoolVar('x[%i,%i,%i]' % (i,j,k)) for i in opciones for j in opciones for k in opciones }\n",
    "            \n",
    "solver.Minimize( solver.Sum(cost[i][j][k] * x[i,j,k] for i in opciones for j in opciones for k in opciones) )\n",
    "\n",
    "[ solver.Add(solver.Sum(x[i,j,k] for k in opciones) == 1) for i in opciones for j in opciones ]\n",
    "[ solver.Add(solver.Sum(x[i,j,k] for j in opciones) == 1) for i in opciones for k in opciones ]\n",
    "[ solver.Add(solver.Sum(x[i,j,k] for i in opciones) == 1) for j in opciones for k in opciones ]\n",
    "    \n",
    "solver.Solve()\n",
    "\n",
    "print('Costo total = ', solver.Objective().Value() ,\" in \", solver.WallTime()/1000, \"seconds\")\n",
    "for i in opciones:\n",
    "    for j in opciones:\n",
    "        for k in opciones:\n",
    "            if x[i,j,k].solution_value() > EPS :\n",
    "                print('Indices: %d  %d  %d.  Costo = %d' % (i,j,k,cost[i][j][k]))"
   ]
  },
  {
   "cell_type": "markdown",
   "metadata": {
    "id": "pnZerI9p048w"
   },
   "source": [
    "Hasta ahora hemos estado usando el software gratuito CBC a través de la herramienta OR-tools de Google. Para resolverlo con Gurobi (recuerda que necesitas licencia sobre el ordenador en el que lo quieres resolver) la sintaxis es:"
   ]
  },
  {
   "cell_type": "code",
   "execution_count": null,
   "metadata": {
    "id": "g4yOlHDl048y"
   },
   "outputs": [],
   "source": [
    "from gurobipy import *\n",
    "\n",
    "modelo = Model(\"AP3axial\")\n",
    "\n",
    "x = { (i,j,k) : modelo.addVar(vtype=GRB.BINARY, name=\"x[%i,%i,%i]\" % (i,j,k)) for i in opciones for j in opciones for k in opciones }\n",
    "            \n",
    "modelo.modelSense = GRB.MINIMIZE\n",
    "modelo.setObjective( quicksum(cost[i][j][k] * x[i,j,k] for i in opciones for j in opciones for k in opciones) )\n",
    "    \n",
    "[ modelo.addConstr( quicksum(x[i,j,k] for j in opciones for k in opciones) == 1 ) for i in opciones ]\n",
    "[ modelo.addConstr( quicksum(x[i,j,k] for i in opciones for k in opciones) == 1 ) for j in opciones ]\n",
    "[ modelo.addConstr( quicksum(x[i,j,k] for i in opciones for j in opciones) == 1 ) for k in opciones ]\n",
    "                    \n",
    "modelo.optimize()\n",
    "                    \n",
    "print('Costo total = %g' % modelo.objVal,' in = ',modelo.Runtime, \" seconds\")\n",
    "for i in opciones:\n",
    "    for j in opciones:\n",
    "        for k in opciones:\n",
    "            if x[i,j,k].x > EPS:\n",
    "                print('Indices: %d  %d  %d.  Costo = %d' % (i,j,k,cost[i][j][k]))"
   ]
  },
  {
   "cell_type": "code",
   "execution_count": null,
   "metadata": {
    "id": "KYcY09kUTGCv"
   },
   "outputs": [],
   "source": [
    "from gurobipy import *\n",
    "\n",
    "modelo = Model(\"AP3planar\")\n",
    "\n",
    "x = { (i,j,k) : modelo.addVar(vtype=GRB.BINARY, name=\"x[%i,%i,%i]\" % (i,j,k)) for i in opciones for j in opciones for k in opciones }\n",
    "\n",
    "modelo.modelSense = GRB.MINIMIZE\n",
    "modelo.setObjective( quicksum(cost[i][j][k] * x[i,j,k] for i in opciones for j in opciones for k in opciones) )\n",
    "    \n",
    "[ modelo.addConstr( quicksum(x[i,j,k] for k in opciones) == 1 ) for i in opciones for j in opciones ]\n",
    "[ modelo.addConstr( quicksum(x[i,j,k] for j in opciones) == 1 ) for i in opciones for k in opciones ]\n",
    "[ modelo.addConstr( quicksum(x[i,j,k] for i in opciones) == 1 ) for j in opciones for k in opciones ]\n",
    "                    \n",
    "modelo.optimize()\n",
    "                    \n",
    "print('Costo total = %g' % modelo.objVal,' in = ',modelo.Runtime, \" seconds\")\n",
    "for i in opciones:\n",
    "    for j in opciones:\n",
    "        for k in opciones:\n",
    "            if x[i,j,k].x > EPS:\n",
    "                print('Indices: %d  %d  %d.  Costo = %d' % (i,j,k,cost[i][j][k]))"
   ]
  },
  {
   "cell_type": "markdown",
   "metadata": {
    "id": "ItwkPwAqxsp9"
   },
   "source": [
    "# Problemas de Caminos"
   ]
  },
  {
   "cell_type": "markdown",
   "metadata": {
    "id": "rLyD81Yx0482"
   },
   "source": [
    "Resolvamos el problema de calcular el camino de costo mínimo del nodo $s=0$ al nodo $t=n-1$ en un grafo dirigido con costos positivos:"
   ]
  },
  {
   "cell_type": "code",
   "execution_count": null,
   "metadata": {
    "id": "GVdXPfFx0483"
   },
   "outputs": [],
   "source": [
    "n        = 100\n",
    "opciones = range(n)\n",
    "s = 0    # source\n",
    "t = n-1  # target\n",
    "\n",
    "import random\n",
    "random.seed(1)\n",
    "points   = [(random.randint(0,100),random.randint(0,100)) for i in opciones]\n",
    "\n",
    "import matplotlib.pyplot as plt\n",
    "def dibuja(selected):\n",
    "    plt.plot([p[0] for p in points], [p[1] for p in points], 'bo')\n",
    "    for (i,j) in selected:\n",
    "        plt.plot([points[i][0],points[j][0]], [points[i][1],points[j][1]], 'g-')\n",
    "    plt.plot(points[s][0],points[s][1], 'rs')\n",
    "    plt.plot(points[t][0],points[t][1], 'rs')\n",
    "\n",
    "dibuja({})\n",
    "\n",
    "import math\n",
    "def distance(points, i, j):\n",
    "    dx = points[i][0] - points[j][0]\n",
    "    dy = points[i][1] - points[j][1]\n",
    "    return math.floor(math.sqrt(dx*dx + dy*dy))\n",
    "        \n",
    "!pip install ortools\n",
    "from ortools.linear_solver import pywraplp"
   ]
  },
  {
   "cell_type": "code",
   "execution_count": null,
   "metadata": {
    "id": "7JKQTlU5yeIa"
   },
   "outputs": [],
   "source": [
    "solver = pywraplp.Solver('ShortestPath', pywraplp.Solver.CBC_MIXED_INTEGER_PROGRAMMING)\n",
    "\n",
    "x = { (i,j) : solver.BoolVar('x[%i, %i]' % (i, j)) for i in opciones for j in opciones }\n",
    "y = { i : solver.BoolVar('y[%i]' % i) for i in opciones }\n",
    "            \n",
    "solver.Minimize( solver.Sum(distance(points,i,j) * x[i,j] for i in opciones for j in opciones if i!=j ) )\n",
    "\n",
    "solver.Add(solver.Sum(x[s,j] for j in opciones if j!=s ) == 1)\n",
    "solver.Add(solver.Sum(x[i,s] for i in opciones if i!=s ) == 0)\n",
    "solver.Add(solver.Sum(x[i,t] for i in opciones if i!=t ) == 1)\n",
    "solver.Add(solver.Sum(x[t,j] for j in opciones if j!=t ) == 0)\n",
    "[ solver.Add(solver.Sum(x[i,j] for j in opciones if j!=i) == y[i]) for i in opciones if i!=s and i!=t ]\n",
    "[ solver.Add(solver.Sum(x[i,j] for i in opciones if j!=i) == y[j]) for j in opciones if j!=s and j!=t ]\n",
    "    \n",
    "solver.Solve()\n",
    "\n",
    "print('Costo total = ', solver.Objective().Value(),\" in \", solver.WallTime()/1000, \"seconds\")    \n",
    "selected = [(i,j) for i in opciones for j in opciones if x[i,j].solution_value() > 0.5]\n",
    "print('Optimal path: %s' % str(selected))\n",
    "dibuja(selected)"
   ]
  },
  {
   "cell_type": "markdown",
   "metadata": {
    "id": "vGZiZz_P0488"
   },
   "source": [
    "Para que el anterior modelo funcione es fundamental que no existan circuitos de costo negativo o nulo, cosa que viene garantizada si las distancias son positivas."
   ]
  },
  {
   "cell_type": "markdown",
   "metadata": {
    "id": "lr5ykvzPTGC1"
   },
   "source": [
    "## Arbol de Steiner"
   ]
  },
  {
   "cell_type": "markdown",
   "metadata": {
    "id": "wg7a2K_OTGC1"
   },
   "source": [
    "Se define sobre un grafo no dirigido $G(V,E)$ donde: \\\\\n",
    " \n",
    "$T \\subseteq V$ conjunto de nodos terminales a conectar \\\\\n",
    "$S \\subseteq V$ conjunto de nodos de Steiner \\\\\n",
    "$c_{ij}$: coste de utilizar la arista $e_{ij}$    con $e_{ij}\\in E$ \\\\\n",
    "\n",
    "Se busca el árbol de coste mínimo que contenga todos los vértices terminales (siendo opcional que contenga vérticas de Steiner).\n",
    "\n",
    "Para ello se añaden dos variables, $x_{ij}$ e $y_i$:\n",
    "\n",
    "$ x_{ij} = \\left \\{\n",
    "\\begin{array}{ll}\n",
    "      1 & \\textrm{si está en el árbol} \\\\\n",
    "      0 & \\textrm{en otro caso} \\\\\n",
    "\\end{array} \n",
    "\\right.$ \\\\\n",
    "\n",
    "\n",
    "$ y_i = \\left \\{\n",
    "\\begin{array}{ll}\n",
    "      1 & \\textrm{si el nodo }i\\textrm{ está en el árbol} \\\\\n",
    "      0 & \\textrm{en otro caso} \\\\\n",
    "\\end{array} \n",
    "\\right.$\n",
    "\n",
    "Además, en este caso se añade una variable $f_{ij}$ que representa la cantidad de producto de $i$ a $j$. \n",
    "En este caso el modelo matemático del árbol de Steiner a implementar es:\n",
    "\\begin{align}\n",
    "\\min \\sum_{i=1}^n\\sum_{j=1}^n c_{ij}x_{ij} \n",
    "\\end{align}\n",
    "sujeto a: \n",
    "\\begin{eqnarray}\n",
    "y_i &= 1, && & i\\in T \\\\\n",
    "x_{ij} &\\leq y_i, && & i,j \\in [0,…,n], i\\neq j  \\\\\n",
    "x_{ij} &\\leq y_j, && & i,j \\in [0,…,n], i\\neq j  \\\\\n",
    "\\sum_{i=0}^n\\sum_{j=0, j\\neq{i}}^n x_{ji} &= (\\sum_{i=0}^n y_i) -1 & \\\\\n",
    "\\sum_{j=0,j\\neq i}^n ( f_{ji}-f_{ij} ) &\\geq y_i, && & i \\in [1,…,n] \\\\\n",
    "f_{ij} &\\leq (n-1)x_{ij}, && & i,j \\in [0,…,n\\\\\n",
    "\\end{eqnarray}"
   ]
  },
  {
   "cell_type": "code",
   "execution_count": null,
   "metadata": {
    "id": "wqYCkKUITGC1"
   },
   "outputs": [],
   "source": [
    "!pip install ortools\n",
    "from ortools.linear_solver import pywraplp\n",
    "import random\n",
    "n     = 15\n",
    "total = range(n)\n",
    "resto = range(1,n)\n",
    "terminales = range(0,8)\n",
    "random.seed(12345)\n",
    "dist  = { (i,j) : random.randint(1,100) for i in total for j in total if i!=j }\n",
    "points = [(random.randint(0,100),random.randint(0,100)) for i in total]\n",
    "EPS   = 0.001\n",
    "\n",
    "import matplotlib.pyplot as plt\n",
    "def dibuja(selected):                #dibuja una ruta dada como una lista de arcos\n",
    "    plt.plot([p[0] for p in points], [p[1] for p in points], 'bo')\n",
    "    for (i,j) in selected:\n",
    "        plt.plot([points[i][0],points[j][0]], [points[i][1],points[j][1]], 'g-')\n",
    "\n",
    "\n",
    "def steiner():\n",
    "    solver = pywraplp.Solver('steiner', pywraplp.Solver.CBC_MIXED_INTEGER_PROGRAMMING) \n",
    "    x = {}\n",
    "    for i,j in dist.keys():\n",
    "        x[i,j] = solver.BoolVar('x[%i,%i]' % (i,j))\n",
    "    y = {}\n",
    "    for i in total:\n",
    "        y[i] = solver.BoolVar('y[%i]' % i)\n",
    "    f = {}\n",
    "    for i,j in dist.keys():\n",
    "        f[i,j] = solver.NumVar(0.0, solver.infinity(), 'f[%i,%i]' % (i,j))         \n",
    "                \n",
    "    solver.Minimize(solver.Sum( dist[i,j]*x[i,j] for i,j in dist.keys() ))\n",
    "    \n",
    "    [ solver.Add(            y[i] == 1 ) for i in terminales ] #restriccion 1\n",
    "    [ solver.Add(       x[i,j]  <= y[i] )   for (i,j) in dist.keys() if i!=j  ] \n",
    "    [ solver.Add(       x[i,j]  <= y[j] )   for (i,j) in dist.keys() if i!=j  ]\n",
    "    [ solver.Add( solver.Sum( x[i,j] for i,j in dist.keys() if i!=j) == solver.Sum( y[i] for i in total)-1 )   ]   \n",
    "    [ solver.Add( solver.Sum(f[j,i]-f[i,j] for j in total if j!=i) >= y[i] )  for i in resto ] \n",
    "    [ solver.Add(            f[i,j] <= (n-1)*x[i,j]           )    for i,j in dist.keys() ]\n",
    "    \n",
    "    solver.Solve()\n",
    "    print('Distancia total = ', solver.Objective().Value(),'km ', solver.WallTime()/1000, \" segundos\")\n",
    "    for i in total:\n",
    "        print('y[%d]=%f' % (i,y[i].solution_value()))\n",
    "\n",
    "    for i in total:\n",
    "        for j in total :\n",
    "            if i!=j:\n",
    "                if x[i,j].solution_value() > EPS:\n",
    "                    print('x[%d,%d]=%f  f[%d,%d]=%f' % (i,j,x[i,j].solution_value(),i,j,f[i,j].solution_value()))\n",
    "\n",
    "    selected = [(i,j) for i,j in dist.keys() if x[i,j].solution_value() > EPS]\n",
    "    print('Optimal path: %s' % str(selected))\n",
    "    dibuja(selected)\n",
    "\n",
    "steiner()"
   ]
  },
  {
   "cell_type": "markdown",
   "metadata": {
    "id": "AmJHLuWKxxO9"
   },
   "source": [
    "# Problema del Viajante de Comercio"
   ]
  },
  {
   "cell_type": "markdown",
   "metadata": {
    "id": "x9fEuuA70489"
   },
   "source": [
    "El Problema del Viajante de Comercio (\"Travelling Salesman Problem\") busca un circuito que visite una vez cada uno de los nodos de un grafo, con el menos coste posible de recorrido del circuito. Comenzamos generando datos aleatorios. Primero lo haremos sin ninguna propiedad de la matriz de costos, mostrando 10 modelos diferentes,  y más adelante lo haremos con puntos sobre un espacio cartesiano y distancias euclídeas, mostrando 4 variantes del mejor modelo. El ejercicio es importante porque muestra que pueden existir varios modelos para un mismo problema, y que no todos los modelos de un problema requieren el mismo tiempo de cálculo para ser resueltos. De este ejercicio sobre el TSP aprenderemos a reconocer modelos buenos y modelos malos. Comencemos generando $n$ puntos y distancias aleatorias entre ellos (es decir, un grafo asimétrico con $n$ nodos), es decir, un ejemplo numérico para el ATSP."
   ]
  },
  {
   "cell_type": "code",
   "execution_count": null,
   "metadata": {
    "id": "8EN62jDS048-"
   },
   "outputs": [],
   "source": [
    "n     = 20\n",
    "todos = range(n)\n",
    "otros = range(1,n)\n",
    "EPS   = 0.001\n",
    "\n",
    "import random\n",
    "random.seed(12345)\n",
    "dist  = { (i,j) : random.randint(1,100) for i in todos for j in todos if i!=j }"
   ]
  },
  {
   "cell_type": "markdown",
   "metadata": {
    "id": "opEGVRXSTGC5"
   },
   "source": [
    "## Gratuito: OR-tools de Google y CBC de COIN-OR"
   ]
  },
  {
   "cell_type": "markdown",
   "metadata": {
    "id": "ESSz-Qkt049A"
   },
   "source": [
    "Usando OR-tools como marco de trabajo, y CBC como librería de optimización lineal entera, mostramos primero 3 modelos para el ATSP:"
   ]
  },
  {
   "cell_type": "code",
   "execution_count": null,
   "metadata": {
    "id": "d9Xm2yd5TGC5",
    "outputId": "97beebff-46e8-4c2d-e78c-2ab82de33290"
   },
   "outputs": [
    {
     "name": "stdout",
     "output_type": "stream",
     "text": [
      "Requirement already satisfied: ortools in c:\\anaconda3\\lib\\site-packages (7.4.7247)\n",
      "Requirement already satisfied: protobuf>=3.10.0 in c:\\anaconda3\\lib\\site-packages (from ortools) (3.10.0)\n",
      "Requirement already satisfied: six>=1.10 in c:\\anaconda3\\lib\\site-packages (from ortools) (1.12.0)\n",
      "Requirement already satisfied: setuptools in c:\\anaconda3\\lib\\site-packages (from protobuf>=3.10.0->ortools) (41.4.0)\n"
     ]
    }
   ],
   "source": [
    "!pip install ortools\n",
    "from ortools.linear_solver import pywraplp"
   ]
  },
  {
   "cell_type": "code",
   "execution_count": null,
   "metadata": {
    "id": "KBaRAQz5049B",
    "outputId": "de4b1cb3-a902-4859-ae5e-573eb3a79b2d"
   },
   "outputs": [
    {
     "name": "stdout",
     "output_type": "stream",
     "text": [
      "Modelo con  x  y  LP  opt= 150.80000000000035  en  4043  milliseconds\n",
      "Modelo con  u  y  LP  opt= 149.6896551724138  en  127  milliseconds\n",
      "Modelo con  v  y  LP  opt= 154.25  en  2322  milliseconds\n",
      "Modelo con  f  y  LP  opt= 150.48275862068965  en  126  milliseconds\n",
      "Modelo con  x  y  ip  opt= 155.0  en  103926  milliseconds\n",
      "Modelo con  u  y  ip  opt= 155.0  en  3130  milliseconds\n",
      "Modelo con  v  y  ip  opt= 155.0  en  48209  milliseconds\n",
      "Modelo con  f  y  ip  opt= 155.0  en  1189  milliseconds\n"
     ]
    }
   ],
   "source": [
    "def ATSP(var,tipo):\n",
    "    if var == 'a':\n",
    "        if tipo == 'LP':\n",
    "            solver = pywraplp.Solver('ATSP2xLP', pywraplp.Solver.GLOP_LINEAR_PROGRAMMING)\n",
    "            x = { (i,j,k) : solver.NumVar(0.0, solver.infinity(), 'x[%i,%i,%i]' % (i,j,k)) for i,j in dist.keys() for k in todos }\n",
    "        else:\n",
    "            solver = pywraplp.Solver('ATSP2xIP', pywraplp.Solver.CBC_MIXED_INTEGER_PROGRAMMING)\n",
    "            x = { (i,j,k) : solver.BoolVar('x[%i,%i,%i]' % (i,j,k)) for i,j in dist.keys() for k in todos }        \n",
    "        \n",
    "        solver.Minimize( solver.Sum( dist[i,j]*x[i,j,k] for i,j in dist.keys() for k in todos ))\n",
    "    \n",
    "        [ solver.Add( solver.Sum(x[i,j,k]   for k in todos for j in todos if j!=i) == 1  )  for i in todos ]\n",
    "        [ solver.Add( solver.Sum(x[i,j,k]   for k in todos for i in todos if j!=i) == 1  )  for j in todos ]\n",
    "        [ solver.Add( solver.Sum(x[i,j,k]   for i,j in dist.keys() ) == 1  )  for k in todos ]\n",
    "        solver.Add(   solver.Sum(x[0,j,0]   for j in otros ) == 1 )\n",
    "        solver.Add(   solver.Sum(x[j,0,n-1] for j in otros ) == 1 )\n",
    "        [ solver.Add( solver.Sum(x[j,i,k-1] for j in todos if j!=i) == solver.Sum(x[i,j,k] for j in todos if j!=i))  for i in otros for k in otros ]\n",
    "        \n",
    "    else:\n",
    "        if tipo == 'LP':\n",
    "            solver = pywraplp.Solver('ATSP2xLP', pywraplp.Solver.GLOP_LINEAR_PROGRAMMING)\n",
    "            x = { (i,j) : solver.NumVar(0.0, solver.infinity(), 'x[%i,%i]' % (i,j)) for i,j in dist.keys() }\n",
    "        else:\n",
    "            solver = pywraplp.Solver('ATSP2xIP', pywraplp.Solver.CBC_MIXED_INTEGER_PROGRAMMING)\n",
    "            x = { (i,j) : solver.BoolVar('x[%i,%i]' % (i,j)) for i,j in dist.keys() }\n",
    "        \n",
    "        solver.Minimize(solver.Sum( dist[i,j]*x[i,j] for i,j in dist.keys() ))\n",
    "        [ solver.Add( solver.Sum( x[i,j] for j in todos if j!=i) == 1 )  for i in todos ]\n",
    "        [ solver.Add( solver.Sum( x[i,j] for i in todos if j!=i) == 1 )  for j in todos ]\n",
    "\n",
    "        if var == \"u\" :\n",
    "            u = { i : solver.NumVar(0.0, solver.infinity(), 'u[%i]' % i) for i in otros }\n",
    "            [ solver.Add( u[j] >= u[i] + x[i,j] - (n-2)*(1-x[i,j]) + (n-3)*x[j,i]   ) for i in otros for j in otros if j!=i ]\n",
    "\n",
    "        if var == \"v\" :\n",
    "            v = { (i,j) : solver.NumVar(0, solver.infinity(), 'v[%i,%i]' % (i,j)) for i in otros for j in otros if i!=j }\n",
    "            [ solver.Add( v[i,j] + v[j,i] == 1 )        for i in otros for j in otros if j!=i ]\n",
    "            [ solver.Add( v[i,j] + v[j,k] <= v[i,k]+1 ) for i in otros for j in otros for k in otros if i!=j and i!=k and j!=k ]\n",
    "            [ solver.Add( v[i,j] >= x[i,j]  )           for i in otros for j in otros if j!=i ]\n",
    "\n",
    "        if var == \"f\" :\n",
    "            f = { (i,j) : solver.NumVar(0.0, solver.infinity(), 'f[%i,%i]' % (i,j)) for i,j in dist.keys() }\n",
    "            [ solver.Add( solver.Sum(f[j,i]-f[i,j] for j in todos if j!=i) >= 1 )  for i in otros ] \n",
    "            [ solver.Add(            f[i,j] <= (n-1)*x[i,j]           )    for i,j in dist.keys() ]\n",
    "        \n",
    "    solver.Solve()\n",
    "    print('Modelo con ',var,' y ',tipo,' opt=', solver.Objective().Value(),' en ', solver.WallTime(), \" milliseconds\")\n",
    "    \n",
    "    \n",
    "ATSP('a','LP')\n",
    "ATSP('u','LP')\n",
    "ATSP('v','LP')\n",
    "ATSP('f','LP')\n",
    "\n",
    "ATSP('a',\"ip\")\n",
    "ATSP('u',\"ip\")\n",
    "ATSP('v',\"ip\")\n",
    "ATSP('f',\"ip\")"
   ]
  },
  {
   "cell_type": "markdown",
   "metadata": {
    "id": "Z1T9mKBjTGC9"
   },
   "source": [
    "## Otro lenguaje: PULP"
   ]
  },
  {
   "cell_type": "code",
   "execution_count": null,
   "metadata": {
    "id": "jZfsfOybTGC9",
    "outputId": "57a4e5ef-393a-495b-a515-e8f2cb457e2d"
   },
   "outputs": [
    {
     "name": "stdout",
     "output_type": "stream",
     "text": [
      "Requirement already satisfied: pulp in c:\\anaconda3\\lib\\site-packages (1.6.10)\n",
      "Requirement already satisfied: pyparsing>=2.0.1 in c:\\anaconda3\\lib\\site-packages (from pulp) (2.4.2)\n",
      "Requirement already satisfied: ortools in c:\\anaconda3\\lib\\site-packages (7.4.7247)\n",
      "Requirement already satisfied: protobuf>=3.10.0 in c:\\anaconda3\\lib\\site-packages (from ortools) (3.10.0)\n",
      "Requirement already satisfied: six>=1.10 in c:\\anaconda3\\lib\\site-packages (from ortools) (1.12.0)\n",
      "Requirement already satisfied: setuptools in c:\\anaconda3\\lib\\site-packages (from protobuf>=3.10.0->ortools) (41.4.0)\n",
      "Óptimo encontrado\n",
      "Coste total de la ruta: 147.0\n",
      "Ejecutado en 0.1669 segundos \n",
      "\n",
      "\n"
     ]
    }
   ],
   "source": [
    "!pip install pulp\n",
    "from pulp import *\n",
    "\n",
    "!pip install ortools\n",
    "from ortools.linear_solver import pywraplp\n",
    "\n",
    "import random\n",
    "import math\n",
    "from pulp import *\n",
    "\n",
    "n = 10\n",
    "todos = range(n)\n",
    "otros = range(1,n)\n",
    "\n",
    "random.seed(12345)\n",
    "dist  = { (i,j) : random.randint(1,100) for i in todos for j in todos if i!=j }\n",
    "            \n",
    "m = pulp.LpProblem('STP', pulp.LpMinimize)\n",
    "\n",
    "x = {}\n",
    "for i,j in dist.keys():\n",
    "    x[i,j] = pulp.LpVariable('x(' + str(i) + ',' + str(j) + ')',0,1,pulp.LpBinary)\n",
    "\n",
    "u = {}\n",
    "for i in range(1,n):\n",
    "    u[i] = pulp.LpVariable('u(' + str(i) + ')',0,n,pulp.LpInteger)\n",
    "\n",
    "m += pulp.lpSum([dist[i,j] * x[i,j] for i in todos for j in todos if i!=j])\n",
    "\n",
    "for i in todos:\n",
    "    m += pulp.lpSum([x[i,j] for j in todos if i!=j]) == 1\n",
    "for i in todos:\n",
    "    m += pulp.lpSum([x[j,i] for j in todos if i!=j]) == 1\n",
    "for i,j in dist.keys():\n",
    "    if i!=0 and j!=0 :\n",
    "        m += pulp.lpSum( u[i]+x[i,j]-(n-2)*(1-x[i,j])+(n-3)*x[j,i] ) <= u[j]\n",
    "    \n",
    "m.solve()\n",
    "\n",
    "if(LpStatus[m.status] == \"Optimal\"):\n",
    "    print('Óptimo encontrado')\n",
    "else:\n",
    "    print(\"No existe solución óptima\")\n",
    "\n",
    "print ('Coste total de la ruta: ' + str(pulp.value(m.objective)))\n",
    "print('Ejecutado en ' + str(round(m.solutionTime,4)) + ' segundos \\n\\n')"
   ]
  },
  {
   "cell_type": "markdown",
   "metadata": {
    "id": "G0OJIxC9TGC_"
   },
   "source": [
    "## Comercial: GUROBI"
   ]
  },
  {
   "cell_type": "markdown",
   "metadata": {
    "id": "RaoXKSsY049D"
   },
   "source": [
    "Cambiemos ahora el resolutor. En lugar de usar el gratuito OR-tools usemos el comercial Gurobi (recuerda que necesitas licencia de Gurobi para que funcione):"
   ]
  },
  {
   "cell_type": "code",
   "execution_count": null,
   "metadata": {
    "id": "n-6S-UNY049E"
   },
   "outputs": [],
   "source": [
    "import networkx\n",
    "from gurobipy import *"
   ]
  },
  {
   "cell_type": "code",
   "execution_count": null,
   "metadata": {
    "id": "xWsAAlZ2049J"
   },
   "outputs": [],
   "source": [
    "def ATSPpot():\n",
    "    modelo = Model()\n",
    "    \n",
    "    x = tupledict()\n",
    "    for i,j in dist.keys():\n",
    "         x[i,j] = modelo.addVar(obj=dist[i,j], vtype=GRB.BINARY, name='a[%d,%d]'%(i,j))\n",
    "    u = tupledict()\n",
    "    for i in otros:\n",
    "        u[i] = modelo.addVar(obj=0, vtype=GRB.CONTINUOUS, name='u[%i]'%i)\n",
    "        \n",
    "    modelo.addConstrs(sum(x[i,j] for j in todos if j!=i) == 1 for i in todos)\n",
    "    modelo.addConstrs(sum(x[j,i] for j in todos if j!=i) == 1 for i in todos)\n",
    "#    modelo.addConstrs( u[j] >= u[i] + x[i,j] - (n+8)*(1-x[i,j]) for i in otros for j in otros if i!=j )\n",
    "    modelo.addConstrs( u[j] >= u[i] + x[i,j] - (n-2)*(1-x[i,j]) + (n-3)*x[j,i] for i in otros for j in otros if i!=j )\n",
    "\n",
    "    modelo.optimize()\n",
    "\n",
    "    print('Costo total = %g' % modelo.objVal)\n",
    "    print('Time = ',modelo.Runtime, \"seconds\")\n",
    "    vals = modelo.getAttr('x', x )\n",
    "    selected = [(i,j) for i,j in vals.keys() if vals[i,j] > EPS]\n",
    "    print('Optimal path: %s' % str(selected))\n",
    "    \n",
    "ATSPpot()"
   ]
  },
  {
   "cell_type": "code",
   "execution_count": null,
   "metadata": {
    "id": "NE8VcGAP049M"
   },
   "outputs": [],
   "source": [
    "def ATSPpred():\n",
    "    modelo = Model()\n",
    "    \n",
    "    x = tupledict()\n",
    "    for i,j in dist.keys():\n",
    "         x[i,j] = modelo.addVar(obj=dist[i,j], vtype=GRB.BINARY, name='a[%d,%d]'%(i,j))\n",
    "    v = tupledict()\n",
    "    for i,j in dist.keys():\n",
    "         v[i,j] = modelo.addVar(obj=0        , vtype=GRB.BINARY, name='v[%d,%d]'%(i,j))\n",
    "        \n",
    "    modelo.addConstrs(sum(x[i,j] for j in todos if j!=i) == 1 for i in todos)\n",
    "    modelo.addConstrs(sum(x[j,i] for j in todos if j!=i) == 1 for i in todos)\n",
    "    modelo.addConstrs( v[i,j]+v[j,i] ==1 for i in otros for j in otros if i!=j )\n",
    "    modelo.addConstrs( v[i,j]+v[j,k] <= v[i,k]+1 for i in otros for j in otros for k in otros if i!=j and i!=k and j!=k )\n",
    "    modelo.addConstrs( v[i,j] >= x[i,j] for i in otros for j in otros if i!=j )\n",
    "\n",
    "    modelo.optimize()\n",
    "\n",
    "    print('Costo total = %g' % modelo.objVal)\n",
    "    print('Time = ',modelo.Runtime, \"seconds\")\n",
    "    vals = modelo.getAttr('x', x )\n",
    "    selected = [(i,j) for i,j in vals.keys() if vals[i,j] > EPS]\n",
    "    print('Optimal path: %s' % str(selected))\n",
    "    \n",
    "ATSPpred()"
   ]
  },
  {
   "cell_type": "markdown",
   "metadata": {
    "id": "GzqjX3-X049O"
   },
   "source": [
    "Mostremos ahora un cuarto modelo. Este nuevo modelo se basa en variables con 3 índices inspiradas por el problema de asignación 3-dimensional axial, y fue propuesto por Vajda (1961):"
   ]
  },
  {
   "cell_type": "code",
   "execution_count": null,
   "metadata": {
    "id": "-lSBCG-m049R"
   },
   "outputs": [],
   "source": [
    "def ATSP3ap():\n",
    "    modelo = Model()\n",
    "    \n",
    "    x = tupledict()\n",
    "    for i in todos:\n",
    "        for j in todos:\n",
    "            if i!=j:\n",
    "                for k in todos:\n",
    "                    x[i,j,k] = modelo.addVar(obj=dist[i,j], vtype=GRB.BINARY, name='z[%d,%d,%d]'%(i,j,k))\n",
    "        \n",
    "    modelo.addConstrs(sum(x[i,j,k] for k in todos for j in todos if j!=i) == 1 for i in todos)\n",
    "    modelo.addConstrs(sum(x[i,j,k] for k in todos for i in todos if j!=i) == 1 for j in todos)\n",
    "    modelo.addConstrs(sum(x[i,j,k] for i in todos for j in todos if j!=i) == 1 for k in todos)\n",
    "    modelo.addConstr (sum(x[0,j,0] for j in otros)==1)\n",
    "    modelo.addConstr (sum(x[j,0,n-1] for j in otros)==1)\n",
    "    modelo.addConstrs(sum(x[j,i,k-1] for j in todos if j!=i) == sum(x[i,j,k] for j in todos if j!=i) for i in otros for k in otros)\n",
    "    modelo.optimize()\n",
    "\n",
    "    print('Costo total = %g' % modelo.objVal)\n",
    "    print('Time = ',modelo.Runtime, \"seconds\")\n",
    "    vals = modelo.getAttr('x', x )\n",
    "    selected = [(i,j) for i,j,k in vals.keys() if vals[i,j,k] > EPS]\n",
    "    print('Optimal path: %s' % str(selected))\n",
    "    \n",
    "ATSP3ap()"
   ]
  },
  {
   "cell_type": "markdown",
   "metadata": {
    "id": "lyBGUvO2049T"
   },
   "source": [
    "El modelo anterior hace uso de las ecuaciones:\n",
    "$$ \\sum_{j} x^{k-1}_{ji} = \\sum_{j} x^k_{ij} \\qquad \\forall i,k $$\n",
    "Otra variante de Fox, Gavish y Graves (1980) consiste en usar las siguientes ecuaciones agregadas:\n",
    "$$ \\sum_{k,j} k x^k_{ij} = 1 + \\sum_{k,j} k x^k_{ji} \\qquad \\forall i$$"
   ]
  },
  {
   "cell_type": "code",
   "execution_count": null,
   "metadata": {
    "id": "yRmURsPx049T"
   },
   "outputs": [],
   "source": [
    "def ATSP3ap2():\n",
    "    modelo = Model()\n",
    "    \n",
    "    x = tupledict()\n",
    "    for i in todos:\n",
    "        for j in todos:\n",
    "            if i!=j:\n",
    "                for k in todos:\n",
    "                    x[i,j,k] = modelo.addVar(obj=dist[i,j], vtype=GRB.BINARY, name='z[%d,%d,%d]'%(i,j,k))\n",
    "        \n",
    "    modelo.addConstrs(sum(x[i,j,k] for k in todos for j in todos if j!=i) == 1 for i in todos)\n",
    "    modelo.addConstrs(sum(x[i,j,k] for k in todos for i in todos if j!=i) == 1 for j in todos)\n",
    "    modelo.addConstrs(sum(x[i,j,k] for i in todos for j in todos if j!=i) == 1 for k in todos)\n",
    "    modelo.addConstr(sum(x[0,j,0] for j in otros)==1)\n",
    "    modelo.addConstr(sum(x[j,0,n-1] for j in otros)==1)\n",
    "    modelo.addConstrs(sum(k*x[i,j,k] for j in todos if j!=i for k in otros) == 1 + sum(k*x[j,i,k] for j in todos if j!=i for k in otros) for i in otros)\n",
    "    modelo.optimize()\n",
    "\n",
    "    print('Costo total = %g' % modelo.objVal)\n",
    "    print('Time = ',modelo.Runtime, \"seconds\")\n",
    "    vals = modelo.getAttr('x', x )\n",
    "    selected = [(i,j) for i,j,k in vals.keys() if vals[i,j,k] > EPS]\n",
    "    print('Optimal path: %s' % str(selected))\n",
    "    \n",
    "ATSP3ap2()"
   ]
  },
  {
   "cell_type": "markdown",
   "metadata": {
    "id": "_OPlOlzT049V"
   },
   "source": [
    "Mostremos ahora un quinto modelo, siempre para el mismo problema (el ATSP). Además de las $x_{ij}$, en el nuevo modelo usamos variables de flujo $f_{ij}$ para eliminar subciclos. Es un modelo propuesto por Gavish y Graves (1978):"
   ]
  },
  {
   "cell_type": "code",
   "execution_count": null,
   "metadata": {
    "id": "8bzuUoZt049V"
   },
   "outputs": [],
   "source": [
    "def ATSPscf():\n",
    "    modelo = Model()\n",
    "    \n",
    "    x = tupledict()\n",
    "    for i,j in dist.keys():\n",
    "         x[i,j] = modelo.addVar(obj=dist[i,j], vtype=GRB.BINARY, name='a[%d,%d]'%(i,j))\n",
    "    f = tupledict()\n",
    "    for i in todos:\n",
    "        for j in todos:\n",
    "            if i!=j:\n",
    "                f[i,j] = modelo.addVar(obj=0, vtype=GRB.CONTINUOUS, name='f[%d,%d]'%(i,j))\n",
    "        \n",
    "    modelo.addConstrs(sum(x[i,j] for j in todos if j!=i) == 1 for i in todos)\n",
    "    modelo.addConstrs(sum(x[j,i] for j in todos if j!=i) == 1 for i in todos)\n",
    "    modelo.addConstrs(sum(f[j,i]-f[i,j] for j in todos if j!=i) >= 1 for i in otros )\n",
    "    modelo.addConstrs( f[i,j] <= (n-2)*x[i,j] for i in otros for j in otros if i!=j )\n",
    "\n",
    "    modelo.optimize()\n",
    "\n",
    "    print('Costo total = %g' % modelo.objVal)\n",
    "    print('Time = ',modelo.Runtime, \"seconds\")\n",
    "    vals = modelo.getAttr('x', x )\n",
    "    selected = [(i,j) for i,j in vals.keys() if vals[i,j] > EPS]\n",
    "    print('Optimal path: %s' % str(selected))\n",
    "    \n",
    "ATSPscf()"
   ]
  },
  {
   "cell_type": "markdown",
   "metadata": {
    "id": "KStUYlX8049Y"
   },
   "source": [
    "Introducimos ahora un sexto modelo, siempre para el ATSP, usando ahora 2 variables de flujo: una representa un producto que va desde un depósito (por ejemplo, botellas llenas que van desde 1) y el otro producto que se recoge en cada cliente para ir al depósito (por ejemplo, botellas vacías que van hacia 1). Es un modelo debido a Finke, Claus y Gunn (1983):"
   ]
  },
  {
   "cell_type": "code",
   "execution_count": null,
   "metadata": {
    "id": "0o_aVSm9049Z"
   },
   "outputs": [],
   "source": [
    "def ATSP2scf():\n",
    "    modelo = Model()\n",
    "    \n",
    "    x = tupledict()\n",
    "    for i,j in dist.keys():\n",
    "         x[i,j] = modelo.addVar(obj=dist[i,j], vtype=GRB.BINARY, name='a[%d,%d]'%(i,j))\n",
    "    f = tupledict()\n",
    "    g = tupledict()\n",
    "    for i in todos:\n",
    "        for j in todos:\n",
    "            if i!=j:\n",
    "                f[i,j] = modelo.addVar(obj=0, vtype=GRB.CONTINUOUS, name='f[%d,%d]'%(i,j))\n",
    "                g[i,j] = modelo.addVar(obj=0, vtype=GRB.CONTINUOUS, name='f[%d,%d]'%(i,j))\n",
    "        \n",
    "    modelo.addConstrs(sum(x[i,j] for j in todos if j!=i) == 1 for i in todos)\n",
    "    modelo.addConstrs(sum(x[j,i] for j in todos if j!=i) == 1 for i in todos)\n",
    "    modelo.addConstrs(sum(f[j,i]-f[i,j] for j in todos if j!=i) >= 1 for i in otros )\n",
    "    modelo.addConstrs(sum(g[i,j]-g[j,i] for j in todos if j!=i) >= 1 for i in otros )\n",
    "    modelo.addConstrs( f[i,j]+g[i,j] == (n-2)*x[i,j] for i in otros for j in otros if i!=j )\n",
    "\n",
    "    modelo.optimize()\n",
    "\n",
    "    print('Costo total = %g' % modelo.objVal)\n",
    "    print('Time = ',modelo.Runtime, \"seconds\")\n",
    "    vals = modelo.getAttr('x', x )\n",
    "    selected = [(i,j) for i,j in vals.keys() if vals[i,j] > EPS]\n",
    "    print('Optimal path: %s' % str(selected))\n",
    "    \n",
    "ATSP2scf()"
   ]
  },
  {
   "cell_type": "markdown",
   "metadata": {
    "id": "RpH3RcS6049b"
   },
   "source": [
    "En la misma línea, es posible otro modelo que usa un flujo $f^k_{ij}$ para cada cliente $k$. Fue propuesto por Wong (1980) y a la vez por Claus (1984):"
   ]
  },
  {
   "cell_type": "code",
   "execution_count": null,
   "metadata": {
    "id": "5tQQxm9q049b"
   },
   "outputs": [],
   "source": [
    "def ATSPmcf():\n",
    "    modelo = Model()\n",
    "    \n",
    "    x = tupledict()\n",
    "    for i,j in dist.keys():\n",
    "         x[i,j] = modelo.addVar(obj=dist[i,j], vtype=GRB.BINARY, name='a[%d,%d]'%(i,j))\n",
    "    f = tupledict()\n",
    "    for k in otros:\n",
    "        for i in todos:\n",
    "            for j in todos:\n",
    "                if i!=j:\n",
    "                    f[i,j,k] = modelo.addVar(obj=0, vtype=GRB.BINARY, name='f[%d,%d,%d]'%(i,j,k))\n",
    "        \n",
    "    modelo.addConstrs(sum(x[i,j] for j in todos if j!=i) == 1 for i in todos)\n",
    "    modelo.addConstrs(sum(x[j,i] for j in todos if j!=i) == 1 for i in todos)\n",
    "    modelo.addConstrs(sum(f[0,j,k] for j in otros) == 1 for k in otros)\n",
    "    modelo.addConstrs(sum(f[j,i,k]-f[i,j,k] for j in todos if j!=i) == 0 for i in otros for k in otros if i!=k)\n",
    "    modelo.addConstrs( f[i,j,k] <= x[i,j] for i in otros for j in otros if i!=j for k in otros )\n",
    "#    modelo.addConstrs( f[i,0,k] ==0 for i in otros for k in otros )\n",
    "#    modelo.addConstrs( f[k,i,k] ==0 for i in todos for k in otros if i!=k)\n",
    "\n",
    "    modelo.optimize()\n",
    "\n",
    "    print('Costo total = %g' % modelo.objVal)\n",
    "    print('Time = ',modelo.Runtime, \"seconds\")\n",
    "    vals = modelo.getAttr('x', x )\n",
    "    selected = [(i,j) for i,j in vals.keys() if vals[i,j] > EPS]\n",
    "    print('Optimal path: %s' % str(selected))\n",
    "    \n",
    "ATSPmcf()"
   ]
  },
  {
   "cell_type": "markdown",
   "metadata": {
    "id": "KC3SxLguTGDR"
   },
   "source": [
    "## Generación dinámica de filas "
   ]
  },
  {
   "cell_type": "markdown",
   "metadata": {
    "id": "GSFK-uWM049d"
   },
   "source": [
    "Mostramos ahora un modelo no compacto, es decir, con un enorme número de restricciones que no pueden ser generadas todas juntas, pero que sí son muy simples de utilizar dinámicamente a medida que van siendo necesarias. Es la formulación propuesta por Dantzig, Fulkerson y Johnson (1954) para el ATSP, y hace uso de las llamadas \"restricciones de eliminación de subtour\" (SEC): $$\\sum_{i,j\\in S} x_{ij} \\leq |S|-1 \\qquad \\forall S \\subset V.$$"
   ]
  },
  {
   "cell_type": "code",
   "execution_count": null,
   "metadata": {
    "id": "PqPGkPta049d"
   },
   "outputs": [],
   "source": [
    "modelo = Model()\n",
    "modelo.Params.OutputFlag = 0\n",
    "x = modelo.addVars(dist.keys(), obj=dist, vtype=GRB.BINARY, name='a')\n",
    "\n",
    "def SEC():\n",
    "    vals = modelo.getAttr('x', x)\n",
    "    G = networkx.Graph()\n",
    "    G.add_edges_from( (i,j) for i,j in vals.keys() if vals[i,j]>EPS )\n",
    "    Components = list(networkx.connected_components(G))\n",
    "    if len(Components) == 1:\n",
    "        return False\n",
    "    for S in Components:\n",
    "        modelo.addConstr( quicksum( x[i,j] for i in S for j in S if j!=i ) <= len(S)-1 )\n",
    "    return True\n",
    "\n",
    "def ATSPsec():\n",
    "    modelo.addConstrs(sum(x[i,j] for j in todos if j!=i) == 1 for i in todos)\n",
    "    modelo.addConstrs(sum(x[j,i] for j in todos if j!=i) == 1 for i in todos)\n",
    "\n",
    "    modelo.optimize()\n",
    "    while SEC():\n",
    "        modelo.optimize()\n",
    "\n",
    "    print('Costo total = %g' % modelo.objVal)\n",
    "    print('Time = ',modelo.Runtime, \"seconds\")\n",
    "    vals = modelo.getAttr('x', x)\n",
    "    selected = [(i,j) for i,j in vals.keys() if vals[i,j] > EPS]\n",
    "    print('Optimal path: %s' % str(selected))\n",
    "    \n",
    "ATSPsec()"
   ]
  },
  {
   "cell_type": "markdown",
   "metadata": {
    "id": "ZGW8zjqZ049f"
   },
   "source": [
    "Estas desigualdades anteriores son equivalentes a $$\\sum_{i\\in S} \\sum_{j\\not\\in S} x_{ij} \\geq 1 \\qquad \\forall S \\subset V.$$ Notemos que podríamos reducir la cantidad de desigualdades en ambas familias limitándonos sólo a los subconjuntos que no contienen un nodo cualquiera, por ejemplo, $S\\subset V\\setminus\\{1\\}$. No es una gran reducción, pero es válida."
   ]
  },
  {
   "cell_type": "markdown",
   "metadata": {
    "id": "HZbxsOmw049f"
   },
   "source": [
    "La implementación anterior resuelve óptimamente cada subproblema, y busca desigualdades que falten sobre cada solución óptima. Es posible adelantarnos a la generación de desigualdades si verificamos no sólo cada solución óptima sino también cada solución entera (óptima o heuristica) que se encuentre en el proceso. Para ello los motores modernos de Programación Lineal (como Gurobi) nos dan las llamadas \"callback functions\":"
   ]
  },
  {
   "cell_type": "code",
   "execution_count": null,
   "metadata": {
    "id": "NA6oUO4-049g"
   },
   "outputs": [],
   "source": [
    "modelo = Model()\n",
    "modelo.Params.OutputFlag = 0\n",
    "modelo.Params.lazyConstraints = 1\n",
    "x = modelo.addVars(dist.keys(), obj=dist, vtype=GRB.BINARY, name='a')\n",
    "\n",
    "def cbSEC(modelo, where):\n",
    "    if where == GRB.Callback.MIPSOL:\n",
    "        vals = modelo.cbGetSolution(x)           \n",
    "        G = networkx.Graph()\n",
    "        G.add_edges_from( (i,j) for i,j in vals.keys() if vals[i,j]>EPS )\n",
    "        Components = list(networkx.connected_components(G))\n",
    "        if len(Components) == 1:\n",
    "            return False\n",
    "        for S in Components:\n",
    "            modelo.cbLazy( quicksum( x[i,j] for i in S for j in S if j!=i) <= len(S)-1 )\n",
    "    return True\n",
    "\n",
    "def ATSPsecF():\n",
    "    modelo.addConstrs(sum(x[i,j] for j in todos if j!=i) == 1 for i in todos)\n",
    "    modelo.addConstrs(sum(x[j,i] for j in todos if j!=i) == 1 for i in todos)\n",
    "\n",
    "    modelo.optimize(cbSEC)\n",
    "\n",
    "    print('Costo total = %g' % modelo.objVal)\n",
    "    print('Time = ',modelo.Runtime, \"seconds\")\n",
    "    vals = modelo.getAttr('x', x)\n",
    "    selected = [(i,j) for i,j in vals.keys() if vals[i,j] > EPS]\n",
    "    print('Optimal path: %s' % str(selected))\n",
    "    \n",
    "ATSPsecF()"
   ]
  },
  {
   "cell_type": "markdown",
   "metadata": {
    "id": "afaQP3Dn049j"
   },
   "source": [
    "La implementación anterior busca desigualdades que falten a partir de soluciones enteras. Pero también es posible buscar a partir de soluciones fraccionarias:"
   ]
  },
  {
   "cell_type": "code",
   "execution_count": null,
   "metadata": {
    "id": "qHh6UIYN049k"
   },
   "outputs": [],
   "source": [
    "modelo = Model()\n",
    "modelo.Params.OutputFlag = 0\n",
    "modelo.Params.lazyConstraints = 1\n",
    "x = modelo.addVars(dist.keys(), obj=dist, vtype=GRB.BINARY, name='a')\n",
    "\n",
    "def cbSEC(modelo, where):\n",
    "    corte = False\n",
    "    if where == GRB.Callback.MIPSOL:\n",
    "        vals = modelo.cbGetSolution(x)     # verificar UB solutions      \n",
    "        G = networkx.Graph()\n",
    "        G.add_edges_from( (i,j) for i,j in vals.keys() if vals[i,j]>EPS )\n",
    "        Components = list(networkx.connected_components(G))\n",
    "        if len(Components) == 1:\n",
    "            return False\n",
    "        for S in Components:\n",
    "            modelo.cbLazy( quicksum( x[i,j] for i in S for j in S if j!=i) <= len(S)-1 )\n",
    "            corte = True\n",
    "        \n",
    "    if where == GRB.Callback.MIPNODE:\n",
    "        vals = modelo.cbGetNodeRel(x)      # verificar LB solutions\n",
    "        G = networkx.DiGraph()\n",
    "        for i,j in vals.keys():\n",
    "            if vals[i,j]>EPS:\n",
    "                G.add_edge( i, j, capacity = vals[i,j] )\n",
    "            \n",
    "        free = [True]*n\n",
    "        for i in otros :\n",
    "            if free[i]:\n",
    "                cut_value, partition = networkx.minimum_cut(G, 0, i)\n",
    "                if cut_value < 1-EPS:\n",
    "                    non_S, S = partition\n",
    "                    modelo.cbLazy( quicksum( x[i,j] for i in S for j in S if j!=i) <= len(S)-1 ) \n",
    "                    corte = True\n",
    "                    for j in S: free[j] = False\n",
    "    return corte\n",
    "\n",
    "\n",
    "def ATSPsecF():\n",
    "    modelo.addConstrs(sum(x[i,j] for j in todos if j!=i) == 1 for i in todos)\n",
    "    modelo.addConstrs(sum(x[j,i] for j in todos if j!=i) == 1 for i in todos)\n",
    "\n",
    "    modelo.optimize(cbSEC)\n",
    "\n",
    "    print('Costo total = %g' % modelo.objVal)\n",
    "    print('Time = ',modelo.Runtime, \"seconds\")\n",
    "    vals = modelo.getAttr('x', x)\n",
    "    selected = [(i,j) for i,j in vals.keys() if vals[i,j] > EPS]\n",
    "    print('Optimal path: %s' % str(selected))\n",
    "    \n",
    "ATSPsecF()"
   ]
  },
  {
   "cell_type": "markdown",
   "metadata": {
    "id": "CEx4ac1hTGDY"
   },
   "source": [
    "## Ejemplos con distancias Euclídeas"
   ]
  },
  {
   "cell_type": "markdown",
   "metadata": {
    "id": "SxM4poRP4cGL"
   },
   "source": [
    "Para continuar, vamos a visualizar la ruta final. A fin de que se vea algo con sentido, vamos a colocar puntos en el plano y a utilizar las distancias euclídeas entre ellos. Esto genera matrices de costos simétricas, es decir, donde $c_{ij}=c_{ji}$, lo que a su vez permite trabajar con la mitad de las variables y terminar antes. Como contrapartida, resta generalidad porque con este modelo reducido no podremos resolver ejemplos con matrices de costos asimétricos. Centrándonos ahora exclusivamente en distancias Euclideas para con ello \"ver\" la solución, los modelos pasan a ser:"
   ]
  },
  {
   "cell_type": "code",
   "execution_count": null,
   "metadata": {
    "id": "ZxKdqDSB049q",
    "outputId": "326c5863-02dc-4c2e-d956-f816b8d1417d"
   },
   "outputs": [
    {
     "data": {
      "image/png": "[encoded data removed]",
      "text/plain": [
       "<Figure size 432x288 with 1 Axes>"
      ]
     },
     "metadata": {
      "needs_background": "light",
      "tags": []
     },
     "output_type": "display_data"
    }
   ],
   "source": [
    "n      = 300\n",
    "todos  = range(n)\n",
    "otros  = range(1,n)\n",
    "EPS    = 0.001\n",
    "\n",
    "import random\n",
    "random.seed(127875)\n",
    "points = [(random.randint(0,100),random.randint(0,100)) for i in range(n)]\n",
    "\n",
    "import matplotlib.pyplot as plt\n",
    "def dibuja(selected):                #dibuja una ruta dada como una lista de arcos\n",
    "    plt.plot([p[0] for p in points], [p[1] for p in points], 'bo')\n",
    "    for (i,j) in selected:\n",
    "        plt.plot([points[i][0],points[j][0]], [points[i][1],points[j][1]], 'g-')\n",
    "    plt.show()\n",
    "\n",
    "dibuja({})\n",
    "        \n",
    "import math\n",
    "def distance(points, i, j):\n",
    "    dx = points[i][0] - points[j][0]\n",
    "    dy = points[i][1] - points[j][1]\n",
    "    return math.floor(math.sqrt(dx*dx + dy*dy))\n",
    "\n",
    "dist = {(i,j) : distance(points,i,j) for i in range(n) for j in range(i)}   # observa que i>j"
   ]
  },
  {
   "cell_type": "code",
   "execution_count": null,
   "metadata": {
    "id": "iISWXwX6TGDa"
   },
   "outputs": [],
   "source": [
    "import networkx\n",
    "from gurobipy import *"
   ]
  },
  {
   "cell_type": "markdown",
   "metadata": {
    "id": "8UrLlN9c049s"
   },
   "source": [
    "Resolvamos el TSP simétrico mediante un algoritmo iterativo que elimina un subciclo en cada iteración mirando la solución entera:"
   ]
  },
  {
   "cell_type": "code",
   "execution_count": null,
   "metadata": {
    "id": "z9ty1wUP049t",
    "outputId": "a5041156-c5e5-48d0-ca7c-9a35da7d33e1"
   },
   "outputs": [
    {
     "name": "stdout",
     "output_type": "stream",
     "text": [
      " nueva iteracion\n",
      " nueva iteracion\n",
      " nueva iteracion\n",
      " nueva iteracion\n",
      " nueva iteracion\n",
      " nueva iteracion\n",
      " nueva iteracion\n",
      " nueva iteracion\n",
      " nueva iteracion\n",
      " nueva iteracion\n",
      " nueva iteracion\n",
      " nueva iteracion\n",
      " nueva iteracion\n",
      " nueva iteracion\n",
      " nueva iteracion\n",
      " nueva iteracion\n",
      " nueva iteracion\n",
      " nueva iteracion\n",
      " nueva iteracion\n",
      " nueva iteracion\n",
      " nueva iteracion\n",
      "Costo total = 1226  in  9.373920440673828 seconds\n"
     ]
    },
    {
     "data": {
      "image/png": "[encoded data removed]",
      "text/plain": [
       "<Figure size 432x288 with 1 Axes>"
      ]
     },
     "metadata": {
      "needs_background": "light",
      "tags": []
     },
     "output_type": "display_data"
    }
   ],
   "source": [
    "modelo = Model()\n",
    "modelo.Params.OutputFlag = 0\n",
    "x = modelo.addVars(dist.keys(), obj=dist, vtype=GRB.BINARY, name='e')\n",
    "\n",
    "def SEC():\n",
    "    \n",
    "    vals = modelo.getAttr('x', x)\n",
    "    \n",
    "    G = networkx.Graph()\n",
    "    G.add_edges_from( (i,j) for i,j in vals.keys() if vals[i,j]>EPS )\n",
    "    Components = list(networkx.connected_components(G))\n",
    "    if len(Components) == 1:\n",
    "        return False\n",
    "    print(\" nueva iteracion\")\n",
    "#    selected = [ (i,j) for i,j in vals.keys() if vals[i,j] > EPS ]\n",
    "#    dibuja(selected)\n",
    "\n",
    "    for S in Components:\n",
    "#        print(\" subtour: \",S)\n",
    "        modelo.addConstr( quicksum( x[i,j] for i in S for j in S if j<i ) <= len(S)-1 )\n",
    "    return True\n",
    "\n",
    "def TSP1():\n",
    "    modelo.addConstrs( x.sum(i,'*') + x.sum('*',i) == 2 for i in todos )\n",
    "\n",
    "    modelo.optimize()\n",
    "    while SEC():\n",
    "        modelo.optimize()\n",
    "\n",
    "    print('Costo total = %g' % modelo.objVal , \" in \",modelo.Runtime, \"seconds\")\n",
    "    vals = modelo.getAttr('x', x)\n",
    "    selected = [(i,j) for i,j in vals.keys() if vals[i,j] > EPS]\n",
    "#    print('Optimal path: %s' % str(selected))\n",
    "    dibuja(selected)\n",
    "    \n",
    "TSP1()"
   ]
  },
  {
   "cell_type": "markdown",
   "metadata": {
    "id": "6O5Q5V5z049u"
   },
   "source": [
    "Podemos hacer algo incluso mejor: resolvemos primero el nodo raiz asegurándonos de eliminar los primeros subciclos, y luego continuar igual pero con las soluciones enteras:\n",
    "    "
   ]
  },
  {
   "cell_type": "code",
   "execution_count": null,
   "metadata": {
    "id": "rbX0UgLl049v",
    "outputId": "65954e58-934b-4fec-fb71-d14bbcc445ff"
   },
   "outputs": [
    {
     "name": "stdout",
     "output_type": "stream",
     "text": [
      "Costo total = 1226  in  5.129280090332031 seconds\n",
      "Optimal path: [(3, 1), (15, 14), (18, 16), (21, 17), (26, 12), (28, 11), (32, 22), (34, 10), (35, 11), (39, 36), (46, 24), (47, 20), (47, 27), (50, 22), (50, 24), (57, 54), (59, 30), (60, 30), (62, 35), (65, 6), (66, 1), (70, 45), (75, 8), (75, 58), (77, 38), (78, 70), (79, 46), (79, 53), (80, 4), (81, 33), (82, 51), (83, 29), (84, 78), (87, 31), (87, 37), (90, 77), (93, 25), (94, 32), (95, 94), (98, 40), (98, 81), (101, 39), (103, 76), (104, 86), (105, 18), (105, 31), (106, 0), (112, 0), (114, 41), (115, 103), (117, 41), (117, 67), (118, 61), (120, 25), (120, 96), (121, 48), (121, 73), (122, 108), (123, 23), (126, 83), (127, 122), (128, 123), (129, 44), (131, 101), (132, 45), (132, 48), (133, 124), (134, 9), (134, 60), (135, 44), (137, 76), (137, 127), (138, 69), (140, 112), (142, 38), (143, 80), (146, 53), (148, 141), (149, 56), (149, 92), (151, 96), (152, 99), (153, 144), (154, 136), (155, 104), (157, 97), (158, 73), (158, 135), (159, 6), (159, 16), (160, 21), (162, 67), (162, 156), (163, 139), (164, 26), (165, 19), (166, 86), (167, 27), (168, 142), (168, 167), (169, 49), (169, 154), (170, 88), (173, 40), (175, 36), (175, 114), (176, 89), (176, 139), (177, 2), (177, 166), (178, 116), (178, 130), (179, 160), (181, 91), (183, 91), (184, 95), (184, 130), (185, 23), (186, 33), (187, 170), (188, 9), (189, 143), (190, 118), (190, 185), (191, 17), (191, 58), (192, 37), (192, 189), (193, 129), (193, 188), (194, 93), (194, 107), (195, 52), (195, 55), (196, 19), (196, 138), (197, 146), (197, 171), (198, 59), (198, 180), (199, 125), (199, 181), (201, 52), (201, 150), (202, 51), (202, 156), (203, 3), (204, 85), (204, 90), (206, 49), (207, 69), (207, 71), (209, 88), (210, 102), (210, 147), (212, 5), (212, 113), (213, 182), (214, 42), (215, 99), (215, 141), (216, 100), (216, 125), (217, 42), (217, 213), (218, 15), (219, 82), (219, 208), (220, 74), (220, 106), (221, 66), (222, 163), (222, 186), (224, 126), (224, 211), (225, 8), (226, 200), (227, 208), (228, 13), (229, 157), (230, 144), (231, 119), (231, 200), (232, 124), (232, 227), (236, 92), (236, 228), (237, 54), (237, 233), (238, 140), (239, 171), (239, 238), (240, 14), (240, 110), (241, 72), (242, 107), (242, 111), (243, 12), (243, 63), (244, 57), (244, 174), (245, 115), (245, 223), (246, 172), (246, 182), (247, 109), (247, 136), (248, 74), (248, 85), (249, 2), (249, 145), (250, 64), (250, 183), (251, 152), (251, 206), (252, 131), (252, 187), (253, 7), (253, 128), (255, 102), (255, 230), (256, 64), (256, 203), (257, 218), (257, 226), (258, 7), (258, 133), (259, 116), (259, 153), (260, 113), (261, 10), (261, 28), (262, 173), (262, 180), (263, 29), (263, 161), (264, 89), (264, 254), (265, 55), (265, 235), (266, 56), (266, 71), (267, 20), (267, 172), (268, 84), (268, 150), (269, 229), (269, 234), (270, 34), (270, 235), (271, 65), (272, 5), (273, 43), (273, 221), (274, 241), (275, 165), (276, 62), (276, 209), (277, 147), (278, 225), (279, 4), (279, 234), (280, 68), (280, 97), (281, 100), (281, 214), (282, 111), (282, 155), (283, 205), (283, 254), (284, 61), (284, 161), (285, 119), (285, 278), (286, 63), (287, 271), (287, 272), (288, 13), (289, 233), (289, 275), (290, 68), (290, 179), (291, 223), (291, 260), (292, 109), (292, 110), (293, 148), (293, 286), (294, 145), (294, 211), (295, 72), (295, 108), (296, 151), (296, 164), (297, 205), (297, 277), (298, 43), (298, 174), (299, 274), (299, 288)]\n"
     ]
    },
    {
     "data": {
      "image/png": "[encoded data removed]",
      "text/plain": [
       "<Figure size 432x288 with 1 Axes>"
      ]
     },
     "metadata": {
      "needs_background": "light",
      "tags": []
     },
     "output_type": "display_data"
    }
   ],
   "source": [
    "modelo = Model()\n",
    "modelo.Params.OutputFlag = 0\n",
    "x = modelo.addVars(dist.keys(), lb=0.0, ub=1.0, obj=dist, vtype=GRB.CONTINUOUS, name='e')\n",
    "\n",
    "def SEC1():\n",
    "    vals = modelo.getAttr('x', x)\n",
    "    G = networkx.Graph()\n",
    "    G.add_edges_from( (i,j) for i,j in vals.keys() if vals[i,j]>EPS)\n",
    "    Components = list(networkx.connected_components(G))\n",
    "    if len(Components) == 1:\n",
    "        return False\n",
    "    for S in Components:\n",
    "        modelo.addConstr( quicksum( x[i,j] for i in S for j in S if j<i) <= len(S)-1 )\n",
    "    return True\n",
    "    \n",
    "def SEC2():\n",
    "    vals = modelo.getAttr('x', x)\n",
    "    G = networkx.Graph()\n",
    "    for i,j in vals.keys():\n",
    "        if vals[i,j]>EPS:\n",
    "            G.add_edge( i, j, capacity = vals[i,j] )\n",
    "           \n",
    "    corte = False\n",
    "    free = [True]*n\n",
    "    for i in otros :\n",
    "        if free[i]:\n",
    "            cut_value, partition = networkx.minimum_cut(G, 0, i)\n",
    "            if cut_value < 2-EPS:\n",
    "                non_S, S = partition\n",
    "                modelo.addConstr( quicksum( x[i,j] for i in S for j in S if j<i) <= len(S)-1 ) \n",
    "                corte = True\n",
    "                for j in S: free[j] = False\n",
    "    return corte\n",
    "\n",
    "def TSP2():\n",
    "    modelo.addConstrs( x.sum(i,'*') + x.sum('*',i) == 2 for i in todos )\n",
    "\n",
    "    modelo.optimize()\n",
    "    while SEC2():\n",
    "        modelo.optimize()\n",
    "        \n",
    "    for v in modelo.getVars(): v.vtype = GRB.BINARY     # antes problemas continuos ; después problemas enteros\n",
    "    \n",
    "    modelo.optimize()\n",
    "    while SEC1():\n",
    "        modelo.optimize()\n",
    "\n",
    "    print('Costo total = %g' % modelo.objVal , \" in \",modelo.Runtime, \"seconds\")\n",
    "    vals = modelo.getAttr('x', x)\n",
    "    selected = [(i,j) for i,j in vals.keys() if vals[i,j] > EPS]\n",
    "    print('Optimal path: %s' % str(selected))\n",
    "    dibuja(selected)\n",
    "    \n",
    "TSP2()"
   ]
  },
  {
   "cell_type": "markdown",
   "metadata": {
    "id": "JRlQQqrA049x"
   },
   "source": [
    "Resolvamos ahora el mismo TSP simétrico pero insertando cortes sobre todas las soluciones enteras que va encontrando también durante el proceso. Para esto necesitamos utilizar las llamadas funciones \"callback\":"
   ]
  },
  {
   "cell_type": "code",
   "execution_count": null,
   "metadata": {
    "id": "Snam4hT453Ng"
   },
   "outputs": [],
   "source": [
    "modelo = Model()\n",
    "modelo.Params.OutputFlag = 0\n",
    "modelo.Params.lazyConstraints = 1\n",
    "x = modelo.addVars(dist.keys(), obj=dist, vtype=GRB.BINARY, name='e')\n",
    "\n",
    "def cbSEC1(modelo, where):\n",
    "    if where == GRB.Callback.MIPSOL:\n",
    "        vals = modelo.cbGetSolution(x)           \n",
    "        G = networkx.Graph()\n",
    "        G.add_edges_from( (i,j) for i,j in vals.keys() if vals[i,j]>EPS )\n",
    "        Components = list(networkx.connected_components(G))\n",
    "        if len(Components) == 1:\n",
    "            return False\n",
    "        for S in Components:\n",
    "            modelo.cbLazy( quicksum( x[i,j] for i in S for j in S if j<i) <= len(S)-1 )\n",
    "    return True\n",
    "\n",
    "def TSP3():\n",
    "    modelo.addConstrs( x.sum(i,'*') + x.sum('*',i) == 2 for i in todos )\n",
    "\n",
    "    modelo.optimize(cbSEC1)\n",
    "\n",
    "    print('Costo total = %g' % modelo.objVal , \" in \",modelo.Runtime, \"seconds\")\n",
    "    vals = modelo.getAttr('x', x)\n",
    "    selected = [(i,j) for i,j in vals.keys() if vals[i,j] > EPS]\n",
    "    print('Optimal path: %s' % str(selected))\n",
    "    dibuja(selected)\n",
    "    \n",
    "TSP3()"
   ]
  },
  {
   "cell_type": "markdown",
   "metadata": {
    "id": "_fcr21ZK049z"
   },
   "source": [
    "Por último, resolvamos el mismo problema pero evaluando el corte también sobre cada solución fraccionaria, lo que requiere calcular un \"min-cut problem\":"
   ]
  },
  {
   "cell_type": "code",
   "execution_count": null,
   "metadata": {
    "id": "I0Re_hjc0491"
   },
   "outputs": [],
   "source": [
    "modelo = Model()\n",
    "modelo.Params.OutputFlag = 0\n",
    "modelo.Params.lazyConstraints = 1\n",
    "x = modelo.addVars(dist.keys(), obj=dist, vtype=GRB.BINARY, name='e')\n",
    "\n",
    "def cbSEC2(modelo, where):\n",
    "    corte = False\n",
    "    if where == GRB.Callback.MIPSOL:\n",
    "        vals = modelo.cbGetSolution(x)     # verificar UB solutions      \n",
    "        G = networkx.Graph()\n",
    "        G.add_edges_from( (i,j) for i,j in vals.keys() if vals[i,j]>EPS )\n",
    "        Components = list(networkx.connected_components(G))\n",
    "        if len(Components) == 1:\n",
    "            return False\n",
    "        for S in Components:\n",
    "            modelo.cbLazy( quicksum( x[i,j] for i in S for j in S if j<i) <= len(S)-1 )\n",
    "            corte = True\n",
    "        \n",
    "    if where == GRB.Callback.MIPNODE:\n",
    "        vals = modelo.cbGetNodeRel(x)      # verificar LB solutions\n",
    "        G = networkx.Graph()\n",
    "        for i,j in vals.keys():\n",
    "            if vals[i,j]>EPS:\n",
    "                G.add_edge( i, j, capacity = vals[i,j] )\n",
    "            \n",
    "        free = [True]*n\n",
    "        for i in otros :\n",
    "            if free[i]:\n",
    "                cut_value, partition = networkx.minimum_cut(G, 0, i)\n",
    "                if cut_value < 2-EPS:\n",
    "                    non_S, S = partition\n",
    "                    modelo.cbLazy( quicksum( x[i,j] for i in S for j in S if j<i) <= len(S)-1 ) \n",
    "                    corte = True\n",
    "                    for j in S: free[j] = False\n",
    "    return corte\n",
    "\n",
    "def TSP4():\n",
    "    modelo.addConstrs( x.sum(i,'*') + x.sum('*',i) == 2 for i in todos )\n",
    "\n",
    "    modelo.optimize(cbSEC2)\n",
    "\n",
    "    print('Costo total = %g' % modelo.objVal , \" in \",modelo.Runtime, \"seconds\")\n",
    "    vals = modelo.getAttr('x', x)\n",
    "    selected = [(i,j) for i,j in vals.keys() if vals[i,j] > 0.5]\n",
    "    print('Optimal path: %s' % str(selected))\n",
    "    dibuja(selected)\n",
    "\n",
    "TSP4()"
   ]
  },
  {
   "cell_type": "markdown",
   "metadata": {
    "id": "GTXGknzhTGDj"
   },
   "source": [
    "# Problema TSP asimetrico con Gurobi"
   ]
  },
  {
   "cell_type": "code",
   "execution_count": null,
   "metadata": {
    "id": "v30PceszTGDj",
    "outputId": "5b6f05fb-a9d9-4bff-96b0-43dbf62ab55d"
   },
   "outputs": [
    {
     "name": "stdout",
     "output_type": "stream",
     "text": [
      "Academic license - for non-commercial use only\n",
      "corte entero : {0, 2, 3, 4, 5, 6, 7, 8, 9, 11, 12, 13, 14, 15, 18, 20, 21, 23, 24, 27, 28, 29, 31, 33, 34, 35, 36, 37, 38, 40, 41, 42, 43, 44, 45, 49, 50, 51, 52, 53, 55, 56, 57, 59, 60, 61, 62, 63, 66, 67, 68, 69, 70, 73, 75, 76, 79, 81, 82, 84, 85, 86, 87, 88, 90, 92, 93, 95, 96, 97, 98, 99, 101, 103, 109, 110, 113, 114, 115, 116, 118, 119, 121, 122, 123, 124, 125, 126, 128, 129, 131, 132, 134, 135, 136, 137, 138, 139, 140, 142, 143, 144, 145, 146, 147, 148, 150, 153, 154, 155, 156, 157, 158, 159, 161, 163, 166, 169, 171, 174, 175, 177, 178, 179, 180, 181, 182, 183, 184, 185, 186, 187, 188, 189, 190, 191, 193, 194, 195, 197, 199, 201, 203, 207, 208, 211, 212, 213, 215, 216, 218, 219, 220, 223, 224, 225, 226, 227, 229, 230, 231, 233, 235, 236, 238, 239, 240, 241, 242, 244, 245, 246, 247, 248, 249, 250, 252, 256, 259, 262, 263, 264, 265, 266, 267, 268, 269, 271, 272, 273, 274, 275, 276, 279, 280, 284, 285, 287, 290, 291, 292, 293, 295, 296, 299}\n",
      "corte entero : {1, 130, 258, 260, 133, 10, 16, 149, 277, 281, 282, 283, 26, 288, 289, 162, 32, 294, 298, 173, 46, 47, 48, 176, 58, 64, 192, 198, 72, 202, 74, 204, 77, 206, 209, 210, 217, 91, 222, 100, 104, 232, 107, 111, 243, 251, 254}\n",
      "corte entero : {257, 261, 141, 17, 19, 22, 151, 152, 25, 278, 286, 30, 160, 164, 165, 39, 168, 167, 170, 297, 172, 54, 65, 200, 205, 78, 80, 83, 214, 89, 221, 94, 228, 102, 105, 106, 234, 108, 237, 112, 117, 120, 127, 253, 255}\n",
      "corte entero : {196, 270, 71}\n",
      "corte entero : {0, 1, 4, 5, 6, 7, 8, 10, 12, 14, 15, 16, 17, 18, 19, 20, 21, 22, 23, 25, 26, 27, 29, 30, 31, 32, 34, 35, 37, 38, 39, 40, 41, 43, 45, 47, 48, 49, 50, 51, 52, 53, 54, 55, 57, 58, 59, 60, 61, 62, 63, 64, 67, 68, 69, 71, 72, 75, 76, 77, 79, 80, 82, 83, 85, 86, 87, 88, 90, 92, 93, 95, 96, 97, 98, 99, 100, 101, 102, 104, 105, 106, 107, 108, 110, 111, 113, 115, 116, 117, 119, 120, 121, 122, 123, 124, 125, 126, 127, 128, 130, 131, 132, 133, 135, 136, 139, 141, 142, 143, 144, 146, 147, 148, 150, 151, 152, 153, 154, 155, 156, 157, 158, 159, 160, 161, 162, 164, 166, 167, 168, 170, 171, 173, 174, 176, 177, 178, 179, 181, 183, 184, 189, 193, 194, 195, 197, 198, 199, 200, 201, 202, 203, 204, 207, 208, 209, 211, 213, 214, 215, 216, 217, 220, 221, 223, 224, 225, 226, 227, 230, 231, 232, 234, 236, 237, 240, 241, 242, 243, 244, 245, 246, 247, 248, 249, 250, 251, 252, 253, 254, 255, 256, 257, 259, 260, 261, 263, 266, 267, 269, 270, 271, 272, 273, 274, 275, 276, 277, 278, 279, 280, 282, 284, 285, 286, 287, 288, 289, 290, 292, 294, 296, 297, 299}\n",
      "corte entero : {2, 163, 36, 3, 281, 134, 186, 138, 172, 109, 205, 185, 218, 187}\n",
      "corte entero : {129, 262, 264, 9, 11, 268, 149, 24, 33, 291, 293, 295, 169, 298, 44, 175, 188, 190, 192, 65, 66, 196, 70, 206, 81, 84, 212, 89, 91, 219, 94, 229, 103, 233, 238, 239, 112, 114}\n",
      "corte entero : {74, 180, 182, 191}\n",
      "corte entero : {258, 228, 165, 137, 42, 235, 140, 13, 78, 210, 118, 56, 28}\n",
      "corte entero : {73, 265, 46, 145, 283, 222}\n",
      "corte entero : {0, 4, 7, 16, 17, 20, 21, 22, 23, 24, 26, 34, 37, 43, 44, 45, 47, 50, 52, 53, 58, 65, 66, 67, 70, 74, 84, 86, 90, 91, 98, 104, 108, 110, 116, 117, 119, 122, 125, 127, 130, 132, 133, 137, 138, 147, 149, 150, 157, 158, 163, 164, 167, 171, 175, 179, 183, 189, 190, 191, 192, 194, 195, 196, 199, 200, 204, 208, 213, 216, 217, 218, 235, 241, 247, 248, 250, 254, 256, 259, 265, 276, 277, 281, 287, 291, 292, 294, 296}\n",
      "corte entero : {1, 2, 3, 5, 6, 8, 9, 10, 11, 12, 13, 14, 15, 18, 19, 25, 27, 28, 29, 30, 31, 32, 33, 35, 36, 39, 40, 41, 42, 46, 48, 49, 51, 54, 55, 56, 57, 59, 60, 61, 62, 63, 64, 68, 69, 71, 72, 73, 75, 76, 77, 78, 79, 80, 81, 82, 83, 85, 87, 88, 89, 92, 93, 94, 95, 96, 97, 99, 100, 101, 102, 103, 105, 106, 107, 109, 111, 112, 113, 114, 115, 118, 120, 121, 123, 124, 126, 128, 129, 131, 134, 135, 136, 139, 140, 141, 142, 143, 144, 145, 146, 148, 152, 153, 154, 155, 156, 159, 160, 161, 162, 165, 166, 168, 169, 170, 172, 173, 174, 176, 177, 178, 180, 181, 182, 184, 185, 186, 187, 188, 193, 197, 198, 201, 202, 203, 205, 206, 207, 209, 210, 211, 212, 214, 215, 219, 220, 221, 222, 223, 224, 225, 226, 227, 228, 229, 230, 231, 232, 233, 234, 236, 237, 238, 239, 240, 242, 244, 245, 246, 249, 251, 252, 253, 255, 257, 258, 260, 261, 262, 263, 264, 266, 267, 268, 269, 270, 271, 272, 273, 274, 275, 278, 279, 280, 282, 283, 284, 285, 286, 288, 289, 290, 293, 295, 297, 298, 299}\n",
      "corte entero : {243, 38, 151}\n",
      "corte entero : {0, 130, 6, 263, 264, 8, 138, 11, 268, 140, 142, 143, 271, 273, 144, 275, 15, 269, 18, 147, 16, 153, 155, 159, 288, 161, 160, 291, 292, 165, 169, 173, 174, 48, 50, 51, 54, 55, 183, 185, 60, 62, 191, 64, 65, 66, 198, 199, 200, 201, 73, 75, 202, 207, 211, 84, 85, 218, 93, 95, 224, 99, 227, 232, 234, 109, 237, 239, 112, 113, 116, 244, 120, 252, 255}\n",
      "corte entero : {2, 4, 5, 9, 12, 19, 21, 25, 28, 30, 32, 33, 35, 40, 41, 42, 43, 49, 53, 57, 59, 63, 71, 72, 82, 83, 87, 88, 89, 94, 97, 101, 102, 103, 104, 107, 108, 110, 115, 122, 124, 131, 132, 133, 134, 137, 145, 148, 154, 157, 168, 180, 188, 189, 197, 203, 204, 212, 217, 220, 222, 223, 228, 229, 236, 240, 246, 249, 250, 253, 254, 258, 260, 261, 262, 270, 272, 274, 278, 279, 280, 281, 282, 283, 290, 297, 299}\n",
      "corte entero : {128, 1, 257, 3, 135, 136, 10, 267, 139, 141, 13, 146, 151, 27, 284, 29, 285, 286, 289, 36, 293, 38, 166, 295, 39, 170, 172, 46, 177, 182, 56, 186, 187, 61, 193, 68, 69, 76, 77, 206, 79, 80, 81, 205, 209, 78, 214, 215, 92, 96, 225, 230, 231, 233, 106, 123, 105, 238, 111, 242, 243, 245, 118, 251, 126}\n",
      "corte entero : {129, 100, 266, 14, 210, 181, 152, 121, 219, 221, 184, 31}\n",
      "corte entero : {256, 259, 7, 17, 149, 150, 26, 156, 162, 163, 164, 296, 298, 171, 44, 47, 176, 178, 179, 52, 58, 190, 192, 194, 195, 196, 70, 74, 208, 86, 216, 90, 247, 91, 98, 226, 235, 114, 117, 119, 127}\n",
      "corte entero : {265, 20, 277, 22, 23, 24, 276, 158, 287, 34, 37, 294, 167, 45, 175, 67, 213, 241, 248, 125}\n",
      "corte entero : {0, 1, 3, 4, 10, 13, 14, 15, 25, 26, 31, 38, 39, 40, 43, 44, 46, 50, 52, 53, 56, 61, 65, 68, 69, 75, 76, 77, 78, 80, 81, 86, 90, 92, 97, 100, 104, 105, 110, 111, 114, 116, 118, 121, 122, 126, 127, 128, 129, 132, 133, 135, 137, 138, 139, 144, 151, 153, 156, 157, 162, 170, 171, 176, 177, 178, 179, 181, 182, 184, 186, 193, 194, 198, 199, 200, 203, 204, 205, 209, 210, 213, 216, 218, 219, 221, 225, 226, 228, 231, 243, 247, 250, 251, 254, 256, 257, 259, 267, 269, 281, 286, 291, 292, 293, 294, 296, 298}\n",
      "corte entero : {2, 5, 6, 8, 9, 11, 12, 19, 20, 21, 22, 23, 24, 27, 28, 29, 30, 32, 33, 34, 35, 36, 37, 41, 42, 45, 48, 49, 51, 54, 55, 57, 59, 60, 62, 63, 64, 66, 67, 71, 72, 73, 79, 82, 83, 84, 85, 87, 88, 89, 93, 94, 95, 96, 99, 101, 102, 103, 106, 107, 108, 109, 112, 113, 115, 120, 123, 124, 125, 131, 134, 136, 140, 141, 142, 143, 145, 146, 148, 152, 154, 155, 158, 159, 160, 161, 165, 166, 167, 168, 169, 172, 173, 174, 175, 180, 183, 185, 187, 188, 189, 197, 201, 206, 207, 211, 212, 214, 215, 217, 220, 222, 223, 224, 227, 229, 230, 233, 234, 236, 237, 238, 239, 240, 241, 242, 244, 245, 246, 248, 249, 252, 253, 255, 258, 260, 261, 262, 263, 264, 265, 266, 268, 270, 271, 272, 273, 274, 275, 276, 277, 278, 279, 280, 282, 283, 284, 285, 287, 288, 289, 290, 295, 297, 299}\n",
      "corte entero : {130, 232, 202, 16, 18, 147, 191}\n",
      "corte entero : {7, 17, 149, 150, 163, 164, 47, 58, 190, 192, 195, 196, 70, 74, 208, 91, 98, 235, 117, 119}\n",
      "corte entero : {0, 1, 2, 3, 4, 5, 6, 7, 8, 9, 10, 11, 12, 13, 14, 15, 16, 17, 18, 19, 20, 21, 22, 23, 24, 25, 26, 27, 28, 29, 30, 31, 32, 33, 34, 35, 37, 38, 39, 40, 41, 42, 43, 44, 45, 46, 47, 48, 49, 50, 51, 52, 53, 54, 55, 56, 57, 58, 59, 60, 61, 62, 63, 64, 65, 66, 67, 68, 69, 70, 71, 72, 73, 74, 75, 76, 77, 78, 80, 81, 82, 83, 84, 85, 86, 87, 88, 89, 90, 91, 92, 93, 94, 95, 97, 98, 99, 100, 101, 102, 103, 104, 105, 107, 108, 109, 110, 111, 112, 113, 114, 115, 116, 117, 118, 119, 120, 121, 122, 123, 124, 125, 126, 127, 128, 129, 130, 131, 132, 133, 134, 135, 136, 137, 138, 139, 140, 142, 143, 144, 145, 147, 148, 149, 150, 151, 152, 153, 154, 155, 156, 157, 158, 159, 160, 161, 162, 163, 164, 165, 167, 168, 169, 170, 171, 173, 174, 175, 176, 177, 178, 179, 180, 181, 182, 183, 184, 185, 186, 187, 188, 189, 190, 191, 192, 193, 194, 195, 196, 197, 198, 199, 200, 201, 202, 203, 204, 205, 206, 207, 208, 209, 210, 211, 212, 213, 214, 215, 216, 217, 218, 219, 220, 221, 222, 223, 224, 225, 226, 227, 228, 229, 231, 232, 233, 234, 235, 236, 237, 239, 240, 241, 242, 243, 244, 246, 247, 248, 249, 250, 251, 252, 253, 254, 255, 256, 257, 258, 259, 260, 261, 262, 263, 264, 265, 266, 267, 268, 269, 270, 271, 272, 273, 274, 275, 276, 277, 278, 279, 280, 281, 282, 283, 284, 286, 287, 288, 290, 291, 292, 293, 294, 296, 297, 298, 299}\n",
      "corte entero : {96, 289, 36, 166, 295, 230, 106, 172, 141, 238, 79, 146, 245, 285}\n",
      "corte entero : {0, 4, 6, 7, 11, 14, 16, 17, 20, 21, 22, 23, 24, 25, 26, 29, 31, 33, 35, 36, 37, 40, 43, 44, 45, 47, 49, 50, 52, 53, 58, 63, 65, 66, 67, 70, 74, 79, 84, 86, 90, 91, 93, 96, 97, 98, 100, 104, 105, 106, 110, 113, 114, 116, 117, 118, 119, 121, 122, 127, 129, 130, 131, 132, 133, 136, 137, 138, 141, 142, 146, 147, 149, 150, 152, 155, 156, 157, 158, 161, 162, 163, 164, 165, 166, 170, 171, 172, 174, 175, 176, 178, 179, 180, 181, 183, 184, 185, 189, 190, 191, 192, 194, 195, 196, 199, 200, 201, 203, 204, 206, 208, 210, 213, 214, 215, 216, 217, 218, 219, 221, 222, 226, 228, 229, 230, 233, 235, 238, 239, 241, 244, 245, 246, 247, 248, 250, 254, 256, 259, 265, 266, 272, 273, 276, 277, 281, 284, 285, 287, 288, 289, 291, 292, 294, 295, 296, 298}\n",
      "corte entero : {1, 2, 3, 5, 10, 12, 13, 19, 27, 30, 32, 34, 38, 39, 41, 42, 46, 51, 55, 56, 57, 59, 61, 62, 68, 69, 71, 72, 76, 77, 78, 80, 81, 83, 87, 88, 89, 92, 94, 95, 99, 101, 102, 103, 108, 109, 111, 112, 115, 123, 124, 125, 126, 128, 134, 135, 139, 145, 148, 151, 154, 159, 167, 168, 169, 173, 177, 182, 186, 187, 188, 193, 197, 205, 209, 220, 223, 224, 225, 231, 234, 240, 242, 243, 249, 251, 253, 255, 257, 258, 260, 261, 262, 267, 268, 275, 278, 279, 280, 282, 283, 286, 290, 293, 297, 299}\n",
      "corte entero : {263, 264, 9, 8, 140, 269, 270, 143, 271, 144, 18, 274, 15, 153, 28, 160, 48, 54, 60, 64, 198, 73, 202, 75, 207, 82, 211, 212, 85, 227, 232, 107, 236, 237, 120, 252}\n"
     ]
    },
    {
     "name": "stdout",
     "output_type": "stream",
     "text": [
      "corte entero : {0, 4, 7, 8, 9, 12, 15, 16, 17, 18, 20, 21, 22, 23, 24, 25, 28, 30, 32, 33, 37, 40, 41, 42, 43, 45, 47, 48, 49, 50, 53, 54, 58, 59, 60, 63, 64, 65, 66, 67, 70, 71, 72, 73, 74, 75, 82, 84, 85, 87, 88, 91, 94, 97, 102, 104, 107, 108, 110, 116, 117, 119, 120, 122, 130, 132, 133, 137, 138, 140, 143, 144, 145, 147, 149, 150, 153, 154, 157, 158, 160, 163, 164, 175, 183, 189, 191, 192, 195, 196, 197, 198, 199, 200, 202, 204, 207, 208, 211, 212, 213, 217, 218, 220, 227, 228, 229, 232, 236, 237, 241, 246, 248, 250, 252, 254, 258, 260, 262, 263, 264, 265, 269, 270, 271, 272, 274, 276, 277, 279, 281, 283, 284, 287, 290, 291, 292, 294}\n",
      "corte entero : {128, 1, 257, 135, 10, 267, 13, 151, 286, 293, 38, 39, 182, 56, 193, 68, 77, 80, 81, 92, 225, 111, 243, 251}\n",
      "corte entero : {2, 5, 6, 11, 14, 26, 27, 29, 31, 34, 44, 51, 52, 55, 57, 62, 86, 89, 90, 93, 95, 98, 99, 100, 101, 103, 105, 109, 112, 113, 114, 115, 118, 121, 123, 124, 125, 127, 129, 134, 136, 142, 148, 152, 155, 156, 159, 161, 162, 165, 167, 168, 169, 170, 171, 173, 174, 176, 178, 179, 181, 184, 185, 187, 188, 190, 194, 201, 206, 210, 214, 216, 219, 221, 223, 224, 226, 233, 234, 235, 239, 240, 242, 244, 247, 249, 253, 255, 256, 259, 261, 266, 268, 273, 275, 278, 280, 282, 288, 296, 297, 298, 299}\n",
      "corte entero : {3, 69, 231, 139, 76, 205, 46, 78, 209, 177, 83, 19, 186, 61, 126}\n",
      "corte entero : {131, 141, 146, 285, 289, 35, 36, 166, 295, 172, 180, 203, 79, 215, 222, 96, 230, 106, 238, 245}\n",
      "corte entero : {0, 1, 2, 4, 5, 7, 8, 9, 10, 11, 13, 14, 15, 16, 17, 18, 19, 20, 21, 22, 23, 24, 26, 27, 28, 29, 30, 31, 32, 33, 34, 35, 37, 38, 39, 40, 41, 42, 45, 47, 48, 50, 51, 52, 53, 54, 55, 56, 57, 58, 59, 60, 62, 63, 64, 65, 66, 67, 71, 72, 74, 75, 77, 79, 80, 81, 82, 83, 84, 86, 87, 88, 89, 90, 91, 92, 94, 95, 96, 99, 100, 101, 102, 103, 104, 107, 108, 109, 110, 111, 112, 113, 114, 115, 116, 117, 119, 121, 123, 124, 125, 128, 129, 130, 131, 132, 133, 134, 135, 136, 137, 138, 140, 141, 143, 144, 145, 147, 148, 149, 150, 151, 152, 153, 156, 157, 158, 159, 162, 163, 165, 166, 167, 168, 169, 171, 173, 175, 176, 178, 179, 180, 181, 182, 183, 184, 187, 188, 189, 191, 192, 194, 196, 198, 199, 200, 201, 202, 204, 206, 207, 208, 210, 211, 212, 214, 215, 216, 217, 218, 219, 220, 221, 222, 223, 224, 225, 226, 228, 229, 232, 233, 234, 236, 239, 240, 241, 242, 243, 246, 247, 248, 249, 250, 251, 252, 253, 254, 255, 256, 259, 261, 263, 264, 265, 266, 267, 268, 269, 270, 272, 273, 274, 275, 276, 277, 278, 280, 282, 283, 284, 286, 287, 289, 291, 292, 293, 295, 297, 298, 299}\n",
      "corte entero : {257, 258, 193, 68, 260, 262, 197, 12, 46, 78, 177, 279, 154, 126}\n",
      "corte entero : {288, 160, 290, 227, 161, 6, 73, 237, 142, 174, 271, 49, 244, 85, 120, 185, 155, 93}\n",
      "corte entero : {3, 139, 146, 285, 164, 36, 170, 172, 186, 61, 190, 195, 69, 70, 76, 205, 209, 98, 230, 231, 105, 106, 235, 238, 245, 118}\n",
      "corte entero : {97, 294, 281, 296, 203, 44, 43, 213, 25, 122, 127}\n",
      "Costo total = 298491  in  2.435483932495117 seconds\n"
     ]
    },
    {
     "data": {
      "text/plain": [
       "<Figure size 640x480 with 1 Axes>"
      ]
     },
     "metadata": {
      "tags": []
     },
     "output_type": "display_data"
    }
   ],
   "source": [
    "EPS    = 0.00001\n",
    "n      = 300\n",
    "\n",
    "import networkx as nx\n",
    "import random as rd\n",
    "import matplotlib.pyplot as plt\n",
    "from gurobipy import *\n",
    "\n",
    "G    = nx.complete_graph(n,nx.DiGraph())   # Graph for the TSP instance\n",
    "Gx   = nx.DiGraph()                      # Graph for separating cuts # nx.draw(Gx)\n",
    "Gx.add_node(G)\n",
    "\n",
    "rd.seed(12345)\n",
    "weight = { a : rd.randint(0,1000) for a in G.edges() }\n",
    "\n",
    "def dibuja(selected):                #dibuja una ruta dada como una lista de arcos\n",
    "    pos = nx.spring_layout(G) \n",
    "    nx.draw_networkx_nodes(G, pos, node_size=700)\n",
    "    nx.draw_networkx_labels(G, pos, font_size=20, font_family='sans-serif')\n",
    "    nx.draw_networkx_edges(G, pos, edgelist=selected, width=6)\n",
    "    plt.axis('off')\n",
    "    plt.show()\n",
    "#   plt.savefig(\"grafo.png\")        \n",
    "#nx.draw(G,pos=nx.spring_layout(G))\n",
    "#plt.draw()     \n",
    "\n",
    "modelo = Model()\n",
    "modelo.Params.OutputFlag = 0\n",
    "modelo.Params.lazyConstraints = 1\n",
    "x = modelo.addVars( G.edges , vtype=GRB.BINARY , name='a' )\n",
    "modelo.setObjective( sum( weight[a]*x[a] for a in G.in_edges ) , GRB.MAXIMIZE )\n",
    "modelo.addConstrs( sum( x[a] for a in G.in_edges(i)  ) == 1 for i in G.nodes )\n",
    "modelo.addConstrs( sum( x[a] for a in G.out_edges(i) ) == 1 for i in G.nodes )\n",
    "\n",
    "def cbSEC(modelo, where):\n",
    "    corte = False\n",
    "    if where == GRB.Callback.MIPSOL:\n",
    "        vals = modelo.cbGetSolution(x)     # verificar UB solutions   \n",
    "        for i,j in G.edges :\n",
    "            if vals[(i,j)]>EPS :\n",
    "                Gx.add_edge( i , j )\n",
    "\n",
    "        Components = list( nx.strongly_connected_components(Gx) )\n",
    "\n",
    "        for S in Components:     \n",
    "            if len(S)>2 and len(S)<n-1:\n",
    "                modelo.cbLazy( quicksum( x[(i,j)] for i in S for j in S if j!=i) <= len(S)-1 )\n",
    "                print(\"corte entero :\",S)\n",
    "                corte = True\n",
    "        Gx.remove_edges_from(list(Gx.edges))        \n",
    "        \n",
    "    if where == GRB.Callback.MIPNODE:\n",
    "        vals = modelo.cbGetNodeRel(x)      # verificar LB solutions\n",
    "        for i,j in G.edges :\n",
    "            if vals[(i,j)]>EPS :\n",
    "                Gx.add_edge( i , j , capacity=vals[(i,j)] )\n",
    "\n",
    "        free = { i : True for i in Gx.nodes }\n",
    "        free[0] = False\n",
    "        for i in Gx.nodes : \n",
    "            if free[i] :\n",
    "                cut_value, partition = nx.minimum_cut(Gx, 0, i )\n",
    "                if cut_value < 1-EPS:\n",
    "                    non_S, S = partition\n",
    "                    if len(S)>2 and len(S)<n-1:\n",
    "                        modelo.cbLazy( quicksum( x[(i,j)] for i in S for j in S if j!=i) <= len(S)-1 )                     \n",
    "                        for j in S: free[j] = False\n",
    "                        print(\"corte frac :\",S)\n",
    "                        corte = True\n",
    "        Gx.remove_edges_from(list(Gx.edges))        \n",
    "\n",
    "    return corte\n",
    "\n",
    "modelo.optimize(cbSEC)\n",
    "\n",
    "print('Costo total = %g' % modelo.objVal , \" in \",modelo.Runtime, \"seconds\")\n",
    "vals = modelo.getAttr('x', x)\n",
    "selected = [ a for a in G.edges() if vals[a] > EPS]\n",
    "dibuja(selected)\n",
    "#    print('Optimal path: %s' % str(selected))"
   ]
  },
  {
   "cell_type": "markdown",
   "metadata": {
    "id": "FwD8caNf0495"
   },
   "source": [
    "Veamos ahora otras variantes del TSP."
   ]
  },
  {
   "cell_type": "markdown",
   "metadata": {
    "id": "rAFCG-i_x1M1"
   },
   "source": [
    "# TSP con ventanas temporales"
   ]
  },
  {
   "cell_type": "code",
   "execution_count": null,
   "metadata": {
    "id": "zdoSYn0p0496",
    "outputId": "255ecc8e-6bf1-4887-8138-7e438b96cab3"
   },
   "outputs": [
    {
     "name": "stdout",
     "output_type": "stream",
     "text": [
      "cost: {(0, 1): 7, (0, 2): 1, (0, 3): 5, (0, 4): 6, (1, 0): 4, (1, 2): 5, (1, 3): 10, (1, 4): 7, (2, 0): 3, (2, 1): 6, (2, 3): 2, (2, 4): 7, (3, 0): 5, (3, 1): 9, (3, 2): 3, (3, 4): 10, (4, 0): 9, (4, 1): 3, (4, 2): 6, (4, 3): 2}\n",
      "t: {(0, 1): 100, (0, 2): 100, (0, 3): 100, (0, 4): 100, (1, 0): 100, (1, 2): 100, (1, 3): 100, (1, 4): 100, (2, 0): 100, (2, 1): 100, (2, 3): 100, (2, 4): 100, (3, 0): 100, (3, 1): 100, (3, 2): 100, (3, 4): 100, (4, 0): 100, (4, 1): 100, (4, 2): 100, (4, 3): 100}\n",
      "s: {0: 100, 1: 100, 2: 100, 3: 100, 4: 100}\n",
      "Costo total = 25  in  0.103 seconds\n",
      "Optimal path: [(0, 4), (1, 2), (2, 0), (3, 1), (4, 3)]\n"
     ]
    },
    {
     "ename": "NameError",
     "evalue": "name 'dibuja' is not defined",
     "output_type": "error",
     "traceback": [
      "\u001b[1;31m---------------------------------------------------------------------------\u001b[0m",
      "\u001b[1;31mNameError\u001b[0m                                 Traceback (most recent call last)",
      "\u001b[1;32m<ipython-input-8-1bed5c19ddbb>\u001b[0m in \u001b[0;36m<module>\u001b[1;34m\u001b[0m\n\u001b[0;32m     49\u001b[0m     \u001b[0mselected\u001b[0m \u001b[1;33m=\u001b[0m \u001b[1;33m[\u001b[0m\u001b[1;33m(\u001b[0m\u001b[0mi\u001b[0m\u001b[1;33m,\u001b[0m\u001b[0mj\u001b[0m\u001b[1;33m)\u001b[0m \u001b[1;32mfor\u001b[0m \u001b[0mi\u001b[0m\u001b[1;33m,\u001b[0m\u001b[0mj\u001b[0m \u001b[1;32min\u001b[0m \u001b[0mcost\u001b[0m\u001b[1;33m.\u001b[0m\u001b[0mkeys\u001b[0m\u001b[1;33m(\u001b[0m\u001b[1;33m)\u001b[0m \u001b[1;32mif\u001b[0m \u001b[0mx\u001b[0m\u001b[1;33m[\u001b[0m\u001b[0mi\u001b[0m\u001b[1;33m,\u001b[0m \u001b[0mj\u001b[0m\u001b[1;33m]\u001b[0m\u001b[1;33m.\u001b[0m\u001b[0msolution_value\u001b[0m\u001b[1;33m(\u001b[0m\u001b[1;33m)\u001b[0m \u001b[1;33m>\u001b[0m \u001b[0mEPS\u001b[0m\u001b[1;33m]\u001b[0m\u001b[1;33m\u001b[0m\u001b[1;33m\u001b[0m\u001b[0m\n\u001b[0;32m     50\u001b[0m     \u001b[0mprint\u001b[0m\u001b[1;33m(\u001b[0m\u001b[1;34m'Optimal path: %s'\u001b[0m \u001b[1;33m%\u001b[0m \u001b[0mstr\u001b[0m\u001b[1;33m(\u001b[0m\u001b[0mselected\u001b[0m\u001b[1;33m)\u001b[0m\u001b[1;33m)\u001b[0m\u001b[1;33m\u001b[0m\u001b[1;33m\u001b[0m\u001b[0m\n\u001b[1;32m---> 51\u001b[1;33m     \u001b[0mdibuja\u001b[0m\u001b[1;33m(\u001b[0m\u001b[0mselected\u001b[0m\u001b[1;33m)\u001b[0m\u001b[1;33m\u001b[0m\u001b[1;33m\u001b[0m\u001b[0m\n\u001b[0m",
      "\u001b[1;31mNameError\u001b[0m: name 'dibuja' is not defined"
     ]
    }
   ],
   "source": [
    "from ortools.linear_solver import pywraplp\n",
    "solver = pywraplp.Solver('TSP Time Windows', pywraplp.Solver.CBC_MIXED_INTEGER_PROGRAMMING)\n",
    "\n",
    "# x and y are integer non-negative variables.\n",
    "n      = 5\n",
    "todos  = range(n)\n",
    "otros  = range(1,n)\n",
    "EPS    = 0.001\n",
    "\n",
    "import random as rand\n",
    "rand.seed(12345)\n",
    "cost = { (i,j): rand.randint(1,10) for i in todos for j in todos if i!=j}\n",
    "\n",
    "e = [1400, 900, 1200, 800, 700]\n",
    "l = [1400, 1100, 1300, 1000, 900]\n",
    "t = {(i,j): 100 for i,j in cost.keys()}\n",
    "s = {i: 100 for i in todos}\n",
    "\n",
    "print(\"cost:\",cost)\n",
    "print(\"t:\",t)\n",
    "print(\"s:\",s)\n",
    "x = {}\n",
    "for i,j in cost.keys():\n",
    "    x[i, j] = solver.BoolVar('x[%i, %i]' % (i, j))\n",
    "\n",
    "u = {}\n",
    "for i in otros:\n",
    "    u[i] = solver.IntVar(1.0,solver.infinity(),'u[%i]' % (i))\n",
    "\n",
    "solver.Minimize(solver.Sum([cost[i,j]*x[i,j] for i in todos for j in todos if i!=j]))\n",
    "\n",
    "for i in todos:\n",
    "    solver.Add(solver.Sum([x[i,j] for j in todos if i!=j]) == 1)\n",
    "\n",
    "for j in todos:\n",
    "    solver.Add(solver.Sum([x[i,j] for i in todos if i!=j]) == 1)\n",
    "\n",
    "for i in otros:\n",
    "    solver.Add(e[i]<=u[i]<=l[i])\n",
    "\n",
    "for i in otros:\n",
    "    for j in otros:\n",
    "        if i!=j:\n",
    "            solver.Add(u[j]>=u[i]+(s[i]+t[i,j])*x[i,j]-(l[i]-e[j])*(1-x[i,j]))\n",
    "\n",
    "sol = solver.Solve()\n",
    "if sol == solver.OPTIMAL:\n",
    "    print('Costo total = %g' % solver.Objective().Value() , \" in \",solver.WallTime()/1000, \"seconds\")\n",
    "    selected = [(i,j) for i,j in cost.keys() if x[i, j].solution_value() > EPS]\n",
    "    print('Optimal path: %s' % str(selected))"
   ]
  },
  {
   "cell_type": "markdown",
   "metadata": {
    "id": "ohhPTnKt0498"
   },
   "source": [
    "# TSP con relaciones de precedencia"
   ]
  },
  {
   "cell_type": "code",
   "execution_count": null,
   "metadata": {
    "id": "4nMLfT6m0499"
   },
   "outputs": [],
   "source": [
    "from ortools.linear_solver import pywraplp\n",
    "solver = pywraplp.Solver('Precedencias', pywraplp.Solver.CBC_MIXED_INTEGER_PROGRAMMING)\n",
    "\n",
    "# x and y are integer non-negative variables.\n",
    "n      = 10\n",
    "todos  = range(n)\n",
    "otros  = range(1,n)\n",
    "EPS    = 0.001\n",
    "\n",
    "import random as rand\n",
    "rand.seed(12345)\n",
    "cost = { (i,j): rand.randint(10,100) for i in todos for j in todos if i!=j}\n",
    "\n",
    "x = {}\n",
    "for i,j in cost.keys():\n",
    "    x[i, j] = solver.BoolVar('x[%i, %i]' % (i, j))\n",
    "v = {}\n",
    "for i,j in cost.keys():\n",
    "    v[i, j] = solver.BoolVar('v[%i, %i]' % (i, j))\n",
    "\n",
    "# Aqui se almacenarán las precedencias que se deseen\n",
    "precedencias = [[3,2],[1,2]]\n",
    "\n",
    "solver.Minimize(solver.Sum([cost[i,j]*x[i,j] for i in todos for j in todos if i!=j]))\n",
    "\n",
    "for i in todos:\n",
    "    solver.Add(solver.Sum([x[i,j] for j in todos if i!=j]) == 1)\n",
    "\n",
    "for j in todos:\n",
    "    solver.Add(solver.Sum([x[i,j] for i in todos if i!=j]) == 1)\n",
    "\n",
    "for i in otros:\n",
    "    for j in otros:\n",
    "        if i != j:\n",
    "            solver.Add((v[i,j]+v[j,i]) == 1)\n",
    "\n",
    "for i in otros:\n",
    "    for j in otros:\n",
    "        if i != j:\n",
    "            for k in otros:\n",
    "                if (k != i) & (k != j):\n",
    "                    solver.Add( v[i,j]+v[j,k] <= v[i,k]+1 )\n",
    "\n",
    "for i in otros:\n",
    "    for j in otros:\n",
    "        if i != j:\n",
    "            solver.Add(x[i,j] <= v[i,j])\n",
    "\n",
    "for p in precedencias:\n",
    "    solver.Add(v[p[0],p[1]] == 1)\n",
    "\n",
    "sol = solver.Solve()\n",
    "if sol == solver.OPTIMAL:\n",
    "    print('Costo total = %g' % solver.Objective().Value() , \" in \",solver.WallTime()/1000, \"seconds\")\n",
    "    selected = [(i,j) for i,j in cost.keys() if x[i, j].solution_value() > EPS]\n",
    "    print('Optimal path: %s' % str(selected)) "
   ]
  },
  {
   "cell_type": "markdown",
   "metadata": {
    "id": "tExJsykC049_"
   },
   "source": [
    "# TSP con recogidas y entregas de una mercancía"
   ]
  },
  {
   "cell_type": "code",
   "execution_count": null,
   "metadata": {
    "id": "pBDLYi_7049_",
    "outputId": "84df5ba7-6463-41e3-f24a-f3aca2d32e26"
   },
   "outputs": [
    {
     "name": "stdout",
     "output_type": "stream",
     "text": [
      "Demandas: {0: 17, 1: -5, 2: -1, 3: -10, 4: -6, 5: -3, 6: 1, 7: 7, 8: 0}\n",
      "Q: 17\n",
      "Costo total = 202  in  0.111 seconds\n",
      "Optimal path: [(0, 2), (1, 0), (2, 5), (3, 6), (4, 8), (5, 4), (6, 1), (7, 3), (8, 7)]\n"
     ]
    }
   ],
   "source": [
    "from ortools.linear_solver import pywraplp\n",
    "solver = pywraplp.Solver('TSPrecogidasYEntregas1Mercancia', pywraplp.Solver.CBC_MIXED_INTEGER_PROGRAMMING)\n",
    "\n",
    "# x and y are integer non-negative variables.\n",
    "n      = 9\n",
    "todos  = range(n)\n",
    "otros  = range(1,n)\n",
    "EPS    = 0.001\n",
    "\n",
    "import random as rand\n",
    "rand.seed(12345)\n",
    "cost = { (i,j): rand.randint(10,100) for i in todos for j in todos if i!=j}\n",
    "\n",
    "# Demandas\n",
    "d = { i : rand.randint(-10,10) for i in todos }\n",
    "total = 0\n",
    "for i in otros:\n",
    "    total += d[i]\n",
    "d[0] = -total\n",
    "print(\"Demandas:\",d)\n",
    "\n",
    "# Capacidad del vehículo\n",
    "Q = 0\n",
    "for i in todos:\n",
    "    if Q<abs(d[i]):\n",
    "        Q = abs(d[i])\n",
    "print(\"Q:\",Q)\n",
    "\n",
    "x = { (i,j) : solver.BoolVar('x[%i, %i]' % (i, j)) for i,j in cost.keys() }\n",
    "f = { (i,j) : solver.IntVar(0.0,solver.infinity(),'f[%i, %i]' % (i, j)) for i,j in cost.keys() }\n",
    "u = { i     : solver.IntVar(1.0,solver.infinity(),'u[%i]' % (i)) for i in otros }\n",
    "\n",
    "solver.Minimize(solver.Sum([cost[i,j]*x[i,j] for i in todos for j in todos if i!=j]))\n",
    "\n",
    "for i in todos:\n",
    "    solver.Add(solver.Sum([x[i,j] for j in todos if i!=j]) == 1)\n",
    "\n",
    "for j in todos:\n",
    "    solver.Add(solver.Sum([x[i,j] for i in todos if i!=j]) == 1)\n",
    "\n",
    "for i in otros:\n",
    "    for j in otros:\n",
    "        if i!=j:\n",
    "            solver.Add(u[j]>=(u[i]+x[i,j]-(n-2)*(1-x[i,j])+(n-3)*x[j,i]))\n",
    "\n",
    "for i in todos:\n",
    "    solver.Add((solver.Sum([f[j,i] for j in todos if i!=j])-solver.Sum([f[i,j] for j in todos if i!=j])) == d[i])\n",
    "for i in todos:\n",
    "    for j in todos:\n",
    "        if i!=j:\n",
    "            solver.Add(0<=f[i,j]<=Q*x[i,j])\n",
    "\n",
    "sol = solver.Solve()\n",
    "if sol == solver.OPTIMAL:\n",
    "    print('Costo total = %g' % solver.Objective().Value() , \" in \",solver.WallTime()/1000, \"seconds\")\n",
    "    selected = [(i,j) for i,j in cost.keys() if x[i, j].solution_value() > EPS]\n",
    "    print('Optimal path: %s' % str(selected)) "
   ]
  },
  {
   "cell_type": "markdown",
   "metadata": {
    "id": "IHJ4A4lH04-B"
   },
   "source": [
    "# TSP con varias pilas"
   ]
  },
  {
   "cell_type": "markdown",
   "metadata": {
    "id": "IRcjoZHV04-C"
   },
   "source": [
    "Asumamos ahora una empresa que se dedica a recoger pallets desde $n$ lugares de Tenerife para entregarlos luego en otros $n$ lugares en Gran Canaria. Concretamente, pensemos en un camión que arrastra un contenedor inicialmente vacío. Cada cliente en Tenerife entrega al camión 1 pallet, que entre en el contenedor por detrás situándose en una de las $m$ pilas del contenedor. No se pueden reorganizar los pallets ni al recogerlos ni al entregarlos. Sólo se pueden apilar por detras los pallets, y recoger por detrás los pallets. En Tenerife el camión debe hacer una ruta para ir recogiéndolo, y en Gran Ganaria otra ruta para ir entregando. El contenedor permite hasta $m \\times q$ pallets, siendo $m$ el número de pilas (columnas) y $q$ la cantidad máxima de pallets por pila (filas), asumiendo $n\\leq m \\times q$. Se buscan las dos rutas de coste total mínimo. Observemos que el caso $m=1$ equivale a resolver un TSP, mientras que cuando $m>1$ la situación se complica:"
   ]
  },
  {
   "cell_type": "code",
   "execution_count": null,
   "metadata": {
    "id": "hTEiKEu004-D"
   },
   "outputs": [],
   "source": [
    "from ortools.linear_solver import pywraplp\n",
    "import random as rand\n",
    "\n",
    "solver = pywraplp.Solver('TSP2', pywraplp.Solver.CBC_MIXED_INTEGER_PROGRAMMING)\n",
    "\n",
    "# x and y are integer non-negative variables.\n",
    "nodes = 10\n",
    "pilas = 3\n",
    "q = 5\n",
    "rand.seed(42)\n",
    "cost_t = { (i,j): rand.randint(10,100) for i in range(nodes) for j in range(nodes) if i!=j}\n",
    "cost_g = { (i,j): rand.randint(10,100) for i in range(nodes) for j in range(nodes) if i!=j}\n",
    "\n",
    "x_t = { (i,j): solver.BoolVar('x_t[%i, %i]' % (i, j)) for i in range(nodes) for j in range(nodes) if i!=j}\n",
    "x_g = { (i,j): solver.BoolVar('x_g[%i, %i]' % (i, j)) for i in range(nodes) for j in range(nodes) if i!=j}\n",
    "\n",
    "v_t = { (i,j): solver.BoolVar('v_t[%i, %i]' % (i, j)) for i in range(1,nodes) for j in range(1,nodes) if i!=j}\n",
    "v_g = { (i,j): solver.BoolVar('v_g[%i, %i]' % (i, j)) for i in range(1,nodes) for j in range(1,nodes) if i!=j}\n",
    "\n",
    "z = { (i,k): solver.BoolVar('z[%i, %i]' % (i, k)) for i in range(1,nodes) for k in range(pilas)}\n",
    "\n",
    "solver.Minimize(solver.Sum([cost_t[i,j]*x_t[i,j] for i in range(nodes) for j in range(nodes) if i!=j])+solver.Sum([cost_g[i,j]*x_g[i,j] for i in range(nodes) for j in range(nodes) if i!=j]))\n",
    "\n",
    "for i in range(nodes):\n",
    "    solver.Add(solver.Sum([x_t[i,j] for j in range(nodes) if i!=j]) == 1)\n",
    "\n",
    "for j in range(nodes):\n",
    "    solver.Add(solver.Sum([x_t[i,j] for i in range(nodes) if i!=j]) == 1)\n",
    "\n",
    "for i in range(nodes):\n",
    "    solver.Add(solver.Sum([x_g[i,j] for j in range(nodes) if i!=j]) == 1)\n",
    "\n",
    "for j in range(nodes):\n",
    "    solver.Add(solver.Sum([x_g[i,j] for i in range(nodes) if i!=j]) == 1)\n",
    "\n",
    "for i in range(1,nodes):\n",
    "    for j in range(1,nodes):\n",
    "        if i != j:\n",
    "            solver.Add((v_t[i,j]+v_t[j,i]) == 1)\n",
    "            solver.Add((v_g[i,j]+v_g[j,i]) == 1)\n",
    "\n",
    "for i in range(1,nodes):\n",
    "    for j in range(1,nodes):\n",
    "        if i != j:\n",
    "            for k in range(1, nodes):\n",
    "                if (k != i) & (k != j):\n",
    "                    solver.Add( v_t[i,j]+v_t[j,k] <= v_t[i,k]+1 )\n",
    "                    solver.Add( v_g[i,j]+v_g[j,k] <= v_g[i,k]+1 )\n",
    "\n",
    "for i in range(1,nodes):\n",
    "    for j in range(1,nodes):\n",
    "        if i != j:\n",
    "            solver.Add(x_t[i,j] <= v_t[i,j])\n",
    "            solver.Add(x_g[i,j] <= v_g[i,j])\n",
    "\n",
    "for i in range(1,nodes):\n",
    "    for k in range(pilas):\n",
    "        solver.Add(z[i,k] == 1)\n",
    "        solver.Add(z[i,k] <= q)\n",
    "\n",
    "for i in range(1,nodes):\n",
    "    for j in range(1,nodes):\n",
    "        if i!=j:\n",
    "            for k in range(pilas):\n",
    "                solver.Add(v_t[i,j]+v_g[i,j]+z[i,k]+z[j,k] <= 3)\n",
    "\n",
    "sol = solver.Solve()\n",
    "if sol == solver.OPTIMAL:\n",
    "    print('Wall time = ' + str(solver.WallTime()) + ' ms')\n",
    "    print('Número de variables =', solver.NumVariables())\n",
    "    print('Número de restricciones =', solver.NumConstraints())\n",
    "    print('Costo total =', solver.Objective().Value())\n",
    "    recorrido = '0'\n",
    "    i=0\n",
    "    while i != -1:\n",
    "        for j in range(nodes):\n",
    "            if i!=j:\n",
    "                if x_t[i, j].solution_value() > 0:\n",
    "                    recorrido += ' -c(' + str(cost_t[i,j]) +')-> ' + str(j)\n",
    "                    aux = j\n",
    "        if aux != 0:\n",
    "            i = aux\n",
    "        else:\n",
    "            i = -1\n",
    "    print(\"T ::: \" + recorrido)\n",
    "    recorrido = '0'\n",
    "    i=0\n",
    "    while i != -1:\n",
    "        for j in range(nodes):\n",
    "            if i!=j:\n",
    "                if x_g[i, j].solution_value() > 0:\n",
    "                    recorrido += ' -c(' + str(cost_g[i,j]) +')-> ' + str(j)\n",
    "                    aux = j\n",
    "        if aux != 0:\n",
    "            i = aux\n",
    "        else:\n",
    "            i = -1\n",
    "    print(\"G ::: \" + recorrido)"
   ]
  },
  {
   "cell_type": "markdown",
   "metadata": {
    "id": "yRnm77pe04-F"
   },
   "source": [
    "# TSP con visitas consistentes (sin tiempos de espera)"
   ]
  },
  {
   "cell_type": "code",
   "execution_count": null,
   "metadata": {
    "id": "MVBU792L04-F"
   },
   "outputs": [],
   "source": [
    "# Consistent ATSP  without Idle Times (i.e. the vehicle goes from customer to customer with no waiting times in between)\n",
    "\n",
    "import networkx as nx\n",
    "import random as rd\n",
    "import matplotlib.pyplot as plt\n",
    "import math\n",
    "import sys \n",
    "import tsplib95\n",
    "import gurobipy as gp\n",
    "from gurobipy import *\n",
    "\n",
    "UserSubtourElimination = True\n",
    "UserPathInequalities   = False\n",
    "UserBenderInequalities = False\n",
    "\n",
    "NumDays           =    3      # number of days\n",
    "NumCustomers      =   20      # number of customers in total\n",
    "CustomersPerDay   = 0.50      # number of customers in each day :  must be a number between 0 and 1 to reprensent a percentage\n",
    "MaxAllowableDif   =  200      # maximum allowable differential\n",
    "depot             =    0      # label of the depot in  0,1,2,.... \n",
    "days      = range(NumDays)       \n",
    "locations = range(NumCustomers+1)\n",
    "customers = [ i for i in locations if i!=depot ]\n",
    "rd.seed(12244)\n",
    "pos = [(rd.randint(0,1000),rd.randint(0,1000)) for i in locations]\n",
    "def distance(points, i, j):\n",
    "    dx = pos[i][0] - pos[j][0]\n",
    "    dy = pos[i][1] - pos[j][1]\n",
    "    return math.floor(math.sqrt(dx*dx + dy*dy))\n",
    "dist = { (i,j) : distance(pos,i,j) for i in locations for j in locations if i!=j }\n",
    "V = { k : [depot] for k in days }\n",
    "for k in days:\n",
    "    V[k].extend( rd.sample( customers , int(NumCustomers*CustomersPerDay) ) )\n",
    "\n",
    "\n",
    "#instance          = tsplib95.load_problem(\"/Users/JuanJose/jj/Macu/Consistent TSP/ATSPconsistent/gr24_p5_f90_lL.contsp\")\n",
    "#NumDays           = 3\n",
    "#NumCustomers      = instance.dimension - 1\n",
    "#depot             = 0\n",
    "#CustomersPerDay   = 0.50      # number of customers in each day :  must be a number between 0 and 1 to reprensent a percentage\n",
    "#MaxAllowableDif   = 600\n",
    "#days = range(NumDays)       \n",
    "#G    = instance.get_graph()\n",
    "#locations     = G.nodes()\n",
    "#customers     = [ i for i in locations if i!=depot ]\n",
    "#dist = { (i,j) : instance.wfunc(i,j) for i in locations for j in locations if i!=j }\n",
    "#pos  = instance.node_coords if instance.node_coords else nx.spring_layout(G)\n",
    "\n",
    "V = { k : [depot] for k in days }\n",
    "for k in days:\n",
    "    V[k].extend( rd.sample( customers , int(NumCustomers*CustomersPerDay) ) )\n",
    "\n",
    "D = { i : list()  for i in locations }\n",
    "for k in days:\n",
    "    for i in V[k]: D[i].append(k)\n",
    "\n",
    "G = nx.complete_graph(locations,nx.DiGraph())   # Graph for the TSP instance\n",
    "H = {}\n",
    "for k in days:\n",
    "    H[k] = nx.DiGraph()                         # Graph for separating cuts # nx.draw(Gx)\n",
    "    H[k].add_nodes_from(V[k])\n",
    "\n",
    "EPS = 0.000001\n",
    "NumSecInt = NumSecFrac = NumPathInt = NumPathFrac = NumBenderInt = NumBenderFrac = 0\n",
    "\n",
    "node_color = []\n",
    "for i in G.nodes:\n",
    "    if   i==depot:            node_color.append('red')\n",
    "    elif len(D[i])==0:        node_color.append('blue')\n",
    "    elif len(D[i])==1:        node_color.append('green')\n",
    "    else:                     node_color.append('yellow')\n",
    "\n",
    "def dibuja(vals):   \n",
    "    llegadas = {}\n",
    "    for k in days:\n",
    "        selected = [ (i,j,dist[i,j]) for i in V[k] for j in V[k] if i!=j and vals[i,j,k]>EPS ]\n",
    "\n",
    "        J = nx.DiGraph()       #local digraph to compute the arrivals of a given integer solution\n",
    "        J.add_nodes_from(V[k])\n",
    "        J.add_weighted_edges_from(selected)\n",
    "        llegadas[k] = nx.single_source_dijkstra_path_length(J,depot)        \n",
    "\n",
    "        plt.subplot(NumDays, 1, k+1)\n",
    "        nx.draw_networkx_nodes(G, pos, node_color=node_color)\n",
    "        nx.draw_networkx_labels(G, pos)\n",
    "        nx.draw_networkx_edges(G, pos, edgelist=selected, width=2)\n",
    "    plt.show()\n",
    "\n",
    "    MaxDif = 0\n",
    "    for i in customers: \n",
    "        if len(D[i])>1:\n",
    "            for k in D[i]: \n",
    "                for l in D[i]:\n",
    "                    if MaxDif < llegadas[k][i]-llegadas[l][i] :\n",
    "                       MaxDif = llegadas[k][i]-llegadas[l][i]\n",
    "    print(\"Llegadas:\",llegadas,\" Max dif = \",MaxDif)\n",
    "\n",
    "model = gp.Model()\n",
    "model.Params.OutputFlag = 1\n",
    "model.Params.lazyConstraints = 1\n",
    "#model.Params.timeLimit  = 120\n",
    "#model.Params.cutOff     = 5974\n",
    "\n",
    "x = tupledict()\n",
    "for k in days:\n",
    "    for i in V[k]:\n",
    "        for j in V[k]:\n",
    "            if i!=j :\n",
    "                x[i,j,k] = model.addVar(obj=dist[i,j], vtype=GRB.BINARY, name='x%d_%d_%d'%(i,j,k))\n",
    "\n",
    "model.addConstrs( x.sum(i,'*',k) == 1 for k in days for i in V[k] )\n",
    "model.addConstrs( x.sum('*',i,k) == 1 for k in days for i in V[k] )\n",
    "\n",
    "\n",
    "def cbSEC(model, where):\n",
    "\n",
    "    global NumSecInt,NumPathInt,NumBenderInt,NumSecFrac,NumPathFrac,NumBenderFrac,UserSubtourElimination,UserPathInequalities,UserBenderInequalities\n",
    "    corte = False\n",
    "\n",
    "    if where == GRB.Callback.MIPSOL:\n",
    "        vals = model.cbGetSolution(x)     # verificar UB solutions     \n",
    "        for k in days :\n",
    "            selected = [ (i,j,dist[i,j]) for i in V[k] for j in V[k] if i!=j and vals[i,j,k]>EPS ]\n",
    "            H[k].add_weighted_edges_from(selected)\n",
    "\n",
    "        for k in days :\n",
    "            Components = list( nx.strongly_connected_components(H[k]) )\n",
    "            for S in Components:     \n",
    "                if len(S)>1 and len(S)<len(V[k])-1:\n",
    "#                   print(k,\" corte entero :\",S)\n",
    "                    model.cbLazy( quicksum( x[i,j,k] for i in S for j in S if j!=i) <= len(S)-1 )\n",
    "                    NumSecInt += 1\n",
    "                    corte = True        \n",
    "\n",
    "        if corte==False:\n",
    "            arrival = {}\n",
    "            paths = {}\n",
    "            last = {}\n",
    "            for k in days :\n",
    "                arrival[k],paths[k] = nx.single_source_dijkstra(H[k],depot)        \n",
    "                total = 0\n",
    "                for i in V[k] :\n",
    "                    if arrival[k][i]>total :\n",
    "                        total = arrival[k][i]\n",
    "                        last[k] = i\n",
    "\n",
    "            for i in customers: \n",
    "                if len(D[i])>1:\n",
    "                    for k in D[i]:\n",
    "                        for l in D[i]:\n",
    "                            if k!=l and arrival[k][i] - arrival[l][i] > MaxAllowableDif:\n",
    "#                               print(\"FROM INT SOL: infeasible path at customer \",i,\" on \",k,\" and \",l, \"because\", arrival[k][i],\" >> \",arrival[l][i])\n",
    "\n",
    "# Option 1: path elimination \n",
    "#                               P = paths[k][i]\n",
    "#                               Q = paths[l][i]\n",
    "# Option 2: route elimination\n",
    "#                               P = paths[k][last[k]]\n",
    "#                               Q = paths[l][last[l]]\n",
    "\n",
    "#                               vars = [ (P[s],P[s+1],k) for s in range(len(P)-1) ] + [ (Q[s],Q[s+1],l) for s in range(len(Q)-1) ]\n",
    "#                               vars = [ (P[s],P[t],k) for t in range(1,len(P)) for s in range(t)] + [ (Q[s],Q[t],l) for t in range(1,len(Q)) for s in range(t) ]\n",
    "#                               model.cbLazy( quicksum( x[a] for a in vars ) <= len(P)+len(Q)-3 )\n",
    "#                               NumPathInt += 1\n",
    "\n",
    "# Option 3: Benders                         \n",
    "                                total = sum( dist[u,v] for u,v in H[k].edges )\n",
    "                                arriv = arrival[k]\n",
    "                                minb = { j : total-arriv[j] for j in H[k].nodes }\n",
    "#                               print(\"k=\",k,\"i=\",i,\"minb=\",minb)\n",
    "#                               print( minb[depot] - minb[i] + sum( (dist[u,v]-minb[u]+minb[v])*vals[u,v,k] for u in V[k] for v in V[k] if u!=v and dist[u,v]-minb[u]+minb[v]<0 ))\n",
    "#\n",
    "                                total = sum( dist[u,v] for u,v in H[l].edges )\n",
    "                                arriv = arrival[l]\n",
    "                                maxb = { j : arriv[i]-arriv[j] if arriv[i]<=arriv[j] else arriv[i]-arriv[j]-total for j in H[l].nodes }\n",
    "#                               print(\"l=\",l,\"i=\",i,\"maxb=\",minb)\n",
    "#                               print( maxb[depot] - maxb[i] + sum( (dist[u,v]-maxb[u]+maxb[v])*vals[u,v,l] for u in V[l] for v in V[l] if u!=v and dist[u,v]-maxb[u]+maxb[v]>0 ))\n",
    "#\n",
    "                                model.cbLazy( ( minb[depot] - minb[i] + quicksum( (dist[u,v]-minb[u]+minb[v])*x[u,v,k] for u in V[k] for v in V[k] if u!=v and dist[u,v]-minb[u]+minb[v]<0 )) \\\n",
    "                                            - ( maxb[depot] - maxb[i] + quicksum( (dist[u,v]-maxb[u]+maxb[v])*x[u,v,l] for u in V[l] for v in V[l] if u!=v and dist[u,v]-maxb[u]+maxb[v]>0 )) \\\n",
    "                                       <= MaxAllowableDif   )\n",
    "                                NumBenderInt += 1\n",
    "                                corte = True\n",
    "\n",
    "        for k in days : H[k].remove_edges_from(list(H[k].edges))\n",
    "        return corte\n",
    "    \n",
    "    if where == GRB.Callback.MIPNODE:\n",
    "\n",
    "        status = model.cbGet(GRB.Callback.MIPNODE_STATUS)\n",
    "        if status != GRB.OPTIMAL: return False\n",
    "        vals = model.cbGetNodeRel(x)      # verificar LB solutions\n",
    "        for k in days :\n",
    "            for i in V[k] :\n",
    "                for j in V[k] :\n",
    "                    if i!=j and vals[i,j,k]>EPS :\n",
    "                        H[k].add_edge( i , j , capacity=vals[i,j,k] )\n",
    "\n",
    "        if not corte and UserSubtourElimination :\n",
    "            for k in days :\n",
    "                free = { i : True for i in H[k].nodes }\n",
    "                free[depot] = False\n",
    "                for i in H[k].nodes : \n",
    "                    if free[i] :\n",
    "                        cut_value, partition = nx.minimum_cut( H[k], depot, i )\n",
    "                        if cut_value < 1-EPS:\n",
    "                            non_S, S = partition\n",
    "                            if len(S)>1 and len(S)<len(V[k])-1:\n",
    "#                               print(k,\" corte frac :\",S)\n",
    "                                model.cbLazy( sum( x[i,j,k] for i in S for j in S if j!=i) <= len(S)-1 )                     \n",
    "                                NumSecFrac += 1\n",
    "                                for j in S: free[j] = False\n",
    "                                corte = True\n",
    "\n",
    "        if not corte and UserPathInequalities :\n",
    "            for i in customers:\n",
    "                if len(D[i])>1:\n",
    "                    for k in D[i]:\n",
    "                        for l in D[i]:\n",
    "                            Paths = nx.all_simple_paths(H[k], source=depot, target=i)\n",
    "                            Qaths = nx.all_simple_paths(H[l], source=depot, target=i)\n",
    "                            for P in Paths:\n",
    "                                for Q in Qaths:\n",
    "#                                    vars = [ (P[s],P[s+1],k) for s in range(len(P)-1) ] + [ (Q[s],Q[s+1],l) for s in range(len(Q)-1) ]\n",
    "                                    vars = [ (P[s],P[t],k) for t in range(1,len(P)) for s in range(t)] + [ (Q[s],Q[t],l) for t in range(1,len(Q)) for s in range(t) ]\n",
    "                                    if sum( vals[a] for a in vars ) > len(P)+len(Q)-3+EPS :\n",
    "#                                        print(\"Violated Infeasible Path Elimination Constraint found!\",P,Q)\n",
    "                                        model.cbLazy( quicksum( x[a] for a in vars ) <= len(P)+len(Q)-3 )\n",
    "                                        NumPathFrac += 1\n",
    "                                        corte = True\n",
    "\n",
    "\n",
    "        if not corte and UserBenderInequalities :\n",
    "\n",
    "            minarrival = { (k,i) :  0 for k in days for i in V[k] }\n",
    "            maxarrival = { (k,i) :  0 for k in days for i in V[k] }\n",
    "            minbeta    = { (k,i) : {} for k in days for i in V[k] }\n",
    "            maxbeta    = { (k,i) : {} for k in days for i in V[k] }\n",
    "            for k in days:\n",
    "\n",
    "                submodel = gp.Model(\"NetFlow\")\n",
    "                submodel.Params.OutputFlag = 0\n",
    "                f = tupledict()\n",
    "                for i,j in H[k].edges :\n",
    "                    f[i,j] = submodel.addVar(obj=dist[i,j], ub=vals[i,j,k], vtype=GRB.CONTINUOUS, name='f%d_%d'%(i,j))\n",
    "\n",
    "                c = tupledict()\n",
    "                for i in H[k].nodes:\n",
    "                    c[i] = submodel.addConstr( f.sum(i,'*') - f.sum('*',i) >= 0.0 )\n",
    "                submodel.setAttr(\"RHS\", c[depot], 1.0 )\n",
    "            \n",
    "                for i in V[k]:\n",
    "                    if i!=depot and len(D[i])>1:\n",
    "                        submodel.setAttr(\"RHS\", c[i], -1.0)\n",
    "                    \n",
    "                        submodel.setAttr(\"ModelSense\",GRB.MINIMIZE)\n",
    "                        submodel.optimize()\n",
    "                        if submodel.Status != GRB.OPTIMAL:\n",
    "                            print('min-cost flow; status = %d' % submodel.Status)\n",
    "                            submodel.write(\"error.lp\")\n",
    "\n",
    "                        minarrival[k,i] = submodel.getAttr(\"ObjVal\")\n",
    "                        minbeta[k,i] = b = { u : c[u].getAttr(\"Pi\") for u in H[k].nodes }\n",
    "#                       print(k,\"min\",i,\" : \",b)\n",
    "#                       print(\"CHECK\",minarrival[k,i],\" =? \",b[depot]-b[i]+sum( (dist[u,v]-b[u]+b[v])*vals[u,v,k] for u in V[k] for v in V[k] if u!=v and dist[u,v]-b[u]+b[v]<0 ) )\n",
    "\n",
    "                        submodel.setAttr(\"ModelSense\",GRB.MAXIMIZE)\n",
    "                        submodel.optimize()\n",
    "                        if submodel.Status != GRB.OPTIMAL:\n",
    "                            print('min-cost flow; status = %d' % submodel.Status)\n",
    "                            submodel.write(\"error.lp\")\n",
    "\n",
    "                        maxarrival[k,i] = submodel.getAttr(\"ObjVal\")\n",
    "                        maxbeta[k,i] = b = { u : c[u].getAttr(\"Pi\") for u in H[k].nodes }\n",
    "#                       print(k,\"max\",i,\" : \",b)\n",
    "#                       print(\"CHECK\",maxarrival[k,i],\" =? \",b[depot]-b[i]+sum( (dist[u,v]-b[u]+b[v])*vals[u,v,k] for u in V[k] for v in V[k] if u!=v and dist[u,v]-b[u]+b[v]>0 ) )\n",
    "\n",
    "                        submodel.setAttr(\"RHS\", c[i], 0.0)\n",
    "\n",
    "            for i in customers: \n",
    "                if len(D[i])>1:\n",
    "                    for k in D[i]:\n",
    "                        for l in D[i]:\n",
    "                            if k!=l and minarrival[k,i] - maxarrival[l,i] > MaxAllowableDif + EPS:\n",
    "#                               print(\"FRACTIONAL SOLUTIONS: infeasible path at customer \",i,\" on \",k,\" and \",l, \"because\", maxarrival[k,i],\" >> \",minarrival[l,i])\n",
    "                                minb = minbeta[k,i]\n",
    "                                maxb = maxbeta[l,i]\n",
    "                                model.cbLazy( ( minb[depot] - minb[i] + quicksum( (dist[u,v]-minb[u]+minb[v])*x[u,v,k] for u in V[k] for v in V[k] if u!=v and dist[u,v]-minb[u]+minb[v]<0 )) \\\n",
    "                                            - ( maxb[depot] - maxb[i] + quicksum( (dist[u,v]-maxb[u]+maxb[v])*x[u,v,l] for u in V[l] for v in V[l] if u!=v and dist[u,v]-maxb[u]+maxb[v]>0 )) \\\n",
    "                                       <= MaxAllowableDif   )\n",
    "                                NumBenderFrac += 1\n",
    "                                corte = True\n",
    "\n",
    "                \n",
    "        if not corte:\n",
    "             print(\" Ahora va a ramificar si es fraccionaria \",vals)\n",
    "        for k in days : H[k].remove_edges_from(list(H[k].edges))\n",
    "    return corte\n",
    "\n",
    "model.setAttr(\"ModelSense\",GRB.MINIMIZE)\n",
    "model.optimize(cbSEC)\n",
    "\n",
    "if model.SolCount == 0:\n",
    "    print('No solution found, optimization status = %d' % model.Status)\n",
    "else:\n",
    "    print('Optimal cost %g' % model.objVal , \" in \",model.Runtime, \"seconds\")\n",
    "    print('Generated cuts: ',NumSecInt,NumPathInt,NumBenderInt,NumSecFrac,NumPathFrac,NumBenderFrac)\n",
    "    dibuja( model.getAttr('x', x) )\n",
    "    fichero = open('statistics.txt', 'a') \n",
    "    print(\"m=\",NumDays,\"n=\",NumCustomers,\"obj=\",model.objVal,\"time=\",model.RunTime,\"cuts:\",NumSecInt,NumPathInt,NumBenderInt,NumSecFrac,NumPathFrac,NumBenderFrac, file = fichero) \n",
    "    fichero.close()  \n"
   ]
  },
  {
   "cell_type": "markdown",
   "metadata": {
    "id": "ZK9e-BWOTGDt"
   },
   "source": [
    "# TSP con visitas inconsistentes y tiempos de espera"
   ]
  },
  {
   "cell_type": "code",
   "execution_count": null,
   "metadata": {
    "id": "rQU38-32TGDu"
   },
   "outputs": [],
   "source": [
    "# Consistent ATSP  with Idle Times (i.e. the vehicle can wait when arriving to a customer and before start serving that customer)\n",
    "\n",
    "import networkx as nx\n",
    "import random as rd\n",
    "import matplotlib.pyplot as plt\n",
    "import math\n",
    "import sys \n",
    "import tsplib95\n",
    "from gurobipy import *\n",
    "\n",
    "NumDays           =    3      # number of days\n",
    "NumCustomers      =   20      # number of customers in total\n",
    "CustomersPerDay   = 0.50      # number of customers in each day :  must be a number between 0 and 1 to reprensent a percentage\n",
    "MaxAllowableDif   =    0      # maximum allowable differential\n",
    "depot             =    0      # label of the depot in  0,1,2,.... \n",
    "days      = range(NumDays)       \n",
    "locations = range(NumCustomers+1)\n",
    "customers = [ i for i in locations if i!=depot ]\n",
    "rd.seed(12345)\n",
    "pos = [(rd.randint(0,1000),rd.randint(0,1000)) for i in locations]\n",
    "def distance(points, i, j):\n",
    "    dx = pos[i][0] - pos[j][0]\n",
    "    dy = pos[i][1] - pos[j][1]\n",
    "    return math.floor(math.sqrt(dx*dx + dy*dy))\n",
    "dist = { (i,j) : distance(pos,i,j) for i in locations for j in locations if i!=j }\n",
    "V = { k : [depot] for k in days }\n",
    "for k in days:\n",
    "    V[k].extend( rd.sample( customers , int(NumCustomers*CustomersPerDay) ) )\n",
    "\n",
    "\n",
    "#instance          = tsplib95.load_problem(\"/Users/JuanJose/jj/Macu/Consistent TSP/ATSPconsistent/gr24_p5_f90_lL.contsp\")\n",
    "#NumDays           = 3\n",
    "#NumCustomers      = instance.dimension - 1\n",
    "#depot             = 0\n",
    "#CustomersPerDay   = 0.50      # number of customers in each day :  must be a number between 0 and 1 to reprensent a percentage\n",
    "#MaxAllowableDif   = 600\n",
    "#days = range(NumDays)       \n",
    "#G    = instance.get_graph()\n",
    "#locations     = G.nodes()\n",
    "#customers     = [ i for i in locations if i!=depot ]\n",
    "#dist = { (i,j) : instance.wfunc(i,j) for i in locations for j in locations if i!=j }\n",
    "#pos  = instance.node_coords if instance.node_coords else nx.spring_layout(G)\n",
    "\n",
    "V = { k : [depot] for k in days }\n",
    "for k in days:\n",
    "    V[k].extend( rd.sample( customers , int(NumCustomers*CustomersPerDay) ) )\n",
    "\n",
    "D = { i : list()  for i in locations }\n",
    "for k in days:\n",
    "    for i in V[k]: D[i].append(k)\n",
    "\n",
    "G = nx.complete_graph(locations,nx.DiGraph())   # Graph for the TSP instance\n",
    "H = {}\n",
    "for k in days:\n",
    "    H[k] = nx.DiGraph()                         # Graph for separating cuts # nx.draw(Gx)\n",
    "    H[k].add_nodes_from(V[k])\n",
    "\n",
    "EPS = 0.000001\n",
    "NumSecInt = NumSecFrac = NumPathInt = NumPathFrac = 0\n",
    "\n",
    "node_color = []\n",
    "for i in G.nodes:\n",
    "    if   i==depot:            node_color.append('red')\n",
    "    elif len(D[i])==0:        node_color.append('blue')\n",
    "    elif len(D[i])==1:        node_color.append('green')\n",
    "    else:                     node_color.append('yellow')\n",
    "\n",
    "def dibuja(vals):   \n",
    "    llegadas = {}\n",
    "    for k in days:\n",
    "        selected = [ (i,j,dist[i,j]) for i in V[k] for j in V[k] if i!=j and vals[i,j,k]>EPS ]\n",
    "\n",
    "        J = nx.DiGraph()       #local digraph to compute the arrivals of a given integer solution\n",
    "        J.add_nodes_from(V[k])\n",
    "        J.add_weighted_edges_from(selected)\n",
    "\n",
    "        plt.subplot(NumDays, 1, k+1)\n",
    "        nx.draw_networkx_nodes(G, pos, node_color=node_color)\n",
    "        nx.draw_networkx_labels(G, pos)\n",
    "        nx.draw_networkx_edges(G, pos, edgelist=selected, width=2)\n",
    "    plt.show()\n",
    "\n",
    "    llegadas = model.getAttr('x', u)\n",
    "    MaxDif = 0\n",
    "    for i in customers: \n",
    "        if len(D[i])>1:\n",
    "            for k in D[i]: \n",
    "                for l in D[i]:\n",
    "                    if MaxDif < llegadas[i,k]-llegadas[i,l] :\n",
    "                       MaxDif = llegadas[i,k]-llegadas[i,l]\n",
    "    print(\"Llegadas:\",llegadas,\" Max dif = \",MaxDif)\n",
    "\n",
    "def ATSP():\n",
    "    modelo = Model()\n",
    "    x = tupledict()\n",
    "    for i,j in G.edges :\n",
    "         x[i,j] = modelo.addVar(obj=dist[i,j], vtype=GRB.BINARY, name='a[%d,%d]'%(i,j))\n",
    "    u = tupledict()\n",
    "    for i in customers:\n",
    "        u[i] = modelo.addVar(obj=0, vtype=GRB.CONTINUOUS, name='u[%i]'%i)\n",
    "    modelo.addConstrs(sum(x[i,j] for j in locations if j!=i) == 1 for i in locations)\n",
    "    modelo.addConstrs(sum(x[j,i] for j in locations if j!=i) == 1 for i in locations)\n",
    "    modelo.addConstrs( u[j] >= u[i] + x[i,j] - (NumCustomers-1)*(1-x[i,j]) + (NumCustomers-2)*x[j,i] for i in customers for j in customers if i!=j )\n",
    "    modelo.Params.OutputFlag = 0\n",
    "    modelo.optimize()\n",
    "    return modelo.objVal\n",
    "    \n",
    "MaxTSP = math.ceil(ATSP())\n",
    "\n",
    "model = Model()\n",
    "model.Params.OutputFlag = 1\n",
    "model.Params.lazyConstraints = 1\n",
    "#model.Params.timeLimit  = 120\n",
    "#model.Params.cutOff     = 5974\n",
    "\n",
    "x = tupledict()\n",
    "for k in days:\n",
    "    for i in V[k]:\n",
    "        for j in V[k]:\n",
    "            if i!=j:\n",
    "                x[i,j,k] = model.addVar(obj=dist[i,j], vtype=GRB.BINARY, name='x%d_%d_%d'%(i,j,k))\n",
    "u = tupledict()\n",
    "for k in days:\n",
    "    for i in V[k]:\n",
    "        if i!=depot:\n",
    "            u[i,k] = model.addVar(obj=0, vtype=GRB.CONTINUOUS, name='u%i_%i'%(i,k))\n",
    "\n",
    "model.addConstrs( x.sum(i,'*',k) == 1 for k in days for i in V[k] )\n",
    "model.addConstrs( x.sum('*',i,k) == 1 for k in days for i in V[k] )\n",
    "model.addConstrs( u[j,k] >= u[i,k] + dist[i,j]*x[i,j,k] - MaxTSP*(1-x[i,j,k]) for k in days for i in V[k] for j in V[k] if i!=depot!=j!=i )\n",
    "model.addConstrs( u[i,k] <= u[i,l] + MaxAllowableDif for i in customers for k in D[i] for l in D[i] if k!=l )\n",
    "\n",
    "def cbSEC(model, where):\n",
    "\n",
    "    global NumSecInt,NumPathInt,NumSecFrac,NumPathFrac\n",
    "    corte = False\n",
    "\n",
    "    if where == GRB.Callback.MIPSOL:\n",
    "        vals = model.cbGetSolution(x)     # verificar UB solutions  \n",
    "        for k in days :\n",
    "            selected = [ (i,j,dist[i,j]) for i in V[k] for j in V[k] if i!=j and vals[i,j,k]>EPS ]\n",
    "            H[k].add_weighted_edges_from(selected)\n",
    "\n",
    "            Components = list( nx.strongly_connected_components(H[k]) )\n",
    "\n",
    "            for S in Components:     \n",
    "                if len(S)>1 and len(S)<len(V[k])-1:\n",
    "#                    print(k,\" corte entero :\",S)\n",
    "                    model.cbLazy( quicksum( x[i,j,k] for i in S for j in S if j!=i) <= len(S)-1 )\n",
    "                    NumSecInt += 1\n",
    "                    corte = True        \n",
    "\n",
    "            H[k].remove_edges_from(list(H[k].edges))\n",
    "        return corte\n",
    "    \n",
    "    if where == GRB.Callback.MIPNODE:\n",
    "\n",
    "        status = model.cbGet(GRB.Callback.MIPNODE_STATUS)\n",
    "        if status != GRB.OPTIMAL:\n",
    "            return False\n",
    "\n",
    "        vals = model.cbGetNodeRel(x)      # verificar LB solutions\n",
    "        for k in days :\n",
    "            for i in V[k] :\n",
    "                for j in V[k] :\n",
    "                    if i!=j and vals[i,j,k]>EPS :\n",
    "                        H[k].add_edge( i , j , capacity=vals[i,j,k] )\n",
    "\n",
    "            free = { i : True for i in H[k].nodes }\n",
    "            free[depot] = False\n",
    "            for i in H[k].nodes : \n",
    "                if free[i] :\n",
    "                    cut_value, partition = nx.minimum_cut( H[k], depot, i )\n",
    "                    if cut_value < 1-EPS:\n",
    "                        non_S, S = partition\n",
    "                        if len(S)>1 and len(S)<len(V[k])-1:\n",
    "#                            print(k,\" corte frac :\",S)\n",
    "                            model.cbLazy( sum( x[i,j,k] for i in S for j in S if j!=i) <= len(S)-1 )                     \n",
    "                            NumSecFrac += 1\n",
    "                            for j in S: free[j] = False\n",
    "                            corte = True\n",
    "\n",
    "            H[k].remove_edges_from(list(H[k].edges))\n",
    "    return corte\n",
    "\n",
    "model.setAttr(\"ModelSense\",GRB.MINIMIZE)\n",
    "model.optimize(cbSEC)\n",
    "\n",
    "if model.SolCount == 0:\n",
    "    print('No solution found, optimization status = %d' % model.Status)\n",
    "else:\n",
    "    print('Optimal cost %g' % model.objVal , \" in \",model.Runtime, \"seconds\")\n",
    "    print('Generated cuts: ',NumSecInt,NumPathInt,NumSecFrac,NumPathFrac)\n",
    "    dibuja( model.getAttr('x', x) )\n",
    "    fichero = open('statistics.txt', 'a') \n",
    "    print(\"m=\",NumDays,\"n=\",NumCustomers,\"obj=\",model.objVal,\"time=\",model.RunTime,\"cuts:\",NumSecInt,NumPathInt,NumSecFrac,NumPathFrac, file = fichero) \n",
    "    fichero.close()  "
   ]
  },
  {
   "cell_type": "markdown",
   "metadata": {
    "id": "uYIVVbjoTGDv"
   },
   "source": [
    "# Travelling Purchaser Problem"
   ]
  },
  {
   "cell_type": "markdown",
   "metadata": {
    "id": "nFrKOBD8TGDv"
   },
   "source": [
    "\n",
    "**Descripción del problema**\n",
    "\n",
    "$\\quad$ El TPP (Travelling Purchaser Problem) es una generalización del TSP que consiste en buscar la ruta para un vehículo que sale de casa con una lista de productos a comprar, y debe elegir los mercados para minimizar el coste de transporte más el coste de la compra.\n",
    "\n",
    "En el TPP tenemos una serie de mercados $M$ y una serie de productos $K$. Cada producto esta disponible en unos mercados concretos y en cada mercado tiene un precio $p$ y una disponibilidad $q$ diferente. Teniendo un pedido concreto de productos, el problema intenta minimizar tanto las distancias a recorrer entre los mercados como el dinero necesario para conseguir todos los productos.\n",
    "\n",
    "**Modelo matemático**\n",
    "\n",
    "Suponemos que los mercados se identifican en el conjunto $M$ de tamaño $m$, en el que el mercado $0$ corresponde al depósito (hogar). Se representa por la letra $K$ a los productos existentes, y $d_k$ representa la cantidad del producto $k$ que se pide. Cada producto estará disponible en un conjunto $M_k$ de mercados a un precio $p_{ik}$ y con una disponibilidad $q_{ik}$. Por último, tenemos una matriz de costes $c_{ij}$ para representar las distancias entre mercados.\n",
    "\n",
    "En cuanto a las variables necesitamos cuatro. En primer lugar tenemos $x_{ij}$, una variable binaria que representa si vamos del mercado $i$ al mercado $j$. La variable $u_j$ implica el orden en el que aparece cada nodo partiendo del depósito. La variable $y_i$ es una variable binaria que representa si un mercado es visitado o no. Por último, la variable $z_{ik}$ contiene la cantidad de producto $k$ que se compra en el mercado $i$.\n",
    "\n",
    "\\begin{eqnarray}\n",
    "\\\\min \\sum _{(i,j) \\in M} c_{ij}\\cdot x_{ij} + \\sum _{k \\in K} \\sum _{i \\in M_k} p_{ik}\\cdot z_{ik}\n",
    "\\end{eqnarray}\n",
    "sujeto a:\n",
    "\\begin{eqnarray}\n",
    " \\sum_{i \\in M_k} \\; z_{ik} = d_k & \\qquad &\\forall \\; k \\in K \\\\ \n",
    " 0\\leq z_{ik} \\leq q_{ik} \\cdot y_i & &\\forall \\; k \\in K, \\forall \\; i \\in M_k \\\\ \n",
    " \\sum_{j \\in M:j\\neq i} \\; x_{ij} = y_i & &\\forall \\; i \\in M \\\\ \n",
    " \\sum_{j \\in M:j\\neq i} \\; x_{ji} = y_i & &\\forall \\; i \\in M \\\\ \n",
    " u_j \\geq u_i + x_{ij} - (m-2)\\cdot (1-x_{ij}) + (m-3) \\cdot x_{ji} & &\\forall \\; i,j \\in M, i \\neq j, j \\neq 0 \\\\ \n",
    " x_{ij} \\in  \\left\\lbrace0,1\\right\\rbrace & &\\forall \\; i,j \\in M \\\\ \n",
    " y_i \\in  \\left\\lbrace0,1\\right\\rbrace & &\\forall \\; i \\in M.\n",
    "\\end{eqnarray}\n",
    "La función objetivo es la suma de la distancia recorrida entre los mercados y el precio que se ha pagado por los productos. La primera restricción obliga a que la cantidad de productos comprados sea exactamente la que se pide. Además, en la segunda restricción impide que se puedan comprar más productos en un mercado de los que hay disponibles. Las tercera y cuarta condición implica que a los mercados visitados se puede llegar y se puede salir una única vez, mientras que el resto nunca serán visitados. Por último, usamos la variable $u_i$ para evitar que se creen *subtours* en vez de un único camino circular. En esta implementación hemos entendido que el \"comprador\" se encuentra en el mercado *0* y al final debe volver a él. Realmente lo podemos considerar como un depósito ya que no se vende nada en dicho mercado. Además, existe una peculiaridad del problema, y es que se puede visitar un mercado en el que no se va a comprar si proporciona un camino más corto ya que los costes se generan aleatoriamente y podrían no ser realistas."
   ]
  },
  {
   "cell_type": "code",
   "execution_count": null,
   "metadata": {
    "id": "pQACF-BDTGDv",
    "outputId": "b5cb22a7-cd55-415f-d02a-fc7d441eae74"
   },
   "outputs": [
    {
     "name": "stdout",
     "output_type": "stream",
     "text": [
      "Requirement already satisfied: ortools in c:\\anaconda3\\lib\\site-packages (7.4.7247)\n",
      "Requirement already satisfied: six>=1.10 in c:\\anaconda3\\lib\\site-packages (from ortools) (1.12.0)\n",
      "Requirement already satisfied: protobuf>=3.10.0 in c:\\anaconda3\\lib\\site-packages (from ortools) (3.10.0)\n",
      "Requirement already satisfied: setuptools in c:\\anaconda3\\lib\\site-packages (from protobuf>=3.10.0->ortools) (41.4.0)\n",
      "Requirement already satisfied: ortools in c:\\anaconda3\\lib\\site-packages (7.4.7247)\n",
      "Requirement already satisfied: six>=1.10 in c:\\anaconda3\\lib\\site-packages (from ortools) (1.12.0)\n",
      "Requirement already satisfied: protobuf>=3.10.0 in c:\\anaconda3\\lib\\site-packages (from ortools) (3.10.0)\n",
      "Requirement already satisfied: setuptools in c:\\anaconda3\\lib\\site-packages (from protobuf>=3.10.0->ortools) (41.4.0)\n",
      "Valor objetivo =  17345.0  en  109  milliseconds\n"
     ]
    }
   ],
   "source": [
    "!pip install ortools\n",
    "\n",
    "import random\n",
    "import numpy as np\n",
    "from ortools.linear_solver import pywraplp\n",
    "\n",
    "K = range(10)  # productos\n",
    "M = range(11)  # tiendas\n",
    "random.seed(4567)\n",
    "m = [random.sample(M[1:], random.randint(1, len(M)-1)) for i in K] # locales disponibles por productos\n",
    "d = [random.randint(1, 100)                            for i in K]  # cantidad de productos a comprar\n",
    "p = [[0 if i not in m[k] else random.randint(1, 100) for k in K] for i in M]  # precio\n",
    "q = [[0 if i not in m[k] else random.randint(1, 100) for k in K] for i in M]  # disponibilidad\n",
    "c = [[0 if i == j        else random.randint(1, 100) for j in M] for i in M]  # distancias\n",
    "\n",
    "solver = pywraplp.Solver('TPP', pywraplp.Solver.CBC_MIXED_INTEGER_PROGRAMMING)\n",
    "\n",
    "y = [solver.BoolVar('y[%i]' % (i)) for i in M]\n",
    "x = [[solver.BoolVar('x[%i][%i]' % (i, j)) for j in M] for i in M]\n",
    "z = [[solver.IntVar(0.0, solver.infinity(), 'z[%i][%i]' % (i, k)) for k in K] for i in M]\n",
    "u = [solver.NumVar(0.0, solver.infinity(), 'u[%i]' % (i)) for i in M]\n",
    "\n",
    "solver.Minimize(solver.Sum(c[i][j]*x[i][j] for i in M for j in M) +\n",
    "                solver.Sum(solver.Sum(p[i][k]*z[i][k] for i in m[k]) for k in K))\n",
    "\n",
    "[solver.Add(solver.Sum(x[h][i] for i in M if i != h) == y[h]) for h in M]\n",
    "[solver.Add(solver.Sum(x[i][h] for i in M if i != h) == y[h]) for h in M]\n",
    "[solver.Add(u[j] >= (u[i] + x[i][j] - (len(M) - 2) * (1 - x[i][j]) + (len(M) - 3) * x[j][i])) for i in M for j in M[1:] if j != i]\n",
    "[solver.Add(solver.Sum(z[i][k] for i in m[k]) == d[k]) for k in K]\n",
    "[solver.Add(z[i][k] <= q[i][k] * y[i]) for k in K for i in m[k]]\n",
    "\n",
    "solver.Solve()\n",
    "print('Valor objetivo = ', solver.Objective().Value(), ' en ', solver.WallTime(), \" milliseconds\")"
   ]
  },
  {
   "cell_type": "markdown",
   "metadata": {
    "id": "oAQAPQiFTGDx"
   },
   "source": [
    "# Rutas para flota de vehículos homogeneos"
   ]
  },
  {
   "cell_type": "code",
   "execution_count": null,
   "metadata": {
    "id": "HvPGM25UTGDx",
    "outputId": "5880facb-f1d1-4b8a-bb4b-bdba008b6c6f"
   },
   "outputs": [
    {
     "name": "stdout",
     "output_type": "stream",
     "text": [
      "Coste total  =  189.0 kilometros en  25.288  segundos\n"
     ]
    }
   ],
   "source": [
    "from ortools.linear_solver import pywraplp\n",
    "import random\n",
    "random.seed(1234)\n",
    "resolve = pywraplp.Solver('Problema de VRP', pywraplp.Solver.CBC_MIXED_INTEGER_PROGRAMMING)\n",
    "\n",
    "n = 15 \n",
    "todos=range(n)\n",
    "q={i:random.randint(1,n) for i in todos if i!=0}\n",
    "Q=2*n\n",
    "dist={(i,j):random.randint(1,100) for i in todos for j in todos if i!=j}\n",
    "\n",
    "x={}\n",
    "for i,j in dist.keys():\n",
    "    x[i,j] = resolve.BoolVar(name='x[%i,%i]' % (i,j))\n",
    "u={}\n",
    "for i in todos:\n",
    "    u[i] = resolve.NumVar(0.0,Q,name='u[%i]' % i)\n",
    "\n",
    "resolve.Minimize(resolve.Sum(dist[i,j]*x[i,j] for i,j in dist.keys()))\n",
    "\n",
    "[resolve.Add( resolve.Sum(x[i,j] for j in todos if i!=j) == 1 ) for i in todos if i!=0]\n",
    "[resolve.Add( resolve.Sum(x[i,j] for i in todos if i!=j) == 1 ) for j in todos if j!=0]\n",
    "[resolve.Add( u[i]+q[j]-(1-x[i,j])*Q <= u[j] ) for i,j in dist.keys() if i!=0 and j!= 0 and q[i]+q[j]<=Q ]\n",
    "[resolve.Add( u[i] >= q[i] ) for i in todos if i!=0]\n",
    "\n",
    "resolve.Solve()\n",
    "print('Coste total  = ', resolve.Objective().Value(),'kilometros en ', resolve.WallTime()/1000, \" segundos\")"
   ]
  },
  {
   "cell_type": "markdown",
   "metadata": {
    "id": "s5wePUeaTGDz"
   },
   "source": [
    "# Rutas para flota de vehículos heterogeneos"
   ]
  },
  {
   "cell_type": "code",
   "execution_count": null,
   "metadata": {
    "id": "YF9wSHtQTGDz"
   },
   "outputs": [],
   "source": [
    "#!pip install ortools\n",
    "from ortools.linear_solver import pywraplp\n",
    "import random as rand\n",
    "rand.seed(12345)\n",
    "\n",
    "n = 20 # numero de nodos\n",
    "m = 3 # numero de coches\n",
    "cars = range(m)\n",
    "nodos = range(n)\n",
    "clientes = range(1, n)\n",
    "demanda = { i : rand.randint(1, 100) for i in clientes } # demanda por cliente\n",
    "c = { (i, j) : rand.randint(1, 100) for i in nodos for j in nodos if i != j } # coste de las aristas\n",
    "aristas = c.keys()\n",
    "capacidad = sum( demanda[i] for i in clientes )/m\n",
    "\n",
    "solver = pywraplp.Solver('cars', pywraplp.Solver.CBC_MIXED_INTEGER_PROGRAMMING)\n",
    "\n",
    "# si la arista i, j pertenece al tour del coche k\n",
    "x = { (i, j, k) : solver.BoolVar('x[%i,%i,%i]' % (i, j, k) ) for i, j in aristas for k in cars } \n",
    "# flujo que pasa por i y j\n",
    "f = { (i, j) : solver.NumVar(0.0, solver.infinity(), 'f[%i,%i]' % (i, j) ) for i, j in aristas } \n",
    "\n",
    "solver.Minimize( solver.Sum( c[i, j] * x[i, j, k] for i, j in aristas for k in cars ) )\n",
    "\n",
    "[ solver.Add( solver.Sum( x[i, j, k] for i in nodos for k in cars if i != j ) == 1 ) for j in clientes ]\n",
    "[ solver.Add( solver.Sum( x[0, j, k] for j in clientes ) <= 1 ) for k in cars ]\n",
    "[ solver.Add( solver.Sum( x[i, j, k] for i in nodos if i != j ) == solver.Sum( x[j, i, k] for i in nodos if i != j ) ) for j in nodos for k in cars ]\n",
    "[ solver.Add( solver.Sum( f[j, i] - f[i, j] for j in nodos if j != i ) >= demanda[i] )  for i in clientes ] \n",
    "[ solver.Add( f[i, j] <= capacidad * solver.Sum( x[i, j, k] for k in cars ) ) for i, j in aristas ]\n",
    "#[ solver.Add( solver.Sum( demanda[j] * x[i, j, k] for i in nodos for j in clientes if i != j ) <= capacidad )  for k in cars ]\n",
    "\n",
    "solver.Solve()\n",
    "print('Coste total  = ', solver.Objective().Value(),' en ', solver.WallTime(), \" ms\")\n"
   ]
  }
 ],
 "metadata": {
  "colab": {
   "collapsed_sections": [],
   "name": "Copia de logistica.ipynb",
   "provenance": [],
   "toc_visible": true
  },
  "kernelspec": {
   "display_name": "Python 3",
   "language": "python",
   "name": "python3"
  },
  "language_info": {
   "codemirror_mode": {
    "name": "ipython",
    "version": 3
   },
   "file_extension": ".py",
   "mimetype": "text/x-python",
   "name": "python",
   "nbconvert_exporter": "python",
   "pygments_lexer": "ipython3",
   "version": "3.7.6"
  }
 },
 "nbformat": 4,
 "nbformat_minor": 1
}
