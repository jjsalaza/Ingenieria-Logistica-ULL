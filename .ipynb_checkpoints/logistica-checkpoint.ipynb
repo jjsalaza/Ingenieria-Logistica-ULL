{
 "cells": [
  {
   "cell_type": "markdown",
   "metadata": {
    "colab_type": "text",
    "id": "view-in-github"
   },
   "source": [
    "<a href=\"https://colab.research.google.com/github/jjsalaza/Ingenieria-Logistica-ULL/blob/master/logistica.ipynb\" target=\"_parent\"><img src=\"https://colab.research.google.com/assets/colab-badge.svg\" alt=\"Open In Colab\"/></a>"
   ]
  },
  {
   "cell_type": "markdown",
   "metadata": {
    "colab_type": "text",
    "id": "11DXYsXAo6Oe"
   },
   "source": [
    "# Técnicas Clásicas de Optimización, curso 2019-2020\n",
    "---\n",
    "\n"
   ]
  },
  {
   "cell_type": "markdown",
   "metadata": {
    "colab_type": "text",
    "id": "dUf6bpwqw-su"
   },
   "source": [
    "# Introducción"
   ]
  },
  {
   "cell_type": "markdown",
   "metadata": {
    "colab_type": "text",
    "id": "TdkhAmqKpWfu"
   },
   "source": [
    "Principalmente aprendemos a representar problemas reales mediante modelos matemáticos de programación lineal (continua o entera), es decir, del tipo $\\max\\{ c^Tx: Ax\\leq b, x\\in Z^n\\}$. Luego estos modelos matemáticos serán resueltos mediante herramientas informáticas especializadas, como [Cplex](https://www.ibm.com/analytics/cplex-optimizer), [Xpress](http://www.fico.com/es/products/fico-xpress-optimization), Gurobi, SCIP, GLKP, CBC, GLOP, etc. Aunque dedicamos algo a comprender las metodologías implementadas en estas herramientas, principalmente la asignatura insistirá en la modelización de problemas.\n"
   ]
  },
  {
   "cell_type": "markdown",
   "metadata": {
    "colab_type": "text",
    "id": "MFmhocZHtxbD"
   },
   "source": [
    "Un ejemplo de modelo matemático es:\n",
    "\\begin{eqnarray}\n",
    "\\max\\;\\; x+10y& & \\\\\n",
    "x+7y&\\leq& 17.5  \\\\\n",
    "x &\\leq& 3.5  \\\\\n",
    "x,y&\\in& Z\n",
    "\\end{eqnarray}"
   ]
  },
  {
   "cell_type": "markdown",
   "metadata": {
    "colab_type": "text",
    "id": "OfPsh4ymVjwq"
   },
   "source": [
    "A fín de no complicarnos con la instalación de licencias comerciales, usamos una librería de optimización de software libre que permite ser llamada desde Python y que ha sideo desarrollada en el proyecto [COIN-OR](https://www.coin-or.org/). Se llama CBC. Además en este mismo proyecto existe un lenguaje que amplía el Python y se llama [PuLP](https://www.coin-or.org/PuLP/). Usando este lenguaje el modelo anterior se resuelve mediante:\n"
   ]
  },
  {
   "cell_type": "code",
   "execution_count": 1,
   "metadata": {
    "colab": {},
    "colab_type": "code",
    "id": "YsdTrBeL046m",
    "outputId": "ef0f2202-bca6-4556-b1b8-2167b8ccde09"
   },
   "outputs": [
    {
     "name": "stdout",
     "output_type": "stream",
     "text": [
      "Requirement already satisfied: pulp in c:\\anaconda3\\lib\\site-packages (1.6.10)\n",
      "Requirement already satisfied: pyparsing>=2.0.1 in c:\\anaconda3\\lib\\site-packages (from pulp) (2.4.2)\n"
     ]
    }
   ],
   "source": [
    "!pip install pulp\n",
    "from pulp import *"
   ]
  },
  {
   "cell_type": "code",
   "execution_count": 2,
   "metadata": {
    "colab": {},
    "colab_type": "code",
    "id": "WAsnbunBNetP",
    "outputId": "b1d84509-06c0-47ad-9c62-9b9364c27c60"
   },
   "outputs": [],
   "source": [
    "prob = LpProblem(\"MiPrimerProblemaEntero\", LpMaximize)\n",
    "X = LpVariable(\"X\", 0, None,cat='Integer')\n",
    "Y = LpVariable(\"Y\", 0, None,cat='Integer')\n",
    "prob += X + 10 * Y\n",
    "prob += X + 7 * Y <= 17.5\n",
    "prob += X <= 3.5\n"
   ]
  },
  {
   "cell_type": "code",
   "execution_count": 3,
   "metadata": {
    "colab": {},
    "colab_type": "code",
    "id": "1IJAxlcv1PHM"
   },
   "outputs": [
    {
     "name": "stdout",
     "output_type": "stream",
     "text": [
      "Status =  Optimal\n",
      "Optimal objective value =  23.0\n",
      "  X =  3.0\n",
      "  Y =  2.0\n"
     ]
    }
   ],
   "source": [
    "prob.solve()\n",
    "\n",
    "print(\"Status = \", LpStatus[prob.status])\n",
    "print(\"Optimal objective value = \", value(prob.objective))\n",
    "print(\"  X = \", X.varValue)\n",
    "print(\"  Y = \", Y.varValue)\n",
    "# prob.writeLP(\"modelo.lp\")\n",
    "# print(prob)"
   ]
  },
  {
   "cell_type": "markdown",
   "metadata": {
    "colab_type": "text",
    "id": "OzLY8spa047D"
   },
   "source": [
    "Pero con el lenguaje PuLP podemos usar otras librerias de optimización.  Por ejemplo podemos usar GLPK o LPSOLVER que son otras librerías gratuitas de optimización, o Gurobi o Cplex o Xpress que son de pago:"
   ]
  },
  {
   "cell_type": "code",
   "execution_count": 4,
   "metadata": {
    "colab": {},
    "colab_type": "code",
    "id": "-d4FOi6K047G",
    "outputId": "21d29232-7b9b-4a4b-f31c-249b1102cd37"
   },
   "outputs": [
    {
     "name": "stdout",
     "output_type": "stream",
     "text": [
      "Academic license - for non-commercial use only\n",
      "Status =  Optimal\n",
      "Optimal objective value =  23.0\n",
      "  X =  3.0\n",
      "  Y =  2.0\n"
     ]
    }
   ],
   "source": [
    "from gurobipy import *\n",
    "\n",
    "prob.solve( GUROBI( TimeLimit=60 , msg=False ) )\n",
    "\n",
    "print(\"Status = \", LpStatus[prob.status])\n",
    "print(\"Optimal objective value = \", value(prob.objective))\n",
    "print(\"  X = \", X.varValue)\n",
    "print(\"  Y = \", Y.varValue)"
   ]
  },
  {
   "cell_type": "code",
   "execution_count": 5,
   "metadata": {
    "colab": {},
    "colab_type": "code",
    "id": "kTSxS8xe047S",
    "outputId": "c7550ce4-87ff-4b1f-ab32-b019d324cfd1"
   },
   "outputs": [
    {
     "name": "stdout",
     "output_type": "stream",
     "text": [
      "Requirement already satisfied: cplex in c:\\anaconda3\\lib\\site-packages (12.9.0.0)\n",
      "Status =  Optimal\n",
      "Optimal objective value =  23.0\n",
      "  X =  3.0\n",
      "  Y =  2.0\n"
     ]
    }
   ],
   "source": [
    "!pip install cplex\n",
    "from cplex import *\n",
    "\n",
    "prob.solve( CPLEX(msg=False) )\n",
    "\n",
    "print(\"Status = \", LpStatus[prob.status])\n",
    "print(\"Optimal objective value = \", value(prob.objective))\n",
    "print(\"  X = \", X.varValue)\n",
    "print(\"  Y = \", Y.varValue)"
   ]
  },
  {
   "cell_type": "code",
   "execution_count": 6,
   "metadata": {
    "colab": {},
    "colab_type": "code",
    "id": "MFQiURZX047c",
    "outputId": "54971ed3-7b94-4bac-8623-9aacc18c4735"
   },
   "outputs": [
    {
     "name": "stdout",
     "output_type": "stream",
     "text": [
      "Requirement already satisfied: xpress in c:\\anaconda3\\lib\\site-packages (8.7.2)\n",
      "Requirement already satisfied: numpy>=1.11 in c:\\anaconda3\\lib\\site-packages (from xpress) (1.16.5)\n",
      "Using the Community license in this session. If you have a full Xpress license,\n",
      "first set the XPRESS environment variable to the directory containing the license file,\n",
      "xpauth.xpr, and then restart Python. If you want to use the FICO Community license\n",
      "and no longer want to see this message, set the XPRESS environment variable to\n",
      " C:\\Anaconda3\\lib\\site-packages\\xpress/license\n",
      "Status =  Optimal\n",
      "Optimal objective value =  23.0\n",
      "  X =  3.0\n",
      "  Y =  2.0\n"
     ]
    }
   ],
   "source": [
    "!pip install xpress\n",
    "from xpress import *\n",
    "\n",
    "prob.solve( XPRESS(msg=True, keepFiles=True) )\n",
    "\n",
    "print(\"Status = \", LpStatus[prob.status])\n",
    "print(\"Optimal objective value = \", value(prob.objective))\n",
    "print(\"  X = \", X.varValue)\n",
    "print(\"  Y = \", Y.varValue)"
   ]
  },
  {
   "cell_type": "markdown",
   "metadata": {
    "colab_type": "text",
    "id": "44KbU8Rwh48t"
   },
   "source": [
    "En este sentido parece un lenguaje **ideal**, pero hay que tener en cuenta que algunas librerías ofrecen funciones no disponibles en otras librerias (por ejemplo, callback functions) con lo que igual tampoco PuLP es tan \"ideal\"."
   ]
  },
  {
   "cell_type": "markdown",
   "metadata": {
    "colab_type": "text",
    "id": "MIizVvLKNg1E"
   },
   "source": [
    "Otra alternativa es usar la nueva herramienta gratuita (¡por ahora!) de Google llamada [OR-tools](https://developers.google.com/optimization/). Ni PuLP ni OR-tools son librerías de optimización, sino extensiones del lenguaje Python para escribir cómodamente modelos matemáticos de Programación Lineal (Entera o Continua) que luego pueden ser resueltas con cualquiera de las librerias citadas (CBC, Cplex, Gurobi,...). Actúan como puente entre quien desea resolver un modelo y quien lo resuelve. Muy cómodo. Muy recomendable. \n",
    "\n",
    "Para usar la herramienta OR-tools de Google:"
   ]
  },
  {
   "cell_type": "code",
   "execution_count": 7,
   "metadata": {
    "colab": {},
    "colab_type": "code",
    "id": "QeXiQgwYjfHB",
    "outputId": "69c1ad07-0432-49f6-f4ef-3a53474eb0b1"
   },
   "outputs": [
    {
     "name": "stdout",
     "output_type": "stream",
     "text": [
      "Requirement already satisfied: ortools in c:\\anaconda3\\lib\\site-packages (7.4.7247)\n",
      "Requirement already satisfied: protobuf>=3.10.0 in c:\\anaconda3\\lib\\site-packages (from ortools) (3.10.0)\n",
      "Requirement already satisfied: six>=1.10 in c:\\anaconda3\\lib\\site-packages (from ortools) (1.12.0)\n",
      "Requirement already satisfied: setuptools in c:\\anaconda3\\lib\\site-packages (from protobuf>=3.10.0->ortools) (41.4.0)\n"
     ]
    }
   ],
   "source": [
    "!pip install ortools\n",
    "from ortools.linear_solver import pywraplp"
   ]
  },
  {
   "cell_type": "markdown",
   "metadata": {
    "colab_type": "text",
    "id": "fWXoW-e20472"
   },
   "source": [
    "Aqui hay 2 motores de optimización. Uno para programación lineal **continua** llamado GLOP_LINEAR_PROGRAMMING que está construido por Google, y otro para programación lineal **entera** llamado CBC_MIXED_INTEGER_PROGRAMMING que está prestado por Coin-OR. Existe la posibilidad de usar otros motores de optimización (terceros), pero para ello hay que instalarse el código fuente de Google OR-tools en tu ordenador local."
   ]
  },
  {
   "cell_type": "code",
   "execution_count": 8,
   "metadata": {
    "colab": {},
    "colab_type": "code",
    "id": "4t3pdCAiUIf5",
    "outputId": "aeeebaa9-1347-4dcd-d761-f2c754ec7217"
   },
   "outputs": [
    {
     "name": "stdout",
     "output_type": "stream",
     "text": [
      "Number of variables = 2\n",
      "Number of constraints = 2\n",
      "Optimal objective value = 23\n",
      "   x = 3\n",
      "   y = 2\n"
     ]
    }
   ],
   "source": [
    "solver = pywraplp.Solver('MiPrimerProblemaEntero', pywraplp.Solver.CBC_MIXED_INTEGER_PROGRAMMING)\n",
    "#solver = pywraplp.Solver('MiPrimerProblemaEntero', pywraplp.Solver.SCIP_MIXED_INTEGER_PROGRAMMING)\n",
    "#solver = pywraplp.Solver('MiPrimerProblemaEntero', pywraplp.Solver.GLPK_MIXED_INTEGER_PROGRAMMING)\n",
    "#solver = pywraplp.Solver('MiPrimerProblemaEntero', pywraplp.Solver.CPLEX_MIXED_INTEGER_PROGRAMMING)\n",
    "#solver = pywraplp.Solver('MiPrimerProblemaEntero', pywraplp.Solver.GUROBI_MIXED_INTEGER_PROGRAMMING)\n",
    "#solver = pywraplp.Solver('MiPrimerProblemaEntero', pywraplp.Solver.XPRESS_MIXED_INTEGER_PROGRAMMING)\n",
    "#solver = pywraplp.Solver('MiPrimerProblemaEntero', pywraplp.Solver.GLOP_LINEAR_PROGRAMMING)  # solo continua\n",
    "#solver = pywraplp.Solver('MiPrimerProblemaEntero', pywraplp.Solver.BOP_INTEGER_PROGRAMMING)  # solo 0-1\n",
    "\n",
    "x = solver.IntVar(0.0, solver.infinity(), 'x')\n",
    "y = solver.IntVar(0.0, solver.infinity(), 'y')\n",
    "\n",
    "solver.Maximize(x + 10 * y)\n",
    "solver.Add( x + 7 * y <= 17.5 )\n",
    "solver.Add( x <= 7.5 )  \n",
    "\n",
    "result_status = solver.Solve()\n",
    "assert result_status == pywraplp.Solver.OPTIMAL\n",
    "  \n",
    "print('Number of variables =', solver.NumVariables())\n",
    "print('Number of constraints =', solver.NumConstraints())\n",
    "print('Optimal objective value = %d' % solver.Objective().Value())\n",
    "  \n",
    "variable_list = [x, y]\n",
    "for variable in variable_list:\n",
    "    print('   %s = %d' % (variable.name(), variable.solution_value()))"
   ]
  },
  {
   "cell_type": "markdown",
   "metadata": {
    "colab_type": "text",
    "id": "exS1-MmaTrti"
   },
   "source": [
    "Tenemos en OR-tools dos modos de escribir los detalles del modelo: o bien coeficiente a coeficiente, o bien fila a fila. Arriba hemos usado el fila-a-file y a abajo verás el columna-a-columna."
   ]
  },
  {
   "cell_type": "code",
   "execution_count": 9,
   "metadata": {
    "colab": {},
    "colab_type": "code",
    "id": "jdl-TK8cVVbW",
    "outputId": "828b7ea9-8408-4864-edbe-89aae55602d9"
   },
   "outputs": [
    {
     "name": "stdout",
     "output_type": "stream",
     "text": [
      "Number of variables = 2\n",
      "Number of constraints = 2\n",
      "Optimal objective value = 23\n",
      "   x = 3\n",
      "   y = 2\n"
     ]
    }
   ],
   "source": [
    "solver = pywraplp.Solver('MiPrimerProblemaEntero', pywraplp.Solver.CBC_MIXED_INTEGER_PROGRAMMING)\n",
    "\n",
    "# x and y are integer non-negative variables.\n",
    "x = solver.IntVar(0.0, solver.infinity(), 'x')\n",
    "y = solver.IntVar(0.0, solver.infinity(), 'y')\n",
    "\n",
    "# x + 7 * y <= 17.5\n",
    "constraint1 = solver.Constraint(-solver.infinity(), 17.5)\n",
    "constraint1.SetCoefficient(x, 1)\n",
    "constraint1.SetCoefficient(y, 7)\n",
    "\n",
    "# x <= 3.5\n",
    "constraint2 = solver.Constraint(-solver.infinity(), 3.5)\n",
    "constraint2.SetCoefficient(x, 1)\n",
    "constraint2.SetCoefficient(y, 0)\n",
    "\n",
    "# Maximize x + 10 * y.\n",
    "objective = solver.Objective()\n",
    "objective.SetCoefficient(x, 1)\n",
    "objective.SetCoefficient(y, 10)\n",
    "objective.SetMaximization()\n",
    "\n",
    "\"\"\"Solve the problem and print the solution.\"\"\"\n",
    "result_status = solver.Solve()\n",
    "# The problem has an optimal solution.\n",
    "assert result_status == pywraplp.Solver.OPTIMAL\n",
    "  \n",
    "print('Number of variables =', solver.NumVariables())\n",
    "print('Number of constraints =', solver.NumConstraints())\n",
    "print('Optimal objective value = %d' % solver.Objective().Value())\n",
    "  \n",
    "# The value of each variable in the solution.\n",
    "variable_list = [x, y]\n",
    "for variable in variable_list:\n",
    "    print('   %s = %d' % (variable.name(), variable.solution_value()))"
   ]
  },
  {
   "cell_type": "markdown",
   "metadata": {
    "colab_type": "text",
    "id": "LmkB1X811j-B"
   },
   "source": [
    "Personalmente creo que el modo \"fila a fila\" es más claro. Pero pueden haber usuarios que prefieran el \"columna a columna\" (que fue el formato original de las primeras herramientas informáticas en Programación Matemática).\n",
    "\n",
    "El anterior ejemplo fue un modelo ejemplo muy pequeño, con tan sólo 2 variables y 2 restricciones. Es un ejemplo numérico diminuto, de nulo interés práctico. En la práctica se plantean problemas más complejos que necesitan ser representado mediante modelos con más variables y restricciones, y en consecuencia donde notación abreviada ayuda a entenderlos mejor y reducir la posibilidad de cometer errores al introducirlos en un ordenador. Veamos un ejemplo de problema mayor en la siguiente sección."
   ]
  },
  {
   "cell_type": "markdown",
   "metadata": {
    "colab_type": "text",
    "id": "bOVBvc59048H"
   },
   "source": [
    "Pero incluso los modelos de programación entera pequeños pueden ser muy difíciles. Aqui lo mostramos con uno con 3 variables:"
   ]
  },
  {
   "cell_type": "code",
   "execution_count": 10,
   "metadata": {
    "colab": {},
    "colab_type": "code",
    "id": "utgI4m4javL6",
    "outputId": "636bdc56-38b8-4d30-9764-c7a9078fe3d4"
   },
   "outputs": [
    {
     "name": "stdout",
     "output_type": "stream",
     "text": [
      " Finalizó sin optimo : status =  2\n",
      "Time =  51749  milliseconds\n",
      "Iterations =  1505106\n",
      "Nodes =  2254555\n"
     ]
    }
   ],
   "source": [
    "solver = pywraplp.Solver('ProblemaEnteroDificil',  pywraplp.Solver.CBC_MIXED_INTEGER_PROGRAMMING )\n",
    "\n",
    "x = solver.IntVar(0.0, solver.infinity(), 'x')\n",
    "y = solver.IntVar(0.0, solver.infinity(), 'y')\n",
    "z = solver.IntVar(0.0, solver.infinity(), 'z')\n",
    "\n",
    "solver.SetTimeLimit( 60 * 1000 )   # le ponemos un tiempo límite de 60 segundos para no calentar el ordenador\n",
    "\n",
    "solver.Minimize(x)\n",
    "solver.Add( 75001 * y + 75002 * z == 75000 + 75000 * x )\n",
    "result_status = solver.Solve()\n",
    "\n",
    "if result_status == pywraplp.Solver.OPTIMAL:\n",
    "  \n",
    "    print('Number of variables =', solver.NumVariables())\n",
    "    print('Number of constraints =', solver.NumConstraints())\n",
    "    print('Optimal objective value = %d' % solver.Objective().Value())\n",
    "  \n",
    "    variable_list = [x, y, z]\n",
    "    for variable in variable_list:\n",
    "         print('   %s = %d' % (variable.name(), variable.solution_value()))\n",
    "else:\n",
    "    print(' Finalizó sin optimo : status = ',result_status)\n",
    "    \n",
    "print(\"Time = \", solver.WallTime(), \" milliseconds\")\n",
    "print(\"Iterations = \", solver.Iterations())\n",
    "print(\"Nodes = \", solver.nodes())"
   ]
  },
  {
   "cell_type": "markdown",
   "metadata": {
    "colab_type": "text",
    "id": "MKk-Yz2r048M"
   },
   "source": [
    "Mismo problema con Gurobi, aunque no te funcionará si no tienes la licencia apropiada en el ordenador donde lo quieras resolver:"
   ]
  },
  {
   "cell_type": "code",
   "execution_count": 11,
   "metadata": {
    "colab": {},
    "colab_type": "code",
    "id": "NZGxNeWvad4a",
    "outputId": "482d1b9e-bfd3-4f63-b707-c0f835007677"
   },
   "outputs": [
    {
     "name": "stdout",
     "output_type": "stream",
     "text": [
      "Optimal  objective value = 37500\n",
      "  x = 37500\n",
      "  y = 0\n",
      "  z = 37500\n",
      "runtime is  0.0039882659912109375\n"
     ]
    }
   ],
   "source": [
    "from gurobipy import *\n",
    "\n",
    "modelo = Model(\"ProblemaEnteroDificil\")\n",
    "\n",
    "x = modelo.addVar(vtype=GRB.INTEGER, name=\"x\")\n",
    "y = modelo.addVar(vtype=GRB.INTEGER, name=\"y\")\n",
    "z = modelo.addVar(vtype=GRB.INTEGER, name=\"z\")\n",
    "\n",
    "modelo.setObjective(x, GRB.MINIMIZE)\n",
    "modelo.addConstr( 75001 * y + 75002 * z == 75000 + 75000 * x , \"c0\")\n",
    "modelo.optimize()\n",
    "\n",
    "print('Optimal  objective value = %g' % modelo.objVal)\n",
    "for variable in modelo.getVars():\n",
    "    print('  %s = %g' % (variable.varName, variable.x))\n",
    "print('runtime is ',modelo.Runtime)"
   ]
  },
  {
   "cell_type": "markdown",
   "metadata": {
    "colab_type": "text",
    "id": "9DChzUGt048Q"
   },
   "source": [
    "Si comparas los tiempos de cálculo de esas dos herramientas entenderás mejor la diferencia entre \"gratis\" (CBC) y \"de pago\" (Gurobi)!!!\n",
    "\n",
    "Comencemos ahora con problemas más serios, de más utilidad."
   ]
  },
  {
   "cell_type": "markdown",
   "metadata": {
    "colab_type": "text",
    "id": "8rbIq5skxSIX"
   },
   "source": [
    "# Problemas de Asignación"
   ]
  },
  {
   "cell_type": "markdown",
   "metadata": {
    "colab_type": "text",
    "id": "EPckcxHY2xUf"
   },
   "source": [
    "Imaginemos tener 6 trabajadores y 4 tareas, y conocer el costo de $c_{ij}$ de que el trabajador $i$ esté asignado a la tarea $j$. Se busca asignar un trabajador a cada tarea, y que ningún trabajador esté asignado a más de una máquina, de manera que el coste total sea lo menor posible.\n"
   ]
  },
  {
   "cell_type": "code",
   "execution_count": 1,
   "metadata": {
    "colab": {},
    "colab_type": "code",
    "id": "xtr_eIrrkrII"
   },
   "outputs": [],
   "source": [
    "cost  =  [[ 90,  76,  75,  70],\n",
    "          [ 35,  85,  55,  65],\n",
    "          [125,  95,  90, 105],\n",
    "          [ 45, 110,  95, 115],\n",
    "          [ 60, 105,  80,  75],\n",
    "          [ 45,  65, 110,  95]]\n",
    "workers = range( len(cost) )\n",
    "tasks   = range( len(cost[1]) )\n",
    "EPS     = 0.0001"
   ]
  },
  {
   "cell_type": "code",
   "execution_count": 2,
   "metadata": {
    "colab": {},
    "colab_type": "code",
    "id": "cQ8-xexGJKfc"
   },
   "outputs": [
    {
     "name": "stdout",
     "output_type": "stream",
     "text": [
      "Requirement already satisfied: ortools in c:\\anaconda3\\lib\\site-packages (7.4.7247)\n",
      "Requirement already satisfied: six>=1.10 in c:\\anaconda3\\lib\\site-packages (from ortools) (1.12.0)\n",
      "Requirement already satisfied: protobuf>=3.10.0 in c:\\anaconda3\\lib\\site-packages (from ortools) (3.10.0)\n",
      "Requirement already satisfied: setuptools in c:\\anaconda3\\lib\\site-packages (from protobuf>=3.10.0->ortools) (41.4.0)\n",
      "Costo total =  235.0\n",
      "\n",
      "Trabajador 0 asignado a la tarea 3.  Costo = 70\n",
      "Trabajador 1 asignado a la tarea 2.  Costo = 55\n",
      "Trabajador 3 asignado a la tarea 0.  Costo = 45\n",
      "Trabajador 5 asignado a la tarea 1.  Costo = 65\n",
      "\n",
      "Time =  0.006 seconds\n"
     ]
    }
   ],
   "source": [
    "!pip install ortools\n",
    "from ortools.linear_solver import pywraplp\n",
    "\n",
    "solver = pywraplp.Solver('ProblemaAsignacion2dimensional', pywraplp.Solver.CBC_MIXED_INTEGER_PROGRAMMING)\n",
    "\n",
    "x = {}\n",
    "for i in workers:\n",
    "    for j in tasks:\n",
    "        x[i,j] = solver.BoolVar('x[%i,%i]' % (i,j) )\n",
    "\n",
    "solver.Minimize(solver.Sum(cost[i][j] * x[i,j] for i in workers for j in tasks))\n",
    "\n",
    "for i in workers:\n",
    "    solver.Add(solver.Sum(x[i,j] for j in tasks) <= 1)\n",
    "\n",
    "for j in tasks:\n",
    "    solver.Add(solver.Sum(x[i,j] for i in workers) == 1)\n",
    "\n",
    "solver.Solve()\n",
    "\n",
    "print('Costo total = ', solver.Objective().Value())\n",
    "print()\n",
    "for i in workers:\n",
    "    for j in tasks:\n",
    "        if x[i, j].solution_value() > EPS :\n",
    "            print('Trabajador %d asignado a la tarea %d.  Costo = %d' % (i,j,cost[i][j]))\n",
    "print()\n",
    "print(\"Time = \", solver.WallTime()/1000, \"seconds\")"
   ]
  },
  {
   "cell_type": "markdown",
   "metadata": {
    "colab_type": "text",
    "id": "VUCKuDfB5VNf"
   },
   "source": [
    "Si los trabajadores estuviesen en dos equipos (por ejemplo, pares e impares) la solución óptima obtenida usa más trabajadores de un equipo que del otro. Podría tener sentido que el problema real también desee una solución donde se elijan exactamente 2 trabajadores de cada equipo. Para ello hay que introducir nuevas restricciones en el modelo matemático:"
   ]
  },
  {
   "cell_type": "code",
   "execution_count": 3,
   "metadata": {
    "colab": {},
    "colab_type": "code",
    "id": "LJLBepm44aAX"
   },
   "outputs": [
    {
     "name": "stdout",
     "output_type": "stream",
     "text": [
      "Costo total =  250.0\n",
      "Trabajador 0 asignado a la tarea 2.  Costo = 75\n",
      "Trabajador 1 asignado a la tarea 0.  Costo = 35\n",
      "Trabajador 4 asignado a la tarea 3.  Costo = 75\n",
      "Trabajador 5 asignado a la tarea 1.  Costo = 65\n"
     ]
    }
   ],
   "source": [
    "team1 = [0, 2, 4]\n",
    "team2 = [1, 3, 5]\n",
    "\n",
    "solver.Add(solver.Sum(x[i, j] for i in team1 for j in tasks) <= 2)\n",
    "solver.Add(solver.Sum(x[i, j] for i in team2 for j in tasks) <= 2)\n",
    "\n",
    "solver.Solve()\n",
    "\n",
    "print('Costo total = ', solver.Objective().Value())\n",
    "for i in workers:\n",
    "    for j in tasks:\n",
    "        if x[i, j].solution_value() > 0:\n",
    "            print('Trabajador %d asignado a la tarea %d.  Costo = %d' % (i,j,cost[i][j]))"
   ]
  },
  {
   "cell_type": "markdown",
   "metadata": {
    "colab_type": "text",
    "id": "nFnQmZKr8H1l"
   },
   "source": [
    "Como era de esperar, la nueva solución óptima cuesta más que la anterior porque debe cumplir además las nuevas desigualdades."
   ]
  },
  {
   "cell_type": "markdown",
   "metadata": {
    "colab_type": "text",
    "id": "caeNLQwBWjey"
   },
   "source": [
    "Terminemos esta sección con un problema de asignación más complejo, conocido como **problema de asignación 3-dimensional**. Pensemos ahora que tenemos 5 profesores, 5 asignaturas y 5 aulas, y queremos asignar un profesor a cada asignatura en un aula, de modo que cada profesor da 1 asignatura en 1 aula, cada asignatura la da 1 profesor en 1 aula, y cada aula imparte 1 asignatura por 1 profesor. Todo queremos que se realice a costo total mínimo. Concretamente se llama problema de asignación 3-dimensional **axial** porque como veremos su modelo matemático se basa en restricciones que tienen 1 índice libre, en contraposición a otro problema que se llama de asignación 3-dimensional **planar** donde su modelo se basa en restricciones que tienen 2 indices libres. Vemos primero el modelo para el problema axial planteado, es decir, asignar profesores, asignaturas y aulas:"
   ]
  },
  {
   "cell_type": "code",
   "execution_count": 4,
   "metadata": {
    "colab": {},
    "colab_type": "code",
    "id": "02U2AuGT048g"
   },
   "outputs": [],
   "source": [
    "import random  \n",
    "dimension = 10\n",
    "opciones  = range(dimension)\n",
    "random.seed(12345)\n",
    "cost      = [[[random.randint(1,100) for i in opciones] for j in opciones] for k in opciones]\n",
    "EPS       = 0.001"
   ]
  },
  {
   "cell_type": "code",
   "execution_count": 5,
   "metadata": {
    "colab": {},
    "colab_type": "code",
    "id": "WxexrgSTX2q6",
    "outputId": "891814f4-f597-4d52-af7a-6369878e610b"
   },
   "outputs": [
    {
     "name": "stdout",
     "output_type": "stream",
     "text": [
      "Costo total =  29.0\n",
      "\n",
      "Prof 0 con asignatura 9 en aula 4.  Costo = 2\n",
      "Prof 1 con asignatura 4 en aula 6.  Costo = 1\n",
      "Prof 2 con asignatura 8 en aula 2.  Costo = 6\n",
      "Prof 3 con asignatura 5 en aula 1.  Costo = 7\n",
      "Prof 4 con asignatura 6 en aula 9.  Costo = 1\n",
      "Prof 5 con asignatura 3 en aula 0.  Costo = 1\n",
      "Prof 6 con asignatura 0 en aula 8.  Costo = 1\n",
      "Prof 7 con asignatura 7 en aula 7.  Costo = 1\n",
      "Prof 8 con asignatura 2 en aula 5.  Costo = 2\n",
      "Prof 9 con asignatura 1 en aula 3.  Costo = 7\n",
      "\n",
      "Time =  214  milliseconds\n"
     ]
    }
   ],
   "source": [
    "solver = pywraplp.Solver('3APaxial', pywraplp.Solver.CBC_MIXED_INTEGER_PROGRAMMING)\n",
    "x = {}\n",
    "for i in opciones:\n",
    "    for j in opciones:\n",
    "        for k in opciones:\n",
    "            x[i,j,k] = solver.BoolVar('x[%i,%i,%i]' % (i,j,k))\n",
    "\n",
    "# Objective\n",
    "solver.Minimize( solver.Sum(cost[i][j][k] * x[i,j,k] for i in opciones for j in opciones for k in opciones))\n",
    "\n",
    "# Constraints\n",
    "\n",
    "[ solver.Add(solver.Sum(x[i,j,k] for j in opciones for k in opciones) == 1) for i in opciones ]\n",
    "[ solver.Add(solver.Sum(x[i,j,k] for i in opciones for k in opciones) == 1) for j in opciones ]\n",
    "[ solver.Add(solver.Sum(x[i,j,k] for i in opciones for j in opciones) == 1) for k in opciones ]\n",
    "    \n",
    "# resolvemos:  \n",
    "sol = solver.Solve()\n",
    "\n",
    "print('Costo total = ', solver.Objective().Value())\n",
    "print()\n",
    "for i in opciones:\n",
    "    for j in opciones:\n",
    "        for k in opciones:\n",
    "            if x[i,j,k].solution_value() > EPS :\n",
    "                print('Prof %d con asignatura %d en aula %d.  Costo = %d' % (i,j,k,cost[i][j][k]))\n",
    "print()\n",
    "print(\"Time = \", solver.WallTime(), \" milliseconds\")"
   ]
  },
  {
   "cell_type": "markdown",
   "metadata": {
    "colab_type": "text",
    "id": "evhjAqqida0W"
   },
   "source": [
    "El modelo del problema de asignación 3-dimensional **planar** es el siguiente. Nótese que **no** es un modelo alternativo para el problema de asignación de profesores, asignatura y aulas. Es el modelo de otro problema diferente. Por eso la solución óptima del modelo anterior y del modelo siguiente no coinciden, ni tienen relación alguna. Si tienes curiosidad por conocer el problema asociado a este otro modelo, te sugiero que estudies el concepto de [Cuadrado Latino](https://es.wikipedia.org/wiki/Cuadrado_latino)."
   ]
  },
  {
   "cell_type": "code",
   "execution_count": 6,
   "metadata": {
    "colab": {},
    "colab_type": "code",
    "id": "g8_VJgId-5D0",
    "outputId": "2be5ec06-5439-4ac8-99d3-1f0aecebebd1"
   },
   "outputs": [
    {
     "name": "stdout",
     "output_type": "stream",
     "text": [
      "Costo total =  1813.0\n",
      "\n",
      "Indices: 0  0  4.  Costo = 48\n",
      "Indices: 0  1  2.  Costo = 56\n",
      "Indices: 0  2  3.  Costo = 12\n",
      "Indices: 0  3  7.  Costo = 4\n",
      "Indices: 0  4  0.  Costo = 4\n",
      "Indices: 0  5  6.  Costo = 14\n",
      "Indices: 0  6  8.  Costo = 30\n",
      "Indices: 0  7  1.  Costo = 28\n",
      "Indices: 0  8  5.  Costo = 2\n",
      "Indices: 0  9  9.  Costo = 11\n",
      "Indices: 1  0  2.  Costo = 2\n",
      "Indices: 1  1  4.  Costo = 2\n",
      "Indices: 1  2  7.  Costo = 16\n",
      "Indices: 1  3  0.  Costo = 11\n",
      "Indices: 1  4  6.  Costo = 1\n",
      "Indices: 1  5  1.  Costo = 13\n",
      "Indices: 1  6  3.  Costo = 4\n",
      "Indices: 1  7  9.  Costo = 16\n",
      "Indices: 1  8  8.  Costo = 26\n",
      "Indices: 1  9  5.  Costo = 38\n",
      "Indices: 2  0  3.  Costo = 34\n",
      "Indices: 2  1  9.  Costo = 5\n",
      "Indices: 2  2  0.  Costo = 36\n",
      "Indices: 2  3  4.  Costo = 7\n",
      "Indices: 2  4  1.  Costo = 1\n",
      "Indices: 2  5  5.  Costo = 39\n",
      "Indices: 2  6  7.  Costo = 11\n",
      "Indices: 2  7  6.  Costo = 15\n",
      "Indices: 2  8  2.  Costo = 6\n",
      "Indices: 2  9  8.  Costo = 13\n",
      "Indices: 3  0  6.  Costo = 2\n",
      "Indices: 3  1  5.  Costo = 21\n",
      "Indices: 3  2  9.  Costo = 3\n",
      "Indices: 3  3  3.  Costo = 6\n",
      "Indices: 3  4  7.  Costo = 13\n",
      "Indices: 3  5  0.  Costo = 5\n",
      "Indices: 3  6  2.  Costo = 29\n",
      "Indices: 3  7  8.  Costo = 28\n",
      "Indices: 3  8  4.  Costo = 2\n",
      "Indices: 3  9  1.  Costo = 16\n",
      "Indices: 4  0  7.  Costo = 32\n",
      "Indices: 4  1  1.  Costo = 14\n",
      "Indices: 4  2  2.  Costo = 11\n",
      "Indices: 4  3  8.  Costo = 34\n",
      "Indices: 4  4  9.  Costo = 4\n",
      "Indices: 4  5  4.  Costo = 26\n",
      "Indices: 4  6  5.  Costo = 12\n",
      "Indices: 4  7  0.  Costo = 3\n",
      "Indices: 4  8  3.  Costo = 4\n",
      "Indices: 4  9  6.  Costo = 72\n",
      "Indices: 5  0  9.  Costo = 7\n",
      "Indices: 5  1  6.  Costo = 41\n",
      "Indices: 5  2  1.  Costo = 12\n",
      "Indices: 5  3  5.  Costo = 2\n",
      "Indices: 5  4  2.  Costo = 21\n",
      "Indices: 5  5  8.  Costo = 51\n",
      "Indices: 5  6  0.  Costo = 18\n",
      "Indices: 5  7  3.  Costo = 2\n",
      "Indices: 5  8  7.  Costo = 30\n",
      "Indices: 5  9  4.  Costo = 6\n",
      "Indices: 6  0  5.  Costo = 26\n",
      "Indices: 6  1  3.  Costo = 32\n",
      "Indices: 6  2  6.  Costo = 16\n",
      "Indices: 6  3  9.  Costo = 8\n",
      "Indices: 6  4  8.  Costo = 33\n",
      "Indices: 6  5  7.  Costo = 6\n",
      "Indices: 6  6  1.  Costo = 19\n",
      "Indices: 6  7  4.  Costo = 14\n",
      "Indices: 6  8  0.  Costo = 3\n",
      "Indices: 6  9  2.  Costo = 10\n",
      "Indices: 7  0  1.  Costo = 17\n",
      "Indices: 7  1  0.  Costo = 20\n",
      "Indices: 7  2  8.  Costo = 13\n",
      "Indices: 7  3  6.  Costo = 10\n",
      "Indices: 7  4  5.  Costo = 6\n",
      "Indices: 7  5  2.  Costo = 17\n",
      "Indices: 7  6  4.  Costo = 16\n",
      "Indices: 7  7  7.  Costo = 1\n",
      "Indices: 7  8  9.  Costo = 29\n",
      "Indices: 7  9  3.  Costo = 23\n",
      "Indices: 8  0  8.  Costo = 17\n",
      "Indices: 8  1  7.  Costo = 62\n",
      "Indices: 8  2  4.  Costo = 4\n",
      "Indices: 8  3  2.  Costo = 10\n",
      "Indices: 8  4  3.  Costo = 49\n",
      "Indices: 8  5  9.  Costo = 48\n",
      "Indices: 8  6  6.  Costo = 4\n",
      "Indices: 8  7  5.  Costo = 31\n",
      "Indices: 8  8  1.  Costo = 16\n",
      "Indices: 8  9  0.  Costo = 2\n",
      "Indices: 9  0  0.  Costo = 35\n",
      "Indices: 9  1  8.  Costo = 14\n",
      "Indices: 9  2  5.  Costo = 11\n",
      "Indices: 9  3  1.  Costo = 4\n",
      "Indices: 9  4  4.  Costo = 11\n",
      "Indices: 9  5  3.  Costo = 12\n",
      "Indices: 9  6  9.  Costo = 14\n",
      "Indices: 9  7  2.  Costo = 59\n",
      "Indices: 9  8  6.  Costo = 56\n",
      "Indices: 9  9  7.  Costo = 3\n",
      "\n",
      "Time =  3.797  seconds\n"
     ]
    }
   ],
   "source": [
    "solver = pywraplp.Solver('3APplanar', pywraplp.Solver.CBC_MIXED_INTEGER_PROGRAMMING)\n",
    "x = {}\n",
    "for i in opciones:\n",
    "    for j in opciones:\n",
    "        for k in opciones:\n",
    "            x[i,j,k] = solver.BoolVar('x[%i,%i,%i]' % (i,j,k))\n",
    "\n",
    "solver.Minimize( solver.Sum(cost[i][j][k] * x[i,j,k] for i in opciones for j in opciones for k in opciones) )\n",
    "\n",
    "[ solver.Add(solver.Sum(x[i,j,k] for k in opciones) == 1) for i in opciones for j in opciones ]\n",
    "[ solver.Add(solver.Sum(x[i,j,k] for j in opciones) == 1) for i in opciones for k in opciones ]\n",
    "[ solver.Add(solver.Sum(x[i,j,k] for i in opciones) == 1) for j in opciones for k in opciones ]\n",
    "    \n",
    "solver.Solve()\n",
    "\n",
    "print('Costo total = ', solver.Objective().Value())\n",
    "print()\n",
    "for i in opciones:\n",
    "    for j in opciones:\n",
    "        for k in opciones:\n",
    "            if x[i,j,k].solution_value() > EPS :\n",
    "                print('Indices: %d  %d  %d.  Costo = %d' % (i,j,k,cost[i][j][k]))\n",
    "print()\n",
    "print(\"Time = \", solver.WallTime()/1000, \" seconds\")"
   ]
  },
  {
   "cell_type": "markdown",
   "metadata": {
    "colab_type": "text",
    "id": "pnZerI9p048w"
   },
   "source": [
    "Hasta ahora hemos estado usando el software gratuito CBC a través de la herramienta OR-tools de Google. Para resolverlo con Gurobi (recuerda que necesitas licencia sobre el ordenador en el que lo quieres resolver) la sintaxis es:"
   ]
  },
  {
   "cell_type": "code",
   "execution_count": 7,
   "metadata": {
    "colab": {},
    "colab_type": "code",
    "id": "g4yOlHDl048y"
   },
   "outputs": [
    {
     "name": "stdout",
     "output_type": "stream",
     "text": [
      "Academic license - for non-commercial use only\n",
      "Optimize a model with 30 rows, 1000 columns and 3000 nonzeros\n",
      "Variable types: 0 continuous, 1000 integer (1000 binary)\n",
      "Coefficient statistics:\n",
      "  Matrix range     [1e+00, 1e+00]\n",
      "  Objective range  [1e+00, 1e+02]\n",
      "  Bounds range     [1e+00, 1e+00]\n",
      "  RHS range        [1e+00, 1e+00]\n",
      "Found heuristic solution: objective 445.0000000\n",
      "Presolve time: 0.01s\n",
      "Presolved: 30 rows, 1000 columns, 3000 nonzeros\n",
      "Variable types: 0 continuous, 1000 integer (1000 binary)\n",
      "\n",
      "Root relaxation: objective 2.120000e+01, 49 iterations, 0.00 seconds\n",
      "\n",
      "    Nodes    |    Current Node    |     Objective Bounds      |     Work\n",
      " Expl Unexpl |  Obj  Depth IntInf | Incumbent    BestBd   Gap | It/Node Time\n",
      "\n",
      "     0     0   21.20000    0   22  445.00000   21.20000  95.2%     -    0s\n",
      "H    0     0                      41.0000000   21.20000  48.3%     -    0s\n",
      "     0     0   23.14286    0   28   41.00000   23.14286  43.6%     -    0s\n",
      "     0     0   23.14286    0   22   41.00000   23.14286  43.6%     -    0s\n",
      "     0     0   23.14286    0   30   41.00000   23.14286  43.6%     -    0s\n",
      "     0     0   23.28000    0   29   41.00000   23.28000  43.2%     -    0s\n",
      "H    0     0                      36.0000000   23.28000  35.3%     -    0s\n",
      "     0     0   23.39062    0   33   36.00000   23.39062  35.0%     -    0s\n",
      "     0     0   23.63158    0   30   36.00000   23.63158  34.4%     -    0s\n",
      "     0     0   23.66667    0   28   36.00000   23.66667  34.3%     -    0s\n",
      "     0     0   23.70000    0   30   36.00000   23.70000  34.2%     -    0s\n",
      "     0     0   23.70000    0   32   36.00000   23.70000  34.2%     -    0s\n",
      "     0     0   24.00000    0   28   36.00000   24.00000  33.3%     -    0s\n",
      "     0     0   24.00000    0   22   36.00000   24.00000  33.3%     -    0s\n",
      "     0     0   24.00000    0   30   36.00000   24.00000  33.3%     -    0s\n",
      "H    0     0                      35.0000000   24.00000  31.4%     -    0s\n",
      "     0     0   24.00000    0   28   35.00000   24.00000  31.4%     -    0s\n",
      "     0     0   24.00000    0   32   35.00000   24.00000  31.4%     -    0s\n",
      "     0     0   24.00000    0   31   35.00000   24.00000  31.4%     -    0s\n",
      "     0     0   24.00000    0   28   35.00000   24.00000  31.4%     -    0s\n",
      "     0     0   24.22222    0   33   35.00000   24.22222  30.8%     -    0s\n",
      "     0     0   24.25000    0   27   35.00000   24.25000  30.7%     -    0s\n",
      "     0     0   24.30435    0   37   35.00000   24.30435  30.6%     -    0s\n",
      "     0     0   24.31250    0   37   35.00000   24.31250  30.5%     -    0s\n",
      "     0     0   24.33333    0   36   35.00000   24.33333  30.5%     -    0s\n",
      "     0     0   24.33333    0   37   35.00000   24.33333  30.5%     -    0s\n",
      "     0     0   24.33728    0   39   35.00000   24.33728  30.5%     -    0s\n",
      "     0     0   24.34146    0   43   35.00000   24.34146  30.5%     -    0s\n",
      "     0     0   24.34146    0   43   35.00000   24.34146  30.5%     -    0s\n",
      "     0     2   24.34146    0   43   35.00000   24.34146  30.5%     -    0s\n",
      "H    3     5                      29.0000000   25.70909  11.3%  10.3    0s\n",
      "\n",
      "Cutting planes:\n",
      "  Clique: 7\n",
      "  Mod-K: 8\n",
      "\n",
      "Explored 13 nodes (409 simplex iterations) in 0.16 seconds\n",
      "Thread count was 4 (of 4 available processors)\n",
      "\n",
      "Solution count 6: 29 35 36 ... 445\n",
      "\n",
      "Optimal solution found (tolerance 1.00e-04)\n",
      "Best objective 2.900000000000e+01, best bound 2.900000000000e+01, gap 0.0000%\n",
      "Costo total = 29\n",
      "\n",
      "Indices: 0  6  7.  Costo = 6\n",
      "Indices: 1  4  6.  Costo = 1\n",
      "Indices: 2  7  4.  Costo = 2\n",
      "Indices: 3  2  2.  Costo = 4\n",
      "Indices: 4  8  3.  Costo = 4\n",
      "Indices: 5  5  5.  Costo = 4\n",
      "Indices: 6  0  8.  Costo = 1\n",
      "Indices: 7  1  9.  Costo = 1\n",
      "Indices: 8  9  0.  Costo = 2\n",
      "Indices: 9  3  1.  Costo = 4\n",
      "\n",
      "Time =  0.16456031799316406  seconds\n"
     ]
    }
   ],
   "source": [
    "from gurobipy import *\n",
    "\n",
    "modelo = Model(\"AP3axial\")\n",
    "x = {}\n",
    "for i in opciones:\n",
    "    for j in opciones:\n",
    "        for k in opciones:\n",
    "            x[i,j,k] = modelo.addVar(vtype=GRB.BINARY, name=\"x[%i,%i,%i]\" % (i,j,k))\n",
    "\n",
    "modelo.modelSense = GRB.MINIMIZE\n",
    "modelo.setObjective( quicksum(cost[i][j][k] * x[i,j,k] for i in opciones for j in opciones for k in opciones) )\n",
    "    \n",
    "[ modelo.addConstr( quicksum(x[i,j,k] for j in opciones for k in opciones) == 1 ) for i in opciones ]\n",
    "[ modelo.addConstr( quicksum(x[i,j,k] for i in opciones for k in opciones) == 1 ) for j in opciones ]\n",
    "[ modelo.addConstr( quicksum(x[i,j,k] for i in opciones for j in opciones) == 1 ) for k in opciones ]\n",
    "                    \n",
    "modelo.optimize()\n",
    "                    \n",
    "print('Costo total = %g' % modelo.objVal)\n",
    "print()\n",
    "for i in opciones:\n",
    "    for j in opciones:\n",
    "        for k in opciones:\n",
    "            if x[i,j,k].x > EPS:\n",
    "                print('Indices: %d  %d  %d.  Costo = %d' % (i,j,k,cost[i][j][k]))\n",
    "print()\n",
    "print('Time = ',modelo.Runtime, \" seconds\")"
   ]
  },
  {
   "cell_type": "code",
   "execution_count": 8,
   "metadata": {},
   "outputs": [
    {
     "name": "stdout",
     "output_type": "stream",
     "text": [
      "Optimize a model with 300 rows, 1000 columns and 3000 nonzeros\n",
      "Variable types: 0 continuous, 1000 integer (1000 binary)\n",
      "Coefficient statistics:\n",
      "  Matrix range     [1e+00, 1e+00]\n",
      "  Objective range  [1e+00, 1e+02]\n",
      "  Bounds range     [1e+00, 1e+00]\n",
      "  RHS range        [1e+00, 1e+00]\n",
      "Presolve time: 0.01s\n",
      "Presolved: 300 rows, 1000 columns, 3000 nonzeros\n",
      "Variable types: 0 continuous, 1000 integer (1000 binary)\n",
      "\n",
      "Root relaxation: objective 1.761849e+03, 453 iterations, 0.01 seconds\n",
      "\n",
      "    Nodes    |    Current Node    |     Objective Bounds      |     Work\n",
      " Expl Unexpl |  Obj  Depth IntInf | Incumbent    BestBd   Gap | It/Node Time\n",
      "\n",
      "     0     0 1761.84861    0  237          - 1761.84861      -     -    0s\n",
      "H    0     0                    4638.0000000 1761.84861  62.0%     -    0s\n",
      "H    0     0                    3051.0000000 1761.84861  42.3%     -    0s\n",
      "     0     0 1765.28503    0  244 3051.00000 1765.28503  42.1%     -    0s\n",
      "     0     0 1765.54162    0  243 3051.00000 1765.54162  42.1%     -    0s\n",
      "     0     0 1767.46465    0  261 3051.00000 1767.46465  42.1%     -    0s\n",
      "H    0     0                    2929.0000000 1767.46465  39.7%     -    0s\n",
      "     0     0 1767.89121    0  248 2929.00000 1767.89121  39.6%     -    0s\n",
      "H    0     0                    2853.0000000 1767.89121  38.0%     -    0s\n",
      "     0     0 1767.89427    0  248 2853.00000 1767.89427  38.0%     -    0s\n",
      "     0     0 1767.89427    0  248 2853.00000 1767.89427  38.0%     -    0s\n",
      "H    0     0                    2334.0000000 1767.89427  24.3%     -    0s\n",
      "     0     2 1767.89427    0  248 2334.00000 1767.89427  24.3%     -    0s\n",
      "H  236   232                    2301.0000000 1772.10256  23.0%  24.3    0s\n",
      "H  248   249                    1962.0000000 1772.10256  9.68%  24.2    0s\n",
      "*  260   252             112    1961.0000000 1773.79034  9.55%  24.4    0s\n",
      "H  276   248                    1932.0000000 1773.79034  8.19%  25.5    0s\n",
      "*  356   281              42    1896.0000000 1773.79034  6.45%  26.3    0s\n",
      "*  467   360              13    1890.0000000 1778.89356  5.88%  30.3    0s\n",
      "*  577   262              17    1846.0000000 1781.58389  3.49%  31.5    1s\n",
      "* 1381   276              31    1835.0000000 1801.62857  1.82%  32.2    2s\n",
      "* 1453    72              25    1813.0000000 1803.52000  0.52%  31.9    2s\n",
      "\n",
      "Explored 1527 nodes (48241 simplex iterations) in 2.40 seconds\n",
      "Thread count was 4 (of 4 available processors)\n",
      "\n",
      "Solution count 10: 1813 1835 1846 ... 2334\n",
      "\n",
      "Optimal solution found (tolerance 1.00e-04)\n",
      "Best objective 1.813000000000e+03, best bound 1.813000000000e+03, gap 0.0000%\n",
      "Costo total = 1813\n",
      "\n",
      "Indices: 0  0  4.  Costo = 48\n",
      "Indices: 0  1  2.  Costo = 56\n",
      "Indices: 0  2  3.  Costo = 12\n",
      "Indices: 0  3  7.  Costo = 4\n",
      "Indices: 0  4  0.  Costo = 4\n",
      "Indices: 0  5  6.  Costo = 14\n",
      "Indices: 0  6  8.  Costo = 30\n",
      "Indices: 0  7  1.  Costo = 28\n",
      "Indices: 0  8  5.  Costo = 2\n",
      "Indices: 0  9  9.  Costo = 11\n",
      "Indices: 1  0  2.  Costo = 2\n",
      "Indices: 1  1  4.  Costo = 2\n",
      "Indices: 1  2  7.  Costo = 16\n",
      "Indices: 1  3  0.  Costo = 11\n",
      "Indices: 1  4  6.  Costo = 1\n",
      "Indices: 1  5  1.  Costo = 13\n",
      "Indices: 1  6  3.  Costo = 4\n",
      "Indices: 1  7  9.  Costo = 16\n",
      "Indices: 1  8  8.  Costo = 26\n",
      "Indices: 1  9  5.  Costo = 38\n",
      "Indices: 2  0  3.  Costo = 34\n",
      "Indices: 2  1  9.  Costo = 5\n",
      "Indices: 2  2  0.  Costo = 36\n",
      "Indices: 2  3  4.  Costo = 7\n",
      "Indices: 2  4  1.  Costo = 1\n",
      "Indices: 2  5  5.  Costo = 39\n",
      "Indices: 2  6  7.  Costo = 11\n",
      "Indices: 2  7  6.  Costo = 15\n",
      "Indices: 2  8  2.  Costo = 6\n",
      "Indices: 2  9  8.  Costo = 13\n",
      "Indices: 3  0  6.  Costo = 2\n",
      "Indices: 3  1  5.  Costo = 21\n",
      "Indices: 3  2  9.  Costo = 3\n",
      "Indices: 3  3  3.  Costo = 6\n",
      "Indices: 3  4  7.  Costo = 13\n",
      "Indices: 3  5  0.  Costo = 5\n",
      "Indices: 3  6  2.  Costo = 29\n",
      "Indices: 3  7  8.  Costo = 28\n",
      "Indices: 3  8  4.  Costo = 2\n",
      "Indices: 3  9  1.  Costo = 16\n",
      "Indices: 4  0  7.  Costo = 32\n",
      "Indices: 4  1  1.  Costo = 14\n",
      "Indices: 4  2  2.  Costo = 11\n",
      "Indices: 4  3  8.  Costo = 34\n",
      "Indices: 4  4  9.  Costo = 4\n",
      "Indices: 4  5  4.  Costo = 26\n",
      "Indices: 4  6  5.  Costo = 12\n",
      "Indices: 4  7  0.  Costo = 3\n",
      "Indices: 4  8  3.  Costo = 4\n",
      "Indices: 4  9  6.  Costo = 72\n",
      "Indices: 5  0  9.  Costo = 7\n",
      "Indices: 5  1  6.  Costo = 41\n",
      "Indices: 5  2  1.  Costo = 12\n",
      "Indices: 5  3  5.  Costo = 2\n",
      "Indices: 5  4  2.  Costo = 21\n",
      "Indices: 5  5  8.  Costo = 51\n",
      "Indices: 5  6  0.  Costo = 18\n",
      "Indices: 5  7  3.  Costo = 2\n",
      "Indices: 5  8  7.  Costo = 30\n",
      "Indices: 5  9  4.  Costo = 6\n",
      "Indices: 6  0  5.  Costo = 26\n",
      "Indices: 6  1  3.  Costo = 32\n",
      "Indices: 6  2  6.  Costo = 16\n",
      "Indices: 6  3  9.  Costo = 8\n",
      "Indices: 6  4  8.  Costo = 33\n",
      "Indices: 6  5  7.  Costo = 6\n",
      "Indices: 6  6  1.  Costo = 19\n",
      "Indices: 6  7  4.  Costo = 14\n",
      "Indices: 6  8  0.  Costo = 3\n",
      "Indices: 6  9  2.  Costo = 10\n",
      "Indices: 7  0  1.  Costo = 17\n",
      "Indices: 7  1  0.  Costo = 20\n",
      "Indices: 7  2  8.  Costo = 13\n",
      "Indices: 7  3  6.  Costo = 10\n",
      "Indices: 7  4  5.  Costo = 6\n",
      "Indices: 7  5  2.  Costo = 17\n",
      "Indices: 7  6  4.  Costo = 16\n",
      "Indices: 7  7  7.  Costo = 1\n",
      "Indices: 7  8  9.  Costo = 29\n",
      "Indices: 7  9  3.  Costo = 23\n",
      "Indices: 8  0  8.  Costo = 17\n",
      "Indices: 8  1  7.  Costo = 62\n",
      "Indices: 8  2  4.  Costo = 4\n",
      "Indices: 8  3  2.  Costo = 10\n",
      "Indices: 8  4  3.  Costo = 49\n",
      "Indices: 8  5  9.  Costo = 48\n",
      "Indices: 8  6  6.  Costo = 4\n",
      "Indices: 8  7  5.  Costo = 31\n",
      "Indices: 8  8  1.  Costo = 16\n",
      "Indices: 8  9  0.  Costo = 2\n",
      "Indices: 9  0  0.  Costo = 35\n",
      "Indices: 9  1  8.  Costo = 14\n",
      "Indices: 9  2  5.  Costo = 11\n",
      "Indices: 9  3  1.  Costo = 4\n",
      "Indices: 9  4  4.  Costo = 11\n",
      "Indices: 9  5  3.  Costo = 12\n",
      "Indices: 9  6  9.  Costo = 14\n",
      "Indices: 9  7  2.  Costo = 59\n",
      "Indices: 9  8  6.  Costo = 56\n",
      "Indices: 9  9  7.  Costo = 3\n",
      "\n",
      "Time =  2.408557891845703  seconds\n"
     ]
    }
   ],
   "source": [
    "from gurobipy import *\n",
    "\n",
    "modelo = Model(\"AP3planar\")\n",
    "x = {}\n",
    "for i in opciones:\n",
    "    for j in opciones:\n",
    "        for k in opciones:\n",
    "            x[i,j,k] = modelo.addVar(vtype=GRB.BINARY, name=\"x[%i,%i,%i]\" % (i,j,k))\n",
    "\n",
    "modelo.modelSense = GRB.MINIMIZE\n",
    "modelo.setObjective( quicksum(cost[i][j][k] * x[i,j,k] for i in opciones for j in opciones for k in opciones) )\n",
    "    \n",
    "[ modelo.addConstr( quicksum(x[i,j,k] for k in opciones) == 1 ) for i in opciones for j in opciones ]\n",
    "[ modelo.addConstr( quicksum(x[i,j,k] for j in opciones) == 1 ) for i in opciones for k in opciones ]\n",
    "[ modelo.addConstr( quicksum(x[i,j,k] for i in opciones) == 1 ) for j in opciones for k in opciones ]\n",
    "                    \n",
    "modelo.optimize()\n",
    "                    \n",
    "print('Costo total = %g' % modelo.objVal)\n",
    "print()\n",
    "for i in opciones:\n",
    "    for j in opciones:\n",
    "        for k in opciones:\n",
    "            if x[i,j,k].x > EPS:\n",
    "                print('Indices: %d  %d  %d.  Costo = %d' % (i,j,k,cost[i][j][k]))\n",
    "print()\n",
    "print('Time = ',modelo.Runtime, \" seconds\")"
   ]
  },
  {
   "cell_type": "markdown",
   "metadata": {
    "colab_type": "text",
    "id": "ItwkPwAqxsp9"
   },
   "source": [
    "# Problemas de Caminos"
   ]
  },
  {
   "cell_type": "markdown",
   "metadata": {
    "colab_type": "text",
    "id": "rLyD81Yx0482"
   },
   "source": [
    "Resolvamos el problema de calcular el camino de costo mínimo del nodo $s=0$ al nodo $t=n-1$ en un grafo dirigido con costos positivos:"
   ]
  },
  {
   "cell_type": "code",
   "execution_count": 9,
   "metadata": {
    "colab": {},
    "colab_type": "code",
    "id": "GVdXPfFx0483",
    "outputId": "439a6e6e-0356-4794-db55-7eaf91c7e48b"
   },
   "outputs": [
    {
     "name": "stdout",
     "output_type": "stream",
     "text": [
      "Requirement already satisfied: ortools in c:\\anaconda3\\lib\\site-packages (7.4.7247)\n",
      "Requirement already satisfied: protobuf>=3.10.0 in c:\\anaconda3\\lib\\site-packages (from ortools) (3.10.0)\n",
      "Requirement already satisfied: six>=1.10 in c:\\anaconda3\\lib\\site-packages (from ortools) (1.12.0)\n",
      "Requirement already satisfied: setuptools in c:\\anaconda3\\lib\\site-packages (from protobuf>=3.10.0->ortools) (41.4.0)\n"
     ]
    }
   ],
   "source": [
    "n        = 100\n",
    "opciones = range(n)\n",
    "s = 0    # source\n",
    "t = n-1  # target\n",
    "\n",
    "import random\n",
    "random.seed(1)\n",
    "points   = [(random.randint(0,100),random.randint(0,100)) for i in opciones]\n",
    "\n",
    "import matplotlib.pyplot as plt\n",
    "def dibuja(selected):\n",
    "    plt.plot([p[0] for p in points], [p[1] for p in points], 'bo')\n",
    "    for (i,j) in selected:\n",
    "        plt.plot([points[i][0],points[j][0]], [points[i][1],points[j][1]], 'g-')\n",
    "    plt.plot(points[s][0],points[s][1], 'rs')\n",
    "    plt.plot(points[t][0],points[t][1], 'rs')\n",
    "\n",
    "dibuja({})\n",
    "\n",
    "import math\n",
    "def distance(points, i, j):\n",
    "    dx = points[i][0] - points[j][0]\n",
    "    dy = points[i][1] - points[j][1]\n",
    "    return math.floor(math.sqrt(dx*dx + dy*dy))\n",
    "        \n",
    "!pip install ortools\n",
    "from ortools.linear_solver import pywraplp"
   ]
  },
  {
   "cell_type": "code",
   "execution_count": 10,
   "metadata": {
    "colab": {},
    "colab_type": "code",
    "id": "7JKQTlU5yeIa",
    "outputId": "49421b71-b695-446d-d621-49b6c022cf88"
   },
   "outputs": [
    {
     "name": "stdout",
     "output_type": "stream",
     "text": [
      "Costo total =  43.0\n",
      "Time =  0.478 seconds\n",
      "Optimal path: [(0, 52), (52, 99)]\n"
     ]
    },
    {
     "data": {
      "image/png": "[encoded data removed]",
      "text/plain": [
       "<Figure size 432x288 with 1 Axes>"
      ]
     },
     "metadata": {
      "needs_background": "light"
     },
     "output_type": "display_data"
    }
   ],
   "source": [
    "solver = pywraplp.Solver('ShortestPath', pywraplp.Solver.CBC_MIXED_INTEGER_PROGRAMMING)\n",
    "\n",
    "x = {}\n",
    "for i in opciones:\n",
    "    for j in opciones:\n",
    "        x[i,j] = solver.BoolVar('x[%i,%i]' % (i,j))\n",
    "y = {}\n",
    "for i in opciones:\n",
    "    y[i] = solver.BoolVar('y[%i]' % i)\n",
    "            \n",
    "solver.Minimize( solver.Sum(distance(points,i,j) * x[i,j] for i in opciones for j in opciones if i!=j ) )\n",
    "\n",
    "solver.Add(solver.Sum(x[s,j] for j in opciones if j!=s ) == 1)\n",
    "solver.Add(solver.Sum(x[i,s] for i in opciones if i!=s ) == 0)\n",
    "solver.Add(solver.Sum(x[i,t] for i in opciones if i!=t ) == 1)\n",
    "solver.Add(solver.Sum(x[t,j] for j in opciones if j!=t ) == 0)\n",
    "[ solver.Add(solver.Sum(x[i,j] for j in opciones if j!=i) == y[i]) for i in opciones if i!=s and i!=t ]\n",
    "[ solver.Add(solver.Sum(x[i,j] for i in opciones if j!=i) == y[j]) for j in opciones if j!=s and j!=t ]\n",
    "    \n",
    "solver.Solve()\n",
    "\n",
    "print('Costo total = ', solver.Objective().Value())\n",
    "print(\"Time = \", solver.WallTime()/1000, \"seconds\")    \n",
    "\n",
    "selected = [(i,j) for i in opciones for j in opciones if x[i,j].solution_value() > 0.5]\n",
    "print('Optimal path: %s' % str(selected))\n",
    "\n",
    "dibuja(selected)"
   ]
  },
  {
   "cell_type": "markdown",
   "metadata": {
    "colab_type": "text",
    "id": "vGZiZz_P0488"
   },
   "source": [
    "Para que el anterior modelo funcione es fundamental que no existan circuitos de costo negativo o nulo, cosa que viene garantizada si las distancias son positivas."
   ]
  },
  {
   "cell_type": "markdown",
   "metadata": {
    "colab_type": "text",
    "id": "AmJHLuWKxxO9"
   },
   "source": [
    "# Problema del Viajante de Comercio"
   ]
  },
  {
   "cell_type": "markdown",
   "metadata": {
    "colab_type": "text",
    "id": "x9fEuuA70489"
   },
   "source": [
    "El Problema del Viajante de Comercio (\"Travelling Salesman Problem\") busca un circuito que visite una vez cada uno de los nodos de un grafo, con el menos coste posible de recorrido del circuito. Comenzamos generando datos aleatorios. Primero lo haremos sin ninguna propiedad de la matriz de costos, mostrando 10 modelos diferentes,  y más adelante lo haremos con puntos sobre un espacio cartesiano y distancias euclídeas, mostrando 4 variantes del mejor modelo. El ejercicio es importante porque muestra que pueden existir varios modelos para un mismo problema, y que no todos los modelos de un problema requieren el mismo tiempo de cálculo para ser resueltos. De este ejercicio sobre el TSP aprenderemos a reconocer modelos buenos y modelos malos. Comencemos generando $n$ puntos y distancias aleatorias entre ellos (es decir, un grafo asimétrico con $n$ nodos), es decir, un ejemplo numérico para el ATSP."
   ]
  },
  {
   "cell_type": "code",
   "execution_count": 2,
   "metadata": {
    "colab": {},
    "colab_type": "code",
    "id": "8EN62jDS048-"
   },
   "outputs": [],
   "source": [
    "import random\n",
    "n     = 30\n",
    "todos = range(n)\n",
    "otros = range(1,n)\n",
    "random.seed(12345)\n",
    "dist  = { (i,j) : random.randint(1,100) for i in todos for j in todos if i!=j }\n",
    "EPS   = 0.001"
   ]
  },
  {
   "cell_type": "markdown",
   "metadata": {
    "colab_type": "text",
    "id": "ESSz-Qkt049A"
   },
   "source": [
    "Usando OR-tools como marco de trabajo, y CBC como librería de optimización lineal entera, mostramos primero 3 modelos para el ATSP:"
   ]
  },
  {
   "cell_type": "code",
   "execution_count": 1,
   "metadata": {},
   "outputs": [
    {
     "name": "stdout",
     "output_type": "stream",
     "text": [
      "Requirement already satisfied: ortools in c:\\anaconda3\\lib\\site-packages (7.4.7247)\n",
      "Requirement already satisfied: six>=1.10 in c:\\anaconda3\\lib\\site-packages (from ortools) (1.12.0)\n",
      "Requirement already satisfied: protobuf>=3.10.0 in c:\\anaconda3\\lib\\site-packages (from ortools) (3.10.0)\n",
      "Requirement already satisfied: setuptools in c:\\anaconda3\\lib\\site-packages (from protobuf>=3.10.0->ortools) (41.4.0)\n"
     ]
    }
   ],
   "source": [
    "!pip install ortools\n",
    "from ortools.linear_solver import pywraplp"
   ]
  },
  {
   "cell_type": "code",
   "execution_count": 9,
   "metadata": {
    "colab": {},
    "colab_type": "code",
    "id": "KBaRAQz5049B",
    "outputId": "de4b1cb3-a902-4859-ae5e-573eb3a79b2d"
   },
   "outputs": [
    {
     "name": "stdout",
     "output_type": "stream",
     "text": [
      "lineal \n",
      "Distancia total con variable x3i =  150.80000000000035 kilometros en  1784  milliseconds\n",
      "Distancia total con variable ui  =  149.6896551724138 kilometros en  53  milliseconds\n",
      "Distancia total con variable vij =  154.25 kilometros en  1014  milliseconds\n",
      "Distancia total con variable fij =  150.48275862068965 kilometros en  52  milliseconds\n",
      "entero \n",
      "Distancia total con variable x3i =  155.0 kilometros en  44978  milliseconds\n",
      "Distancia total con variable ui  =  155.0 kilometros en  1351  milliseconds\n",
      "Distancia total con variable vij =  155.0 kilometros en  20384  milliseconds\n",
      "Distancia total con variable fij =  155.0 kilometros en  511  milliseconds\n"
     ]
    }
   ],
   "source": [
    "def ATSPx(tipo):\n",
    "    if tipo == 'LP':\n",
    "        print(\"lineal \")\n",
    "        solver = pywraplp.Solver('ATSPx', pywraplp.Solver.GLOP_LINEAR_PROGRAMMING)\n",
    "    else:\n",
    "        print(\"entero \")\n",
    "        solver = pywraplp.Solver('ATSPx', pywraplp.Solver.CBC_MIXED_INTEGER_PROGRAMMING)\n",
    "    x = {}\n",
    "    for i,j in dist.keys():\n",
    "        for k in todos:\n",
    "            if tipo == 'LP':\n",
    "                x[i,j,k] = solver.NumVar(0.0, solver.infinity(), 'x[%i,%i,%i]' % (i,j,k))\n",
    "            else:\n",
    "                x[i,j,k] = solver.BoolVar('x[%i,%i,%i]' % (i,j,k))\n",
    "            \n",
    "\n",
    "    solver.Minimize( solver.Sum( dist[i,j]*x[i,j,k] for i,j in dist.keys() for k in todos ))\n",
    "    \n",
    "    [ solver.Add( solver.Sum(x[i,j,k]   for k in todos for j in todos if j!=i) == 1  )  for i in todos ]\n",
    "    [ solver.Add( solver.Sum(x[i,j,k]   for k in todos for i in todos if j!=i) == 1  )  for j in todos ]\n",
    "    [ solver.Add( solver.Sum(x[i,j,k]   for i,j in dist.keys() ) == 1  )  for k in todos ]\n",
    "    solver.Add(   solver.Sum(x[0,j,0]   for j in otros ) == 1 )\n",
    "    solver.Add(   solver.Sum(x[j,0,n-1] for j in otros ) == 1 )\n",
    "    [ solver.Add( solver.Sum(x[j,i,k-1] for j in todos if j!=i) == solver.Sum(x[i,j,k] for j in todos if j!=i))  for i in otros for k in otros ]\n",
    "        \n",
    "    solver.Solve()\n",
    "    print('Distancia total con variable x3i = ', solver.Objective().Value(),'kilometros en ', solver.WallTime(), \" milliseconds\")\n",
    "\n",
    "def ATSPu(tipo):\n",
    "    if tipo == 'LP':\n",
    "        solver = pywraplp.Solver('ATSPu', pywraplp.Solver.GLOP_LINEAR_PROGRAMMING)\n",
    "    else:\n",
    "        solver = pywraplp.Solver('ATSPu', pywraplp.Solver.CBC_MIXED_INTEGER_PROGRAMMING)\n",
    "    x = {}\n",
    "    for i,j in dist.keys():\n",
    "        if tipo == 'LP':\n",
    "            x[i,j] = solver.NumVar(0.0, solver.infinity(), 'x[%i,%i]' % (i,j))\n",
    "        else:\n",
    "            x[i,j] = solver.BoolVar('x[%i,%i]' % (i,j))\n",
    "    u = {}\n",
    "    for i in otros:\n",
    "        u[i] = solver.NumVar(0.0, solver.infinity(), 'u[%i]' % i)  \n",
    "\n",
    "    solver.Minimize( solver.Sum( dist[i,j]*x[i,j] for i,j in dist.keys() ))\n",
    "    \n",
    "    [ solver.Add( solver.Sum(x[i,j] for j in todos if i!=j) == 1  )  for i in todos ]\n",
    "    [ solver.Add( solver.Sum(x[j,i] for j in todos if i!=j) == 1  )  for i in todos ]\n",
    "    [ solver.Add( u[j] >= u[i] + x[i,j] - (n-2)*(1-x[i,j]) + (n-3)*x[j,i]   ) for i in otros for j in otros if j!=i ]\n",
    "        \n",
    "    solver.Solve()\n",
    "    print('Distancia total con variable ui  = ', solver.Objective().Value(),'kilometros en ', solver.WallTime(), \" milliseconds\")\n",
    "\n",
    "def ATSPvij(tipo):\n",
    "    if tipo == 'LP':\n",
    "        solver = pywraplp.Solver('ATSPvij', pywraplp.Solver.GLOP_LINEAR_PROGRAMMING)\n",
    "    else:\n",
    "        solver = pywraplp.Solver('ATSPvij', pywraplp.Solver.CBC_MIXED_INTEGER_PROGRAMMING)\n",
    "    x = {}\n",
    "    for i,j in dist.keys():\n",
    "        if tipo == 'LP':\n",
    "            x[i,j] = solver.NumVar(0, solver.infinity(), 'x[%i,%i]' % (i,j))\n",
    "        else:\n",
    "            x[i,j] = solver.BoolVar('x[%i,%i]' % (i,j))\n",
    "    v = {}\n",
    "    for i in otros: \n",
    "        for j in otros: \n",
    "            if j!=i :\n",
    "                v[i,j] = solver.NumVar(0, solver.infinity(), 'v[%i,%i]' % (i,j))            \n",
    "    \n",
    "    solver.Minimize( solver.Sum( dist[i,j]*x[i,j] for i,j in dist.keys() ))\n",
    "    \n",
    "    [ solver.Add( solver.Sum(x[i,j] for j in todos if i!=j) == 1  )  for i in todos ]\n",
    "    [ solver.Add( solver.Sum(x[j,i] for j in todos if i!=j) == 1  )  for i in todos ]\n",
    "    [ solver.Add( v[i,j] + v[j,i] == 1 )        for i in otros for j in otros if j!=i ]\n",
    "    [ solver.Add( v[i,j] + v[j,k] <= v[i,k]+1 ) for i in otros for j in otros for k in otros if i!=j and i!=k and j!=k ]\n",
    "    [ solver.Add( v[i,j] >= x[i,j]  )           for i in otros for j in otros if j!=i ]\n",
    "    \n",
    "    solver.Solve()\n",
    "    print('Distancia total con variable vij = ', solver.Objective().Value(),'kilometros en ', solver.WallTime(), \" milliseconds\")\n",
    "\n",
    "def ATSPfij(tipo):\n",
    "    if tipo == 'LP':\n",
    "        solver = pywraplp.Solver('ATSPfij', pywraplp.Solver.GLOP_LINEAR_PROGRAMMING)\n",
    "    else:\n",
    "        solver = pywraplp.Solver('ATSPfij', pywraplp.Solver.CBC_MIXED_INTEGER_PROGRAMMING)\n",
    "    x = {}\n",
    "    for i,j in dist.keys():\n",
    "        if tipo == 'LP':\n",
    "            x[i,j] = solver.NumVar(0.0, solver.infinity(), 'x[%i,%i]' % (i,j))\n",
    "        else:\n",
    "            x[i,j] = solver.BoolVar('x[%i,%i]' % (i,j))\n",
    "    f = {}\n",
    "    for i,j in dist.keys():\n",
    "        f[i,j] = solver.NumVar(0.0, solver.infinity(), 'f[%i,%i]' % (i,j))         \n",
    "                \n",
    "    solver.Minimize(solver.Sum( dist[i,j]*x[i,j] for i,j in dist.keys() ))\n",
    "    \n",
    "    [ solver.Add( solver.Sum(       x[i,j] for j in todos if i!=j) == 1 )  for i in todos ]\n",
    "    [ solver.Add( solver.Sum(       x[j,i] for j in todos if i!=j) == 1 )  for i in todos ]\n",
    "    [ solver.Add( solver.Sum(f[j,i]-f[i,j] for j in todos if j!=i) >= 1 )  for i in otros ] \n",
    "    [ solver.Add(            f[i,j] <= (n-1)*x[i,j]           )    for i,j in dist.keys() ]\n",
    "    \n",
    "    solver.Solve()\n",
    "    print('Distancia total con variable fij = ', solver.Objective().Value(),'kilometros en ', solver.WallTime(), \" milliseconds\")\n",
    "\n",
    "ATSPx('LP')\n",
    "ATSPu('LP')\n",
    "ATSPvij('LP')\n",
    "ATSPfij('LP')\n",
    "\n",
    "ATSPx(\"ip\")\n",
    "ATSPu(\"ip\")\n",
    "ATSPvij(\"ip\")\n",
    "ATSPfij(\"ip\")"
   ]
  },
  {
   "cell_type": "markdown",
   "metadata": {
    "colab_type": "text",
    "id": "RaoXKSsY049D"
   },
   "source": [
    "Cambiemos ahora el resolutor. En lugar de usar el gratuito OR-tools usemos el comercial Gurobi (recuerda que necesitas licencia de Gurobi para que funcione):"
   ]
  },
  {
   "cell_type": "code",
   "execution_count": 1,
   "metadata": {
    "colab": {},
    "colab_type": "code",
    "id": "n-6S-UNY049E"
   },
   "outputs": [],
   "source": [
    "import networkx\n",
    "from gurobipy import *"
   ]
  },
  {
   "cell_type": "code",
   "execution_count": 14,
   "metadata": {
    "colab": {},
    "colab_type": "code",
    "id": "xWsAAlZ2049J",
    "outputId": "67e8d2e3-8f4e-4a30-e569-f7a882656e3e"
   },
   "outputs": [
    {
     "name": "stdout",
     "output_type": "stream",
     "text": [
      "Optimize a model with 382 rows, 399 columns and 2128 nonzeros\n",
      "Variable types: 19 continuous, 380 integer (380 binary)\n",
      "Coefficient statistics:\n",
      "  Matrix range     [1e+00, 2e+01]\n",
      "  Objective range  [1e+00, 1e+02]\n",
      "  Bounds range     [1e+00, 1e+00]\n",
      "  RHS range        [1e+00, 2e+01]\n",
      "Presolve time: 0.01s\n",
      "Presolved: 382 rows, 399 columns, 2128 nonzeros\n",
      "Variable types: 19 continuous, 380 integer (380 binary)\n",
      "\n",
      "Root relaxation: objective 1.420000e+02, 68 iterations, 0.00 seconds\n",
      "\n",
      "    Nodes    |    Current Node    |     Objective Bounds      |     Work\n",
      " Expl Unexpl |  Obj  Depth IntInf | Incumbent    BestBd   Gap | It/Node Time\n",
      "\n",
      "*    0     0               0     142.0000000  142.00000  0.00%     -    0s\n",
      "\n",
      "Explored 0 nodes (68 simplex iterations) in 0.02 seconds\n",
      "Thread count was 4 (of 4 available processors)\n",
      "\n",
      "Solution count 1: 142 \n",
      "\n",
      "Optimal solution found (tolerance 1.00e-04)\n",
      "Best objective 1.420000000000e+02, best bound 1.420000000000e+02, gap 0.0000%\n",
      "Costo total = 142\n",
      "Time =  0.026929855346679688 seconds\n",
      "Optimal path: [(0, 3), (1, 19), (2, 16), (3, 2), (4, 7), (5, 1), (6, 0), (7, 14), (8, 12), (9, 10), (10, 13), (11, 5), (12, 18), (13, 17), (14, 8), (15, 11), (16, 15), (17, 6), (18, 9), (19, 4)]\n"
     ]
    }
   ],
   "source": [
    "def ATSPpot():\n",
    "    modelo = Model()\n",
    "    \n",
    "    x = tupledict()\n",
    "    for i,j in dist.keys():\n",
    "         x[i,j] = modelo.addVar(obj=dist[i,j], vtype=GRB.BINARY, name='a[%d,%d]'%(i,j))\n",
    "    u = tupledict()\n",
    "    for i in otros:\n",
    "        u[i] = modelo.addVar(obj=0, vtype=GRB.CONTINUOUS, name='u[%i]'%i)\n",
    "        \n",
    "    modelo.addConstrs(sum(x[i,j] for j in todos if j!=i) == 1 for i in todos)\n",
    "    modelo.addConstrs(sum(x[j,i] for j in todos if j!=i) == 1 for i in todos)\n",
    "#    modelo.addConstrs( u[j] >= u[i] + x[i,j] - (n+8)*(1-x[i,j]) for i in otros for j in otros if i!=j )\n",
    "    modelo.addConstrs( u[j] >= u[i] + x[i,j] - (n-2)*(1-x[i,j]) + (n-3)*x[j,i] for i in otros for j in otros if i!=j )\n",
    "\n",
    "    modelo.optimize()\n",
    "\n",
    "    print('Costo total = %g' % modelo.objVal)\n",
    "    print('Time = ',modelo.Runtime, \"seconds\")\n",
    "    vals = modelo.getAttr('x', x )\n",
    "    selected = [(i,j) for i,j in vals.keys() if vals[i,j] > EPS]\n",
    "    print('Optimal path: %s' % str(selected))\n",
    "    \n",
    "ATSPpot()"
   ]
  },
  {
   "cell_type": "code",
   "execution_count": 15,
   "metadata": {
    "colab": {},
    "colab_type": "code",
    "id": "NE8VcGAP049M",
    "outputId": "733bbbd7-6a17-4017-e7b4-3d8bbd40af06"
   },
   "outputs": [
    {
     "name": "stdout",
     "output_type": "stream",
     "text": [
      "Optimize a model with 6538 rows, 760 columns and 19570 nonzeros\n",
      "Variable types: 0 continuous, 760 integer (760 binary)\n",
      "Coefficient statistics:\n",
      "  Matrix range     [1e+00, 1e+00]\n",
      "  Objective range  [1e+00, 1e+02]\n",
      "  Bounds range     [1e+00, 1e+00]\n",
      "  RHS range        [1e+00, 1e+00]\n",
      "Presolve removed 4218 rows and 209 columns\n",
      "Presolve time: 0.03s\n",
      "Presolved: 2320 rows, 551 columns, 7258 nonzeros\n",
      "Variable types: 0 continuous, 551 integer (551 binary)\n",
      "Found heuristic solution: objective 852.0000000\n",
      "Found heuristic solution: objective 847.0000000\n",
      "Found heuristic solution: objective 742.0000000\n",
      "\n",
      "Root relaxation: objective 1.420000e+02, 236 iterations, 0.01 seconds\n",
      "\n",
      "    Nodes    |    Current Node    |     Objective Bounds      |     Work\n",
      " Expl Unexpl |  Obj  Depth IntInf | Incumbent    BestBd   Gap | It/Node Time\n",
      "\n",
      "*    0     0               0     142.0000000  142.00000  0.00%     -    0s\n",
      "\n",
      "Explored 0 nodes (236 simplex iterations) in 0.07 seconds\n",
      "Thread count was 4 (of 4 available processors)\n",
      "\n",
      "Solution count 4: 142 742 847 852 \n",
      "\n",
      "Optimal solution found (tolerance 1.00e-04)\n",
      "Best objective 1.420000000000e+02, best bound 1.420000000000e+02, gap 0.0000%\n",
      "Costo total = 142\n",
      "Time =  0.07081222534179688 seconds\n",
      "Optimal path: [(0, 3), (1, 19), (2, 16), (3, 2), (4, 7), (5, 1), (6, 0), (7, 14), (8, 12), (9, 10), (10, 13), (11, 5), (12, 18), (13, 17), (14, 8), (15, 11), (16, 15), (17, 6), (18, 9), (19, 4)]\n"
     ]
    }
   ],
   "source": [
    "def ATSPpred():\n",
    "    modelo = Model()\n",
    "    \n",
    "    x = tupledict()\n",
    "    for i,j in dist.keys():\n",
    "         x[i,j] = modelo.addVar(obj=dist[i,j], vtype=GRB.BINARY, name='a[%d,%d]'%(i,j))\n",
    "    v = tupledict()\n",
    "    for i,j in dist.keys():\n",
    "         v[i,j] = modelo.addVar(obj=0        , vtype=GRB.BINARY, name='v[%d,%d]'%(i,j))\n",
    "        \n",
    "    modelo.addConstrs(sum(x[i,j] for j in todos if j!=i) == 1 for i in todos)\n",
    "    modelo.addConstrs(sum(x[j,i] for j in todos if j!=i) == 1 for i in todos)\n",
    "    modelo.addConstrs( v[i,j]+v[j,i] ==1 for i in otros for j in otros if i!=j )\n",
    "    modelo.addConstrs( v[i,j]+v[j,k] <= v[i,k]+1 for i in otros for j in otros for k in otros if i!=j and i!=k and j!=k )\n",
    "    modelo.addConstrs( v[i,j] >= x[i,j] for i in otros for j in otros if i!=j )\n",
    "\n",
    "    modelo.optimize()\n",
    "\n",
    "    print('Costo total = %g' % modelo.objVal)\n",
    "    print('Time = ',modelo.Runtime, \"seconds\")\n",
    "    vals = modelo.getAttr('x', x )\n",
    "    selected = [(i,j) for i,j in vals.keys() if vals[i,j] > EPS]\n",
    "    print('Optimal path: %s' % str(selected))\n",
    "    \n",
    "ATSPpred()"
   ]
  },
  {
   "cell_type": "markdown",
   "metadata": {
    "colab_type": "text",
    "id": "GzqjX3-X049O"
   },
   "source": [
    "Mostremos ahora un cuarto modelo. Este nuevo modelo se basa en variables con 3 índices inspiradas por el problema de asignación 3-dimensional axial, y fue propuesto por Vajda (1961):"
   ]
  },
  {
   "cell_type": "code",
   "execution_count": 16,
   "metadata": {
    "colab": {},
    "colab_type": "code",
    "id": "-lSBCG-m049R",
    "outputId": "3a850d26-6872-4ff5-9490-c017de6082d9"
   },
   "outputs": [
    {
     "name": "stdout",
     "output_type": "stream",
     "text": [
      "Optimize a model with 423 rows, 7600 columns and 36556 nonzeros\n",
      "Variable types: 0 continuous, 7600 integer (7600 binary)\n",
      "Coefficient statistics:\n",
      "  Matrix range     [1e+00, 1e+00]\n",
      "  Objective range  [1e+00, 1e+02]\n",
      "  Bounds range     [1e+00, 1e+00]\n",
      "  RHS range        [1e+00, 1e+00]\n",
      "Presolve removed 4 rows and 1406 columns\n",
      "Presolve time: 0.06s\n",
      "Presolved: 419 rows, 6194 columns, 30894 nonzeros\n",
      "Variable types: 0 continuous, 6194 integer (6194 binary)\n",
      "Found heuristic solution: objective 1249.0000000\n",
      "Found heuristic solution: objective 883.0000000\n",
      "\n",
      "Root relaxation: objective 1.420000e+02, 424 iterations, 0.03 seconds\n",
      "\n",
      "    Nodes    |    Current Node    |     Objective Bounds      |     Work\n",
      " Expl Unexpl |  Obj  Depth IntInf | Incumbent    BestBd   Gap | It/Node Time\n",
      "\n",
      "*    0     0               0     142.0000000  142.00000  0.00%     -    0s\n",
      "\n",
      "Explored 0 nodes (424 simplex iterations) in 0.12 seconds\n",
      "Thread count was 4 (of 4 available processors)\n",
      "\n",
      "Solution count 3: 142 883 1249 \n",
      "\n",
      "Optimal solution found (tolerance 1.00e-04)\n",
      "Best objective 1.420000000000e+02, best bound 1.420000000000e+02, gap 0.0000%\n",
      "Costo total = 142\n",
      "Time =  0.129608154296875 seconds\n",
      "Optimal path: [(0, 3), (1, 19), (2, 16), (3, 2), (4, 7), (5, 1), (6, 0), (7, 14), (8, 12), (9, 10), (10, 13), (11, 5), (12, 18), (13, 17), (14, 8), (15, 11), (16, 15), (17, 6), (18, 9), (19, 4)]\n"
     ]
    }
   ],
   "source": [
    "def ATSP3ap():\n",
    "    modelo = Model()\n",
    "    \n",
    "    x = tupledict()\n",
    "    for i in todos:\n",
    "        for j in todos:\n",
    "            if i!=j:\n",
    "                for k in todos:\n",
    "                    x[i,j,k] = modelo.addVar(obj=dist[i,j], vtype=GRB.BINARY, name='z[%d,%d,%d]'%(i,j,k))\n",
    "        \n",
    "    modelo.addConstrs(sum(x[i,j,k] for k in todos for j in todos if j!=i) == 1 for i in todos)\n",
    "    modelo.addConstrs(sum(x[i,j,k] for k in todos for i in todos if j!=i) == 1 for j in todos)\n",
    "    modelo.addConstrs(sum(x[i,j,k] for i in todos for j in todos if j!=i) == 1 for k in todos)\n",
    "    modelo.addConstr (sum(x[0,j,0] for j in otros)==1)\n",
    "    modelo.addConstr (sum(x[j,0,n-1] for j in otros)==1)\n",
    "    modelo.addConstrs(sum(x[j,i,k-1] for j in todos if j!=i) == sum(x[i,j,k] for j in todos if j!=i) for i in otros for k in otros)\n",
    "    modelo.optimize()\n",
    "\n",
    "    print('Costo total = %g' % modelo.objVal)\n",
    "    print('Time = ',modelo.Runtime, \"seconds\")\n",
    "    vals = modelo.getAttr('x', x )\n",
    "    selected = [(i,j) for i,j,k in vals.keys() if vals[i,j,k] > EPS]\n",
    "    print('Optimal path: %s' % str(selected))\n",
    "    \n",
    "ATSP3ap()"
   ]
  },
  {
   "cell_type": "markdown",
   "metadata": {
    "colab_type": "text",
    "id": "lyBGUvO2049T"
   },
   "source": [
    "El modelo anterior hace uso de las ecuaciones:\n",
    "$$ \\sum_{j} x^{k-1}_{ji} = \\sum_{j} x^k_{ij} \\qquad \\forall i,k $$\n",
    "Otra variante de Fox, Gavish y Graves (1980) consiste en usar las siguientes ecuaciones agregadas:\n",
    "$$ \\sum_{k,j} k x^k_{ij} = 1 + \\sum_{k,j} k x^k_{ji} \\qquad \\forall i$$"
   ]
  },
  {
   "cell_type": "code",
   "execution_count": 17,
   "metadata": {
    "colab": {},
    "colab_type": "code",
    "id": "yRmURsPx049T",
    "outputId": "efb7cdea-2957-4e99-e319-56485dc00a1e"
   },
   "outputs": [
    {
     "name": "stdout",
     "output_type": "stream",
     "text": [
      "Optimize a model with 81 rows, 7600 columns and 36556 nonzeros\n",
      "Variable types: 0 continuous, 7600 integer (7600 binary)\n",
      "Coefficient statistics:\n",
      "  Matrix range     [1e+00, 2e+01]\n",
      "  Objective range  [1e+00, 1e+02]\n",
      "  Bounds range     [1e+00, 1e+00]\n",
      "  RHS range        [1e+00, 1e+00]\n",
      "Presolve removed 4 rows and 1406 columns\n",
      "Presolve time: 0.05s\n",
      "Presolved: 77 rows, 6194 columns, 30533 nonzeros\n",
      "Variable types: 0 continuous, 6194 integer (6194 binary)\n",
      "\n",
      "Root relaxation: objective 1.420000e+02, 771 iterations, 0.05 seconds\n",
      "\n",
      "    Nodes    |    Current Node    |     Objective Bounds      |     Work\n",
      " Expl Unexpl |  Obj  Depth IntInf | Incumbent    BestBd   Gap | It/Node Time\n",
      "\n",
      "*    0     0               0     142.0000000  142.00000  0.00%     -    0s\n",
      "\n",
      "Explored 0 nodes (771 simplex iterations) in 0.15 seconds\n",
      "Thread count was 4 (of 4 available processors)\n",
      "\n",
      "Solution count 1: 142 \n",
      "\n",
      "Optimal solution found (tolerance 1.00e-04)\n",
      "Best objective 1.420000000000e+02, best bound 1.420000000000e+02, gap 0.0000%\n",
      "Costo total = 142\n",
      "Time =  0.15254974365234375 seconds\n",
      "Optimal path: [(0, 3), (1, 19), (2, 16), (3, 2), (4, 7), (5, 1), (6, 0), (7, 14), (8, 12), (9, 10), (10, 13), (11, 5), (12, 18), (13, 17), (14, 8), (15, 11), (16, 15), (17, 6), (18, 9), (19, 4)]\n"
     ]
    }
   ],
   "source": [
    "def ATSP3ap2():\n",
    "    modelo = Model()\n",
    "    \n",
    "    x = tupledict()\n",
    "    for i in todos:\n",
    "        for j in todos:\n",
    "            if i!=j:\n",
    "                for k in todos:\n",
    "                    x[i,j,k] = modelo.addVar(obj=dist[i,j], vtype=GRB.BINARY, name='z[%d,%d,%d]'%(i,j,k))\n",
    "        \n",
    "    modelo.addConstrs(sum(x[i,j,k] for k in todos for j in todos if j!=i) == 1 for i in todos)\n",
    "    modelo.addConstrs(sum(x[i,j,k] for k in todos for i in todos if j!=i) == 1 for j in todos)\n",
    "    modelo.addConstrs(sum(x[i,j,k] for i in todos for j in todos if j!=i) == 1 for k in todos)\n",
    "    modelo.addConstr(sum(x[0,j,0] for j in otros)==1)\n",
    "    modelo.addConstr(sum(x[j,0,n-1] for j in otros)==1)\n",
    "    modelo.addConstrs(sum(k*x[i,j,k] for j in todos if j!=i for k in otros) == 1 + sum(k*x[j,i,k] for j in todos if j!=i for k in otros) for i in otros)\n",
    "    modelo.optimize()\n",
    "\n",
    "    print('Costo total = %g' % modelo.objVal)\n",
    "    print('Time = ',modelo.Runtime, \"seconds\")\n",
    "    vals = modelo.getAttr('x', x )\n",
    "    selected = [(i,j) for i,j,k in vals.keys() if vals[i,j,k] > EPS]\n",
    "    print('Optimal path: %s' % str(selected))\n",
    "    \n",
    "ATSP3ap2()"
   ]
  },
  {
   "cell_type": "markdown",
   "metadata": {
    "colab_type": "text",
    "id": "_OPlOlzT049V"
   },
   "source": [
    "Mostremos ahora un quinto modelo, siempre para el mismo problema (el ATSP). Además de las $x_{ij}$, en el nuevo modelo usamos variables de flujo $f_{ij}$ para eliminar subciclos. Es un modelo propuesto por Gavish y Graves (1978):"
   ]
  },
  {
   "cell_type": "code",
   "execution_count": 18,
   "metadata": {
    "colab": {},
    "colab_type": "code",
    "id": "8bzuUoZt049V"
   },
   "outputs": [
    {
     "name": "stdout",
     "output_type": "stream",
     "text": [
      "Optimize a model with 401 rows, 760 columns and 2166 nonzeros\n",
      "Variable types: 380 continuous, 380 integer (380 binary)\n",
      "Coefficient statistics:\n",
      "  Matrix range     [1e+00, 2e+01]\n",
      "  Objective range  [1e+00, 1e+02]\n",
      "  Bounds range     [1e+00, 1e+00]\n",
      "  RHS range        [1e+00, 1e+00]\n",
      "Found heuristic solution: objective 979.0000000\n",
      "Presolve removed 361 rows and 380 columns\n",
      "Presolve time: 0.00s\n",
      "Presolved: 40 rows, 380 columns, 760 nonzeros\n",
      "Variable types: 0 continuous, 380 integer (380 binary)\n",
      "\n",
      "Root relaxation: objective 1.420000e+02, 39 iterations, 0.00 seconds\n",
      "\n",
      "    Nodes    |    Current Node    |     Objective Bounds      |     Work\n",
      " Expl Unexpl |  Obj  Depth IntInf | Incumbent    BestBd   Gap | It/Node Time\n",
      "\n",
      "*    0     0               0     142.0000000  142.00000  0.00%     -    0s\n",
      "\n",
      "Explored 0 nodes (39 simplex iterations) in 0.02 seconds\n",
      "Thread count was 4 (of 4 available processors)\n",
      "\n",
      "Solution count 2: 142 979 \n",
      "\n",
      "Optimal solution found (tolerance 1.00e-04)\n",
      "Best objective 1.420000000000e+02, best bound 1.420000000000e+02, gap 0.0000%\n",
      "Costo total = 142\n",
      "Time =  0.02190399169921875 seconds\n",
      "Optimal path: [(0, 3), (1, 19), (2, 16), (3, 2), (4, 7), (5, 1), (6, 0), (7, 14), (8, 12), (9, 10), (10, 13), (11, 5), (12, 18), (13, 17), (14, 8), (15, 11), (16, 15), (17, 6), (18, 9), (19, 4)]\n"
     ]
    }
   ],
   "source": [
    "def ATSPscf():\n",
    "    modelo = Model()\n",
    "    \n",
    "    x = tupledict()\n",
    "    for i,j in dist.keys():\n",
    "         x[i,j] = modelo.addVar(obj=dist[i,j], vtype=GRB.BINARY, name='a[%d,%d]'%(i,j))\n",
    "    f = tupledict()\n",
    "    for i in todos:\n",
    "        for j in todos:\n",
    "            if i!=j:\n",
    "                f[i,j] = modelo.addVar(obj=0, vtype=GRB.CONTINUOUS, name='f[%d,%d]'%(i,j))\n",
    "        \n",
    "    modelo.addConstrs(sum(x[i,j] for j in todos if j!=i) == 1 for i in todos)\n",
    "    modelo.addConstrs(sum(x[j,i] for j in todos if j!=i) == 1 for i in todos)\n",
    "    modelo.addConstrs(sum(f[j,i]-f[i,j] for j in todos if j!=i) >= 1 for i in otros )\n",
    "    modelo.addConstrs( f[i,j] <= (n-2)*x[i,j] for i in otros for j in otros if i!=j )\n",
    "\n",
    "    modelo.optimize()\n",
    "\n",
    "    print('Costo total = %g' % modelo.objVal)\n",
    "    print('Time = ',modelo.Runtime, \"seconds\")\n",
    "    vals = modelo.getAttr('x', x )\n",
    "    selected = [(i,j) for i,j in vals.keys() if vals[i,j] > EPS]\n",
    "    print('Optimal path: %s' % str(selected))\n",
    "    \n",
    "ATSPscf()"
   ]
  },
  {
   "cell_type": "markdown",
   "metadata": {
    "colab_type": "text",
    "id": "KStUYlX8049Y"
   },
   "source": [
    "Introducimos ahora un sexto modelo, siempre para el ATSP, usando ahora 2 variables de flujo: una representa un producto que va desde un depósito (por ejemplo, botellas llenas que van desde 1) y el otro producto que se recoge en cada cliente para ir al depósito (por ejemplo, botellas vacías que van hacia 1). Es un modelo debido a Finke, Claus y Gunn (1983):"
   ]
  },
  {
   "cell_type": "code",
   "execution_count": 19,
   "metadata": {
    "colab": {},
    "colab_type": "code",
    "id": "0o_aVSm9049Z"
   },
   "outputs": [
    {
     "name": "stdout",
     "output_type": "stream",
     "text": [
      "Optimize a model with 420 rows, 1140 columns and 3230 nonzeros\n",
      "Variable types: 760 continuous, 380 integer (380 binary)\n",
      "Coefficient statistics:\n",
      "  Matrix range     [1e+00, 2e+01]\n",
      "  Objective range  [1e+00, 1e+02]\n",
      "  Bounds range     [1e+00, 1e+00]\n",
      "  RHS range        [1e+00, 1e+00]\n",
      "Found heuristic solution: objective 979.0000000\n",
      "Presolve removed 380 rows and 760 columns\n",
      "Presolve time: 0.00s\n",
      "Presolved: 40 rows, 380 columns, 760 nonzeros\n",
      "Variable types: 0 continuous, 380 integer (380 binary)\n",
      "\n",
      "Root relaxation: objective 1.420000e+02, 39 iterations, 0.00 seconds\n",
      "\n",
      "    Nodes    |    Current Node    |     Objective Bounds      |     Work\n",
      " Expl Unexpl |  Obj  Depth IntInf | Incumbent    BestBd   Gap | It/Node Time\n",
      "\n",
      "*    0     0               0     142.0000000  142.00000  0.00%     -    0s\n",
      "\n",
      "Explored 0 nodes (39 simplex iterations) in 0.02 seconds\n",
      "Thread count was 4 (of 4 available processors)\n",
      "\n",
      "Solution count 2: 142 979 \n",
      "\n",
      "Optimal solution found (tolerance 1.00e-04)\n",
      "Best objective 1.420000000000e+02, best bound 1.420000000000e+02, gap 0.0000%\n",
      "Costo total = 142\n",
      "Time =  0.021942138671875 seconds\n",
      "Optimal path: [(0, 3), (1, 19), (2, 16), (3, 2), (4, 7), (5, 1), (6, 0), (7, 14), (8, 12), (9, 10), (10, 13), (11, 5), (12, 18), (13, 17), (14, 8), (15, 11), (16, 15), (17, 6), (18, 9), (19, 4)]\n"
     ]
    }
   ],
   "source": [
    "def ATSP2scf():\n",
    "    modelo = Model()\n",
    "    \n",
    "    x = tupledict()\n",
    "    for i,j in dist.keys():\n",
    "         x[i,j] = modelo.addVar(obj=dist[i,j], vtype=GRB.BINARY, name='a[%d,%d]'%(i,j))\n",
    "    f = tupledict()\n",
    "    g = tupledict()\n",
    "    for i in todos:\n",
    "        for j in todos:\n",
    "            if i!=j:\n",
    "                f[i,j] = modelo.addVar(obj=0, vtype=GRB.CONTINUOUS, name='f[%d,%d]'%(i,j))\n",
    "                g[i,j] = modelo.addVar(obj=0, vtype=GRB.CONTINUOUS, name='f[%d,%d]'%(i,j))\n",
    "        \n",
    "    modelo.addConstrs(sum(x[i,j] for j in todos if j!=i) == 1 for i in todos)\n",
    "    modelo.addConstrs(sum(x[j,i] for j in todos if j!=i) == 1 for i in todos)\n",
    "    modelo.addConstrs(sum(f[j,i]-f[i,j] for j in todos if j!=i) >= 1 for i in otros )\n",
    "    modelo.addConstrs(sum(g[i,j]-g[j,i] for j in todos if j!=i) >= 1 for i in otros )\n",
    "    modelo.addConstrs( f[i,j]+g[i,j] == (n-2)*x[i,j] for i in otros for j in otros if i!=j )\n",
    "\n",
    "    modelo.optimize()\n",
    "\n",
    "    print('Costo total = %g' % modelo.objVal)\n",
    "    print('Time = ',modelo.Runtime, \"seconds\")\n",
    "    vals = modelo.getAttr('x', x )\n",
    "    selected = [(i,j) for i,j in vals.keys() if vals[i,j] > EPS]\n",
    "    print('Optimal path: %s' % str(selected))\n",
    "    \n",
    "ATSP2scf()"
   ]
  },
  {
   "cell_type": "markdown",
   "metadata": {
    "colab_type": "text",
    "id": "RpH3RcS6049b"
   },
   "source": [
    "En la misma línea, es posible otro modelo que usa un flujo $f^k_{ij}$ para cada cliente $k$. Fue propuesto por Wong (1980) y a la vez por Claus (1984):"
   ]
  },
  {
   "cell_type": "code",
   "execution_count": 20,
   "metadata": {
    "colab": {},
    "colab_type": "code",
    "id": "5tQQxm9q049b"
   },
   "outputs": [
    {
     "name": "stdout",
     "output_type": "stream",
     "text": [
      "Optimize a model with 6899 rows, 7600 columns and 27113 nonzeros\n",
      "Variable types: 0 continuous, 7600 integer (7600 binary)\n",
      "Coefficient statistics:\n",
      "  Matrix range     [1e+00, 1e+00]\n",
      "  Objective range  [1e+00, 1e+02]\n",
      "  Bounds range     [1e+00, 1e+00]\n",
      "  RHS range        [1e+00, 1e+00]\n",
      "Found heuristic solution: objective 979.0000000\n",
      "Presolve removed 0 rows and 38 columns\n",
      "Presolve time: 0.05s\n",
      "Presolved: 6899 rows, 7562 columns, 27094 nonzeros\n",
      "Variable types: 0 continuous, 7562 integer (7562 binary)\n",
      "\n",
      "Root relaxation: objective 1.420000e+02, 39 iterations, 0.00 seconds\n",
      "\n",
      "    Nodes    |    Current Node    |     Objective Bounds      |     Work\n",
      " Expl Unexpl |  Obj  Depth IntInf | Incumbent    BestBd   Gap | It/Node Time\n",
      "\n",
      "*    0     0               0     142.0000000  142.00000  0.00%     -    0s\n",
      "\n",
      "Explored 0 nodes (39 simplex iterations) in 0.07 seconds\n",
      "Thread count was 4 (of 4 available processors)\n",
      "\n",
      "Solution count 2: 142 979 \n",
      "\n",
      "Optimal solution found (tolerance 1.00e-04)\n",
      "Best objective 1.420000000000e+02, best bound 1.420000000000e+02, gap 0.0000%\n",
      "Costo total = 142\n",
      "Time =  0.07975006103515625 seconds\n",
      "Optimal path: [(0, 3), (1, 19), (2, 16), (3, 2), (4, 7), (5, 1), (6, 0), (7, 14), (8, 12), (9, 10), (10, 13), (11, 5), (12, 18), (13, 17), (14, 8), (15, 11), (16, 15), (17, 6), (18, 9), (19, 4)]\n"
     ]
    }
   ],
   "source": [
    "def ATSPmcf():\n",
    "    modelo = Model()\n",
    "    \n",
    "    x = tupledict()\n",
    "    for i,j in dist.keys():\n",
    "         x[i,j] = modelo.addVar(obj=dist[i,j], vtype=GRB.BINARY, name='a[%d,%d]'%(i,j))\n",
    "    f = tupledict()\n",
    "    for k in otros:\n",
    "        for i in todos:\n",
    "            for j in todos:\n",
    "                if i!=j:\n",
    "                    f[i,j,k] = modelo.addVar(obj=0, vtype=GRB.BINARY, name='f[%d,%d,%d]'%(i,j,k))\n",
    "        \n",
    "    modelo.addConstrs(sum(x[i,j] for j in todos if j!=i) == 1 for i in todos)\n",
    "    modelo.addConstrs(sum(x[j,i] for j in todos if j!=i) == 1 for i in todos)\n",
    "    modelo.addConstrs(sum(f[0,j,k] for j in otros) == 1 for k in otros)\n",
    "    modelo.addConstrs(sum(f[j,i,k]-f[i,j,k] for j in todos if j!=i) == 0 for i in otros for k in otros if i!=k)\n",
    "    modelo.addConstrs( f[i,j,k] <= x[i,j] for i in otros for j in otros if i!=j for k in otros )\n",
    "#    modelo.addConstrs( f[i,0,k] ==0 for i in otros for k in otros )\n",
    "#    modelo.addConstrs( f[k,i,k] ==0 for i in todos for k in otros if i!=k)\n",
    "\n",
    "    modelo.optimize()\n",
    "\n",
    "    print('Costo total = %g' % modelo.objVal)\n",
    "    print('Time = ',modelo.Runtime, \"seconds\")\n",
    "    vals = modelo.getAttr('x', x )\n",
    "    selected = [(i,j) for i,j in vals.keys() if vals[i,j] > EPS]\n",
    "    print('Optimal path: %s' % str(selected))\n",
    "    \n",
    "ATSPmcf()"
   ]
  },
  {
   "cell_type": "markdown",
   "metadata": {
    "colab_type": "text",
    "id": "GSFK-uWM049d"
   },
   "source": [
    "Mostramos ahora un modelo no compacto, es decir, con un enorme número de restricciones que no pueden ser generadas todas juntas, pero que sí son muy simples de utilizar dinámicamente a medida que van siendo necesarias. Es la formulación propuesta por Dantzig, Fulkerson y Johnson (1954) para el ATSP, y hace uso de las llamadas \"restricciones de eliminación de subtour\" (SEC): $$\\sum_{i,j\\in S} x_{ij} \\leq |S|-1 \\qquad \\forall S \\subset V.$$"
   ]
  },
  {
   "cell_type": "code",
   "execution_count": 3,
   "metadata": {
    "colab": {},
    "colab_type": "code",
    "id": "PqPGkPta049d"
   },
   "outputs": [
    {
     "name": "stdout",
     "output_type": "stream",
     "text": [
      "Academic license - for non-commercial use only\n",
      "Costo total = 155\n",
      "Time =  0.012966156005859375 seconds\n",
      "Optimal path: [(0, 3), (1, 18), (2, 25), (3, 28), (4, 24), (5, 1), (6, 29), (7, 17), (8, 10), (9, 2), (10, 6), (11, 0), (12, 11), (13, 12), (14, 27), (15, 9), (16, 5), (17, 16), (18, 8), (19, 4), (20, 14), (21, 15), (22, 21), (23, 13), (24, 7), (25, 20), (26, 23), (27, 26), (28, 19), (29, 22)]\n"
     ]
    }
   ],
   "source": [
    "modelo = Model()\n",
    "modelo.Params.OutputFlag = 0\n",
    "x = modelo.addVars(dist.keys(), obj=dist, vtype=GRB.BINARY, name='a')\n",
    "\n",
    "def SEC():\n",
    "    vals = modelo.getAttr('x', x)\n",
    "    G = networkx.Graph()\n",
    "    G.add_edges_from( (i,j) for i,j in vals.keys() if vals[i,j]>EPS )\n",
    "    Components = list(networkx.connected_components(G))\n",
    "    if len(Components) == 1:\n",
    "        return False\n",
    "    for S in Components:\n",
    "        modelo.addConstr( quicksum( x[i,j] for i in S for j in S if j!=i ) <= len(S)-1 )\n",
    "    return True\n",
    "\n",
    "def ATSPsec():\n",
    "    modelo.addConstrs(sum(x[i,j] for j in todos if j!=i) == 1 for i in todos)\n",
    "    modelo.addConstrs(sum(x[j,i] for j in todos if j!=i) == 1 for i in todos)\n",
    "\n",
    "    modelo.optimize()\n",
    "    while SEC():\n",
    "        modelo.optimize()\n",
    "\n",
    "    print('Costo total = %g' % modelo.objVal)\n",
    "    print('Time = ',modelo.Runtime, \"seconds\")\n",
    "    vals = modelo.getAttr('x', x)\n",
    "    selected = [(i,j) for i,j in vals.keys() if vals[i,j] > EPS]\n",
    "    print('Optimal path: %s' % str(selected))\n",
    "    \n",
    "ATSPsec()"
   ]
  },
  {
   "cell_type": "markdown",
   "metadata": {
    "colab_type": "text",
    "id": "ZGW8zjqZ049f"
   },
   "source": [
    "Estas desigualdades anteriores son equivalentes a $$\\sum_{i\\in S} \\sum_{j\\not\\in S} x_{ij} \\geq 1 \\qquad \\forall S \\subset V.$$ Notemos que podríamos reducir la cantidad de desigualdades en ambas familias limitándonos sólo a los subconjuntos que no contienen un nodo cualquiera, por ejemplo, $S\\subset V\\setminus\\{1\\}$. No es una gran reducción, pero es válida."
   ]
  },
  {
   "cell_type": "markdown",
   "metadata": {
    "colab_type": "text",
    "id": "HZbxsOmw049f"
   },
   "source": [
    "La implementación anterior resuelve óptimamente cada subproblema, y busca desigualdades que falten sobre cada solución óptima. Es posible adelantarnos a la generación de desigualdades si verificamos no sólo cada solución óptima sino también cada solución entera (óptima o heuristica) que se encuentre en el proceso. Para ello los motores modernos de Programación Lineal (como Gurobi) nos dan las llamadas \"callback functions\":"
   ]
  },
  {
   "cell_type": "code",
   "execution_count": 4,
   "metadata": {
    "colab": {},
    "colab_type": "code",
    "id": "NA6oUO4-049g"
   },
   "outputs": [
    {
     "name": "stdout",
     "output_type": "stream",
     "text": [
      "Costo total = 155\n",
      "Time =  0.04188728332519531 seconds\n",
      "Optimal path: [(0, 3), (1, 18), (2, 25), (3, 28), (4, 24), (5, 1), (6, 29), (7, 17), (8, 10), (9, 2), (10, 6), (11, 0), (12, 11), (13, 12), (14, 27), (15, 9), (16, 5), (17, 16), (18, 8), (19, 4), (20, 14), (21, 15), (22, 21), (23, 13), (24, 7), (25, 20), (26, 23), (27, 26), (28, 19), (29, 22)]\n"
     ]
    }
   ],
   "source": [
    "modelo = Model()\n",
    "modelo.Params.OutputFlag = 0\n",
    "modelo.Params.lazyConstraints = 1\n",
    "x = modelo.addVars(dist.keys(), obj=dist, vtype=GRB.BINARY, name='a')\n",
    "\n",
    "def cbSEC(modelo, where):\n",
    "    if where == GRB.Callback.MIPSOL:\n",
    "        vals = modelo.cbGetSolution(x)           \n",
    "        G = networkx.Graph()\n",
    "        G.add_edges_from( (i,j) for i,j in vals.keys() if vals[i,j]>EPS )\n",
    "        Components = list(networkx.connected_components(G))\n",
    "        if len(Components) == 1:\n",
    "            return False\n",
    "        for S in Components:\n",
    "            modelo.cbLazy( quicksum( x[i,j] for i in S for j in S if j!=i) <= len(S)-1 )\n",
    "    return True\n",
    "\n",
    "def ATSPsecF():\n",
    "    modelo.addConstrs(sum(x[i,j] for j in todos if j!=i) == 1 for i in todos)\n",
    "    modelo.addConstrs(sum(x[j,i] for j in todos if j!=i) == 1 for i in todos)\n",
    "\n",
    "    modelo.optimize(cbSEC)\n",
    "\n",
    "    print('Costo total = %g' % modelo.objVal)\n",
    "    print('Time = ',modelo.Runtime, \"seconds\")\n",
    "    vals = modelo.getAttr('x', x)\n",
    "    selected = [(i,j) for i,j in vals.keys() if vals[i,j] > EPS]\n",
    "    print('Optimal path: %s' % str(selected))\n",
    "    \n",
    "ATSPsecF()"
   ]
  },
  {
   "cell_type": "markdown",
   "metadata": {
    "colab_type": "text",
    "id": "afaQP3Dn049j"
   },
   "source": [
    "La implementación anterior busca desigualdades que falten a partir de soluciones enteras. Pero también es posible buscar a partir de soluciones fraccionarias:"
   ]
  },
  {
   "cell_type": "code",
   "execution_count": 5,
   "metadata": {
    "colab": {},
    "colab_type": "code",
    "id": "qHh6UIYN049k"
   },
   "outputs": [
    {
     "name": "stdout",
     "output_type": "stream",
     "text": [
      "Costo total = 155\n",
      "Time =  0.12865447998046875 seconds\n",
      "Optimal path: [(0, 3), (1, 18), (2, 25), (3, 28), (4, 24), (5, 1), (6, 29), (7, 17), (8, 10), (9, 2), (10, 6), (11, 0), (12, 11), (13, 12), (14, 27), (15, 9), (16, 5), (17, 16), (18, 8), (19, 4), (20, 14), (21, 15), (22, 21), (23, 13), (24, 7), (25, 20), (26, 23), (27, 26), (28, 19), (29, 22)]\n"
     ]
    }
   ],
   "source": [
    "modelo = Model()\n",
    "modelo.Params.OutputFlag = 0\n",
    "modelo.Params.lazyConstraints = 1\n",
    "x = modelo.addVars(dist.keys(), obj=dist, vtype=GRB.BINARY, name='a')\n",
    "\n",
    "def cbSEC(modelo, where):\n",
    "    corte = False\n",
    "    if where == GRB.Callback.MIPSOL:\n",
    "        vals = modelo.cbGetSolution(x)     # verificar UB solutions      \n",
    "        G = networkx.Graph()\n",
    "        G.add_edges_from( (i,j) for i,j in vals.keys() if vals[i,j]>EPS )\n",
    "        Components = list(networkx.connected_components(G))\n",
    "        if len(Components) == 1:\n",
    "            return False\n",
    "        for S in Components:\n",
    "            modelo.cbLazy( quicksum( x[i,j] for i in S for j in S if j!=i) <= len(S)-1 )\n",
    "            corte = True\n",
    "        \n",
    "    if where == GRB.Callback.MIPNODE:\n",
    "        vals = modelo.cbGetNodeRel(x)      # verificar LB solutions\n",
    "        G = networkx.DiGraph()\n",
    "        for i,j in vals.keys():\n",
    "            if vals[i,j]>EPS:\n",
    "                G.add_edge( i, j, capacity = vals[i,j] )\n",
    "            \n",
    "        free = [True]*n\n",
    "        for i in otros :\n",
    "            if free[i]:\n",
    "                cut_value, partition = networkx.minimum_cut(G, 0, i)\n",
    "                if cut_value < 1-EPS:\n",
    "                    non_S, S = partition\n",
    "                    modelo.cbLazy( quicksum( x[i,j] for i in S for j in S if j!=i) <= len(S)-1 ) \n",
    "                    corte = True\n",
    "                    for j in S: free[j] = False\n",
    "    return corte\n",
    "\n",
    "\n",
    "def ATSPsecF():\n",
    "    modelo.addConstrs(sum(x[i,j] for j in todos if j!=i) == 1 for i in todos)\n",
    "    modelo.addConstrs(sum(x[j,i] for j in todos if j!=i) == 1 for i in todos)\n",
    "\n",
    "    modelo.optimize(cbSEC)\n",
    "\n",
    "    print('Costo total = %g' % modelo.objVal)\n",
    "    print('Time = ',modelo.Runtime, \"seconds\")\n",
    "    vals = modelo.getAttr('x', x)\n",
    "    selected = [(i,j) for i,j in vals.keys() if vals[i,j] > EPS]\n",
    "    print('Optimal path: %s' % str(selected))\n",
    "    \n",
    "ATSPsecF()"
   ]
  },
  {
   "cell_type": "markdown",
   "metadata": {
    "colab_type": "text",
    "id": "SxM4poRP4cGL"
   },
   "source": [
    "Para continuar, vamos a visualizar la ruta final. A fin de que se vea algo con sentido, vamos a colocar puntos en el plano y a utilizar las distancias euclídeas entre ellos. Esto genera matrices de costos simétricas, es decir, donde $c_{ij}=c_{ji}$, lo que a su vez permite trabajar con la mitad de las variables y terminar antes. Como contrapartida, resta generalidad porque con este modelo reducido no podremos resolver ejemplos con matrices de costos asimétricos. Centrándonos ahora exclusivamente en distancias Euclideas para con ello \"ver\" la solución, los modelos pasan a ser:"
   ]
  },
  {
   "cell_type": "code",
   "execution_count": 8,
   "metadata": {
    "colab": {},
    "colab_type": "code",
    "id": "ZxKdqDSB049q"
   },
   "outputs": [
    {
     "data": {
      "image/png": "[encoded data removed]",
      "text/plain": [
       "<Figure size 432x288 with 1 Axes>"
      ]
     },
     "metadata": {
      "needs_background": "light"
     },
     "output_type": "display_data"
    }
   ],
   "source": [
    "import random\n",
    "n      = 20\n",
    "todos  = range(n)\n",
    "otros  = range(1,n)\n",
    "random.seed(12345)\n",
    "points = [(random.randint(0,100),random.randint(0,100)) for i in range(n)]\n",
    "EPS    = 0.001\n",
    "\n",
    "import matplotlib.pyplot as plt\n",
    "def dibuja(selected):                #dibuja una ruta dada como una lista de arcos\n",
    "    plt.plot([p[0] for p in points], [p[1] for p in points], 'bo')\n",
    "    for (i,j) in selected:\n",
    "        plt.plot([points[i][0],points[j][0]], [points[i][1],points[j][1]], 'g-')\n",
    "    plt.show()\n",
    "\n",
    "dibuja({})\n",
    "        \n",
    "import math\n",
    "def distance(points, i, j):\n",
    "    dx = points[i][0] - points[j][0]\n",
    "    dy = points[i][1] - points[j][1]\n",
    "    return math.floor(math.sqrt(dx*dx + dy*dy))\n",
    "\n",
    "dist = {(i,j) : distance(points,i,j) for i in range(n) for j in range(i)}"
   ]
  },
  {
   "cell_type": "markdown",
   "metadata": {
    "colab_type": "text",
    "id": "8UrLlN9c049s"
   },
   "source": [
    "Resolvamos el TSP simétrico mediante un algoritmo iterativo que elimina un subciclo en cada iteración mirando la solución entera:"
   ]
  },
  {
   "cell_type": "code",
   "execution_count": 10,
   "metadata": {
    "colab": {},
    "colab_type": "code",
    "id": "z9ty1wUP049t"
   },
   "outputs": [
    {
     "data": {
      "image/png": "[encoded data removed]",
      "text/plain": [
       "<Figure size 432x288 with 1 Axes>"
      ]
     },
     "metadata": {
      "needs_background": "light"
     },
     "output_type": "display_data"
    },
    {
     "name": "stdout",
     "output_type": "stream",
     "text": [
      " subtour:  {2, 4, 5, 6, 14, 18, 19}\n",
      " subtour:  {0, 3, 7, 8, 10, 12, 13}\n",
      " subtour:  {16, 9, 11}\n",
      " subtour:  {1, 17, 15}\n"
     ]
    },
    {
     "data": {
      "image/png": "[encoded data removed]",
      "text/plain": [
       "<Figure size 432x288 with 1 Axes>"
      ]
     },
     "metadata": {
      "needs_background": "light"
     },
     "output_type": "display_data"
    },
    {
     "name": "stdout",
     "output_type": "stream",
     "text": [
      " subtour:  {0, 1, 2, 3, 4, 5, 6, 7, 8, 10, 12, 13, 15, 17, 18, 19}\n",
      " subtour:  {16, 9, 11, 14}\n"
     ]
    },
    {
     "data": {
      "image/png": "[encoded data removed]",
      "text/plain": [
       "<Figure size 432x288 with 1 Axes>"
      ]
     },
     "metadata": {
      "needs_background": "light"
     },
     "output_type": "display_data"
    },
    {
     "name": "stdout",
     "output_type": "stream",
     "text": [
      "Costo total = 356  in  0.00099945068359375 seconds\n",
      "Optimal path: [(4, 2), (5, 2), (8, 3), (9, 6), (10, 0), (10, 8), (11, 9), (12, 0), (12, 7), (13, 7), (14, 4), (15, 1), (16, 11), (16, 14), (17, 1), (17, 3), (18, 5), (18, 15), (19, 6), (19, 13)]\n"
     ]
    },
    {
     "data": {
      "image/png": "[encoded data removed]",
      "text/plain": [
       "<Figure size 432x288 with 1 Axes>"
      ]
     },
     "metadata": {
      "needs_background": "light"
     },
     "output_type": "display_data"
    }
   ],
   "source": [
    "modelo = Model()\n",
    "modelo.Params.OutputFlag = 0\n",
    "x = modelo.addVars(dist.keys(), obj=dist, vtype=GRB.BINARY, name='e')\n",
    "\n",
    "def SEC():\n",
    "    \n",
    "    vals = modelo.getAttr('x', x)\n",
    "    selected = [ (i,j) for i,j in vals.keys() if vals[i,j] > EPS ]\n",
    "    dibuja(selected)\n",
    "    \n",
    "    G = networkx.Graph()\n",
    "    G.add_edges_from( (i,j) for i,j in vals.keys() if vals[i,j]>EPS )\n",
    "    Components = list(networkx.connected_components(G))\n",
    "    if len(Components) == 1:\n",
    "        return False\n",
    "    for S in Components:\n",
    "        print(\" subtour: \",S)\n",
    "        modelo.addConstr( quicksum( x[i,j] for i in S for j in S if j<i ) <= len(S)-1 )\n",
    "    return True\n",
    "\n",
    "def TSP1():\n",
    "    modelo.addConstrs( x.sum(i,'*') + x.sum('*',i) == 2 for i in todos )\n",
    "\n",
    "    modelo.optimize()\n",
    "    while SEC():\n",
    "        modelo.optimize()\n",
    "\n",
    "    print('Costo total = %g' % modelo.objVal , \" in \",modelo.Runtime, \"seconds\")\n",
    "    vals = modelo.getAttr('x', x)\n",
    "    selected = [(i,j) for i,j in vals.keys() if vals[i,j] > EPS]\n",
    "    print('Optimal path: %s' % str(selected))\n",
    "    dibuja(selected)\n",
    "    \n",
    "TSP1()"
   ]
  },
  {
   "cell_type": "markdown",
   "metadata": {
    "colab_type": "text",
    "id": "6O5Q5V5z049u"
   },
   "source": [
    "Podemos hacer algo incluso mejor: resolvemos primero el nodo raiz asegurándonos de eliminar los primeros subciclos, y luego continuar igual pero con las soluciones enteras:\n",
    "    "
   ]
  },
  {
   "cell_type": "code",
   "execution_count": 14,
   "metadata": {
    "colab": {},
    "colab_type": "code",
    "id": "rbX0UgLl049v"
   },
   "outputs": [
    {
     "name": "stdout",
     "output_type": "stream",
     "text": [
      "Costo total = 356  in  0.00099945068359375 seconds\n",
      "Optimal path: [(4, 2), (5, 2), (8, 3), (9, 6), (10, 0), (10, 8), (11, 9), (12, 0), (12, 7), (13, 7), (14, 4), (15, 1), (16, 11), (16, 14), (17, 1), (17, 3), (18, 5), (18, 15), (19, 6), (19, 13)]\n"
     ]
    },
    {
     "data": {
      "image/png": "[encoded data removed]",
      "text/plain": [
       "<Figure size 432x288 with 1 Axes>"
      ]
     },
     "metadata": {
      "needs_background": "light"
     },
     "output_type": "display_data"
    }
   ],
   "source": [
    "modelo = Model()\n",
    "modelo.Params.OutputFlag = 0\n",
    "x = modelo.addVars(dist.keys(), lb=0.0, ub=1.0, obj=dist, vtype=GRB.CONTINUOUS, name='e')\n",
    "\n",
    "def SEC1():\n",
    "    vals = modelo.getAttr('x', x)\n",
    "    G = networkx.Graph()\n",
    "    G.add_edges_from( (i,j) for i,j in vals.keys() if vals[i,j]>EPS)\n",
    "    Components = list(networkx.connected_components(G))\n",
    "    if len(Components) == 1:\n",
    "        return False\n",
    "    for S in Components:\n",
    "        modelo.addConstr( quicksum( x[i,j] for i in S for j in S if j<i) <= len(S)-1 )\n",
    "    return True\n",
    "    \n",
    "def SEC2():\n",
    "    vals = modelo.getAttr('x', x)\n",
    "    G = networkx.Graph()\n",
    "    for i,j in vals.keys():\n",
    "        if vals[i,j]>EPS:\n",
    "            G.add_edge( i, j, capacity = vals[i,j] )\n",
    "           \n",
    "    corte = False\n",
    "    free = [True]*n\n",
    "    for i in otros :\n",
    "        if free[i]:\n",
    "            cut_value, partition = networkx.minimum_cut(G, 0, i)\n",
    "            if cut_value < 2-EPS:\n",
    "                non_S, S = partition\n",
    "                modelo.addConstr( quicksum( x[i,j] for i in S for j in S if j<i) <= len(S)-1 ) \n",
    "                corte = True\n",
    "                for j in S: free[j] = False\n",
    "    return corte\n",
    "\n",
    "def TSP2():\n",
    "    modelo.addConstrs( x.sum(i,'*') + x.sum('*',i) == 2 for i in todos )\n",
    "\n",
    "    modelo.optimize()\n",
    "    while SEC2():\n",
    "        modelo.optimize()\n",
    "        \n",
    "    for v in modelo.getVars(): v.vtype = GRB.BINARY     # antes problemas continuos ; después problemas enteros\n",
    "    \n",
    "    modelo.optimize()\n",
    "    while SEC1():\n",
    "        modelo.optimize()\n",
    "\n",
    "    print('Costo total = %g' % modelo.objVal , \" in \",modelo.Runtime, \"seconds\")\n",
    "    vals = modelo.getAttr('x', x)\n",
    "    selected = [(i,j) for i,j in vals.keys() if vals[i,j] > EPS]\n",
    "    print('Optimal path: %s' % str(selected))\n",
    "    dibuja(selected)\n",
    "    \n",
    "TSP2()"
   ]
  },
  {
   "cell_type": "markdown",
   "metadata": {
    "colab_type": "text",
    "id": "JRlQQqrA049x"
   },
   "source": [
    "Resolvamos ahora el mismo TSP simétrico pero insertando cortes sobre todas las soluciones enteras que va encontrando también durante el proceso. Para esto necesitamos utilizar las llamadas funciones \"callback\":"
   ]
  },
  {
   "cell_type": "code",
   "execution_count": 16,
   "metadata": {
    "colab": {},
    "colab_type": "code",
    "id": "Snam4hT453Ng"
   },
   "outputs": [
    {
     "name": "stdout",
     "output_type": "stream",
     "text": [
      "Costo total = 356  in  0.002994537353515625 seconds\n",
      "Optimal path: [(4, 2), (5, 2), (8, 3), (9, 6), (10, 0), (10, 8), (11, 9), (12, 0), (12, 7), (13, 7), (14, 4), (15, 1), (16, 11), (16, 14), (17, 1), (17, 3), (18, 5), (18, 15), (19, 6), (19, 13)]\n"
     ]
    },
    {
     "data": {
      "image/png": "[encoded data removed]",
      "text/plain": [
       "<Figure size 432x288 with 1 Axes>"
      ]
     },
     "metadata": {
      "needs_background": "light"
     },
     "output_type": "display_data"
    }
   ],
   "source": [
    "modelo = Model()\n",
    "modelo.Params.OutputFlag = 0\n",
    "modelo.Params.lazyConstraints = 1\n",
    "x = modelo.addVars(dist.keys(), obj=dist, vtype=GRB.BINARY, name='e')\n",
    "\n",
    "def cbSEC1(modelo, where):\n",
    "    if where == GRB.Callback.MIPSOL:\n",
    "        vals = modelo.cbGetSolution(x)           \n",
    "        G = networkx.Graph()\n",
    "        G.add_edges_from( (i,j) for i,j in vals.keys() if vals[i,j]>EPS )\n",
    "        Components = list(networkx.connected_components(G))\n",
    "        if len(Components) == 1:\n",
    "            return False\n",
    "        for S in Components:\n",
    "            modelo.cbLazy( quicksum( x[i,j] for i in S for j in S if j<i) <= len(S)-1 )\n",
    "    return True\n",
    "\n",
    "def TSP3():\n",
    "    modelo.addConstrs( x.sum(i,'*') + x.sum('*',i) == 2 for i in todos )\n",
    "\n",
    "    modelo.optimize(cbSEC1)\n",
    "\n",
    "    print('Costo total = %g' % modelo.objVal , \" in \",modelo.Runtime, \"seconds\")\n",
    "    vals = modelo.getAttr('x', x)\n",
    "    selected = [(i,j) for i,j in vals.keys() if vals[i,j] > EPS]\n",
    "    print('Optimal path: %s' % str(selected))\n",
    "    dibuja(selected)\n",
    "    \n",
    "TSP3()"
   ]
  },
  {
   "cell_type": "markdown",
   "metadata": {
    "colab_type": "text",
    "id": "_fcr21ZK049z"
   },
   "source": [
    "Por último, resolvamos el mismo problema pero evaluando el corte también sobre cada solución fraccionaria, lo que requiere calcular un \"min-cut problem\":"
   ]
  },
  {
   "cell_type": "code",
   "execution_count": 17,
   "metadata": {
    "colab": {},
    "colab_type": "code",
    "id": "I0Re_hjc0491"
   },
   "outputs": [
    {
     "name": "stdout",
     "output_type": "stream",
     "text": [
      "Costo total = 356  in  0.0050029754638671875 seconds\n",
      "Optimal path: [(4, 2), (5, 2), (8, 3), (9, 6), (10, 0), (10, 8), (11, 9), (12, 0), (12, 7), (13, 7), (14, 4), (15, 1), (16, 11), (16, 14), (17, 1), (17, 3), (18, 5), (18, 15), (19, 6), (19, 13)]\n"
     ]
    },
    {
     "data": {
      "image/png": "[encoded data removed]",
      "text/plain": [
       "<Figure size 432x288 with 1 Axes>"
      ]
     },
     "metadata": {
      "needs_background": "light"
     },
     "output_type": "display_data"
    }
   ],
   "source": [
    "modelo = Model()\n",
    "modelo.Params.OutputFlag = 0\n",
    "modelo.Params.lazyConstraints = 1\n",
    "x = modelo.addVars(dist.keys(), obj=dist, vtype=GRB.BINARY, name='e')\n",
    "\n",
    "def cbSEC2(modelo, where):\n",
    "    corte = False\n",
    "    if where == GRB.Callback.MIPSOL:\n",
    "        vals = modelo.cbGetSolution(x)     # verificar UB solutions      \n",
    "        G = networkx.Graph()\n",
    "        G.add_edges_from( (i,j) for i,j in vals.keys() if vals[i,j]>EPS )\n",
    "        Components = list(networkx.connected_components(G))\n",
    "        if len(Components) == 1:\n",
    "            return False\n",
    "        for S in Components:\n",
    "            modelo.cbLazy( quicksum( x[i,j] for i in S for j in S if j<i) <= len(S)-1 )\n",
    "            corte = True\n",
    "        \n",
    "    if where == GRB.Callback.MIPNODE:\n",
    "        vals = modelo.cbGetNodeRel(x)      # verificar LB solutions\n",
    "        G = networkx.Graph()\n",
    "        for i,j in vals.keys():\n",
    "            if vals[i,j]>EPS:\n",
    "                G.add_edge( i, j, capacity = vals[i,j] )\n",
    "            \n",
    "        free = [True]*n\n",
    "        for i in otros :\n",
    "            if free[i]:\n",
    "                cut_value, partition = networkx.minimum_cut(G, 0, i)\n",
    "                if cut_value < 2-EPS:\n",
    "                    non_S, S = partition\n",
    "                    modelo.cbLazy( quicksum( x[i,j] for i in S for j in S if j<i) <= len(S)-1 ) \n",
    "                    corte = True\n",
    "                    for j in S: free[j] = False\n",
    "    return corte\n",
    "\n",
    "def TSP4():\n",
    "    modelo.addConstrs( x.sum(i,'*') + x.sum('*',i) == 2 for i in todos )\n",
    "\n",
    "    modelo.optimize(cbSEC2)\n",
    "\n",
    "    print('Costo total = %g' % modelo.objVal , \" in \",modelo.Runtime, \"seconds\")\n",
    "    vals = modelo.getAttr('x', x)\n",
    "    selected = [(i,j) for i,j in vals.keys() if vals[i,j] > 0.5]\n",
    "    print('Optimal path: %s' % str(selected))\n",
    "    dibuja(selected)\n",
    "\n",
    "TSP4()"
   ]
  },
  {
   "cell_type": "markdown",
   "metadata": {
    "colab_type": "text",
    "id": "FwD8caNf0495"
   },
   "source": [
    "Veamos ahora otras variantes del TSP."
   ]
  },
  {
   "cell_type": "markdown",
   "metadata": {
    "colab_type": "text",
    "id": "rAFCG-i_x1M1"
   },
   "source": [
    "# TSP con ventanas temporales"
   ]
  },
  {
   "cell_type": "code",
   "execution_count": 29,
   "metadata": {
    "colab": {},
    "colab_type": "code",
    "id": "zdoSYn0p0496"
   },
   "outputs": [
    {
     "name": "stdout",
     "output_type": "stream",
     "text": [
      "cost: {(0, 1): 7, (0, 2): 1, (0, 3): 5, (0, 4): 6, (1, 0): 4, (1, 2): 5, (1, 3): 10, (1, 4): 7, (2, 0): 3, (2, 1): 6, (2, 3): 2, (2, 4): 7, (3, 0): 5, (3, 1): 9, (3, 2): 3, (3, 4): 10, (4, 0): 9, (4, 1): 3, (4, 2): 6, (4, 3): 2}\n",
      "t: {(0, 1): 100, (0, 2): 100, (0, 3): 100, (0, 4): 100, (1, 0): 100, (1, 2): 100, (1, 3): 100, (1, 4): 100, (2, 0): 100, (2, 1): 100, (2, 3): 100, (2, 4): 100, (3, 0): 100, (3, 1): 100, (3, 2): 100, (3, 4): 100, (4, 0): 100, (4, 1): 100, (4, 2): 100, (4, 3): 100}\n",
      "s: {0: 100, 1: 100, 2: 100, 3: 100, 4: 100}\n",
      "Wall time = 26 ms\n",
      "Número de variables = 24\n",
      "Número de restricciones = 26\n",
      "Costo total = 25.0\n",
      "0 -c(6)-> 4 -c(2)-> 3 -c(9)-> 1 -c(5)-> 2 -c(3)-> 0\n"
     ]
    }
   ],
   "source": [
    "from ortools.linear_solver import pywraplp\n",
    "import random as rand\n",
    "\n",
    "solver = pywraplp.Solver('TSP Time Windows', pywraplp.Solver.CBC_MIXED_INTEGER_PROGRAMMING)\n",
    "\n",
    "# x and y are integer non-negative variables.\n",
    "nodes = 5\n",
    "rand.seed(12345)\n",
    "cost = { (i,j): rand.randint(1,10) for i in range(nodes) for j in range(nodes) if i!=j}\n",
    "e = [1400, 900, 1200, 800, 700]\n",
    "l = [1400, 1100, 1300, 1000, 900]\n",
    "t = {(i,j): 100 for i in range(nodes) for j in range(nodes) if i!=j}\n",
    "s ={i: 100 for i in range(nodes)}\n",
    "\n",
    "print(\"cost:\",cost)\n",
    "print(\"t:\",t)\n",
    "print(\"s:\",s)\n",
    "x = {}\n",
    "for i in range(nodes):\n",
    "    for j in range(nodes):\n",
    "        if i!=j:\n",
    "            x[i, j] = solver.BoolVar('x[%i, %i]' % (i, j))\n",
    "\n",
    "u = {}\n",
    "for i in range(1,nodes):\n",
    "    u[i] = solver.IntVar(1.0,solver.infinity(),'u[%i]' % (i))\n",
    "\n",
    "solver.Minimize(solver.Sum([cost[i,j]*x[i,j] for i in range(nodes) for j in range(nodes) if i!=j]))\n",
    "\n",
    "for i in range(nodes):\n",
    "    solver.Add(solver.Sum([x[i,j] for j in range(nodes) if i!=j]) == 1)\n",
    "\n",
    "for j in range(nodes):\n",
    "    solver.Add(solver.Sum([x[i,j] for i in range(nodes) if i!=j]) == 1)\n",
    "\n",
    "for i in range(1,nodes):\n",
    "    solver.Add(e[i]<=u[i]<=l[i])\n",
    "\n",
    "for i in range(1,nodes):\n",
    "    for j in range(1,nodes):\n",
    "        if i!=j:\n",
    "            solver.Add(u[j]>=u[i]+(s[i]+t[i,j])*x[i,j]-(l[i]-e[j])*(1-x[i,j]))\n",
    "\n",
    "sol = solver.Solve()\n",
    "if sol == solver.OPTIMAL:\n",
    "    print('Wall time = ' + str(solver.WallTime()) + ' ms')\n",
    "    print('Número de variables =', solver.NumVariables())\n",
    "    print('Número de restricciones =', solver.NumConstraints())\n",
    "    print('Costo total =', solver.Objective().Value())\n",
    "    recorrido = '0'\n",
    "    i=0\n",
    "    while i != -1:\n",
    "        for j in range(nodes):\n",
    "            if i!=j:\n",
    "                if x[i, j].solution_value() > 0:\n",
    "                    recorrido += ' -c(' + str(cost[i,j]) +')-> ' + str(j)\n",
    "                    aux = j\n",
    "        if aux != 0:\n",
    "            i = aux\n",
    "        else:\n",
    "            i = -1\n",
    "    print(recorrido)"
   ]
  },
  {
   "cell_type": "markdown",
   "metadata": {
    "colab_type": "text",
    "id": "ohhPTnKt0498"
   },
   "source": [
    "# TSP con relaciones de precedencia"
   ]
  },
  {
   "cell_type": "code",
   "execution_count": null,
   "metadata": {
    "colab": {},
    "colab_type": "code",
    "id": "4nMLfT6m0499"
   },
   "outputs": [],
   "source": [
    "from ortools.linear_solver import pywraplp\n",
    "import random as rand\n",
    "\n",
    "solver = pywraplp.Solver('Precedencias', pywraplp.Solver.CBC_MIXED_INTEGER_PROGRAMMING)\n",
    "\n",
    "# x and y are integer non-negative variables.\n",
    "nodes = 10\n",
    "rand.seed(12345)\n",
    "cost = { (i,j): rand.randint(10,100) for i in range(nodes) for j in range(nodes) if i!=j}\n",
    "x = {}\n",
    "for i in range(nodes):\n",
    "    for j in range(nodes):\n",
    "        if i!=j:\n",
    "            x[i, j] = solver.BoolVar('x[%i, %i]' % (i, j))\n",
    "v = {}\n",
    "for i in range(1, nodes):\n",
    "    for j in range(1, nodes):\n",
    "        if i != j:\n",
    "            v[i, j] = solver.BoolVar('v[%i, %i]' % (i, j))\n",
    "\n",
    "# Aqui se almacenarán las precedencias que se deseen\n",
    "precedencias = [[3,2],[1,2]]\n",
    "\n",
    "solver.Minimize(solver.Sum([cost[i,j]*x[i,j] for i in range(nodes) for j in range(nodes) if i!=j]))\n",
    "\n",
    "for i in range(nodes):\n",
    "    solver.Add(solver.Sum([x[i,j] for j in range(nodes) if i!=j]) == 1)\n",
    "\n",
    "for j in range(nodes):\n",
    "    solver.Add(solver.Sum([x[i,j] for i in range(nodes) if i!=j]) == 1)\n",
    "\n",
    "for i in range(1,nodes):\n",
    "    for j in range(1,nodes):\n",
    "        if i != j:\n",
    "            solver.Add((v[i,j]+v[j,i]) == 1)\n",
    "\n",
    "for i in range(1,nodes):\n",
    "    for j in range(1,nodes):\n",
    "        if i != j:\n",
    "            for k in range(1, nodes):\n",
    "                if (k != i) & (k != j):\n",
    "                    solver.Add( v[i,j]+v[j,k] <= v[i,k]+1 )\n",
    "\n",
    "for i in range(1,nodes):\n",
    "    for j in range(1,nodes):\n",
    "        if i != j:\n",
    "            solver.Add(x[i,j] <= v[i,j])\n",
    "\n",
    "for p in precedencias:\n",
    "    solver.Add(v[p[0],p[1]] == 1)\n",
    "\n",
    "sol = solver.Solve()\n",
    "if sol == solver.OPTIMAL:\n",
    "    print('Wall time = ' + str(solver.WallTime()) + ' ms')\n",
    "    print('Número de variables =', solver.NumVariables())\n",
    "    print('Número de restricciones =', solver.NumConstraints())\n",
    "    print('Costo total =', solver.Objective().Value())\n",
    "    recorrido = '0'\n",
    "    i=0\n",
    "    while i != -1:\n",
    "        for j in range(nodes):\n",
    "            if i!=j:\n",
    "                if x[i, j].solution_value() > 0:\n",
    "                    recorrido += ' -c(' + str(cost[i,j]) +')-> ' + str(j)\n",
    "                    aux = j\n",
    "        if aux != 0:\n",
    "            i = aux\n",
    "        else:\n",
    "            i = -1\n",
    "    print(recorrido)    "
   ]
  },
  {
   "cell_type": "markdown",
   "metadata": {
    "colab_type": "text",
    "id": "tExJsykC049_"
   },
   "source": [
    "# TSP con recogidas y entregas de una mercancía"
   ]
  },
  {
   "cell_type": "code",
   "execution_count": null,
   "metadata": {
    "colab": {},
    "colab_type": "code",
    "id": "pBDLYi_7049_"
   },
   "outputs": [],
   "source": [
    "from ortools.linear_solver import pywraplp\n",
    "import random as rand\n",
    "\n",
    "solver = pywraplp.Solver('TSPrecogidasYEntregas1Mercancia', pywraplp.Solver.CBC_MIXED_INTEGER_PROGRAMMING)\n",
    "\n",
    "nodes = 10\n",
    "cost = { (i,j): rand.randint(10,100) for i in range(nodes) for j in range(nodes) if i!=j}\n",
    "rand.seed(42)\n",
    "\n",
    "# Demandas\n",
    "aux = 0\n",
    "d = []\n",
    "for i in range(1,nodes):\n",
    "    x = rand.randint(-10,10)\n",
    "    d.append(x)\n",
    "    aux+=x\n",
    "d.append(-aux)\n",
    "# NOTA\n",
    "# Al hacerlo aleatorio, para saber la demanda del primer nodo se está\n",
    "# haciendo una suma de la demanda de todos los nodos y luego poniéndose\n",
    "# la inversa de este número como la demanda del almacén.\n",
    "# Por esto hay que controlar manualmente la Q (carga máxima del camión),\n",
    "# pues esta ha de ser mayor que las demandas y la demanda del almacen\n",
    "# puede ser muy alta por lo previamente explicado.\n",
    "# Carga máxima del camión\n",
    "Q = 26\n",
    "\n",
    "print(\"Demandas:\",d)\n",
    "print(\"Q:\",Q)\n",
    "\n",
    "x = { (i,j): solver.BoolVar('x[%i, %i]' % (i, j)) for i in range(nodes) for j in range(nodes) if i!=j}\n",
    "f = {}\n",
    "for i in range(nodes):\n",
    "    for j in range(nodes):\n",
    "        if i!=j:\n",
    "            f[i, j] = solver.IntVar(0.0,solver.infinity(),'f[%i, %i]' % (i, j))\n",
    "u = {}\n",
    "for i in range(1,nodes):\n",
    "    u[i] = solver.IntVar(1.0,solver.infinity(),'u[%i]' % (i))\n",
    "\n",
    "solver.Minimize(solver.Sum([cost[i,j]*x[i,j] for i in range(nodes) for j in range(nodes) if i!=j]))\n",
    "\n",
    "for i in range(nodes):\n",
    "    solver.Add(solver.Sum([x[i,j] for j in range(nodes) if i!=j]) == 1)\n",
    "\n",
    "for j in range(nodes):\n",
    "    solver.Add(solver.Sum([x[i,j] for i in range(nodes) if i!=j]) == 1)\n",
    "\n",
    "for i in range(1,nodes):\n",
    "    for j in range(1,nodes):\n",
    "        if i!=j:\n",
    "            solver.Add(u[j]>=(u[i]+x[i,j]-(nodes-2)*(1-x[i,j])+(nodes-3)*x[j,i]))\n",
    "\n",
    "for i in range(nodes):\n",
    "    solver.Add((solver.Sum([f[j,i] for j in range(nodes) if i!=j])-solver.Sum([f[i,j] for j in range(nodes) if i!=j])) == d[i])\n",
    "for i in range(nodes):\n",
    "    for j in range(nodes):\n",
    "        if i!=j:\n",
    "            solver.Add(0<=f[i,j]<=Q*x[i,j])\n",
    "\n",
    "sol = solver.Solve()\n",
    "if sol == solver.OPTIMAL:\n",
    "    print('Wall time = ' + str(solver.WallTime()) + ' ms')\n",
    "    print('Número de variables =', solver.NumVariables())\n",
    "    print('Número de restricciones =', solver.NumConstraints())\n",
    "    print('Costo total =', solver.Objective().Value())\n",
    "    recorrido = '0'\n",
    "    i=0\n",
    "    while i != -1:\n",
    "        for j in range(nodes):\n",
    "            if i!=j:\n",
    "                if x[i, j].solution_value() > 0:\n",
    "                    \"\"\" recorrido += ' -c(' + str(cost[i][j]) +')-> ' + str(j) \"\"\"\n",
    "                    recorrido += ' --f(' + str(f[i,j].solution_value()) +'),c(' + str(cost[i,j]) +')--> ' + str(j)\n",
    "                    aux = j\n",
    "        if aux != 0:\n",
    "            i = aux\n",
    "        else:\n",
    "            i = -1\n",
    "    print(recorrido)"
   ]
  },
  {
   "cell_type": "markdown",
   "metadata": {
    "colab_type": "text",
    "id": "IHJ4A4lH04-B"
   },
   "source": [
    "# TSP con varias pilas"
   ]
  },
  {
   "cell_type": "markdown",
   "metadata": {
    "colab_type": "text",
    "id": "IRcjoZHV04-C"
   },
   "source": [
    "Asumamos ahora una empresa que se dedica a recoger pallets desde $n$ lugares de Tenerife para entregarlos luego en otros $n$ lugares en Gran Canaria. Concretamente, pensemos en un camión que arrastra un contenedor inicialmente vacío. Cada cliente en Tenerife entrega al camión 1 pallet, que entre en el contenedor por detrás situándose en una de las $m$ pilas del contenedor. No se pueden reorganizar los pallets ni al recogerlos ni al entregarlos. Sólo se pueden apilar por detras los pallets, y recoger por detrás los pallets. En Tenerife el camión debe hacer una ruta para ir recogiéndolo, y en Gran Ganaria otra ruta para ir entregando. El contenedor permite hasta $m \\times q$ pallets, siendo $m$ el número de pilas (columnas) y $q$ la cantidad máxima de pallets por pila (filas), asumiendo $n\\leq m \\times q$. Se buscan las dos rutas de coste total mínimo. Observemos que el caso $m=1$ equivale a resolver un TSP, mientras que cuando $m>1$ la situación se complica:"
   ]
  },
  {
   "cell_type": "code",
   "execution_count": null,
   "metadata": {
    "colab": {},
    "colab_type": "code",
    "id": "hTEiKEu004-D"
   },
   "outputs": [],
   "source": [
    "from ortools.linear_solver import pywraplp\n",
    "import random as rand\n",
    "\n",
    "solver = pywraplp.Solver('TSP2', pywraplp.Solver.CBC_MIXED_INTEGER_PROGRAMMING)\n",
    "\n",
    "# x and y are integer non-negative variables.\n",
    "nodes = 10\n",
    "pilas = 3\n",
    "q = 5\n",
    "rand.seed(42)\n",
    "cost_t = { (i,j): rand.randint(10,100) for i in range(nodes) for j in range(nodes) if i!=j}\n",
    "cost_g = { (i,j): rand.randint(10,100) for i in range(nodes) for j in range(nodes) if i!=j}\n",
    "\n",
    "x_t = { (i,j): solver.BoolVar('x_t[%i, %i]' % (i, j)) for i in range(nodes) for j in range(nodes) if i!=j}\n",
    "x_g = { (i,j): solver.BoolVar('x_g[%i, %i]' % (i, j)) for i in range(nodes) for j in range(nodes) if i!=j}\n",
    "\n",
    "v_t = { (i,j): solver.BoolVar('v_t[%i, %i]' % (i, j)) for i in range(1,nodes) for j in range(1,nodes) if i!=j}\n",
    "v_g = { (i,j): solver.BoolVar('v_g[%i, %i]' % (i, j)) for i in range(1,nodes) for j in range(1,nodes) if i!=j}\n",
    "\n",
    "z = { (i,k): solver.BoolVar('z[%i, %i]' % (i, k)) for i in range(1,nodes) for k in range(pilas)}\n",
    "\n",
    "solver.Minimize(solver.Sum([cost_t[i,j]*x_t[i,j] for i in range(nodes) for j in range(nodes) if i!=j])+solver.Sum([cost_g[i,j]*x_g[i,j] for i in range(nodes) for j in range(nodes) if i!=j]))\n",
    "\n",
    "for i in range(nodes):\n",
    "    solver.Add(solver.Sum([x_t[i,j] for j in range(nodes) if i!=j]) == 1)\n",
    "\n",
    "for j in range(nodes):\n",
    "    solver.Add(solver.Sum([x_t[i,j] for i in range(nodes) if i!=j]) == 1)\n",
    "\n",
    "for i in range(nodes):\n",
    "    solver.Add(solver.Sum([x_g[i,j] for j in range(nodes) if i!=j]) == 1)\n",
    "\n",
    "for j in range(nodes):\n",
    "    solver.Add(solver.Sum([x_g[i,j] for i in range(nodes) if i!=j]) == 1)\n",
    "\n",
    "for i in range(1,nodes):\n",
    "    for j in range(1,nodes):\n",
    "        if i != j:\n",
    "            solver.Add((v_t[i,j]+v_t[j,i]) == 1)\n",
    "            solver.Add((v_g[i,j]+v_g[j,i]) == 1)\n",
    "\n",
    "for i in range(1,nodes):\n",
    "    for j in range(1,nodes):\n",
    "        if i != j:\n",
    "            for k in range(1, nodes):\n",
    "                if (k != i) & (k != j):\n",
    "                    solver.Add( v_t[i,j]+v_t[j,k] <= v_t[i,k]+1 )\n",
    "                    solver.Add( v_g[i,j]+v_g[j,k] <= v_g[i,k]+1 )\n",
    "\n",
    "for i in range(1,nodes):\n",
    "    for j in range(1,nodes):\n",
    "        if i != j:\n",
    "            solver.Add(x_t[i,j] <= v_t[i,j])\n",
    "            solver.Add(x_g[i,j] <= v_g[i,j])\n",
    "\n",
    "for i in range(1,nodes):\n",
    "    for k in range(pilas):\n",
    "        solver.Add(z[i,k] == 1)\n",
    "        solver.Add(z[i,k] <= q)\n",
    "\n",
    "for i in range(1,nodes):\n",
    "    for j in range(1,nodes):\n",
    "        if i!=j:\n",
    "            for k in range(pilas):\n",
    "                solver.Add(v_t[i,j]+v_g[i,j]+z[i,k]+z[j,k] <= 3)\n",
    "\n",
    "sol = solver.Solve()\n",
    "if sol == solver.OPTIMAL:\n",
    "    print('Wall time = ' + str(solver.WallTime()) + ' ms')\n",
    "    print('Número de variables =', solver.NumVariables())\n",
    "    print('Número de restricciones =', solver.NumConstraints())\n",
    "    print('Costo total =', solver.Objective().Value())\n",
    "    recorrido = '0'\n",
    "    i=0\n",
    "    while i != -1:\n",
    "        for j in range(nodes):\n",
    "            if i!=j:\n",
    "                if x_t[i, j].solution_value() > 0:\n",
    "                    recorrido += ' -c(' + str(cost_t[i,j]) +')-> ' + str(j)\n",
    "                    aux = j\n",
    "        if aux != 0:\n",
    "            i = aux\n",
    "        else:\n",
    "            i = -1\n",
    "    print(\"T ::: \" + recorrido)\n",
    "    recorrido = '0'\n",
    "    i=0\n",
    "    while i != -1:\n",
    "        for j in range(nodes):\n",
    "            if i!=j:\n",
    "                if x_g[i, j].solution_value() > 0:\n",
    "                    recorrido += ' -c(' + str(cost_g[i,j]) +')-> ' + str(j)\n",
    "                    aux = j\n",
    "        if aux != 0:\n",
    "            i = aux\n",
    "        else:\n",
    "            i = -1\n",
    "    print(\"G ::: \" + recorrido)"
   ]
  },
  {
   "cell_type": "markdown",
   "metadata": {
    "colab_type": "text",
    "id": "yRnm77pe04-F"
   },
   "source": [
    "# TSP con visitas consistentes"
   ]
  },
  {
   "cell_type": "code",
   "execution_count": null,
   "metadata": {
    "colab": {},
    "colab_type": "code",
    "id": "MVBU792L04-F"
   },
   "outputs": [],
   "source": [
    "m = 4   # number of days\n",
    "n = 50  # number of locations\n",
    "ñ = 45  # number of customers in each day\n",
    "L = 50  # maximum difference for consistency\n",
    "EPS = 0.001\n",
    "\n",
    "days      = range(m)\n",
    "locations = range(n)\n",
    "customers = range(1,n)\n",
    "\n",
    "import random\n",
    "random.seed(12345)\n",
    "points = [(random.randint(0,100),random.randint(0,100)) for i in range(n)]\n",
    "\n",
    "V = {}\n",
    "D = {}\n",
    "for i in customers: D[i] = []\n",
    "for d in days:\n",
    "    V[d] = random.sample(customers,ñ)\n",
    "    for i in V[d]: D[i].append(d)\n",
    "    V[d].append(0)\n",
    "     \n",
    "import math\n",
    "def distance(points, i, j):\n",
    "    dx = points[i][0] - points[j][0]\n",
    "    dy = points[i][1] - points[j][1]\n",
    "    return math.floor(math.sqrt(dx*dx + dy*dy))\n",
    "\n",
    "dist = {(i,j) : distance(points,i,j) for i in locations for j in locations if i!=j}\n",
    "\n",
    "import matplotlib.pyplot as plt\n",
    "def dibuja(selected):                #dibuja una ruta dada como una lista de arcos\n",
    "    plt.plot([p[0] for p in points], [p[1] for p in points], 'bo')\n",
    "    plt.plot( points[0][0] , points[0][1] , 'rs')\n",
    "    for (i,j) in selected:\n",
    "        plt.plot([points[i][0],points[j][0]], [points[i][1],points[j][1]], 'g-')\n",
    "    plt.show()\n",
    "        \n",
    "dibuja({})\n",
    "from gurobipy import *\n",
    "\n",
    "modelo = Model()\n",
    "x = tupledict()\n",
    "for d in days:\n",
    "    for i in V[d]:\n",
    "        for j in V[d]:\n",
    "            if i!=j :\n",
    "                x[i,j,d] = modelo.addVar(obj=dist[i,j], vtype=GRB.BINARY, name='a[%d,%d,%d]'%(i,j,d))\n",
    "f = tupledict()\n",
    "\n",
    "import networkx as nx\n",
    "                \n",
    "def SEC():\n",
    "    print(\"miramos subtours\")\n",
    "    corte = False\n",
    "    vals = modelo.getAttr('x', x)\n",
    "    for d in days:\n",
    "        G = nx.Graph()\n",
    "        G.add_edges_from( (i,j) for i in V[d] for j in V[d] if i!=j and vals[i,j,d]>EPS )\n",
    "        Components = list(nx.connected_components(G))\n",
    "        if len(Components) > 1:\n",
    "            for S in Components:\n",
    "                modelo.addConstr( quicksum( x[i,j,d] for i in S for j in S if i!=j ) <= len(S)-1 )\n",
    "                corte = True\n",
    "    return corte  \n",
    "\n",
    "\n",
    "def Consistency():\n",
    "    print( \"miramos consistencia\")\n",
    "    vals = modelo.getAttr('x', x)\n",
    "    length = {}\n",
    "    for d in days:\n",
    "        G = nx.DiGraph()\n",
    "        G.add_weighted_edges_from( (i,j,dist[i,j]) for i in V[d] for j in V[d] if i!=j and vals[i,j,d]>EPS )\n",
    "        for i in V[d]:\n",
    "            length[i,d] = nx.dijkstra_path_length(G,source=0,target=i)\n",
    "        G.clear()\n",
    "    maximo = 0\n",
    "    for i in customers:\n",
    "        for p in D[i]:\n",
    "            for q in D[i]:\n",
    "                if p<q and maximo < abs(length[i,p]-length[i,q])  :\n",
    "                    maximo = abs(length[i,p]-length[i,q])\n",
    "                    kk = i\n",
    "                    pp = p\n",
    "                    qq = q\n",
    "    print( \"maximo=\",maximo , \"kk=\",kk,\"pp=\",pp,\"qq=\",qq, \"lengthpp=\",length[kk,pp],\"lengthqq=\",length[kk,qq])\n",
    "    if maximo <= L :\n",
    "        return False\n",
    "\n",
    "      \n",
    "    for i in V[pp]:\n",
    "        for j in V[pp]:\n",
    "            if i!=j:\n",
    "                f[i,j,kk,pp] = modelo.addVar(obj=0, vtype=GRB.BINARY, name='f[%d,%d,%d,%d]'%(i,j,kk,pp))\n",
    "    for i in V[qq]:\n",
    "        for j in V[qq]:\n",
    "            if i!=j:\n",
    "                f[i,j,kk,qq] = modelo.addVar(obj=0, vtype=GRB.BINARY, name='f[%d,%d,%d,%d]'%(i,j,kk,qq))\n",
    "        \n",
    "    modelo.addConstr(sum(f[0,j,kk,pp] for j in V[pp] if j!=0 ) == 1)\n",
    "    modelo.addConstr(sum(f[j,0,kk,pp] for j in V[pp] if j!=0 ) == 0)\n",
    "    modelo.addConstrs(sum(f[j,i,kk,pp]-f[i,j,kk,pp] for j in V[pp] if j!=i) == 0 for i in V[pp] if i!=kk and i!=0 )\n",
    "    modelo.addConstrs( f[i,j,kk,pp] <= x[i,j,pp] for i in V[pp] for j in V[pp] if i!=j )\n",
    "\n",
    "    modelo.addConstr(sum(f[0,j,kk,qq] for j in V[qq] if j!=0 ) == 1)\n",
    "    modelo.addConstr(sum(f[j,0,kk,qq] for j in V[qq] if j!=0 ) == 0)\n",
    "    modelo.addConstrs(sum(f[j,i,kk,qq]-f[i,j,kk,qq] for j in V[qq] if j!=i) == 0 for i in V[qq] if i!=kk and i!=0 )\n",
    "    modelo.addConstrs( f[i,j,kk,qq] <= x[i,j,qq] for i in V[qq] for j in V[qq] if i!=j )\n",
    "     \n",
    "    modelo.addConstr( sum(dist[i,j]*f[i,j,kk,pp] for i in V[pp] for j in V[pp] if i!=j ) - sum(dist[i,j]*f[i,j,kk,qq] for i in V[qq] for j in V[qq] if i!=j ) <= L)\n",
    "    modelo.addConstr( sum(dist[i,j]*f[i,j,kk,pp] for i in V[pp] for j in V[pp] if i!=j ) - sum(dist[i,j]*f[i,j,kk,qq] for i in V[qq] for j in V[qq] if i!=j ) >= -L)\n",
    "\n",
    "    return True\n",
    "\n",
    "\n",
    "def CATSPsec():\n",
    "    modelo.addConstrs(sum(x[i,j,k] for j in V[k] if j!=i) == 1 for k in days for i in V[k] )\n",
    "    modelo.addConstrs(sum(x[j,i,k] for j in V[k] if j!=i) == 1 for k in days for i in V[k] )\n",
    "\n",
    "    modelo.Params.OutputFlag = 0\n",
    "\n",
    "    modelo.optimize()\n",
    "    while SEC() or Consistency():\n",
    "        modelo.optimize()    \n",
    "        if modelo.status != GRB.Status.OPTIMAL:\n",
    "            print(' No solution ; status=',modelo.status)\n",
    "            return\n",
    "\n",
    "    print('Costo total = %g' % modelo.objVal)\n",
    "    print('Time = ',modelo.Runtime, \"seconds\")\n",
    "    vals = modelo.getAttr('x', x)\n",
    "    selected = [(i,j,k) for i,j,k in vals.keys() if vals[i,j,k] > EPS]\n",
    "    print('Optimal path: %s' % str(selected))\n",
    "    for k in days: \n",
    "        plt.subplot(2, 2, k+1)\n",
    "        selected = [ (i,j) for i in V[k] for j in V[k] if i!=j and vals[i,j,k]>EPS]\n",
    "        dibuja(selected)\n",
    "        \n",
    "CATSPsec()"
   ]
  }
 ],
 "metadata": {
  "colab": {
   "collapsed_sections": [],
   "include_colab_link": true,
   "name": "logistica.ipynb",
   "provenance": [],
   "toc_visible": true
  },
  "kernelspec": {
   "display_name": "Python 3",
   "language": "python",
   "name": "python3"
  },
  "language_info": {
   "codemirror_mode": {
    "name": "ipython",
    "version": 3
   },
   "file_extension": ".py",
   "mimetype": "text/x-python",
   "name": "python",
   "nbconvert_exporter": "python",
   "pygments_lexer": "ipython3",
   "version": "3.7.4"
  }
 },
 "nbformat": 4,
 "nbformat_minor": 1
}
