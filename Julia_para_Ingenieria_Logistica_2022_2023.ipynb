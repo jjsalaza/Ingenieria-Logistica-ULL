{
  "nbformat": 4,
  "nbformat_minor": 0,
  "metadata": {
    "colab": {
      "provenance": [],
      "collapsed_sections": [
        "tQ1r1bbb0yBv",
        "GnSoOX6btmkh",
        "hvteKiLQc_YG",
        "-dM3RipX6bXB",
        "3J94SPVLM9fC",
        "OCVu2N7MFziG",
        "yojwMB1SBOkL"
      ],
      "toc_visible": true,
      "include_colab_link": true
    },
    "kernelspec": {
      "display_name": "Julia",
      "language": "julia",
      "name": "julia"
    },
    "language_info": {
      "file_extension": ".jl",
      "mimetype": "application/julia",
      "name": "julia"
    }
  },
  "cells": [
    {
      "cell_type": "markdown",
      "metadata": {
        "id": "view-in-github",
        "colab_type": "text"
      },
      "source": [
        "<a href=\"https://colab.research.google.com/github/jjsalaza/Ingenieria-Logistica-ULL/blob/master/Julia_para_Ingenieria_Logistica_2022_2023.ipynb\" target=\"_parent\"><img src=\"https://colab.research.google.com/assets/colab-badge.svg\" alt=\"Open In Colab\"/></a>"
      ]
    },
    {
      "cell_type": "markdown",
      "metadata": {
        "id": "tQ1r1bbb0yBv"
      },
      "source": [
        "# Cuaderno Jupyter en **Julia** para la asignatura **Ingeniería Logística** 2022-2023"
      ]
    },
    {
      "cell_type": "markdown",
      "metadata": {
        "id": "6ew60wXrZM0W"
      },
      "source": [
        "La primera celda ejecutable de este cuaderno está intensionadamente escrita para que puedas usar este cuaderno con código [Julia](https://julialang.org/) en cualquier plataforma [Jupyter](https://jupyter.org/), incluída [Google Colab](https://colab.research.google.com/?hl=es). \n",
        "\n",
        "Lo primero que debes hacer es trabajar sobre una copia de este cuaderno, para tener siempre la versión original a salvo. Luego debes ejecutar la primera celda para que instale [Julia](https://julialang.org/) y otros paquetes que por defecto no vienen en ningún [Jupyter](https://jupyter.org/). Y posteriormente recargar el cuaderno (pulsa las teclas Ctrl+R , o la tecla F5) para continuar con tu estudio a través de este cuaderno. Lo que habrás hecho es cambiar el Python nativo en todo Jupyter por Julia. ¡¡¡Ya verás las ventajas!!!"
      ]
    },
    {
      "cell_type": "code",
      "execution_count": null,
      "metadata": {
        "id": "GIeFXS0F0zww",
        "colab": {
          "base_uri": "https://localhost:8080/",
          "height": 88
        },
        "outputId": "ea87e0d5-d355-48a1-bc72-e55b13f4b4ef"
      },
      "outputs": [
        {
          "output_type": "display_data",
          "data": {
            "text/plain": [
              "  Unrecognized magic \u001b[36m%%shell\u001b[39m.\n",
              "\n",
              "  Julia does not use the IPython \u001b[36m%magic\u001b[39m syntax. To interact with the IJulia\n",
              "  kernel, use \u001b[36mIJulia.somefunction(...)\u001b[39m, for example. Julia macros, string\n",
              "  macros, and functions can be used to accomplish most of the other\n",
              "  functionalities of IPython magics."
            ],
            "text/markdown": "Unrecognized magic `%%shell`.\n\nJulia does not use the IPython `%magic` syntax.   To interact with the IJulia kernel, use `IJulia.somefunction(...)`, for example.  Julia macros, string macros, and functions can be used to accomplish most of the other functionalities of IPython magics.\n",
            "text/latex": "Unrecognized magic \\texttt{\\%\\%shell}.\n\nJulia does not use the IPython \\texttt{\\%magic} syntax.   To interact with the IJulia kernel, use \\texttt{IJulia.somefunction(...)}, for example.  Julia macros, string macros, and functions can be used to accomplish most of the other functionalities of IPython magics.\n\n"
          },
          "metadata": {}
        }
      ],
      "source": [
        "%%shell\n",
        "set -e\n",
        "\n",
        "#---------------------------------------------------#\n",
        "JULIA_VERSION=\"1.8.1\"           # any version ≥ 0.7.0\n",
        "JULIA_PACKAGES=\"IJulia JuMP GLPK\"         \n",
        "JULIA_PACKAGES_IF_GPU=\"CUDA\"\n",
        "JULIA_NUM_THREADS=4\n",
        "#---------------------------------------------------#\n",
        "\n",
        "if [ -n \"$COLAB_GPU\" ] && [ -z `which julia` ]; then\n",
        "  # Install Julia\n",
        "  JULIA_VER=`cut -d '.' -f -2 <<< \"$JULIA_VERSION\"`\n",
        "  echo \"Installing Julia $JULIA_VERSION on the current Colab Runtime...\"\n",
        "  BASE_URL=\"https://julialang-s3.julialang.org/bin/linux/x64\"\n",
        "  URL=\"$BASE_URL/$JULIA_VER/julia-$JULIA_VERSION-linux-x86_64.tar.gz\"\n",
        "  wget -nv $URL -O /tmp/julia.tar.gz # -nv means \"not verbose\"\n",
        "  tar -x -f /tmp/julia.tar.gz -C /usr/local --strip-components 1\n",
        "  rm /tmp/julia.tar.gz\n",
        "\n",
        "  # Install Packages\n",
        "  if [ \"$COLAB_GPU\" = \"1\" ]; then\n",
        "      JULIA_PACKAGES=\"$JULIA_PACKAGES $JULIA_PACKAGES_IF_GPU\"\n",
        "  fi\n",
        "  for PKG in `echo $JULIA_PACKAGES`; do\n",
        "    echo \"Installing Julia package $PKG...\"\n",
        "    julia -e 'using Pkg; pkg\"add '$PKG'; precompile;\"' &> /dev/null\n",
        "  done\n",
        "\n",
        "  # Install kernel and rename it to \"julia\"\n",
        "  echo \"Installing IJulia kernel...\"\n",
        "  julia -e 'using IJulia; IJulia.installkernel(\"julia\", env=Dict(\n",
        "      \"JULIA_NUM_THREADS\"=>\"'\"$JULIA_NUM_THREADS\"'\"))'\n",
        "  KERNEL_DIR=`julia -e \"using IJulia; print(IJulia.kerneldir())\"`\n",
        "  KERNEL_NAME=`ls -d \"$KERNEL_DIR\"/julia*`\n",
        "  mv -f $KERNEL_NAME \"$KERNEL_DIR\"/julia  \n",
        "\n",
        "  echo ''\n",
        "  echo \"Successfully installed `julia -v`!\"\n",
        "fi"
      ]
    },
    {
      "cell_type": "markdown",
      "metadata": {
        "id": "-OS3Ac017T1i"
      },
      "source": [
        "La siguiente celda es sólo un comando Julia para que compruebes que ahora Julia funciona. No es importante."
      ]
    },
    {
      "cell_type": "code",
      "execution_count": null,
      "metadata": {
        "colab": {
          "base_uri": "https://localhost:8080/"
        },
        "id": "EEzvvzCl1i0F",
        "outputId": "95b4400c-b71f-41c6-8dea-2a80881e22d0"
      },
      "outputs": [
        {
          "output_type": "stream",
          "name": "stdout",
          "text": [
            "Julia Version 1.8.1\n",
            "Commit afb6c60d69a (2022-09-06 15:09 UTC)\n",
            "Platform Info:\n",
            "  OS: Linux (x86_64-linux-gnu)\n",
            "  CPU: 2 × Intel(R) Xeon(R) CPU @ 2.20GHz\n",
            "  WORD_SIZE: 64\n",
            "  LIBM: libopenlibm\n",
            "  LLVM: libLLVM-13.0.1 (ORCJIT, broadwell)\n",
            "  Threads: 4 on 2 virtual cores\n",
            "Environment:\n",
            "  LD_LIBRARY_PATH = /usr/local/nvidia/lib:/usr/local/nvidia/lib64\n",
            "  LD_PRELOAD = /usr/lib/x86_64-linux-gnu/libtcmalloc.so.4\n",
            "  JULIA_NUM_THREADS = 4\n"
          ]
        }
      ],
      "source": [
        "versioninfo()"
      ]
    },
    {
      "cell_type": "markdown",
      "source": [
        "Antes de entrar de pleno en nuestra asignatura (Ingeniería Logística), quiero enfatizar que Julia no es el objetivo de este curso. Julia es sólo es el lenguaje que usaremos para ilustrar el objetivo del curso, que es \"modelización matemática\" principalmente. Podíamos haber usado otros lenguajes alternativos, como C/C++ o Java o Python, e incluso otros menos mucho menos generales, especialmente orientados a la modelización matemática, como son MOSEL o AMPL o OPL. El motivo de elegir Julia es que es un lenguaje moderno, versátil, con las ventajas del Python, y con la rapidez del C/C++. ¡¡Espero que te resulte de interés!! 😃\n",
        "\n",
        "En internet existen muchos manuales para aprender lo básico de Julia. No lo necesitarás. Es muy intuitivo y los ejemplos que iremos estudiando en el curso (siempre orientados a la Modelización Matemática) serán más que suficientes. No obstante, si no aguantas las ansias de conocer Julia, te recomiendo por ejemplo https://hedero.webs.upv.es/julia-basico/\n",
        "\n",
        "Si ya conoces algo de Python y la plataforma Google Colab, quizás el siguiente cuaderno te ayude mucho: https://colab.research.google.com/github/ageron/julia_notebooks/blob/master/Julia_for_Pythonistas.ipynb"
      ],
      "metadata": {
        "id": "kByCk0lg2KaI"
      }
    },
    {
      "cell_type": "markdown",
      "source": [
        "Entre los paquetes que te he instalado está [JuMP](https://jump.dev/JuMP.jl/stable/), que contiene los elementos propios de *Mathematical Programming*, es decir, lo que necesitaremos en el curso para trabajar con modelos matemáticos en Julia.\n",
        "\n",
        "También te he instalado un paquete con métodos para resolver modelos de Programación Matemática (Optimización). Como librería de optimización me gusta mucho [Gurobi](https://docs.juliahub.com/Gurobi/do9v6/0.7.7/), pero es comercial y exige tener licencia en el entorno alojado o local que uses para las ejecuciones. Entre las librerías no-comerciales destaco [HiGHS](https://highs.dev/), a la que lamentablemente aún le falta un ingrediente utilísimo (*callbacks*). Yo te he instalado la librería no-comercial [GLPK](https://juliapackages.com/p/glpk)."
      ],
      "metadata": {
        "id": "ZNLpFNqroUAH"
      }
    },
    {
      "cell_type": "markdown",
      "source": [
        "Pongamos a mano los elementos de los paquetes instalados"
      ],
      "metadata": {
        "id": "4lYGZ0lUnwiW"
      }
    },
    {
      "cell_type": "code",
      "source": [
        "using JuMP, GLPK, Random"
      ],
      "metadata": {
        "id": "njaLb143n5s9"
      },
      "execution_count": null,
      "outputs": []
    },
    {
      "cell_type": "markdown",
      "metadata": {
        "id": "GnSoOX6btmkh"
      },
      "source": [
        "# Ingeniería Logística\n",
        "\n"
      ]
    },
    {
      "cell_type": "markdown",
      "source": [
        "La siguiente celda muestra cómo escribir y resolver un modelo matemático. Es un modelo matemático diminuto e inútil, pero suficiente para evidenciar nuestra capacidad actual para afrontar modelos del tipo $\\min\\{f(x) : g(x)\\leq 0 \\}$, donde las variables $x$ representan las decisiones a tomar, las desigualdades $g(\\cdot)\\leq 0$ representan las limitaciones de recursos, y $f(\\cdot)$ representa el objetivo que minimizamos (costes, por ejemplo). \n",
        "\n"
      ],
      "metadata": {
        "id": "5hMze5_FZmNu"
      }
    },
    {
      "cell_type": "code",
      "source": [
        "model = Model(GLPK.Optimizer)\n",
        "@variable(model, x >= 0)\n",
        "@variable(model, 0 <= y <= 3)\n",
        "@objective(model, Min, 12x + 20y)\n",
        "@constraint(model, c1, 6x + 8y >= 100)\n",
        "@constraint(model, c2, 7x + 12y >= 120)\n",
        "print(model)\n",
        "optimize!(model)\n",
        "@show termination_status(model)\n",
        "@show primal_status(model)\n",
        "@show dual_status(model)\n",
        "@show objective_value(model)\n",
        "@show value(x)\n",
        "@show value(y)\n",
        "@show shadow_price(c1)\n",
        "@show shadow_price(c2)"
      ],
      "metadata": {
        "colab": {
          "base_uri": "https://localhost:8080/",
          "height": 326
        },
        "id": "lzmV_xUM-Bgv",
        "outputId": "4bf170ab-b90b-4709-ca41-9ff683baaa38"
      },
      "execution_count": null,
      "outputs": [
        {
          "output_type": "display_data",
          "data": {
            "text/latex": "$$ \\begin{aligned}\n\\min\\quad & 12 x + 20 y\\\\\n\\text{Subject to} \\quad & 6 x + 8 y \\geq 100.0\\\\\n & 7 x + 12 y \\geq 120.0\\\\\n & x \\geq 0.0\\\\\n & y \\geq 0.0\\\\\n & y \\leq 3.0\\\\\n\\end{aligned} $$"
          },
          "metadata": {}
        },
        {
          "output_type": "stream",
          "name": "stdout",
          "text": [
            "termination_status(model) = MathOptInterface.OPTIMAL\n",
            "primal_status(model) = MathOptInterface.FEASIBLE_POINT\n",
            "dual_status(model) = MathOptInterface.FEASIBLE_POINT\n",
            "objective_value(model) = 204.99999999999997\n",
            "value(x) = 15.000000000000005\n",
            "value(y) = 1.249999999999996\n",
            "shadow_price(c1) = -0.24999999999999922\n",
            "shadow_price(c2) = -1.5000000000000007\n"
          ]
        },
        {
          "output_type": "execute_result",
          "data": {
            "text/plain": [
              "-1.5000000000000007"
            ]
          },
          "metadata": {},
          "execution_count": 5
        }
      ]
    },
    {
      "cell_type": "markdown",
      "source": [
        "Recuerda que los modelos matemáticos son representaciones abstractas de problemas reales, por lo que ahora seremos capacades de resolver problemas complejos de optimización siempre que seamos capaces de representarlos en la forma $\\min\\{f(x) : g(x)\\leq 0 \\}$. La asignatura de Ingeniería Logística va a entrenarte en el arte de la Modelización Matemática. Para ello, durante el curso, iremos exponiendo distintos problemas de optimización (al principio sencillos, y luego cada vez más complejos). Aprenderemos a escribir un modelo matemático para cada problema, en la esperanza de que al final del curso seas capaz de afrontar problemas de optimización en tu futuro laboral.\n",
        "\n",
        "Observa que cada modelo que escribamos puede ser resuelto con esta herramienta informática. Nuestro objetivo final es \"aprender a modelizar\", mientras que \"aprender a resolver\" es más simple y lo iremos adquiriendo paralelamente durante el curso."
      ],
      "metadata": {
        "id": "JcX7wZIObhqn"
      }
    },
    {
      "cell_type": "markdown",
      "source": [
        "# Problemas de asignación\n",
        "\n",
        "Comenzamos con un problema muy sencillo, que seguro ya conoces."
      ],
      "metadata": {
        "id": "hvteKiLQc_YG"
      }
    },
    {
      "cell_type": "markdown",
      "source": [
        "## Problema de asignación 2-dimensional\n",
        "\n",
        "Consideremos $n$ profesores y $n$ asignaturas. Asumamos que se conoce el coste $c_{ij}$ de tener al profesor $i$ impartiendo la asignatura $j$. Asumimos también que un profesor no puede impartir más de una asignatura, y que toda asignatura de ser impartida por al menos un profesor. Se busca asignar profesores a asignaturas de modo que el coste total sea lo menos posible.\n",
        "\n",
        "La siguiente celda genera datos aleatorios para luego mostrar y resolver un modelo matemático."
      ],
      "metadata": {
        "id": "JVYfzwfjd_oP"
      }
    },
    {
      "cell_type": "code",
      "source": [
        "N = 4         # number of professors\n",
        "M = 4         # number of courses\n",
        "Test.@test N >= M\n",
        "\n",
        "cost = rand( 0:100, N, M )"
      ],
      "metadata": {
        "colab": {
          "base_uri": "https://localhost:8080/"
        },
        "id": "DBcjpfuwC-5J",
        "outputId": "7ebdeceb-efbf-40bd-95aa-7739a9e0cb33"
      },
      "execution_count": null,
      "outputs": [
        {
          "output_type": "execute_result",
          "data": {
            "text/plain": [
              "4×4 Matrix{Int64}:\n",
              " 26  65  54  45\n",
              " 67  31  93   5\n",
              " 84  51   0  69\n",
              " 82  72  32  95"
            ]
          },
          "metadata": {},
          "execution_count": 6
        }
      ]
    },
    {
      "cell_type": "markdown",
      "source": [
        "El modelo es entonces:"
      ],
      "metadata": {
        "id": "Jpcuw3AOMqw6"
      }
    },
    {
      "cell_type": "code",
      "source": [
        "model = Model(GLPK.Optimizer)\n",
        "@variable(model, x[1:N,1:M] >= 0)\n",
        "@objective(model, Min, sum( cost .* x ))\n",
        "@constraint(model, p[i=1:N] , sum(x[i,:]) <= 1 ) \n",
        "@constraint(model, c[j=1:M] , sum(x[:,j]) >= 1 ) \n",
        "\n",
        "println(model)"
      ],
      "metadata": {
        "colab": {
          "base_uri": "https://localhost:8080/"
        },
        "id": "CbeUqNVLgdz_",
        "outputId": "b42a41ba-9cd4-4cd1-a016-2c65aaeb0781"
      },
      "execution_count": null,
      "outputs": [
        {
          "output_type": "stream",
          "name": "stdout",
          "text": [
            "Min 26 x[1,1] + 67 x[2,1] + 84 x[3,1] + 82 x[4,1] + 65 x[1,2] + 31 x[2,2] + 51 x[3,2] + 72 x[4,2] + 54 x[1,3] + 93 x[2,3] + 32 x[4,3] + 45 x[1,4] + 5 x[2,4] + 69 x[3,4] + 95 x[4,4]\n",
            "Subject to\n",
            " c[1] : x[1,1] + x[2,1] + x[3,1] + x[4,1] ≥ 1.0\n",
            " c[2] : x[1,2] + x[2,2] + x[3,2] + x[4,2] ≥ 1.0\n",
            " c[3] : x[1,3] + x[2,3] + x[3,3] + x[4,3] ≥ 1.0\n",
            " c[4] : x[1,4] + x[2,4] + x[3,4] + x[4,4] ≥ 1.0\n",
            " p[1] : x[1,1] + x[1,2] + x[1,3] + x[1,4] ≤ 1.0\n",
            " p[2] : x[2,1] + x[2,2] + x[2,3] + x[2,4] ≤ 1.0\n",
            " p[3] : x[3,1] + x[3,2] + x[3,3] + x[3,4] ≤ 1.0\n",
            " p[4] : x[4,1] + x[4,2] + x[4,3] + x[4,4] ≤ 1.0\n",
            " x[1,1] ≥ 0.0\n",
            " x[2,1] ≥ 0.0\n",
            " x[3,1] ≥ 0.0\n",
            " x[4,1] ≥ 0.0\n",
            " x[1,2] ≥ 0.0\n",
            " x[2,2] ≥ 0.0\n",
            " x[3,2] ≥ 0.0\n",
            " x[4,2] ≥ 0.0\n",
            " x[1,3] ≥ 0.0\n",
            " x[2,3] ≥ 0.0\n",
            " x[3,3] ≥ 0.0\n",
            " x[4,3] ≥ 0.0\n",
            " x[1,4] ≥ 0.0\n",
            " x[2,4] ≥ 0.0\n",
            " x[3,4] ≥ 0.0\n",
            " x[4,4] ≥ 0.0\n",
            "\n"
          ]
        }
      ]
    },
    {
      "cell_type": "code",
      "source": [
        "status = JuMP.optimize!(model) \n",
        "@show JuMP.termination_status(model)\n",
        "println(\"Total: \",JuMP.objective_value(model))\n",
        "println(\"Decision variables: \",JuMP.value.(x))\n",
        "for i=1:N, j=1:M\n",
        "    if value.(x[i,j])>0.5 \n",
        "           println(\" professor $i assigned to course $j\")\n",
        "    end\n",
        "end"
      ],
      "metadata": {
        "colab": {
          "base_uri": "https://localhost:8080/"
        },
        "id": "xMQD0sORM4Tj",
        "outputId": "8d5db24b-9e6e-4c68-cde8-86f2644746e9"
      },
      "execution_count": null,
      "outputs": [
        {
          "output_type": "stream",
          "name": "stdout",
          "text": [
            "JuMP.termination_status(model) = MathOptInterface.OPTIMAL\n",
            "Total: 103.0\n",
            "Decision variables: [1.0 0.0 0.0 0.0; 0.0 0.0 0.0 1.0; 0.0 0.0 1.0 0.0; 0.0 1.0 0.0 0.0]\n",
            " professor 1 assigned to course 1\n",
            " professor 2 assigned to course 4\n",
            " professor 3 assigned to course 3\n",
            " professor 4 assigned to course 2\n"
          ]
        }
      ]
    },
    {
      "cell_type": "markdown",
      "source": [
        "Este problema es muy conocido (véase la [wikipedia](https://es.wikipedia.org/wiki/Problema_de_asignaci%C3%B3n)) y para él existen diversos algoritmos específicos que lo resuelven incluso en tiempo polinomial en los números $n$ (ejemplo: [método húngaro](https://es.wikipedia.org/wiki/Algoritmo_h%C3%BAngaro), cuya complejidad es $O(n^3)$). \n",
        "\n",
        "Conviene notar que en la celda anterior no hemos descrito o expuesto un algoritmo. Hemos expuesto sólo un modelo matemático, sobre el que hemos aplicado una librería de optimización de uso general. Por tanto, podría pensarse que salimos perdiendo eficiencia, en cuanto no aprovechamos las características específicas del problema. En cambio, no es verdad. Salimos ganando por dos motivos:\n",
        "1.   Por una parte, empíricamente se puede comprobar que los tiempos de cálculo de usar un algoritmo específico muy bien implementado para este problema, y los tiempos de cálculo usando una librería de última generación usada sobre este modelo matemático, son muy muy similares. \n",
        "2.   Por otra parte, con nuestra forma de trabajar (basada en modelos matemáticos) es muy simple incorporar nuevas restricciones al problema que serían en cambio complejas (o imposibles) de incorporar en el algoritmo específico. Lo veremos en la siguiente celda."
      ],
      "metadata": {
        "id": "wEM7h2A-eAM2"
      }
    },
    {
      "cell_type": "markdown",
      "source": [
        "## Problema de asignación 3-dimensional\n",
        "\n",
        "Consideremos ahora $n$ profesores, $n$ asignaturas, y $n$ aulas. Asumamos conocer el coste $c_{ijk}$ de colocar al profesor $i$ impartiendo la asignatura $j$ en el aula $k$. Obviamente queremos que cada profesor imparta una asignatura única en un aula única. Igualmente queremos que cada asignatura la imparta un profesor en algún aula, y que cada aula tenga a un profesor impartiendo una asignatura. Se busca la asignación con menor coste total."
      ],
      "metadata": {
        "id": "JbH_yt2nzxfx"
      }
    },
    {
      "cell_type": "code",
      "source": [
        "N = 4         # number of professors = courses = rooms\n",
        "Random.seed!(1234)\n",
        "cost = rand( 0:100, N, N, N )"
      ],
      "metadata": {
        "colab": {
          "base_uri": "https://localhost:8080/"
        },
        "id": "py1C4wOt30TR",
        "outputId": "5f1eb143-93c7-4adb-9e67-253b4eb7fa74"
      },
      "execution_count": null,
      "outputs": [
        {
          "output_type": "execute_result",
          "data": {
            "text/plain": [
              "4×4×4 Array{Int64, 3}:\n",
              "[:, :, 1] =\n",
              " 32  35  49   0\n",
              " 55  39  75  20\n",
              " 22  96  58  44\n",
              " 90  80  73  68\n",
              "\n",
              "[:, :, 2] =\n",
              "  96  11  63  67\n",
              "  65  49  23  76\n",
              " 100  57  12  59\n",
              "  75  25  61  36\n",
              "\n",
              "[:, :, 3] =\n",
              " 13  57  85  54\n",
              " 95   7  35  29\n",
              " 58  70  77  24\n",
              " 68   9  27  98\n",
              "\n",
              "[:, :, 4] =\n",
              " 86  52  98  38\n",
              " 71  95  50  57\n",
              " 44  81  72  17\n",
              " 89  46  19  33"
            ]
          },
          "metadata": {},
          "execution_count": 9
        }
      ]
    },
    {
      "cell_type": "code",
      "source": [
        "model = Model(GLPK.Optimizer)\n",
        "@variable(model, x[1:N,1:N,1:N] , Bin )\n",
        "@objective(model, Min, sum( cost .* x ))\n",
        "@constraint(model, p[i=1:N] , sum(x[i,:,:]) == 1 ) \n",
        "@constraint(model, c[j=1:N] , sum(x[:,j,:]) == 1 ) \n",
        "@constraint(model, r[k=1:N] , sum(x[:,:,k]) == 1 ) \n",
        "#println(model)"
      ],
      "metadata": {
        "id": "k8oohvjG1C8R"
      },
      "execution_count": null,
      "outputs": []
    },
    {
      "cell_type": "code",
      "source": [
        "status = JuMP.optimize!(model) \n",
        "@show JuMP.termination_status(model)\n",
        "println(\"Total: \",JuMP.objective_value(model))\n",
        "println(\"Decision variables: \",JuMP.value.(x))\n",
        "for i=1:N, j=1:N, k=1:N\n",
        "    if value.(x[i,j,k])>0.5 \n",
        "        println(\" professor $i assigned to course $j at room $k\")\n",
        "    end\n",
        "end"
      ],
      "metadata": {
        "colab": {
          "base_uri": "https://localhost:8080/"
        },
        "id": "dzWY0_kGg6eV",
        "outputId": "9b21b82b-2d5d-462b-b492-28500777a60d"
      },
      "execution_count": null,
      "outputs": [
        {
          "output_type": "stream",
          "name": "stdout",
          "text": [
            "JuMP.termination_status(model) = MathOptInterface.OPTIMAL\n",
            "Total: 76.0\n",
            "Decision variables: [0.0 0.0 0.0 1.0; 0.0 0.0 0.0 0.0; 0.0 0.0 0.0 0.0; 0.0 0.0 0.0 0.0;;; 0.0 0.0 0.0 0.0; 0.0 0.0 1.0 0.0; 0.0 0.0 0.0 0.0; 0.0 0.0 0.0 0.0;;; 0.0 0.0 0.0 0.0; 0.0 0.0 0.0 0.0; 0.0 0.0 0.0 0.0; 0.0 1.0 0.0 0.0;;; 0.0 0.0 0.0 0.0; 0.0 0.0 0.0 0.0; 1.0 0.0 0.0 0.0; 0.0 0.0 0.0 0.0]\n",
            " professor 1 assigned to course 4 at room 1\n",
            " professor 2 assigned to course 3 at room 2\n",
            " professor 3 assigned to course 1 at room 4\n",
            " professor 4 assigned to course 2 at room 3\n"
          ]
        }
      ]
    },
    {
      "cell_type": "markdown",
      "source": [
        "La versión anterior se llama *axial* para distinguirla de la siguiente, que se llama *planar*. Hay varios libros y artículos en internet sobre ello ([ejemplo](https://www.win.tue.nl/~fspieksma/papers/miap.pdf))"
      ],
      "metadata": {
        "id": "3H5TgFPt28dB"
      }
    },
    {
      "cell_type": "code",
      "source": [
        "model = Model(GLPK.Optimizer)\n",
        "@variable(model, x[1:N,1:N,1:N], Bin )\n",
        "@objective(model, Min, sum( cost .* x ))\n",
        "@constraint(model, p[i=1:N,j=1:N] , sum(x[i,j,:]) == 1 ) \n",
        "@constraint(model, c[i=1:N,k=1:N] , sum(x[i,:,k]) == 1 ) \n",
        "@constraint(model, r[j=1:N,k=1:N] , sum(x[:,j,k]) == 1 ) \n",
        "#println(model)"
      ],
      "metadata": {
        "colab": {
          "base_uri": "https://localhost:8080/"
        },
        "id": "SYt0qwLc3Nff",
        "outputId": "c3814d08-e106-4d30-a7de-89ee2c8b31ee"
      },
      "execution_count": null,
      "outputs": [
        {
          "output_type": "execute_result",
          "data": {
            "text/plain": [
              "4×4 Matrix{ConstraintRef{Model, MathOptInterface.ConstraintIndex{MathOptInterface.ScalarAffineFunction{Float64}, MathOptInterface.EqualTo{Float64}}, ScalarShape}}:\n",
              " r[1,1] : x[1,1,1] + x[2,1,1] + x[3,1,1] + x[4,1,1] = 1.0  …  r[1,4] : x[1,1,4] + x[2,1,4] + x[3,1,4] + x[4,1,4] = 1.0\n",
              " r[2,1] : x[1,2,1] + x[2,2,1] + x[3,2,1] + x[4,2,1] = 1.0     r[2,4] : x[1,2,4] + x[2,2,4] + x[3,2,4] + x[4,2,4] = 1.0\n",
              " r[3,1] : x[1,3,1] + x[2,3,1] + x[3,3,1] + x[4,3,1] = 1.0     r[3,4] : x[1,3,4] + x[2,3,4] + x[3,3,4] + x[4,3,4] = 1.0\n",
              " r[4,1] : x[1,4,1] + x[2,4,1] + x[3,4,1] + x[4,4,1] = 1.0     r[4,4] : x[1,4,4] + x[2,4,4] + x[3,4,4] + x[4,4,4] = 1.0"
            ]
          },
          "metadata": {},
          "execution_count": 21
        }
      ]
    },
    {
      "cell_type": "code",
      "source": [
        "status = JuMP.optimize!(model) \n",
        "@show JuMP.termination_status(model)\n",
        "println(\"Total: \",JuMP.objective_value(model))\n",
        "println(\"Decision variables: \",JuMP.value.(x))\n",
        "for i=1:N, j=1:N, k=1:N\n",
        "    if value.(x[i,j,k])>0.5 \n",
        "        print(\"  ($i,$j,$k)\")\n",
        "    end\n",
        "end"
      ],
      "metadata": {
        "colab": {
          "base_uri": "https://localhost:8080/"
        },
        "id": "KxHQatoSg_nM",
        "outputId": "d4d1f016-b4d8-40c0-8e43-a9416c1a6b1a"
      },
      "execution_count": null,
      "outputs": [
        {
          "output_type": "stream",
          "name": "stdout",
          "text": [
            "JuMP.termination_status(model) = MathOptInterface.OPTIMAL\n",
            "Total: 624.0\n",
            "Decision variables: [0.0 0.0 1.0 0.0; 0.0 0.0 0.0 1.0; 1.0 0.0 0.0 0.0; 0.0 1.0 0.0 0.0;;; 0.0 1.0 0.0 0.0; 1.0 0.0 0.0 0.0; 0.0 0.0 1.0 0.0; 0.0 0.0 0.0 1.0;;; 1.0 0.0 0.0 0.0; 0.0 1.0 0.0 0.0; 0.0 0.0 0.0 1.0; 0.0 0.0 1.0 0.0;;; 0.0 0.0 0.0 1.0; 0.0 0.0 1.0 0.0; 0.0 1.0 0.0 0.0; 1.0 0.0 0.0 0.0]\n",
            "  (1,1,3)  (1,2,2)  (1,3,1)  (1,4,4)  (2,1,2)  (2,2,3)  (2,3,4)  (2,4,1)  (3,1,1)  (3,2,4)  (3,3,2)  (3,4,3)  (4,1,4)  (4,2,1)  (4,3,3)  (4,4,2)"
          ]
        }
      ]
    },
    {
      "cell_type": "markdown",
      "source": [
        "## Organizar tutorias\n",
        "\n",
        "Asumamos un conjunto $I$ de estudiantes, $J$ de profesores, y $K$ de horas de un día concreto para realizar encuentros individuales entre estudiantes y profesores. Cada encuentro ocupa una hora a ese alumno y a ese profesor, que no pueden estar a la vez en otro encuentro. Nos dan una matriz $A$ de 1 y 0 que nos dice si un alumno debe encontrarse o no (respectivamente) con un profesor. El objetivo es organizar todos los encuentros para que los alumnos terminen (en media) lo antes posible."
      ],
      "metadata": {
        "id": "VBG-UANw7Sox"
      }
    },
    {
      "cell_type": "code",
      "source": [
        "n=15\n",
        "m=6\n",
        "T=11\n",
        "\n",
        "I=1:n\n",
        "J=1:m\n",
        "K=1:T\n",
        "\n",
        "A = bitrand(n,m)\n",
        "\n",
        "println(\"Students: $n Teachers: $m  Timeslots: $T\")\n",
        "total_no_meetings=sum(A[:,:])\n",
        "println(\"Total no. of meetings: $(total_no_meetings)\")\n",
        "\n",
        "model = Model(GLPK.Optimizer)\n",
        "\n",
        "# 1 if student i has a meeting with teacher j in time k\n",
        "@variable(stmeet, x[I,J,K], Bin)  \n",
        "\n",
        "for i in I\n",
        "    for j in J\n",
        "        if A[i,j]==0\n",
        "            for k in K\n",
        "                fix(x[i,j,k],0; force = true)\n",
        "            end\n",
        "        end\n",
        "    end\n",
        "end\n",
        "\n",
        "@variable(model, y[I] >= 0) \n",
        "@objective(model, Min, sum(y[:]) )\n",
        "@constraint(model, [i in I,j in J], sum(x[i,j,:]) == A[i,j])\n",
        "@constraint(model, [j in J,k in K], sum(x[:,j,k]) <= 1)\n",
        "@constraint(model, [i in I,k in K], sum(x[i,:,k]) <= 1)\n",
        "@constraint(model, [i in I,k in K], k*sum(x[i,:,k]) <= y[i])\n",
        "\n",
        "optimize!(model)\n",
        "if termination_status(model) == OPTIMAL\n",
        "    println(\"On average an student finishes at $( objective_value(model) / n ) which is smaller than $(T) ;  computational time: $(solve_time(model))\")\n",
        "else\n",
        "    println(\"Infeasible!\")\n",
        "end\n",
        "\n"
      ],
      "metadata": {
        "id": "9HteD9Py_mAj"
      },
      "execution_count": null,
      "outputs": []
    },
    {
      "cell_type": "markdown",
      "source": [
        "# Problema de transporte\n",
        "\n"
      ],
      "metadata": {
        "id": "-dM3RipX6bXB"
      }
    },
    {
      "cell_type": "markdown",
      "source": [
        "El problema de transporte es otro problema clásico. Véase la [wikipedia](https://es.wikipedia.org/wiki/Problema_de_transporte), por ejemplo. Dado un conjunto $I$ de almacenes (orígenes) y un conjunto $J$ de clientes (destinos), asumamos conocer la demanda de cada cliente, el stock de cada admacén, y el coste de llevar cada unidad de producto desde cada almacén a cada cliente. Se busca determinar cómo realizar el transporte para satisfacer toda la demanda con el menor coste total posible.\n",
        "\n",
        "Es un problema clásico, muy estudiado, para el que existen diversos algoritmos polinomiales. Pero nosotros no queremos usar ningún algoritmo específico, sino escribir un modelo matemático."
      ],
      "metadata": {
        "id": "A_tylTTp4leK"
      }
    },
    {
      "cell_type": "code",
      "source": [
        "ORIG = [\"Orotava\", \"Santa Cruz\", \" Arafo\"]\n",
        "DEST = [\"Garachico\", \"Santa Ursula\", \"La Laguna\", \"Güimar\", \"Adeje\", \"Candelaria\", \"Icod\"]\n",
        "\n",
        "I = 1:length(ORIG)\n",
        "J = 1:length(DEST)\n",
        "\n",
        "supply = [1_400, 2_600, 2_900]\n",
        "demand = [900, 1_200, 600, 400, 1_700, 1_100, 1_000]\n",
        "\n",
        "cost = [\n",
        "        39 14 11 14 16 82  8\n",
        "        27  9 12  9 26 95 17\n",
        "        24 14 17 13 28 99 20\n",
        "]"
      ],
      "metadata": {
        "colab": {
          "base_uri": "https://localhost:8080/"
        },
        "id": "-3MQieIkHGo6",
        "outputId": "b11cb8c3-ed25-4b48-fbf3-42ca8bdf04b0"
      },
      "execution_count": null,
      "outputs": [
        {
          "output_type": "execute_result",
          "data": {
            "text/plain": [
              "3×7 Matrix{Int64}:\n",
              " 39  14  11  14  16  82   8\n",
              " 27   9  12   9  26  95  17\n",
              " 24  14  17  13  28  99  20"
            ]
          },
          "metadata": {},
          "execution_count": 23
        }
      ]
    },
    {
      "cell_type": "code",
      "source": [
        "model = Model(GLPK.Optimizer)\n",
        "@variable(model, x[I,J] >= 0)\n",
        "@constraints(model,\n",
        "        begin\n",
        "            [i in I], sum(x[i,:]) <= supply[i]\n",
        "            [j in J], sum(x[:,j]) >= demand[j]\n",
        "        end\n",
        ")\n",
        "@objective(model, Min, sum( cost[i,j] * x[i,j] for i in I, j in J ) )"
      ],
      "metadata": {
        "colab": {
          "base_uri": "https://localhost:8080/",
          "height": 59
        },
        "id": "NQHQIcsk_SBq",
        "outputId": "8bf6061a-ab5c-46f3-f228-e05d3e119da9"
      },
      "execution_count": null,
      "outputs": [
        {
          "output_type": "execute_result",
          "data": {
            "text/plain": [
              "39 x[1,1] + 14 x[1,2] + 11 x[1,3] + 14 x[1,4] + 16 x[1,5] + 82 x[1,6] + 8 x[1,7] + 27 x[2,1] + 9 x[2,2] + 12 x[2,3] + 9 x[2,4] + 26 x[2,5] + 95 x[2,6] + 17 x[2,7] + 24 x[3,1] + 14 x[3,2] + 17 x[3,3] + 13 x[3,4] + 28 x[3,5] + 99 x[3,6] + 20 x[3,7]"
            ],
            "text/latex": "$$ 39 x_{1,1} + 14 x_{1,2} + 11 x_{1,3} + 14 x_{1,4} + 16 x_{1,5} + 82 x_{1,6} + 8 x_{1,7} + 27 x_{2,1} + 9 x_{2,2} + 12 x_{2,3} + 9 x_{2,4} + 26 x_{2,5} + 95 x_{2,6} + 17 x_{2,7} + 24 x_{3,1} + 14 x_{3,2} + 17 x_{3,3} + 13 x_{3,4} + 28 x_{3,5} + 99 x_{3,6} + 20 x_{3,7} $$"
          },
          "metadata": {},
          "execution_count": 24
        }
      ]
    },
    {
      "cell_type": "code",
      "source": [
        "status = optimize!(model)\n",
        "println(\" Termination status: $(termination_status(model))  ;  Optimal obj value: $(objective_value(model))\")\n",
        "for j in J\n",
        "    print(\" customer $j demands $(demand[j]) and gets: \")\n",
        "    for i in I \n",
        "        if value.(x[i,j]) > 0.5\n",
        "            print(\"  \",value.(x[i,j]),\" from \",i)\n",
        "        end\n",
        "    end\n",
        "    println()\n",
        "end"
      ],
      "metadata": {
        "colab": {
          "base_uri": "https://localhost:8080/"
        },
        "id": "xgFMUVwlIKlj",
        "outputId": "b406ecde-91f9-4fb4-fea0-91c0a3715d23"
      },
      "execution_count": null,
      "outputs": [
        {
          "output_type": "stream",
          "name": "stdout",
          "text": [
            " Termination status: OPTIMAL  ;  Optimal obj value: 196200.0\n",
            " customer 1 demands 900 and gets:   900.0 from 3\n",
            " customer 2 demands 1200 and gets:   1200.0 from 2\n",
            " customer 3 demands 600 and gets:   600.0 from 2\n",
            " customer 4 demands 400 and gets:   400.0 from 2\n",
            " customer 5 demands 1700 and gets:   300.0 from 1  1400.0 from 3\n",
            " customer 6 demands 1100 and gets:   1100.0 from 1\n",
            " customer 7 demands 1000 and gets:   400.0 from 2  600.0 from 3\n"
          ]
        }
      ]
    },
    {
      "cell_type": "markdown",
      "source": [
        "## Problema de transporte de varios productos\n",
        "\n"
      ],
      "metadata": {
        "id": "5uKXkbLzOzW4"
      }
    },
    {
      "cell_type": "code",
      "source": [
        "function mTP()\n",
        "    numorig = 10\n",
        "    numdest = 20\n",
        "    numprod = 4\n",
        "\n",
        "    I = 1:numorig\n",
        "    J = 1:numdest\n",
        "    K = 1:numprod\n",
        "\n",
        "    supply = rand(100:1000,numorig,numprod)\n",
        "    demand = rand(10:100,numdest,numprod)\n",
        "    cost   = rand(10:100,numorig,numdest,numprod)\n",
        "    limit = [50.0 for i in I, j in J]\n",
        "\n",
        "    for k in K           # to ensure feasibility\n",
        "        if sum(supply[i,k] for i in I) < sum(demand[j,k] for j in J)\n",
        "            q = sum(demand[j,k] for j in J) / sum(supply[i,k] for i in I)\n",
        "            for j in J\n",
        "                demand[j,k] = demand[j,k]/q\n",
        "            end\n",
        "        end\n",
        "    end\n",
        "\n",
        "    model = Model(GLPK.Optimizer)\n",
        "    @variable(model, trans[I,J,K] >= 0)\n",
        "    @objective(model, Max, sum( cost'trans ) )\n",
        "    @constraint(model, [i in I, k in K],  sum(trans[i,:,k]) <= supply[i,k] )\n",
        "    @constraint(model, [j in J, k in K],  sum(trans[:,j,k]) == demand[j,k] )\n",
        "    @constraint(model, [i in I, j in J],  sum(trans[i,j,:]) <= limit[i,j] )\n",
        "    optimize!(model)\n",
        "    if termination_status(model) == OPTIMAL\n",
        "        println(\"LP val: $(objective_value(model))    Time=$(solve_time(model))  \")\n",
        "    else\n",
        "        println(\"Infeasible\")\n",
        "    end\n",
        "end\n",
        "\n",
        "mTP()"
      ],
      "metadata": {
        "id": "HhZqbvhVO-n0"
      },
      "execution_count": null,
      "outputs": []
    },
    {
      "cell_type": "markdown",
      "source": [
        "# Problemas de gestión de un almacén\n",
        "\n",
        "En esta sección vamos a considerar otro problema relacionado con el problema de trasnporte, pero considerando un único almacén y tiempos en luegar de clientes. Veremos dos casos: sin capacidades y con capacidades."
      ],
      "metadata": {
        "id": "OCVu2N7MFziG"
      }
    },
    {
      "cell_type": "markdown",
      "source": [
        "## Single-Product Uncapacitated Lot-Sizing Problem\n",
        "\n",
        "Asumamos:\n",
        "*   Un horizonte temporal finito de $n$ periodos (por ejemplo, los 30 días de un mes)\n",
        "*   Demandas $d_t$ para cada $t=1,\\dots,n$ conocidas y que hay que satisfacer al final de cada día\n",
        "*   El coste unitario de producir una unidad es independiente de la cantidad que se produzca\n",
        "*   Cada unidad de producto se fabrica independientemente de las otras unidades\n",
        "*   El tiempo de fabricación por unidad es constante y conocido (lo asumiremos 0)\n",
        "*   Los inventarios de producto al inicio y al final del periodo son 0\n",
        "*   El producto que cubre demanda un día, no paga almacenamiento ese día; el producto que se fabrica un día, paga almacenamiento si no se destina a demanda ese día\n",
        "*   Sea $f_t$ el coste fijo de fabricar producto (da igual su cantidad) el día $t$\n",
        "*   Sea $c_t$ el coste de fabricar una unidad de producto el día $t$\n",
        "*   Sea $h_t$ el costo de almacenar una unidad de producto el día $t$\n",
        "\n",
        "Se busca determinar cuánto fabricar cada día para minimizar el coste total (resultante de sumar costes fijos, los costes de producción y los costes de inventarios).\n",
        "\n",
        "Este problema de optimización se conoce como *Simple-item uncapacitated lot sizing Problem* (ver [wikipedia](https://en.wikipedia.org/wiki/Dynamic_lot-size_model). Desde el año 1958 existe un algoritmo polinomial (incluso *lineal*) para resolverlo. Pero no nos interesa dicho algoritmo específico. Nos interesa describir un modelo matemático que nos facilite resolver el problema usando librerías genéricas de optimización, sin necesidad de algoritmos que exclusivamente valen para problemas muy concretos.\n",
        "\n",
        "\n",
        "\n",
        "\n",
        "\n",
        "\n",
        "\n"
      ],
      "metadata": {
        "id": "YSnWm4OMjLR8"
      }
    },
    {
      "cell_type": "code",
      "source": [
        "n=60   #Time Horizon\n",
        "\n",
        "Random.seed!(1234)\n",
        "d=rand(1:10,n) #Demand of each day\n",
        "f=rand(1:10,n) #Setup Cost\n",
        "c=rand(1:10,n) #Production Cost\n",
        "h=rand(1:10,n) #Holding Cost\n",
        "print(d,f,c,h)"
      ],
      "metadata": {
        "colab": {
          "base_uri": "https://localhost:8080/"
        },
        "id": "O4GW7Gav05WH",
        "outputId": "aebd23af-6de4-4bc0-ed7c-8128ec19ace3"
      },
      "execution_count": null,
      "outputs": [
        {
          "output_type": "stream",
          "name": "stdout",
          "text": [
            "[4, 6, 3, 9, 4, 4, 10, 8, 5, 8, 6, 8, 1, 2, 5, 7, 10, 7, 10, 8, 2, 5, 6, 3, 7, 3, 2, 7, 7, 8, 6, 4, 2, 10, 6, 7, 6, 1, 8, 1, 9, 4, 8, 3, 6, 3, 3, 10, 9, 8, 5, 9, 6, 10, 9, 5, 10, 6, 8, 2][4, 6, 2, 4, 7, 4, 8, 1, 2, 6, 1, 6, 10, 2, 4, 9, 7, 5, 10, 1, 4, 9, 8, 10, 5, 2, 10, 7, 9, 4, 8, 5, 4, 9, 2, 5, 6, 5, 5, 10, 5, 5, 1, 8, 2, 8, 6, 2, 8, 7, 3, 3, 5, 2, 1, 9, 4, 2, 3, 4][7, 8, 3, 7, 2, 10, 8, 1, 9, 6, 6, 9, 8, 8, 1, 9, 6, 3, 1, 7, 5, 5, 4, 9, 9, 10, 1, 7, 10, 5, 7, 2, 4, 5, 8, 9, 9, 4, 6, 9, 7, 2, 8, 6, 6, 7, 5, 9, 3, 3, 4, 1, 8, 2, 1, 8, 5, 9, 9, 1][3, 10, 10, 6, 5, 8, 2, 7, 8, 9, 10, 6, 7, 5, 10, 7, 6, 6, 1, 9, 5, 8, 2, 6, 4, 2, 7, 1, 6, 7, 6, 6, 7, 3, 3, 7, 10, 7, 8, 1, 4, 1, 3, 8, 9, 6, 5, 3, 7, 6, 2, 6, 5, 10, 9, 3, 3, 8, 4, 4]"
          ]
        }
      ]
    },
    {
      "cell_type": "markdown",
      "source": [
        "Introduzcamos las variables siguientes:\n",
        "*   $x_t\\geq 0$ para determinar la candidad de producto a fabricar el día $t$\n",
        "*   $y_t\\in\\{0,1\\}$ para determinar si el día $t$ hay o no que fabricar algo\n",
        "*   $z_t\\geq 0$ para determinar la cantidad de producto almacenada al final del día $t$\n",
        "\n",
        "Usando la constante $M_t=\\sum_{i=t...n} d_i$ para cada $t=1,\\ldots,n$, el problema anterior admite el siguiente modelo matemático:\n",
        "\n",
        "$$\n",
        "    \\begin{array}\n",
        "    \\mbox{ min } & \\sum_{t=1...n} ( f_t y_t + c_t x_t + h_t z_t) & \\\\\n",
        "    & z_{t-1} + x_t  = d_t + z_t & t=1,\\ldots,n\\\\\n",
        "    & 0\\leq x_t \\leq M_t y_t & t=1,\\ldots,n\\\\\n",
        "    & y_t\\in\\{0,1\\} & t=1,\\ldots,n \n",
        "    \\end{array}\n",
        "$$\n",
        "\n",
        "\n",
        "\n"
      ],
      "metadata": {
        "id": "LzGHtpDjof6V"
      }
    },
    {
      "cell_type": "code",
      "source": [
        "model = Model(GLPK.Optimizer)\n",
        "@variable(model, x[1:n]>=0 )\n",
        "@variable(model, y[1:n], Bin)\n",
        "@variable(model, z[0:n]>=0 )\n",
        "set_upper_bound( z[0] , 0)        # fix the initial storage to 0\n",
        "@objective(model, Min, sum( f[t]*y[t] + c[t]*x[t] + h[t]*z[t] for t=1:n ))\n",
        "@constraint(model, [t=1:n], z[t-1] + x[t] == d[t] + z[t])\n",
        "@constraint(model, [t=1:n], x[t] <= sum(d[t:n])*y[t])\n",
        "undo_relax = relax_integrality(model);\n",
        "optimize!(model)\n",
        "println(\"LP val: $(objective_value(model))    Time=$(solve_time(model))  \")\n",
        "undo_relax()\n",
        "optimize!(model)\n",
        "println(\"IP val: $(objective_value(model))    Time=$(solve_time(model)) \")"
      ],
      "metadata": {
        "id": "r8zHOGcwt_SI",
        "colab": {
          "base_uri": "https://localhost:8080/"
        },
        "outputId": "ef8e115f-36a9-4893-81b5-666258bc668b"
      },
      "execution_count": null,
      "outputs": [
        {
          "output_type": "stream",
          "name": "stdout",
          "text": [
            "LP val: 1976.9265140633297    Time=0.0006558895111083984  \n",
            "IP val: 2218.0    Time=198.63145184516907 \n"
          ]
        }
      ]
    },
    {
      "cell_type": "markdown",
      "source": [
        "Es posible otro modelo matemático basado en otras variables. En el modelo anterior la variable $x_t$ incluye tanto las unidades que se producen directamente para servir (parte de) la demanda del día $t$ como unidades nuevas que irán al almacén para ser usadas en días futuros. Para dar un modelo diferente pensemos en la variable $w_{it}$ que determina el número de unidades a fabricar el día $i$ que cubrirán (parte de) la demanda del día $t$, con $i\\leq t$:\n",
        "$$\n",
        "\\begin{array}\\\\\n",
        "\\mbox{ min } & \\sum_{t=1...n} \\left( f_t y_t + \\sum_{i=1...t} ( c_i + \\sum_{j=i...t-1} h_j) w_{it} \\right)  & \\\\\n",
        "&\\sum_{i=1...t} w_{it}=d_t & t=1,\\ldots,n\\\\\n",
        "& w_{it} \\leq d_t y_i  & t=1,\\ldots,n,\\;i=1,\\ldots,t\\\\\n",
        "    & y_t\\in\\{0,1\\} & t=1,\\ldots,n \n",
        "\\end{array}\n",
        "$$"
      ],
      "metadata": {
        "id": "XN2OSHlQuPzl"
      }
    },
    {
      "cell_type": "code",
      "source": [
        "model = Model(GLPK.Optimizer)\n",
        "@variable(model, y[1:n], Bin)\n",
        "@variable(model, w[1:n,1:n]>=0 )\n",
        "for i=1:n,t=1:i-1\n",
        "    set_upper_bound(w[i,t], 0)       #remove meaningless variables\n",
        "end\n",
        "@objective(model, Min, sum( f[t]*y[t] + sum( (c[i]+sum(h[j] for j=i:t-1))*w[i,t] for i=1:t) for t=1:n ))\n",
        "@constraint(model, [t=1:n], sum(w[i,t] for i=1:t) == d[t] )\n",
        "@constraint(model, [t=1:n,i=1:n], w[i,t]<=d[t]*y[i] )\n",
        "undo_relax = relax_integrality(model);\n",
        "optimize!(model)\n",
        "println(\"LP val: $(objective_value(model))    Time=$(solve_time(model))  \")\n",
        "undo_relax()\n",
        "optimize!(model)\n",
        "println(\"IP val: $(objective_value(model))    Time=$(solve_time(model)) \")"
      ],
      "metadata": {
        "id": "vjzKO-OHVnfH",
        "colab": {
          "base_uri": "https://localhost:8080/"
        },
        "outputId": "f6a7bf29-89da-4eb9-bc22-3afc35e0d748"
      },
      "execution_count": null,
      "outputs": [
        {
          "output_type": "stream",
          "name": "stdout",
          "text": [
            "LP val: 2218.0    Time=0.0184781551361084  \n",
            "IP val: 2218.0    Time=0.004739046096801758 \n"
          ]
        }
      ]
    },
    {
      "cell_type": "markdown",
      "source": [
        "Conviene observar que en este segundo modelo siempre sucede que la solución del problema relajado viene con las variables $y_t$ ya enteras. Por tanto, basta resolver un problema lineal continuo para obtener la solución entera óptima. Ha ocurrido igual que sucedió con el Problema de Asignación 2-dimensional. Esto es lo ideal, y en general *no ocurre* con cualquier problema de optimización. Lo apreciaremos mejor en el siguiente problema combinatorio."
      ],
      "metadata": {
        "id": "UuUIUB36ndk7"
      }
    },
    {
      "cell_type": "markdown",
      "source": [
        "# Problema de localización de plantas\n",
        "\n",
        "El problema de localización es otro problema clásico. Véase la [wikipedia](https://en.wikipedia.org/wiki/Facility_location_problem), por ejemplo. Dado un conjunto I de almacenes (orígenes) y un conjunto J de clientes (destinos), asumamos conocer la demanda de cada cliente, el stock de cada admacén, y el coste de llevar cada unidad de producto desde cada almacén a cada cliente. Respecto al problema de transporte, ahora aparece como novedad un coste fijo asociado a cada almacén que hay que añadir a la función objetivo cuando algún cliente necesita de dicho almacén en la solución.\n",
        "Se busca determinar cómo realizar el transporte para satisfacer toda la demanda con el menor coste total posible.\n",
        "\n",
        "A diferencia del problema de transporte, para el problema de localización no se conocen algoritmos polinomiales. Lo mejor que se conoce va en la línea de modelos matemáticos como el siguiente:"
      ],
      "metadata": {
        "id": "3J94SPVLM9fC"
      }
    },
    {
      "cell_type": "code",
      "source": [
        "n = 5    # number of facility locations\n",
        "m = 12   # number of clients\n",
        "\n",
        "Random.seed!(1234)\n",
        "Xf, Yf = rand(0:100,n), rand(0:100,n)   # Facilities' potential locations\n",
        "Xc, Yc = rand(0:100,m), rand(0:100,m)   # Clients' locations\n",
        "cost   = zeros(Float32,n,m)  # cost per unit from facility to customer\n",
        "for i=1:n, j=1:m\n",
        "    cost[i, j] = round(sqrt( (Xf[i] - Xc[j])^2 +(Yf[i] - Yc[j])^2 ),digits=0)\n",
        "end\n",
        "\n",
        "fix    = rand(20:30 , n)     # Fixed costs on facilities\n",
        "supply = rand(15:20, n)      # supply for facilities\n",
        "demand = rand(1:5, m)        # demands for customers\n",
        "\n",
        "if sum(supply)<sum(demand)\n",
        "    println(\" Hay poca disponibilidad en los almacenes y demasiada demanda en los clientes!!!\")\n",
        "    println(\" disponibilidad=\",sum(supply),\" demand=\",sum(demand) )\n",
        "    p = sum(supply)/sum(demand)   # an alternative to produce a feasible problem may be to reduce the served demand!\n",
        "    demand = floor(demand/p)\n",
        "end"
      ],
      "metadata": {
        "id": "4BlOeKRrQot8"
      },
      "execution_count": null,
      "outputs": []
    },
    {
      "cell_type": "markdown",
      "source": [
        "Antes de describir el modelo matemático, construyamos un procedimiento que nos muestre visualmente el caso que estamos resolviendo y otro procedimiento que nos visualice la solución que genera el modelo."
      ],
      "metadata": {
        "id": "oiKArBEwz1fZ"
      }
    },
    {
      "cell_type": "code",
      "source": [
        "using Pkg\n",
        "Pkg.add(\"Plots\")\n",
        "using Plots"
      ],
      "metadata": {
        "colab": {
          "base_uri": "https://localhost:8080/"
        },
        "id": "QirwxbL92jDg",
        "outputId": "7c70e8b7-4ed9-49da-8e64-db1376993045"
      },
      "execution_count": null,
      "outputs": [
        {
          "output_type": "stream",
          "name": "stderr",
          "text": [
            "\u001b[32m\u001b[1m   Resolving\u001b[22m\u001b[39m package versions...\n",
            "\u001b[32m\u001b[1m  No Changes\u001b[22m\u001b[39m to `~/.julia/environments/v1.8/Project.toml`\n",
            "\u001b[32m\u001b[1m  No Changes\u001b[22m\u001b[39m to `~/.julia/environments/v1.8/Manifest.toml`\n"
          ]
        }
      ]
    },
    {
      "cell_type": "code",
      "source": [
        "function DrawInstance()\n",
        "    Plots.scatter(\n",
        "        Xc,\n",
        "        Yc;\n",
        "        label = nothing,\n",
        "        markershape = :circle,\n",
        "        markercolor = :blue,\n",
        "        markersize = 2 .* (2 .+ demand),\n",
        "    )\n",
        "\n",
        "    Plots.scatter!(\n",
        "        Xf,\n",
        "        Yf;\n",
        "        label = nothing,\n",
        "        markershape = :rect,\n",
        "        markercolor = :white,\n",
        "        markersize = supply,\n",
        "        markerstrokecolor = :red,\n",
        "        markerstrokewidth = 2,\n",
        "    )\n",
        "end\n",
        "\n",
        "function DrawSolution()\n",
        "    x_ = value.(x)\n",
        "    y_ = value.(y)\n",
        "\n",
        "    p = Plots.scatter(\n",
        "        Xc,\n",
        "        Yc;\n",
        "        label = nothing,\n",
        "        markershape = :circle,\n",
        "        markercolor = :blue,\n",
        "        markersize = 2 .* (2 .+ demand),\n",
        "    )\n",
        "\n",
        "    Plots.scatter!(\n",
        "        Xf,\n",
        "        Yf;\n",
        "        label = nothing,\n",
        "        markershape = :square,\n",
        "        markercolor = [(y_[i] > 1e-5 ? :red : :white) for i in 1:n],\n",
        "        markersize = supply,\n",
        "        markerstrokecolor = :red,\n",
        "        markerstrokewidth = 2,\n",
        "    )\n",
        "\n",
        "    for i in 1:n, j in 1:m\n",
        "        if x_[i, j] > 1e-5\n",
        "            Plots.plot!(\n",
        "                [Xf[i], Xc[j]],\n",
        "                [Yf[i], Yc[j]];\n",
        "                color = ( x_[i,j] < demand[j]-1e-5 ? :black : :green ),\n",
        "                label = nothing,\n",
        "            )\n",
        "        end\n",
        "    end\n",
        "    p\n",
        "end"
      ],
      "metadata": {
        "colab": {
          "base_uri": "https://localhost:8080/"
        },
        "id": "zBDYlLoPYgdd",
        "outputId": "5ce902ef-8641-446b-ddd0-2c1261e81f65"
      },
      "execution_count": null,
      "outputs": [
        {
          "output_type": "execute_result",
          "data": {
            "text/plain": [
              "DrawSolution (generic function with 1 method)"
            ]
          },
          "metadata": {},
          "execution_count": 115
        }
      ]
    },
    {
      "cell_type": "code",
      "source": [
        "DrawInstance()"
      ],
      "metadata": {
        "colab": {
          "base_uri": "https://localhost:8080/"
        },
        "id": "uY64uSK_d9iV",
        "outputId": "7bac79d5-4d25-4db6-a120-894f64bb00b3"
      },
      "execution_count": null,
      "outputs": [
        {
          "output_type": "execute_result",
          "data": {
            "image/svg+xml": "<?xml version=\"1.0\" encoding=\"utf-8\"?>\n<svg xmlns=\"http://www.w3.org/2000/svg\" xmlns:xlink=\"http://www.w3.org/1999/xlink\" width=\"600\" height=\"400\" viewBox=\"0 0 2400 1600\">\n<defs>\n  <clipPath id=\"clip120\">\n    <rect x=\"0\" y=\"0\" width=\"2400\" height=\"1600\"/>\n  </clipPath>\n</defs>\n<path clip-path=\"url(#clip120)\" d=\"\nM0 1600 L2400 1600 L2400 0 L0 0  Z\n  \" fill=\"#ffffff\" fill-rule=\"evenodd\" fill-opacity=\"1\"/>\n<defs>\n  <clipPath id=\"clip121\">\n    <rect x=\"480\" y=\"0\" width=\"1681\" height=\"1600\"/>\n  </clipPath>\n</defs>\n<path clip-path=\"url(#clip120)\" d=\"\nM141.853 1486.45 L2352.76 1486.45 L2352.76 47.2441 L141.853 47.2441  Z\n  \" fill=\"#ffffff\" fill-rule=\"evenodd\" fill-opacity=\"1\"/>\n<defs>\n  <clipPath id=\"clip122\">\n    <rect x=\"141\" y=\"47\" width=\"2212\" height=\"1440\"/>\n  </clipPath>\n</defs>\n<polyline clip-path=\"url(#clip122)\" style=\"stroke:#000000; stroke-linecap:round; stroke-linejoin:round; stroke-width:2; stroke-opacity:0.1; fill:none\" points=\"\n  204.426,1486.45 204.426,47.2441 \n  \"/>\n<polyline clip-path=\"url(#clip122)\" style=\"stroke:#000000; stroke-linecap:round; stroke-linejoin:round; stroke-width:2; stroke-opacity:0.1; fill:none\" points=\"\n  725.865,1486.45 725.865,47.2441 \n  \"/>\n<polyline clip-path=\"url(#clip122)\" style=\"stroke:#000000; stroke-linecap:round; stroke-linejoin:round; stroke-width:2; stroke-opacity:0.1; fill:none\" points=\"\n  1247.3,1486.45 1247.3,47.2441 \n  \"/>\n<polyline clip-path=\"url(#clip122)\" style=\"stroke:#000000; stroke-linecap:round; stroke-linejoin:round; stroke-width:2; stroke-opacity:0.1; fill:none\" points=\"\n  1768.74,1486.45 1768.74,47.2441 \n  \"/>\n<polyline clip-path=\"url(#clip122)\" style=\"stroke:#000000; stroke-linecap:round; stroke-linejoin:round; stroke-width:2; stroke-opacity:0.1; fill:none\" points=\"\n  2290.18,1486.45 2290.18,47.2441 \n  \"/>\n<polyline clip-path=\"url(#clip120)\" style=\"stroke:#000000; stroke-linecap:round; stroke-linejoin:round; stroke-width:4; stroke-opacity:1; fill:none\" points=\"\n  141.853,1486.45 2352.76,1486.45 \n  \"/>\n<polyline clip-path=\"url(#clip120)\" style=\"stroke:#000000; stroke-linecap:round; stroke-linejoin:round; stroke-width:4; stroke-opacity:1; fill:none\" points=\"\n  204.426,1486.45 204.426,1467.55 \n  \"/>\n<polyline clip-path=\"url(#clip120)\" style=\"stroke:#000000; stroke-linecap:round; stroke-linejoin:round; stroke-width:4; stroke-opacity:1; fill:none\" points=\"\n  725.865,1486.45 725.865,1467.55 \n  \"/>\n<polyline clip-path=\"url(#clip120)\" style=\"stroke:#000000; stroke-linecap:round; stroke-linejoin:round; stroke-width:4; stroke-opacity:1; fill:none\" points=\"\n  1247.3,1486.45 1247.3,1467.55 \n  \"/>\n<polyline clip-path=\"url(#clip120)\" style=\"stroke:#000000; stroke-linecap:round; stroke-linejoin:round; stroke-width:4; stroke-opacity:1; fill:none\" points=\"\n  1768.74,1486.45 1768.74,1467.55 \n  \"/>\n<polyline clip-path=\"url(#clip120)\" style=\"stroke:#000000; stroke-linecap:round; stroke-linejoin:round; stroke-width:4; stroke-opacity:1; fill:none\" points=\"\n  2290.18,1486.45 2290.18,1467.55 \n  \"/>\n<path clip-path=\"url(#clip120)\" d=\"M204.426 1517.37 Q200.815 1517.37 198.986 1520.93 Q197.18 1524.47 197.18 1531.6 Q197.18 1538.71 198.986 1542.27 Q200.815 1545.82 204.426 1545.82 Q208.06 1545.82 209.865 1542.27 Q211.694 1538.71 211.694 1531.6 Q211.694 1524.47 209.865 1520.93 Q208.06 1517.37 204.426 1517.37 M204.426 1513.66 Q210.236 1513.66 213.291 1518.27 Q216.37 1522.85 216.37 1531.6 Q216.37 1540.33 213.291 1544.94 Q210.236 1549.52 204.426 1549.52 Q198.616 1549.52 195.537 1544.94 Q192.481 1540.33 192.481 1531.6 Q192.481 1522.85 195.537 1518.27 Q198.616 1513.66 204.426 1513.66 Z\" fill=\"#000000\" fill-rule=\"evenodd\" fill-opacity=\"1\" /><path clip-path=\"url(#clip120)\" d=\"M705.136 1544.91 L721.455 1544.91 L721.455 1548.85 L699.511 1548.85 L699.511 1544.91 Q702.173 1542.16 706.756 1537.53 Q711.363 1532.88 712.543 1531.53 Q714.789 1529.01 715.668 1527.27 Q716.571 1525.51 716.571 1523.82 Q716.571 1521.07 714.627 1519.33 Q712.705 1517.6 709.604 1517.6 Q707.404 1517.6 704.951 1518.36 Q702.52 1519.13 699.743 1520.68 L699.743 1515.95 Q702.567 1514.82 705.02 1514.24 Q707.474 1513.66 709.511 1513.66 Q714.881 1513.66 718.076 1516.35 Q721.27 1519.03 721.27 1523.52 Q721.27 1525.65 720.46 1527.57 Q719.673 1529.47 717.566 1532.07 Q716.988 1532.74 713.886 1535.95 Q710.784 1539.15 705.136 1544.91 Z\" fill=\"#000000\" fill-rule=\"evenodd\" fill-opacity=\"1\" /><path clip-path=\"url(#clip120)\" d=\"M731.316 1514.29 L749.673 1514.29 L749.673 1518.22 L735.599 1518.22 L735.599 1526.7 Q736.617 1526.35 737.636 1526.19 Q738.654 1526 739.673 1526 Q745.46 1526 748.839 1529.17 Q752.219 1532.34 752.219 1537.76 Q752.219 1543.34 748.747 1546.44 Q745.275 1549.52 738.955 1549.52 Q736.779 1549.52 734.511 1549.15 Q732.265 1548.78 729.858 1548.04 L729.858 1543.34 Q731.941 1544.47 734.164 1545.03 Q736.386 1545.58 738.863 1545.58 Q742.867 1545.58 745.205 1543.48 Q747.543 1541.37 747.543 1537.76 Q747.543 1534.15 745.205 1532.04 Q742.867 1529.94 738.863 1529.94 Q736.988 1529.94 735.113 1530.35 Q733.261 1530.77 731.316 1531.65 L731.316 1514.29 Z\" fill=\"#000000\" fill-rule=\"evenodd\" fill-opacity=\"1\" /><path clip-path=\"url(#clip120)\" d=\"M1222 1514.29 L1240.36 1514.29 L1240.36 1518.22 L1226.29 1518.22 L1226.29 1526.7 Q1227.3 1526.35 1228.32 1526.19 Q1229.34 1526 1230.36 1526 Q1236.15 1526 1239.53 1529.17 Q1242.91 1532.34 1242.91 1537.76 Q1242.91 1543.34 1239.43 1546.44 Q1235.96 1549.52 1229.64 1549.52 Q1227.47 1549.52 1225.2 1549.15 Q1222.95 1548.78 1220.55 1548.04 L1220.55 1543.34 Q1222.63 1544.47 1224.85 1545.03 Q1227.07 1545.58 1229.55 1545.58 Q1233.55 1545.58 1235.89 1543.48 Q1238.23 1541.37 1238.23 1537.76 Q1238.23 1534.15 1235.89 1532.04 Q1233.55 1529.94 1229.55 1529.94 Q1227.67 1529.94 1225.8 1530.35 Q1223.95 1530.77 1222 1531.65 L1222 1514.29 Z\" fill=\"#000000\" fill-rule=\"evenodd\" fill-opacity=\"1\" /><path clip-path=\"url(#clip120)\" d=\"M1262.12 1517.37 Q1258.51 1517.37 1256.68 1520.93 Q1254.87 1524.47 1254.87 1531.6 Q1254.87 1538.71 1256.68 1542.27 Q1258.51 1545.82 1262.12 1545.82 Q1265.75 1545.82 1267.56 1542.27 Q1269.39 1538.71 1269.39 1531.6 Q1269.39 1524.47 1267.56 1520.93 Q1265.75 1517.37 1262.12 1517.37 M1262.12 1513.66 Q1267.93 1513.66 1270.98 1518.27 Q1274.06 1522.85 1274.06 1531.6 Q1274.06 1540.33 1270.98 1544.94 Q1267.93 1549.52 1262.12 1549.52 Q1256.31 1549.52 1253.23 1544.94 Q1250.17 1540.33 1250.17 1531.6 Q1250.17 1522.85 1253.23 1518.27 Q1256.31 1513.66 1262.12 1513.66 Z\" fill=\"#000000\" fill-rule=\"evenodd\" fill-opacity=\"1\" /><path clip-path=\"url(#clip120)\" d=\"M1742.6 1514.29 L1764.82 1514.29 L1764.82 1516.28 L1752.27 1548.85 L1747.39 1548.85 L1759.2 1518.22 L1742.6 1518.22 L1742.6 1514.29 Z\" fill=\"#000000\" fill-rule=\"evenodd\" fill-opacity=\"1\" /><path clip-path=\"url(#clip120)\" d=\"M1773.99 1514.29 L1792.34 1514.29 L1792.34 1518.22 L1778.27 1518.22 L1778.27 1526.7 Q1779.29 1526.35 1780.31 1526.19 Q1781.32 1526 1782.34 1526 Q1788.13 1526 1791.51 1529.17 Q1794.89 1532.34 1794.89 1537.76 Q1794.89 1543.34 1791.42 1546.44 Q1787.95 1549.52 1781.63 1549.52 Q1779.45 1549.52 1777.18 1549.15 Q1774.94 1548.78 1772.53 1548.04 L1772.53 1543.34 Q1774.61 1544.47 1776.83 1545.03 Q1779.06 1545.58 1781.53 1545.58 Q1785.54 1545.58 1787.88 1543.48 Q1790.21 1541.37 1790.21 1537.76 Q1790.21 1534.15 1787.88 1532.04 Q1785.54 1529.94 1781.53 1529.94 Q1779.66 1529.94 1777.78 1530.35 Q1775.93 1530.77 1773.99 1531.65 L1773.99 1514.29 Z\" fill=\"#000000\" fill-rule=\"evenodd\" fill-opacity=\"1\" /><path clip-path=\"url(#clip120)\" d=\"M2249.79 1544.91 L2257.43 1544.91 L2257.43 1518.55 L2249.12 1520.21 L2249.12 1515.95 L2257.38 1514.29 L2262.06 1514.29 L2262.06 1544.91 L2269.7 1544.91 L2269.7 1548.85 L2249.79 1548.85 L2249.79 1544.91 Z\" fill=\"#000000\" fill-rule=\"evenodd\" fill-opacity=\"1\" /><path clip-path=\"url(#clip120)\" d=\"M2289.14 1517.37 Q2285.53 1517.37 2283.7 1520.93 Q2281.9 1524.47 2281.9 1531.6 Q2281.9 1538.71 2283.7 1542.27 Q2285.53 1545.82 2289.14 1545.82 Q2292.78 1545.82 2294.58 1542.27 Q2296.41 1538.71 2296.41 1531.6 Q2296.41 1524.47 2294.58 1520.93 Q2292.78 1517.37 2289.14 1517.37 M2289.14 1513.66 Q2294.95 1513.66 2298.01 1518.27 Q2301.09 1522.85 2301.09 1531.6 Q2301.09 1540.33 2298.01 1544.94 Q2294.95 1549.52 2289.14 1549.52 Q2283.33 1549.52 2280.25 1544.94 Q2277.2 1540.33 2277.2 1531.6 Q2277.2 1522.85 2280.25 1518.27 Q2283.33 1513.66 2289.14 1513.66 Z\" fill=\"#000000\" fill-rule=\"evenodd\" fill-opacity=\"1\" /><path clip-path=\"url(#clip120)\" d=\"M2319.3 1517.37 Q2315.69 1517.37 2313.86 1520.93 Q2312.06 1524.47 2312.06 1531.6 Q2312.06 1538.71 2313.86 1542.27 Q2315.69 1545.82 2319.3 1545.82 Q2322.94 1545.82 2324.74 1542.27 Q2326.57 1538.71 2326.57 1531.6 Q2326.57 1524.47 2324.74 1520.93 Q2322.94 1517.37 2319.3 1517.37 M2319.3 1513.66 Q2325.11 1513.66 2328.17 1518.27 Q2331.25 1522.85 2331.25 1531.6 Q2331.25 1540.33 2328.17 1544.94 Q2325.11 1549.52 2319.3 1549.52 Q2313.49 1549.52 2310.41 1544.94 Q2307.36 1540.33 2307.36 1531.6 Q2307.36 1522.85 2310.41 1518.27 Q2313.49 1513.66 2319.3 1513.66 Z\" fill=\"#000000\" fill-rule=\"evenodd\" fill-opacity=\"1\" /><polyline clip-path=\"url(#clip122)\" style=\"stroke:#000000; stroke-linecap:round; stroke-linejoin:round; stroke-width:2; stroke-opacity:0.1; fill:none\" points=\"\n  141.853,1316.41 2352.76,1316.41 \n  \"/>\n<polyline clip-path=\"url(#clip122)\" style=\"stroke:#000000; stroke-linecap:round; stroke-linejoin:round; stroke-width:2; stroke-opacity:0.1; fill:none\" points=\"\n  141.853,993.136 2352.76,993.136 \n  \"/>\n<polyline clip-path=\"url(#clip122)\" style=\"stroke:#000000; stroke-linecap:round; stroke-linejoin:round; stroke-width:2; stroke-opacity:0.1; fill:none\" points=\"\n  141.853,669.865 2352.76,669.865 \n  \"/>\n<polyline clip-path=\"url(#clip122)\" style=\"stroke:#000000; stroke-linecap:round; stroke-linejoin:round; stroke-width:2; stroke-opacity:0.1; fill:none\" points=\"\n  141.853,346.593 2352.76,346.593 \n  \"/>\n<polyline clip-path=\"url(#clip120)\" style=\"stroke:#000000; stroke-linecap:round; stroke-linejoin:round; stroke-width:4; stroke-opacity:1; fill:none\" points=\"\n  141.853,1486.45 141.853,47.2441 \n  \"/>\n<polyline clip-path=\"url(#clip120)\" style=\"stroke:#000000; stroke-linecap:round; stroke-linejoin:round; stroke-width:4; stroke-opacity:1; fill:none\" points=\"\n  141.853,1316.41 160.751,1316.41 \n  \"/>\n<polyline clip-path=\"url(#clip120)\" style=\"stroke:#000000; stroke-linecap:round; stroke-linejoin:round; stroke-width:4; stroke-opacity:1; fill:none\" points=\"\n  141.853,993.136 160.751,993.136 \n  \"/>\n<polyline clip-path=\"url(#clip120)\" style=\"stroke:#000000; stroke-linecap:round; stroke-linejoin:round; stroke-width:4; stroke-opacity:1; fill:none\" points=\"\n  141.853,669.865 160.751,669.865 \n  \"/>\n<polyline clip-path=\"url(#clip120)\" style=\"stroke:#000000; stroke-linecap:round; stroke-linejoin:round; stroke-width:4; stroke-opacity:1; fill:none\" points=\"\n  141.853,346.593 160.751,346.593 \n  \"/>\n<path clip-path=\"url(#clip120)\" d=\"M57.7745 1329.75 L74.0939 1329.75 L74.0939 1333.69 L52.1495 1333.69 L52.1495 1329.75 Q54.8115 1327 59.3949 1322.37 Q64.0013 1317.72 65.1819 1316.37 Q67.4272 1313.85 68.3068 1312.11 Q69.2096 1310.35 69.2096 1308.66 Q69.2096 1305.91 67.2652 1304.17 Q65.3439 1302.44 62.2421 1302.44 Q60.043 1302.44 57.5893 1303.2 Q55.1588 1303.97 52.381 1305.52 L52.381 1300.79 Q55.2051 1299.66 57.6588 1299.08 Q60.1124 1298.5 62.1495 1298.5 Q67.5198 1298.5 70.7142 1301.19 Q73.9087 1303.87 73.9087 1308.36 Q73.9087 1310.49 73.0985 1312.41 Q72.3115 1314.31 70.205 1316.9 Q69.6263 1317.58 66.5245 1320.79 Q63.4226 1323.99 57.7745 1329.75 Z\" fill=\"#000000\" fill-rule=\"evenodd\" fill-opacity=\"1\" /><path clip-path=\"url(#clip120)\" d=\"M93.9086 1302.21 Q90.2975 1302.21 88.4688 1305.77 Q86.6632 1309.31 86.6632 1316.44 Q86.6632 1323.55 88.4688 1327.11 Q90.2975 1330.65 93.9086 1330.65 Q97.5428 1330.65 99.3483 1327.11 Q101.177 1323.55 101.177 1316.44 Q101.177 1309.31 99.3483 1305.77 Q97.5428 1302.21 93.9086 1302.21 M93.9086 1298.5 Q99.7187 1298.5 102.774 1303.11 Q105.853 1307.69 105.853 1316.44 Q105.853 1325.17 102.774 1329.78 Q99.7187 1334.36 93.9086 1334.36 Q88.0984 1334.36 85.0197 1329.78 Q81.9642 1325.17 81.9642 1316.44 Q81.9642 1307.69 85.0197 1303.11 Q88.0984 1298.5 93.9086 1298.5 Z\" fill=\"#000000\" fill-rule=\"evenodd\" fill-opacity=\"1\" /><path clip-path=\"url(#clip120)\" d=\"M66.5939 979.93 L54.7884 998.379 L66.5939 998.379 L66.5939 979.93 M65.367 975.856 L71.2466 975.856 L71.2466 998.379 L76.1772 998.379 L76.1772 1002.27 L71.2466 1002.27 L71.2466 1010.42 L66.5939 1010.42 L66.5939 1002.27 L50.9921 1002.27 L50.9921 997.754 L65.367 975.856 Z\" fill=\"#000000\" fill-rule=\"evenodd\" fill-opacity=\"1\" /><path clip-path=\"url(#clip120)\" d=\"M93.9086 978.935 Q90.2975 978.935 88.4688 982.499 Q86.6632 986.041 86.6632 993.171 Q86.6632 1000.28 88.4688 1003.84 Q90.2975 1007.38 93.9086 1007.38 Q97.5428 1007.38 99.3483 1003.84 Q101.177 1000.28 101.177 993.171 Q101.177 986.041 99.3483 982.499 Q97.5428 978.935 93.9086 978.935 M93.9086 975.231 Q99.7187 975.231 102.774 979.837 Q105.853 984.421 105.853 993.171 Q105.853 1001.9 102.774 1006.5 Q99.7187 1011.09 93.9086 1011.09 Q88.0984 1011.09 85.0197 1006.5 Q81.9642 1001.9 81.9642 993.171 Q81.9642 984.421 85.0197 979.837 Q88.0984 975.231 93.9086 975.231 Z\" fill=\"#000000\" fill-rule=\"evenodd\" fill-opacity=\"1\" /><path clip-path=\"url(#clip120)\" d=\"M64.3254 668.001 Q61.1773 668.001 59.3254 670.154 Q57.4967 672.307 57.4967 676.057 Q57.4967 679.784 59.3254 681.959 Q61.1773 684.112 64.3254 684.112 Q67.4735 684.112 69.3022 681.959 Q71.1541 679.784 71.1541 676.057 Q71.1541 672.307 69.3022 670.154 Q67.4735 668.001 64.3254 668.001 M73.6077 653.348 L73.6077 657.608 Q71.8485 656.774 70.0429 656.335 Q68.2606 655.895 66.5013 655.895 Q61.8717 655.895 59.418 659.02 Q56.9875 662.145 56.6402 668.464 Q58.006 666.45 60.0662 665.385 Q62.1263 664.297 64.6032 664.297 Q69.8115 664.297 72.8207 667.469 Q75.8531 670.617 75.8531 676.057 Q75.8531 681.381 72.705 684.598 Q69.5568 687.816 64.3254 687.816 Q58.33 687.816 55.1588 683.233 Q51.9875 678.626 51.9875 669.899 Q51.9875 661.705 55.8764 656.844 Q59.7652 651.96 66.3161 651.96 Q68.0754 651.96 69.8578 652.307 Q71.6633 652.654 73.6077 653.348 Z\" fill=\"#000000\" fill-rule=\"evenodd\" fill-opacity=\"1\" /><path clip-path=\"url(#clip120)\" d=\"M93.9086 655.663 Q90.2975 655.663 88.4688 659.228 Q86.6632 662.77 86.6632 669.899 Q86.6632 677.006 88.4688 680.571 Q90.2975 684.112 93.9086 684.112 Q97.5428 684.112 99.3483 680.571 Q101.177 677.006 101.177 669.899 Q101.177 662.77 99.3483 659.228 Q97.5428 655.663 93.9086 655.663 M93.9086 651.96 Q99.7187 651.96 102.774 656.566 Q105.853 661.149 105.853 669.899 Q105.853 678.626 102.774 683.233 Q99.7187 687.816 93.9086 687.816 Q88.0984 687.816 85.0197 683.233 Q81.9642 678.626 81.9642 669.899 Q81.9642 661.149 85.0197 656.566 Q88.0984 651.96 93.9086 651.96 Z\" fill=\"#000000\" fill-rule=\"evenodd\" fill-opacity=\"1\" /><path clip-path=\"url(#clip120)\" d=\"M63.7467 347.461 Q60.4134 347.461 58.4921 349.244 Q56.5939 351.026 56.5939 354.151 Q56.5939 357.276 58.4921 359.059 Q60.4134 360.841 63.7467 360.841 Q67.08 360.841 69.0013 359.059 Q70.9226 357.253 70.9226 354.151 Q70.9226 351.026 69.0013 349.244 Q67.1032 347.461 63.7467 347.461 M59.0708 345.471 Q56.0615 344.73 54.3717 342.67 Q52.7051 340.61 52.7051 337.647 Q52.7051 333.503 55.6449 331.096 Q58.6078 328.688 63.7467 328.688 Q68.9087 328.688 71.8485 331.096 Q74.7883 333.503 74.7883 337.647 Q74.7883 340.61 73.0985 342.67 Q71.4318 344.73 68.4457 345.471 Q71.8253 346.258 73.7003 348.549 Q75.5985 350.841 75.5985 354.151 Q75.5985 359.174 72.5198 361.859 Q69.4642 364.545 63.7467 364.545 Q58.0291 364.545 54.9504 361.859 Q51.8949 359.174 51.8949 354.151 Q51.8949 350.841 53.793 348.549 Q55.6912 346.258 59.0708 345.471 M57.3578 338.086 Q57.3578 340.772 59.0245 342.276 Q60.7143 343.781 63.7467 343.781 Q66.7559 343.781 68.4457 342.276 Q70.1587 340.772 70.1587 338.086 Q70.1587 335.401 68.4457 333.897 Q66.7559 332.392 63.7467 332.392 Q60.7143 332.392 59.0245 333.897 Q57.3578 335.401 57.3578 338.086 Z\" fill=\"#000000\" fill-rule=\"evenodd\" fill-opacity=\"1\" /><path clip-path=\"url(#clip120)\" d=\"M93.9086 332.392 Q90.2975 332.392 88.4688 335.957 Q86.6632 339.498 86.6632 346.628 Q86.6632 353.734 88.4688 357.299 Q90.2975 360.841 93.9086 360.841 Q97.5428 360.841 99.3483 357.299 Q101.177 353.734 101.177 346.628 Q101.177 339.498 99.3483 335.957 Q97.5428 332.392 93.9086 332.392 M93.9086 328.688 Q99.7187 328.688 102.774 333.295 Q105.853 337.878 105.853 346.628 Q105.853 355.355 102.774 359.961 Q99.7187 364.545 93.9086 364.545 Q88.0984 364.545 85.0197 359.961 Q81.9642 355.355 81.9642 346.628 Q81.9642 337.878 85.0197 333.295 Q88.0984 328.688 93.9086 328.688 Z\" fill=\"#000000\" fill-rule=\"evenodd\" fill-opacity=\"1\" /><circle clip-path=\"url(#clip122)\" cx=\"1414.17\" cy=\"718.355\" r=\"36\" fill=\"#0000ff\" fill-rule=\"evenodd\" fill-opacity=\"1\" stroke=\"#000000\" stroke-opacity=\"1\" stroke-width=\"3.2\"/>\n<circle clip-path=\"url(#clip122)\" cx=\"1727.03\" cy=\"1235.59\" r=\"28.8\" fill=\"#0000ff\" fill-rule=\"evenodd\" fill-opacity=\"1\" stroke=\"#000000\" stroke-opacity=\"1\" stroke-width=\"3.2\"/>\n<circle clip-path=\"url(#clip122)\" cx=\"204.426\" cy=\"621.374\" r=\"28.8\" fill=\"#0000ff\" fill-rule=\"evenodd\" fill-opacity=\"1\" stroke=\"#000000\" stroke-opacity=\"1\" stroke-width=\"3.2\"/>\n<circle clip-path=\"url(#clip122)\" cx=\"621.577\" cy=\"1267.92\" r=\"50.4\" fill=\"#0000ff\" fill-rule=\"evenodd\" fill-opacity=\"1\" stroke=\"#000000\" stroke-opacity=\"1\" stroke-width=\"3.2\"/>\n<circle clip-path=\"url(#clip122)\" cx=\"1122.16\" cy=\"1445.72\" r=\"50.4\" fill=\"#0000ff\" fill-rule=\"evenodd\" fill-opacity=\"1\" stroke=\"#000000\" stroke-opacity=\"1\" stroke-width=\"3.2\"/>\n<circle clip-path=\"url(#clip122)\" cx=\"1622.74\" cy=\"653.701\" r=\"43.2\" fill=\"#0000ff\" fill-rule=\"evenodd\" fill-opacity=\"1\" stroke=\"#000000\" stroke-opacity=\"1\" stroke-width=\"3.2\"/>\n<circle clip-path=\"url(#clip122)\" cx=\"2206.75\" cy=\"556.72\" r=\"36\" fill=\"#0000ff\" fill-rule=\"evenodd\" fill-opacity=\"1\" stroke=\"#000000\" stroke-opacity=\"1\" stroke-width=\"3.2\"/>\n<circle clip-path=\"url(#clip122)\" cx=\"1560.17\" cy=\"411.248\" r=\"50.4\" fill=\"#0000ff\" fill-rule=\"evenodd\" fill-opacity=\"1\" stroke=\"#000000\" stroke-opacity=\"1\" stroke-width=\"3.2\"/>\n<circle clip-path=\"url(#clip122)\" cx=\"2290.18\" cy=\"686.028\" r=\"36\" fill=\"#0000ff\" fill-rule=\"evenodd\" fill-opacity=\"1\" stroke=\"#000000\" stroke-opacity=\"1\" stroke-width=\"3.2\"/>\n<circle clip-path=\"url(#clip122)\" cx=\"1768.74\" cy=\"1057.79\" r=\"50.4\" fill=\"#0000ff\" fill-rule=\"evenodd\" fill-opacity=\"1\" stroke=\"#000000\" stroke-opacity=\"1\" stroke-width=\"3.2\"/>\n<circle clip-path=\"url(#clip122)\" cx=\"433.859\" cy=\"1429.55\" r=\"50.4\" fill=\"#0000ff\" fill-rule=\"evenodd\" fill-opacity=\"1\" stroke=\"#000000\" stroke-opacity=\"1\" stroke-width=\"3.2\"/>\n<circle clip-path=\"url(#clip122)\" cx=\"1226.45\" cy=\"104.14\" r=\"36\" fill=\"#0000ff\" fill-rule=\"evenodd\" fill-opacity=\"1\" stroke=\"#000000\" stroke-opacity=\"1\" stroke-width=\"3.2\"/>\n<path clip-path=\"url(#clip122)\" d=\"M811.868 949.299 L811.868 1069.3 L931.868 1069.3 L931.868 949.299 L811.868 949.299 Z\" fill=\"#ffffff\" fill-rule=\"evenodd\" fill-opacity=\"1\" stroke=\"#ff0000\" stroke-opacity=\"1\" stroke-width=\"6.4\"/>\n<path clip-path=\"url(#clip122)\" d=\"M1271.59 7.97628 L1271.59 167.976 L1431.59 167.976 L1431.59 7.97628 L1271.59 7.97628 Z\" fill=\"#ffffff\" fill-rule=\"evenodd\" fill-opacity=\"1\" stroke=\"#ff0000\" stroke-opacity=\"1\" stroke-width=\"6.4\"/>\n<path clip-path=\"url(#clip122)\" d=\"M595.292 278.593 L595.292 414.593 L731.292 414.593 L731.292 278.593 L595.292 278.593 Z\" fill=\"#ffffff\" fill-rule=\"evenodd\" fill-opacity=\"1\" stroke=\"#ff0000\" stroke-opacity=\"1\" stroke-width=\"6.4\"/>\n<path clip-path=\"url(#clip122)\" d=\"M2005.61 771.664 L2005.61 923.664 L2157.61 923.664 L2157.61 771.664 L2005.61 771.664 Z\" fill=\"#ffffff\" fill-rule=\"evenodd\" fill-opacity=\"1\" stroke=\"#ff0000\" stroke-opacity=\"1\" stroke-width=\"6.4\"/>\n<path clip-path=\"url(#clip122)\" d=\"M870.441 363.411 L870.441 491.411 L998.441 491.411 L998.441 363.411 L870.441 363.411 Z\" fill=\"#ffffff\" fill-rule=\"evenodd\" fill-opacity=\"1\" stroke=\"#ff0000\" stroke-opacity=\"1\" stroke-width=\"6.4\"/>\n</svg>\n"
          },
          "metadata": {},
          "execution_count": 116
        }
      ]
    },
    {
      "cell_type": "markdown",
      "source": [
        "Ahora sí estamos preparados para centrarnos en el modelo matemático:"
      ],
      "metadata": {
        "id": "ELGaWvA80OUJ"
      }
    },
    {
      "cell_type": "code",
      "source": [
        "function UFLP0()\n",
        "  model = Model(GLPK.Optimizer)\n",
        "  @variable(model, y[1:n], Bin)\n",
        "  @variable(model, x[1:n, 1:m]>=0 )\n",
        "  @constraint(model, [i=1:n],       sum(x[i,:]) <= supply[i] * y[i]  )\n",
        "  @constraint(model, [j=1:m],       sum(x[:,j]) >= demand[j]  )\n",
        "  @constraint(model, [i=1:n, j=1:m],  x[i,j] <= demand[j] * y[i]  )\n",
        "  @objective(model, Min,    fix'y + sum(cost .* x)    )\n",
        "  optimize!(model)\n",
        "  if termination_status(model)==OPTIMAL\n",
        "    print(\"Optimal obj value: \", objective_value(model),\"  = \",fix'value.(y),\" + \",sum( cost .* value.(x) ))\n",
        "    println(\"  Open facilities: \",value.(y))\n",
        "#   DrawSolution()\n",
        "    return objective_value(model)\n",
        "  else\n",
        "    println(\"infeasible\")\n",
        "    return -1\n",
        "  end\n",
        "end"
      ],
      "metadata": {
        "colab": {
          "base_uri": "https://localhost:8080/"
        },
        "id": "wMfbIR7CeUI0",
        "outputId": "05d392bc-d5d5-4a41-889f-7a48666a8efc"
      },
      "execution_count": null,
      "outputs": [
        {
          "output_type": "execute_result",
          "data": {
            "text/plain": [
              "UFLP0 (generic function with 2 methods)"
            ]
          },
          "metadata": {},
          "execution_count": 117
        }
      ]
    },
    {
      "cell_type": "code",
      "source": [
        "UFL0()"
      ],
      "metadata": {
        "colab": {
          "base_uri": "https://localhost:8080/"
        },
        "id": "b72TyMUebAYk",
        "outputId": "6285bdf2-c3cd-4a98-d1fe-a0e3359ef74b"
      },
      "execution_count": null,
      "outputs": [
        {
          "output_type": "error",
          "ename": "LoadError",
          "evalue": "ignored",
          "traceback": [
            "InterruptException:",
            "",
            "Stacktrace:",
            " [1] top-level scope",
            "   @ In[118]:1",
            " [2] eval",
            "   @ ./boot.jl:368 [inlined]",
            " [3] include_string(mapexpr::typeof(REPL.softscope), mod::Module, code::String, filename::String)",
            "   @ Base ./loading.jl:1428"
          ]
        }
      ]
    },
    {
      "cell_type": "markdown",
      "source": [
        "El problema de localización descrito se diferencia del problema de transporte en cuanto incluye en el costo el usar o no un almacén. No importa cuántos clientes lo usen. Esta característica lo complica drásticamente. Pero se puede complicar incluso más si además exigimos que cualquier *cliente sea servido exclusivamente por un único almacén*. Para esto segundo conviene introducir una nueva variable $z_{ij}$ y el modelo matemático cambia como se describe en la siguiente celda:"
      ],
      "metadata": {
        "id": "TQKpjBrlcu-E"
      }
    },
    {
      "cell_type": "code",
      "source": [
        "function UFLP1()\n",
        "    model = Model(GLPK.Optimizer)\n",
        "    @variable(model, y[1:n], Bin)\n",
        "    @variable(model, z[1:n, 1:m], Bin)\n",
        "    @constraint(model, [j=1:m],       sum(z[:,j]) == 1  )\n",
        "    @constraint(model, [i=1:n, j=1:m],  z[i,j] <= y[i]  )\n",
        "    @constraint(model, [i=1:n],       sum(demand[j]*z[i,j] for j=1:m) <= supply[i] * y[i]  )\n",
        "    @objective(model, Min,    fix'y + sum(cost[i,j]*demand[j]*z[i,j] for i=1:n,j=1:m  ) )\n",
        "    optimize!(model)\n",
        "    if termination_status(model)==OPTIMAL\n",
        "      print(\"Optimal obj value: \", objective_value(model),\"  = \",fix'value.(y),\" + \", sum( cost[i,j]*demand[j]*value.(z[i,j]) for i=1:n,j=1:m  ) )\n",
        "      println(\"  Open facilities: \",value.(y))\n",
        "  #   DrawSolution()\n",
        "      return objective_value(model)\n",
        "    else\n",
        "      println(\"infeasible\")\n",
        "      return -1\n",
        "    end\n",
        "end\n"
      ],
      "metadata": {
        "colab": {
          "base_uri": "https://localhost:8080/"
        },
        "id": "Ch3GpgH-ZkG9",
        "outputId": "06dbf1b8-987d-447c-fa00-8ff997b1db64"
      },
      "execution_count": null,
      "outputs": [
        {
          "output_type": "execute_result",
          "data": {
            "text/plain": [
              "UFLP1 (generic function with 2 methods)"
            ]
          },
          "metadata": {},
          "execution_count": 119
        }
      ]
    },
    {
      "cell_type": "code",
      "source": [
        "UFLP1()"
      ],
      "metadata": {
        "colab": {
          "base_uri": "https://localhost:8080/"
        },
        "id": "Yv7rwOMfuhMx",
        "outputId": "a9fa426b-1f85-4742-ca0d-34634ce8ac79"
      },
      "execution_count": null,
      "outputs": [
        {
          "output_type": "error",
          "ename": "LoadError",
          "evalue": "ignored",
          "traceback": [
            "InterruptException:",
            "",
            "Stacktrace:",
            " [1] top-level scope",
            "   @ In[120]:1",
            " [2] eval",
            "   @ ./boot.jl:368 [inlined]",
            " [3] include_string(mapexpr::typeof(REPL.softscope), mod::Module, code::String, filename::String)",
            "   @ Base ./loading.jl:1428"
          ]
        }
      ]
    },
    {
      "cell_type": "markdown",
      "source": [
        "Cuando el problema de localización no es factible porque $\\sum_j d_j > \\sum_i q_i$, arriba hemos sugerido reducir las demandas proporcionalmente. Notemos que la reducción propuesta hará factible el problema donde un cliente puede ser servido desde varias plantas, pero no necesariamente el problema donde un cliente debe ser servido desde una planta. El siguiente modelo calcula el mayor $p$ que garantiza factibilidad en este segundo problema:\n",
        "$$\n",
        "\\begin{array}\n",
        "\\mbox{ Max } & p \\\\\n",
        "&\\sum_{i\\in I} z_{ij} = 1 & j\\in J\\\\\n",
        "&z_{ij} \\leq y_i & i \\in I\\\\\n",
        "&\\sum_{j\\in J} p d_j z_{ij} \\leq q_i y_i & i\\in I\\\\\n",
        "&z_{ij}\\in\\{0,1\\}& i\\in I, j\\in J\\\\\n",
        "&y_i\\in \\{0,1\\} & i\\in I\n",
        "\\end{array}\n",
        "$$\n",
        "Observa que el modelo escrito es no-lineal debido a que $p$ y $z_{ij}$ son incógnitas y aparecen multiplicadas en una desigualdad. Una forma de eludir este inconveniente es:\n",
        "$$\n",
        "\\begin{array}\n",
        "\\mbox{ Max } & p \\\\\n",
        "&\\sum_{i\\in I} z_{ij} = 1 & j\\in J\\\\\n",
        "&z_{ij} \\leq y_i & i \\in I\\\\\n",
        "&\\sum_{j\\in J} x_{ij} \\leq q_i y_i & i\\in I\\\\\n",
        "&-\\overline p d_j (1-z_{ij}) + p d_j \\leq x_{ij} \\leq p d_j  +\\overline p d_j (1-z_{ij}) & i\\in I,j\\in J\\\\\n",
        "&0\\leq x_{ij} \\leq \\overline p d_j z_{ij}& i\\in I, j\\in J\\\\\n",
        "&z_{ij}\\in\\{0,1\\}& i\\in I, j\\in J\\\\\n",
        "&y_i\\in \\{0,1\\} & i\\in I\\\\\n",
        "&0\\leq p \\leq \\overline p\n",
        "\\end{array}\n",
        "$$\n",
        "donde $\\overline p=\\sum_{i\\in I}q_i / \\sum_{j\\in J}d_j$.\n"
      ],
      "metadata": {
        "id": "Kwl1p7tVpPhf"
      }
    },
    {
      "cell_type": "code",
      "source": [
        "function UFLPp()\n",
        "    pmax = sum(supply)/sum(demand)\n",
        "    @show pmax\n",
        "\n",
        "    model = Model(Gurobi.Optimizer)\n",
        "    @variable(model, x[1:n,1:m]>=0 )\n",
        "    @variable(model, y[1:n], Bin)\n",
        "    @variable(model, z[1:n, 1:m], Bin)\n",
        "    @variable(model, 0 <= p <= pmax)\n",
        "    @constraint(model, [j=1:m],        sum(z[:,j]) == 1  )\n",
        "    @constraint(model, [i=1:n, j=1:m], z[i,j] <= y[i]  )\n",
        "    @constraint(model, [i=1:n],        sum(x[i,:]) <= supply[i] * y[i]  )\n",
        "    @constraint(model, [i=1:n, j=1:m],  - pmax * demand[j] * (1-z[i,j]) + p * demand[j] <= x[i,j] )\n",
        "    @constraint(model, [i=1:n, j=1:m],    pmax * demand[j] * (1-z[i,j]) + p * demand[j] >= x[i,j] )\n",
        "    @constraint(model, [i=1:n, j=1:m],    x[i,j] <= pmax * demand[j] * z[i,j] )\n",
        "    @objective(model, Max, p )\n",
        "    optimize!(model)\n",
        "    return ( termination_status(model)==OPTIMAL ? objective_value(model) : -1 )\n",
        "end"
      ],
      "metadata": {
        "id": "nU_K2ukfpQDO"
      },
      "execution_count": null,
      "outputs": []
    },
    {
      "cell_type": "markdown",
      "source": [
        "## Localización de Concentradores\n",
        "\n",
        "Disponemos de $n$ localizaciones (por ejemplo, ciudades en el mundo) que desean enviarse un producto entre ellas (por ejemplo, cartas postales). Sea $N=\\{1,\\ldots,n\\}$. Conocemos la demanda $d_{ij}$ de producto que se desea enviar desde $i$ hasta $j$. Cualquier envío debe enviarse primero directamente a una oficina que la clasifica y envía, o directamente a su destinatario, o directamente a otra oficina que la envía directamente a su destinatario. El problema es decidir dónde conviene localizar las oficinas, teniendo presente que instalar una oficina tiene un costo fijo y que no se quieren instalar más de $p$ oficinas. Se asume que se conoce el coste $c_{ij}$ desde $i$ hasta $j$. Dicho coste viene reducido por un factor conocido $\\alpha$ cuando $i$ y $j$ son oficinas. Sea además $\\pi$ el coste para el cliente por unidad enviada, y $\\delta$ el coste para el cliente por unidad recibida. Asumimos que si un cliente envia varias unidades, todas deben ir primero a una oficina y no a varias, sin importar que dichas unidades vaya luego a destinos diferentes. También asumimos que las oficinas pueden gestionar cantidades ilimitadas de unidades."
      ],
      "metadata": {
        "id": "q3znNjeknejQ"
      }
    },
    {
      "cell_type": "code",
      "source": [
        "n = 50\n",
        "N = 1:n\n",
        "\n",
        "Random.seed!(1234)\n",
        "d = rand(1:100,n,n)\n",
        "c = rand(1:100,n,n)\n",
        "f = rand(1:100,n)\n",
        "\n",
        "O = sum(d,dims=1)\n",
        "D = sum(d,dims=2)\n",
        "\n",
        "p = 5\n",
        "α = 0.2\n",
        "χ = 2\n",
        "δ = 3"
      ],
      "metadata": {
        "colab": {
          "base_uri": "https://localhost:8080/"
        },
        "id": "oowYle-VNa5w",
        "outputId": "4a2fb7d6-a81f-4362-b6e1-cf30c497837c"
      },
      "execution_count": null,
      "outputs": [
        {
          "output_type": "execute_result",
          "data": {
            "text/plain": [
              "3"
            ]
          },
          "metadata": {},
          "execution_count": 121
        }
      ]
    },
    {
      "cell_type": "markdown",
      "source": [
        "Un primer modelo usa una variable $z_{ik}$ para decidir si el cliente $i$ está asignado o no a la oficina $k$. Cuando $z_{kk}=1$ se entiende que $k$ es oficina. Un primer modelo matemático es:\n",
        "$$\n",
        "\\begin{array}\n",
        "\\mbox{ min } & \\sum_{k\\in N} f_k z_{kk} +\n",
        "\\sum_{i,k\\in N} (\\chi O_i + \\delta D_i) c_{ik} x_{ik} +\n",
        "\\sum_{i,j,k,m\\in N} \\alpha d_{ij}c_{km} z_{ik}z_{jm} \\\\\n",
        "&\\sum_{k=\\in N} z_{ik} = 1 & i\\in N\\\\\n",
        "&z_{ik} \\leq z_{kk} & i,k\\in N\\\\\n",
        "&z_{ik} \\in \\{0,1\\} & i,k\\in N\n",
        "\\end{array}\n",
        "$$\n",
        "Este modelo tiene el inconveniente de tener un término cuadrático en su función objetivo. Veamos otro modelo que evita este inconveniente."
      ],
      "metadata": {
        "id": "JeV6loipcOdT"
      }
    },
    {
      "cell_type": "markdown",
      "source": [
        "Una alternativa es introducir una nueva variable $x_{ijkm}$ que determina si la demanda que sale de $i$ para $j$ va primero por $k$ y luego por $m$. Se permite $k=m$ por si una demanda sólo pasa por una oficina. Entonces el modelo es:\n",
        "$$\n",
        "\\begin{array}\n",
        "\\mbox{ min } & \\sum_{k\\in N} f_k z_{kk} +\n",
        "\\sum_{i,j,k,m\\in N} g_{ijkm} x_{ijkm}\\\\\n",
        "&\\sum_{k\\in N} z_{ik} = 1 & i\\in N\\\\\n",
        "&z_{ik} \\leq z_{kk} & i,k\\in N\\\\\n",
        "&z_{ik} \\in \\{0,1\\} & i,k\\in N\\\\\n",
        "&\\sum_{m\\in N} x_{ijkm} = z_{ik} & i,j,k\\in N\\\\\n",
        "&\\sum_{k\\in N} x_{ijkm} = z_{jm} & i,j,m\\in N\\\\\n",
        "&x_{ijkm} \\geq 0 & i,j,k,m\\in N\n",
        "\\end{array}\n",
        "$$\n",
        "donde $g_{ijkm} = d_{ij}(\\chi c_{ik} + \\alpha c_{km} + \\delta c_{mj} ) $ representa el coste total del producto enviado desde $i$ a $j$ que va por las oficinas $k$ y $m$."
      ],
      "metadata": {
        "id": "YFiBSdTTjyan"
      }
    },
    {
      "cell_type": "markdown",
      "source": [
        "El modelo mostrado tiene muchas variables. Concretamente hay $O(n^4)$, que es un número enorme. Es posible un tercer modelo también lineal pero con menos variables. "
      ],
      "metadata": {
        "id": "R51ubXZDyTJ0"
      }
    },
    {
      "cell_type": "markdown",
      "source": [
        "Una opción es introducir una nueva familia de variables $y_{km}$ que represente la cantidad de producto que va de la oficina $k$ a la oficina $m$:\n",
        "$$\n",
        "\\begin{array}\n",
        "\\mbox{ min } & \\sum_{k\\in N} f_k z_{kk} +\n",
        "\\sum_{i,k\\in N} (\\chi O_i + \\delta D_i) c_{ik} z_{ik} +\n",
        "\\sum_{k,m\\in N} \\alpha c_{km} y_{km} \\\\\n",
        "&\\sum_{k\\in N} z_{ik} = 1 & i\\in N\\\\\n",
        "&z_{ik} \\leq z_{kk} & i,k\\in N\\\\\n",
        "&z_{ik} \\in \\{0,1\\} & i,k\\in N\\\\\n",
        "&y_{km} \\geq \\sum_{(i,j)\\in K} d_{ij}(z_{ik}+z_{jm}-1)& k,m\\in N , \\; S\\subseteq N\\times N\\\\\n",
        "&y_{ikm} \\geq 0 & i,k,m\\in N\n",
        "\\end{array}\n",
        "$$\n",
        "Esta formulación tiene un número $O(n^2)$ de variables y un número exponencial de restricciones. Esto último no es realmente un inconveniente, pero busquemos otro modelo con un número polinomial de restricciones.\n"
      ],
      "metadata": {
        "id": "1RB_sfCxlX-J"
      }
    },
    {
      "cell_type": "markdown",
      "source": [
        "Otra opción es introducir la nueva variable $y_{ikm}$ que indica la cantidad de demanda que sale de i y pasa primero por la oficina $k$ y luego por la oficina $m$.\n",
        "$$\n",
        "\\begin{array}\n",
        "\\mbox{ min } & \\sum_{k\\in N} f_k z_{kk} +\n",
        "\\sum_{i,k\\in N} (\\chi O_i + \\delta D_i) c_{ik} z_{ik} +\n",
        "\\sum_{i,k,m\\in N} \\alpha c_{km} y_{ikm} \\\\\n",
        "&\\sum_{k\\in N} z_{ik} = 1 & i\\in N\\\\\n",
        "&z_{ik} \\leq z_{kk} & i,k\\in N\\\\\n",
        "&z_{ik} \\in \\{0,1\\} & i,k\\in N\\\\\n",
        "&\\sum_{j\\in N} d_{ij}z_{jk}+\n",
        "\\sum_{m\\in N} y_{ikm} = \\sum_{m\\in N} y_{imk}+\n",
        "O_i z_{ik} & i,k\\in N\\\\\n",
        "&y_{ikm} \\geq 0 & i,k,m\\in N\n",
        "\\end{array}\n",
        "$$\n"
      ],
      "metadata": {
        "id": "HvtSoYMcyVvz"
      }
    },
    {
      "cell_type": "code",
      "source": [
        "model = Model(GLPK.Optimizer)\n",
        "@variable(model, z[1:n, 1:n], Bin)\n",
        "@variable(model, y[1:n, 1:n, 1:n] >= 0)\n",
        "@objective(model, Min, sum(f[k]*z[k,k] for k=1:n) + sum( (χ*O[i]+δ*D[i])*c[i,k]*z[i,k] for i=1:n,k=1:n) + sum(α*c[k,m]*y[i,k,m] for i=1:n,k=1:n,m=1:n) )\n",
        "@constraint(model, [i=1:n], sum(z[i,k] for k=1:n) == 1 )\n",
        "@constraint(model, [i=1:n,k=1:n], z[i,k] <= z[k,k] )\n",
        "@constraint(model, [i=1:n,k=1:n], sum(d[i,j]*z[j,k] for j=1:n) + sum(y[i,k,m] for m=1:n)  == sum(y[i,m,k] for m=1:n) + O[i]*z[i,k]   )\n",
        "\n",
        "undo_relax = relax_integrality(model);\n",
        "optimize!(model)\n",
        "println(\"LP val: $(objective_value(model))    Time=$(solve_time(model))  \")\n",
        "undo_relax()\n",
        "optimize!(model)\n",
        "println(\"IP val: $(objective_value(model))    Time=$(solve_time(model)) \")"
      ],
      "metadata": {
        "id": "mgFJNAe_o7IJ"
      },
      "execution_count": null,
      "outputs": []
    },
    {
      "cell_type": "markdown",
      "source": [
        "# Problema del Viajante de Comercio\n",
        "\n",
        "Este problema es el más conocido dentro de la Optimización Combinatoria. Puedes encontrarlo en la [wikipedia](https://es.wikipedia.org/wiki/Problema_del_viajante). Existe incluso un [película](https://en.wikipedia.org/wiki/Travelling_Salesman_(2012_film)) que te recomiendo veas.\n",
        "\n",
        "Dado un conjunto de ciudades y conocidas las distancias entre cualesquiera dos ciudades, el TSP busca determinar un tour que visite una y sólo una vez cada ciudad y con el menor coste total posible.\n",
        "\n",
        "Hay dos versiones según se asuma que la distancia entre dos ciudades es simétrica o no. Por simplicidad en la exposición, en este cuaderno trabajaremos si dicha hipótesis (es decir, como si la distancia pudiese cambiar con el sentido en el que se recorra la carretera), aunque lo ilustremos visualmente sobre soluciones donde sí se tenga dicha hipóteis (porque el gráfico en la pantalla se comprende mejor).\n",
        "\n",
        "Usaremos este importante problema de optimización para mostrar diferentes modelos matemáticos. Compararemos entre modelos y aprenderemos a conocer elementos que hacer que un modelo sea mejor que otro.\n",
        "\n",
        "Comenzaremos describiendo 4 modelos matemáticos de tipo compacto, es decir, con números polinomiales (bajos) de variables y de restricciones."
      ],
      "metadata": {
        "id": "yojwMB1SBOkL"
      }
    },
    {
      "cell_type": "code",
      "source": [
        "Pkg.add(\"LightGraphs\")\n",
        "Pkg.add(\"LightGraphsFlows\")\n",
        "using LightGraphs, LightGraphsFlows"
      ],
      "metadata": {
        "colab": {
          "base_uri": "https://localhost:8080/"
        },
        "id": "XDo-3JFnHKeh",
        "outputId": "d7c2b083-fb6a-4aa7-8fbb-0f7507edf05e"
      },
      "execution_count": null,
      "outputs": [
        {
          "output_type": "stream",
          "name": "stderr",
          "text": [
            "\u001b[32m\u001b[1m   Resolving\u001b[22m\u001b[39m package versions...\n",
            "\u001b[32m\u001b[1m   Installed\u001b[22m\u001b[39m ArnoldiMethod ─ v0.1.0\n",
            "\u001b[32m\u001b[1m   Installed\u001b[22m\u001b[39m SimpleTraits ── v0.9.4\n",
            "\u001b[32m\u001b[1m   Installed\u001b[22m\u001b[39m Inflate ─────── v0.1.3\n",
            "\u001b[32m\u001b[1m   Installed\u001b[22m\u001b[39m LightGraphs ─── v1.3.5\n",
            "\u001b[32m\u001b[1m    Updating\u001b[22m\u001b[39m `~/.julia/environments/v1.8/Project.toml`\n",
            " \u001b[90m [093fc24a] \u001b[39m\u001b[92m+ LightGraphs v1.3.5\u001b[39m\n",
            "\u001b[32m\u001b[1m    Updating\u001b[22m\u001b[39m `~/.julia/environments/v1.8/Manifest.toml`\n",
            "\u001b[33m⌅\u001b[39m\u001b[90m [ec485272] \u001b[39m\u001b[92m+ ArnoldiMethod v0.1.0\u001b[39m\n",
            " \u001b[90m [d25df0c9] \u001b[39m\u001b[92m+ Inflate v0.1.3\u001b[39m\n",
            " \u001b[90m [093fc24a] \u001b[39m\u001b[92m+ LightGraphs v1.3.5\u001b[39m\n",
            " \u001b[90m [699a6c99] \u001b[39m\u001b[92m+ SimpleTraits v0.9.4\u001b[39m\n",
            " \u001b[90m [8ba89e20] \u001b[39m\u001b[92m+ Distributed\u001b[39m\n",
            " \u001b[90m [1a1011a3] \u001b[39m\u001b[92m+ SharedArrays\u001b[39m\n",
            "\u001b[36m\u001b[1m        Info\u001b[22m\u001b[39m Packages marked with \u001b[33m⌅\u001b[39m have new versions available but cannot be upgraded. To see why use `status --outdated -m`\n",
            "\u001b[32m\u001b[1mPrecompiling\u001b[22m\u001b[39m project...\n",
            "\u001b[32m  ✓ \u001b[39m\u001b[90mInflate\u001b[39m\n",
            "\u001b[32m  ✓ \u001b[39m\u001b[90mSimpleTraits\u001b[39m\n",
            "\u001b[32m  ✓ \u001b[39m\u001b[90mArnoldiMethod\u001b[39m\n",
            "\u001b[32m  ✓ \u001b[39mLightGraphs\n",
            "  4 dependencies successfully precompiled in 7 seconds. 152 already precompiled.\n",
            "\u001b[32m\u001b[1m   Resolving\u001b[22m\u001b[39m package versions...\n",
            "\u001b[32m\u001b[1m   Installed\u001b[22m\u001b[39m LightGraphsFlows ─ v0.3.1\n",
            "\u001b[32m\u001b[1m   Installed\u001b[22m\u001b[39m MathProgBase ───── v0.7.8\n",
            "\u001b[32m\u001b[1m    Updating\u001b[22m\u001b[39m `~/.julia/environments/v1.8/Project.toml`\n",
            "\u001b[32m⌃\u001b[39m\u001b[90m [2f5eb75a] \u001b[39m\u001b[92m+ LightGraphsFlows v0.3.1\u001b[39m\n",
            "\u001b[32m\u001b[1m    Updating\u001b[22m\u001b[39m `~/.julia/environments/v1.8/Manifest.toml`\n",
            "\u001b[32m⌃\u001b[39m\u001b[90m [2f5eb75a] \u001b[39m\u001b[92m+ LightGraphsFlows v0.3.1\u001b[39m\n",
            " \u001b[90m [fdba3010] \u001b[39m\u001b[92m+ MathProgBase v0.7.8\u001b[39m\n",
            "\u001b[36m\u001b[1m        Info\u001b[22m\u001b[39m Packages marked with \u001b[32m⌃\u001b[39m have new versions available\n",
            "\u001b[32m\u001b[1mPrecompiling\u001b[22m\u001b[39m project...\n",
            "\u001b[32m  ✓ \u001b[39m\u001b[90mMathProgBase\u001b[39m\n",
            "\u001b[32m  ✓ \u001b[39mLightGraphsFlows\n",
            "  2 dependencies successfully precompiled in 3 seconds. 156 already precompiled.\n"
          ]
        }
      ]
    },
    {
      "cell_type": "code",
      "source": [
        "function readRandomInstance(N)\n",
        "    Random.seed!(1234)\n",
        "    coord = rand( 0:1000 , N, 2)\n",
        "    cost  = zeros( Int32, N, N)\n",
        "    for i=1:N, j=1:N\n",
        "        cost[i,j]=round(sqrt((coord[i,1]-coord[j,1])^2+(coord[i,2]-coord[j,2])^2),digits=0)\n",
        "    end\n",
        "    return N,coord,cost\n",
        "end\n",
        "\n",
        "function ExtractTour(N, sol)\n",
        "    i = 1     # Start at city 1 always\n",
        "    tour = [i]  \n",
        "    while true\n",
        "        for j = 1:N\n",
        "            if sol[i,j] > 0.5\n",
        "                push!(tour, j)\n",
        "                i = j\n",
        "                break\n",
        "            end\n",
        "        end\n",
        "        if i==1 break\n",
        "        end\n",
        "    end \n",
        "    return tour\n",
        "end\n",
        "\n",
        "function PlotTour(N, coord, sol)\n",
        "    plt = Plots.plot()\n",
        "    for i=1:N, j=1:N\n",
        "        if sol[i,j] > 0.5\n",
        "            Plots.plot!([coord[i,1], coord[j,1]], [coord[i,2], coord[j,2]]; legend = false)\n",
        "        end\n",
        "    end\n",
        "    display(plt)\n",
        "    return plt\n",
        "end"
      ],
      "metadata": {
        "colab": {
          "base_uri": "https://localhost:8080/"
        },
        "id": "sKZ4VvB6OX7T",
        "outputId": "5b88e236-8af2-426c-d68f-69aafbfdc732"
      },
      "execution_count": null,
      "outputs": [
        {
          "output_type": "execute_result",
          "data": {
            "text/plain": [
              "PlotTour (generic function with 1 method)"
            ]
          },
          "metadata": {},
          "execution_count": 35
        }
      ]
    },
    {
      "cell_type": "markdown",
      "source": [
        "Iniciamos creando unos datos aleatoriamente para luego plantear y resolver modelos del TSP sobre estos datos."
      ],
      "metadata": {
        "id": "ID5ylBz5xnn_"
      }
    },
    {
      "cell_type": "code",
      "source": [
        "N, coord,cost = readRandomInstance(20)"
      ],
      "metadata": {
        "id": "SFDsb2toxign",
        "colab": {
          "base_uri": "https://localhost:8080/"
        },
        "outputId": "c31b4878-ae66-405a-b166-bb44683c4aa1"
      },
      "execution_count": null,
      "outputs": [
        {
          "output_type": "execute_result",
          "data": {
            "text/plain": [
              "(20, [326 110; 549 491; … ; 997 701; 749 95], Int32[0 441 … 894 423; 441 0 … 495 444; … ; 894 495 … 0 655; 423 444 … 655 0])"
            ]
          },
          "metadata": {},
          "execution_count": 69
        }
      ]
    },
    {
      "cell_type": "markdown",
      "source": [
        "## Modelos compactos\n",
        "\n",
        "La siguiente celda contiene 4 modelos diferentes para el TSP. Estos modelos tienen un número polinomial de variables y restricciones, por lo que (en principio) pueden generarse por completo antes de resolverse."
      ],
      "metadata": {
        "id": "lGGjL4JrsEFi"
      }
    },
    {
      "cell_type": "code",
      "source": [
        "function CompactATSP(var)\n",
        "    model = Model(GLPK.Optimizer)\n",
        "#    set_silent(model)\n",
        "#    set_time_limit_sec(model, 60.0)\n",
        "    set_optimizer_attribute(model, \"tm_lim\", 60 * 1_000)\n",
        "    set_optimizer_attribute(model, \"msg_lev\", GLPK.GLP_MSG_OFF)\n",
        "\n",
        "    if var=='a'\n",
        "        @variable(model, x[1:N,1:N,1:N], Bin)\n",
        "        for i=1:N,k=1:N\n",
        "            set_upper_bound(x[i,i,k], 0)\n",
        "        end\n",
        "        @objective(model, Min, sum(cost[i,j]*x[i,j,k] for i=1:N,j=1:N,k=1:N))\n",
        "        @constraint(model, [i=1:N], sum(x[i,j,k] for k=1:N,j=1:N) == 1)\n",
        "        @constraint(model, [j=1:N], sum(x[i,j,k] for i=1:N,k=1:N) == 1)\n",
        "        @constraint(model, [k=1:N], sum(x[i,j,k] for i=1:N,j=1:N) == 1)\n",
        "        @constraint(model, sum(x[1,j,1] for j=2:N) == 1)\n",
        "        @constraint(model, sum(x[j,1,N] for j=2:N) == 1)\n",
        "        @constraint(model, [i=2:N,k=2:N], sum(x[j,i,k-1] for j=1:N) == sum(x[i,j,k] for j=1:N) )\n",
        "\n",
        "    else\n",
        "        @variable(model, x[1:N,1:N], Bin)\n",
        "        for i=1:N\n",
        "            set_upper_bound(x[i,i], 0)\n",
        "        end\n",
        "        @objective(model, Min, sum(cost .* x))\n",
        "        @constraint(model, [i=1:N], sum(x[i,:]) == 1)\n",
        "        @constraint(model, [i=1:N], sum(x[:,i]) == 1)\n",
        "        if var=='u'\n",
        "            @variable(model, u[2:N]>=0 )\n",
        "            for i=2:N,j=2:N \n",
        "              if i!=j\n",
        "                @constraint(model, u[j] >= u[i] + x[i,j] - (N-2)*(1-x[i,j]) + (N-3)*x[j,i] )\n",
        "              end\n",
        "            end\n",
        "\n",
        "        elseif var=='v'\n",
        "            @variable(model, v[2:N,2:N]>=0 )\n",
        "            for i=2:N\n",
        "                set_upper_bound(v[i,i], 0)\n",
        "            end\n",
        "            @constraint(model, [i=2:N,j=i+1:N], v[i,j]+v[j,i]<=1 )\n",
        "            for i=2:N,j=2:N,k=2:N\n",
        "              if i!=j && i!=k && j!=k\n",
        "                @constraint(model, v[i,j]+v[j,k]<=v[i,k]+1 )\n",
        "              end\n",
        "            end\n",
        "            for i=2:N,j=2:N \n",
        "              if i!=j\n",
        "                @constraint(model, v[i,j] >= x[i,j] )\n",
        "              end\n",
        "            end\n",
        "\n",
        "        elseif var=='f'\n",
        "            @variable(model, f[1:N,1:N]>=0 )\n",
        "            for i=1:N\n",
        "                set_upper_bound(f[i,i], 0)\n",
        "            end\n",
        "            @constraint(model, [i=2:N], sum( f[j,i]-f[i,j] for j=1:N if i!=j) >=1 )\n",
        "            for i=1:N,j=1:N \n",
        "              if i!=j\n",
        "                @constraint(model, f[i,j] <= (N-1)*x[i,j] )\n",
        "              end\n",
        "            end\n",
        "\n",
        "        else\n",
        "            println(\"model of type $(var) is undefined\")\n",
        "        end\n",
        "    end\n",
        "\n",
        "    undo_relax = relax_integrality(model);\n",
        "    optimize!(model)\n",
        "    println(\"LP val: $(objective_value(model))    Time=$(solve_time(model))  \")\n",
        "    undo_relax()\n",
        "    optimize!(model)\n",
        "    print(\"IP val: $(objective_value(model))    Time=$(solve_time(model))   Solution: \")\n",
        "\n",
        "    if var=='a'\n",
        "       sol = zeros( Float64, N, N)\n",
        "       xval = value.(x)\n",
        "       for i=1:N,j=1:N\n",
        "           sol[i,j] = sum( xval[i,j,:] )\n",
        "       end\n",
        "    else\n",
        "       sol = value.(x)\n",
        "    end\n",
        "    println( ExtractTour(N,sol) )\n",
        "    PlotTour(N, coord, sol)\n",
        "    println(\"\")\n",
        "end"
      ],
      "metadata": {
        "colab": {
          "base_uri": "https://localhost:8080/"
        },
        "id": "S-ct6OZpS5e9",
        "outputId": "bc9a559c-206a-4eb7-e34c-5312fb12c745"
      },
      "execution_count": null,
      "outputs": [
        {
          "output_type": "execute_result",
          "data": {
            "text/plain": [
              "CompactATSP (generic function with 1 method)"
            ]
          },
          "metadata": {},
          "execution_count": 70
        }
      ]
    },
    {
      "cell_type": "code",
      "source": [
        "CompactATSP('a')"
      ],
      "metadata": {
        "colab": {
          "base_uri": "https://localhost:8080/",
          "height": 473
        },
        "id": "YTvyg-qduLZ5",
        "outputId": "09f6103c-ef0a-4e4b-8324-328722fdc362"
      },
      "execution_count": null,
      "outputs": [
        {
          "output_type": "stream",
          "name": "stdout",
          "text": [
            "LP val: 3911.5964461070835    Time=0.18148589134216309  \n",
            "IP val: 4191.0    Time=44.850955963134766   Solution: [1, 6, 18, 20, 7, 4, 12, 8, 17, 19, 10, 16, 11, 2, 15, 9, 5, 14, 3, 13, 1]\n"
          ]
        },
        {
          "output_type": "display_data",
          "data": {
            "image/svg+xml": "<?xml version=\"1.0\" encoding=\"utf-8\"?>\n<svg xmlns=\"http://www.w3.org/2000/svg\" xmlns:xlink=\"http://www.w3.org/1999/xlink\" width=\"600\" height=\"400\" viewBox=\"0 0 2400 1600\">\n<defs>\n  <clipPath id=\"clip950\">\n    <rect x=\"0\" y=\"0\" width=\"2400\" height=\"1600\"/>\n  </clipPath>\n</defs>\n<path clip-path=\"url(#clip950)\" d=\"\nM0 1600 L2400 1600 L2400 0 L0 0  Z\n  \" fill=\"#ffffff\" fill-rule=\"evenodd\" fill-opacity=\"1\"/>\n<defs>\n  <clipPath id=\"clip951\">\n    <rect x=\"480\" y=\"0\" width=\"1681\" height=\"1600\"/>\n  </clipPath>\n</defs>\n<path clip-path=\"url(#clip950)\" d=\"\nM172.015 1486.45 L2352.76 1486.45 L2352.76 47.2441 L172.015 47.2441  Z\n  \" fill=\"#ffffff\" fill-rule=\"evenodd\" fill-opacity=\"1\"/>\n<defs>\n  <clipPath id=\"clip952\">\n    <rect x=\"172\" y=\"47\" width=\"2182\" height=\"1440\"/>\n  </clipPath>\n</defs>\n<polyline clip-path=\"url(#clip952)\" style=\"stroke:#000000; stroke-linecap:round; stroke-linejoin:round; stroke-width:2; stroke-opacity:0.1; fill:none\" points=\"\n  219.187,1486.45 219.187,47.2441 \n  \"/>\n<polyline clip-path=\"url(#clip952)\" style=\"stroke:#000000; stroke-linecap:round; stroke-linejoin:round; stroke-width:2; stroke-opacity:0.1; fill:none\" points=\"\n  738.708,1486.45 738.708,47.2441 \n  \"/>\n<polyline clip-path=\"url(#clip952)\" style=\"stroke:#000000; stroke-linecap:round; stroke-linejoin:round; stroke-width:2; stroke-opacity:0.1; fill:none\" points=\"\n  1258.23,1486.45 1258.23,47.2441 \n  \"/>\n<polyline clip-path=\"url(#clip952)\" style=\"stroke:#000000; stroke-linecap:round; stroke-linejoin:round; stroke-width:2; stroke-opacity:0.1; fill:none\" points=\"\n  1777.75,1486.45 1777.75,47.2441 \n  \"/>\n<polyline clip-path=\"url(#clip952)\" style=\"stroke:#000000; stroke-linecap:round; stroke-linejoin:round; stroke-width:2; stroke-opacity:0.1; fill:none\" points=\"\n  2297.27,1486.45 2297.27,47.2441 \n  \"/>\n<polyline clip-path=\"url(#clip950)\" style=\"stroke:#000000; stroke-linecap:round; stroke-linejoin:round; stroke-width:4; stroke-opacity:1; fill:none\" points=\"\n  172.015,1486.45 2352.76,1486.45 \n  \"/>\n<polyline clip-path=\"url(#clip950)\" style=\"stroke:#000000; stroke-linecap:round; stroke-linejoin:round; stroke-width:4; stroke-opacity:1; fill:none\" points=\"\n  219.187,1486.45 219.187,1467.55 \n  \"/>\n<polyline clip-path=\"url(#clip950)\" style=\"stroke:#000000; stroke-linecap:round; stroke-linejoin:round; stroke-width:4; stroke-opacity:1; fill:none\" points=\"\n  738.708,1486.45 738.708,1467.55 \n  \"/>\n<polyline clip-path=\"url(#clip950)\" style=\"stroke:#000000; stroke-linecap:round; stroke-linejoin:round; stroke-width:4; stroke-opacity:1; fill:none\" points=\"\n  1258.23,1486.45 1258.23,1467.55 \n  \"/>\n<polyline clip-path=\"url(#clip950)\" style=\"stroke:#000000; stroke-linecap:round; stroke-linejoin:round; stroke-width:4; stroke-opacity:1; fill:none\" points=\"\n  1777.75,1486.45 1777.75,1467.55 \n  \"/>\n<polyline clip-path=\"url(#clip950)\" style=\"stroke:#000000; stroke-linecap:round; stroke-linejoin:round; stroke-width:4; stroke-opacity:1; fill:none\" points=\"\n  2297.27,1486.45 2297.27,1467.55 \n  \"/>\n<path clip-path=\"url(#clip950)\" d=\"M219.187 1517.37 Q215.576 1517.37 213.748 1520.93 Q211.942 1524.47 211.942 1531.6 Q211.942 1538.71 213.748 1542.27 Q215.576 1545.82 219.187 1545.82 Q222.822 1545.82 224.627 1542.27 Q226.456 1538.71 226.456 1531.6 Q226.456 1524.47 224.627 1520.93 Q222.822 1517.37 219.187 1517.37 M219.187 1513.66 Q224.997 1513.66 228.053 1518.27 Q231.132 1522.85 231.132 1531.6 Q231.132 1540.33 228.053 1544.94 Q224.997 1549.52 219.187 1549.52 Q213.377 1549.52 210.298 1544.94 Q207.243 1540.33 207.243 1531.6 Q207.243 1522.85 210.298 1518.27 Q213.377 1513.66 219.187 1513.66 Z\" fill=\"#000000\" fill-rule=\"evenodd\" fill-opacity=\"1\" /><path clip-path=\"url(#clip950)\" d=\"M702.401 1544.91 L718.72 1544.91 L718.72 1548.85 L696.776 1548.85 L696.776 1544.91 Q699.438 1542.16 704.021 1537.53 Q708.627 1532.88 709.808 1531.53 Q712.053 1529.01 712.933 1527.27 Q713.836 1525.51 713.836 1523.82 Q713.836 1521.07 711.891 1519.33 Q709.97 1517.6 706.868 1517.6 Q704.669 1517.6 702.215 1518.36 Q699.785 1519.13 697.007 1520.68 L697.007 1515.95 Q699.831 1514.82 702.285 1514.24 Q704.739 1513.66 706.776 1513.66 Q712.146 1513.66 715.34 1516.35 Q718.535 1519.03 718.535 1523.52 Q718.535 1525.65 717.725 1527.57 Q716.938 1529.47 714.831 1532.07 Q714.252 1532.74 711.151 1535.95 Q708.049 1539.15 702.401 1544.91 Z\" fill=\"#000000\" fill-rule=\"evenodd\" fill-opacity=\"1\" /><path clip-path=\"url(#clip950)\" d=\"M728.581 1514.29 L746.937 1514.29 L746.937 1518.22 L732.863 1518.22 L732.863 1526.7 Q733.882 1526.35 734.9 1526.19 Q735.919 1526 736.937 1526 Q742.724 1526 746.104 1529.17 Q749.484 1532.34 749.484 1537.76 Q749.484 1543.34 746.011 1546.44 Q742.539 1549.52 736.22 1549.52 Q734.044 1549.52 731.775 1549.15 Q729.53 1548.78 727.123 1548.04 L727.123 1543.34 Q729.206 1544.47 731.428 1545.03 Q733.65 1545.58 736.127 1545.58 Q740.132 1545.58 742.47 1543.48 Q744.808 1541.37 744.808 1537.76 Q744.808 1534.15 742.47 1532.04 Q740.132 1529.94 736.127 1529.94 Q734.252 1529.94 732.377 1530.35 Q730.525 1530.77 728.581 1531.65 L728.581 1514.29 Z\" fill=\"#000000\" fill-rule=\"evenodd\" fill-opacity=\"1\" /><path clip-path=\"url(#clip950)\" d=\"M768.697 1517.37 Q765.085 1517.37 763.257 1520.93 Q761.451 1524.47 761.451 1531.6 Q761.451 1538.71 763.257 1542.27 Q765.085 1545.82 768.697 1545.82 Q772.331 1545.82 774.136 1542.27 Q775.965 1538.71 775.965 1531.6 Q775.965 1524.47 774.136 1520.93 Q772.331 1517.37 768.697 1517.37 M768.697 1513.66 Q774.507 1513.66 777.562 1518.27 Q780.641 1522.85 780.641 1531.6 Q780.641 1540.33 777.562 1544.94 Q774.507 1549.52 768.697 1549.52 Q762.886 1549.52 759.808 1544.94 Q756.752 1540.33 756.752 1531.6 Q756.752 1522.85 759.808 1518.27 Q762.886 1513.66 768.697 1513.66 Z\" fill=\"#000000\" fill-rule=\"evenodd\" fill-opacity=\"1\" /><path clip-path=\"url(#clip950)\" d=\"M1217.85 1514.29 L1236.2 1514.29 L1236.2 1518.22 L1222.13 1518.22 L1222.13 1526.7 Q1223.15 1526.35 1224.17 1526.19 Q1225.19 1526 1226.2 1526 Q1231.99 1526 1235.37 1529.17 Q1238.75 1532.34 1238.75 1537.76 Q1238.75 1543.34 1235.28 1546.44 Q1231.81 1549.52 1225.49 1549.52 Q1223.31 1549.52 1221.04 1549.15 Q1218.8 1548.78 1216.39 1548.04 L1216.39 1543.34 Q1218.47 1544.47 1220.69 1545.03 Q1222.92 1545.58 1225.39 1545.58 Q1229.4 1545.58 1231.74 1543.48 Q1234.07 1541.37 1234.07 1537.76 Q1234.07 1534.15 1231.74 1532.04 Q1229.4 1529.94 1225.39 1529.94 Q1223.52 1529.94 1221.64 1530.35 Q1219.79 1530.77 1217.85 1531.65 L1217.85 1514.29 Z\" fill=\"#000000\" fill-rule=\"evenodd\" fill-opacity=\"1\" /><path clip-path=\"url(#clip950)\" d=\"M1257.96 1517.37 Q1254.35 1517.37 1252.52 1520.93 Q1250.72 1524.47 1250.72 1531.6 Q1250.72 1538.71 1252.52 1542.27 Q1254.35 1545.82 1257.96 1545.82 Q1261.6 1545.82 1263.4 1542.27 Q1265.23 1538.71 1265.23 1531.6 Q1265.23 1524.47 1263.4 1520.93 Q1261.6 1517.37 1257.96 1517.37 M1257.96 1513.66 Q1263.77 1513.66 1266.83 1518.27 Q1269.91 1522.85 1269.91 1531.6 Q1269.91 1540.33 1266.83 1544.94 Q1263.77 1549.52 1257.96 1549.52 Q1252.15 1549.52 1249.07 1544.94 Q1246.02 1540.33 1246.02 1531.6 Q1246.02 1522.85 1249.07 1518.27 Q1252.15 1513.66 1257.96 1513.66 Z\" fill=\"#000000\" fill-rule=\"evenodd\" fill-opacity=\"1\" /><path clip-path=\"url(#clip950)\" d=\"M1288.12 1517.37 Q1284.51 1517.37 1282.69 1520.93 Q1280.88 1524.47 1280.88 1531.6 Q1280.88 1538.71 1282.69 1542.27 Q1284.51 1545.82 1288.12 1545.82 Q1291.76 1545.82 1293.56 1542.27 Q1295.39 1538.71 1295.39 1531.6 Q1295.39 1524.47 1293.56 1520.93 Q1291.76 1517.37 1288.12 1517.37 M1288.12 1513.66 Q1293.94 1513.66 1296.99 1518.27 Q1300.07 1522.85 1300.07 1531.6 Q1300.07 1540.33 1296.99 1544.94 Q1293.94 1549.52 1288.12 1549.52 Q1282.31 1549.52 1279.24 1544.94 Q1276.18 1540.33 1276.18 1531.6 Q1276.18 1522.85 1279.24 1518.27 Q1282.31 1513.66 1288.12 1513.66 Z\" fill=\"#000000\" fill-rule=\"evenodd\" fill-opacity=\"1\" /><path clip-path=\"url(#clip950)\" d=\"M1736.03 1514.29 L1758.25 1514.29 L1758.25 1516.28 L1745.7 1548.85 L1740.82 1548.85 L1752.62 1518.22 L1736.03 1518.22 L1736.03 1514.29 Z\" fill=\"#000000\" fill-rule=\"evenodd\" fill-opacity=\"1\" /><path clip-path=\"url(#clip950)\" d=\"M1767.41 1514.29 L1785.77 1514.29 L1785.77 1518.22 L1771.7 1518.22 L1771.7 1526.7 Q1772.72 1526.35 1773.73 1526.19 Q1774.75 1526 1775.77 1526 Q1781.56 1526 1784.94 1529.17 Q1788.32 1532.34 1788.32 1537.76 Q1788.32 1543.34 1784.85 1546.44 Q1781.37 1549.52 1775.05 1549.52 Q1772.88 1549.52 1770.61 1549.15 Q1768.36 1548.78 1765.96 1548.04 L1765.96 1543.34 Q1768.04 1544.47 1770.26 1545.03 Q1772.48 1545.58 1774.96 1545.58 Q1778.97 1545.58 1781.3 1543.48 Q1783.64 1541.37 1783.64 1537.76 Q1783.64 1534.15 1781.3 1532.04 Q1778.97 1529.94 1774.96 1529.94 Q1773.09 1529.94 1771.21 1530.35 Q1769.36 1530.77 1767.41 1531.65 L1767.41 1514.29 Z\" fill=\"#000000\" fill-rule=\"evenodd\" fill-opacity=\"1\" /><path clip-path=\"url(#clip950)\" d=\"M1807.53 1517.37 Q1803.92 1517.37 1802.09 1520.93 Q1800.28 1524.47 1800.28 1531.6 Q1800.28 1538.71 1802.09 1542.27 Q1803.92 1545.82 1807.53 1545.82 Q1811.16 1545.82 1812.97 1542.27 Q1814.8 1538.71 1814.8 1531.6 Q1814.8 1524.47 1812.97 1520.93 Q1811.16 1517.37 1807.53 1517.37 M1807.53 1513.66 Q1813.34 1513.66 1816.4 1518.27 Q1819.47 1522.85 1819.47 1531.6 Q1819.47 1540.33 1816.4 1544.94 Q1813.34 1549.52 1807.53 1549.52 Q1801.72 1549.52 1798.64 1544.94 Q1795.59 1540.33 1795.59 1531.6 Q1795.59 1522.85 1798.64 1518.27 Q1801.72 1513.66 1807.53 1513.66 Z\" fill=\"#000000\" fill-rule=\"evenodd\" fill-opacity=\"1\" /><path clip-path=\"url(#clip950)\" d=\"M2241.8 1544.91 L2249.44 1544.91 L2249.44 1518.55 L2241.13 1520.21 L2241.13 1515.95 L2249.39 1514.29 L2254.07 1514.29 L2254.07 1544.91 L2261.7 1544.91 L2261.7 1548.85 L2241.8 1548.85 L2241.8 1544.91 Z\" fill=\"#000000\" fill-rule=\"evenodd\" fill-opacity=\"1\" /><path clip-path=\"url(#clip950)\" d=\"M2281.15 1517.37 Q2277.54 1517.37 2275.71 1520.93 Q2273.9 1524.47 2273.9 1531.6 Q2273.9 1538.71 2275.71 1542.27 Q2277.54 1545.82 2281.15 1545.82 Q2284.78 1545.82 2286.59 1542.27 Q2288.42 1538.71 2288.42 1531.6 Q2288.42 1524.47 2286.59 1520.93 Q2284.78 1517.37 2281.15 1517.37 M2281.15 1513.66 Q2286.96 1513.66 2290.01 1518.27 Q2293.09 1522.85 2293.09 1531.6 Q2293.09 1540.33 2290.01 1544.94 Q2286.96 1549.52 2281.15 1549.52 Q2275.34 1549.52 2272.26 1544.94 Q2269.2 1540.33 2269.2 1531.6 Q2269.2 1522.85 2272.26 1518.27 Q2275.34 1513.66 2281.15 1513.66 Z\" fill=\"#000000\" fill-rule=\"evenodd\" fill-opacity=\"1\" /><path clip-path=\"url(#clip950)\" d=\"M2311.31 1517.37 Q2307.7 1517.37 2305.87 1520.93 Q2304.07 1524.47 2304.07 1531.6 Q2304.07 1538.71 2305.87 1542.27 Q2307.7 1545.82 2311.31 1545.82 Q2314.94 1545.82 2316.75 1542.27 Q2318.58 1538.71 2318.58 1531.6 Q2318.58 1524.47 2316.75 1520.93 Q2314.94 1517.37 2311.31 1517.37 M2311.31 1513.66 Q2317.12 1513.66 2320.18 1518.27 Q2323.25 1522.85 2323.25 1531.6 Q2323.25 1540.33 2320.18 1544.94 Q2317.12 1549.52 2311.31 1549.52 Q2305.5 1549.52 2302.42 1544.94 Q2299.37 1540.33 2299.37 1531.6 Q2299.37 1522.85 2302.42 1518.27 Q2305.5 1513.66 2311.31 1513.66 Z\" fill=\"#000000\" fill-rule=\"evenodd\" fill-opacity=\"1\" /><path clip-path=\"url(#clip950)\" d=\"M2341.47 1517.37 Q2337.86 1517.37 2336.03 1520.93 Q2334.23 1524.47 2334.23 1531.6 Q2334.23 1538.71 2336.03 1542.27 Q2337.86 1545.82 2341.47 1545.82 Q2345.11 1545.82 2346.91 1542.27 Q2348.74 1538.71 2348.74 1531.6 Q2348.74 1524.47 2346.91 1520.93 Q2345.11 1517.37 2341.47 1517.37 M2341.47 1513.66 Q2347.28 1513.66 2350.34 1518.27 Q2353.42 1522.85 2353.42 1531.6 Q2353.42 1540.33 2350.34 1544.94 Q2347.28 1549.52 2341.47 1549.52 Q2335.66 1549.52 2332.58 1544.94 Q2329.53 1540.33 2329.53 1531.6 Q2329.53 1522.85 2332.58 1518.27 Q2335.66 1513.66 2341.47 1513.66 Z\" fill=\"#000000\" fill-rule=\"evenodd\" fill-opacity=\"1\" /><polyline clip-path=\"url(#clip952)\" style=\"stroke:#000000; stroke-linecap:round; stroke-linejoin:round; stroke-width:2; stroke-opacity:0.1; fill:none\" points=\"\n  172.015,1247.1 2352.76,1247.1 \n  \"/>\n<polyline clip-path=\"url(#clip952)\" style=\"stroke:#000000; stroke-linecap:round; stroke-linejoin:round; stroke-width:2; stroke-opacity:0.1; fill:none\" points=\"\n  172.015,936.757 2352.76,936.757 \n  \"/>\n<polyline clip-path=\"url(#clip952)\" style=\"stroke:#000000; stroke-linecap:round; stroke-linejoin:round; stroke-width:2; stroke-opacity:0.1; fill:none\" points=\"\n  172.015,626.417 2352.76,626.417 \n  \"/>\n<polyline clip-path=\"url(#clip952)\" style=\"stroke:#000000; stroke-linecap:round; stroke-linejoin:round; stroke-width:2; stroke-opacity:0.1; fill:none\" points=\"\n  172.015,316.076 2352.76,316.076 \n  \"/>\n<polyline clip-path=\"url(#clip950)\" style=\"stroke:#000000; stroke-linecap:round; stroke-linejoin:round; stroke-width:4; stroke-opacity:1; fill:none\" points=\"\n  172.015,1486.45 172.015,47.2441 \n  \"/>\n<polyline clip-path=\"url(#clip950)\" style=\"stroke:#000000; stroke-linecap:round; stroke-linejoin:round; stroke-width:4; stroke-opacity:1; fill:none\" points=\"\n  172.015,1247.1 190.912,1247.1 \n  \"/>\n<polyline clip-path=\"url(#clip950)\" style=\"stroke:#000000; stroke-linecap:round; stroke-linejoin:round; stroke-width:4; stroke-opacity:1; fill:none\" points=\"\n  172.015,936.757 190.912,936.757 \n  \"/>\n<polyline clip-path=\"url(#clip950)\" style=\"stroke:#000000; stroke-linecap:round; stroke-linejoin:round; stroke-width:4; stroke-opacity:1; fill:none\" points=\"\n  172.015,626.417 190.912,626.417 \n  \"/>\n<polyline clip-path=\"url(#clip950)\" style=\"stroke:#000000; stroke-linecap:round; stroke-linejoin:round; stroke-width:4; stroke-opacity:1; fill:none\" points=\"\n  172.015,316.076 190.912,316.076 \n  \"/>\n<path clip-path=\"url(#clip950)\" d=\"M57.7745 1260.44 L74.0939 1260.44 L74.0939 1264.38 L52.1495 1264.38 L52.1495 1260.44 Q54.8115 1257.69 59.3949 1253.06 Q64.0013 1248.41 65.1819 1247.06 Q67.4272 1244.54 68.3068 1242.8 Q69.2096 1241.04 69.2096 1239.35 Q69.2096 1236.6 67.2652 1234.86 Q65.3439 1233.13 62.2421 1233.13 Q60.043 1233.13 57.5893 1233.89 Q55.1588 1234.66 52.381 1236.21 L52.381 1231.48 Q55.2051 1230.35 57.6588 1229.77 Q60.1124 1229.19 62.1495 1229.19 Q67.5198 1229.19 70.7142 1231.88 Q73.9087 1234.56 73.9087 1239.05 Q73.9087 1241.18 73.0985 1243.1 Q72.3115 1245 70.205 1247.6 Q69.6263 1248.27 66.5245 1251.48 Q63.4226 1254.68 57.7745 1260.44 Z\" fill=\"#000000\" fill-rule=\"evenodd\" fill-opacity=\"1\" /><path clip-path=\"url(#clip950)\" d=\"M93.9086 1232.9 Q90.2975 1232.9 88.4688 1236.46 Q86.6632 1240 86.6632 1247.13 Q86.6632 1254.24 88.4688 1257.8 Q90.2975 1261.35 93.9086 1261.35 Q97.5428 1261.35 99.3483 1257.8 Q101.177 1254.24 101.177 1247.13 Q101.177 1240 99.3483 1236.46 Q97.5428 1232.9 93.9086 1232.9 M93.9086 1229.19 Q99.7187 1229.19 102.774 1233.8 Q105.853 1238.38 105.853 1247.13 Q105.853 1255.86 102.774 1260.47 Q99.7187 1265.05 93.9086 1265.05 Q88.0984 1265.05 85.0197 1260.47 Q81.9642 1255.86 81.9642 1247.13 Q81.9642 1238.38 85.0197 1233.8 Q88.0984 1229.19 93.9086 1229.19 Z\" fill=\"#000000\" fill-rule=\"evenodd\" fill-opacity=\"1\" /><path clip-path=\"url(#clip950)\" d=\"M124.07 1232.9 Q120.459 1232.9 118.631 1236.46 Q116.825 1240 116.825 1247.13 Q116.825 1254.24 118.631 1257.8 Q120.459 1261.35 124.07 1261.35 Q127.705 1261.35 129.51 1257.8 Q131.339 1254.24 131.339 1247.13 Q131.339 1240 129.51 1236.46 Q127.705 1232.9 124.07 1232.9 M124.07 1229.19 Q129.881 1229.19 132.936 1233.8 Q136.015 1238.38 136.015 1247.13 Q136.015 1255.86 132.936 1260.47 Q129.881 1265.05 124.07 1265.05 Q118.26 1265.05 115.182 1260.47 Q112.126 1255.86 112.126 1247.13 Q112.126 1238.38 115.182 1233.8 Q118.26 1229.19 124.07 1229.19 Z\" fill=\"#000000\" fill-rule=\"evenodd\" fill-opacity=\"1\" /><path clip-path=\"url(#clip950)\" d=\"M66.5939 923.551 L54.7884 942 L66.5939 942 L66.5939 923.551 M65.367 919.477 L71.2466 919.477 L71.2466 942 L76.1772 942 L76.1772 945.889 L71.2466 945.889 L71.2466 954.037 L66.5939 954.037 L66.5939 945.889 L50.9921 945.889 L50.9921 941.375 L65.367 919.477 Z\" fill=\"#000000\" fill-rule=\"evenodd\" fill-opacity=\"1\" /><path clip-path=\"url(#clip950)\" d=\"M93.9086 922.556 Q90.2975 922.556 88.4688 926.121 Q86.6632 929.663 86.6632 936.792 Q86.6632 943.899 88.4688 947.463 Q90.2975 951.005 93.9086 951.005 Q97.5428 951.005 99.3483 947.463 Q101.177 943.899 101.177 936.792 Q101.177 929.663 99.3483 926.121 Q97.5428 922.556 93.9086 922.556 M93.9086 918.852 Q99.7187 918.852 102.774 923.459 Q105.853 928.042 105.853 936.792 Q105.853 945.519 102.774 950.125 Q99.7187 954.709 93.9086 954.709 Q88.0984 954.709 85.0197 950.125 Q81.9642 945.519 81.9642 936.792 Q81.9642 928.042 85.0197 923.459 Q88.0984 918.852 93.9086 918.852 Z\" fill=\"#000000\" fill-rule=\"evenodd\" fill-opacity=\"1\" /><path clip-path=\"url(#clip950)\" d=\"M124.07 922.556 Q120.459 922.556 118.631 926.121 Q116.825 929.663 116.825 936.792 Q116.825 943.899 118.631 947.463 Q120.459 951.005 124.07 951.005 Q127.705 951.005 129.51 947.463 Q131.339 943.899 131.339 936.792 Q131.339 929.663 129.51 926.121 Q127.705 922.556 124.07 922.556 M124.07 918.852 Q129.881 918.852 132.936 923.459 Q136.015 928.042 136.015 936.792 Q136.015 945.519 132.936 950.125 Q129.881 954.709 124.07 954.709 Q118.26 954.709 115.182 950.125 Q112.126 945.519 112.126 936.792 Q112.126 928.042 115.182 923.459 Q118.26 918.852 124.07 918.852 Z\" fill=\"#000000\" fill-rule=\"evenodd\" fill-opacity=\"1\" /><path clip-path=\"url(#clip950)\" d=\"M64.3254 624.554 Q61.1773 624.554 59.3254 626.706 Q57.4967 628.859 57.4967 632.609 Q57.4967 636.336 59.3254 638.512 Q61.1773 640.665 64.3254 640.665 Q67.4735 640.665 69.3022 638.512 Q71.1541 636.336 71.1541 632.609 Q71.1541 628.859 69.3022 626.706 Q67.4735 624.554 64.3254 624.554 M73.6077 609.901 L73.6077 614.16 Q71.8485 613.327 70.0429 612.887 Q68.2606 612.447 66.5013 612.447 Q61.8717 612.447 59.418 615.572 Q56.9875 618.697 56.6402 625.016 Q58.006 623.003 60.0662 621.938 Q62.1263 620.85 64.6032 620.85 Q69.8115 620.85 72.8207 624.021 Q75.8531 627.169 75.8531 632.609 Q75.8531 637.933 72.705 641.151 Q69.5568 644.368 64.3254 644.368 Q58.33 644.368 55.1588 639.785 Q51.9875 635.178 51.9875 626.452 Q51.9875 618.257 55.8764 613.396 Q59.7652 608.512 66.3161 608.512 Q68.0754 608.512 69.8578 608.859 Q71.6633 609.206 73.6077 609.901 Z\" fill=\"#000000\" fill-rule=\"evenodd\" fill-opacity=\"1\" /><path clip-path=\"url(#clip950)\" d=\"M93.9086 612.216 Q90.2975 612.216 88.4688 615.78 Q86.6632 619.322 86.6632 626.452 Q86.6632 633.558 88.4688 637.123 Q90.2975 640.665 93.9086 640.665 Q97.5428 640.665 99.3483 637.123 Q101.177 633.558 101.177 626.452 Q101.177 619.322 99.3483 615.78 Q97.5428 612.216 93.9086 612.216 M93.9086 608.512 Q99.7187 608.512 102.774 613.118 Q105.853 617.702 105.853 626.452 Q105.853 635.178 102.774 639.785 Q99.7187 644.368 93.9086 644.368 Q88.0984 644.368 85.0197 639.785 Q81.9642 635.178 81.9642 626.452 Q81.9642 617.702 85.0197 613.118 Q88.0984 608.512 93.9086 608.512 Z\" fill=\"#000000\" fill-rule=\"evenodd\" fill-opacity=\"1\" /><path clip-path=\"url(#clip950)\" d=\"M124.07 612.216 Q120.459 612.216 118.631 615.78 Q116.825 619.322 116.825 626.452 Q116.825 633.558 118.631 637.123 Q120.459 640.665 124.07 640.665 Q127.705 640.665 129.51 637.123 Q131.339 633.558 131.339 626.452 Q131.339 619.322 129.51 615.78 Q127.705 612.216 124.07 612.216 M124.07 608.512 Q129.881 608.512 132.936 613.118 Q136.015 617.702 136.015 626.452 Q136.015 635.178 132.936 639.785 Q129.881 644.368 124.07 644.368 Q118.26 644.368 115.182 639.785 Q112.126 635.178 112.126 626.452 Q112.126 617.702 115.182 613.118 Q118.26 608.512 124.07 608.512 Z\" fill=\"#000000\" fill-rule=\"evenodd\" fill-opacity=\"1\" /><path clip-path=\"url(#clip950)\" d=\"M63.7467 316.945 Q60.4134 316.945 58.4921 318.727 Q56.5939 320.509 56.5939 323.634 Q56.5939 326.759 58.4921 328.542 Q60.4134 330.324 63.7467 330.324 Q67.08 330.324 69.0013 328.542 Q70.9226 326.736 70.9226 323.634 Q70.9226 320.509 69.0013 318.727 Q67.1032 316.945 63.7467 316.945 M59.0708 314.954 Q56.0615 314.213 54.3717 312.153 Q52.7051 310.093 52.7051 307.13 Q52.7051 302.986 55.6449 300.579 Q58.6078 298.172 63.7467 298.172 Q68.9087 298.172 71.8485 300.579 Q74.7883 302.986 74.7883 307.13 Q74.7883 310.093 73.0985 312.153 Q71.4318 314.213 68.4457 314.954 Q71.8253 315.741 73.7003 318.033 Q75.5985 320.324 75.5985 323.634 Q75.5985 328.657 72.5198 331.343 Q69.4642 334.028 63.7467 334.028 Q58.0291 334.028 54.9504 331.343 Q51.8949 328.657 51.8949 323.634 Q51.8949 320.324 53.793 318.033 Q55.6912 315.741 59.0708 314.954 M57.3578 307.57 Q57.3578 310.255 59.0245 311.759 Q60.7143 313.264 63.7467 313.264 Q66.7559 313.264 68.4457 311.759 Q70.1587 310.255 70.1587 307.57 Q70.1587 304.884 68.4457 303.38 Q66.7559 301.875 63.7467 301.875 Q60.7143 301.875 59.0245 303.38 Q57.3578 304.884 57.3578 307.57 Z\" fill=\"#000000\" fill-rule=\"evenodd\" fill-opacity=\"1\" /><path clip-path=\"url(#clip950)\" d=\"M93.9086 301.875 Q90.2975 301.875 88.4688 305.44 Q86.6632 308.982 86.6632 316.111 Q86.6632 323.218 88.4688 326.782 Q90.2975 330.324 93.9086 330.324 Q97.5428 330.324 99.3483 326.782 Q101.177 323.218 101.177 316.111 Q101.177 308.982 99.3483 305.44 Q97.5428 301.875 93.9086 301.875 M93.9086 298.172 Q99.7187 298.172 102.774 302.778 Q105.853 307.361 105.853 316.111 Q105.853 324.838 102.774 329.444 Q99.7187 334.028 93.9086 334.028 Q88.0984 334.028 85.0197 329.444 Q81.9642 324.838 81.9642 316.111 Q81.9642 307.361 85.0197 302.778 Q88.0984 298.172 93.9086 298.172 Z\" fill=\"#000000\" fill-rule=\"evenodd\" fill-opacity=\"1\" /><path clip-path=\"url(#clip950)\" d=\"M124.07 301.875 Q120.459 301.875 118.631 305.44 Q116.825 308.982 116.825 316.111 Q116.825 323.218 118.631 326.782 Q120.459 330.324 124.07 330.324 Q127.705 330.324 129.51 326.782 Q131.339 323.218 131.339 316.111 Q131.339 308.982 129.51 305.44 Q127.705 301.875 124.07 301.875 M124.07 298.172 Q129.881 298.172 132.936 302.778 Q136.015 307.361 136.015 316.111 Q136.015 324.838 132.936 329.444 Q129.881 334.028 124.07 334.028 Q118.26 334.028 115.182 329.444 Q112.126 324.838 112.126 316.111 Q112.126 307.361 115.182 302.778 Q118.26 298.172 124.07 298.172 Z\" fill=\"#000000\" fill-rule=\"evenodd\" fill-opacity=\"1\" /><polyline clip-path=\"url(#clip952)\" style=\"stroke:#009af9; stroke-linecap:round; stroke-linejoin:round; stroke-width:4; stroke-opacity:1; fill:none\" points=\"\n  896.643,1386.75 1037.95,1194.34 \n  \"/>\n<polyline clip-path=\"url(#clip952)\" style=\"stroke:#e26f46; stroke-linecap:round; stroke-linejoin:round; stroke-width:4; stroke-opacity:1; fill:none\" points=\"\n  1360.06,795.552 1131.47,666.761 \n  \"/>\n<polyline clip-path=\"url(#clip952)\" style=\"stroke:#3da44d; stroke-linecap:round; stroke-linejoin:round; stroke-width:4; stroke-opacity:1; fill:none\" points=\"\n  672.21,680.727 233.734,1354.17 \n  \"/>\n<polyline clip-path=\"url(#clip952)\" style=\"stroke:#c271d2; stroke-linecap:round; stroke-linejoin:round; stroke-width:4; stroke-opacity:1; fill:none\" points=\"\n  2079.07,1163.31 1732.03,989.515 \n  \"/>\n<polyline clip-path=\"url(#clip952)\" style=\"stroke:#ac8d18; stroke-linecap:round; stroke-linejoin:round; stroke-width:4; stroke-opacity:1; fill:none\" points=\"\n  952.751,584.521 632.726,87.9763 \n  \"/>\n<polyline clip-path=\"url(#clip952)\" style=\"stroke:#00a9ad; stroke-linecap:round; stroke-linejoin:round; stroke-width:4; stroke-opacity:1; fill:none\" points=\"\n  1037.95,1194.34 1565.79,1445.72 \n  \"/>\n<polyline clip-path=\"url(#clip952)\" style=\"stroke:#ed5d92; stroke-linecap:round; stroke-linejoin:round; stroke-width:4; stroke-opacity:1; fill:none\" points=\"\n  2201.68,1365.03 2079.07,1163.31 \n  \"/>\n<polyline clip-path=\"url(#clip952)\" style=\"stroke:#c68125; stroke-linecap:round; stroke-linejoin:round; stroke-width:4; stroke-opacity:1; fill:none\" points=\"\n  1873.34,610.9 2207.91,669.865 \n  \"/>\n<polyline clip-path=\"url(#clip952)\" style=\"stroke:#00a98d; stroke-linecap:round; stroke-linejoin:round; stroke-width:4; stroke-opacity:1; fill:none\" points=\"\n  1245.76,513.143 952.751,584.521 \n  \"/>\n<polyline clip-path=\"url(#clip952)\" style=\"stroke:#8e971d; stroke-linecap:round; stroke-linejoin:round; stroke-width:4; stroke-opacity:1; fill:none\" points=\"\n  1775.67,375.041 1638.52,505.384 \n  \"/>\n<polyline clip-path=\"url(#clip952)\" style=\"stroke:#00a8cb; stroke-linecap:round; stroke-linejoin:round; stroke-width:4; stroke-opacity:1; fill:none\" points=\"\n  1420.32,643.486 1360.06,795.552 \n  \"/>\n<polyline clip-path=\"url(#clip952)\" style=\"stroke:#9b7fe8; stroke-linecap:round; stroke-linejoin:round; stroke-width:4; stroke-opacity:1; fill:none\" points=\"\n  1732.03,989.515 1873.34,610.9 \n  \"/>\n<polyline clip-path=\"url(#clip952)\" style=\"stroke:#608cf6; stroke-linecap:round; stroke-linejoin:round; stroke-width:4; stroke-opacity:1; fill:none\" points=\"\n  233.734,1354.17 896.643,1386.75 \n  \"/>\n<polyline clip-path=\"url(#clip952)\" style=\"stroke:#f05f73; stroke-linecap:round; stroke-linejoin:round; stroke-width:4; stroke-opacity:1; fill:none\" points=\"\n  632.726,87.9763 672.21,680.727 \n  \"/>\n<polyline clip-path=\"url(#clip952)\" style=\"stroke:#dd64b5; stroke-linecap:round; stroke-linejoin:round; stroke-width:4; stroke-opacity:1; fill:none\" points=\"\n  1131.47,666.761 1245.76,513.143 \n  \"/>\n<polyline clip-path=\"url(#clip952)\" style=\"stroke:#6b9e32; stroke-linecap:round; stroke-linejoin:round; stroke-width:4; stroke-opacity:1; fill:none\" points=\"\n  1638.52,505.384 1420.32,643.486 \n  \"/>\n<polyline clip-path=\"url(#clip952)\" style=\"stroke:#009af9; stroke-linecap:round; stroke-linejoin:round; stroke-width:4; stroke-opacity:1; fill:none\" points=\"\n  2207.91,669.865 2291.04,469.695 \n  \"/>\n<polyline clip-path=\"url(#clip952)\" style=\"stroke:#e26f46; stroke-linecap:round; stroke-linejoin:round; stroke-width:4; stroke-opacity:1; fill:none\" points=\"\n  1565.79,1445.72 1775.67,1410.03 \n  \"/>\n<polyline clip-path=\"url(#clip952)\" style=\"stroke:#3da44d; stroke-linecap:round; stroke-linejoin:round; stroke-width:4; stroke-opacity:1; fill:none\" points=\"\n  2291.04,469.695 1775.67,375.041 \n  \"/>\n<polyline clip-path=\"url(#clip952)\" style=\"stroke:#c271d2; stroke-linecap:round; stroke-linejoin:round; stroke-width:4; stroke-opacity:1; fill:none\" points=\"\n  1775.67,1410.03 2201.68,1365.03 \n  \"/>\n</svg>\n"
          },
          "metadata": {}
        },
        {
          "output_type": "stream",
          "name": "stdout",
          "text": [
            "\n"
          ]
        }
      ]
    },
    {
      "cell_type": "code",
      "source": [
        "CompactATSP('u')"
      ],
      "metadata": {
        "colab": {
          "base_uri": "https://localhost:8080/",
          "height": 473
        },
        "id": "h7SWoI_-ummZ",
        "outputId": "13b36db5-b048-45ae-938f-0d6c2f63a1c4"
      },
      "execution_count": null,
      "outputs": [
        {
          "output_type": "stream",
          "name": "stdout",
          "text": [
            "LP val: 3973.0000000000005    Time=0.003899097442626953  \n",
            "IP val: 4191.0    Time=0.34833407402038574   Solution: [1, 13, 3, 14, 5, 9, 15, 2, 11, 16, 10, 19, 17, 8, 12, 4, 7, 20, 18, 6, 1]\n"
          ]
        },
        {
          "output_type": "display_data",
          "data": {
            "image/svg+xml": "<?xml version=\"1.0\" encoding=\"utf-8\"?>\n<svg xmlns=\"http://www.w3.org/2000/svg\" xmlns:xlink=\"http://www.w3.org/1999/xlink\" width=\"600\" height=\"400\" viewBox=\"0 0 2400 1600\">\n<defs>\n  <clipPath id=\"clip990\">\n    <rect x=\"0\" y=\"0\" width=\"2400\" height=\"1600\"/>\n  </clipPath>\n</defs>\n<path clip-path=\"url(#clip990)\" d=\"\nM0 1600 L2400 1600 L2400 0 L0 0  Z\n  \" fill=\"#ffffff\" fill-rule=\"evenodd\" fill-opacity=\"1\"/>\n<defs>\n  <clipPath id=\"clip991\">\n    <rect x=\"480\" y=\"0\" width=\"1681\" height=\"1600\"/>\n  </clipPath>\n</defs>\n<path clip-path=\"url(#clip990)\" d=\"\nM172.015 1486.45 L2352.76 1486.45 L2352.76 47.2441 L172.015 47.2441  Z\n  \" fill=\"#ffffff\" fill-rule=\"evenodd\" fill-opacity=\"1\"/>\n<defs>\n  <clipPath id=\"clip992\">\n    <rect x=\"172\" y=\"47\" width=\"2182\" height=\"1440\"/>\n  </clipPath>\n</defs>\n<polyline clip-path=\"url(#clip992)\" style=\"stroke:#000000; stroke-linecap:round; stroke-linejoin:round; stroke-width:2; stroke-opacity:0.1; fill:none\" points=\"\n  219.187,1486.45 219.187,47.2441 \n  \"/>\n<polyline clip-path=\"url(#clip992)\" style=\"stroke:#000000; stroke-linecap:round; stroke-linejoin:round; stroke-width:2; stroke-opacity:0.1; fill:none\" points=\"\n  738.708,1486.45 738.708,47.2441 \n  \"/>\n<polyline clip-path=\"url(#clip992)\" style=\"stroke:#000000; stroke-linecap:round; stroke-linejoin:round; stroke-width:2; stroke-opacity:0.1; fill:none\" points=\"\n  1258.23,1486.45 1258.23,47.2441 \n  \"/>\n<polyline clip-path=\"url(#clip992)\" style=\"stroke:#000000; stroke-linecap:round; stroke-linejoin:round; stroke-width:2; stroke-opacity:0.1; fill:none\" points=\"\n  1777.75,1486.45 1777.75,47.2441 \n  \"/>\n<polyline clip-path=\"url(#clip992)\" style=\"stroke:#000000; stroke-linecap:round; stroke-linejoin:round; stroke-width:2; stroke-opacity:0.1; fill:none\" points=\"\n  2297.27,1486.45 2297.27,47.2441 \n  \"/>\n<polyline clip-path=\"url(#clip990)\" style=\"stroke:#000000; stroke-linecap:round; stroke-linejoin:round; stroke-width:4; stroke-opacity:1; fill:none\" points=\"\n  172.015,1486.45 2352.76,1486.45 \n  \"/>\n<polyline clip-path=\"url(#clip990)\" style=\"stroke:#000000; stroke-linecap:round; stroke-linejoin:round; stroke-width:4; stroke-opacity:1; fill:none\" points=\"\n  219.187,1486.45 219.187,1467.55 \n  \"/>\n<polyline clip-path=\"url(#clip990)\" style=\"stroke:#000000; stroke-linecap:round; stroke-linejoin:round; stroke-width:4; stroke-opacity:1; fill:none\" points=\"\n  738.708,1486.45 738.708,1467.55 \n  \"/>\n<polyline clip-path=\"url(#clip990)\" style=\"stroke:#000000; stroke-linecap:round; stroke-linejoin:round; stroke-width:4; stroke-opacity:1; fill:none\" points=\"\n  1258.23,1486.45 1258.23,1467.55 \n  \"/>\n<polyline clip-path=\"url(#clip990)\" style=\"stroke:#000000; stroke-linecap:round; stroke-linejoin:round; stroke-width:4; stroke-opacity:1; fill:none\" points=\"\n  1777.75,1486.45 1777.75,1467.55 \n  \"/>\n<polyline clip-path=\"url(#clip990)\" style=\"stroke:#000000; stroke-linecap:round; stroke-linejoin:round; stroke-width:4; stroke-opacity:1; fill:none\" points=\"\n  2297.27,1486.45 2297.27,1467.55 \n  \"/>\n<path clip-path=\"url(#clip990)\" d=\"M219.187 1517.37 Q215.576 1517.37 213.748 1520.93 Q211.942 1524.47 211.942 1531.6 Q211.942 1538.71 213.748 1542.27 Q215.576 1545.82 219.187 1545.82 Q222.822 1545.82 224.627 1542.27 Q226.456 1538.71 226.456 1531.6 Q226.456 1524.47 224.627 1520.93 Q222.822 1517.37 219.187 1517.37 M219.187 1513.66 Q224.997 1513.66 228.053 1518.27 Q231.132 1522.85 231.132 1531.6 Q231.132 1540.33 228.053 1544.94 Q224.997 1549.52 219.187 1549.52 Q213.377 1549.52 210.298 1544.94 Q207.243 1540.33 207.243 1531.6 Q207.243 1522.85 210.298 1518.27 Q213.377 1513.66 219.187 1513.66 Z\" fill=\"#000000\" fill-rule=\"evenodd\" fill-opacity=\"1\" /><path clip-path=\"url(#clip990)\" d=\"M702.401 1544.91 L718.72 1544.91 L718.72 1548.85 L696.776 1548.85 L696.776 1544.91 Q699.438 1542.16 704.021 1537.53 Q708.627 1532.88 709.808 1531.53 Q712.053 1529.01 712.933 1527.27 Q713.836 1525.51 713.836 1523.82 Q713.836 1521.07 711.891 1519.33 Q709.97 1517.6 706.868 1517.6 Q704.669 1517.6 702.215 1518.36 Q699.785 1519.13 697.007 1520.68 L697.007 1515.95 Q699.831 1514.82 702.285 1514.24 Q704.739 1513.66 706.776 1513.66 Q712.146 1513.66 715.34 1516.35 Q718.535 1519.03 718.535 1523.52 Q718.535 1525.65 717.725 1527.57 Q716.938 1529.47 714.831 1532.07 Q714.252 1532.74 711.151 1535.95 Q708.049 1539.15 702.401 1544.91 Z\" fill=\"#000000\" fill-rule=\"evenodd\" fill-opacity=\"1\" /><path clip-path=\"url(#clip990)\" d=\"M728.581 1514.29 L746.937 1514.29 L746.937 1518.22 L732.863 1518.22 L732.863 1526.7 Q733.882 1526.35 734.9 1526.19 Q735.919 1526 736.937 1526 Q742.724 1526 746.104 1529.17 Q749.484 1532.34 749.484 1537.76 Q749.484 1543.34 746.011 1546.44 Q742.539 1549.52 736.22 1549.52 Q734.044 1549.52 731.775 1549.15 Q729.53 1548.78 727.123 1548.04 L727.123 1543.34 Q729.206 1544.47 731.428 1545.03 Q733.65 1545.58 736.127 1545.58 Q740.132 1545.58 742.47 1543.48 Q744.808 1541.37 744.808 1537.76 Q744.808 1534.15 742.47 1532.04 Q740.132 1529.94 736.127 1529.94 Q734.252 1529.94 732.377 1530.35 Q730.525 1530.77 728.581 1531.65 L728.581 1514.29 Z\" fill=\"#000000\" fill-rule=\"evenodd\" fill-opacity=\"1\" /><path clip-path=\"url(#clip990)\" d=\"M768.697 1517.37 Q765.085 1517.37 763.257 1520.93 Q761.451 1524.47 761.451 1531.6 Q761.451 1538.71 763.257 1542.27 Q765.085 1545.82 768.697 1545.82 Q772.331 1545.82 774.136 1542.27 Q775.965 1538.71 775.965 1531.6 Q775.965 1524.47 774.136 1520.93 Q772.331 1517.37 768.697 1517.37 M768.697 1513.66 Q774.507 1513.66 777.562 1518.27 Q780.641 1522.85 780.641 1531.6 Q780.641 1540.33 777.562 1544.94 Q774.507 1549.52 768.697 1549.52 Q762.886 1549.52 759.808 1544.94 Q756.752 1540.33 756.752 1531.6 Q756.752 1522.85 759.808 1518.27 Q762.886 1513.66 768.697 1513.66 Z\" fill=\"#000000\" fill-rule=\"evenodd\" fill-opacity=\"1\" /><path clip-path=\"url(#clip990)\" d=\"M1217.85 1514.29 L1236.2 1514.29 L1236.2 1518.22 L1222.13 1518.22 L1222.13 1526.7 Q1223.15 1526.35 1224.17 1526.19 Q1225.19 1526 1226.2 1526 Q1231.99 1526 1235.37 1529.17 Q1238.75 1532.34 1238.75 1537.76 Q1238.75 1543.34 1235.28 1546.44 Q1231.81 1549.52 1225.49 1549.52 Q1223.31 1549.52 1221.04 1549.15 Q1218.8 1548.78 1216.39 1548.04 L1216.39 1543.34 Q1218.47 1544.47 1220.69 1545.03 Q1222.92 1545.58 1225.39 1545.58 Q1229.4 1545.58 1231.74 1543.48 Q1234.07 1541.37 1234.07 1537.76 Q1234.07 1534.15 1231.74 1532.04 Q1229.4 1529.94 1225.39 1529.94 Q1223.52 1529.94 1221.64 1530.35 Q1219.79 1530.77 1217.85 1531.65 L1217.85 1514.29 Z\" fill=\"#000000\" fill-rule=\"evenodd\" fill-opacity=\"1\" /><path clip-path=\"url(#clip990)\" d=\"M1257.96 1517.37 Q1254.35 1517.37 1252.52 1520.93 Q1250.72 1524.47 1250.72 1531.6 Q1250.72 1538.71 1252.52 1542.27 Q1254.35 1545.82 1257.96 1545.82 Q1261.6 1545.82 1263.4 1542.27 Q1265.23 1538.71 1265.23 1531.6 Q1265.23 1524.47 1263.4 1520.93 Q1261.6 1517.37 1257.96 1517.37 M1257.96 1513.66 Q1263.77 1513.66 1266.83 1518.27 Q1269.91 1522.85 1269.91 1531.6 Q1269.91 1540.33 1266.83 1544.94 Q1263.77 1549.52 1257.96 1549.52 Q1252.15 1549.52 1249.07 1544.94 Q1246.02 1540.33 1246.02 1531.6 Q1246.02 1522.85 1249.07 1518.27 Q1252.15 1513.66 1257.96 1513.66 Z\" fill=\"#000000\" fill-rule=\"evenodd\" fill-opacity=\"1\" /><path clip-path=\"url(#clip990)\" d=\"M1288.12 1517.37 Q1284.51 1517.37 1282.69 1520.93 Q1280.88 1524.47 1280.88 1531.6 Q1280.88 1538.71 1282.69 1542.27 Q1284.51 1545.82 1288.12 1545.82 Q1291.76 1545.82 1293.56 1542.27 Q1295.39 1538.71 1295.39 1531.6 Q1295.39 1524.47 1293.56 1520.93 Q1291.76 1517.37 1288.12 1517.37 M1288.12 1513.66 Q1293.94 1513.66 1296.99 1518.27 Q1300.07 1522.85 1300.07 1531.6 Q1300.07 1540.33 1296.99 1544.94 Q1293.94 1549.52 1288.12 1549.52 Q1282.31 1549.52 1279.24 1544.94 Q1276.18 1540.33 1276.18 1531.6 Q1276.18 1522.85 1279.24 1518.27 Q1282.31 1513.66 1288.12 1513.66 Z\" fill=\"#000000\" fill-rule=\"evenodd\" fill-opacity=\"1\" /><path clip-path=\"url(#clip990)\" d=\"M1736.03 1514.29 L1758.25 1514.29 L1758.25 1516.28 L1745.7 1548.85 L1740.82 1548.85 L1752.62 1518.22 L1736.03 1518.22 L1736.03 1514.29 Z\" fill=\"#000000\" fill-rule=\"evenodd\" fill-opacity=\"1\" /><path clip-path=\"url(#clip990)\" d=\"M1767.41 1514.29 L1785.77 1514.29 L1785.77 1518.22 L1771.7 1518.22 L1771.7 1526.7 Q1772.72 1526.35 1773.73 1526.19 Q1774.75 1526 1775.77 1526 Q1781.56 1526 1784.94 1529.17 Q1788.32 1532.34 1788.32 1537.76 Q1788.32 1543.34 1784.85 1546.44 Q1781.37 1549.52 1775.05 1549.52 Q1772.88 1549.52 1770.61 1549.15 Q1768.36 1548.78 1765.96 1548.04 L1765.96 1543.34 Q1768.04 1544.47 1770.26 1545.03 Q1772.48 1545.58 1774.96 1545.58 Q1778.97 1545.58 1781.3 1543.48 Q1783.64 1541.37 1783.64 1537.76 Q1783.64 1534.15 1781.3 1532.04 Q1778.97 1529.94 1774.96 1529.94 Q1773.09 1529.94 1771.21 1530.35 Q1769.36 1530.77 1767.41 1531.65 L1767.41 1514.29 Z\" fill=\"#000000\" fill-rule=\"evenodd\" fill-opacity=\"1\" /><path clip-path=\"url(#clip990)\" d=\"M1807.53 1517.37 Q1803.92 1517.37 1802.09 1520.93 Q1800.28 1524.47 1800.28 1531.6 Q1800.28 1538.71 1802.09 1542.27 Q1803.92 1545.82 1807.53 1545.82 Q1811.16 1545.82 1812.97 1542.27 Q1814.8 1538.71 1814.8 1531.6 Q1814.8 1524.47 1812.97 1520.93 Q1811.16 1517.37 1807.53 1517.37 M1807.53 1513.66 Q1813.34 1513.66 1816.4 1518.27 Q1819.47 1522.85 1819.47 1531.6 Q1819.47 1540.33 1816.4 1544.94 Q1813.34 1549.52 1807.53 1549.52 Q1801.72 1549.52 1798.64 1544.94 Q1795.59 1540.33 1795.59 1531.6 Q1795.59 1522.85 1798.64 1518.27 Q1801.72 1513.66 1807.53 1513.66 Z\" fill=\"#000000\" fill-rule=\"evenodd\" fill-opacity=\"1\" /><path clip-path=\"url(#clip990)\" d=\"M2241.8 1544.91 L2249.44 1544.91 L2249.44 1518.55 L2241.13 1520.21 L2241.13 1515.95 L2249.39 1514.29 L2254.07 1514.29 L2254.07 1544.91 L2261.7 1544.91 L2261.7 1548.85 L2241.8 1548.85 L2241.8 1544.91 Z\" fill=\"#000000\" fill-rule=\"evenodd\" fill-opacity=\"1\" /><path clip-path=\"url(#clip990)\" d=\"M2281.15 1517.37 Q2277.54 1517.37 2275.71 1520.93 Q2273.9 1524.47 2273.9 1531.6 Q2273.9 1538.71 2275.71 1542.27 Q2277.54 1545.82 2281.15 1545.82 Q2284.78 1545.82 2286.59 1542.27 Q2288.42 1538.71 2288.42 1531.6 Q2288.42 1524.47 2286.59 1520.93 Q2284.78 1517.37 2281.15 1517.37 M2281.15 1513.66 Q2286.96 1513.66 2290.01 1518.27 Q2293.09 1522.85 2293.09 1531.6 Q2293.09 1540.33 2290.01 1544.94 Q2286.96 1549.52 2281.15 1549.52 Q2275.34 1549.52 2272.26 1544.94 Q2269.2 1540.33 2269.2 1531.6 Q2269.2 1522.85 2272.26 1518.27 Q2275.34 1513.66 2281.15 1513.66 Z\" fill=\"#000000\" fill-rule=\"evenodd\" fill-opacity=\"1\" /><path clip-path=\"url(#clip990)\" d=\"M2311.31 1517.37 Q2307.7 1517.37 2305.87 1520.93 Q2304.07 1524.47 2304.07 1531.6 Q2304.07 1538.71 2305.87 1542.27 Q2307.7 1545.82 2311.31 1545.82 Q2314.94 1545.82 2316.75 1542.27 Q2318.58 1538.71 2318.58 1531.6 Q2318.58 1524.47 2316.75 1520.93 Q2314.94 1517.37 2311.31 1517.37 M2311.31 1513.66 Q2317.12 1513.66 2320.18 1518.27 Q2323.25 1522.85 2323.25 1531.6 Q2323.25 1540.33 2320.18 1544.94 Q2317.12 1549.52 2311.31 1549.52 Q2305.5 1549.52 2302.42 1544.94 Q2299.37 1540.33 2299.37 1531.6 Q2299.37 1522.85 2302.42 1518.27 Q2305.5 1513.66 2311.31 1513.66 Z\" fill=\"#000000\" fill-rule=\"evenodd\" fill-opacity=\"1\" /><path clip-path=\"url(#clip990)\" d=\"M2341.47 1517.37 Q2337.86 1517.37 2336.03 1520.93 Q2334.23 1524.47 2334.23 1531.6 Q2334.23 1538.71 2336.03 1542.27 Q2337.86 1545.82 2341.47 1545.82 Q2345.11 1545.82 2346.91 1542.27 Q2348.74 1538.71 2348.74 1531.6 Q2348.74 1524.47 2346.91 1520.93 Q2345.11 1517.37 2341.47 1517.37 M2341.47 1513.66 Q2347.28 1513.66 2350.34 1518.27 Q2353.42 1522.85 2353.42 1531.6 Q2353.42 1540.33 2350.34 1544.94 Q2347.28 1549.52 2341.47 1549.52 Q2335.66 1549.52 2332.58 1544.94 Q2329.53 1540.33 2329.53 1531.6 Q2329.53 1522.85 2332.58 1518.27 Q2335.66 1513.66 2341.47 1513.66 Z\" fill=\"#000000\" fill-rule=\"evenodd\" fill-opacity=\"1\" /><polyline clip-path=\"url(#clip992)\" style=\"stroke:#000000; stroke-linecap:round; stroke-linejoin:round; stroke-width:2; stroke-opacity:0.1; fill:none\" points=\"\n  172.015,1247.1 2352.76,1247.1 \n  \"/>\n<polyline clip-path=\"url(#clip992)\" style=\"stroke:#000000; stroke-linecap:round; stroke-linejoin:round; stroke-width:2; stroke-opacity:0.1; fill:none\" points=\"\n  172.015,936.757 2352.76,936.757 \n  \"/>\n<polyline clip-path=\"url(#clip992)\" style=\"stroke:#000000; stroke-linecap:round; stroke-linejoin:round; stroke-width:2; stroke-opacity:0.1; fill:none\" points=\"\n  172.015,626.417 2352.76,626.417 \n  \"/>\n<polyline clip-path=\"url(#clip992)\" style=\"stroke:#000000; stroke-linecap:round; stroke-linejoin:round; stroke-width:2; stroke-opacity:0.1; fill:none\" points=\"\n  172.015,316.076 2352.76,316.076 \n  \"/>\n<polyline clip-path=\"url(#clip990)\" style=\"stroke:#000000; stroke-linecap:round; stroke-linejoin:round; stroke-width:4; stroke-opacity:1; fill:none\" points=\"\n  172.015,1486.45 172.015,47.2441 \n  \"/>\n<polyline clip-path=\"url(#clip990)\" style=\"stroke:#000000; stroke-linecap:round; stroke-linejoin:round; stroke-width:4; stroke-opacity:1; fill:none\" points=\"\n  172.015,1247.1 190.912,1247.1 \n  \"/>\n<polyline clip-path=\"url(#clip990)\" style=\"stroke:#000000; stroke-linecap:round; stroke-linejoin:round; stroke-width:4; stroke-opacity:1; fill:none\" points=\"\n  172.015,936.757 190.912,936.757 \n  \"/>\n<polyline clip-path=\"url(#clip990)\" style=\"stroke:#000000; stroke-linecap:round; stroke-linejoin:round; stroke-width:4; stroke-opacity:1; fill:none\" points=\"\n  172.015,626.417 190.912,626.417 \n  \"/>\n<polyline clip-path=\"url(#clip990)\" style=\"stroke:#000000; stroke-linecap:round; stroke-linejoin:round; stroke-width:4; stroke-opacity:1; fill:none\" points=\"\n  172.015,316.076 190.912,316.076 \n  \"/>\n<path clip-path=\"url(#clip990)\" d=\"M57.7745 1260.44 L74.0939 1260.44 L74.0939 1264.38 L52.1495 1264.38 L52.1495 1260.44 Q54.8115 1257.69 59.3949 1253.06 Q64.0013 1248.41 65.1819 1247.06 Q67.4272 1244.54 68.3068 1242.8 Q69.2096 1241.04 69.2096 1239.35 Q69.2096 1236.6 67.2652 1234.86 Q65.3439 1233.13 62.2421 1233.13 Q60.043 1233.13 57.5893 1233.89 Q55.1588 1234.66 52.381 1236.21 L52.381 1231.48 Q55.2051 1230.35 57.6588 1229.77 Q60.1124 1229.19 62.1495 1229.19 Q67.5198 1229.19 70.7142 1231.88 Q73.9087 1234.56 73.9087 1239.05 Q73.9087 1241.18 73.0985 1243.1 Q72.3115 1245 70.205 1247.6 Q69.6263 1248.27 66.5245 1251.48 Q63.4226 1254.68 57.7745 1260.44 Z\" fill=\"#000000\" fill-rule=\"evenodd\" fill-opacity=\"1\" /><path clip-path=\"url(#clip990)\" d=\"M93.9086 1232.9 Q90.2975 1232.9 88.4688 1236.46 Q86.6632 1240 86.6632 1247.13 Q86.6632 1254.24 88.4688 1257.8 Q90.2975 1261.35 93.9086 1261.35 Q97.5428 1261.35 99.3483 1257.8 Q101.177 1254.24 101.177 1247.13 Q101.177 1240 99.3483 1236.46 Q97.5428 1232.9 93.9086 1232.9 M93.9086 1229.19 Q99.7187 1229.19 102.774 1233.8 Q105.853 1238.38 105.853 1247.13 Q105.853 1255.86 102.774 1260.47 Q99.7187 1265.05 93.9086 1265.05 Q88.0984 1265.05 85.0197 1260.47 Q81.9642 1255.86 81.9642 1247.13 Q81.9642 1238.38 85.0197 1233.8 Q88.0984 1229.19 93.9086 1229.19 Z\" fill=\"#000000\" fill-rule=\"evenodd\" fill-opacity=\"1\" /><path clip-path=\"url(#clip990)\" d=\"M124.07 1232.9 Q120.459 1232.9 118.631 1236.46 Q116.825 1240 116.825 1247.13 Q116.825 1254.24 118.631 1257.8 Q120.459 1261.35 124.07 1261.35 Q127.705 1261.35 129.51 1257.8 Q131.339 1254.24 131.339 1247.13 Q131.339 1240 129.51 1236.46 Q127.705 1232.9 124.07 1232.9 M124.07 1229.19 Q129.881 1229.19 132.936 1233.8 Q136.015 1238.38 136.015 1247.13 Q136.015 1255.86 132.936 1260.47 Q129.881 1265.05 124.07 1265.05 Q118.26 1265.05 115.182 1260.47 Q112.126 1255.86 112.126 1247.13 Q112.126 1238.38 115.182 1233.8 Q118.26 1229.19 124.07 1229.19 Z\" fill=\"#000000\" fill-rule=\"evenodd\" fill-opacity=\"1\" /><path clip-path=\"url(#clip990)\" d=\"M66.5939 923.551 L54.7884 942 L66.5939 942 L66.5939 923.551 M65.367 919.477 L71.2466 919.477 L71.2466 942 L76.1772 942 L76.1772 945.889 L71.2466 945.889 L71.2466 954.037 L66.5939 954.037 L66.5939 945.889 L50.9921 945.889 L50.9921 941.375 L65.367 919.477 Z\" fill=\"#000000\" fill-rule=\"evenodd\" fill-opacity=\"1\" /><path clip-path=\"url(#clip990)\" d=\"M93.9086 922.556 Q90.2975 922.556 88.4688 926.121 Q86.6632 929.663 86.6632 936.792 Q86.6632 943.899 88.4688 947.463 Q90.2975 951.005 93.9086 951.005 Q97.5428 951.005 99.3483 947.463 Q101.177 943.899 101.177 936.792 Q101.177 929.663 99.3483 926.121 Q97.5428 922.556 93.9086 922.556 M93.9086 918.852 Q99.7187 918.852 102.774 923.459 Q105.853 928.042 105.853 936.792 Q105.853 945.519 102.774 950.125 Q99.7187 954.709 93.9086 954.709 Q88.0984 954.709 85.0197 950.125 Q81.9642 945.519 81.9642 936.792 Q81.9642 928.042 85.0197 923.459 Q88.0984 918.852 93.9086 918.852 Z\" fill=\"#000000\" fill-rule=\"evenodd\" fill-opacity=\"1\" /><path clip-path=\"url(#clip990)\" d=\"M124.07 922.556 Q120.459 922.556 118.631 926.121 Q116.825 929.663 116.825 936.792 Q116.825 943.899 118.631 947.463 Q120.459 951.005 124.07 951.005 Q127.705 951.005 129.51 947.463 Q131.339 943.899 131.339 936.792 Q131.339 929.663 129.51 926.121 Q127.705 922.556 124.07 922.556 M124.07 918.852 Q129.881 918.852 132.936 923.459 Q136.015 928.042 136.015 936.792 Q136.015 945.519 132.936 950.125 Q129.881 954.709 124.07 954.709 Q118.26 954.709 115.182 950.125 Q112.126 945.519 112.126 936.792 Q112.126 928.042 115.182 923.459 Q118.26 918.852 124.07 918.852 Z\" fill=\"#000000\" fill-rule=\"evenodd\" fill-opacity=\"1\" /><path clip-path=\"url(#clip990)\" d=\"M64.3254 624.554 Q61.1773 624.554 59.3254 626.706 Q57.4967 628.859 57.4967 632.609 Q57.4967 636.336 59.3254 638.512 Q61.1773 640.665 64.3254 640.665 Q67.4735 640.665 69.3022 638.512 Q71.1541 636.336 71.1541 632.609 Q71.1541 628.859 69.3022 626.706 Q67.4735 624.554 64.3254 624.554 M73.6077 609.901 L73.6077 614.16 Q71.8485 613.327 70.0429 612.887 Q68.2606 612.447 66.5013 612.447 Q61.8717 612.447 59.418 615.572 Q56.9875 618.697 56.6402 625.016 Q58.006 623.003 60.0662 621.938 Q62.1263 620.85 64.6032 620.85 Q69.8115 620.85 72.8207 624.021 Q75.8531 627.169 75.8531 632.609 Q75.8531 637.933 72.705 641.151 Q69.5568 644.368 64.3254 644.368 Q58.33 644.368 55.1588 639.785 Q51.9875 635.178 51.9875 626.452 Q51.9875 618.257 55.8764 613.396 Q59.7652 608.512 66.3161 608.512 Q68.0754 608.512 69.8578 608.859 Q71.6633 609.206 73.6077 609.901 Z\" fill=\"#000000\" fill-rule=\"evenodd\" fill-opacity=\"1\" /><path clip-path=\"url(#clip990)\" d=\"M93.9086 612.216 Q90.2975 612.216 88.4688 615.78 Q86.6632 619.322 86.6632 626.452 Q86.6632 633.558 88.4688 637.123 Q90.2975 640.665 93.9086 640.665 Q97.5428 640.665 99.3483 637.123 Q101.177 633.558 101.177 626.452 Q101.177 619.322 99.3483 615.78 Q97.5428 612.216 93.9086 612.216 M93.9086 608.512 Q99.7187 608.512 102.774 613.118 Q105.853 617.702 105.853 626.452 Q105.853 635.178 102.774 639.785 Q99.7187 644.368 93.9086 644.368 Q88.0984 644.368 85.0197 639.785 Q81.9642 635.178 81.9642 626.452 Q81.9642 617.702 85.0197 613.118 Q88.0984 608.512 93.9086 608.512 Z\" fill=\"#000000\" fill-rule=\"evenodd\" fill-opacity=\"1\" /><path clip-path=\"url(#clip990)\" d=\"M124.07 612.216 Q120.459 612.216 118.631 615.78 Q116.825 619.322 116.825 626.452 Q116.825 633.558 118.631 637.123 Q120.459 640.665 124.07 640.665 Q127.705 640.665 129.51 637.123 Q131.339 633.558 131.339 626.452 Q131.339 619.322 129.51 615.78 Q127.705 612.216 124.07 612.216 M124.07 608.512 Q129.881 608.512 132.936 613.118 Q136.015 617.702 136.015 626.452 Q136.015 635.178 132.936 639.785 Q129.881 644.368 124.07 644.368 Q118.26 644.368 115.182 639.785 Q112.126 635.178 112.126 626.452 Q112.126 617.702 115.182 613.118 Q118.26 608.512 124.07 608.512 Z\" fill=\"#000000\" fill-rule=\"evenodd\" fill-opacity=\"1\" /><path clip-path=\"url(#clip990)\" d=\"M63.7467 316.945 Q60.4134 316.945 58.4921 318.727 Q56.5939 320.509 56.5939 323.634 Q56.5939 326.759 58.4921 328.542 Q60.4134 330.324 63.7467 330.324 Q67.08 330.324 69.0013 328.542 Q70.9226 326.736 70.9226 323.634 Q70.9226 320.509 69.0013 318.727 Q67.1032 316.945 63.7467 316.945 M59.0708 314.954 Q56.0615 314.213 54.3717 312.153 Q52.7051 310.093 52.7051 307.13 Q52.7051 302.986 55.6449 300.579 Q58.6078 298.172 63.7467 298.172 Q68.9087 298.172 71.8485 300.579 Q74.7883 302.986 74.7883 307.13 Q74.7883 310.093 73.0985 312.153 Q71.4318 314.213 68.4457 314.954 Q71.8253 315.741 73.7003 318.033 Q75.5985 320.324 75.5985 323.634 Q75.5985 328.657 72.5198 331.343 Q69.4642 334.028 63.7467 334.028 Q58.0291 334.028 54.9504 331.343 Q51.8949 328.657 51.8949 323.634 Q51.8949 320.324 53.793 318.033 Q55.6912 315.741 59.0708 314.954 M57.3578 307.57 Q57.3578 310.255 59.0245 311.759 Q60.7143 313.264 63.7467 313.264 Q66.7559 313.264 68.4457 311.759 Q70.1587 310.255 70.1587 307.57 Q70.1587 304.884 68.4457 303.38 Q66.7559 301.875 63.7467 301.875 Q60.7143 301.875 59.0245 303.38 Q57.3578 304.884 57.3578 307.57 Z\" fill=\"#000000\" fill-rule=\"evenodd\" fill-opacity=\"1\" /><path clip-path=\"url(#clip990)\" d=\"M93.9086 301.875 Q90.2975 301.875 88.4688 305.44 Q86.6632 308.982 86.6632 316.111 Q86.6632 323.218 88.4688 326.782 Q90.2975 330.324 93.9086 330.324 Q97.5428 330.324 99.3483 326.782 Q101.177 323.218 101.177 316.111 Q101.177 308.982 99.3483 305.44 Q97.5428 301.875 93.9086 301.875 M93.9086 298.172 Q99.7187 298.172 102.774 302.778 Q105.853 307.361 105.853 316.111 Q105.853 324.838 102.774 329.444 Q99.7187 334.028 93.9086 334.028 Q88.0984 334.028 85.0197 329.444 Q81.9642 324.838 81.9642 316.111 Q81.9642 307.361 85.0197 302.778 Q88.0984 298.172 93.9086 298.172 Z\" fill=\"#000000\" fill-rule=\"evenodd\" fill-opacity=\"1\" /><path clip-path=\"url(#clip990)\" d=\"M124.07 301.875 Q120.459 301.875 118.631 305.44 Q116.825 308.982 116.825 316.111 Q116.825 323.218 118.631 326.782 Q120.459 330.324 124.07 330.324 Q127.705 330.324 129.51 326.782 Q131.339 323.218 131.339 316.111 Q131.339 308.982 129.51 305.44 Q127.705 301.875 124.07 301.875 M124.07 298.172 Q129.881 298.172 132.936 302.778 Q136.015 307.361 136.015 316.111 Q136.015 324.838 132.936 329.444 Q129.881 334.028 124.07 334.028 Q118.26 334.028 115.182 329.444 Q112.126 324.838 112.126 316.111 Q112.126 307.361 115.182 302.778 Q118.26 298.172 124.07 298.172 Z\" fill=\"#000000\" fill-rule=\"evenodd\" fill-opacity=\"1\" /><polyline clip-path=\"url(#clip992)\" style=\"stroke:#009af9; stroke-linecap:round; stroke-linejoin:round; stroke-width:4; stroke-opacity:1; fill:none\" points=\"\n  896.643,1386.75 233.734,1354.17 \n  \"/>\n<polyline clip-path=\"url(#clip992)\" style=\"stroke:#e26f46; stroke-linecap:round; stroke-linejoin:round; stroke-width:4; stroke-opacity:1; fill:none\" points=\"\n  1360.06,795.552 1420.32,643.486 \n  \"/>\n<polyline clip-path=\"url(#clip992)\" style=\"stroke:#3da44d; stroke-linecap:round; stroke-linejoin:round; stroke-width:4; stroke-opacity:1; fill:none\" points=\"\n  672.21,680.727 632.726,87.9763 \n  \"/>\n<polyline clip-path=\"url(#clip992)\" style=\"stroke:#c271d2; stroke-linecap:round; stroke-linejoin:round; stroke-width:4; stroke-opacity:1; fill:none\" points=\"\n  2079.07,1163.31 2201.68,1365.03 \n  \"/>\n<polyline clip-path=\"url(#clip992)\" style=\"stroke:#ac8d18; stroke-linecap:round; stroke-linejoin:round; stroke-width:4; stroke-opacity:1; fill:none\" points=\"\n  952.751,584.521 1245.76,513.143 \n  \"/>\n<polyline clip-path=\"url(#clip992)\" style=\"stroke:#00a9ad; stroke-linecap:round; stroke-linejoin:round; stroke-width:4; stroke-opacity:1; fill:none\" points=\"\n  1037.95,1194.34 896.643,1386.75 \n  \"/>\n<polyline clip-path=\"url(#clip992)\" style=\"stroke:#ed5d92; stroke-linecap:round; stroke-linejoin:round; stroke-width:4; stroke-opacity:1; fill:none\" points=\"\n  2201.68,1365.03 1775.67,1410.03 \n  \"/>\n<polyline clip-path=\"url(#clip992)\" style=\"stroke:#c68125; stroke-linecap:round; stroke-linejoin:round; stroke-width:4; stroke-opacity:1; fill:none\" points=\"\n  1873.34,610.9 1732.03,989.515 \n  \"/>\n<polyline clip-path=\"url(#clip992)\" style=\"stroke:#00a98d; stroke-linecap:round; stroke-linejoin:round; stroke-width:4; stroke-opacity:1; fill:none\" points=\"\n  1245.76,513.143 1131.47,666.761 \n  \"/>\n<polyline clip-path=\"url(#clip992)\" style=\"stroke:#8e971d; stroke-linecap:round; stroke-linejoin:round; stroke-width:4; stroke-opacity:1; fill:none\" points=\"\n  1775.67,375.041 2291.04,469.695 \n  \"/>\n<polyline clip-path=\"url(#clip992)\" style=\"stroke:#00a8cb; stroke-linecap:round; stroke-linejoin:round; stroke-width:4; stroke-opacity:1; fill:none\" points=\"\n  1420.32,643.486 1638.52,505.384 \n  \"/>\n<polyline clip-path=\"url(#clip992)\" style=\"stroke:#9b7fe8; stroke-linecap:round; stroke-linejoin:round; stroke-width:4; stroke-opacity:1; fill:none\" points=\"\n  1732.03,989.515 2079.07,1163.31 \n  \"/>\n<polyline clip-path=\"url(#clip992)\" style=\"stroke:#608cf6; stroke-linecap:round; stroke-linejoin:round; stroke-width:4; stroke-opacity:1; fill:none\" points=\"\n  233.734,1354.17 672.21,680.727 \n  \"/>\n<polyline clip-path=\"url(#clip992)\" style=\"stroke:#f05f73; stroke-linecap:round; stroke-linejoin:round; stroke-width:4; stroke-opacity:1; fill:none\" points=\"\n  632.726,87.9763 952.751,584.521 \n  \"/>\n<polyline clip-path=\"url(#clip992)\" style=\"stroke:#dd64b5; stroke-linecap:round; stroke-linejoin:round; stroke-width:4; stroke-opacity:1; fill:none\" points=\"\n  1131.47,666.761 1360.06,795.552 \n  \"/>\n<polyline clip-path=\"url(#clip992)\" style=\"stroke:#6b9e32; stroke-linecap:round; stroke-linejoin:round; stroke-width:4; stroke-opacity:1; fill:none\" points=\"\n  1638.52,505.384 1775.67,375.041 \n  \"/>\n<polyline clip-path=\"url(#clip992)\" style=\"stroke:#009af9; stroke-linecap:round; stroke-linejoin:round; stroke-width:4; stroke-opacity:1; fill:none\" points=\"\n  2207.91,669.865 1873.34,610.9 \n  \"/>\n<polyline clip-path=\"url(#clip992)\" style=\"stroke:#e26f46; stroke-linecap:round; stroke-linejoin:round; stroke-width:4; stroke-opacity:1; fill:none\" points=\"\n  1565.79,1445.72 1037.95,1194.34 \n  \"/>\n<polyline clip-path=\"url(#clip992)\" style=\"stroke:#3da44d; stroke-linecap:round; stroke-linejoin:round; stroke-width:4; stroke-opacity:1; fill:none\" points=\"\n  2291.04,469.695 2207.91,669.865 \n  \"/>\n<polyline clip-path=\"url(#clip992)\" style=\"stroke:#c271d2; stroke-linecap:round; stroke-linejoin:round; stroke-width:4; stroke-opacity:1; fill:none\" points=\"\n  1775.67,1410.03 1565.79,1445.72 \n  \"/>\n</svg>\n"
          },
          "metadata": {}
        },
        {
          "output_type": "stream",
          "name": "stdout",
          "text": [
            "\n"
          ]
        }
      ]
    },
    {
      "cell_type": "code",
      "source": [
        "CompactATSP('v')"
      ],
      "metadata": {
        "colab": {
          "base_uri": "https://localhost:8080/",
          "height": 473
        },
        "id": "LEan60EKuoXH",
        "outputId": "b762e154-81c9-44fe-f0ec-8274f0cb9b72"
      },
      "execution_count": null,
      "outputs": [
        {
          "output_type": "stream",
          "name": "stdout",
          "text": [
            "LP val: 3973.000000000001    Time=0.15160107612609863  \n",
            "IP val: 4191.0    Time=7.301681995391846   Solution: [1, 6, 18, 20, 7, 4, 12, 8, 17, 19, 10, 16, 11, 2, 15, 9, 5, 14, 3, 13, 1]\n"
          ]
        },
        {
          "output_type": "display_data",
          "data": {
            "image/svg+xml": "<?xml version=\"1.0\" encoding=\"utf-8\"?>\n<svg xmlns=\"http://www.w3.org/2000/svg\" xmlns:xlink=\"http://www.w3.org/1999/xlink\" width=\"600\" height=\"400\" viewBox=\"0 0 2400 1600\">\n<defs>\n  <clipPath id=\"clip030\">\n    <rect x=\"0\" y=\"0\" width=\"2400\" height=\"1600\"/>\n  </clipPath>\n</defs>\n<path clip-path=\"url(#clip030)\" d=\"\nM0 1600 L2400 1600 L2400 0 L0 0  Z\n  \" fill=\"#ffffff\" fill-rule=\"evenodd\" fill-opacity=\"1\"/>\n<defs>\n  <clipPath id=\"clip031\">\n    <rect x=\"480\" y=\"0\" width=\"1681\" height=\"1600\"/>\n  </clipPath>\n</defs>\n<path clip-path=\"url(#clip030)\" d=\"\nM172.015 1486.45 L2352.76 1486.45 L2352.76 47.2441 L172.015 47.2441  Z\n  \" fill=\"#ffffff\" fill-rule=\"evenodd\" fill-opacity=\"1\"/>\n<defs>\n  <clipPath id=\"clip032\">\n    <rect x=\"172\" y=\"47\" width=\"2182\" height=\"1440\"/>\n  </clipPath>\n</defs>\n<polyline clip-path=\"url(#clip032)\" style=\"stroke:#000000; stroke-linecap:round; stroke-linejoin:round; stroke-width:2; stroke-opacity:0.1; fill:none\" points=\"\n  219.187,1486.45 219.187,47.2441 \n  \"/>\n<polyline clip-path=\"url(#clip032)\" style=\"stroke:#000000; stroke-linecap:round; stroke-linejoin:round; stroke-width:2; stroke-opacity:0.1; fill:none\" points=\"\n  738.708,1486.45 738.708,47.2441 \n  \"/>\n<polyline clip-path=\"url(#clip032)\" style=\"stroke:#000000; stroke-linecap:round; stroke-linejoin:round; stroke-width:2; stroke-opacity:0.1; fill:none\" points=\"\n  1258.23,1486.45 1258.23,47.2441 \n  \"/>\n<polyline clip-path=\"url(#clip032)\" style=\"stroke:#000000; stroke-linecap:round; stroke-linejoin:round; stroke-width:2; stroke-opacity:0.1; fill:none\" points=\"\n  1777.75,1486.45 1777.75,47.2441 \n  \"/>\n<polyline clip-path=\"url(#clip032)\" style=\"stroke:#000000; stroke-linecap:round; stroke-linejoin:round; stroke-width:2; stroke-opacity:0.1; fill:none\" points=\"\n  2297.27,1486.45 2297.27,47.2441 \n  \"/>\n<polyline clip-path=\"url(#clip030)\" style=\"stroke:#000000; stroke-linecap:round; stroke-linejoin:round; stroke-width:4; stroke-opacity:1; fill:none\" points=\"\n  172.015,1486.45 2352.76,1486.45 \n  \"/>\n<polyline clip-path=\"url(#clip030)\" style=\"stroke:#000000; stroke-linecap:round; stroke-linejoin:round; stroke-width:4; stroke-opacity:1; fill:none\" points=\"\n  219.187,1486.45 219.187,1467.55 \n  \"/>\n<polyline clip-path=\"url(#clip030)\" style=\"stroke:#000000; stroke-linecap:round; stroke-linejoin:round; stroke-width:4; stroke-opacity:1; fill:none\" points=\"\n  738.708,1486.45 738.708,1467.55 \n  \"/>\n<polyline clip-path=\"url(#clip030)\" style=\"stroke:#000000; stroke-linecap:round; stroke-linejoin:round; stroke-width:4; stroke-opacity:1; fill:none\" points=\"\n  1258.23,1486.45 1258.23,1467.55 \n  \"/>\n<polyline clip-path=\"url(#clip030)\" style=\"stroke:#000000; stroke-linecap:round; stroke-linejoin:round; stroke-width:4; stroke-opacity:1; fill:none\" points=\"\n  1777.75,1486.45 1777.75,1467.55 \n  \"/>\n<polyline clip-path=\"url(#clip030)\" style=\"stroke:#000000; stroke-linecap:round; stroke-linejoin:round; stroke-width:4; stroke-opacity:1; fill:none\" points=\"\n  2297.27,1486.45 2297.27,1467.55 \n  \"/>\n<path clip-path=\"url(#clip030)\" d=\"M219.187 1517.37 Q215.576 1517.37 213.748 1520.93 Q211.942 1524.47 211.942 1531.6 Q211.942 1538.71 213.748 1542.27 Q215.576 1545.82 219.187 1545.82 Q222.822 1545.82 224.627 1542.27 Q226.456 1538.71 226.456 1531.6 Q226.456 1524.47 224.627 1520.93 Q222.822 1517.37 219.187 1517.37 M219.187 1513.66 Q224.997 1513.66 228.053 1518.27 Q231.132 1522.85 231.132 1531.6 Q231.132 1540.33 228.053 1544.94 Q224.997 1549.52 219.187 1549.52 Q213.377 1549.52 210.298 1544.94 Q207.243 1540.33 207.243 1531.6 Q207.243 1522.85 210.298 1518.27 Q213.377 1513.66 219.187 1513.66 Z\" fill=\"#000000\" fill-rule=\"evenodd\" fill-opacity=\"1\" /><path clip-path=\"url(#clip030)\" d=\"M702.401 1544.91 L718.72 1544.91 L718.72 1548.85 L696.776 1548.85 L696.776 1544.91 Q699.438 1542.16 704.021 1537.53 Q708.627 1532.88 709.808 1531.53 Q712.053 1529.01 712.933 1527.27 Q713.836 1525.51 713.836 1523.82 Q713.836 1521.07 711.891 1519.33 Q709.97 1517.6 706.868 1517.6 Q704.669 1517.6 702.215 1518.36 Q699.785 1519.13 697.007 1520.68 L697.007 1515.95 Q699.831 1514.82 702.285 1514.24 Q704.739 1513.66 706.776 1513.66 Q712.146 1513.66 715.34 1516.35 Q718.535 1519.03 718.535 1523.52 Q718.535 1525.65 717.725 1527.57 Q716.938 1529.47 714.831 1532.07 Q714.252 1532.74 711.151 1535.95 Q708.049 1539.15 702.401 1544.91 Z\" fill=\"#000000\" fill-rule=\"evenodd\" fill-opacity=\"1\" /><path clip-path=\"url(#clip030)\" d=\"M728.581 1514.29 L746.937 1514.29 L746.937 1518.22 L732.863 1518.22 L732.863 1526.7 Q733.882 1526.35 734.9 1526.19 Q735.919 1526 736.937 1526 Q742.724 1526 746.104 1529.17 Q749.484 1532.34 749.484 1537.76 Q749.484 1543.34 746.011 1546.44 Q742.539 1549.52 736.22 1549.52 Q734.044 1549.52 731.775 1549.15 Q729.53 1548.78 727.123 1548.04 L727.123 1543.34 Q729.206 1544.47 731.428 1545.03 Q733.65 1545.58 736.127 1545.58 Q740.132 1545.58 742.47 1543.48 Q744.808 1541.37 744.808 1537.76 Q744.808 1534.15 742.47 1532.04 Q740.132 1529.94 736.127 1529.94 Q734.252 1529.94 732.377 1530.35 Q730.525 1530.77 728.581 1531.65 L728.581 1514.29 Z\" fill=\"#000000\" fill-rule=\"evenodd\" fill-opacity=\"1\" /><path clip-path=\"url(#clip030)\" d=\"M768.697 1517.37 Q765.085 1517.37 763.257 1520.93 Q761.451 1524.47 761.451 1531.6 Q761.451 1538.71 763.257 1542.27 Q765.085 1545.82 768.697 1545.82 Q772.331 1545.82 774.136 1542.27 Q775.965 1538.71 775.965 1531.6 Q775.965 1524.47 774.136 1520.93 Q772.331 1517.37 768.697 1517.37 M768.697 1513.66 Q774.507 1513.66 777.562 1518.27 Q780.641 1522.85 780.641 1531.6 Q780.641 1540.33 777.562 1544.94 Q774.507 1549.52 768.697 1549.52 Q762.886 1549.52 759.808 1544.94 Q756.752 1540.33 756.752 1531.6 Q756.752 1522.85 759.808 1518.27 Q762.886 1513.66 768.697 1513.66 Z\" fill=\"#000000\" fill-rule=\"evenodd\" fill-opacity=\"1\" /><path clip-path=\"url(#clip030)\" d=\"M1217.85 1514.29 L1236.2 1514.29 L1236.2 1518.22 L1222.13 1518.22 L1222.13 1526.7 Q1223.15 1526.35 1224.17 1526.19 Q1225.19 1526 1226.2 1526 Q1231.99 1526 1235.37 1529.17 Q1238.75 1532.34 1238.75 1537.76 Q1238.75 1543.34 1235.28 1546.44 Q1231.81 1549.52 1225.49 1549.52 Q1223.31 1549.52 1221.04 1549.15 Q1218.8 1548.78 1216.39 1548.04 L1216.39 1543.34 Q1218.47 1544.47 1220.69 1545.03 Q1222.92 1545.58 1225.39 1545.58 Q1229.4 1545.58 1231.74 1543.48 Q1234.07 1541.37 1234.07 1537.76 Q1234.07 1534.15 1231.74 1532.04 Q1229.4 1529.94 1225.39 1529.94 Q1223.52 1529.94 1221.64 1530.35 Q1219.79 1530.77 1217.85 1531.65 L1217.85 1514.29 Z\" fill=\"#000000\" fill-rule=\"evenodd\" fill-opacity=\"1\" /><path clip-path=\"url(#clip030)\" d=\"M1257.96 1517.37 Q1254.35 1517.37 1252.52 1520.93 Q1250.72 1524.47 1250.72 1531.6 Q1250.72 1538.71 1252.52 1542.27 Q1254.35 1545.82 1257.96 1545.82 Q1261.6 1545.82 1263.4 1542.27 Q1265.23 1538.71 1265.23 1531.6 Q1265.23 1524.47 1263.4 1520.93 Q1261.6 1517.37 1257.96 1517.37 M1257.96 1513.66 Q1263.77 1513.66 1266.83 1518.27 Q1269.91 1522.85 1269.91 1531.6 Q1269.91 1540.33 1266.83 1544.94 Q1263.77 1549.52 1257.96 1549.52 Q1252.15 1549.52 1249.07 1544.94 Q1246.02 1540.33 1246.02 1531.6 Q1246.02 1522.85 1249.07 1518.27 Q1252.15 1513.66 1257.96 1513.66 Z\" fill=\"#000000\" fill-rule=\"evenodd\" fill-opacity=\"1\" /><path clip-path=\"url(#clip030)\" d=\"M1288.12 1517.37 Q1284.51 1517.37 1282.69 1520.93 Q1280.88 1524.47 1280.88 1531.6 Q1280.88 1538.71 1282.69 1542.27 Q1284.51 1545.82 1288.12 1545.82 Q1291.76 1545.82 1293.56 1542.27 Q1295.39 1538.71 1295.39 1531.6 Q1295.39 1524.47 1293.56 1520.93 Q1291.76 1517.37 1288.12 1517.37 M1288.12 1513.66 Q1293.94 1513.66 1296.99 1518.27 Q1300.07 1522.85 1300.07 1531.6 Q1300.07 1540.33 1296.99 1544.94 Q1293.94 1549.52 1288.12 1549.52 Q1282.31 1549.52 1279.24 1544.94 Q1276.18 1540.33 1276.18 1531.6 Q1276.18 1522.85 1279.24 1518.27 Q1282.31 1513.66 1288.12 1513.66 Z\" fill=\"#000000\" fill-rule=\"evenodd\" fill-opacity=\"1\" /><path clip-path=\"url(#clip030)\" d=\"M1736.03 1514.29 L1758.25 1514.29 L1758.25 1516.28 L1745.7 1548.85 L1740.82 1548.85 L1752.62 1518.22 L1736.03 1518.22 L1736.03 1514.29 Z\" fill=\"#000000\" fill-rule=\"evenodd\" fill-opacity=\"1\" /><path clip-path=\"url(#clip030)\" d=\"M1767.41 1514.29 L1785.77 1514.29 L1785.77 1518.22 L1771.7 1518.22 L1771.7 1526.7 Q1772.72 1526.35 1773.73 1526.19 Q1774.75 1526 1775.77 1526 Q1781.56 1526 1784.94 1529.17 Q1788.32 1532.34 1788.32 1537.76 Q1788.32 1543.34 1784.85 1546.44 Q1781.37 1549.52 1775.05 1549.52 Q1772.88 1549.52 1770.61 1549.15 Q1768.36 1548.78 1765.96 1548.04 L1765.96 1543.34 Q1768.04 1544.47 1770.26 1545.03 Q1772.48 1545.58 1774.96 1545.58 Q1778.97 1545.58 1781.3 1543.48 Q1783.64 1541.37 1783.64 1537.76 Q1783.64 1534.15 1781.3 1532.04 Q1778.97 1529.94 1774.96 1529.94 Q1773.09 1529.94 1771.21 1530.35 Q1769.36 1530.77 1767.41 1531.65 L1767.41 1514.29 Z\" fill=\"#000000\" fill-rule=\"evenodd\" fill-opacity=\"1\" /><path clip-path=\"url(#clip030)\" d=\"M1807.53 1517.37 Q1803.92 1517.37 1802.09 1520.93 Q1800.28 1524.47 1800.28 1531.6 Q1800.28 1538.71 1802.09 1542.27 Q1803.92 1545.82 1807.53 1545.82 Q1811.16 1545.82 1812.97 1542.27 Q1814.8 1538.71 1814.8 1531.6 Q1814.8 1524.47 1812.97 1520.93 Q1811.16 1517.37 1807.53 1517.37 M1807.53 1513.66 Q1813.34 1513.66 1816.4 1518.27 Q1819.47 1522.85 1819.47 1531.6 Q1819.47 1540.33 1816.4 1544.94 Q1813.34 1549.52 1807.53 1549.52 Q1801.72 1549.52 1798.64 1544.94 Q1795.59 1540.33 1795.59 1531.6 Q1795.59 1522.85 1798.64 1518.27 Q1801.72 1513.66 1807.53 1513.66 Z\" fill=\"#000000\" fill-rule=\"evenodd\" fill-opacity=\"1\" /><path clip-path=\"url(#clip030)\" d=\"M2241.8 1544.91 L2249.44 1544.91 L2249.44 1518.55 L2241.13 1520.21 L2241.13 1515.95 L2249.39 1514.29 L2254.07 1514.29 L2254.07 1544.91 L2261.7 1544.91 L2261.7 1548.85 L2241.8 1548.85 L2241.8 1544.91 Z\" fill=\"#000000\" fill-rule=\"evenodd\" fill-opacity=\"1\" /><path clip-path=\"url(#clip030)\" d=\"M2281.15 1517.37 Q2277.54 1517.37 2275.71 1520.93 Q2273.9 1524.47 2273.9 1531.6 Q2273.9 1538.71 2275.71 1542.27 Q2277.54 1545.82 2281.15 1545.82 Q2284.78 1545.82 2286.59 1542.27 Q2288.42 1538.71 2288.42 1531.6 Q2288.42 1524.47 2286.59 1520.93 Q2284.78 1517.37 2281.15 1517.37 M2281.15 1513.66 Q2286.96 1513.66 2290.01 1518.27 Q2293.09 1522.85 2293.09 1531.6 Q2293.09 1540.33 2290.01 1544.94 Q2286.96 1549.52 2281.15 1549.52 Q2275.34 1549.52 2272.26 1544.94 Q2269.2 1540.33 2269.2 1531.6 Q2269.2 1522.85 2272.26 1518.27 Q2275.34 1513.66 2281.15 1513.66 Z\" fill=\"#000000\" fill-rule=\"evenodd\" fill-opacity=\"1\" /><path clip-path=\"url(#clip030)\" d=\"M2311.31 1517.37 Q2307.7 1517.37 2305.87 1520.93 Q2304.07 1524.47 2304.07 1531.6 Q2304.07 1538.71 2305.87 1542.27 Q2307.7 1545.82 2311.31 1545.82 Q2314.94 1545.82 2316.75 1542.27 Q2318.58 1538.71 2318.58 1531.6 Q2318.58 1524.47 2316.75 1520.93 Q2314.94 1517.37 2311.31 1517.37 M2311.31 1513.66 Q2317.12 1513.66 2320.18 1518.27 Q2323.25 1522.85 2323.25 1531.6 Q2323.25 1540.33 2320.18 1544.94 Q2317.12 1549.52 2311.31 1549.52 Q2305.5 1549.52 2302.42 1544.94 Q2299.37 1540.33 2299.37 1531.6 Q2299.37 1522.85 2302.42 1518.27 Q2305.5 1513.66 2311.31 1513.66 Z\" fill=\"#000000\" fill-rule=\"evenodd\" fill-opacity=\"1\" /><path clip-path=\"url(#clip030)\" d=\"M2341.47 1517.37 Q2337.86 1517.37 2336.03 1520.93 Q2334.23 1524.47 2334.23 1531.6 Q2334.23 1538.71 2336.03 1542.27 Q2337.86 1545.82 2341.47 1545.82 Q2345.11 1545.82 2346.91 1542.27 Q2348.74 1538.71 2348.74 1531.6 Q2348.74 1524.47 2346.91 1520.93 Q2345.11 1517.37 2341.47 1517.37 M2341.47 1513.66 Q2347.28 1513.66 2350.34 1518.27 Q2353.42 1522.85 2353.42 1531.6 Q2353.42 1540.33 2350.34 1544.94 Q2347.28 1549.52 2341.47 1549.52 Q2335.66 1549.52 2332.58 1544.94 Q2329.53 1540.33 2329.53 1531.6 Q2329.53 1522.85 2332.58 1518.27 Q2335.66 1513.66 2341.47 1513.66 Z\" fill=\"#000000\" fill-rule=\"evenodd\" fill-opacity=\"1\" /><polyline clip-path=\"url(#clip032)\" style=\"stroke:#000000; stroke-linecap:round; stroke-linejoin:round; stroke-width:2; stroke-opacity:0.1; fill:none\" points=\"\n  172.015,1247.1 2352.76,1247.1 \n  \"/>\n<polyline clip-path=\"url(#clip032)\" style=\"stroke:#000000; stroke-linecap:round; stroke-linejoin:round; stroke-width:2; stroke-opacity:0.1; fill:none\" points=\"\n  172.015,936.757 2352.76,936.757 \n  \"/>\n<polyline clip-path=\"url(#clip032)\" style=\"stroke:#000000; stroke-linecap:round; stroke-linejoin:round; stroke-width:2; stroke-opacity:0.1; fill:none\" points=\"\n  172.015,626.417 2352.76,626.417 \n  \"/>\n<polyline clip-path=\"url(#clip032)\" style=\"stroke:#000000; stroke-linecap:round; stroke-linejoin:round; stroke-width:2; stroke-opacity:0.1; fill:none\" points=\"\n  172.015,316.076 2352.76,316.076 \n  \"/>\n<polyline clip-path=\"url(#clip030)\" style=\"stroke:#000000; stroke-linecap:round; stroke-linejoin:round; stroke-width:4; stroke-opacity:1; fill:none\" points=\"\n  172.015,1486.45 172.015,47.2441 \n  \"/>\n<polyline clip-path=\"url(#clip030)\" style=\"stroke:#000000; stroke-linecap:round; stroke-linejoin:round; stroke-width:4; stroke-opacity:1; fill:none\" points=\"\n  172.015,1247.1 190.912,1247.1 \n  \"/>\n<polyline clip-path=\"url(#clip030)\" style=\"stroke:#000000; stroke-linecap:round; stroke-linejoin:round; stroke-width:4; stroke-opacity:1; fill:none\" points=\"\n  172.015,936.757 190.912,936.757 \n  \"/>\n<polyline clip-path=\"url(#clip030)\" style=\"stroke:#000000; stroke-linecap:round; stroke-linejoin:round; stroke-width:4; stroke-opacity:1; fill:none\" points=\"\n  172.015,626.417 190.912,626.417 \n  \"/>\n<polyline clip-path=\"url(#clip030)\" style=\"stroke:#000000; stroke-linecap:round; stroke-linejoin:round; stroke-width:4; stroke-opacity:1; fill:none\" points=\"\n  172.015,316.076 190.912,316.076 \n  \"/>\n<path clip-path=\"url(#clip030)\" d=\"M57.7745 1260.44 L74.0939 1260.44 L74.0939 1264.38 L52.1495 1264.38 L52.1495 1260.44 Q54.8115 1257.69 59.3949 1253.06 Q64.0013 1248.41 65.1819 1247.06 Q67.4272 1244.54 68.3068 1242.8 Q69.2096 1241.04 69.2096 1239.35 Q69.2096 1236.6 67.2652 1234.86 Q65.3439 1233.13 62.2421 1233.13 Q60.043 1233.13 57.5893 1233.89 Q55.1588 1234.66 52.381 1236.21 L52.381 1231.48 Q55.2051 1230.35 57.6588 1229.77 Q60.1124 1229.19 62.1495 1229.19 Q67.5198 1229.19 70.7142 1231.88 Q73.9087 1234.56 73.9087 1239.05 Q73.9087 1241.18 73.0985 1243.1 Q72.3115 1245 70.205 1247.6 Q69.6263 1248.27 66.5245 1251.48 Q63.4226 1254.68 57.7745 1260.44 Z\" fill=\"#000000\" fill-rule=\"evenodd\" fill-opacity=\"1\" /><path clip-path=\"url(#clip030)\" d=\"M93.9086 1232.9 Q90.2975 1232.9 88.4688 1236.46 Q86.6632 1240 86.6632 1247.13 Q86.6632 1254.24 88.4688 1257.8 Q90.2975 1261.35 93.9086 1261.35 Q97.5428 1261.35 99.3483 1257.8 Q101.177 1254.24 101.177 1247.13 Q101.177 1240 99.3483 1236.46 Q97.5428 1232.9 93.9086 1232.9 M93.9086 1229.19 Q99.7187 1229.19 102.774 1233.8 Q105.853 1238.38 105.853 1247.13 Q105.853 1255.86 102.774 1260.47 Q99.7187 1265.05 93.9086 1265.05 Q88.0984 1265.05 85.0197 1260.47 Q81.9642 1255.86 81.9642 1247.13 Q81.9642 1238.38 85.0197 1233.8 Q88.0984 1229.19 93.9086 1229.19 Z\" fill=\"#000000\" fill-rule=\"evenodd\" fill-opacity=\"1\" /><path clip-path=\"url(#clip030)\" d=\"M124.07 1232.9 Q120.459 1232.9 118.631 1236.46 Q116.825 1240 116.825 1247.13 Q116.825 1254.24 118.631 1257.8 Q120.459 1261.35 124.07 1261.35 Q127.705 1261.35 129.51 1257.8 Q131.339 1254.24 131.339 1247.13 Q131.339 1240 129.51 1236.46 Q127.705 1232.9 124.07 1232.9 M124.07 1229.19 Q129.881 1229.19 132.936 1233.8 Q136.015 1238.38 136.015 1247.13 Q136.015 1255.86 132.936 1260.47 Q129.881 1265.05 124.07 1265.05 Q118.26 1265.05 115.182 1260.47 Q112.126 1255.86 112.126 1247.13 Q112.126 1238.38 115.182 1233.8 Q118.26 1229.19 124.07 1229.19 Z\" fill=\"#000000\" fill-rule=\"evenodd\" fill-opacity=\"1\" /><path clip-path=\"url(#clip030)\" d=\"M66.5939 923.551 L54.7884 942 L66.5939 942 L66.5939 923.551 M65.367 919.477 L71.2466 919.477 L71.2466 942 L76.1772 942 L76.1772 945.889 L71.2466 945.889 L71.2466 954.037 L66.5939 954.037 L66.5939 945.889 L50.9921 945.889 L50.9921 941.375 L65.367 919.477 Z\" fill=\"#000000\" fill-rule=\"evenodd\" fill-opacity=\"1\" /><path clip-path=\"url(#clip030)\" d=\"M93.9086 922.556 Q90.2975 922.556 88.4688 926.121 Q86.6632 929.663 86.6632 936.792 Q86.6632 943.899 88.4688 947.463 Q90.2975 951.005 93.9086 951.005 Q97.5428 951.005 99.3483 947.463 Q101.177 943.899 101.177 936.792 Q101.177 929.663 99.3483 926.121 Q97.5428 922.556 93.9086 922.556 M93.9086 918.852 Q99.7187 918.852 102.774 923.459 Q105.853 928.042 105.853 936.792 Q105.853 945.519 102.774 950.125 Q99.7187 954.709 93.9086 954.709 Q88.0984 954.709 85.0197 950.125 Q81.9642 945.519 81.9642 936.792 Q81.9642 928.042 85.0197 923.459 Q88.0984 918.852 93.9086 918.852 Z\" fill=\"#000000\" fill-rule=\"evenodd\" fill-opacity=\"1\" /><path clip-path=\"url(#clip030)\" d=\"M124.07 922.556 Q120.459 922.556 118.631 926.121 Q116.825 929.663 116.825 936.792 Q116.825 943.899 118.631 947.463 Q120.459 951.005 124.07 951.005 Q127.705 951.005 129.51 947.463 Q131.339 943.899 131.339 936.792 Q131.339 929.663 129.51 926.121 Q127.705 922.556 124.07 922.556 M124.07 918.852 Q129.881 918.852 132.936 923.459 Q136.015 928.042 136.015 936.792 Q136.015 945.519 132.936 950.125 Q129.881 954.709 124.07 954.709 Q118.26 954.709 115.182 950.125 Q112.126 945.519 112.126 936.792 Q112.126 928.042 115.182 923.459 Q118.26 918.852 124.07 918.852 Z\" fill=\"#000000\" fill-rule=\"evenodd\" fill-opacity=\"1\" /><path clip-path=\"url(#clip030)\" d=\"M64.3254 624.554 Q61.1773 624.554 59.3254 626.706 Q57.4967 628.859 57.4967 632.609 Q57.4967 636.336 59.3254 638.512 Q61.1773 640.665 64.3254 640.665 Q67.4735 640.665 69.3022 638.512 Q71.1541 636.336 71.1541 632.609 Q71.1541 628.859 69.3022 626.706 Q67.4735 624.554 64.3254 624.554 M73.6077 609.901 L73.6077 614.16 Q71.8485 613.327 70.0429 612.887 Q68.2606 612.447 66.5013 612.447 Q61.8717 612.447 59.418 615.572 Q56.9875 618.697 56.6402 625.016 Q58.006 623.003 60.0662 621.938 Q62.1263 620.85 64.6032 620.85 Q69.8115 620.85 72.8207 624.021 Q75.8531 627.169 75.8531 632.609 Q75.8531 637.933 72.705 641.151 Q69.5568 644.368 64.3254 644.368 Q58.33 644.368 55.1588 639.785 Q51.9875 635.178 51.9875 626.452 Q51.9875 618.257 55.8764 613.396 Q59.7652 608.512 66.3161 608.512 Q68.0754 608.512 69.8578 608.859 Q71.6633 609.206 73.6077 609.901 Z\" fill=\"#000000\" fill-rule=\"evenodd\" fill-opacity=\"1\" /><path clip-path=\"url(#clip030)\" d=\"M93.9086 612.216 Q90.2975 612.216 88.4688 615.78 Q86.6632 619.322 86.6632 626.452 Q86.6632 633.558 88.4688 637.123 Q90.2975 640.665 93.9086 640.665 Q97.5428 640.665 99.3483 637.123 Q101.177 633.558 101.177 626.452 Q101.177 619.322 99.3483 615.78 Q97.5428 612.216 93.9086 612.216 M93.9086 608.512 Q99.7187 608.512 102.774 613.118 Q105.853 617.702 105.853 626.452 Q105.853 635.178 102.774 639.785 Q99.7187 644.368 93.9086 644.368 Q88.0984 644.368 85.0197 639.785 Q81.9642 635.178 81.9642 626.452 Q81.9642 617.702 85.0197 613.118 Q88.0984 608.512 93.9086 608.512 Z\" fill=\"#000000\" fill-rule=\"evenodd\" fill-opacity=\"1\" /><path clip-path=\"url(#clip030)\" d=\"M124.07 612.216 Q120.459 612.216 118.631 615.78 Q116.825 619.322 116.825 626.452 Q116.825 633.558 118.631 637.123 Q120.459 640.665 124.07 640.665 Q127.705 640.665 129.51 637.123 Q131.339 633.558 131.339 626.452 Q131.339 619.322 129.51 615.78 Q127.705 612.216 124.07 612.216 M124.07 608.512 Q129.881 608.512 132.936 613.118 Q136.015 617.702 136.015 626.452 Q136.015 635.178 132.936 639.785 Q129.881 644.368 124.07 644.368 Q118.26 644.368 115.182 639.785 Q112.126 635.178 112.126 626.452 Q112.126 617.702 115.182 613.118 Q118.26 608.512 124.07 608.512 Z\" fill=\"#000000\" fill-rule=\"evenodd\" fill-opacity=\"1\" /><path clip-path=\"url(#clip030)\" d=\"M63.7467 316.945 Q60.4134 316.945 58.4921 318.727 Q56.5939 320.509 56.5939 323.634 Q56.5939 326.759 58.4921 328.542 Q60.4134 330.324 63.7467 330.324 Q67.08 330.324 69.0013 328.542 Q70.9226 326.736 70.9226 323.634 Q70.9226 320.509 69.0013 318.727 Q67.1032 316.945 63.7467 316.945 M59.0708 314.954 Q56.0615 314.213 54.3717 312.153 Q52.7051 310.093 52.7051 307.13 Q52.7051 302.986 55.6449 300.579 Q58.6078 298.172 63.7467 298.172 Q68.9087 298.172 71.8485 300.579 Q74.7883 302.986 74.7883 307.13 Q74.7883 310.093 73.0985 312.153 Q71.4318 314.213 68.4457 314.954 Q71.8253 315.741 73.7003 318.033 Q75.5985 320.324 75.5985 323.634 Q75.5985 328.657 72.5198 331.343 Q69.4642 334.028 63.7467 334.028 Q58.0291 334.028 54.9504 331.343 Q51.8949 328.657 51.8949 323.634 Q51.8949 320.324 53.793 318.033 Q55.6912 315.741 59.0708 314.954 M57.3578 307.57 Q57.3578 310.255 59.0245 311.759 Q60.7143 313.264 63.7467 313.264 Q66.7559 313.264 68.4457 311.759 Q70.1587 310.255 70.1587 307.57 Q70.1587 304.884 68.4457 303.38 Q66.7559 301.875 63.7467 301.875 Q60.7143 301.875 59.0245 303.38 Q57.3578 304.884 57.3578 307.57 Z\" fill=\"#000000\" fill-rule=\"evenodd\" fill-opacity=\"1\" /><path clip-path=\"url(#clip030)\" d=\"M93.9086 301.875 Q90.2975 301.875 88.4688 305.44 Q86.6632 308.982 86.6632 316.111 Q86.6632 323.218 88.4688 326.782 Q90.2975 330.324 93.9086 330.324 Q97.5428 330.324 99.3483 326.782 Q101.177 323.218 101.177 316.111 Q101.177 308.982 99.3483 305.44 Q97.5428 301.875 93.9086 301.875 M93.9086 298.172 Q99.7187 298.172 102.774 302.778 Q105.853 307.361 105.853 316.111 Q105.853 324.838 102.774 329.444 Q99.7187 334.028 93.9086 334.028 Q88.0984 334.028 85.0197 329.444 Q81.9642 324.838 81.9642 316.111 Q81.9642 307.361 85.0197 302.778 Q88.0984 298.172 93.9086 298.172 Z\" fill=\"#000000\" fill-rule=\"evenodd\" fill-opacity=\"1\" /><path clip-path=\"url(#clip030)\" d=\"M124.07 301.875 Q120.459 301.875 118.631 305.44 Q116.825 308.982 116.825 316.111 Q116.825 323.218 118.631 326.782 Q120.459 330.324 124.07 330.324 Q127.705 330.324 129.51 326.782 Q131.339 323.218 131.339 316.111 Q131.339 308.982 129.51 305.44 Q127.705 301.875 124.07 301.875 M124.07 298.172 Q129.881 298.172 132.936 302.778 Q136.015 307.361 136.015 316.111 Q136.015 324.838 132.936 329.444 Q129.881 334.028 124.07 334.028 Q118.26 334.028 115.182 329.444 Q112.126 324.838 112.126 316.111 Q112.126 307.361 115.182 302.778 Q118.26 298.172 124.07 298.172 Z\" fill=\"#000000\" fill-rule=\"evenodd\" fill-opacity=\"1\" /><polyline clip-path=\"url(#clip032)\" style=\"stroke:#009af9; stroke-linecap:round; stroke-linejoin:round; stroke-width:4; stroke-opacity:1; fill:none\" points=\"\n  896.643,1386.75 1037.95,1194.34 \n  \"/>\n<polyline clip-path=\"url(#clip032)\" style=\"stroke:#e26f46; stroke-linecap:round; stroke-linejoin:round; stroke-width:4; stroke-opacity:1; fill:none\" points=\"\n  1360.06,795.552 1131.47,666.761 \n  \"/>\n<polyline clip-path=\"url(#clip032)\" style=\"stroke:#3da44d; stroke-linecap:round; stroke-linejoin:round; stroke-width:4; stroke-opacity:1; fill:none\" points=\"\n  672.21,680.727 233.734,1354.17 \n  \"/>\n<polyline clip-path=\"url(#clip032)\" style=\"stroke:#c271d2; stroke-linecap:round; stroke-linejoin:round; stroke-width:4; stroke-opacity:1; fill:none\" points=\"\n  2079.07,1163.31 1732.03,989.515 \n  \"/>\n<polyline clip-path=\"url(#clip032)\" style=\"stroke:#ac8d18; stroke-linecap:round; stroke-linejoin:round; stroke-width:4; stroke-opacity:1; fill:none\" points=\"\n  952.751,584.521 632.726,87.9763 \n  \"/>\n<polyline clip-path=\"url(#clip032)\" style=\"stroke:#00a9ad; stroke-linecap:round; stroke-linejoin:round; stroke-width:4; stroke-opacity:1; fill:none\" points=\"\n  1037.95,1194.34 1565.79,1445.72 \n  \"/>\n<polyline clip-path=\"url(#clip032)\" style=\"stroke:#ed5d92; stroke-linecap:round; stroke-linejoin:round; stroke-width:4; stroke-opacity:1; fill:none\" points=\"\n  2201.68,1365.03 2079.07,1163.31 \n  \"/>\n<polyline clip-path=\"url(#clip032)\" style=\"stroke:#c68125; stroke-linecap:round; stroke-linejoin:round; stroke-width:4; stroke-opacity:1; fill:none\" points=\"\n  1873.34,610.9 2207.91,669.865 \n  \"/>\n<polyline clip-path=\"url(#clip032)\" style=\"stroke:#00a98d; stroke-linecap:round; stroke-linejoin:round; stroke-width:4; stroke-opacity:1; fill:none\" points=\"\n  1245.76,513.143 952.751,584.521 \n  \"/>\n<polyline clip-path=\"url(#clip032)\" style=\"stroke:#8e971d; stroke-linecap:round; stroke-linejoin:round; stroke-width:4; stroke-opacity:1; fill:none\" points=\"\n  1775.67,375.041 1638.52,505.384 \n  \"/>\n<polyline clip-path=\"url(#clip032)\" style=\"stroke:#00a8cb; stroke-linecap:round; stroke-linejoin:round; stroke-width:4; stroke-opacity:1; fill:none\" points=\"\n  1420.32,643.486 1360.06,795.552 \n  \"/>\n<polyline clip-path=\"url(#clip032)\" style=\"stroke:#9b7fe8; stroke-linecap:round; stroke-linejoin:round; stroke-width:4; stroke-opacity:1; fill:none\" points=\"\n  1732.03,989.515 1873.34,610.9 \n  \"/>\n<polyline clip-path=\"url(#clip032)\" style=\"stroke:#608cf6; stroke-linecap:round; stroke-linejoin:round; stroke-width:4; stroke-opacity:1; fill:none\" points=\"\n  233.734,1354.17 896.643,1386.75 \n  \"/>\n<polyline clip-path=\"url(#clip032)\" style=\"stroke:#f05f73; stroke-linecap:round; stroke-linejoin:round; stroke-width:4; stroke-opacity:1; fill:none\" points=\"\n  632.726,87.9763 672.21,680.727 \n  \"/>\n<polyline clip-path=\"url(#clip032)\" style=\"stroke:#dd64b5; stroke-linecap:round; stroke-linejoin:round; stroke-width:4; stroke-opacity:1; fill:none\" points=\"\n  1131.47,666.761 1245.76,513.143 \n  \"/>\n<polyline clip-path=\"url(#clip032)\" style=\"stroke:#6b9e32; stroke-linecap:round; stroke-linejoin:round; stroke-width:4; stroke-opacity:1; fill:none\" points=\"\n  1638.52,505.384 1420.32,643.486 \n  \"/>\n<polyline clip-path=\"url(#clip032)\" style=\"stroke:#009af9; stroke-linecap:round; stroke-linejoin:round; stroke-width:4; stroke-opacity:1; fill:none\" points=\"\n  2207.91,669.865 2291.04,469.695 \n  \"/>\n<polyline clip-path=\"url(#clip032)\" style=\"stroke:#e26f46; stroke-linecap:round; stroke-linejoin:round; stroke-width:4; stroke-opacity:1; fill:none\" points=\"\n  1565.79,1445.72 1775.67,1410.03 \n  \"/>\n<polyline clip-path=\"url(#clip032)\" style=\"stroke:#3da44d; stroke-linecap:round; stroke-linejoin:round; stroke-width:4; stroke-opacity:1; fill:none\" points=\"\n  2291.04,469.695 1775.67,375.041 \n  \"/>\n<polyline clip-path=\"url(#clip032)\" style=\"stroke:#c271d2; stroke-linecap:round; stroke-linejoin:round; stroke-width:4; stroke-opacity:1; fill:none\" points=\"\n  1775.67,1410.03 2201.68,1365.03 \n  \"/>\n</svg>\n"
          },
          "metadata": {}
        },
        {
          "output_type": "stream",
          "name": "stdout",
          "text": [
            "\n"
          ]
        }
      ]
    },
    {
      "cell_type": "code",
      "source": [
        "CompactATSP('f')"
      ],
      "metadata": {
        "colab": {
          "base_uri": "https://localhost:8080/",
          "height": 473
        },
        "id": "gcQeNpjdusMP",
        "outputId": "4f6def28-7809-4622-fd1b-8df424d79795"
      },
      "execution_count": null,
      "outputs": [
        {
          "output_type": "stream",
          "name": "stdout",
          "text": [
            "LP val: 3859.473684210527    Time=0.006054878234863281  \n",
            "IP val: 4191.0    Time=2.8512511253356934   Solution: [1, 6, 18, 20, 7, 4, 12, 8, 17, 19, 10, 16, 11, 2, 15, 9, 5, 14, 3, 13, 1]\n"
          ]
        },
        {
          "output_type": "display_data",
          "data": {
            "image/svg+xml": "<?xml version=\"1.0\" encoding=\"utf-8\"?>\n<svg xmlns=\"http://www.w3.org/2000/svg\" xmlns:xlink=\"http://www.w3.org/1999/xlink\" width=\"600\" height=\"400\" viewBox=\"0 0 2400 1600\">\n<defs>\n  <clipPath id=\"clip070\">\n    <rect x=\"0\" y=\"0\" width=\"2400\" height=\"1600\"/>\n  </clipPath>\n</defs>\n<path clip-path=\"url(#clip070)\" d=\"\nM0 1600 L2400 1600 L2400 0 L0 0  Z\n  \" fill=\"#ffffff\" fill-rule=\"evenodd\" fill-opacity=\"1\"/>\n<defs>\n  <clipPath id=\"clip071\">\n    <rect x=\"480\" y=\"0\" width=\"1681\" height=\"1600\"/>\n  </clipPath>\n</defs>\n<path clip-path=\"url(#clip070)\" d=\"\nM172.015 1486.45 L2352.76 1486.45 L2352.76 47.2441 L172.015 47.2441  Z\n  \" fill=\"#ffffff\" fill-rule=\"evenodd\" fill-opacity=\"1\"/>\n<defs>\n  <clipPath id=\"clip072\">\n    <rect x=\"172\" y=\"47\" width=\"2182\" height=\"1440\"/>\n  </clipPath>\n</defs>\n<polyline clip-path=\"url(#clip072)\" style=\"stroke:#000000; stroke-linecap:round; stroke-linejoin:round; stroke-width:2; stroke-opacity:0.1; fill:none\" points=\"\n  219.187,1486.45 219.187,47.2441 \n  \"/>\n<polyline clip-path=\"url(#clip072)\" style=\"stroke:#000000; stroke-linecap:round; stroke-linejoin:round; stroke-width:2; stroke-opacity:0.1; fill:none\" points=\"\n  738.708,1486.45 738.708,47.2441 \n  \"/>\n<polyline clip-path=\"url(#clip072)\" style=\"stroke:#000000; stroke-linecap:round; stroke-linejoin:round; stroke-width:2; stroke-opacity:0.1; fill:none\" points=\"\n  1258.23,1486.45 1258.23,47.2441 \n  \"/>\n<polyline clip-path=\"url(#clip072)\" style=\"stroke:#000000; stroke-linecap:round; stroke-linejoin:round; stroke-width:2; stroke-opacity:0.1; fill:none\" points=\"\n  1777.75,1486.45 1777.75,47.2441 \n  \"/>\n<polyline clip-path=\"url(#clip072)\" style=\"stroke:#000000; stroke-linecap:round; stroke-linejoin:round; stroke-width:2; stroke-opacity:0.1; fill:none\" points=\"\n  2297.27,1486.45 2297.27,47.2441 \n  \"/>\n<polyline clip-path=\"url(#clip070)\" style=\"stroke:#000000; stroke-linecap:round; stroke-linejoin:round; stroke-width:4; stroke-opacity:1; fill:none\" points=\"\n  172.015,1486.45 2352.76,1486.45 \n  \"/>\n<polyline clip-path=\"url(#clip070)\" style=\"stroke:#000000; stroke-linecap:round; stroke-linejoin:round; stroke-width:4; stroke-opacity:1; fill:none\" points=\"\n  219.187,1486.45 219.187,1467.55 \n  \"/>\n<polyline clip-path=\"url(#clip070)\" style=\"stroke:#000000; stroke-linecap:round; stroke-linejoin:round; stroke-width:4; stroke-opacity:1; fill:none\" points=\"\n  738.708,1486.45 738.708,1467.55 \n  \"/>\n<polyline clip-path=\"url(#clip070)\" style=\"stroke:#000000; stroke-linecap:round; stroke-linejoin:round; stroke-width:4; stroke-opacity:1; fill:none\" points=\"\n  1258.23,1486.45 1258.23,1467.55 \n  \"/>\n<polyline clip-path=\"url(#clip070)\" style=\"stroke:#000000; stroke-linecap:round; stroke-linejoin:round; stroke-width:4; stroke-opacity:1; fill:none\" points=\"\n  1777.75,1486.45 1777.75,1467.55 \n  \"/>\n<polyline clip-path=\"url(#clip070)\" style=\"stroke:#000000; stroke-linecap:round; stroke-linejoin:round; stroke-width:4; stroke-opacity:1; fill:none\" points=\"\n  2297.27,1486.45 2297.27,1467.55 \n  \"/>\n<path clip-path=\"url(#clip070)\" d=\"M219.187 1517.37 Q215.576 1517.37 213.748 1520.93 Q211.942 1524.47 211.942 1531.6 Q211.942 1538.71 213.748 1542.27 Q215.576 1545.82 219.187 1545.82 Q222.822 1545.82 224.627 1542.27 Q226.456 1538.71 226.456 1531.6 Q226.456 1524.47 224.627 1520.93 Q222.822 1517.37 219.187 1517.37 M219.187 1513.66 Q224.997 1513.66 228.053 1518.27 Q231.132 1522.85 231.132 1531.6 Q231.132 1540.33 228.053 1544.94 Q224.997 1549.52 219.187 1549.52 Q213.377 1549.52 210.298 1544.94 Q207.243 1540.33 207.243 1531.6 Q207.243 1522.85 210.298 1518.27 Q213.377 1513.66 219.187 1513.66 Z\" fill=\"#000000\" fill-rule=\"evenodd\" fill-opacity=\"1\" /><path clip-path=\"url(#clip070)\" d=\"M702.401 1544.91 L718.72 1544.91 L718.72 1548.85 L696.776 1548.85 L696.776 1544.91 Q699.438 1542.16 704.021 1537.53 Q708.627 1532.88 709.808 1531.53 Q712.053 1529.01 712.933 1527.27 Q713.836 1525.51 713.836 1523.82 Q713.836 1521.07 711.891 1519.33 Q709.97 1517.6 706.868 1517.6 Q704.669 1517.6 702.215 1518.36 Q699.785 1519.13 697.007 1520.68 L697.007 1515.95 Q699.831 1514.82 702.285 1514.24 Q704.739 1513.66 706.776 1513.66 Q712.146 1513.66 715.34 1516.35 Q718.535 1519.03 718.535 1523.52 Q718.535 1525.65 717.725 1527.57 Q716.938 1529.47 714.831 1532.07 Q714.252 1532.74 711.151 1535.95 Q708.049 1539.15 702.401 1544.91 Z\" fill=\"#000000\" fill-rule=\"evenodd\" fill-opacity=\"1\" /><path clip-path=\"url(#clip070)\" d=\"M728.581 1514.29 L746.937 1514.29 L746.937 1518.22 L732.863 1518.22 L732.863 1526.7 Q733.882 1526.35 734.9 1526.19 Q735.919 1526 736.937 1526 Q742.724 1526 746.104 1529.17 Q749.484 1532.34 749.484 1537.76 Q749.484 1543.34 746.011 1546.44 Q742.539 1549.52 736.22 1549.52 Q734.044 1549.52 731.775 1549.15 Q729.53 1548.78 727.123 1548.04 L727.123 1543.34 Q729.206 1544.47 731.428 1545.03 Q733.65 1545.58 736.127 1545.58 Q740.132 1545.58 742.47 1543.48 Q744.808 1541.37 744.808 1537.76 Q744.808 1534.15 742.47 1532.04 Q740.132 1529.94 736.127 1529.94 Q734.252 1529.94 732.377 1530.35 Q730.525 1530.77 728.581 1531.65 L728.581 1514.29 Z\" fill=\"#000000\" fill-rule=\"evenodd\" fill-opacity=\"1\" /><path clip-path=\"url(#clip070)\" d=\"M768.697 1517.37 Q765.085 1517.37 763.257 1520.93 Q761.451 1524.47 761.451 1531.6 Q761.451 1538.71 763.257 1542.27 Q765.085 1545.82 768.697 1545.82 Q772.331 1545.82 774.136 1542.27 Q775.965 1538.71 775.965 1531.6 Q775.965 1524.47 774.136 1520.93 Q772.331 1517.37 768.697 1517.37 M768.697 1513.66 Q774.507 1513.66 777.562 1518.27 Q780.641 1522.85 780.641 1531.6 Q780.641 1540.33 777.562 1544.94 Q774.507 1549.52 768.697 1549.52 Q762.886 1549.52 759.808 1544.94 Q756.752 1540.33 756.752 1531.6 Q756.752 1522.85 759.808 1518.27 Q762.886 1513.66 768.697 1513.66 Z\" fill=\"#000000\" fill-rule=\"evenodd\" fill-opacity=\"1\" /><path clip-path=\"url(#clip070)\" d=\"M1217.85 1514.29 L1236.2 1514.29 L1236.2 1518.22 L1222.13 1518.22 L1222.13 1526.7 Q1223.15 1526.35 1224.17 1526.19 Q1225.19 1526 1226.2 1526 Q1231.99 1526 1235.37 1529.17 Q1238.75 1532.34 1238.75 1537.76 Q1238.75 1543.34 1235.28 1546.44 Q1231.81 1549.52 1225.49 1549.52 Q1223.31 1549.52 1221.04 1549.15 Q1218.8 1548.78 1216.39 1548.04 L1216.39 1543.34 Q1218.47 1544.47 1220.69 1545.03 Q1222.92 1545.58 1225.39 1545.58 Q1229.4 1545.58 1231.74 1543.48 Q1234.07 1541.37 1234.07 1537.76 Q1234.07 1534.15 1231.74 1532.04 Q1229.4 1529.94 1225.39 1529.94 Q1223.52 1529.94 1221.64 1530.35 Q1219.79 1530.77 1217.85 1531.65 L1217.85 1514.29 Z\" fill=\"#000000\" fill-rule=\"evenodd\" fill-opacity=\"1\" /><path clip-path=\"url(#clip070)\" d=\"M1257.96 1517.37 Q1254.35 1517.37 1252.52 1520.93 Q1250.72 1524.47 1250.72 1531.6 Q1250.72 1538.71 1252.52 1542.27 Q1254.35 1545.82 1257.96 1545.82 Q1261.6 1545.82 1263.4 1542.27 Q1265.23 1538.71 1265.23 1531.6 Q1265.23 1524.47 1263.4 1520.93 Q1261.6 1517.37 1257.96 1517.37 M1257.96 1513.66 Q1263.77 1513.66 1266.83 1518.27 Q1269.91 1522.85 1269.91 1531.6 Q1269.91 1540.33 1266.83 1544.94 Q1263.77 1549.52 1257.96 1549.52 Q1252.15 1549.52 1249.07 1544.94 Q1246.02 1540.33 1246.02 1531.6 Q1246.02 1522.85 1249.07 1518.27 Q1252.15 1513.66 1257.96 1513.66 Z\" fill=\"#000000\" fill-rule=\"evenodd\" fill-opacity=\"1\" /><path clip-path=\"url(#clip070)\" d=\"M1288.12 1517.37 Q1284.51 1517.37 1282.69 1520.93 Q1280.88 1524.47 1280.88 1531.6 Q1280.88 1538.71 1282.69 1542.27 Q1284.51 1545.82 1288.12 1545.82 Q1291.76 1545.82 1293.56 1542.27 Q1295.39 1538.71 1295.39 1531.6 Q1295.39 1524.47 1293.56 1520.93 Q1291.76 1517.37 1288.12 1517.37 M1288.12 1513.66 Q1293.94 1513.66 1296.99 1518.27 Q1300.07 1522.85 1300.07 1531.6 Q1300.07 1540.33 1296.99 1544.94 Q1293.94 1549.52 1288.12 1549.52 Q1282.31 1549.52 1279.24 1544.94 Q1276.18 1540.33 1276.18 1531.6 Q1276.18 1522.85 1279.24 1518.27 Q1282.31 1513.66 1288.12 1513.66 Z\" fill=\"#000000\" fill-rule=\"evenodd\" fill-opacity=\"1\" /><path clip-path=\"url(#clip070)\" d=\"M1736.03 1514.29 L1758.25 1514.29 L1758.25 1516.28 L1745.7 1548.85 L1740.82 1548.85 L1752.62 1518.22 L1736.03 1518.22 L1736.03 1514.29 Z\" fill=\"#000000\" fill-rule=\"evenodd\" fill-opacity=\"1\" /><path clip-path=\"url(#clip070)\" d=\"M1767.41 1514.29 L1785.77 1514.29 L1785.77 1518.22 L1771.7 1518.22 L1771.7 1526.7 Q1772.72 1526.35 1773.73 1526.19 Q1774.75 1526 1775.77 1526 Q1781.56 1526 1784.94 1529.17 Q1788.32 1532.34 1788.32 1537.76 Q1788.32 1543.34 1784.85 1546.44 Q1781.37 1549.52 1775.05 1549.52 Q1772.88 1549.52 1770.61 1549.15 Q1768.36 1548.78 1765.96 1548.04 L1765.96 1543.34 Q1768.04 1544.47 1770.26 1545.03 Q1772.48 1545.58 1774.96 1545.58 Q1778.97 1545.58 1781.3 1543.48 Q1783.64 1541.37 1783.64 1537.76 Q1783.64 1534.15 1781.3 1532.04 Q1778.97 1529.94 1774.96 1529.94 Q1773.09 1529.94 1771.21 1530.35 Q1769.36 1530.77 1767.41 1531.65 L1767.41 1514.29 Z\" fill=\"#000000\" fill-rule=\"evenodd\" fill-opacity=\"1\" /><path clip-path=\"url(#clip070)\" d=\"M1807.53 1517.37 Q1803.92 1517.37 1802.09 1520.93 Q1800.28 1524.47 1800.28 1531.6 Q1800.28 1538.71 1802.09 1542.27 Q1803.92 1545.82 1807.53 1545.82 Q1811.16 1545.82 1812.97 1542.27 Q1814.8 1538.71 1814.8 1531.6 Q1814.8 1524.47 1812.97 1520.93 Q1811.16 1517.37 1807.53 1517.37 M1807.53 1513.66 Q1813.34 1513.66 1816.4 1518.27 Q1819.47 1522.85 1819.47 1531.6 Q1819.47 1540.33 1816.4 1544.94 Q1813.34 1549.52 1807.53 1549.52 Q1801.72 1549.52 1798.64 1544.94 Q1795.59 1540.33 1795.59 1531.6 Q1795.59 1522.85 1798.64 1518.27 Q1801.72 1513.66 1807.53 1513.66 Z\" fill=\"#000000\" fill-rule=\"evenodd\" fill-opacity=\"1\" /><path clip-path=\"url(#clip070)\" d=\"M2241.8 1544.91 L2249.44 1544.91 L2249.44 1518.55 L2241.13 1520.21 L2241.13 1515.95 L2249.39 1514.29 L2254.07 1514.29 L2254.07 1544.91 L2261.7 1544.91 L2261.7 1548.85 L2241.8 1548.85 L2241.8 1544.91 Z\" fill=\"#000000\" fill-rule=\"evenodd\" fill-opacity=\"1\" /><path clip-path=\"url(#clip070)\" d=\"M2281.15 1517.37 Q2277.54 1517.37 2275.71 1520.93 Q2273.9 1524.47 2273.9 1531.6 Q2273.9 1538.71 2275.71 1542.27 Q2277.54 1545.82 2281.15 1545.82 Q2284.78 1545.82 2286.59 1542.27 Q2288.42 1538.71 2288.42 1531.6 Q2288.42 1524.47 2286.59 1520.93 Q2284.78 1517.37 2281.15 1517.37 M2281.15 1513.66 Q2286.96 1513.66 2290.01 1518.27 Q2293.09 1522.85 2293.09 1531.6 Q2293.09 1540.33 2290.01 1544.94 Q2286.96 1549.52 2281.15 1549.52 Q2275.34 1549.52 2272.26 1544.94 Q2269.2 1540.33 2269.2 1531.6 Q2269.2 1522.85 2272.26 1518.27 Q2275.34 1513.66 2281.15 1513.66 Z\" fill=\"#000000\" fill-rule=\"evenodd\" fill-opacity=\"1\" /><path clip-path=\"url(#clip070)\" d=\"M2311.31 1517.37 Q2307.7 1517.37 2305.87 1520.93 Q2304.07 1524.47 2304.07 1531.6 Q2304.07 1538.71 2305.87 1542.27 Q2307.7 1545.82 2311.31 1545.82 Q2314.94 1545.82 2316.75 1542.27 Q2318.58 1538.71 2318.58 1531.6 Q2318.58 1524.47 2316.75 1520.93 Q2314.94 1517.37 2311.31 1517.37 M2311.31 1513.66 Q2317.12 1513.66 2320.18 1518.27 Q2323.25 1522.85 2323.25 1531.6 Q2323.25 1540.33 2320.18 1544.94 Q2317.12 1549.52 2311.31 1549.52 Q2305.5 1549.52 2302.42 1544.94 Q2299.37 1540.33 2299.37 1531.6 Q2299.37 1522.85 2302.42 1518.27 Q2305.5 1513.66 2311.31 1513.66 Z\" fill=\"#000000\" fill-rule=\"evenodd\" fill-opacity=\"1\" /><path clip-path=\"url(#clip070)\" d=\"M2341.47 1517.37 Q2337.86 1517.37 2336.03 1520.93 Q2334.23 1524.47 2334.23 1531.6 Q2334.23 1538.71 2336.03 1542.27 Q2337.86 1545.82 2341.47 1545.82 Q2345.11 1545.82 2346.91 1542.27 Q2348.74 1538.71 2348.74 1531.6 Q2348.74 1524.47 2346.91 1520.93 Q2345.11 1517.37 2341.47 1517.37 M2341.47 1513.66 Q2347.28 1513.66 2350.34 1518.27 Q2353.42 1522.85 2353.42 1531.6 Q2353.42 1540.33 2350.34 1544.94 Q2347.28 1549.52 2341.47 1549.52 Q2335.66 1549.52 2332.58 1544.94 Q2329.53 1540.33 2329.53 1531.6 Q2329.53 1522.85 2332.58 1518.27 Q2335.66 1513.66 2341.47 1513.66 Z\" fill=\"#000000\" fill-rule=\"evenodd\" fill-opacity=\"1\" /><polyline clip-path=\"url(#clip072)\" style=\"stroke:#000000; stroke-linecap:round; stroke-linejoin:round; stroke-width:2; stroke-opacity:0.1; fill:none\" points=\"\n  172.015,1247.1 2352.76,1247.1 \n  \"/>\n<polyline clip-path=\"url(#clip072)\" style=\"stroke:#000000; stroke-linecap:round; stroke-linejoin:round; stroke-width:2; stroke-opacity:0.1; fill:none\" points=\"\n  172.015,936.757 2352.76,936.757 \n  \"/>\n<polyline clip-path=\"url(#clip072)\" style=\"stroke:#000000; stroke-linecap:round; stroke-linejoin:round; stroke-width:2; stroke-opacity:0.1; fill:none\" points=\"\n  172.015,626.417 2352.76,626.417 \n  \"/>\n<polyline clip-path=\"url(#clip072)\" style=\"stroke:#000000; stroke-linecap:round; stroke-linejoin:round; stroke-width:2; stroke-opacity:0.1; fill:none\" points=\"\n  172.015,316.076 2352.76,316.076 \n  \"/>\n<polyline clip-path=\"url(#clip070)\" style=\"stroke:#000000; stroke-linecap:round; stroke-linejoin:round; stroke-width:4; stroke-opacity:1; fill:none\" points=\"\n  172.015,1486.45 172.015,47.2441 \n  \"/>\n<polyline clip-path=\"url(#clip070)\" style=\"stroke:#000000; stroke-linecap:round; stroke-linejoin:round; stroke-width:4; stroke-opacity:1; fill:none\" points=\"\n  172.015,1247.1 190.912,1247.1 \n  \"/>\n<polyline clip-path=\"url(#clip070)\" style=\"stroke:#000000; stroke-linecap:round; stroke-linejoin:round; stroke-width:4; stroke-opacity:1; fill:none\" points=\"\n  172.015,936.757 190.912,936.757 \n  \"/>\n<polyline clip-path=\"url(#clip070)\" style=\"stroke:#000000; stroke-linecap:round; stroke-linejoin:round; stroke-width:4; stroke-opacity:1; fill:none\" points=\"\n  172.015,626.417 190.912,626.417 \n  \"/>\n<polyline clip-path=\"url(#clip070)\" style=\"stroke:#000000; stroke-linecap:round; stroke-linejoin:round; stroke-width:4; stroke-opacity:1; fill:none\" points=\"\n  172.015,316.076 190.912,316.076 \n  \"/>\n<path clip-path=\"url(#clip070)\" d=\"M57.7745 1260.44 L74.0939 1260.44 L74.0939 1264.38 L52.1495 1264.38 L52.1495 1260.44 Q54.8115 1257.69 59.3949 1253.06 Q64.0013 1248.41 65.1819 1247.06 Q67.4272 1244.54 68.3068 1242.8 Q69.2096 1241.04 69.2096 1239.35 Q69.2096 1236.6 67.2652 1234.86 Q65.3439 1233.13 62.2421 1233.13 Q60.043 1233.13 57.5893 1233.89 Q55.1588 1234.66 52.381 1236.21 L52.381 1231.48 Q55.2051 1230.35 57.6588 1229.77 Q60.1124 1229.19 62.1495 1229.19 Q67.5198 1229.19 70.7142 1231.88 Q73.9087 1234.56 73.9087 1239.05 Q73.9087 1241.18 73.0985 1243.1 Q72.3115 1245 70.205 1247.6 Q69.6263 1248.27 66.5245 1251.48 Q63.4226 1254.68 57.7745 1260.44 Z\" fill=\"#000000\" fill-rule=\"evenodd\" fill-opacity=\"1\" /><path clip-path=\"url(#clip070)\" d=\"M93.9086 1232.9 Q90.2975 1232.9 88.4688 1236.46 Q86.6632 1240 86.6632 1247.13 Q86.6632 1254.24 88.4688 1257.8 Q90.2975 1261.35 93.9086 1261.35 Q97.5428 1261.35 99.3483 1257.8 Q101.177 1254.24 101.177 1247.13 Q101.177 1240 99.3483 1236.46 Q97.5428 1232.9 93.9086 1232.9 M93.9086 1229.19 Q99.7187 1229.19 102.774 1233.8 Q105.853 1238.38 105.853 1247.13 Q105.853 1255.86 102.774 1260.47 Q99.7187 1265.05 93.9086 1265.05 Q88.0984 1265.05 85.0197 1260.47 Q81.9642 1255.86 81.9642 1247.13 Q81.9642 1238.38 85.0197 1233.8 Q88.0984 1229.19 93.9086 1229.19 Z\" fill=\"#000000\" fill-rule=\"evenodd\" fill-opacity=\"1\" /><path clip-path=\"url(#clip070)\" d=\"M124.07 1232.9 Q120.459 1232.9 118.631 1236.46 Q116.825 1240 116.825 1247.13 Q116.825 1254.24 118.631 1257.8 Q120.459 1261.35 124.07 1261.35 Q127.705 1261.35 129.51 1257.8 Q131.339 1254.24 131.339 1247.13 Q131.339 1240 129.51 1236.46 Q127.705 1232.9 124.07 1232.9 M124.07 1229.19 Q129.881 1229.19 132.936 1233.8 Q136.015 1238.38 136.015 1247.13 Q136.015 1255.86 132.936 1260.47 Q129.881 1265.05 124.07 1265.05 Q118.26 1265.05 115.182 1260.47 Q112.126 1255.86 112.126 1247.13 Q112.126 1238.38 115.182 1233.8 Q118.26 1229.19 124.07 1229.19 Z\" fill=\"#000000\" fill-rule=\"evenodd\" fill-opacity=\"1\" /><path clip-path=\"url(#clip070)\" d=\"M66.5939 923.551 L54.7884 942 L66.5939 942 L66.5939 923.551 M65.367 919.477 L71.2466 919.477 L71.2466 942 L76.1772 942 L76.1772 945.889 L71.2466 945.889 L71.2466 954.037 L66.5939 954.037 L66.5939 945.889 L50.9921 945.889 L50.9921 941.375 L65.367 919.477 Z\" fill=\"#000000\" fill-rule=\"evenodd\" fill-opacity=\"1\" /><path clip-path=\"url(#clip070)\" d=\"M93.9086 922.556 Q90.2975 922.556 88.4688 926.121 Q86.6632 929.663 86.6632 936.792 Q86.6632 943.899 88.4688 947.463 Q90.2975 951.005 93.9086 951.005 Q97.5428 951.005 99.3483 947.463 Q101.177 943.899 101.177 936.792 Q101.177 929.663 99.3483 926.121 Q97.5428 922.556 93.9086 922.556 M93.9086 918.852 Q99.7187 918.852 102.774 923.459 Q105.853 928.042 105.853 936.792 Q105.853 945.519 102.774 950.125 Q99.7187 954.709 93.9086 954.709 Q88.0984 954.709 85.0197 950.125 Q81.9642 945.519 81.9642 936.792 Q81.9642 928.042 85.0197 923.459 Q88.0984 918.852 93.9086 918.852 Z\" fill=\"#000000\" fill-rule=\"evenodd\" fill-opacity=\"1\" /><path clip-path=\"url(#clip070)\" d=\"M124.07 922.556 Q120.459 922.556 118.631 926.121 Q116.825 929.663 116.825 936.792 Q116.825 943.899 118.631 947.463 Q120.459 951.005 124.07 951.005 Q127.705 951.005 129.51 947.463 Q131.339 943.899 131.339 936.792 Q131.339 929.663 129.51 926.121 Q127.705 922.556 124.07 922.556 M124.07 918.852 Q129.881 918.852 132.936 923.459 Q136.015 928.042 136.015 936.792 Q136.015 945.519 132.936 950.125 Q129.881 954.709 124.07 954.709 Q118.26 954.709 115.182 950.125 Q112.126 945.519 112.126 936.792 Q112.126 928.042 115.182 923.459 Q118.26 918.852 124.07 918.852 Z\" fill=\"#000000\" fill-rule=\"evenodd\" fill-opacity=\"1\" /><path clip-path=\"url(#clip070)\" d=\"M64.3254 624.554 Q61.1773 624.554 59.3254 626.706 Q57.4967 628.859 57.4967 632.609 Q57.4967 636.336 59.3254 638.512 Q61.1773 640.665 64.3254 640.665 Q67.4735 640.665 69.3022 638.512 Q71.1541 636.336 71.1541 632.609 Q71.1541 628.859 69.3022 626.706 Q67.4735 624.554 64.3254 624.554 M73.6077 609.901 L73.6077 614.16 Q71.8485 613.327 70.0429 612.887 Q68.2606 612.447 66.5013 612.447 Q61.8717 612.447 59.418 615.572 Q56.9875 618.697 56.6402 625.016 Q58.006 623.003 60.0662 621.938 Q62.1263 620.85 64.6032 620.85 Q69.8115 620.85 72.8207 624.021 Q75.8531 627.169 75.8531 632.609 Q75.8531 637.933 72.705 641.151 Q69.5568 644.368 64.3254 644.368 Q58.33 644.368 55.1588 639.785 Q51.9875 635.178 51.9875 626.452 Q51.9875 618.257 55.8764 613.396 Q59.7652 608.512 66.3161 608.512 Q68.0754 608.512 69.8578 608.859 Q71.6633 609.206 73.6077 609.901 Z\" fill=\"#000000\" fill-rule=\"evenodd\" fill-opacity=\"1\" /><path clip-path=\"url(#clip070)\" d=\"M93.9086 612.216 Q90.2975 612.216 88.4688 615.78 Q86.6632 619.322 86.6632 626.452 Q86.6632 633.558 88.4688 637.123 Q90.2975 640.665 93.9086 640.665 Q97.5428 640.665 99.3483 637.123 Q101.177 633.558 101.177 626.452 Q101.177 619.322 99.3483 615.78 Q97.5428 612.216 93.9086 612.216 M93.9086 608.512 Q99.7187 608.512 102.774 613.118 Q105.853 617.702 105.853 626.452 Q105.853 635.178 102.774 639.785 Q99.7187 644.368 93.9086 644.368 Q88.0984 644.368 85.0197 639.785 Q81.9642 635.178 81.9642 626.452 Q81.9642 617.702 85.0197 613.118 Q88.0984 608.512 93.9086 608.512 Z\" fill=\"#000000\" fill-rule=\"evenodd\" fill-opacity=\"1\" /><path clip-path=\"url(#clip070)\" d=\"M124.07 612.216 Q120.459 612.216 118.631 615.78 Q116.825 619.322 116.825 626.452 Q116.825 633.558 118.631 637.123 Q120.459 640.665 124.07 640.665 Q127.705 640.665 129.51 637.123 Q131.339 633.558 131.339 626.452 Q131.339 619.322 129.51 615.78 Q127.705 612.216 124.07 612.216 M124.07 608.512 Q129.881 608.512 132.936 613.118 Q136.015 617.702 136.015 626.452 Q136.015 635.178 132.936 639.785 Q129.881 644.368 124.07 644.368 Q118.26 644.368 115.182 639.785 Q112.126 635.178 112.126 626.452 Q112.126 617.702 115.182 613.118 Q118.26 608.512 124.07 608.512 Z\" fill=\"#000000\" fill-rule=\"evenodd\" fill-opacity=\"1\" /><path clip-path=\"url(#clip070)\" d=\"M63.7467 316.945 Q60.4134 316.945 58.4921 318.727 Q56.5939 320.509 56.5939 323.634 Q56.5939 326.759 58.4921 328.542 Q60.4134 330.324 63.7467 330.324 Q67.08 330.324 69.0013 328.542 Q70.9226 326.736 70.9226 323.634 Q70.9226 320.509 69.0013 318.727 Q67.1032 316.945 63.7467 316.945 M59.0708 314.954 Q56.0615 314.213 54.3717 312.153 Q52.7051 310.093 52.7051 307.13 Q52.7051 302.986 55.6449 300.579 Q58.6078 298.172 63.7467 298.172 Q68.9087 298.172 71.8485 300.579 Q74.7883 302.986 74.7883 307.13 Q74.7883 310.093 73.0985 312.153 Q71.4318 314.213 68.4457 314.954 Q71.8253 315.741 73.7003 318.033 Q75.5985 320.324 75.5985 323.634 Q75.5985 328.657 72.5198 331.343 Q69.4642 334.028 63.7467 334.028 Q58.0291 334.028 54.9504 331.343 Q51.8949 328.657 51.8949 323.634 Q51.8949 320.324 53.793 318.033 Q55.6912 315.741 59.0708 314.954 M57.3578 307.57 Q57.3578 310.255 59.0245 311.759 Q60.7143 313.264 63.7467 313.264 Q66.7559 313.264 68.4457 311.759 Q70.1587 310.255 70.1587 307.57 Q70.1587 304.884 68.4457 303.38 Q66.7559 301.875 63.7467 301.875 Q60.7143 301.875 59.0245 303.38 Q57.3578 304.884 57.3578 307.57 Z\" fill=\"#000000\" fill-rule=\"evenodd\" fill-opacity=\"1\" /><path clip-path=\"url(#clip070)\" d=\"M93.9086 301.875 Q90.2975 301.875 88.4688 305.44 Q86.6632 308.982 86.6632 316.111 Q86.6632 323.218 88.4688 326.782 Q90.2975 330.324 93.9086 330.324 Q97.5428 330.324 99.3483 326.782 Q101.177 323.218 101.177 316.111 Q101.177 308.982 99.3483 305.44 Q97.5428 301.875 93.9086 301.875 M93.9086 298.172 Q99.7187 298.172 102.774 302.778 Q105.853 307.361 105.853 316.111 Q105.853 324.838 102.774 329.444 Q99.7187 334.028 93.9086 334.028 Q88.0984 334.028 85.0197 329.444 Q81.9642 324.838 81.9642 316.111 Q81.9642 307.361 85.0197 302.778 Q88.0984 298.172 93.9086 298.172 Z\" fill=\"#000000\" fill-rule=\"evenodd\" fill-opacity=\"1\" /><path clip-path=\"url(#clip070)\" d=\"M124.07 301.875 Q120.459 301.875 118.631 305.44 Q116.825 308.982 116.825 316.111 Q116.825 323.218 118.631 326.782 Q120.459 330.324 124.07 330.324 Q127.705 330.324 129.51 326.782 Q131.339 323.218 131.339 316.111 Q131.339 308.982 129.51 305.44 Q127.705 301.875 124.07 301.875 M124.07 298.172 Q129.881 298.172 132.936 302.778 Q136.015 307.361 136.015 316.111 Q136.015 324.838 132.936 329.444 Q129.881 334.028 124.07 334.028 Q118.26 334.028 115.182 329.444 Q112.126 324.838 112.126 316.111 Q112.126 307.361 115.182 302.778 Q118.26 298.172 124.07 298.172 Z\" fill=\"#000000\" fill-rule=\"evenodd\" fill-opacity=\"1\" /><polyline clip-path=\"url(#clip072)\" style=\"stroke:#009af9; stroke-linecap:round; stroke-linejoin:round; stroke-width:4; stroke-opacity:1; fill:none\" points=\"\n  896.643,1386.75 1037.95,1194.34 \n  \"/>\n<polyline clip-path=\"url(#clip072)\" style=\"stroke:#e26f46; stroke-linecap:round; stroke-linejoin:round; stroke-width:4; stroke-opacity:1; fill:none\" points=\"\n  1360.06,795.552 1131.47,666.761 \n  \"/>\n<polyline clip-path=\"url(#clip072)\" style=\"stroke:#3da44d; stroke-linecap:round; stroke-linejoin:round; stroke-width:4; stroke-opacity:1; fill:none\" points=\"\n  672.21,680.727 233.734,1354.17 \n  \"/>\n<polyline clip-path=\"url(#clip072)\" style=\"stroke:#c271d2; stroke-linecap:round; stroke-linejoin:round; stroke-width:4; stroke-opacity:1; fill:none\" points=\"\n  2079.07,1163.31 1732.03,989.515 \n  \"/>\n<polyline clip-path=\"url(#clip072)\" style=\"stroke:#ac8d18; stroke-linecap:round; stroke-linejoin:round; stroke-width:4; stroke-opacity:1; fill:none\" points=\"\n  952.751,584.521 632.726,87.9763 \n  \"/>\n<polyline clip-path=\"url(#clip072)\" style=\"stroke:#00a9ad; stroke-linecap:round; stroke-linejoin:round; stroke-width:4; stroke-opacity:1; fill:none\" points=\"\n  1037.95,1194.34 1565.79,1445.72 \n  \"/>\n<polyline clip-path=\"url(#clip072)\" style=\"stroke:#ed5d92; stroke-linecap:round; stroke-linejoin:round; stroke-width:4; stroke-opacity:1; fill:none\" points=\"\n  2201.68,1365.03 2079.07,1163.31 \n  \"/>\n<polyline clip-path=\"url(#clip072)\" style=\"stroke:#c68125; stroke-linecap:round; stroke-linejoin:round; stroke-width:4; stroke-opacity:1; fill:none\" points=\"\n  1873.34,610.9 2207.91,669.865 \n  \"/>\n<polyline clip-path=\"url(#clip072)\" style=\"stroke:#00a98d; stroke-linecap:round; stroke-linejoin:round; stroke-width:4; stroke-opacity:1; fill:none\" points=\"\n  1245.76,513.143 952.751,584.521 \n  \"/>\n<polyline clip-path=\"url(#clip072)\" style=\"stroke:#8e971d; stroke-linecap:round; stroke-linejoin:round; stroke-width:4; stroke-opacity:1; fill:none\" points=\"\n  1775.67,375.041 1638.52,505.384 \n  \"/>\n<polyline clip-path=\"url(#clip072)\" style=\"stroke:#00a8cb; stroke-linecap:round; stroke-linejoin:round; stroke-width:4; stroke-opacity:1; fill:none\" points=\"\n  1420.32,643.486 1360.06,795.552 \n  \"/>\n<polyline clip-path=\"url(#clip072)\" style=\"stroke:#9b7fe8; stroke-linecap:round; stroke-linejoin:round; stroke-width:4; stroke-opacity:1; fill:none\" points=\"\n  1732.03,989.515 1873.34,610.9 \n  \"/>\n<polyline clip-path=\"url(#clip072)\" style=\"stroke:#608cf6; stroke-linecap:round; stroke-linejoin:round; stroke-width:4; stroke-opacity:1; fill:none\" points=\"\n  233.734,1354.17 896.643,1386.75 \n  \"/>\n<polyline clip-path=\"url(#clip072)\" style=\"stroke:#f05f73; stroke-linecap:round; stroke-linejoin:round; stroke-width:4; stroke-opacity:1; fill:none\" points=\"\n  632.726,87.9763 672.21,680.727 \n  \"/>\n<polyline clip-path=\"url(#clip072)\" style=\"stroke:#dd64b5; stroke-linecap:round; stroke-linejoin:round; stroke-width:4; stroke-opacity:1; fill:none\" points=\"\n  1131.47,666.761 1245.76,513.143 \n  \"/>\n<polyline clip-path=\"url(#clip072)\" style=\"stroke:#6b9e32; stroke-linecap:round; stroke-linejoin:round; stroke-width:4; stroke-opacity:1; fill:none\" points=\"\n  1638.52,505.384 1420.32,643.486 \n  \"/>\n<polyline clip-path=\"url(#clip072)\" style=\"stroke:#009af9; stroke-linecap:round; stroke-linejoin:round; stroke-width:4; stroke-opacity:1; fill:none\" points=\"\n  2207.91,669.865 2291.04,469.695 \n  \"/>\n<polyline clip-path=\"url(#clip072)\" style=\"stroke:#e26f46; stroke-linecap:round; stroke-linejoin:round; stroke-width:4; stroke-opacity:1; fill:none\" points=\"\n  1565.79,1445.72 1775.67,1410.03 \n  \"/>\n<polyline clip-path=\"url(#clip072)\" style=\"stroke:#3da44d; stroke-linecap:round; stroke-linejoin:round; stroke-width:4; stroke-opacity:1; fill:none\" points=\"\n  2291.04,469.695 1775.67,375.041 \n  \"/>\n<polyline clip-path=\"url(#clip072)\" style=\"stroke:#c271d2; stroke-linecap:round; stroke-linejoin:round; stroke-width:4; stroke-opacity:1; fill:none\" points=\"\n  1775.67,1410.03 2201.68,1365.03 \n  \"/>\n</svg>\n"
          },
          "metadata": {}
        },
        {
          "output_type": "stream",
          "name": "stdout",
          "text": [
            "\n"
          ]
        }
      ]
    },
    {
      "cell_type": "markdown",
      "source": [
        "## Modelos dinámicos\n",
        "\n",
        "La siguiente celda muestra un modelo que genera dinámicamente restricciones eliminando las soluciones enteras inválidas mediante\n",
        "$ \\sum_{i\\in S,j\\in S} x_{ij} \\leq |S|-1 $ para todo $S\\subset V$. Claramento hay un número exponencial de estas restricciones y no tiene sentido generarlas todas para luego resolver un modelo compacto. Mejor ir generándolas dinámicamente a medida que se necesitan."
      ],
      "metadata": {
        "id": "xZ5q3eBJG7E8"
      }
    },
    {
      "cell_type": "code",
      "source": [
        "function CuttingPlane(model,x)\n",
        "    tcuts = 0\n",
        "    iterations = 1\n",
        "    Ttime = 0\n",
        "    while true\n",
        "        optimize!(model)\n",
        "        Ttime += solve_time(model)\n",
        "        \n",
        "        xval = JuMP.value.(x)\n",
        "        PlotTour( N, coord, xval)\n",
        "        println(\"Lower bound : \",objective_value(model))\n",
        "\n",
        "        G = SimpleDiGraph( Edge.([ (i,j) for i=1:N,j=1:N if xval[i,j]>0.5 ]) )\n",
        "        Components = connected_components(G)\n",
        "        if length(Components)==1\n",
        "            break\n",
        "        end\n",
        "        @constraint(model, [S in Components], sum(x[S,S]) <= length(S)-1 )   \n",
        "        tcuts += length(Components)\n",
        "        iterations += 1\n",
        "    end\n",
        "    println(\"Iterations=$(iterations)  Cuts=$(tcuts)   Time=$(Ttime)\")  \n",
        "end\n",
        "\n",
        "function SolveATSPcut()\n",
        "    model = Model(GLPK.Optimizer)\n",
        "\n",
        "    @variable(model, x[1:N,1:N], Bin)\n",
        "    for i in 1:N\n",
        "        set_upper_bound(x[i,i], 0)\n",
        "    end\n",
        "\n",
        "    @objective(model, Min, sum(cost .* x))\n",
        "    @constraint(model, [i=1:N], sum(x[i,:]) == 1)\n",
        "    @constraint(model, [i=1:N], sum(x[:,i]) == 1)\n",
        "    @constraint(model, [i=1:N,j=i+1:N], x[i,j]+x[j,i] <= 1)\n",
        "\n",
        "    CuttingPlane(model,x)\n",
        "\n",
        "    print(\"Optval: $(objective_value(model))    ;   Solution: \")\n",
        "    println( ExtractTour(N, value.(x)) )\n",
        "end\n",
        "\n",
        "SolveATSPcut()"
      ],
      "metadata": {
        "colab": {
          "base_uri": "https://localhost:8080/",
          "height": 473
        },
        "id": "V212KUGpQjm9",
        "outputId": "462dbf2b-ad74-4ecf-afbf-47215b2150dc"
      },
      "execution_count": null,
      "outputs": [
        {
          "output_type": "display_data",
          "data": {
            "image/svg+xml": "<?xml version=\"1.0\" encoding=\"utf-8\"?>\n<svg xmlns=\"http://www.w3.org/2000/svg\" xmlns:xlink=\"http://www.w3.org/1999/xlink\" width=\"600\" height=\"400\" viewBox=\"0 0 2400 1600\">\n<defs>\n  <clipPath id=\"clip230\">\n    <rect x=\"0\" y=\"0\" width=\"2400\" height=\"1600\"/>\n  </clipPath>\n</defs>\n<path clip-path=\"url(#clip230)\" d=\"\nM0 1600 L2400 1600 L2400 0 L0 0  Z\n  \" fill=\"#ffffff\" fill-rule=\"evenodd\" fill-opacity=\"1\"/>\n<defs>\n  <clipPath id=\"clip231\">\n    <rect x=\"480\" y=\"0\" width=\"1681\" height=\"1600\"/>\n  </clipPath>\n</defs>\n<path clip-path=\"url(#clip230)\" d=\"\nM199.283 1486.45 L2352.76 1486.45 L2352.76 47.2441 L199.283 47.2441  Z\n  \" fill=\"#ffffff\" fill-rule=\"evenodd\" fill-opacity=\"1\"/>\n<defs>\n  <clipPath id=\"clip232\">\n    <rect x=\"199\" y=\"47\" width=\"2154\" height=\"1440\"/>\n  </clipPath>\n</defs>\n<polyline clip-path=\"url(#clip232)\" style=\"stroke:#000000; stroke-linecap:round; stroke-linejoin:round; stroke-width:2; stroke-opacity:0.1; fill:none\" points=\"\n  210.545,1486.45 210.545,47.2441 \n  \"/>\n<polyline clip-path=\"url(#clip232)\" style=\"stroke:#000000; stroke-linecap:round; stroke-linejoin:round; stroke-width:2; stroke-opacity:0.1; fill:none\" points=\"\n  762.604,1486.45 762.604,47.2441 \n  \"/>\n<polyline clip-path=\"url(#clip232)\" style=\"stroke:#000000; stroke-linecap:round; stroke-linejoin:round; stroke-width:2; stroke-opacity:0.1; fill:none\" points=\"\n  1314.66,1486.45 1314.66,47.2441 \n  \"/>\n<polyline clip-path=\"url(#clip232)\" style=\"stroke:#000000; stroke-linecap:round; stroke-linejoin:round; stroke-width:2; stroke-opacity:0.1; fill:none\" points=\"\n  1866.72,1486.45 1866.72,47.2441 \n  \"/>\n<polyline clip-path=\"url(#clip230)\" style=\"stroke:#000000; stroke-linecap:round; stroke-linejoin:round; stroke-width:4; stroke-opacity:1; fill:none\" points=\"\n  199.283,1486.45 2352.76,1486.45 \n  \"/>\n<polyline clip-path=\"url(#clip230)\" style=\"stroke:#000000; stroke-linecap:round; stroke-linejoin:round; stroke-width:4; stroke-opacity:1; fill:none\" points=\"\n  210.545,1486.45 210.545,1467.55 \n  \"/>\n<polyline clip-path=\"url(#clip230)\" style=\"stroke:#000000; stroke-linecap:round; stroke-linejoin:round; stroke-width:4; stroke-opacity:1; fill:none\" points=\"\n  762.604,1486.45 762.604,1467.55 \n  \"/>\n<polyline clip-path=\"url(#clip230)\" style=\"stroke:#000000; stroke-linecap:round; stroke-linejoin:round; stroke-width:4; stroke-opacity:1; fill:none\" points=\"\n  1314.66,1486.45 1314.66,1467.55 \n  \"/>\n<polyline clip-path=\"url(#clip230)\" style=\"stroke:#000000; stroke-linecap:round; stroke-linejoin:round; stroke-width:4; stroke-opacity:1; fill:none\" points=\"\n  1866.72,1486.45 1866.72,1467.55 \n  \"/>\n<path clip-path=\"url(#clip230)\" d=\"M174.238 1544.91 L190.557 1544.91 L190.557 1548.85 L168.613 1548.85 L168.613 1544.91 Q171.275 1542.16 175.858 1537.53 Q180.464 1532.88 181.645 1531.53 Q183.89 1529.01 184.77 1527.27 Q185.673 1525.51 185.673 1523.82 Q185.673 1521.07 183.728 1519.33 Q181.807 1517.6 178.705 1517.6 Q176.506 1517.6 174.052 1518.36 Q171.622 1519.13 168.844 1520.68 L168.844 1515.95 Q171.668 1514.82 174.122 1514.24 Q176.575 1513.66 178.613 1513.66 Q183.983 1513.66 187.177 1516.35 Q190.372 1519.03 190.372 1523.52 Q190.372 1525.65 189.562 1527.57 Q188.774 1529.47 186.668 1532.07 Q186.089 1532.74 182.987 1535.95 Q179.886 1539.15 174.238 1544.91 Z\" fill=\"#000000\" fill-rule=\"evenodd\" fill-opacity=\"1\" /><path clip-path=\"url(#clip230)\" d=\"M210.372 1517.37 Q206.76 1517.37 204.932 1520.93 Q203.126 1524.47 203.126 1531.6 Q203.126 1538.71 204.932 1542.27 Q206.76 1545.82 210.372 1545.82 Q214.006 1545.82 215.811 1542.27 Q217.64 1538.71 217.64 1531.6 Q217.64 1524.47 215.811 1520.93 Q214.006 1517.37 210.372 1517.37 M210.372 1513.66 Q216.182 1513.66 219.237 1518.27 Q222.316 1522.85 222.316 1531.6 Q222.316 1540.33 219.237 1544.94 Q216.182 1549.52 210.372 1549.52 Q204.561 1549.52 201.483 1544.94 Q198.427 1540.33 198.427 1531.6 Q198.427 1522.85 201.483 1518.27 Q204.561 1513.66 210.372 1513.66 Z\" fill=\"#000000\" fill-rule=\"evenodd\" fill-opacity=\"1\" /><path clip-path=\"url(#clip230)\" d=\"M240.533 1517.37 Q236.922 1517.37 235.094 1520.93 Q233.288 1524.47 233.288 1531.6 Q233.288 1538.71 235.094 1542.27 Q236.922 1545.82 240.533 1545.82 Q244.168 1545.82 245.973 1542.27 Q247.802 1538.71 247.802 1531.6 Q247.802 1524.47 245.973 1520.93 Q244.168 1517.37 240.533 1517.37 M240.533 1513.66 Q246.344 1513.66 249.399 1518.27 Q252.478 1522.85 252.478 1531.6 Q252.478 1540.33 249.399 1544.94 Q246.344 1549.52 240.533 1549.52 Q234.723 1549.52 231.645 1544.94 Q228.589 1540.33 228.589 1531.6 Q228.589 1522.85 231.645 1518.27 Q234.723 1513.66 240.533 1513.66 Z\" fill=\"#000000\" fill-rule=\"evenodd\" fill-opacity=\"1\" /><path clip-path=\"url(#clip230)\" d=\"M735.695 1518.36 L723.889 1536.81 L735.695 1536.81 L735.695 1518.36 M734.468 1514.29 L740.348 1514.29 L740.348 1536.81 L745.278 1536.81 L745.278 1540.7 L740.348 1540.7 L740.348 1548.85 L735.695 1548.85 L735.695 1540.7 L720.093 1540.7 L720.093 1536.19 L734.468 1514.29 Z\" fill=\"#000000\" fill-rule=\"evenodd\" fill-opacity=\"1\" /><path clip-path=\"url(#clip230)\" d=\"M763.01 1517.37 Q759.398 1517.37 757.57 1520.93 Q755.764 1524.47 755.764 1531.6 Q755.764 1538.71 757.57 1542.27 Q759.398 1545.82 763.01 1545.82 Q766.644 1545.82 768.449 1542.27 Q770.278 1538.71 770.278 1531.6 Q770.278 1524.47 768.449 1520.93 Q766.644 1517.37 763.01 1517.37 M763.01 1513.66 Q768.82 1513.66 771.875 1518.27 Q774.954 1522.85 774.954 1531.6 Q774.954 1540.33 771.875 1544.94 Q768.82 1549.52 763.01 1549.52 Q757.199 1549.52 754.121 1544.94 Q751.065 1540.33 751.065 1531.6 Q751.065 1522.85 754.121 1518.27 Q757.199 1513.66 763.01 1513.66 Z\" fill=\"#000000\" fill-rule=\"evenodd\" fill-opacity=\"1\" /><path clip-path=\"url(#clip230)\" d=\"M793.171 1517.37 Q789.56 1517.37 787.732 1520.93 Q785.926 1524.47 785.926 1531.6 Q785.926 1538.71 787.732 1542.27 Q789.56 1545.82 793.171 1545.82 Q796.806 1545.82 798.611 1542.27 Q800.44 1538.71 800.44 1531.6 Q800.44 1524.47 798.611 1520.93 Q796.806 1517.37 793.171 1517.37 M793.171 1513.66 Q798.982 1513.66 802.037 1518.27 Q805.116 1522.85 805.116 1531.6 Q805.116 1540.33 802.037 1544.94 Q798.982 1549.52 793.171 1549.52 Q787.361 1549.52 784.283 1544.94 Q781.227 1540.33 781.227 1531.6 Q781.227 1522.85 784.283 1518.27 Q787.361 1513.66 793.171 1513.66 Z\" fill=\"#000000\" fill-rule=\"evenodd\" fill-opacity=\"1\" /><path clip-path=\"url(#clip230)\" d=\"M1284.99 1529.7 Q1281.84 1529.7 1279.99 1531.86 Q1278.16 1534.01 1278.16 1537.76 Q1278.16 1541.49 1279.99 1543.66 Q1281.84 1545.82 1284.99 1545.82 Q1288.14 1545.82 1289.96 1543.66 Q1291.82 1541.49 1291.82 1537.76 Q1291.82 1534.01 1289.96 1531.86 Q1288.14 1529.7 1284.99 1529.7 M1294.27 1515.05 L1294.27 1519.31 Q1292.51 1518.48 1290.71 1518.04 Q1288.92 1517.6 1287.16 1517.6 Q1282.53 1517.6 1280.08 1520.72 Q1277.65 1523.85 1277.3 1530.17 Q1278.67 1528.15 1280.73 1527.09 Q1282.79 1526 1285.27 1526 Q1290.47 1526 1293.48 1529.17 Q1296.52 1532.32 1296.52 1537.76 Q1296.52 1543.08 1293.37 1546.3 Q1290.22 1549.52 1284.99 1549.52 Q1278.99 1549.52 1275.82 1544.94 Q1272.65 1540.33 1272.65 1531.6 Q1272.65 1523.41 1276.54 1518.55 Q1280.43 1513.66 1286.98 1513.66 Q1288.74 1513.66 1290.52 1514.01 Q1292.33 1514.36 1294.27 1515.05 Z\" fill=\"#000000\" fill-rule=\"evenodd\" fill-opacity=\"1\" /><path clip-path=\"url(#clip230)\" d=\"M1314.57 1517.37 Q1310.96 1517.37 1309.13 1520.93 Q1307.33 1524.47 1307.33 1531.6 Q1307.33 1538.71 1309.13 1542.27 Q1310.96 1545.82 1314.57 1545.82 Q1318.21 1545.82 1320.01 1542.27 Q1321.84 1538.71 1321.84 1531.6 Q1321.84 1524.47 1320.01 1520.93 Q1318.21 1517.37 1314.57 1517.37 M1314.57 1513.66 Q1320.38 1513.66 1323.44 1518.27 Q1326.52 1522.85 1326.52 1531.6 Q1326.52 1540.33 1323.44 1544.94 Q1320.38 1549.52 1314.57 1549.52 Q1308.76 1549.52 1305.68 1544.94 Q1302.63 1540.33 1302.63 1531.6 Q1302.63 1522.85 1305.68 1518.27 Q1308.76 1513.66 1314.57 1513.66 Z\" fill=\"#000000\" fill-rule=\"evenodd\" fill-opacity=\"1\" /><path clip-path=\"url(#clip230)\" d=\"M1344.73 1517.37 Q1341.12 1517.37 1339.29 1520.93 Q1337.49 1524.47 1337.49 1531.6 Q1337.49 1538.71 1339.29 1542.27 Q1341.12 1545.82 1344.73 1545.82 Q1348.37 1545.82 1350.17 1542.27 Q1352 1538.71 1352 1531.6 Q1352 1524.47 1350.17 1520.93 Q1348.37 1517.37 1344.73 1517.37 M1344.73 1513.66 Q1350.54 1513.66 1353.6 1518.27 Q1356.68 1522.85 1356.68 1531.6 Q1356.68 1540.33 1353.6 1544.94 Q1350.54 1549.52 1344.73 1549.52 Q1338.92 1549.52 1335.84 1544.94 Q1332.79 1540.33 1332.79 1531.6 Q1332.79 1522.85 1335.84 1518.27 Q1338.92 1513.66 1344.73 1513.66 Z\" fill=\"#000000\" fill-rule=\"evenodd\" fill-opacity=\"1\" /><path clip-path=\"url(#clip230)\" d=\"M1836.51 1532.44 Q1833.18 1532.44 1831.26 1534.22 Q1829.36 1536 1829.36 1539.13 Q1829.36 1542.25 1831.26 1544.03 Q1833.18 1545.82 1836.51 1545.82 Q1839.85 1545.82 1841.77 1544.03 Q1843.69 1542.23 1843.69 1539.13 Q1843.69 1536 1841.77 1534.22 Q1839.87 1532.44 1836.51 1532.44 M1831.84 1530.45 Q1828.83 1529.7 1827.14 1527.64 Q1825.47 1525.58 1825.47 1522.62 Q1825.47 1518.48 1828.41 1516.07 Q1831.38 1513.66 1836.51 1513.66 Q1841.68 1513.66 1844.62 1516.07 Q1847.56 1518.48 1847.56 1522.62 Q1847.56 1525.58 1845.87 1527.64 Q1844.2 1529.7 1841.21 1530.45 Q1844.59 1531.23 1846.47 1533.52 Q1848.37 1535.82 1848.37 1539.13 Q1848.37 1544.15 1845.29 1546.83 Q1842.23 1549.52 1836.51 1549.52 Q1830.8 1549.52 1827.72 1546.83 Q1824.66 1544.15 1824.66 1539.13 Q1824.66 1535.82 1826.56 1533.52 Q1828.46 1531.23 1831.84 1530.45 M1830.13 1523.06 Q1830.13 1525.75 1831.79 1527.25 Q1833.48 1528.76 1836.51 1528.76 Q1839.52 1528.76 1841.21 1527.25 Q1842.93 1525.75 1842.93 1523.06 Q1842.93 1520.38 1841.21 1518.87 Q1839.52 1517.37 1836.51 1517.37 Q1833.48 1517.37 1831.79 1518.87 Q1830.13 1520.38 1830.13 1523.06 Z\" fill=\"#000000\" fill-rule=\"evenodd\" fill-opacity=\"1\" /><path clip-path=\"url(#clip230)\" d=\"M1866.68 1517.37 Q1863.07 1517.37 1861.24 1520.93 Q1859.43 1524.47 1859.43 1531.6 Q1859.43 1538.71 1861.24 1542.27 Q1863.07 1545.82 1866.68 1545.82 Q1870.31 1545.82 1872.12 1542.27 Q1873.95 1538.71 1873.95 1531.6 Q1873.95 1524.47 1872.12 1520.93 Q1870.31 1517.37 1866.68 1517.37 M1866.68 1513.66 Q1872.49 1513.66 1875.54 1518.27 Q1878.62 1522.85 1878.62 1531.6 Q1878.62 1540.33 1875.54 1544.94 Q1872.49 1549.52 1866.68 1549.52 Q1860.87 1549.52 1857.79 1544.94 Q1854.73 1540.33 1854.73 1531.6 Q1854.73 1522.85 1857.79 1518.27 Q1860.87 1513.66 1866.68 1513.66 Z\" fill=\"#000000\" fill-rule=\"evenodd\" fill-opacity=\"1\" /><path clip-path=\"url(#clip230)\" d=\"M1896.84 1517.37 Q1893.23 1517.37 1891.4 1520.93 Q1889.59 1524.47 1889.59 1531.6 Q1889.59 1538.71 1891.4 1542.27 Q1893.23 1545.82 1896.84 1545.82 Q1900.47 1545.82 1902.28 1542.27 Q1904.11 1538.71 1904.11 1531.6 Q1904.11 1524.47 1902.28 1520.93 Q1900.47 1517.37 1896.84 1517.37 M1896.84 1513.66 Q1902.65 1513.66 1905.7 1518.27 Q1908.78 1522.85 1908.78 1531.6 Q1908.78 1540.33 1905.7 1544.94 Q1902.65 1549.52 1896.84 1549.52 Q1891.03 1549.52 1887.95 1544.94 Q1884.89 1540.33 1884.89 1531.6 Q1884.89 1522.85 1887.95 1518.27 Q1891.03 1513.66 1896.84 1513.66 Z\" fill=\"#000000\" fill-rule=\"evenodd\" fill-opacity=\"1\" /><polyline clip-path=\"url(#clip232)\" style=\"stroke:#000000; stroke-linecap:round; stroke-linejoin:round; stroke-width:2; stroke-opacity:0.1; fill:none\" points=\"\n  199.283,1455.32 2352.76,1455.32 \n  \"/>\n<polyline clip-path=\"url(#clip232)\" style=\"stroke:#000000; stroke-linecap:round; stroke-linejoin:round; stroke-width:2; stroke-opacity:0.1; fill:none\" points=\"\n  199.283,1112.45 2352.76,1112.45 \n  \"/>\n<polyline clip-path=\"url(#clip232)\" style=\"stroke:#000000; stroke-linecap:round; stroke-linejoin:round; stroke-width:2; stroke-opacity:0.1; fill:none\" points=\"\n  199.283,769.589 2352.76,769.589 \n  \"/>\n<polyline clip-path=\"url(#clip232)\" style=\"stroke:#000000; stroke-linecap:round; stroke-linejoin:round; stroke-width:2; stroke-opacity:0.1; fill:none\" points=\"\n  199.283,426.725 2352.76,426.725 \n  \"/>\n<polyline clip-path=\"url(#clip232)\" style=\"stroke:#000000; stroke-linecap:round; stroke-linejoin:round; stroke-width:2; stroke-opacity:0.1; fill:none\" points=\"\n  199.283,83.8619 2352.76,83.8619 \n  \"/>\n<polyline clip-path=\"url(#clip230)\" style=\"stroke:#000000; stroke-linecap:round; stroke-linejoin:round; stroke-width:4; stroke-opacity:1; fill:none\" points=\"\n  199.283,1486.45 199.283,47.2441 \n  \"/>\n<polyline clip-path=\"url(#clip230)\" style=\"stroke:#000000; stroke-linecap:round; stroke-linejoin:round; stroke-width:4; stroke-opacity:1; fill:none\" points=\"\n  199.283,1455.32 218.181,1455.32 \n  \"/>\n<polyline clip-path=\"url(#clip230)\" style=\"stroke:#000000; stroke-linecap:round; stroke-linejoin:round; stroke-width:4; stroke-opacity:1; fill:none\" points=\"\n  199.283,1112.45 218.181,1112.45 \n  \"/>\n<polyline clip-path=\"url(#clip230)\" style=\"stroke:#000000; stroke-linecap:round; stroke-linejoin:round; stroke-width:4; stroke-opacity:1; fill:none\" points=\"\n  199.283,769.589 218.181,769.589 \n  \"/>\n<polyline clip-path=\"url(#clip230)\" style=\"stroke:#000000; stroke-linecap:round; stroke-linejoin:round; stroke-width:4; stroke-opacity:1; fill:none\" points=\"\n  199.283,426.725 218.181,426.725 \n  \"/>\n<polyline clip-path=\"url(#clip230)\" style=\"stroke:#000000; stroke-linecap:round; stroke-linejoin:round; stroke-width:4; stroke-opacity:1; fill:none\" points=\"\n  199.283,83.8619 218.181,83.8619 \n  \"/>\n<path clip-path=\"url(#clip230)\" d=\"M151.339 1441.11 Q147.728 1441.11 145.899 1444.68 Q144.093 1448.22 144.093 1455.35 Q144.093 1462.46 145.899 1466.02 Q147.728 1469.56 151.339 1469.56 Q154.973 1469.56 156.779 1466.02 Q158.607 1462.46 158.607 1455.35 Q158.607 1448.22 156.779 1444.68 Q154.973 1441.11 151.339 1441.11 M151.339 1437.41 Q157.149 1437.41 160.205 1442.02 Q163.283 1446.6 163.283 1455.35 Q163.283 1464.08 160.205 1468.68 Q157.149 1473.27 151.339 1473.27 Q145.529 1473.27 142.45 1468.68 Q139.394 1464.08 139.394 1455.35 Q139.394 1446.6 142.45 1442.02 Q145.529 1437.41 151.339 1437.41 Z\" fill=\"#000000\" fill-rule=\"evenodd\" fill-opacity=\"1\" /><path clip-path=\"url(#clip230)\" d=\"M85.0429 1125.8 L101.362 1125.8 L101.362 1129.73 L79.4179 1129.73 L79.4179 1125.8 Q82.0799 1123.04 86.6632 1118.41 Q91.2697 1113.76 92.4502 1112.42 Q94.6956 1109.89 95.5752 1108.16 Q96.478 1106.4 96.478 1104.71 Q96.478 1101.95 94.5336 1100.22 Q92.6123 1098.48 89.5104 1098.48 Q87.3114 1098.48 84.8577 1099.25 Q82.4271 1100.01 79.6494 1101.56 L79.6494 1096.84 Q82.4734 1095.7 84.9271 1095.13 Q87.3808 1094.55 89.4178 1094.55 Q94.7882 1094.55 97.9826 1097.23 Q101.177 1099.92 101.177 1104.41 Q101.177 1106.54 100.367 1108.46 Q99.5798 1110.36 97.4734 1112.95 Q96.8947 1113.62 93.7928 1116.84 Q90.691 1120.03 85.0429 1125.8 Z\" fill=\"#000000\" fill-rule=\"evenodd\" fill-opacity=\"1\" /><path clip-path=\"url(#clip230)\" d=\"M111.223 1095.17 L129.58 1095.17 L129.58 1099.11 L115.506 1099.11 L115.506 1107.58 Q116.524 1107.23 117.543 1107.07 Q118.561 1106.89 119.58 1106.89 Q125.367 1106.89 128.746 1110.06 Q132.126 1113.23 132.126 1118.64 Q132.126 1124.22 128.654 1127.32 Q125.182 1130.4 118.862 1130.4 Q116.686 1130.4 114.418 1130.03 Q112.172 1129.66 109.765 1128.92 L109.765 1124.22 Q111.848 1125.36 114.07 1125.91 Q116.293 1126.47 118.77 1126.47 Q122.774 1126.47 125.112 1124.36 Q127.45 1122.26 127.45 1118.64 Q127.45 1115.03 125.112 1112.93 Q122.774 1110.82 118.77 1110.82 Q116.895 1110.82 115.02 1111.24 Q113.168 1111.65 111.223 1112.53 L111.223 1095.17 Z\" fill=\"#000000\" fill-rule=\"evenodd\" fill-opacity=\"1\" /><path clip-path=\"url(#clip230)\" d=\"M151.339 1098.25 Q147.728 1098.25 145.899 1101.82 Q144.093 1105.36 144.093 1112.49 Q144.093 1119.59 145.899 1123.16 Q147.728 1126.7 151.339 1126.7 Q154.973 1126.7 156.779 1123.16 Q158.607 1119.59 158.607 1112.49 Q158.607 1105.36 156.779 1101.82 Q154.973 1098.25 151.339 1098.25 M151.339 1094.55 Q157.149 1094.55 160.205 1099.15 Q163.283 1103.74 163.283 1112.49 Q163.283 1121.21 160.205 1125.82 Q157.149 1130.4 151.339 1130.4 Q145.529 1130.4 142.45 1125.82 Q139.394 1121.21 139.394 1112.49 Q139.394 1103.74 142.45 1099.15 Q145.529 1094.55 151.339 1094.55 Z\" fill=\"#000000\" fill-rule=\"evenodd\" fill-opacity=\"1\" /><path clip-path=\"url(#clip230)\" d=\"M81.0614 752.309 L99.4178 752.309 L99.4178 756.244 L85.3438 756.244 L85.3438 764.716 Q86.3623 764.369 87.3808 764.207 Q88.3993 764.022 89.4178 764.022 Q95.2049 764.022 98.5845 767.193 Q101.964 770.364 101.964 775.781 Q101.964 781.36 98.4919 784.461 Q95.0197 787.54 88.7003 787.54 Q86.5243 787.54 84.2558 787.17 Q82.0105 786.799 79.6031 786.059 L79.6031 781.36 Q81.6864 782.494 83.9086 783.049 Q86.1308 783.605 88.6077 783.605 Q92.6123 783.605 94.9502 781.499 Q97.2882 779.392 97.2882 775.781 Q97.2882 772.17 94.9502 770.063 Q92.6123 767.957 88.6077 767.957 Q86.7327 767.957 84.8577 768.374 Q83.0058 768.79 81.0614 769.67 L81.0614 752.309 Z\" fill=\"#000000\" fill-rule=\"evenodd\" fill-opacity=\"1\" /><path clip-path=\"url(#clip230)\" d=\"M121.177 755.388 Q117.566 755.388 115.737 758.952 Q113.932 762.494 113.932 769.624 Q113.932 776.73 115.737 780.295 Q117.566 783.837 121.177 783.837 Q124.811 783.837 126.617 780.295 Q128.445 776.73 128.445 769.624 Q128.445 762.494 126.617 758.952 Q124.811 755.388 121.177 755.388 M121.177 751.684 Q126.987 751.684 130.043 756.29 Q133.121 760.874 133.121 769.624 Q133.121 778.35 130.043 782.957 Q126.987 787.54 121.177 787.54 Q115.367 787.54 112.288 782.957 Q109.233 778.35 109.233 769.624 Q109.233 760.874 112.288 756.29 Q115.367 751.684 121.177 751.684 Z\" fill=\"#000000\" fill-rule=\"evenodd\" fill-opacity=\"1\" /><path clip-path=\"url(#clip230)\" d=\"M151.339 755.388 Q147.728 755.388 145.899 758.952 Q144.093 762.494 144.093 769.624 Q144.093 776.73 145.899 780.295 Q147.728 783.837 151.339 783.837 Q154.973 783.837 156.779 780.295 Q158.607 776.73 158.607 769.624 Q158.607 762.494 156.779 758.952 Q154.973 755.388 151.339 755.388 M151.339 751.684 Q157.149 751.684 160.205 756.29 Q163.283 760.874 163.283 769.624 Q163.283 778.35 160.205 782.957 Q157.149 787.54 151.339 787.54 Q145.529 787.54 142.45 782.957 Q139.394 778.35 139.394 769.624 Q139.394 760.874 142.45 756.29 Q145.529 751.684 151.339 751.684 Z\" fill=\"#000000\" fill-rule=\"evenodd\" fill-opacity=\"1\" /><path clip-path=\"url(#clip230)\" d=\"M79.8346 409.445 L102.057 409.445 L102.057 411.436 L89.5104 444.005 L84.6262 444.005 L96.4317 413.381 L79.8346 413.381 L79.8346 409.445 Z\" fill=\"#000000\" fill-rule=\"evenodd\" fill-opacity=\"1\" /><path clip-path=\"url(#clip230)\" d=\"M111.223 409.445 L129.58 409.445 L129.58 413.381 L115.506 413.381 L115.506 421.853 Q116.524 421.506 117.543 421.343 Q118.561 421.158 119.58 421.158 Q125.367 421.158 128.746 424.33 Q132.126 427.501 132.126 432.918 Q132.126 438.496 128.654 441.598 Q125.182 444.677 118.862 444.677 Q116.686 444.677 114.418 444.306 Q112.172 443.936 109.765 443.195 L109.765 438.496 Q111.848 439.63 114.07 440.186 Q116.293 440.742 118.77 440.742 Q122.774 440.742 125.112 438.635 Q127.45 436.529 127.45 432.918 Q127.45 429.306 125.112 427.2 Q122.774 425.093 118.77 425.093 Q116.895 425.093 115.02 425.51 Q113.168 425.927 111.223 426.806 L111.223 409.445 Z\" fill=\"#000000\" fill-rule=\"evenodd\" fill-opacity=\"1\" /><path clip-path=\"url(#clip230)\" d=\"M151.339 412.524 Q147.728 412.524 145.899 416.089 Q144.093 419.631 144.093 426.76 Q144.093 433.867 145.899 437.431 Q147.728 440.973 151.339 440.973 Q154.973 440.973 156.779 437.431 Q158.607 433.867 158.607 426.76 Q158.607 419.631 156.779 416.089 Q154.973 412.524 151.339 412.524 M151.339 408.82 Q157.149 408.82 160.205 413.427 Q163.283 418.01 163.283 426.76 Q163.283 435.487 160.205 440.093 Q157.149 444.677 151.339 444.677 Q145.529 444.677 142.45 440.093 Q139.394 435.487 139.394 426.76 Q139.394 418.01 142.45 413.427 Q145.529 408.82 151.339 408.82 Z\" fill=\"#000000\" fill-rule=\"evenodd\" fill-opacity=\"1\" /><path clip-path=\"url(#clip230)\" d=\"M51.6634 97.2068 L59.3023 97.2068 L59.3023 70.8412 L50.9921 72.5078 L50.9921 68.2486 L59.256 66.5819 L63.9319 66.5819 L63.9319 97.2068 L71.5707 97.2068 L71.5707 101.142 L51.6634 101.142 L51.6634 97.2068 Z\" fill=\"#000000\" fill-rule=\"evenodd\" fill-opacity=\"1\" /><path clip-path=\"url(#clip230)\" d=\"M91.0151 69.6606 Q87.404 69.6606 85.5753 73.2254 Q83.7697 76.767 83.7697 83.8966 Q83.7697 91.0031 85.5753 94.5679 Q87.404 98.1095 91.0151 98.1095 Q94.6493 98.1095 96.4548 94.5679 Q98.2835 91.0031 98.2835 83.8966 Q98.2835 76.767 96.4548 73.2254 Q94.6493 69.6606 91.0151 69.6606 M91.0151 65.9569 Q96.8252 65.9569 99.8808 70.5634 Q102.959 75.1467 102.959 83.8966 Q102.959 92.6234 99.8808 97.2299 Q96.8252 101.813 91.0151 101.813 Q85.2049 101.813 82.1262 97.2299 Q79.0707 92.6234 79.0707 83.8966 Q79.0707 75.1467 82.1262 70.5634 Q85.2049 65.9569 91.0151 65.9569 Z\" fill=\"#000000\" fill-rule=\"evenodd\" fill-opacity=\"1\" /><path clip-path=\"url(#clip230)\" d=\"M121.177 69.6606 Q117.566 69.6606 115.737 73.2254 Q113.932 76.767 113.932 83.8966 Q113.932 91.0031 115.737 94.5679 Q117.566 98.1095 121.177 98.1095 Q124.811 98.1095 126.617 94.5679 Q128.445 91.0031 128.445 83.8966 Q128.445 76.767 126.617 73.2254 Q124.811 69.6606 121.177 69.6606 M121.177 65.9569 Q126.987 65.9569 130.043 70.5634 Q133.121 75.1467 133.121 83.8966 Q133.121 92.6234 130.043 97.2299 Q126.987 101.813 121.177 101.813 Q115.367 101.813 112.288 97.2299 Q109.233 92.6234 109.233 83.8966 Q109.233 75.1467 112.288 70.5634 Q115.367 65.9569 121.177 65.9569 Z\" fill=\"#000000\" fill-rule=\"evenodd\" fill-opacity=\"1\" /><path clip-path=\"url(#clip230)\" d=\"M151.339 69.6606 Q147.728 69.6606 145.899 73.2254 Q144.093 76.767 144.093 83.8966 Q144.093 91.0031 145.899 94.5679 Q147.728 98.1095 151.339 98.1095 Q154.973 98.1095 156.779 94.5679 Q158.607 91.0031 158.607 83.8966 Q158.607 76.767 156.779 73.2254 Q154.973 69.6606 151.339 69.6606 M151.339 65.9569 Q157.149 65.9569 160.205 70.5634 Q163.283 75.1467 163.283 83.8966 Q163.283 92.6234 160.205 97.2299 Q157.149 101.813 151.339 101.813 Q145.529 101.813 142.45 97.2299 Q139.394 92.6234 139.394 83.8966 Q139.394 75.1467 142.45 70.5634 Q145.529 65.9569 151.339 65.9569 Z\" fill=\"#000000\" fill-rule=\"evenodd\" fill-opacity=\"1\" /><polyline clip-path=\"url(#clip232)\" style=\"stroke:#009af9; stroke-linecap:round; stroke-linejoin:round; stroke-width:4; stroke-opacity:1; fill:none\" points=\"\n  558.343,662.615 632.871,853.248 \n  \"/>\n<polyline clip-path=\"url(#clip232)\" style=\"stroke:#e26f46; stroke-linecap:round; stroke-linejoin:round; stroke-width:4; stroke-opacity:1; fill:none\" points=\"\n  1173.89,456.897 746.043,518.613 \n  \"/>\n<polyline clip-path=\"url(#clip232)\" style=\"stroke:#3da44d; stroke-linecap:round; stroke-linejoin:round; stroke-width:4; stroke-opacity:1; fill:none\" points=\"\n  260.231,1445.72 2128.95,1182.4 \n  \"/>\n<polyline clip-path=\"url(#clip232)\" style=\"stroke:#c271d2; stroke-linecap:round; stroke-linejoin:round; stroke-width:4; stroke-opacity:1; fill:none\" points=\"\n  2128.95,1182.4 1855.68,566.614 \n  \"/>\n<polyline clip-path=\"url(#clip232)\" style=\"stroke:#ac8d18; stroke-linecap:round; stroke-linejoin:round; stroke-width:4; stroke-opacity:1; fill:none\" points=\"\n  632.871,853.248 260.231,1445.72 \n  \"/>\n<polyline clip-path=\"url(#clip232)\" style=\"stroke:#00a9ad; stroke-linecap:round; stroke-linejoin:round; stroke-width:4; stroke-opacity:1; fill:none\" points=\"\n  746.043,518.613 558.343,662.615 \n  \"/>\n<polyline clip-path=\"url(#clip232)\" style=\"stroke:#ed5d92; stroke-linecap:round; stroke-linejoin:round; stroke-width:4; stroke-opacity:1; fill:none\" points=\"\n  2291.81,142.834 1022.07,87.9763 \n  \"/>\n<polyline clip-path=\"url(#clip232)\" style=\"stroke:#c68125; stroke-linecap:round; stroke-linejoin:round; stroke-width:4; stroke-opacity:1; fill:none\" points=\"\n  1855.68,566.614 1725.95,428.097 \n  \"/>\n<polyline clip-path=\"url(#clip232)\" style=\"stroke:#00a98d; stroke-linecap:round; stroke-linejoin:round; stroke-width:4; stroke-opacity:1; fill:none\" points=\"\n  1022.07,87.9763 1173.89,456.897 \n  \"/>\n<polyline clip-path=\"url(#clip232)\" style=\"stroke:#8e971d; stroke-linecap:round; stroke-linejoin:round; stroke-width:4; stroke-opacity:1; fill:none\" points=\"\n  1725.95,428.097 2291.81,142.834 \n  \"/>\n</svg>\n"
          },
          "metadata": {}
        },
        {
          "output_type": "stream",
          "name": "stdout",
          "text": [
            "Lower bound : 3185.0\n",
            "Iterations=1  Cuts=0   Time=0.0003769397735595703\n",
            "Optval: 3185.0    ;   Solution: [1, 5, 3, 4, 8, 10, 7, 9, 2, 6, 1]\n"
          ]
        }
      ]
    },
    {
      "cell_type": "markdown",
      "source": [
        "Por último, veamos el modelo más eficiente, que consiste en introducir los mismos cortes pero no sólo sobre soluciones enteras inválidas sino también sobre soluciones fraccionarias que las necesiten. Esta metodología de resolución se conoce genéricamente como *Branch-and-Cut*."
      ],
      "metadata": {
        "id": "mr-i63OVsI4H"
      }
    },
    {
      "cell_type": "code",
      "source": [
        "N, coord,cost = readRandomInstance(50)"
      ],
      "metadata": {
        "colab": {
          "base_uri": "https://localhost:8080/"
        },
        "id": "-09l_5es9U5R",
        "outputId": "281d191c-9bdf-4d9b-adf8-13005ec4ceca"
      },
      "execution_count": null,
      "outputs": [
        {
          "output_type": "execute_result",
          "data": {
            "text/plain": [
              "(50, [326 442; 549 885; … ; 854 492; 706 933], Int32[0 496 … 530 621; 496 0 … 497 164; … ; 530 497 … 0 465; 621 164 … 465 0])"
            ]
          },
          "metadata": {},
          "execution_count": 48
        }
      ]
    },
    {
      "cell_type": "code",
      "source": [
        "SolveATSPcut()"
      ],
      "metadata": {
        "colab": {
          "base_uri": "https://localhost:8080/",
          "height": 1000
        },
        "id": "Ij9Ovriw9XmZ",
        "outputId": "f6d8a989-93fd-4af8-f952-976534fa9299"
      },
      "execution_count": null,
      "outputs": [
        {
          "output_type": "display_data",
          "data": {
            "image/svg+xml": "<?xml version=\"1.0\" encoding=\"utf-8\"?>\n<svg xmlns=\"http://www.w3.org/2000/svg\" xmlns:xlink=\"http://www.w3.org/1999/xlink\" width=\"600\" height=\"400\" viewBox=\"0 0 2400 1600\">\n<defs>\n  <clipPath id=\"clip310\">\n    <rect x=\"0\" y=\"0\" width=\"2400\" height=\"1600\"/>\n  </clipPath>\n</defs>\n<path clip-path=\"url(#clip310)\" d=\"\nM0 1600 L2400 1600 L2400 0 L0 0  Z\n  \" fill=\"#ffffff\" fill-rule=\"evenodd\" fill-opacity=\"1\"/>\n<defs>\n  <clipPath id=\"clip311\">\n    <rect x=\"480\" y=\"0\" width=\"1681\" height=\"1600\"/>\n  </clipPath>\n</defs>\n<path clip-path=\"url(#clip310)\" d=\"\nM199.283 1486.45 L2352.76 1486.45 L2352.76 47.2441 L199.283 47.2441  Z\n  \" fill=\"#ffffff\" fill-rule=\"evenodd\" fill-opacity=\"1\"/>\n<defs>\n  <clipPath id=\"clip312\">\n    <rect x=\"199\" y=\"47\" width=\"2154\" height=\"1440\"/>\n  </clipPath>\n</defs>\n<polyline clip-path=\"url(#clip312)\" style=\"stroke:#000000; stroke-linecap:round; stroke-linejoin:round; stroke-width:2; stroke-opacity:0.1; fill:none\" points=\"\n  245.866,1486.45 245.866,47.2441 \n  \"/>\n<polyline clip-path=\"url(#clip312)\" style=\"stroke:#000000; stroke-linecap:round; stroke-linejoin:round; stroke-width:2; stroke-opacity:0.1; fill:none\" points=\"\n  758.891,1486.45 758.891,47.2441 \n  \"/>\n<polyline clip-path=\"url(#clip312)\" style=\"stroke:#000000; stroke-linecap:round; stroke-linejoin:round; stroke-width:2; stroke-opacity:0.1; fill:none\" points=\"\n  1271.92,1486.45 1271.92,47.2441 \n  \"/>\n<polyline clip-path=\"url(#clip312)\" style=\"stroke:#000000; stroke-linecap:round; stroke-linejoin:round; stroke-width:2; stroke-opacity:0.1; fill:none\" points=\"\n  1784.94,1486.45 1784.94,47.2441 \n  \"/>\n<polyline clip-path=\"url(#clip312)\" style=\"stroke:#000000; stroke-linecap:round; stroke-linejoin:round; stroke-width:2; stroke-opacity:0.1; fill:none\" points=\"\n  2297.96,1486.45 2297.96,47.2441 \n  \"/>\n<polyline clip-path=\"url(#clip310)\" style=\"stroke:#000000; stroke-linecap:round; stroke-linejoin:round; stroke-width:4; stroke-opacity:1; fill:none\" points=\"\n  199.283,1486.45 2352.76,1486.45 \n  \"/>\n<polyline clip-path=\"url(#clip310)\" style=\"stroke:#000000; stroke-linecap:round; stroke-linejoin:round; stroke-width:4; stroke-opacity:1; fill:none\" points=\"\n  245.866,1486.45 245.866,1467.55 \n  \"/>\n<polyline clip-path=\"url(#clip310)\" style=\"stroke:#000000; stroke-linecap:round; stroke-linejoin:round; stroke-width:4; stroke-opacity:1; fill:none\" points=\"\n  758.891,1486.45 758.891,1467.55 \n  \"/>\n<polyline clip-path=\"url(#clip310)\" style=\"stroke:#000000; stroke-linecap:round; stroke-linejoin:round; stroke-width:4; stroke-opacity:1; fill:none\" points=\"\n  1271.92,1486.45 1271.92,1467.55 \n  \"/>\n<polyline clip-path=\"url(#clip310)\" style=\"stroke:#000000; stroke-linecap:round; stroke-linejoin:round; stroke-width:4; stroke-opacity:1; fill:none\" points=\"\n  1784.94,1486.45 1784.94,1467.55 \n  \"/>\n<polyline clip-path=\"url(#clip310)\" style=\"stroke:#000000; stroke-linecap:round; stroke-linejoin:round; stroke-width:4; stroke-opacity:1; fill:none\" points=\"\n  2297.96,1486.45 2297.96,1467.55 \n  \"/>\n<path clip-path=\"url(#clip310)\" d=\"M245.866 1517.37 Q242.255 1517.37 240.426 1520.93 Q238.621 1524.47 238.621 1531.6 Q238.621 1538.71 240.426 1542.27 Q242.255 1545.82 245.866 1545.82 Q249.5 1545.82 251.306 1542.27 Q253.134 1538.71 253.134 1531.6 Q253.134 1524.47 251.306 1520.93 Q249.5 1517.37 245.866 1517.37 M245.866 1513.66 Q251.676 1513.66 254.732 1518.27 Q257.81 1522.85 257.81 1531.6 Q257.81 1540.33 254.732 1544.94 Q251.676 1549.52 245.866 1549.52 Q240.056 1549.52 236.977 1544.94 Q233.921 1540.33 233.921 1531.6 Q233.921 1522.85 236.977 1518.27 Q240.056 1513.66 245.866 1513.66 Z\" fill=\"#000000\" fill-rule=\"evenodd\" fill-opacity=\"1\" /><path clip-path=\"url(#clip310)\" d=\"M722.583 1544.91 L738.902 1544.91 L738.902 1548.85 L716.958 1548.85 L716.958 1544.91 Q719.62 1542.16 724.203 1537.53 Q728.81 1532.88 729.99 1531.53 Q732.236 1529.01 733.115 1527.27 Q734.018 1525.51 734.018 1523.82 Q734.018 1521.07 732.074 1519.33 Q730.152 1517.6 727.05 1517.6 Q724.851 1517.6 722.398 1518.36 Q719.967 1519.13 717.189 1520.68 L717.189 1515.95 Q720.013 1514.82 722.467 1514.24 Q724.921 1513.66 726.958 1513.66 Q732.328 1513.66 735.523 1516.35 Q738.717 1519.03 738.717 1523.52 Q738.717 1525.65 737.907 1527.57 Q737.12 1529.47 735.013 1532.07 Q734.435 1532.74 731.333 1535.95 Q728.231 1539.15 722.583 1544.91 Z\" fill=\"#000000\" fill-rule=\"evenodd\" fill-opacity=\"1\" /><path clip-path=\"url(#clip310)\" d=\"M748.763 1514.29 L767.12 1514.29 L767.12 1518.22 L753.046 1518.22 L753.046 1526.7 Q754.064 1526.35 755.083 1526.19 Q756.101 1526 757.12 1526 Q762.907 1526 766.286 1529.17 Q769.666 1532.34 769.666 1537.76 Q769.666 1543.34 766.194 1546.44 Q762.722 1549.52 756.402 1549.52 Q754.226 1549.52 751.958 1549.15 Q749.712 1548.78 747.305 1548.04 L747.305 1543.34 Q749.388 1544.47 751.611 1545.03 Q753.833 1545.58 756.31 1545.58 Q760.314 1545.58 762.652 1543.48 Q764.99 1541.37 764.99 1537.76 Q764.99 1534.15 762.652 1532.04 Q760.314 1529.94 756.31 1529.94 Q754.435 1529.94 752.56 1530.35 Q750.708 1530.77 748.763 1531.65 L748.763 1514.29 Z\" fill=\"#000000\" fill-rule=\"evenodd\" fill-opacity=\"1\" /><path clip-path=\"url(#clip310)\" d=\"M788.879 1517.37 Q785.268 1517.37 783.439 1520.93 Q781.634 1524.47 781.634 1531.6 Q781.634 1538.71 783.439 1542.27 Q785.268 1545.82 788.879 1545.82 Q792.513 1545.82 794.319 1542.27 Q796.147 1538.71 796.147 1531.6 Q796.147 1524.47 794.319 1520.93 Q792.513 1517.37 788.879 1517.37 M788.879 1513.66 Q794.689 1513.66 797.745 1518.27 Q800.823 1522.85 800.823 1531.6 Q800.823 1540.33 797.745 1544.94 Q794.689 1549.52 788.879 1549.52 Q783.069 1549.52 779.99 1544.94 Q776.934 1540.33 776.934 1531.6 Q776.934 1522.85 779.99 1518.27 Q783.069 1513.66 788.879 1513.66 Z\" fill=\"#000000\" fill-rule=\"evenodd\" fill-opacity=\"1\" /><path clip-path=\"url(#clip310)\" d=\"M1231.53 1514.29 L1249.89 1514.29 L1249.89 1518.22 L1235.82 1518.22 L1235.82 1526.7 Q1236.83 1526.35 1237.85 1526.19 Q1238.87 1526 1239.89 1526 Q1245.68 1526 1249.06 1529.17 Q1252.44 1532.34 1252.44 1537.76 Q1252.44 1543.34 1248.96 1546.44 Q1245.49 1549.52 1239.17 1549.52 Q1237 1549.52 1234.73 1549.15 Q1232.48 1548.78 1230.08 1548.04 L1230.08 1543.34 Q1232.16 1544.47 1234.38 1545.03 Q1236.6 1545.58 1239.08 1545.58 Q1243.08 1545.58 1245.42 1543.48 Q1247.76 1541.37 1247.76 1537.76 Q1247.76 1534.15 1245.42 1532.04 Q1243.08 1529.94 1239.08 1529.94 Q1237.2 1529.94 1235.33 1530.35 Q1233.48 1530.77 1231.53 1531.65 L1231.53 1514.29 Z\" fill=\"#000000\" fill-rule=\"evenodd\" fill-opacity=\"1\" /><path clip-path=\"url(#clip310)\" d=\"M1271.65 1517.37 Q1268.04 1517.37 1266.21 1520.93 Q1264.4 1524.47 1264.4 1531.6 Q1264.4 1538.71 1266.21 1542.27 Q1268.04 1545.82 1271.65 1545.82 Q1275.28 1545.82 1277.09 1542.27 Q1278.92 1538.71 1278.92 1531.6 Q1278.92 1524.47 1277.09 1520.93 Q1275.28 1517.37 1271.65 1517.37 M1271.65 1513.66 Q1277.46 1513.66 1280.51 1518.27 Q1283.59 1522.85 1283.59 1531.6 Q1283.59 1540.33 1280.51 1544.94 Q1277.46 1549.52 1271.65 1549.52 Q1265.84 1549.52 1262.76 1544.94 Q1259.7 1540.33 1259.7 1531.6 Q1259.7 1522.85 1262.76 1518.27 Q1265.84 1513.66 1271.65 1513.66 Z\" fill=\"#000000\" fill-rule=\"evenodd\" fill-opacity=\"1\" /><path clip-path=\"url(#clip310)\" d=\"M1301.81 1517.37 Q1298.2 1517.37 1296.37 1520.93 Q1294.57 1524.47 1294.57 1531.6 Q1294.57 1538.71 1296.37 1542.27 Q1298.2 1545.82 1301.81 1545.82 Q1305.45 1545.82 1307.25 1542.27 Q1309.08 1538.71 1309.08 1531.6 Q1309.08 1524.47 1307.25 1520.93 Q1305.45 1517.37 1301.81 1517.37 M1301.81 1513.66 Q1307.62 1513.66 1310.68 1518.27 Q1313.76 1522.85 1313.76 1531.6 Q1313.76 1540.33 1310.68 1544.94 Q1307.62 1549.52 1301.81 1549.52 Q1296 1549.52 1292.92 1544.94 Q1289.87 1540.33 1289.87 1531.6 Q1289.87 1522.85 1292.92 1518.27 Q1296 1513.66 1301.81 1513.66 Z\" fill=\"#000000\" fill-rule=\"evenodd\" fill-opacity=\"1\" /><path clip-path=\"url(#clip310)\" d=\"M1743.22 1514.29 L1765.44 1514.29 L1765.44 1516.28 L1752.89 1548.85 L1748.01 1548.85 L1759.81 1518.22 L1743.22 1518.22 L1743.22 1514.29 Z\" fill=\"#000000\" fill-rule=\"evenodd\" fill-opacity=\"1\" /><path clip-path=\"url(#clip310)\" d=\"M1774.6 1514.29 L1792.96 1514.29 L1792.96 1518.22 L1778.89 1518.22 L1778.89 1526.7 Q1779.91 1526.35 1780.92 1526.19 Q1781.94 1526 1782.96 1526 Q1788.75 1526 1792.13 1529.17 Q1795.51 1532.34 1795.51 1537.76 Q1795.51 1543.34 1792.03 1546.44 Q1788.56 1549.52 1782.24 1549.52 Q1780.07 1549.52 1777.8 1549.15 Q1775.55 1548.78 1773.15 1548.04 L1773.15 1543.34 Q1775.23 1544.47 1777.45 1545.03 Q1779.67 1545.58 1782.15 1545.58 Q1786.16 1545.58 1788.49 1543.48 Q1790.83 1541.37 1790.83 1537.76 Q1790.83 1534.15 1788.49 1532.04 Q1786.16 1529.94 1782.15 1529.94 Q1780.28 1529.94 1778.4 1530.35 Q1776.55 1530.77 1774.6 1531.65 L1774.6 1514.29 Z\" fill=\"#000000\" fill-rule=\"evenodd\" fill-opacity=\"1\" /><path clip-path=\"url(#clip310)\" d=\"M1814.72 1517.37 Q1811.11 1517.37 1809.28 1520.93 Q1807.47 1524.47 1807.47 1531.6 Q1807.47 1538.71 1809.28 1542.27 Q1811.11 1545.82 1814.72 1545.82 Q1818.35 1545.82 1820.16 1542.27 Q1821.99 1538.71 1821.99 1531.6 Q1821.99 1524.47 1820.16 1520.93 Q1818.35 1517.37 1814.72 1517.37 M1814.72 1513.66 Q1820.53 1513.66 1823.59 1518.27 Q1826.66 1522.85 1826.66 1531.6 Q1826.66 1540.33 1823.59 1544.94 Q1820.53 1549.52 1814.72 1549.52 Q1808.91 1549.52 1805.83 1544.94 Q1802.78 1540.33 1802.78 1531.6 Q1802.78 1522.85 1805.83 1518.27 Q1808.91 1513.66 1814.72 1513.66 Z\" fill=\"#000000\" fill-rule=\"evenodd\" fill-opacity=\"1\" /><path clip-path=\"url(#clip310)\" d=\"M2242.49 1544.91 L2250.13 1544.91 L2250.13 1518.55 L2241.82 1520.21 L2241.82 1515.95 L2250.08 1514.29 L2254.76 1514.29 L2254.76 1544.91 L2262.4 1544.91 L2262.4 1548.85 L2242.49 1548.85 L2242.49 1544.91 Z\" fill=\"#000000\" fill-rule=\"evenodd\" fill-opacity=\"1\" /><path clip-path=\"url(#clip310)\" d=\"M2281.84 1517.37 Q2278.23 1517.37 2276.4 1520.93 Q2274.6 1524.47 2274.6 1531.6 Q2274.6 1538.71 2276.4 1542.27 Q2278.23 1545.82 2281.84 1545.82 Q2285.48 1545.82 2287.28 1542.27 Q2289.11 1538.71 2289.11 1531.6 Q2289.11 1524.47 2287.28 1520.93 Q2285.48 1517.37 2281.84 1517.37 M2281.84 1513.66 Q2287.65 1513.66 2290.71 1518.27 Q2293.79 1522.85 2293.79 1531.6 Q2293.79 1540.33 2290.71 1544.94 Q2287.65 1549.52 2281.84 1549.52 Q2276.03 1549.52 2272.95 1544.94 Q2269.9 1540.33 2269.9 1531.6 Q2269.9 1522.85 2272.95 1518.27 Q2276.03 1513.66 2281.84 1513.66 Z\" fill=\"#000000\" fill-rule=\"evenodd\" fill-opacity=\"1\" /><path clip-path=\"url(#clip310)\" d=\"M2312 1517.37 Q2308.39 1517.37 2306.56 1520.93 Q2304.76 1524.47 2304.76 1531.6 Q2304.76 1538.71 2306.56 1542.27 Q2308.39 1545.82 2312 1545.82 Q2315.64 1545.82 2317.44 1542.27 Q2319.27 1538.71 2319.27 1531.6 Q2319.27 1524.47 2317.44 1520.93 Q2315.64 1517.37 2312 1517.37 M2312 1513.66 Q2317.81 1513.66 2320.87 1518.27 Q2323.95 1522.85 2323.95 1531.6 Q2323.95 1540.33 2320.87 1544.94 Q2317.81 1549.52 2312 1549.52 Q2306.19 1549.52 2303.12 1544.94 Q2300.06 1540.33 2300.06 1531.6 Q2300.06 1522.85 2303.12 1518.27 Q2306.19 1513.66 2312 1513.66 Z\" fill=\"#000000\" fill-rule=\"evenodd\" fill-opacity=\"1\" /><path clip-path=\"url(#clip310)\" d=\"M2342.17 1517.37 Q2338.55 1517.37 2336.73 1520.93 Q2334.92 1524.47 2334.92 1531.6 Q2334.92 1538.71 2336.73 1542.27 Q2338.55 1545.82 2342.17 1545.82 Q2345.8 1545.82 2347.61 1542.27 Q2349.43 1538.71 2349.43 1531.6 Q2349.43 1524.47 2347.61 1520.93 Q2345.8 1517.37 2342.17 1517.37 M2342.17 1513.66 Q2347.98 1513.66 2351.03 1518.27 Q2354.11 1522.85 2354.11 1531.6 Q2354.11 1540.33 2351.03 1544.94 Q2347.98 1549.52 2342.17 1549.52 Q2336.36 1549.52 2333.28 1544.94 Q2330.22 1540.33 2330.22 1531.6 Q2330.22 1522.85 2333.28 1518.27 Q2336.36 1513.66 2342.17 1513.66 Z\" fill=\"#000000\" fill-rule=\"evenodd\" fill-opacity=\"1\" /><polyline clip-path=\"url(#clip312)\" style=\"stroke:#000000; stroke-linecap:round; stroke-linejoin:round; stroke-width:2; stroke-opacity:0.1; fill:none\" points=\"\n  199.283,1448.5 2352.76,1448.5 \n  \"/>\n<polyline clip-path=\"url(#clip312)\" style=\"stroke:#000000; stroke-linecap:round; stroke-linejoin:round; stroke-width:2; stroke-opacity:0.1; fill:none\" points=\"\n  199.283,1100.36 2352.76,1100.36 \n  \"/>\n<polyline clip-path=\"url(#clip312)\" style=\"stroke:#000000; stroke-linecap:round; stroke-linejoin:round; stroke-width:2; stroke-opacity:0.1; fill:none\" points=\"\n  199.283,752.224 2352.76,752.224 \n  \"/>\n<polyline clip-path=\"url(#clip312)\" style=\"stroke:#000000; stroke-linecap:round; stroke-linejoin:round; stroke-width:2; stroke-opacity:0.1; fill:none\" points=\"\n  199.283,404.086 2352.76,404.086 \n  \"/>\n<polyline clip-path=\"url(#clip312)\" style=\"stroke:#000000; stroke-linecap:round; stroke-linejoin:round; stroke-width:2; stroke-opacity:0.1; fill:none\" points=\"\n  199.283,55.9476 2352.76,55.9476 \n  \"/>\n<polyline clip-path=\"url(#clip310)\" style=\"stroke:#000000; stroke-linecap:round; stroke-linejoin:round; stroke-width:4; stroke-opacity:1; fill:none\" points=\"\n  199.283,1486.45 199.283,47.2441 \n  \"/>\n<polyline clip-path=\"url(#clip310)\" style=\"stroke:#000000; stroke-linecap:round; stroke-linejoin:round; stroke-width:4; stroke-opacity:1; fill:none\" points=\"\n  199.283,1448.5 218.181,1448.5 \n  \"/>\n<polyline clip-path=\"url(#clip310)\" style=\"stroke:#000000; stroke-linecap:round; stroke-linejoin:round; stroke-width:4; stroke-opacity:1; fill:none\" points=\"\n  199.283,1100.36 218.181,1100.36 \n  \"/>\n<polyline clip-path=\"url(#clip310)\" style=\"stroke:#000000; stroke-linecap:round; stroke-linejoin:round; stroke-width:4; stroke-opacity:1; fill:none\" points=\"\n  199.283,752.224 218.181,752.224 \n  \"/>\n<polyline clip-path=\"url(#clip310)\" style=\"stroke:#000000; stroke-linecap:round; stroke-linejoin:round; stroke-width:4; stroke-opacity:1; fill:none\" points=\"\n  199.283,404.086 218.181,404.086 \n  \"/>\n<polyline clip-path=\"url(#clip310)\" style=\"stroke:#000000; stroke-linecap:round; stroke-linejoin:round; stroke-width:4; stroke-opacity:1; fill:none\" points=\"\n  199.283,55.9476 218.181,55.9476 \n  \"/>\n<path clip-path=\"url(#clip310)\" d=\"M151.339 1434.3 Q147.728 1434.3 145.899 1437.86 Q144.093 1441.41 144.093 1448.54 Q144.093 1455.64 145.899 1459.21 Q147.728 1462.75 151.339 1462.75 Q154.973 1462.75 156.779 1459.21 Q158.607 1455.64 158.607 1448.54 Q158.607 1441.41 156.779 1437.86 Q154.973 1434.3 151.339 1434.3 M151.339 1430.6 Q157.149 1430.6 160.205 1435.2 Q163.283 1439.79 163.283 1448.54 Q163.283 1457.26 160.205 1461.87 Q157.149 1466.45 151.339 1466.45 Q145.529 1466.45 142.45 1461.87 Q139.394 1457.26 139.394 1448.54 Q139.394 1439.79 142.45 1435.2 Q145.529 1430.6 151.339 1430.6 Z\" fill=\"#000000\" fill-rule=\"evenodd\" fill-opacity=\"1\" /><path clip-path=\"url(#clip310)\" d=\"M85.0429 1113.71 L101.362 1113.71 L101.362 1117.64 L79.4179 1117.64 L79.4179 1113.71 Q82.0799 1110.95 86.6632 1106.32 Q91.2697 1101.67 92.4502 1100.33 Q94.6956 1097.8 95.5752 1096.07 Q96.478 1094.31 96.478 1092.62 Q96.478 1089.86 94.5336 1088.13 Q92.6123 1086.39 89.5104 1086.39 Q87.3114 1086.39 84.8577 1087.16 Q82.4271 1087.92 79.6494 1089.47 L79.6494 1084.75 Q82.4734 1083.61 84.9271 1083.04 Q87.3808 1082.46 89.4178 1082.46 Q94.7882 1082.46 97.9826 1085.14 Q101.177 1087.83 101.177 1092.32 Q101.177 1094.45 100.367 1096.37 Q99.5798 1098.27 97.4734 1100.86 Q96.8947 1101.53 93.7928 1104.75 Q90.691 1107.94 85.0429 1113.71 Z\" fill=\"#000000\" fill-rule=\"evenodd\" fill-opacity=\"1\" /><path clip-path=\"url(#clip310)\" d=\"M111.223 1083.08 L129.58 1083.08 L129.58 1087.02 L115.506 1087.02 L115.506 1095.49 Q116.524 1095.14 117.543 1094.98 Q118.561 1094.8 119.58 1094.8 Q125.367 1094.8 128.746 1097.97 Q132.126 1101.14 132.126 1106.55 Q132.126 1112.13 128.654 1115.24 Q125.182 1118.31 118.862 1118.31 Q116.686 1118.31 114.418 1117.94 Q112.172 1117.57 109.765 1116.83 L109.765 1112.13 Q111.848 1113.27 114.07 1113.82 Q116.293 1114.38 118.77 1114.38 Q122.774 1114.38 125.112 1112.27 Q127.45 1110.17 127.45 1106.55 Q127.45 1102.94 125.112 1100.84 Q122.774 1098.73 118.77 1098.73 Q116.895 1098.73 115.02 1099.15 Q113.168 1099.56 111.223 1100.44 L111.223 1083.08 Z\" fill=\"#000000\" fill-rule=\"evenodd\" fill-opacity=\"1\" /><path clip-path=\"url(#clip310)\" d=\"M151.339 1086.16 Q147.728 1086.16 145.899 1089.73 Q144.093 1093.27 144.093 1100.4 Q144.093 1107.5 145.899 1111.07 Q147.728 1114.61 151.339 1114.61 Q154.973 1114.61 156.779 1111.07 Q158.607 1107.5 158.607 1100.4 Q158.607 1093.27 156.779 1089.73 Q154.973 1086.16 151.339 1086.16 M151.339 1082.46 Q157.149 1082.46 160.205 1087.06 Q163.283 1091.65 163.283 1100.4 Q163.283 1109.12 160.205 1113.73 Q157.149 1118.31 151.339 1118.31 Q145.529 1118.31 142.45 1113.73 Q139.394 1109.12 139.394 1100.4 Q139.394 1091.65 142.45 1087.06 Q145.529 1082.46 151.339 1082.46 Z\" fill=\"#000000\" fill-rule=\"evenodd\" fill-opacity=\"1\" /><path clip-path=\"url(#clip310)\" d=\"M81.0614 734.944 L99.4178 734.944 L99.4178 738.879 L85.3438 738.879 L85.3438 747.352 Q86.3623 747.004 87.3808 746.842 Q88.3993 746.657 89.4178 746.657 Q95.2049 746.657 98.5845 749.828 Q101.964 753 101.964 758.416 Q101.964 763.995 98.4919 767.097 Q95.0197 770.175 88.7003 770.175 Q86.5243 770.175 84.2558 769.805 Q82.0105 769.435 79.6031 768.694 L79.6031 763.995 Q81.6864 765.129 83.9086 765.685 Q86.1308 766.24 88.6077 766.24 Q92.6123 766.24 94.9502 764.134 Q97.2882 762.027 97.2882 758.416 Q97.2882 754.805 94.9502 752.699 Q92.6123 750.592 88.6077 750.592 Q86.7327 750.592 84.8577 751.009 Q83.0058 751.426 81.0614 752.305 L81.0614 734.944 Z\" fill=\"#000000\" fill-rule=\"evenodd\" fill-opacity=\"1\" /><path clip-path=\"url(#clip310)\" d=\"M121.177 738.023 Q117.566 738.023 115.737 741.588 Q113.932 745.129 113.932 752.259 Q113.932 759.365 115.737 762.93 Q117.566 766.472 121.177 766.472 Q124.811 766.472 126.617 762.93 Q128.445 759.365 128.445 752.259 Q128.445 745.129 126.617 741.588 Q124.811 738.023 121.177 738.023 M121.177 734.319 Q126.987 734.319 130.043 738.926 Q133.121 743.509 133.121 752.259 Q133.121 760.986 130.043 765.592 Q126.987 770.175 121.177 770.175 Q115.367 770.175 112.288 765.592 Q109.233 760.986 109.233 752.259 Q109.233 743.509 112.288 738.926 Q115.367 734.319 121.177 734.319 Z\" fill=\"#000000\" fill-rule=\"evenodd\" fill-opacity=\"1\" /><path clip-path=\"url(#clip310)\" d=\"M151.339 738.023 Q147.728 738.023 145.899 741.588 Q144.093 745.129 144.093 752.259 Q144.093 759.365 145.899 762.93 Q147.728 766.472 151.339 766.472 Q154.973 766.472 156.779 762.93 Q158.607 759.365 158.607 752.259 Q158.607 745.129 156.779 741.588 Q154.973 738.023 151.339 738.023 M151.339 734.319 Q157.149 734.319 160.205 738.926 Q163.283 743.509 163.283 752.259 Q163.283 760.986 160.205 765.592 Q157.149 770.175 151.339 770.175 Q145.529 770.175 142.45 765.592 Q139.394 760.986 139.394 752.259 Q139.394 743.509 142.45 738.926 Q145.529 734.319 151.339 734.319 Z\" fill=\"#000000\" fill-rule=\"evenodd\" fill-opacity=\"1\" /><path clip-path=\"url(#clip310)\" d=\"M79.8346 386.806 L102.057 386.806 L102.057 388.797 L89.5104 421.366 L84.6262 421.366 L96.4317 390.741 L79.8346 390.741 L79.8346 386.806 Z\" fill=\"#000000\" fill-rule=\"evenodd\" fill-opacity=\"1\" /><path clip-path=\"url(#clip310)\" d=\"M111.223 386.806 L129.58 386.806 L129.58 390.741 L115.506 390.741 L115.506 399.213 Q116.524 398.866 117.543 398.704 Q118.561 398.519 119.58 398.519 Q125.367 398.519 128.746 401.69 Q132.126 404.861 132.126 410.278 Q132.126 415.857 128.654 418.958 Q125.182 422.037 118.862 422.037 Q116.686 422.037 114.418 421.667 Q112.172 421.296 109.765 420.556 L109.765 415.857 Q111.848 416.991 114.07 417.546 Q116.293 418.102 118.77 418.102 Q122.774 418.102 125.112 415.996 Q127.45 413.889 127.45 410.278 Q127.45 406.667 125.112 404.56 Q122.774 402.454 118.77 402.454 Q116.895 402.454 115.02 402.871 Q113.168 403.287 111.223 404.167 L111.223 386.806 Z\" fill=\"#000000\" fill-rule=\"evenodd\" fill-opacity=\"1\" /><path clip-path=\"url(#clip310)\" d=\"M151.339 389.885 Q147.728 389.885 145.899 393.449 Q144.093 396.991 144.093 404.121 Q144.093 411.227 145.899 414.792 Q147.728 418.333 151.339 418.333 Q154.973 418.333 156.779 414.792 Q158.607 411.227 158.607 404.121 Q158.607 396.991 156.779 393.449 Q154.973 389.885 151.339 389.885 M151.339 386.181 Q157.149 386.181 160.205 390.787 Q163.283 395.371 163.283 404.121 Q163.283 412.847 160.205 417.454 Q157.149 422.037 151.339 422.037 Q145.529 422.037 142.45 417.454 Q139.394 412.847 139.394 404.121 Q139.394 395.371 142.45 390.787 Q145.529 386.181 151.339 386.181 Z\" fill=\"#000000\" fill-rule=\"evenodd\" fill-opacity=\"1\" /><path clip-path=\"url(#clip310)\" d=\"M51.6634 69.2924 L59.3023 69.2924 L59.3023 42.9268 L50.9921 44.5934 L50.9921 40.3342 L59.256 38.6676 L63.9319 38.6676 L63.9319 69.2924 L71.5707 69.2924 L71.5707 73.2276 L51.6634 73.2276 L51.6634 69.2924 Z\" fill=\"#000000\" fill-rule=\"evenodd\" fill-opacity=\"1\" /><path clip-path=\"url(#clip310)\" d=\"M91.0151 41.7462 Q87.404 41.7462 85.5753 45.311 Q83.7697 48.8527 83.7697 55.9823 Q83.7697 63.0887 85.5753 66.6535 Q87.404 70.1952 91.0151 70.1952 Q94.6493 70.1952 96.4548 66.6535 Q98.2835 63.0887 98.2835 55.9823 Q98.2835 48.8527 96.4548 45.311 Q94.6493 41.7462 91.0151 41.7462 M91.0151 38.0426 Q96.8252 38.0426 99.8808 42.649 Q102.959 47.2323 102.959 55.9823 Q102.959 64.7091 99.8808 69.3155 Q96.8252 73.8988 91.0151 73.8988 Q85.2049 73.8988 82.1262 69.3155 Q79.0707 64.7091 79.0707 55.9823 Q79.0707 47.2323 82.1262 42.649 Q85.2049 38.0426 91.0151 38.0426 Z\" fill=\"#000000\" fill-rule=\"evenodd\" fill-opacity=\"1\" /><path clip-path=\"url(#clip310)\" d=\"M121.177 41.7462 Q117.566 41.7462 115.737 45.311 Q113.932 48.8527 113.932 55.9823 Q113.932 63.0887 115.737 66.6535 Q117.566 70.1952 121.177 70.1952 Q124.811 70.1952 126.617 66.6535 Q128.445 63.0887 128.445 55.9823 Q128.445 48.8527 126.617 45.311 Q124.811 41.7462 121.177 41.7462 M121.177 38.0426 Q126.987 38.0426 130.043 42.649 Q133.121 47.2323 133.121 55.9823 Q133.121 64.7091 130.043 69.3155 Q126.987 73.8988 121.177 73.8988 Q115.367 73.8988 112.288 69.3155 Q109.233 64.7091 109.233 55.9823 Q109.233 47.2323 112.288 42.649 Q115.367 38.0426 121.177 38.0426 Z\" fill=\"#000000\" fill-rule=\"evenodd\" fill-opacity=\"1\" /><path clip-path=\"url(#clip310)\" d=\"M151.339 41.7462 Q147.728 41.7462 145.899 45.311 Q144.093 48.8527 144.093 55.9823 Q144.093 63.0887 145.899 66.6535 Q147.728 70.1952 151.339 70.1952 Q154.973 70.1952 156.779 66.6535 Q158.607 63.0887 158.607 55.9823 Q158.607 48.8527 156.779 45.311 Q154.973 41.7462 151.339 41.7462 M151.339 38.0426 Q157.149 38.0426 160.205 42.649 Q163.283 47.2323 163.283 55.9823 Q163.283 64.7091 160.205 69.3155 Q157.149 73.8988 151.339 73.8988 Q145.529 73.8988 142.45 69.3155 Q139.394 64.7091 139.394 55.9823 Q139.394 47.2323 142.45 42.649 Q145.529 38.0426 151.339 38.0426 Z\" fill=\"#000000\" fill-rule=\"evenodd\" fill-opacity=\"1\" /><polyline clip-path=\"url(#clip312)\" style=\"stroke:#009af9; stroke-linecap:round; stroke-linejoin:round; stroke-width:4; stroke-opacity:1; fill:none\" points=\"\n  914.85,832.992 962.048,890.087 \n  \"/>\n<polyline clip-path=\"url(#clip312)\" style=\"stroke:#e26f46; stroke-linecap:round; stroke-linejoin:round; stroke-width:4; stroke-opacity:1; fill:none\" points=\"\n  1372.47,216.091 1405.3,185.455 \n  \"/>\n<polyline clip-path=\"url(#clip312)\" style=\"stroke:#3da44d; stroke-linecap:round; stroke-linejoin:round; stroke-width:4; stroke-opacity:1; fill:none\" points=\"\n  693.223,722.981 742.474,677.026 \n  \"/>\n<polyline clip-path=\"url(#clip312)\" style=\"stroke:#c271d2; stroke-linecap:round; stroke-linejoin:round; stroke-width:4; stroke-opacity:1; fill:none\" points=\"\n  2082.49,136.716 2203.57,87.9763 \n  \"/>\n<polyline clip-path=\"url(#clip312)\" style=\"stroke:#ac8d18; stroke-linecap:round; stroke-linejoin:round; stroke-width:4; stroke-opacity:1; fill:none\" points=\"\n  970.257,319.14 996.934,306.607 \n  \"/>\n<polyline clip-path=\"url(#clip312)\" style=\"stroke:#00a9ad; stroke-linecap:round; stroke-linejoin:round; stroke-width:4; stroke-opacity:1; fill:none\" points=\"\n  1054.39,800.964 914.85,832.992 \n  \"/>\n<polyline clip-path=\"url(#clip312)\" style=\"stroke:#ed5d92; stroke-linecap:round; stroke-linejoin:round; stroke-width:4; stroke-opacity:1; fill:none\" points=\"\n  2203.57,87.9763 2189.2,100.509 \n  \"/>\n<polyline clip-path=\"url(#clip312)\" style=\"stroke:#c68125; stroke-linecap:round; stroke-linejoin:round; stroke-width:4; stroke-opacity:1; fill:none\" points=\"\n  1879.34,752.224 1998.36,763.365 \n  \"/>\n<polyline clip-path=\"url(#clip312)\" style=\"stroke:#00a98d; stroke-linecap:round; stroke-linejoin:round; stroke-width:4; stroke-opacity:1; fill:none\" points=\"\n  1259.6,451.433 1146.74,568.407 \n  \"/>\n<polyline clip-path=\"url(#clip312)\" style=\"stroke:#8e971d; stroke-linecap:round; stroke-linejoin:round; stroke-width:4; stroke-opacity:1; fill:none\" points=\"\n  1782.89,1183.92 1637.19,1179.74 \n  \"/>\n<polyline clip-path=\"url(#clip312)\" style=\"stroke:#00a8cb; stroke-linecap:round; stroke-linejoin:round; stroke-width:4; stroke-opacity:1; fill:none\" points=\"\n  1431.98,924.901 1454.55,965.285 \n  \"/>\n<polyline clip-path=\"url(#clip312)\" style=\"stroke:#9b7fe8; stroke-linecap:round; stroke-linejoin:round; stroke-width:4; stroke-opacity:1; fill:none\" points=\"\n  1739.79,660.316 1782.89,707.662 \n  \"/>\n<polyline clip-path=\"url(#clip312)\" style=\"stroke:#608cf6; stroke-linecap:round; stroke-linejoin:round; stroke-width:4; stroke-opacity:1; fill:none\" points=\"\n  260.231,1208.98 440.815,951.359 \n  \"/>\n<polyline clip-path=\"url(#clip312)\" style=\"stroke:#f05f73; stroke-linecap:round; stroke-linejoin:round; stroke-width:4; stroke-opacity:1; fill:none\" points=\"\n  654.234,993.136 767.099,1286.96 \n  \"/>\n<polyline clip-path=\"url(#clip312)\" style=\"stroke:#dd64b5; stroke-linecap:round; stroke-linejoin:round; stroke-width:4; stroke-opacity:1; fill:none\" points=\"\n  1146.74,568.407 1253.45,749.439 \n  \"/>\n<polyline clip-path=\"url(#clip312)\" style=\"stroke:#6b9e32; stroke-linecap:round; stroke-linejoin:round; stroke-width:4; stroke-opacity:1; fill:none\" points=\"\n  1647.45,927.686 1497.65,780.075 \n  \"/>\n<polyline clip-path=\"url(#clip312)\" style=\"stroke:#009af9; stroke-linecap:round; stroke-linejoin:round; stroke-width:4; stroke-opacity:1; fill:none\" points=\"\n  2209.72,433.329 1981.94,433.329 \n  \"/>\n<polyline clip-path=\"url(#clip312)\" style=\"stroke:#e26f46; stroke-linecap:round; stroke-linejoin:round; stroke-width:4; stroke-opacity:1; fill:none\" points=\"\n  1575.63,1445.72 1809.57,1412.29 \n  \"/>\n<polyline clip-path=\"url(#clip312)\" style=\"stroke:#3da44d; stroke-linecap:round; stroke-linejoin:round; stroke-width:4; stroke-opacity:1; fill:none\" points=\"\n  2291.81,1261.9 1823.93,1011.24 \n  \"/>\n<polyline clip-path=\"url(#clip312)\" style=\"stroke:#c271d2; stroke-linecap:round; stroke-linejoin:round; stroke-width:4; stroke-opacity:1; fill:none\" points=\"\n  1782.89,707.662 1879.34,752.224 \n  \"/>\n<polyline clip-path=\"url(#clip312)\" style=\"stroke:#ac8d18; stroke-linecap:round; stroke-linejoin:round; stroke-width:4; stroke-opacity:1; fill:none\" points=\"\n  471.597,1346.84 260.231,1208.98 \n  \"/>\n<polyline clip-path=\"url(#clip312)\" style=\"stroke:#00a9ad; stroke-linecap:round; stroke-linejoin:round; stroke-width:4; stroke-opacity:1; fill:none\" points=\"\n  1253.45,749.439 1259.6,451.433 \n  \"/>\n<polyline clip-path=\"url(#clip312)\" style=\"stroke:#ed5d92; stroke-linecap:round; stroke-linejoin:round; stroke-width:4; stroke-opacity:1; fill:none\" points=\"\n  1405.3,185.455 1419.67,136.716 \n  \"/>\n<polyline clip-path=\"url(#clip312)\" style=\"stroke:#c68125; stroke-linecap:round; stroke-linejoin:round; stroke-width:4; stroke-opacity:1; fill:none\" points=\"\n  767.099,1286.96 471.597,1346.84 \n  \"/>\n<polyline clip-path=\"url(#clip312)\" style=\"stroke:#00a98d; stroke-linecap:round; stroke-linejoin:round; stroke-width:4; stroke-opacity:1; fill:none\" points=\"\n  1532.53,937.434 1647.45,927.686 \n  \"/>\n<polyline clip-path=\"url(#clip312)\" style=\"stroke:#8e971d; stroke-linecap:round; stroke-linejoin:round; stroke-width:4; stroke-opacity:1; fill:none\" points=\"\n  726.057,220.269 797.88,327.495 \n  \"/>\n<polyline clip-path=\"url(#clip312)\" style=\"stroke:#00a8cb; stroke-linecap:round; stroke-linejoin:round; stroke-width:4; stroke-opacity:1; fill:none\" points=\"\n  500.326,512.705 393.617,515.49 \n  \"/>\n<polyline clip-path=\"url(#clip312)\" style=\"stroke:#9b7fe8; stroke-linecap:round; stroke-linejoin:round; stroke-width:4; stroke-opacity:1; fill:none\" points=\"\n  1497.65,780.075 1423.77,792.608 \n  \"/>\n<polyline clip-path=\"url(#clip312)\" style=\"stroke:#608cf6; stroke-linecap:round; stroke-linejoin:round; stroke-width:4; stroke-opacity:1; fill:none\" points=\"\n  1626.93,125.575 1684.39,204.951 \n  \"/>\n<polyline clip-path=\"url(#clip312)\" style=\"stroke:#f05f73; stroke-linecap:round; stroke-linejoin:round; stroke-width:4; stroke-opacity:1; fill:none\" points=\"\n  1809.57,1412.29 2291.81,1261.9 \n  \"/>\n<polyline clip-path=\"url(#clip312)\" style=\"stroke:#dd64b5; stroke-linecap:round; stroke-linejoin:round; stroke-width:4; stroke-opacity:1; fill:none\" points=\"\n  1454.55,965.285 1532.53,937.434 \n  \"/>\n<polyline clip-path=\"url(#clip312)\" style=\"stroke:#6b9e32; stroke-linecap:round; stroke-linejoin:round; stroke-width:4; stroke-opacity:1; fill:none\" points=\"\n  996.934,306.607 726.057,220.269 \n  \"/>\n<polyline clip-path=\"url(#clip312)\" style=\"stroke:#009af9; stroke-linecap:round; stroke-linejoin:round; stroke-width:4; stroke-opacity:1; fill:none\" points=\"\n  514.691,344.206 500.326,512.705 \n  \"/>\n<polyline clip-path=\"url(#clip312)\" style=\"stroke:#e26f46; stroke-linecap:round; stroke-linejoin:round; stroke-width:4; stroke-opacity:1; fill:none\" points=\"\n  2189.2,100.509 2082.49,136.716 \n  \"/>\n<polyline clip-path=\"url(#clip312)\" style=\"stroke:#3da44d; stroke-linecap:round; stroke-linejoin:round; stroke-width:4; stroke-opacity:1; fill:none\" points=\"\n  1423.77,792.608 1431.98,924.901 \n  \"/>\n<polyline clip-path=\"url(#clip312)\" style=\"stroke:#c271d2; stroke-linecap:round; stroke-linejoin:round; stroke-width:4; stroke-opacity:1; fill:none\" points=\"\n  1637.19,1179.74 1354,1298.11 \n  \"/>\n<polyline clip-path=\"url(#clip312)\" style=\"stroke:#ac8d18; stroke-linecap:round; stroke-linejoin:round; stroke-width:4; stroke-opacity:1; fill:none\" points=\"\n  1419.67,136.716 1372.47,216.091 \n  \"/>\n<polyline clip-path=\"url(#clip312)\" style=\"stroke:#00a9ad; stroke-linecap:round; stroke-linejoin:round; stroke-width:4; stroke-opacity:1; fill:none\" points=\"\n  393.617,515.49 514.691,344.206 \n  \"/>\n<polyline clip-path=\"url(#clip312)\" style=\"stroke:#ed5d92; stroke-linecap:round; stroke-linejoin:round; stroke-width:4; stroke-opacity:1; fill:none\" points=\"\n  1684.39,204.951 1694.65,149.249 \n  \"/>\n<polyline clip-path=\"url(#clip312)\" style=\"stroke:#c68125; stroke-linecap:round; stroke-linejoin:round; stroke-width:4; stroke-opacity:1; fill:none\" points=\"\n  440.815,951.359 654.234,993.136 \n  \"/>\n<polyline clip-path=\"url(#clip312)\" style=\"stroke:#00a98d; stroke-linecap:round; stroke-linejoin:round; stroke-width:4; stroke-opacity:1; fill:none\" points=\"\n  1981.94,433.329 1739.79,660.316 \n  \"/>\n<polyline clip-path=\"url(#clip312)\" style=\"stroke:#8e971d; stroke-linecap:round; stroke-linejoin:round; stroke-width:4; stroke-opacity:1; fill:none\" points=\"\n  962.048,890.087 1054.39,800.964 \n  \"/>\n<polyline clip-path=\"url(#clip312)\" style=\"stroke:#00a8cb; stroke-linecap:round; stroke-linejoin:round; stroke-width:4; stroke-opacity:1; fill:none\" points=\"\n  1823.93,1011.24 1782.89,1183.92 \n  \"/>\n<polyline clip-path=\"url(#clip312)\" style=\"stroke:#9b7fe8; stroke-linecap:round; stroke-linejoin:round; stroke-width:4; stroke-opacity:1; fill:none\" points=\"\n  797.88,327.495 970.257,319.14 \n  \"/>\n<polyline clip-path=\"url(#clip312)\" style=\"stroke:#608cf6; stroke-linecap:round; stroke-linejoin:round; stroke-width:4; stroke-opacity:1; fill:none\" points=\"\n  1354,1298.11 1575.63,1445.72 \n  \"/>\n<polyline clip-path=\"url(#clip312)\" style=\"stroke:#f05f73; stroke-linecap:round; stroke-linejoin:round; stroke-width:4; stroke-opacity:1; fill:none\" points=\"\n  849.183,755.009 693.223,722.981 \n  \"/>\n<polyline clip-path=\"url(#clip312)\" style=\"stroke:#dd64b5; stroke-linecap:round; stroke-linejoin:round; stroke-width:4; stroke-opacity:1; fill:none\" points=\"\n  742.474,677.026 849.183,755.009 \n  \"/>\n<polyline clip-path=\"url(#clip312)\" style=\"stroke:#6b9e32; stroke-linecap:round; stroke-linejoin:round; stroke-width:4; stroke-opacity:1; fill:none\" points=\"\n  2254.87,767.542 2209.72,433.329 \n  \"/>\n<polyline clip-path=\"url(#clip312)\" style=\"stroke:#009af9; stroke-linecap:round; stroke-linejoin:round; stroke-width:4; stroke-opacity:1; fill:none\" points=\"\n  1998.36,763.365 2254.87,767.542 \n  \"/>\n<polyline clip-path=\"url(#clip312)\" style=\"stroke:#e26f46; stroke-linecap:round; stroke-linejoin:round; stroke-width:4; stroke-opacity:1; fill:none\" points=\"\n  1694.65,149.249 1626.93,125.575 \n  \"/>\n</svg>\n"
          },
          "metadata": {}
        },
        {
          "output_type": "stream",
          "name": "stdout",
          "text": [
            "Lower bound : 5114.0\n"
          ]
        },
        {
          "output_type": "display_data",
          "data": {
            "image/svg+xml": "<?xml version=\"1.0\" encoding=\"utf-8\"?>\n<svg xmlns=\"http://www.w3.org/2000/svg\" xmlns:xlink=\"http://www.w3.org/1999/xlink\" width=\"600\" height=\"400\" viewBox=\"0 0 2400 1600\">\n<defs>\n  <clipPath id=\"clip350\">\n    <rect x=\"0\" y=\"0\" width=\"2400\" height=\"1600\"/>\n  </clipPath>\n</defs>\n<path clip-path=\"url(#clip350)\" d=\"\nM0 1600 L2400 1600 L2400 0 L0 0  Z\n  \" fill=\"#ffffff\" fill-rule=\"evenodd\" fill-opacity=\"1\"/>\n<defs>\n  <clipPath id=\"clip351\">\n    <rect x=\"480\" y=\"0\" width=\"1681\" height=\"1600\"/>\n  </clipPath>\n</defs>\n<path clip-path=\"url(#clip350)\" d=\"\nM199.283 1486.45 L2352.76 1486.45 L2352.76 47.2441 L199.283 47.2441  Z\n  \" fill=\"#ffffff\" fill-rule=\"evenodd\" fill-opacity=\"1\"/>\n<defs>\n  <clipPath id=\"clip352\">\n    <rect x=\"199\" y=\"47\" width=\"2154\" height=\"1440\"/>\n  </clipPath>\n</defs>\n<polyline clip-path=\"url(#clip352)\" style=\"stroke:#000000; stroke-linecap:round; stroke-linejoin:round; stroke-width:2; stroke-opacity:0.1; fill:none\" points=\"\n  245.866,1486.45 245.866,47.2441 \n  \"/>\n<polyline clip-path=\"url(#clip352)\" style=\"stroke:#000000; stroke-linecap:round; stroke-linejoin:round; stroke-width:2; stroke-opacity:0.1; fill:none\" points=\"\n  758.891,1486.45 758.891,47.2441 \n  \"/>\n<polyline clip-path=\"url(#clip352)\" style=\"stroke:#000000; stroke-linecap:round; stroke-linejoin:round; stroke-width:2; stroke-opacity:0.1; fill:none\" points=\"\n  1271.92,1486.45 1271.92,47.2441 \n  \"/>\n<polyline clip-path=\"url(#clip352)\" style=\"stroke:#000000; stroke-linecap:round; stroke-linejoin:round; stroke-width:2; stroke-opacity:0.1; fill:none\" points=\"\n  1784.94,1486.45 1784.94,47.2441 \n  \"/>\n<polyline clip-path=\"url(#clip352)\" style=\"stroke:#000000; stroke-linecap:round; stroke-linejoin:round; stroke-width:2; stroke-opacity:0.1; fill:none\" points=\"\n  2297.96,1486.45 2297.96,47.2441 \n  \"/>\n<polyline clip-path=\"url(#clip350)\" style=\"stroke:#000000; stroke-linecap:round; stroke-linejoin:round; stroke-width:4; stroke-opacity:1; fill:none\" points=\"\n  199.283,1486.45 2352.76,1486.45 \n  \"/>\n<polyline clip-path=\"url(#clip350)\" style=\"stroke:#000000; stroke-linecap:round; stroke-linejoin:round; stroke-width:4; stroke-opacity:1; fill:none\" points=\"\n  245.866,1486.45 245.866,1467.55 \n  \"/>\n<polyline clip-path=\"url(#clip350)\" style=\"stroke:#000000; stroke-linecap:round; stroke-linejoin:round; stroke-width:4; stroke-opacity:1; fill:none\" points=\"\n  758.891,1486.45 758.891,1467.55 \n  \"/>\n<polyline clip-path=\"url(#clip350)\" style=\"stroke:#000000; stroke-linecap:round; stroke-linejoin:round; stroke-width:4; stroke-opacity:1; fill:none\" points=\"\n  1271.92,1486.45 1271.92,1467.55 \n  \"/>\n<polyline clip-path=\"url(#clip350)\" style=\"stroke:#000000; stroke-linecap:round; stroke-linejoin:round; stroke-width:4; stroke-opacity:1; fill:none\" points=\"\n  1784.94,1486.45 1784.94,1467.55 \n  \"/>\n<polyline clip-path=\"url(#clip350)\" style=\"stroke:#000000; stroke-linecap:round; stroke-linejoin:round; stroke-width:4; stroke-opacity:1; fill:none\" points=\"\n  2297.96,1486.45 2297.96,1467.55 \n  \"/>\n<path clip-path=\"url(#clip350)\" d=\"M245.866 1517.37 Q242.255 1517.37 240.426 1520.93 Q238.621 1524.47 238.621 1531.6 Q238.621 1538.71 240.426 1542.27 Q242.255 1545.82 245.866 1545.82 Q249.5 1545.82 251.306 1542.27 Q253.134 1538.71 253.134 1531.6 Q253.134 1524.47 251.306 1520.93 Q249.5 1517.37 245.866 1517.37 M245.866 1513.66 Q251.676 1513.66 254.732 1518.27 Q257.81 1522.85 257.81 1531.6 Q257.81 1540.33 254.732 1544.94 Q251.676 1549.52 245.866 1549.52 Q240.056 1549.52 236.977 1544.94 Q233.921 1540.33 233.921 1531.6 Q233.921 1522.85 236.977 1518.27 Q240.056 1513.66 245.866 1513.66 Z\" fill=\"#000000\" fill-rule=\"evenodd\" fill-opacity=\"1\" /><path clip-path=\"url(#clip350)\" d=\"M722.583 1544.91 L738.902 1544.91 L738.902 1548.85 L716.958 1548.85 L716.958 1544.91 Q719.62 1542.16 724.203 1537.53 Q728.81 1532.88 729.99 1531.53 Q732.236 1529.01 733.115 1527.27 Q734.018 1525.51 734.018 1523.82 Q734.018 1521.07 732.074 1519.33 Q730.152 1517.6 727.05 1517.6 Q724.851 1517.6 722.398 1518.36 Q719.967 1519.13 717.189 1520.68 L717.189 1515.95 Q720.013 1514.82 722.467 1514.24 Q724.921 1513.66 726.958 1513.66 Q732.328 1513.66 735.523 1516.35 Q738.717 1519.03 738.717 1523.52 Q738.717 1525.65 737.907 1527.57 Q737.12 1529.47 735.013 1532.07 Q734.435 1532.74 731.333 1535.95 Q728.231 1539.15 722.583 1544.91 Z\" fill=\"#000000\" fill-rule=\"evenodd\" fill-opacity=\"1\" /><path clip-path=\"url(#clip350)\" d=\"M748.763 1514.29 L767.12 1514.29 L767.12 1518.22 L753.046 1518.22 L753.046 1526.7 Q754.064 1526.35 755.083 1526.19 Q756.101 1526 757.12 1526 Q762.907 1526 766.286 1529.17 Q769.666 1532.34 769.666 1537.76 Q769.666 1543.34 766.194 1546.44 Q762.722 1549.52 756.402 1549.52 Q754.226 1549.52 751.958 1549.15 Q749.712 1548.78 747.305 1548.04 L747.305 1543.34 Q749.388 1544.47 751.611 1545.03 Q753.833 1545.58 756.31 1545.58 Q760.314 1545.58 762.652 1543.48 Q764.99 1541.37 764.99 1537.76 Q764.99 1534.15 762.652 1532.04 Q760.314 1529.94 756.31 1529.94 Q754.435 1529.94 752.56 1530.35 Q750.708 1530.77 748.763 1531.65 L748.763 1514.29 Z\" fill=\"#000000\" fill-rule=\"evenodd\" fill-opacity=\"1\" /><path clip-path=\"url(#clip350)\" d=\"M788.879 1517.37 Q785.268 1517.37 783.439 1520.93 Q781.634 1524.47 781.634 1531.6 Q781.634 1538.71 783.439 1542.27 Q785.268 1545.82 788.879 1545.82 Q792.513 1545.82 794.319 1542.27 Q796.147 1538.71 796.147 1531.6 Q796.147 1524.47 794.319 1520.93 Q792.513 1517.37 788.879 1517.37 M788.879 1513.66 Q794.689 1513.66 797.745 1518.27 Q800.823 1522.85 800.823 1531.6 Q800.823 1540.33 797.745 1544.94 Q794.689 1549.52 788.879 1549.52 Q783.069 1549.52 779.99 1544.94 Q776.934 1540.33 776.934 1531.6 Q776.934 1522.85 779.99 1518.27 Q783.069 1513.66 788.879 1513.66 Z\" fill=\"#000000\" fill-rule=\"evenodd\" fill-opacity=\"1\" /><path clip-path=\"url(#clip350)\" d=\"M1231.53 1514.29 L1249.89 1514.29 L1249.89 1518.22 L1235.82 1518.22 L1235.82 1526.7 Q1236.83 1526.35 1237.85 1526.19 Q1238.87 1526 1239.89 1526 Q1245.68 1526 1249.06 1529.17 Q1252.44 1532.34 1252.44 1537.76 Q1252.44 1543.34 1248.96 1546.44 Q1245.49 1549.52 1239.17 1549.52 Q1237 1549.52 1234.73 1549.15 Q1232.48 1548.78 1230.08 1548.04 L1230.08 1543.34 Q1232.16 1544.47 1234.38 1545.03 Q1236.6 1545.58 1239.08 1545.58 Q1243.08 1545.58 1245.42 1543.48 Q1247.76 1541.37 1247.76 1537.76 Q1247.76 1534.15 1245.42 1532.04 Q1243.08 1529.94 1239.08 1529.94 Q1237.2 1529.94 1235.33 1530.35 Q1233.48 1530.77 1231.53 1531.65 L1231.53 1514.29 Z\" fill=\"#000000\" fill-rule=\"evenodd\" fill-opacity=\"1\" /><path clip-path=\"url(#clip350)\" d=\"M1271.65 1517.37 Q1268.04 1517.37 1266.21 1520.93 Q1264.4 1524.47 1264.4 1531.6 Q1264.4 1538.71 1266.21 1542.27 Q1268.04 1545.82 1271.65 1545.82 Q1275.28 1545.82 1277.09 1542.27 Q1278.92 1538.71 1278.92 1531.6 Q1278.92 1524.47 1277.09 1520.93 Q1275.28 1517.37 1271.65 1517.37 M1271.65 1513.66 Q1277.46 1513.66 1280.51 1518.27 Q1283.59 1522.85 1283.59 1531.6 Q1283.59 1540.33 1280.51 1544.94 Q1277.46 1549.52 1271.65 1549.52 Q1265.84 1549.52 1262.76 1544.94 Q1259.7 1540.33 1259.7 1531.6 Q1259.7 1522.85 1262.76 1518.27 Q1265.84 1513.66 1271.65 1513.66 Z\" fill=\"#000000\" fill-rule=\"evenodd\" fill-opacity=\"1\" /><path clip-path=\"url(#clip350)\" d=\"M1301.81 1517.37 Q1298.2 1517.37 1296.37 1520.93 Q1294.57 1524.47 1294.57 1531.6 Q1294.57 1538.71 1296.37 1542.27 Q1298.2 1545.82 1301.81 1545.82 Q1305.45 1545.82 1307.25 1542.27 Q1309.08 1538.71 1309.08 1531.6 Q1309.08 1524.47 1307.25 1520.93 Q1305.45 1517.37 1301.81 1517.37 M1301.81 1513.66 Q1307.62 1513.66 1310.68 1518.27 Q1313.76 1522.85 1313.76 1531.6 Q1313.76 1540.33 1310.68 1544.94 Q1307.62 1549.52 1301.81 1549.52 Q1296 1549.52 1292.92 1544.94 Q1289.87 1540.33 1289.87 1531.6 Q1289.87 1522.85 1292.92 1518.27 Q1296 1513.66 1301.81 1513.66 Z\" fill=\"#000000\" fill-rule=\"evenodd\" fill-opacity=\"1\" /><path clip-path=\"url(#clip350)\" d=\"M1743.22 1514.29 L1765.44 1514.29 L1765.44 1516.28 L1752.89 1548.85 L1748.01 1548.85 L1759.81 1518.22 L1743.22 1518.22 L1743.22 1514.29 Z\" fill=\"#000000\" fill-rule=\"evenodd\" fill-opacity=\"1\" /><path clip-path=\"url(#clip350)\" d=\"M1774.6 1514.29 L1792.96 1514.29 L1792.96 1518.22 L1778.89 1518.22 L1778.89 1526.7 Q1779.91 1526.35 1780.92 1526.19 Q1781.94 1526 1782.96 1526 Q1788.75 1526 1792.13 1529.17 Q1795.51 1532.34 1795.51 1537.76 Q1795.51 1543.34 1792.03 1546.44 Q1788.56 1549.52 1782.24 1549.52 Q1780.07 1549.52 1777.8 1549.15 Q1775.55 1548.78 1773.15 1548.04 L1773.15 1543.34 Q1775.23 1544.47 1777.45 1545.03 Q1779.67 1545.58 1782.15 1545.58 Q1786.16 1545.58 1788.49 1543.48 Q1790.83 1541.37 1790.83 1537.76 Q1790.83 1534.15 1788.49 1532.04 Q1786.16 1529.94 1782.15 1529.94 Q1780.28 1529.94 1778.4 1530.35 Q1776.55 1530.77 1774.6 1531.65 L1774.6 1514.29 Z\" fill=\"#000000\" fill-rule=\"evenodd\" fill-opacity=\"1\" /><path clip-path=\"url(#clip350)\" d=\"M1814.72 1517.37 Q1811.11 1517.37 1809.28 1520.93 Q1807.47 1524.47 1807.47 1531.6 Q1807.47 1538.71 1809.28 1542.27 Q1811.11 1545.82 1814.72 1545.82 Q1818.35 1545.82 1820.16 1542.27 Q1821.99 1538.71 1821.99 1531.6 Q1821.99 1524.47 1820.16 1520.93 Q1818.35 1517.37 1814.72 1517.37 M1814.72 1513.66 Q1820.53 1513.66 1823.59 1518.27 Q1826.66 1522.85 1826.66 1531.6 Q1826.66 1540.33 1823.59 1544.94 Q1820.53 1549.52 1814.72 1549.52 Q1808.91 1549.52 1805.83 1544.94 Q1802.78 1540.33 1802.78 1531.6 Q1802.78 1522.85 1805.83 1518.27 Q1808.91 1513.66 1814.72 1513.66 Z\" fill=\"#000000\" fill-rule=\"evenodd\" fill-opacity=\"1\" /><path clip-path=\"url(#clip350)\" d=\"M2242.49 1544.91 L2250.13 1544.91 L2250.13 1518.55 L2241.82 1520.21 L2241.82 1515.95 L2250.08 1514.29 L2254.76 1514.29 L2254.76 1544.91 L2262.4 1544.91 L2262.4 1548.85 L2242.49 1548.85 L2242.49 1544.91 Z\" fill=\"#000000\" fill-rule=\"evenodd\" fill-opacity=\"1\" /><path clip-path=\"url(#clip350)\" d=\"M2281.84 1517.37 Q2278.23 1517.37 2276.4 1520.93 Q2274.6 1524.47 2274.6 1531.6 Q2274.6 1538.71 2276.4 1542.27 Q2278.23 1545.82 2281.84 1545.82 Q2285.48 1545.82 2287.28 1542.27 Q2289.11 1538.71 2289.11 1531.6 Q2289.11 1524.47 2287.28 1520.93 Q2285.48 1517.37 2281.84 1517.37 M2281.84 1513.66 Q2287.65 1513.66 2290.71 1518.27 Q2293.79 1522.85 2293.79 1531.6 Q2293.79 1540.33 2290.71 1544.94 Q2287.65 1549.52 2281.84 1549.52 Q2276.03 1549.52 2272.95 1544.94 Q2269.9 1540.33 2269.9 1531.6 Q2269.9 1522.85 2272.95 1518.27 Q2276.03 1513.66 2281.84 1513.66 Z\" fill=\"#000000\" fill-rule=\"evenodd\" fill-opacity=\"1\" /><path clip-path=\"url(#clip350)\" d=\"M2312 1517.37 Q2308.39 1517.37 2306.56 1520.93 Q2304.76 1524.47 2304.76 1531.6 Q2304.76 1538.71 2306.56 1542.27 Q2308.39 1545.82 2312 1545.82 Q2315.64 1545.82 2317.44 1542.27 Q2319.27 1538.71 2319.27 1531.6 Q2319.27 1524.47 2317.44 1520.93 Q2315.64 1517.37 2312 1517.37 M2312 1513.66 Q2317.81 1513.66 2320.87 1518.27 Q2323.95 1522.85 2323.95 1531.6 Q2323.95 1540.33 2320.87 1544.94 Q2317.81 1549.52 2312 1549.52 Q2306.19 1549.52 2303.12 1544.94 Q2300.06 1540.33 2300.06 1531.6 Q2300.06 1522.85 2303.12 1518.27 Q2306.19 1513.66 2312 1513.66 Z\" fill=\"#000000\" fill-rule=\"evenodd\" fill-opacity=\"1\" /><path clip-path=\"url(#clip350)\" d=\"M2342.17 1517.37 Q2338.55 1517.37 2336.73 1520.93 Q2334.92 1524.47 2334.92 1531.6 Q2334.92 1538.71 2336.73 1542.27 Q2338.55 1545.82 2342.17 1545.82 Q2345.8 1545.82 2347.61 1542.27 Q2349.43 1538.71 2349.43 1531.6 Q2349.43 1524.47 2347.61 1520.93 Q2345.8 1517.37 2342.17 1517.37 M2342.17 1513.66 Q2347.98 1513.66 2351.03 1518.27 Q2354.11 1522.85 2354.11 1531.6 Q2354.11 1540.33 2351.03 1544.94 Q2347.98 1549.52 2342.17 1549.52 Q2336.36 1549.52 2333.28 1544.94 Q2330.22 1540.33 2330.22 1531.6 Q2330.22 1522.85 2333.28 1518.27 Q2336.36 1513.66 2342.17 1513.66 Z\" fill=\"#000000\" fill-rule=\"evenodd\" fill-opacity=\"1\" /><polyline clip-path=\"url(#clip352)\" style=\"stroke:#000000; stroke-linecap:round; stroke-linejoin:round; stroke-width:2; stroke-opacity:0.1; fill:none\" points=\"\n  199.283,1448.5 2352.76,1448.5 \n  \"/>\n<polyline clip-path=\"url(#clip352)\" style=\"stroke:#000000; stroke-linecap:round; stroke-linejoin:round; stroke-width:2; stroke-opacity:0.1; fill:none\" points=\"\n  199.283,1100.36 2352.76,1100.36 \n  \"/>\n<polyline clip-path=\"url(#clip352)\" style=\"stroke:#000000; stroke-linecap:round; stroke-linejoin:round; stroke-width:2; stroke-opacity:0.1; fill:none\" points=\"\n  199.283,752.224 2352.76,752.224 \n  \"/>\n<polyline clip-path=\"url(#clip352)\" style=\"stroke:#000000; stroke-linecap:round; stroke-linejoin:round; stroke-width:2; stroke-opacity:0.1; fill:none\" points=\"\n  199.283,404.086 2352.76,404.086 \n  \"/>\n<polyline clip-path=\"url(#clip352)\" style=\"stroke:#000000; stroke-linecap:round; stroke-linejoin:round; stroke-width:2; stroke-opacity:0.1; fill:none\" points=\"\n  199.283,55.9476 2352.76,55.9476 \n  \"/>\n<polyline clip-path=\"url(#clip350)\" style=\"stroke:#000000; stroke-linecap:round; stroke-linejoin:round; stroke-width:4; stroke-opacity:1; fill:none\" points=\"\n  199.283,1486.45 199.283,47.2441 \n  \"/>\n<polyline clip-path=\"url(#clip350)\" style=\"stroke:#000000; stroke-linecap:round; stroke-linejoin:round; stroke-width:4; stroke-opacity:1; fill:none\" points=\"\n  199.283,1448.5 218.181,1448.5 \n  \"/>\n<polyline clip-path=\"url(#clip350)\" style=\"stroke:#000000; stroke-linecap:round; stroke-linejoin:round; stroke-width:4; stroke-opacity:1; fill:none\" points=\"\n  199.283,1100.36 218.181,1100.36 \n  \"/>\n<polyline clip-path=\"url(#clip350)\" style=\"stroke:#000000; stroke-linecap:round; stroke-linejoin:round; stroke-width:4; stroke-opacity:1; fill:none\" points=\"\n  199.283,752.224 218.181,752.224 \n  \"/>\n<polyline clip-path=\"url(#clip350)\" style=\"stroke:#000000; stroke-linecap:round; stroke-linejoin:round; stroke-width:4; stroke-opacity:1; fill:none\" points=\"\n  199.283,404.086 218.181,404.086 \n  \"/>\n<polyline clip-path=\"url(#clip350)\" style=\"stroke:#000000; stroke-linecap:round; stroke-linejoin:round; stroke-width:4; stroke-opacity:1; fill:none\" points=\"\n  199.283,55.9476 218.181,55.9476 \n  \"/>\n<path clip-path=\"url(#clip350)\" d=\"M151.339 1434.3 Q147.728 1434.3 145.899 1437.86 Q144.093 1441.41 144.093 1448.54 Q144.093 1455.64 145.899 1459.21 Q147.728 1462.75 151.339 1462.75 Q154.973 1462.75 156.779 1459.21 Q158.607 1455.64 158.607 1448.54 Q158.607 1441.41 156.779 1437.86 Q154.973 1434.3 151.339 1434.3 M151.339 1430.6 Q157.149 1430.6 160.205 1435.2 Q163.283 1439.79 163.283 1448.54 Q163.283 1457.26 160.205 1461.87 Q157.149 1466.45 151.339 1466.45 Q145.529 1466.45 142.45 1461.87 Q139.394 1457.26 139.394 1448.54 Q139.394 1439.79 142.45 1435.2 Q145.529 1430.6 151.339 1430.6 Z\" fill=\"#000000\" fill-rule=\"evenodd\" fill-opacity=\"1\" /><path clip-path=\"url(#clip350)\" d=\"M85.0429 1113.71 L101.362 1113.71 L101.362 1117.64 L79.4179 1117.64 L79.4179 1113.71 Q82.0799 1110.95 86.6632 1106.32 Q91.2697 1101.67 92.4502 1100.33 Q94.6956 1097.8 95.5752 1096.07 Q96.478 1094.31 96.478 1092.62 Q96.478 1089.86 94.5336 1088.13 Q92.6123 1086.39 89.5104 1086.39 Q87.3114 1086.39 84.8577 1087.16 Q82.4271 1087.92 79.6494 1089.47 L79.6494 1084.75 Q82.4734 1083.61 84.9271 1083.04 Q87.3808 1082.46 89.4178 1082.46 Q94.7882 1082.46 97.9826 1085.14 Q101.177 1087.83 101.177 1092.32 Q101.177 1094.45 100.367 1096.37 Q99.5798 1098.27 97.4734 1100.86 Q96.8947 1101.53 93.7928 1104.75 Q90.691 1107.94 85.0429 1113.71 Z\" fill=\"#000000\" fill-rule=\"evenodd\" fill-opacity=\"1\" /><path clip-path=\"url(#clip350)\" d=\"M111.223 1083.08 L129.58 1083.08 L129.58 1087.02 L115.506 1087.02 L115.506 1095.49 Q116.524 1095.14 117.543 1094.98 Q118.561 1094.8 119.58 1094.8 Q125.367 1094.8 128.746 1097.97 Q132.126 1101.14 132.126 1106.55 Q132.126 1112.13 128.654 1115.24 Q125.182 1118.31 118.862 1118.31 Q116.686 1118.31 114.418 1117.94 Q112.172 1117.57 109.765 1116.83 L109.765 1112.13 Q111.848 1113.27 114.07 1113.82 Q116.293 1114.38 118.77 1114.38 Q122.774 1114.38 125.112 1112.27 Q127.45 1110.17 127.45 1106.55 Q127.45 1102.94 125.112 1100.84 Q122.774 1098.73 118.77 1098.73 Q116.895 1098.73 115.02 1099.15 Q113.168 1099.56 111.223 1100.44 L111.223 1083.08 Z\" fill=\"#000000\" fill-rule=\"evenodd\" fill-opacity=\"1\" /><path clip-path=\"url(#clip350)\" d=\"M151.339 1086.16 Q147.728 1086.16 145.899 1089.73 Q144.093 1093.27 144.093 1100.4 Q144.093 1107.5 145.899 1111.07 Q147.728 1114.61 151.339 1114.61 Q154.973 1114.61 156.779 1111.07 Q158.607 1107.5 158.607 1100.4 Q158.607 1093.27 156.779 1089.73 Q154.973 1086.16 151.339 1086.16 M151.339 1082.46 Q157.149 1082.46 160.205 1087.06 Q163.283 1091.65 163.283 1100.4 Q163.283 1109.12 160.205 1113.73 Q157.149 1118.31 151.339 1118.31 Q145.529 1118.31 142.45 1113.73 Q139.394 1109.12 139.394 1100.4 Q139.394 1091.65 142.45 1087.06 Q145.529 1082.46 151.339 1082.46 Z\" fill=\"#000000\" fill-rule=\"evenodd\" fill-opacity=\"1\" /><path clip-path=\"url(#clip350)\" d=\"M81.0614 734.944 L99.4178 734.944 L99.4178 738.879 L85.3438 738.879 L85.3438 747.352 Q86.3623 747.004 87.3808 746.842 Q88.3993 746.657 89.4178 746.657 Q95.2049 746.657 98.5845 749.828 Q101.964 753 101.964 758.416 Q101.964 763.995 98.4919 767.097 Q95.0197 770.175 88.7003 770.175 Q86.5243 770.175 84.2558 769.805 Q82.0105 769.435 79.6031 768.694 L79.6031 763.995 Q81.6864 765.129 83.9086 765.685 Q86.1308 766.24 88.6077 766.24 Q92.6123 766.24 94.9502 764.134 Q97.2882 762.027 97.2882 758.416 Q97.2882 754.805 94.9502 752.699 Q92.6123 750.592 88.6077 750.592 Q86.7327 750.592 84.8577 751.009 Q83.0058 751.426 81.0614 752.305 L81.0614 734.944 Z\" fill=\"#000000\" fill-rule=\"evenodd\" fill-opacity=\"1\" /><path clip-path=\"url(#clip350)\" d=\"M121.177 738.023 Q117.566 738.023 115.737 741.588 Q113.932 745.129 113.932 752.259 Q113.932 759.365 115.737 762.93 Q117.566 766.472 121.177 766.472 Q124.811 766.472 126.617 762.93 Q128.445 759.365 128.445 752.259 Q128.445 745.129 126.617 741.588 Q124.811 738.023 121.177 738.023 M121.177 734.319 Q126.987 734.319 130.043 738.926 Q133.121 743.509 133.121 752.259 Q133.121 760.986 130.043 765.592 Q126.987 770.175 121.177 770.175 Q115.367 770.175 112.288 765.592 Q109.233 760.986 109.233 752.259 Q109.233 743.509 112.288 738.926 Q115.367 734.319 121.177 734.319 Z\" fill=\"#000000\" fill-rule=\"evenodd\" fill-opacity=\"1\" /><path clip-path=\"url(#clip350)\" d=\"M151.339 738.023 Q147.728 738.023 145.899 741.588 Q144.093 745.129 144.093 752.259 Q144.093 759.365 145.899 762.93 Q147.728 766.472 151.339 766.472 Q154.973 766.472 156.779 762.93 Q158.607 759.365 158.607 752.259 Q158.607 745.129 156.779 741.588 Q154.973 738.023 151.339 738.023 M151.339 734.319 Q157.149 734.319 160.205 738.926 Q163.283 743.509 163.283 752.259 Q163.283 760.986 160.205 765.592 Q157.149 770.175 151.339 770.175 Q145.529 770.175 142.45 765.592 Q139.394 760.986 139.394 752.259 Q139.394 743.509 142.45 738.926 Q145.529 734.319 151.339 734.319 Z\" fill=\"#000000\" fill-rule=\"evenodd\" fill-opacity=\"1\" /><path clip-path=\"url(#clip350)\" d=\"M79.8346 386.806 L102.057 386.806 L102.057 388.797 L89.5104 421.366 L84.6262 421.366 L96.4317 390.741 L79.8346 390.741 L79.8346 386.806 Z\" fill=\"#000000\" fill-rule=\"evenodd\" fill-opacity=\"1\" /><path clip-path=\"url(#clip350)\" d=\"M111.223 386.806 L129.58 386.806 L129.58 390.741 L115.506 390.741 L115.506 399.213 Q116.524 398.866 117.543 398.704 Q118.561 398.519 119.58 398.519 Q125.367 398.519 128.746 401.69 Q132.126 404.861 132.126 410.278 Q132.126 415.857 128.654 418.958 Q125.182 422.037 118.862 422.037 Q116.686 422.037 114.418 421.667 Q112.172 421.296 109.765 420.556 L109.765 415.857 Q111.848 416.991 114.07 417.546 Q116.293 418.102 118.77 418.102 Q122.774 418.102 125.112 415.996 Q127.45 413.889 127.45 410.278 Q127.45 406.667 125.112 404.56 Q122.774 402.454 118.77 402.454 Q116.895 402.454 115.02 402.871 Q113.168 403.287 111.223 404.167 L111.223 386.806 Z\" fill=\"#000000\" fill-rule=\"evenodd\" fill-opacity=\"1\" /><path clip-path=\"url(#clip350)\" d=\"M151.339 389.885 Q147.728 389.885 145.899 393.449 Q144.093 396.991 144.093 404.121 Q144.093 411.227 145.899 414.792 Q147.728 418.333 151.339 418.333 Q154.973 418.333 156.779 414.792 Q158.607 411.227 158.607 404.121 Q158.607 396.991 156.779 393.449 Q154.973 389.885 151.339 389.885 M151.339 386.181 Q157.149 386.181 160.205 390.787 Q163.283 395.371 163.283 404.121 Q163.283 412.847 160.205 417.454 Q157.149 422.037 151.339 422.037 Q145.529 422.037 142.45 417.454 Q139.394 412.847 139.394 404.121 Q139.394 395.371 142.45 390.787 Q145.529 386.181 151.339 386.181 Z\" fill=\"#000000\" fill-rule=\"evenodd\" fill-opacity=\"1\" /><path clip-path=\"url(#clip350)\" d=\"M51.6634 69.2924 L59.3023 69.2924 L59.3023 42.9268 L50.9921 44.5934 L50.9921 40.3342 L59.256 38.6676 L63.9319 38.6676 L63.9319 69.2924 L71.5707 69.2924 L71.5707 73.2276 L51.6634 73.2276 L51.6634 69.2924 Z\" fill=\"#000000\" fill-rule=\"evenodd\" fill-opacity=\"1\" /><path clip-path=\"url(#clip350)\" d=\"M91.0151 41.7462 Q87.404 41.7462 85.5753 45.311 Q83.7697 48.8527 83.7697 55.9823 Q83.7697 63.0887 85.5753 66.6535 Q87.404 70.1952 91.0151 70.1952 Q94.6493 70.1952 96.4548 66.6535 Q98.2835 63.0887 98.2835 55.9823 Q98.2835 48.8527 96.4548 45.311 Q94.6493 41.7462 91.0151 41.7462 M91.0151 38.0426 Q96.8252 38.0426 99.8808 42.649 Q102.959 47.2323 102.959 55.9823 Q102.959 64.7091 99.8808 69.3155 Q96.8252 73.8988 91.0151 73.8988 Q85.2049 73.8988 82.1262 69.3155 Q79.0707 64.7091 79.0707 55.9823 Q79.0707 47.2323 82.1262 42.649 Q85.2049 38.0426 91.0151 38.0426 Z\" fill=\"#000000\" fill-rule=\"evenodd\" fill-opacity=\"1\" /><path clip-path=\"url(#clip350)\" d=\"M121.177 41.7462 Q117.566 41.7462 115.737 45.311 Q113.932 48.8527 113.932 55.9823 Q113.932 63.0887 115.737 66.6535 Q117.566 70.1952 121.177 70.1952 Q124.811 70.1952 126.617 66.6535 Q128.445 63.0887 128.445 55.9823 Q128.445 48.8527 126.617 45.311 Q124.811 41.7462 121.177 41.7462 M121.177 38.0426 Q126.987 38.0426 130.043 42.649 Q133.121 47.2323 133.121 55.9823 Q133.121 64.7091 130.043 69.3155 Q126.987 73.8988 121.177 73.8988 Q115.367 73.8988 112.288 69.3155 Q109.233 64.7091 109.233 55.9823 Q109.233 47.2323 112.288 42.649 Q115.367 38.0426 121.177 38.0426 Z\" fill=\"#000000\" fill-rule=\"evenodd\" fill-opacity=\"1\" /><path clip-path=\"url(#clip350)\" d=\"M151.339 41.7462 Q147.728 41.7462 145.899 45.311 Q144.093 48.8527 144.093 55.9823 Q144.093 63.0887 145.899 66.6535 Q147.728 70.1952 151.339 70.1952 Q154.973 70.1952 156.779 66.6535 Q158.607 63.0887 158.607 55.9823 Q158.607 48.8527 156.779 45.311 Q154.973 41.7462 151.339 41.7462 M151.339 38.0426 Q157.149 38.0426 160.205 42.649 Q163.283 47.2323 163.283 55.9823 Q163.283 64.7091 160.205 69.3155 Q157.149 73.8988 151.339 73.8988 Q145.529 73.8988 142.45 69.3155 Q139.394 64.7091 139.394 55.9823 Q139.394 47.2323 142.45 42.649 Q145.529 38.0426 151.339 38.0426 Z\" fill=\"#000000\" fill-rule=\"evenodd\" fill-opacity=\"1\" /><polyline clip-path=\"url(#clip352)\" style=\"stroke:#009af9; stroke-linecap:round; stroke-linejoin:round; stroke-width:4; stroke-opacity:1; fill:none\" points=\"\n  914.85,832.992 1054.39,800.964 \n  \"/>\n<polyline clip-path=\"url(#clip352)\" style=\"stroke:#e26f46; stroke-linecap:round; stroke-linejoin:round; stroke-width:4; stroke-opacity:1; fill:none\" points=\"\n  1372.47,216.091 1684.39,204.951 \n  \"/>\n<polyline clip-path=\"url(#clip352)\" style=\"stroke:#3da44d; stroke-linecap:round; stroke-linejoin:round; stroke-width:4; stroke-opacity:1; fill:none\" points=\"\n  693.223,722.981 849.183,755.009 \n  \"/>\n<polyline clip-path=\"url(#clip352)\" style=\"stroke:#c271d2; stroke-linecap:round; stroke-linejoin:round; stroke-width:4; stroke-opacity:1; fill:none\" points=\"\n  2082.49,136.716 2189.2,100.509 \n  \"/>\n<polyline clip-path=\"url(#clip352)\" style=\"stroke:#ac8d18; stroke-linecap:round; stroke-linejoin:round; stroke-width:4; stroke-opacity:1; fill:none\" points=\"\n  970.257,319.14 797.88,327.495 \n  \"/>\n<polyline clip-path=\"url(#clip352)\" style=\"stroke:#00a9ad; stroke-linecap:round; stroke-linejoin:round; stroke-width:4; stroke-opacity:1; fill:none\" points=\"\n  1054.39,800.964 962.048,890.087 \n  \"/>\n<polyline clip-path=\"url(#clip352)\" style=\"stroke:#ed5d92; stroke-linecap:round; stroke-linejoin:round; stroke-width:4; stroke-opacity:1; fill:none\" points=\"\n  2203.57,87.9763 2209.72,433.329 \n  \"/>\n<polyline clip-path=\"url(#clip352)\" style=\"stroke:#c68125; stroke-linecap:round; stroke-linejoin:round; stroke-width:4; stroke-opacity:1; fill:none\" points=\"\n  1879.34,752.224 1998.36,763.365 \n  \"/>\n<polyline clip-path=\"url(#clip352)\" style=\"stroke:#00a98d; stroke-linecap:round; stroke-linejoin:round; stroke-width:4; stroke-opacity:1; fill:none\" points=\"\n  1259.6,451.433 996.934,306.607 \n  \"/>\n<polyline clip-path=\"url(#clip352)\" style=\"stroke:#8e971d; stroke-linecap:round; stroke-linejoin:round; stroke-width:4; stroke-opacity:1; fill:none\" points=\"\n  1782.89,1183.92 1637.19,1179.74 \n  \"/>\n<polyline clip-path=\"url(#clip352)\" style=\"stroke:#00a8cb; stroke-linecap:round; stroke-linejoin:round; stroke-width:4; stroke-opacity:1; fill:none\" points=\"\n  1431.98,924.901 1497.65,780.075 \n  \"/>\n<polyline clip-path=\"url(#clip352)\" style=\"stroke:#9b7fe8; stroke-linecap:round; stroke-linejoin:round; stroke-width:4; stroke-opacity:1; fill:none\" points=\"\n  1739.79,660.316 1782.89,707.662 \n  \"/>\n<polyline clip-path=\"url(#clip352)\" style=\"stroke:#608cf6; stroke-linecap:round; stroke-linejoin:round; stroke-width:4; stroke-opacity:1; fill:none\" points=\"\n  260.231,1208.98 471.597,1346.84 \n  \"/>\n<polyline clip-path=\"url(#clip352)\" style=\"stroke:#f05f73; stroke-linecap:round; stroke-linejoin:round; stroke-width:4; stroke-opacity:1; fill:none\" points=\"\n  654.234,993.136 440.815,951.359 \n  \"/>\n<polyline clip-path=\"url(#clip352)\" style=\"stroke:#dd64b5; stroke-linecap:round; stroke-linejoin:round; stroke-width:4; stroke-opacity:1; fill:none\" points=\"\n  1146.74,568.407 1259.6,451.433 \n  \"/>\n<polyline clip-path=\"url(#clip352)\" style=\"stroke:#6b9e32; stroke-linecap:round; stroke-linejoin:round; stroke-width:4; stroke-opacity:1; fill:none\" points=\"\n  1647.45,927.686 1532.53,937.434 \n  \"/>\n<polyline clip-path=\"url(#clip352)\" style=\"stroke:#009af9; stroke-linecap:round; stroke-linejoin:round; stroke-width:4; stroke-opacity:1; fill:none\" points=\"\n  2209.72,433.329 1981.94,433.329 \n  \"/>\n<polyline clip-path=\"url(#clip352)\" style=\"stroke:#e26f46; stroke-linecap:round; stroke-linejoin:round; stroke-width:4; stroke-opacity:1; fill:none\" points=\"\n  1575.63,1445.72 1809.57,1412.29 \n  \"/>\n<polyline clip-path=\"url(#clip352)\" style=\"stroke:#3da44d; stroke-linecap:round; stroke-linejoin:round; stroke-width:4; stroke-opacity:1; fill:none\" points=\"\n  2291.81,1261.9 1782.89,1183.92 \n  \"/>\n<polyline clip-path=\"url(#clip352)\" style=\"stroke:#c271d2; stroke-linecap:round; stroke-linejoin:round; stroke-width:4; stroke-opacity:1; fill:none\" points=\"\n  1782.89,707.662 1879.34,752.224 \n  \"/>\n<polyline clip-path=\"url(#clip352)\" style=\"stroke:#ac8d18; stroke-linecap:round; stroke-linejoin:round; stroke-width:4; stroke-opacity:1; fill:none\" points=\"\n  471.597,1346.84 767.099,1286.96 \n  \"/>\n<polyline clip-path=\"url(#clip352)\" style=\"stroke:#00a9ad; stroke-linecap:round; stroke-linejoin:round; stroke-width:4; stroke-opacity:1; fill:none\" points=\"\n  1253.45,749.439 1146.74,568.407 \n  \"/>\n<polyline clip-path=\"url(#clip352)\" style=\"stroke:#ed5d92; stroke-linecap:round; stroke-linejoin:round; stroke-width:4; stroke-opacity:1; fill:none\" points=\"\n  1405.3,185.455 1372.47,216.091 \n  \"/>\n<polyline clip-path=\"url(#clip352)\" style=\"stroke:#c68125; stroke-linecap:round; stroke-linejoin:round; stroke-width:4; stroke-opacity:1; fill:none\" points=\"\n  767.099,1286.96 1354,1298.11 \n  \"/>\n<polyline clip-path=\"url(#clip352)\" style=\"stroke:#00a98d; stroke-linecap:round; stroke-linejoin:round; stroke-width:4; stroke-opacity:1; fill:none\" points=\"\n  1532.53,937.434 1454.55,965.285 \n  \"/>\n<polyline clip-path=\"url(#clip352)\" style=\"stroke:#8e971d; stroke-linecap:round; stroke-linejoin:round; stroke-width:4; stroke-opacity:1; fill:none\" points=\"\n  726.057,220.269 514.691,344.206 \n  \"/>\n<polyline clip-path=\"url(#clip352)\" style=\"stroke:#00a8cb; stroke-linecap:round; stroke-linejoin:round; stroke-width:4; stroke-opacity:1; fill:none\" points=\"\n  500.326,512.705 742.474,677.026 \n  \"/>\n<polyline clip-path=\"url(#clip352)\" style=\"stroke:#9b7fe8; stroke-linecap:round; stroke-linejoin:round; stroke-width:4; stroke-opacity:1; fill:none\" points=\"\n  1497.65,780.075 1423.77,792.608 \n  \"/>\n<polyline clip-path=\"url(#clip352)\" style=\"stroke:#608cf6; stroke-linecap:round; stroke-linejoin:round; stroke-width:4; stroke-opacity:1; fill:none\" points=\"\n  1626.93,125.575 1419.67,136.716 \n  \"/>\n<polyline clip-path=\"url(#clip352)\" style=\"stroke:#f05f73; stroke-linecap:round; stroke-linejoin:round; stroke-width:4; stroke-opacity:1; fill:none\" points=\"\n  1809.57,1412.29 2291.81,1261.9 \n  \"/>\n<polyline clip-path=\"url(#clip352)\" style=\"stroke:#dd64b5; stroke-linecap:round; stroke-linejoin:round; stroke-width:4; stroke-opacity:1; fill:none\" points=\"\n  1454.55,965.285 1431.98,924.901 \n  \"/>\n<polyline clip-path=\"url(#clip352)\" style=\"stroke:#6b9e32; stroke-linecap:round; stroke-linejoin:round; stroke-width:4; stroke-opacity:1; fill:none\" points=\"\n  996.934,306.607 970.257,319.14 \n  \"/>\n<polyline clip-path=\"url(#clip352)\" style=\"stroke:#009af9; stroke-linecap:round; stroke-linejoin:round; stroke-width:4; stroke-opacity:1; fill:none\" points=\"\n  514.691,344.206 393.617,515.49 \n  \"/>\n<polyline clip-path=\"url(#clip352)\" style=\"stroke:#e26f46; stroke-linecap:round; stroke-linejoin:round; stroke-width:4; stroke-opacity:1; fill:none\" points=\"\n  2189.2,100.509 2203.57,87.9763 \n  \"/>\n<polyline clip-path=\"url(#clip352)\" style=\"stroke:#3da44d; stroke-linecap:round; stroke-linejoin:round; stroke-width:4; stroke-opacity:1; fill:none\" points=\"\n  1423.77,792.608 1253.45,749.439 \n  \"/>\n<polyline clip-path=\"url(#clip352)\" style=\"stroke:#c271d2; stroke-linecap:round; stroke-linejoin:round; stroke-width:4; stroke-opacity:1; fill:none\" points=\"\n  1637.19,1179.74 1823.93,1011.24 \n  \"/>\n<polyline clip-path=\"url(#clip352)\" style=\"stroke:#ac8d18; stroke-linecap:round; stroke-linejoin:round; stroke-width:4; stroke-opacity:1; fill:none\" points=\"\n  1419.67,136.716 1405.3,185.455 \n  \"/>\n<polyline clip-path=\"url(#clip352)\" style=\"stroke:#00a9ad; stroke-linecap:round; stroke-linejoin:round; stroke-width:4; stroke-opacity:1; fill:none\" points=\"\n  393.617,515.49 500.326,512.705 \n  \"/>\n<polyline clip-path=\"url(#clip352)\" style=\"stroke:#ed5d92; stroke-linecap:round; stroke-linejoin:round; stroke-width:4; stroke-opacity:1; fill:none\" points=\"\n  1684.39,204.951 1694.65,149.249 \n  \"/>\n<polyline clip-path=\"url(#clip352)\" style=\"stroke:#c68125; stroke-linecap:round; stroke-linejoin:round; stroke-width:4; stroke-opacity:1; fill:none\" points=\"\n  440.815,951.359 260.231,1208.98 \n  \"/>\n<polyline clip-path=\"url(#clip352)\" style=\"stroke:#00a98d; stroke-linecap:round; stroke-linejoin:round; stroke-width:4; stroke-opacity:1; fill:none\" points=\"\n  1981.94,433.329 2082.49,136.716 \n  \"/>\n<polyline clip-path=\"url(#clip352)\" style=\"stroke:#8e971d; stroke-linecap:round; stroke-linejoin:round; stroke-width:4; stroke-opacity:1; fill:none\" points=\"\n  962.048,890.087 654.234,993.136 \n  \"/>\n<polyline clip-path=\"url(#clip352)\" style=\"stroke:#00a8cb; stroke-linecap:round; stroke-linejoin:round; stroke-width:4; stroke-opacity:1; fill:none\" points=\"\n  1823.93,1011.24 1647.45,927.686 \n  \"/>\n<polyline clip-path=\"url(#clip352)\" style=\"stroke:#9b7fe8; stroke-linecap:round; stroke-linejoin:round; stroke-width:4; stroke-opacity:1; fill:none\" points=\"\n  797.88,327.495 726.057,220.269 \n  \"/>\n<polyline clip-path=\"url(#clip352)\" style=\"stroke:#608cf6; stroke-linecap:round; stroke-linejoin:round; stroke-width:4; stroke-opacity:1; fill:none\" points=\"\n  1354,1298.11 1575.63,1445.72 \n  \"/>\n<polyline clip-path=\"url(#clip352)\" style=\"stroke:#f05f73; stroke-linecap:round; stroke-linejoin:round; stroke-width:4; stroke-opacity:1; fill:none\" points=\"\n  849.183,755.009 914.85,832.992 \n  \"/>\n<polyline clip-path=\"url(#clip352)\" style=\"stroke:#dd64b5; stroke-linecap:round; stroke-linejoin:round; stroke-width:4; stroke-opacity:1; fill:none\" points=\"\n  742.474,677.026 693.223,722.981 \n  \"/>\n<polyline clip-path=\"url(#clip352)\" style=\"stroke:#6b9e32; stroke-linecap:round; stroke-linejoin:round; stroke-width:4; stroke-opacity:1; fill:none\" points=\"\n  2254.87,767.542 1739.79,660.316 \n  \"/>\n<polyline clip-path=\"url(#clip352)\" style=\"stroke:#009af9; stroke-linecap:round; stroke-linejoin:round; stroke-width:4; stroke-opacity:1; fill:none\" points=\"\n  1998.36,763.365 2254.87,767.542 \n  \"/>\n<polyline clip-path=\"url(#clip352)\" style=\"stroke:#e26f46; stroke-linecap:round; stroke-linejoin:round; stroke-width:4; stroke-opacity:1; fill:none\" points=\"\n  1694.65,149.249 1626.93,125.575 \n  \"/>\n</svg>\n"
          },
          "metadata": {}
        },
        {
          "output_type": "stream",
          "name": "stdout",
          "text": [
            "Lower bound : 5530.0\n"
          ]
        },
        {
          "output_type": "display_data",
          "data": {
            "image/svg+xml": "<?xml version=\"1.0\" encoding=\"utf-8\"?>\n<svg xmlns=\"http://www.w3.org/2000/svg\" xmlns:xlink=\"http://www.w3.org/1999/xlink\" width=\"600\" height=\"400\" viewBox=\"0 0 2400 1600\">\n<defs>\n  <clipPath id=\"clip390\">\n    <rect x=\"0\" y=\"0\" width=\"2400\" height=\"1600\"/>\n  </clipPath>\n</defs>\n<path clip-path=\"url(#clip390)\" d=\"\nM0 1600 L2400 1600 L2400 0 L0 0  Z\n  \" fill=\"#ffffff\" fill-rule=\"evenodd\" fill-opacity=\"1\"/>\n<defs>\n  <clipPath id=\"clip391\">\n    <rect x=\"480\" y=\"0\" width=\"1681\" height=\"1600\"/>\n  </clipPath>\n</defs>\n<path clip-path=\"url(#clip390)\" d=\"\nM199.283 1486.45 L2352.76 1486.45 L2352.76 47.2441 L199.283 47.2441  Z\n  \" fill=\"#ffffff\" fill-rule=\"evenodd\" fill-opacity=\"1\"/>\n<defs>\n  <clipPath id=\"clip392\">\n    <rect x=\"199\" y=\"47\" width=\"2154\" height=\"1440\"/>\n  </clipPath>\n</defs>\n<polyline clip-path=\"url(#clip392)\" style=\"stroke:#000000; stroke-linecap:round; stroke-linejoin:round; stroke-width:2; stroke-opacity:0.1; fill:none\" points=\"\n  245.866,1486.45 245.866,47.2441 \n  \"/>\n<polyline clip-path=\"url(#clip392)\" style=\"stroke:#000000; stroke-linecap:round; stroke-linejoin:round; stroke-width:2; stroke-opacity:0.1; fill:none\" points=\"\n  758.891,1486.45 758.891,47.2441 \n  \"/>\n<polyline clip-path=\"url(#clip392)\" style=\"stroke:#000000; stroke-linecap:round; stroke-linejoin:round; stroke-width:2; stroke-opacity:0.1; fill:none\" points=\"\n  1271.92,1486.45 1271.92,47.2441 \n  \"/>\n<polyline clip-path=\"url(#clip392)\" style=\"stroke:#000000; stroke-linecap:round; stroke-linejoin:round; stroke-width:2; stroke-opacity:0.1; fill:none\" points=\"\n  1784.94,1486.45 1784.94,47.2441 \n  \"/>\n<polyline clip-path=\"url(#clip392)\" style=\"stroke:#000000; stroke-linecap:round; stroke-linejoin:round; stroke-width:2; stroke-opacity:0.1; fill:none\" points=\"\n  2297.96,1486.45 2297.96,47.2441 \n  \"/>\n<polyline clip-path=\"url(#clip390)\" style=\"stroke:#000000; stroke-linecap:round; stroke-linejoin:round; stroke-width:4; stroke-opacity:1; fill:none\" points=\"\n  199.283,1486.45 2352.76,1486.45 \n  \"/>\n<polyline clip-path=\"url(#clip390)\" style=\"stroke:#000000; stroke-linecap:round; stroke-linejoin:round; stroke-width:4; stroke-opacity:1; fill:none\" points=\"\n  245.866,1486.45 245.866,1467.55 \n  \"/>\n<polyline clip-path=\"url(#clip390)\" style=\"stroke:#000000; stroke-linecap:round; stroke-linejoin:round; stroke-width:4; stroke-opacity:1; fill:none\" points=\"\n  758.891,1486.45 758.891,1467.55 \n  \"/>\n<polyline clip-path=\"url(#clip390)\" style=\"stroke:#000000; stroke-linecap:round; stroke-linejoin:round; stroke-width:4; stroke-opacity:1; fill:none\" points=\"\n  1271.92,1486.45 1271.92,1467.55 \n  \"/>\n<polyline clip-path=\"url(#clip390)\" style=\"stroke:#000000; stroke-linecap:round; stroke-linejoin:round; stroke-width:4; stroke-opacity:1; fill:none\" points=\"\n  1784.94,1486.45 1784.94,1467.55 \n  \"/>\n<polyline clip-path=\"url(#clip390)\" style=\"stroke:#000000; stroke-linecap:round; stroke-linejoin:round; stroke-width:4; stroke-opacity:1; fill:none\" points=\"\n  2297.96,1486.45 2297.96,1467.55 \n  \"/>\n<path clip-path=\"url(#clip390)\" d=\"M245.866 1517.37 Q242.255 1517.37 240.426 1520.93 Q238.621 1524.47 238.621 1531.6 Q238.621 1538.71 240.426 1542.27 Q242.255 1545.82 245.866 1545.82 Q249.5 1545.82 251.306 1542.27 Q253.134 1538.71 253.134 1531.6 Q253.134 1524.47 251.306 1520.93 Q249.5 1517.37 245.866 1517.37 M245.866 1513.66 Q251.676 1513.66 254.732 1518.27 Q257.81 1522.85 257.81 1531.6 Q257.81 1540.33 254.732 1544.94 Q251.676 1549.52 245.866 1549.52 Q240.056 1549.52 236.977 1544.94 Q233.921 1540.33 233.921 1531.6 Q233.921 1522.85 236.977 1518.27 Q240.056 1513.66 245.866 1513.66 Z\" fill=\"#000000\" fill-rule=\"evenodd\" fill-opacity=\"1\" /><path clip-path=\"url(#clip390)\" d=\"M722.583 1544.91 L738.902 1544.91 L738.902 1548.85 L716.958 1548.85 L716.958 1544.91 Q719.62 1542.16 724.203 1537.53 Q728.81 1532.88 729.99 1531.53 Q732.236 1529.01 733.115 1527.27 Q734.018 1525.51 734.018 1523.82 Q734.018 1521.07 732.074 1519.33 Q730.152 1517.6 727.05 1517.6 Q724.851 1517.6 722.398 1518.36 Q719.967 1519.13 717.189 1520.68 L717.189 1515.95 Q720.013 1514.82 722.467 1514.24 Q724.921 1513.66 726.958 1513.66 Q732.328 1513.66 735.523 1516.35 Q738.717 1519.03 738.717 1523.52 Q738.717 1525.65 737.907 1527.57 Q737.12 1529.47 735.013 1532.07 Q734.435 1532.74 731.333 1535.95 Q728.231 1539.15 722.583 1544.91 Z\" fill=\"#000000\" fill-rule=\"evenodd\" fill-opacity=\"1\" /><path clip-path=\"url(#clip390)\" d=\"M748.763 1514.29 L767.12 1514.29 L767.12 1518.22 L753.046 1518.22 L753.046 1526.7 Q754.064 1526.35 755.083 1526.19 Q756.101 1526 757.12 1526 Q762.907 1526 766.286 1529.17 Q769.666 1532.34 769.666 1537.76 Q769.666 1543.34 766.194 1546.44 Q762.722 1549.52 756.402 1549.52 Q754.226 1549.52 751.958 1549.15 Q749.712 1548.78 747.305 1548.04 L747.305 1543.34 Q749.388 1544.47 751.611 1545.03 Q753.833 1545.58 756.31 1545.58 Q760.314 1545.58 762.652 1543.48 Q764.99 1541.37 764.99 1537.76 Q764.99 1534.15 762.652 1532.04 Q760.314 1529.94 756.31 1529.94 Q754.435 1529.94 752.56 1530.35 Q750.708 1530.77 748.763 1531.65 L748.763 1514.29 Z\" fill=\"#000000\" fill-rule=\"evenodd\" fill-opacity=\"1\" /><path clip-path=\"url(#clip390)\" d=\"M788.879 1517.37 Q785.268 1517.37 783.439 1520.93 Q781.634 1524.47 781.634 1531.6 Q781.634 1538.71 783.439 1542.27 Q785.268 1545.82 788.879 1545.82 Q792.513 1545.82 794.319 1542.27 Q796.147 1538.71 796.147 1531.6 Q796.147 1524.47 794.319 1520.93 Q792.513 1517.37 788.879 1517.37 M788.879 1513.66 Q794.689 1513.66 797.745 1518.27 Q800.823 1522.85 800.823 1531.6 Q800.823 1540.33 797.745 1544.94 Q794.689 1549.52 788.879 1549.52 Q783.069 1549.52 779.99 1544.94 Q776.934 1540.33 776.934 1531.6 Q776.934 1522.85 779.99 1518.27 Q783.069 1513.66 788.879 1513.66 Z\" fill=\"#000000\" fill-rule=\"evenodd\" fill-opacity=\"1\" /><path clip-path=\"url(#clip390)\" d=\"M1231.53 1514.29 L1249.89 1514.29 L1249.89 1518.22 L1235.82 1518.22 L1235.82 1526.7 Q1236.83 1526.35 1237.85 1526.19 Q1238.87 1526 1239.89 1526 Q1245.68 1526 1249.06 1529.17 Q1252.44 1532.34 1252.44 1537.76 Q1252.44 1543.34 1248.96 1546.44 Q1245.49 1549.52 1239.17 1549.52 Q1237 1549.52 1234.73 1549.15 Q1232.48 1548.78 1230.08 1548.04 L1230.08 1543.34 Q1232.16 1544.47 1234.38 1545.03 Q1236.6 1545.58 1239.08 1545.58 Q1243.08 1545.58 1245.42 1543.48 Q1247.76 1541.37 1247.76 1537.76 Q1247.76 1534.15 1245.42 1532.04 Q1243.08 1529.94 1239.08 1529.94 Q1237.2 1529.94 1235.33 1530.35 Q1233.48 1530.77 1231.53 1531.65 L1231.53 1514.29 Z\" fill=\"#000000\" fill-rule=\"evenodd\" fill-opacity=\"1\" /><path clip-path=\"url(#clip390)\" d=\"M1271.65 1517.37 Q1268.04 1517.37 1266.21 1520.93 Q1264.4 1524.47 1264.4 1531.6 Q1264.4 1538.71 1266.21 1542.27 Q1268.04 1545.82 1271.65 1545.82 Q1275.28 1545.82 1277.09 1542.27 Q1278.92 1538.71 1278.92 1531.6 Q1278.92 1524.47 1277.09 1520.93 Q1275.28 1517.37 1271.65 1517.37 M1271.65 1513.66 Q1277.46 1513.66 1280.51 1518.27 Q1283.59 1522.85 1283.59 1531.6 Q1283.59 1540.33 1280.51 1544.94 Q1277.46 1549.52 1271.65 1549.52 Q1265.84 1549.52 1262.76 1544.94 Q1259.7 1540.33 1259.7 1531.6 Q1259.7 1522.85 1262.76 1518.27 Q1265.84 1513.66 1271.65 1513.66 Z\" fill=\"#000000\" fill-rule=\"evenodd\" fill-opacity=\"1\" /><path clip-path=\"url(#clip390)\" d=\"M1301.81 1517.37 Q1298.2 1517.37 1296.37 1520.93 Q1294.57 1524.47 1294.57 1531.6 Q1294.57 1538.71 1296.37 1542.27 Q1298.2 1545.82 1301.81 1545.82 Q1305.45 1545.82 1307.25 1542.27 Q1309.08 1538.71 1309.08 1531.6 Q1309.08 1524.47 1307.25 1520.93 Q1305.45 1517.37 1301.81 1517.37 M1301.81 1513.66 Q1307.62 1513.66 1310.68 1518.27 Q1313.76 1522.85 1313.76 1531.6 Q1313.76 1540.33 1310.68 1544.94 Q1307.62 1549.52 1301.81 1549.52 Q1296 1549.52 1292.92 1544.94 Q1289.87 1540.33 1289.87 1531.6 Q1289.87 1522.85 1292.92 1518.27 Q1296 1513.66 1301.81 1513.66 Z\" fill=\"#000000\" fill-rule=\"evenodd\" fill-opacity=\"1\" /><path clip-path=\"url(#clip390)\" d=\"M1743.22 1514.29 L1765.44 1514.29 L1765.44 1516.28 L1752.89 1548.85 L1748.01 1548.85 L1759.81 1518.22 L1743.22 1518.22 L1743.22 1514.29 Z\" fill=\"#000000\" fill-rule=\"evenodd\" fill-opacity=\"1\" /><path clip-path=\"url(#clip390)\" d=\"M1774.6 1514.29 L1792.96 1514.29 L1792.96 1518.22 L1778.89 1518.22 L1778.89 1526.7 Q1779.91 1526.35 1780.92 1526.19 Q1781.94 1526 1782.96 1526 Q1788.75 1526 1792.13 1529.17 Q1795.51 1532.34 1795.51 1537.76 Q1795.51 1543.34 1792.03 1546.44 Q1788.56 1549.52 1782.24 1549.52 Q1780.07 1549.52 1777.8 1549.15 Q1775.55 1548.78 1773.15 1548.04 L1773.15 1543.34 Q1775.23 1544.47 1777.45 1545.03 Q1779.67 1545.58 1782.15 1545.58 Q1786.16 1545.58 1788.49 1543.48 Q1790.83 1541.37 1790.83 1537.76 Q1790.83 1534.15 1788.49 1532.04 Q1786.16 1529.94 1782.15 1529.94 Q1780.28 1529.94 1778.4 1530.35 Q1776.55 1530.77 1774.6 1531.65 L1774.6 1514.29 Z\" fill=\"#000000\" fill-rule=\"evenodd\" fill-opacity=\"1\" /><path clip-path=\"url(#clip390)\" d=\"M1814.72 1517.37 Q1811.11 1517.37 1809.28 1520.93 Q1807.47 1524.47 1807.47 1531.6 Q1807.47 1538.71 1809.28 1542.27 Q1811.11 1545.82 1814.72 1545.82 Q1818.35 1545.82 1820.16 1542.27 Q1821.99 1538.71 1821.99 1531.6 Q1821.99 1524.47 1820.16 1520.93 Q1818.35 1517.37 1814.72 1517.37 M1814.72 1513.66 Q1820.53 1513.66 1823.59 1518.27 Q1826.66 1522.85 1826.66 1531.6 Q1826.66 1540.33 1823.59 1544.94 Q1820.53 1549.52 1814.72 1549.52 Q1808.91 1549.52 1805.83 1544.94 Q1802.78 1540.33 1802.78 1531.6 Q1802.78 1522.85 1805.83 1518.27 Q1808.91 1513.66 1814.72 1513.66 Z\" fill=\"#000000\" fill-rule=\"evenodd\" fill-opacity=\"1\" /><path clip-path=\"url(#clip390)\" d=\"M2242.49 1544.91 L2250.13 1544.91 L2250.13 1518.55 L2241.82 1520.21 L2241.82 1515.95 L2250.08 1514.29 L2254.76 1514.29 L2254.76 1544.91 L2262.4 1544.91 L2262.4 1548.85 L2242.49 1548.85 L2242.49 1544.91 Z\" fill=\"#000000\" fill-rule=\"evenodd\" fill-opacity=\"1\" /><path clip-path=\"url(#clip390)\" d=\"M2281.84 1517.37 Q2278.23 1517.37 2276.4 1520.93 Q2274.6 1524.47 2274.6 1531.6 Q2274.6 1538.71 2276.4 1542.27 Q2278.23 1545.82 2281.84 1545.82 Q2285.48 1545.82 2287.28 1542.27 Q2289.11 1538.71 2289.11 1531.6 Q2289.11 1524.47 2287.28 1520.93 Q2285.48 1517.37 2281.84 1517.37 M2281.84 1513.66 Q2287.65 1513.66 2290.71 1518.27 Q2293.79 1522.85 2293.79 1531.6 Q2293.79 1540.33 2290.71 1544.94 Q2287.65 1549.52 2281.84 1549.52 Q2276.03 1549.52 2272.95 1544.94 Q2269.9 1540.33 2269.9 1531.6 Q2269.9 1522.85 2272.95 1518.27 Q2276.03 1513.66 2281.84 1513.66 Z\" fill=\"#000000\" fill-rule=\"evenodd\" fill-opacity=\"1\" /><path clip-path=\"url(#clip390)\" d=\"M2312 1517.37 Q2308.39 1517.37 2306.56 1520.93 Q2304.76 1524.47 2304.76 1531.6 Q2304.76 1538.71 2306.56 1542.27 Q2308.39 1545.82 2312 1545.82 Q2315.64 1545.82 2317.44 1542.27 Q2319.27 1538.71 2319.27 1531.6 Q2319.27 1524.47 2317.44 1520.93 Q2315.64 1517.37 2312 1517.37 M2312 1513.66 Q2317.81 1513.66 2320.87 1518.27 Q2323.95 1522.85 2323.95 1531.6 Q2323.95 1540.33 2320.87 1544.94 Q2317.81 1549.52 2312 1549.52 Q2306.19 1549.52 2303.12 1544.94 Q2300.06 1540.33 2300.06 1531.6 Q2300.06 1522.85 2303.12 1518.27 Q2306.19 1513.66 2312 1513.66 Z\" fill=\"#000000\" fill-rule=\"evenodd\" fill-opacity=\"1\" /><path clip-path=\"url(#clip390)\" d=\"M2342.17 1517.37 Q2338.55 1517.37 2336.73 1520.93 Q2334.92 1524.47 2334.92 1531.6 Q2334.92 1538.71 2336.73 1542.27 Q2338.55 1545.82 2342.17 1545.82 Q2345.8 1545.82 2347.61 1542.27 Q2349.43 1538.71 2349.43 1531.6 Q2349.43 1524.47 2347.61 1520.93 Q2345.8 1517.37 2342.17 1517.37 M2342.17 1513.66 Q2347.98 1513.66 2351.03 1518.27 Q2354.11 1522.85 2354.11 1531.6 Q2354.11 1540.33 2351.03 1544.94 Q2347.98 1549.52 2342.17 1549.52 Q2336.36 1549.52 2333.28 1544.94 Q2330.22 1540.33 2330.22 1531.6 Q2330.22 1522.85 2333.28 1518.27 Q2336.36 1513.66 2342.17 1513.66 Z\" fill=\"#000000\" fill-rule=\"evenodd\" fill-opacity=\"1\" /><polyline clip-path=\"url(#clip392)\" style=\"stroke:#000000; stroke-linecap:round; stroke-linejoin:round; stroke-width:2; stroke-opacity:0.1; fill:none\" points=\"\n  199.283,1448.5 2352.76,1448.5 \n  \"/>\n<polyline clip-path=\"url(#clip392)\" style=\"stroke:#000000; stroke-linecap:round; stroke-linejoin:round; stroke-width:2; stroke-opacity:0.1; fill:none\" points=\"\n  199.283,1100.36 2352.76,1100.36 \n  \"/>\n<polyline clip-path=\"url(#clip392)\" style=\"stroke:#000000; stroke-linecap:round; stroke-linejoin:round; stroke-width:2; stroke-opacity:0.1; fill:none\" points=\"\n  199.283,752.224 2352.76,752.224 \n  \"/>\n<polyline clip-path=\"url(#clip392)\" style=\"stroke:#000000; stroke-linecap:round; stroke-linejoin:round; stroke-width:2; stroke-opacity:0.1; fill:none\" points=\"\n  199.283,404.086 2352.76,404.086 \n  \"/>\n<polyline clip-path=\"url(#clip392)\" style=\"stroke:#000000; stroke-linecap:round; stroke-linejoin:round; stroke-width:2; stroke-opacity:0.1; fill:none\" points=\"\n  199.283,55.9476 2352.76,55.9476 \n  \"/>\n<polyline clip-path=\"url(#clip390)\" style=\"stroke:#000000; stroke-linecap:round; stroke-linejoin:round; stroke-width:4; stroke-opacity:1; fill:none\" points=\"\n  199.283,1486.45 199.283,47.2441 \n  \"/>\n<polyline clip-path=\"url(#clip390)\" style=\"stroke:#000000; stroke-linecap:round; stroke-linejoin:round; stroke-width:4; stroke-opacity:1; fill:none\" points=\"\n  199.283,1448.5 218.181,1448.5 \n  \"/>\n<polyline clip-path=\"url(#clip390)\" style=\"stroke:#000000; stroke-linecap:round; stroke-linejoin:round; stroke-width:4; stroke-opacity:1; fill:none\" points=\"\n  199.283,1100.36 218.181,1100.36 \n  \"/>\n<polyline clip-path=\"url(#clip390)\" style=\"stroke:#000000; stroke-linecap:round; stroke-linejoin:round; stroke-width:4; stroke-opacity:1; fill:none\" points=\"\n  199.283,752.224 218.181,752.224 \n  \"/>\n<polyline clip-path=\"url(#clip390)\" style=\"stroke:#000000; stroke-linecap:round; stroke-linejoin:round; stroke-width:4; stroke-opacity:1; fill:none\" points=\"\n  199.283,404.086 218.181,404.086 \n  \"/>\n<polyline clip-path=\"url(#clip390)\" style=\"stroke:#000000; stroke-linecap:round; stroke-linejoin:round; stroke-width:4; stroke-opacity:1; fill:none\" points=\"\n  199.283,55.9476 218.181,55.9476 \n  \"/>\n<path clip-path=\"url(#clip390)\" d=\"M151.339 1434.3 Q147.728 1434.3 145.899 1437.86 Q144.093 1441.41 144.093 1448.54 Q144.093 1455.64 145.899 1459.21 Q147.728 1462.75 151.339 1462.75 Q154.973 1462.75 156.779 1459.21 Q158.607 1455.64 158.607 1448.54 Q158.607 1441.41 156.779 1437.86 Q154.973 1434.3 151.339 1434.3 M151.339 1430.6 Q157.149 1430.6 160.205 1435.2 Q163.283 1439.79 163.283 1448.54 Q163.283 1457.26 160.205 1461.87 Q157.149 1466.45 151.339 1466.45 Q145.529 1466.45 142.45 1461.87 Q139.394 1457.26 139.394 1448.54 Q139.394 1439.79 142.45 1435.2 Q145.529 1430.6 151.339 1430.6 Z\" fill=\"#000000\" fill-rule=\"evenodd\" fill-opacity=\"1\" /><path clip-path=\"url(#clip390)\" d=\"M85.0429 1113.71 L101.362 1113.71 L101.362 1117.64 L79.4179 1117.64 L79.4179 1113.71 Q82.0799 1110.95 86.6632 1106.32 Q91.2697 1101.67 92.4502 1100.33 Q94.6956 1097.8 95.5752 1096.07 Q96.478 1094.31 96.478 1092.62 Q96.478 1089.86 94.5336 1088.13 Q92.6123 1086.39 89.5104 1086.39 Q87.3114 1086.39 84.8577 1087.16 Q82.4271 1087.92 79.6494 1089.47 L79.6494 1084.75 Q82.4734 1083.61 84.9271 1083.04 Q87.3808 1082.46 89.4178 1082.46 Q94.7882 1082.46 97.9826 1085.14 Q101.177 1087.83 101.177 1092.32 Q101.177 1094.45 100.367 1096.37 Q99.5798 1098.27 97.4734 1100.86 Q96.8947 1101.53 93.7928 1104.75 Q90.691 1107.94 85.0429 1113.71 Z\" fill=\"#000000\" fill-rule=\"evenodd\" fill-opacity=\"1\" /><path clip-path=\"url(#clip390)\" d=\"M111.223 1083.08 L129.58 1083.08 L129.58 1087.02 L115.506 1087.02 L115.506 1095.49 Q116.524 1095.14 117.543 1094.98 Q118.561 1094.8 119.58 1094.8 Q125.367 1094.8 128.746 1097.97 Q132.126 1101.14 132.126 1106.55 Q132.126 1112.13 128.654 1115.24 Q125.182 1118.31 118.862 1118.31 Q116.686 1118.31 114.418 1117.94 Q112.172 1117.57 109.765 1116.83 L109.765 1112.13 Q111.848 1113.27 114.07 1113.82 Q116.293 1114.38 118.77 1114.38 Q122.774 1114.38 125.112 1112.27 Q127.45 1110.17 127.45 1106.55 Q127.45 1102.94 125.112 1100.84 Q122.774 1098.73 118.77 1098.73 Q116.895 1098.73 115.02 1099.15 Q113.168 1099.56 111.223 1100.44 L111.223 1083.08 Z\" fill=\"#000000\" fill-rule=\"evenodd\" fill-opacity=\"1\" /><path clip-path=\"url(#clip390)\" d=\"M151.339 1086.16 Q147.728 1086.16 145.899 1089.73 Q144.093 1093.27 144.093 1100.4 Q144.093 1107.5 145.899 1111.07 Q147.728 1114.61 151.339 1114.61 Q154.973 1114.61 156.779 1111.07 Q158.607 1107.5 158.607 1100.4 Q158.607 1093.27 156.779 1089.73 Q154.973 1086.16 151.339 1086.16 M151.339 1082.46 Q157.149 1082.46 160.205 1087.06 Q163.283 1091.65 163.283 1100.4 Q163.283 1109.12 160.205 1113.73 Q157.149 1118.31 151.339 1118.31 Q145.529 1118.31 142.45 1113.73 Q139.394 1109.12 139.394 1100.4 Q139.394 1091.65 142.45 1087.06 Q145.529 1082.46 151.339 1082.46 Z\" fill=\"#000000\" fill-rule=\"evenodd\" fill-opacity=\"1\" /><path clip-path=\"url(#clip390)\" d=\"M81.0614 734.944 L99.4178 734.944 L99.4178 738.879 L85.3438 738.879 L85.3438 747.352 Q86.3623 747.004 87.3808 746.842 Q88.3993 746.657 89.4178 746.657 Q95.2049 746.657 98.5845 749.828 Q101.964 753 101.964 758.416 Q101.964 763.995 98.4919 767.097 Q95.0197 770.175 88.7003 770.175 Q86.5243 770.175 84.2558 769.805 Q82.0105 769.435 79.6031 768.694 L79.6031 763.995 Q81.6864 765.129 83.9086 765.685 Q86.1308 766.24 88.6077 766.24 Q92.6123 766.24 94.9502 764.134 Q97.2882 762.027 97.2882 758.416 Q97.2882 754.805 94.9502 752.699 Q92.6123 750.592 88.6077 750.592 Q86.7327 750.592 84.8577 751.009 Q83.0058 751.426 81.0614 752.305 L81.0614 734.944 Z\" fill=\"#000000\" fill-rule=\"evenodd\" fill-opacity=\"1\" /><path clip-path=\"url(#clip390)\" d=\"M121.177 738.023 Q117.566 738.023 115.737 741.588 Q113.932 745.129 113.932 752.259 Q113.932 759.365 115.737 762.93 Q117.566 766.472 121.177 766.472 Q124.811 766.472 126.617 762.93 Q128.445 759.365 128.445 752.259 Q128.445 745.129 126.617 741.588 Q124.811 738.023 121.177 738.023 M121.177 734.319 Q126.987 734.319 130.043 738.926 Q133.121 743.509 133.121 752.259 Q133.121 760.986 130.043 765.592 Q126.987 770.175 121.177 770.175 Q115.367 770.175 112.288 765.592 Q109.233 760.986 109.233 752.259 Q109.233 743.509 112.288 738.926 Q115.367 734.319 121.177 734.319 Z\" fill=\"#000000\" fill-rule=\"evenodd\" fill-opacity=\"1\" /><path clip-path=\"url(#clip390)\" d=\"M151.339 738.023 Q147.728 738.023 145.899 741.588 Q144.093 745.129 144.093 752.259 Q144.093 759.365 145.899 762.93 Q147.728 766.472 151.339 766.472 Q154.973 766.472 156.779 762.93 Q158.607 759.365 158.607 752.259 Q158.607 745.129 156.779 741.588 Q154.973 738.023 151.339 738.023 M151.339 734.319 Q157.149 734.319 160.205 738.926 Q163.283 743.509 163.283 752.259 Q163.283 760.986 160.205 765.592 Q157.149 770.175 151.339 770.175 Q145.529 770.175 142.45 765.592 Q139.394 760.986 139.394 752.259 Q139.394 743.509 142.45 738.926 Q145.529 734.319 151.339 734.319 Z\" fill=\"#000000\" fill-rule=\"evenodd\" fill-opacity=\"1\" /><path clip-path=\"url(#clip390)\" d=\"M79.8346 386.806 L102.057 386.806 L102.057 388.797 L89.5104 421.366 L84.6262 421.366 L96.4317 390.741 L79.8346 390.741 L79.8346 386.806 Z\" fill=\"#000000\" fill-rule=\"evenodd\" fill-opacity=\"1\" /><path clip-path=\"url(#clip390)\" d=\"M111.223 386.806 L129.58 386.806 L129.58 390.741 L115.506 390.741 L115.506 399.213 Q116.524 398.866 117.543 398.704 Q118.561 398.519 119.58 398.519 Q125.367 398.519 128.746 401.69 Q132.126 404.861 132.126 410.278 Q132.126 415.857 128.654 418.958 Q125.182 422.037 118.862 422.037 Q116.686 422.037 114.418 421.667 Q112.172 421.296 109.765 420.556 L109.765 415.857 Q111.848 416.991 114.07 417.546 Q116.293 418.102 118.77 418.102 Q122.774 418.102 125.112 415.996 Q127.45 413.889 127.45 410.278 Q127.45 406.667 125.112 404.56 Q122.774 402.454 118.77 402.454 Q116.895 402.454 115.02 402.871 Q113.168 403.287 111.223 404.167 L111.223 386.806 Z\" fill=\"#000000\" fill-rule=\"evenodd\" fill-opacity=\"1\" /><path clip-path=\"url(#clip390)\" d=\"M151.339 389.885 Q147.728 389.885 145.899 393.449 Q144.093 396.991 144.093 404.121 Q144.093 411.227 145.899 414.792 Q147.728 418.333 151.339 418.333 Q154.973 418.333 156.779 414.792 Q158.607 411.227 158.607 404.121 Q158.607 396.991 156.779 393.449 Q154.973 389.885 151.339 389.885 M151.339 386.181 Q157.149 386.181 160.205 390.787 Q163.283 395.371 163.283 404.121 Q163.283 412.847 160.205 417.454 Q157.149 422.037 151.339 422.037 Q145.529 422.037 142.45 417.454 Q139.394 412.847 139.394 404.121 Q139.394 395.371 142.45 390.787 Q145.529 386.181 151.339 386.181 Z\" fill=\"#000000\" fill-rule=\"evenodd\" fill-opacity=\"1\" /><path clip-path=\"url(#clip390)\" d=\"M51.6634 69.2924 L59.3023 69.2924 L59.3023 42.9268 L50.9921 44.5934 L50.9921 40.3342 L59.256 38.6676 L63.9319 38.6676 L63.9319 69.2924 L71.5707 69.2924 L71.5707 73.2276 L51.6634 73.2276 L51.6634 69.2924 Z\" fill=\"#000000\" fill-rule=\"evenodd\" fill-opacity=\"1\" /><path clip-path=\"url(#clip390)\" d=\"M91.0151 41.7462 Q87.404 41.7462 85.5753 45.311 Q83.7697 48.8527 83.7697 55.9823 Q83.7697 63.0887 85.5753 66.6535 Q87.404 70.1952 91.0151 70.1952 Q94.6493 70.1952 96.4548 66.6535 Q98.2835 63.0887 98.2835 55.9823 Q98.2835 48.8527 96.4548 45.311 Q94.6493 41.7462 91.0151 41.7462 M91.0151 38.0426 Q96.8252 38.0426 99.8808 42.649 Q102.959 47.2323 102.959 55.9823 Q102.959 64.7091 99.8808 69.3155 Q96.8252 73.8988 91.0151 73.8988 Q85.2049 73.8988 82.1262 69.3155 Q79.0707 64.7091 79.0707 55.9823 Q79.0707 47.2323 82.1262 42.649 Q85.2049 38.0426 91.0151 38.0426 Z\" fill=\"#000000\" fill-rule=\"evenodd\" fill-opacity=\"1\" /><path clip-path=\"url(#clip390)\" d=\"M121.177 41.7462 Q117.566 41.7462 115.737 45.311 Q113.932 48.8527 113.932 55.9823 Q113.932 63.0887 115.737 66.6535 Q117.566 70.1952 121.177 70.1952 Q124.811 70.1952 126.617 66.6535 Q128.445 63.0887 128.445 55.9823 Q128.445 48.8527 126.617 45.311 Q124.811 41.7462 121.177 41.7462 M121.177 38.0426 Q126.987 38.0426 130.043 42.649 Q133.121 47.2323 133.121 55.9823 Q133.121 64.7091 130.043 69.3155 Q126.987 73.8988 121.177 73.8988 Q115.367 73.8988 112.288 69.3155 Q109.233 64.7091 109.233 55.9823 Q109.233 47.2323 112.288 42.649 Q115.367 38.0426 121.177 38.0426 Z\" fill=\"#000000\" fill-rule=\"evenodd\" fill-opacity=\"1\" /><path clip-path=\"url(#clip390)\" d=\"M151.339 41.7462 Q147.728 41.7462 145.899 45.311 Q144.093 48.8527 144.093 55.9823 Q144.093 63.0887 145.899 66.6535 Q147.728 70.1952 151.339 70.1952 Q154.973 70.1952 156.779 66.6535 Q158.607 63.0887 158.607 55.9823 Q158.607 48.8527 156.779 45.311 Q154.973 41.7462 151.339 41.7462 M151.339 38.0426 Q157.149 38.0426 160.205 42.649 Q163.283 47.2323 163.283 55.9823 Q163.283 64.7091 160.205 69.3155 Q157.149 73.8988 151.339 73.8988 Q145.529 73.8988 142.45 69.3155 Q139.394 64.7091 139.394 55.9823 Q139.394 47.2323 142.45 42.649 Q145.529 38.0426 151.339 38.0426 Z\" fill=\"#000000\" fill-rule=\"evenodd\" fill-opacity=\"1\" /><polyline clip-path=\"url(#clip392)\" style=\"stroke:#009af9; stroke-linecap:round; stroke-linejoin:round; stroke-width:4; stroke-opacity:1; fill:none\" points=\"\n  914.85,832.992 849.183,755.009 \n  \"/>\n<polyline clip-path=\"url(#clip392)\" style=\"stroke:#e26f46; stroke-linecap:round; stroke-linejoin:round; stroke-width:4; stroke-opacity:1; fill:none\" points=\"\n  1372.47,216.091 1405.3,185.455 \n  \"/>\n<polyline clip-path=\"url(#clip392)\" style=\"stroke:#3da44d; stroke-linecap:round; stroke-linejoin:round; stroke-width:4; stroke-opacity:1; fill:none\" points=\"\n  693.223,722.981 440.815,951.359 \n  \"/>\n<polyline clip-path=\"url(#clip392)\" style=\"stroke:#c271d2; stroke-linecap:round; stroke-linejoin:round; stroke-width:4; stroke-opacity:1; fill:none\" points=\"\n  2082.49,136.716 2189.2,100.509 \n  \"/>\n<polyline clip-path=\"url(#clip392)\" style=\"stroke:#ac8d18; stroke-linecap:round; stroke-linejoin:round; stroke-width:4; stroke-opacity:1; fill:none\" points=\"\n  970.257,319.14 996.934,306.607 \n  \"/>\n<polyline clip-path=\"url(#clip392)\" style=\"stroke:#00a9ad; stroke-linecap:round; stroke-linejoin:round; stroke-width:4; stroke-opacity:1; fill:none\" points=\"\n  1054.39,800.964 914.85,832.992 \n  \"/>\n<polyline clip-path=\"url(#clip392)\" style=\"stroke:#ed5d92; stroke-linecap:round; stroke-linejoin:round; stroke-width:4; stroke-opacity:1; fill:none\" points=\"\n  2203.57,87.9763 2209.72,433.329 \n  \"/>\n<polyline clip-path=\"url(#clip392)\" style=\"stroke:#c68125; stroke-linecap:round; stroke-linejoin:round; stroke-width:4; stroke-opacity:1; fill:none\" points=\"\n  1879.34,752.224 1998.36,763.365 \n  \"/>\n<polyline clip-path=\"url(#clip392)\" style=\"stroke:#00a98d; stroke-linecap:round; stroke-linejoin:round; stroke-width:4; stroke-opacity:1; fill:none\" points=\"\n  1259.6,451.433 1372.47,216.091 \n  \"/>\n<polyline clip-path=\"url(#clip392)\" style=\"stroke:#8e971d; stroke-linecap:round; stroke-linejoin:round; stroke-width:4; stroke-opacity:1; fill:none\" points=\"\n  1782.89,1183.92 1823.93,1011.24 \n  \"/>\n<polyline clip-path=\"url(#clip392)\" style=\"stroke:#00a8cb; stroke-linecap:round; stroke-linejoin:round; stroke-width:4; stroke-opacity:1; fill:none\" points=\"\n  1431.98,924.901 1497.65,780.075 \n  \"/>\n<polyline clip-path=\"url(#clip392)\" style=\"stroke:#9b7fe8; stroke-linecap:round; stroke-linejoin:round; stroke-width:4; stroke-opacity:1; fill:none\" points=\"\n  1739.79,660.316 1782.89,707.662 \n  \"/>\n<polyline clip-path=\"url(#clip392)\" style=\"stroke:#608cf6; stroke-linecap:round; stroke-linejoin:round; stroke-width:4; stroke-opacity:1; fill:none\" points=\"\n  260.231,1208.98 471.597,1346.84 \n  \"/>\n<polyline clip-path=\"url(#clip392)\" style=\"stroke:#f05f73; stroke-linecap:round; stroke-linejoin:round; stroke-width:4; stroke-opacity:1; fill:none\" points=\"\n  654.234,993.136 962.048,890.087 \n  \"/>\n<polyline clip-path=\"url(#clip392)\" style=\"stroke:#dd64b5; stroke-linecap:round; stroke-linejoin:round; stroke-width:4; stroke-opacity:1; fill:none\" points=\"\n  1146.74,568.407 1259.6,451.433 \n  \"/>\n<polyline clip-path=\"url(#clip392)\" style=\"stroke:#6b9e32; stroke-linecap:round; stroke-linejoin:round; stroke-width:4; stroke-opacity:1; fill:none\" points=\"\n  1647.45,927.686 1532.53,937.434 \n  \"/>\n<polyline clip-path=\"url(#clip392)\" style=\"stroke:#009af9; stroke-linecap:round; stroke-linejoin:round; stroke-width:4; stroke-opacity:1; fill:none\" points=\"\n  2209.72,433.329 1981.94,433.329 \n  \"/>\n<polyline clip-path=\"url(#clip392)\" style=\"stroke:#e26f46; stroke-linecap:round; stroke-linejoin:round; stroke-width:4; stroke-opacity:1; fill:none\" points=\"\n  1575.63,1445.72 1354,1298.11 \n  \"/>\n<polyline clip-path=\"url(#clip392)\" style=\"stroke:#3da44d; stroke-linecap:round; stroke-linejoin:round; stroke-width:4; stroke-opacity:1; fill:none\" points=\"\n  2291.81,1261.9 1809.57,1412.29 \n  \"/>\n<polyline clip-path=\"url(#clip392)\" style=\"stroke:#c271d2; stroke-linecap:round; stroke-linejoin:round; stroke-width:4; stroke-opacity:1; fill:none\" points=\"\n  1782.89,707.662 1879.34,752.224 \n  \"/>\n<polyline clip-path=\"url(#clip392)\" style=\"stroke:#ac8d18; stroke-linecap:round; stroke-linejoin:round; stroke-width:4; stroke-opacity:1; fill:none\" points=\"\n  471.597,1346.84 767.099,1286.96 \n  \"/>\n<polyline clip-path=\"url(#clip392)\" style=\"stroke:#00a9ad; stroke-linecap:round; stroke-linejoin:round; stroke-width:4; stroke-opacity:1; fill:none\" points=\"\n  1253.45,749.439 1146.74,568.407 \n  \"/>\n<polyline clip-path=\"url(#clip392)\" style=\"stroke:#ed5d92; stroke-linecap:round; stroke-linejoin:round; stroke-width:4; stroke-opacity:1; fill:none\" points=\"\n  1405.3,185.455 1419.67,136.716 \n  \"/>\n<polyline clip-path=\"url(#clip392)\" style=\"stroke:#c68125; stroke-linecap:round; stroke-linejoin:round; stroke-width:4; stroke-opacity:1; fill:none\" points=\"\n  767.099,1286.96 260.231,1208.98 \n  \"/>\n<polyline clip-path=\"url(#clip392)\" style=\"stroke:#00a98d; stroke-linecap:round; stroke-linejoin:round; stroke-width:4; stroke-opacity:1; fill:none\" points=\"\n  1532.53,937.434 1454.55,965.285 \n  \"/>\n<polyline clip-path=\"url(#clip392)\" style=\"stroke:#8e971d; stroke-linecap:round; stroke-linejoin:round; stroke-width:4; stroke-opacity:1; fill:none\" points=\"\n  726.057,220.269 500.326,512.705 \n  \"/>\n<polyline clip-path=\"url(#clip392)\" style=\"stroke:#00a8cb; stroke-linecap:round; stroke-linejoin:round; stroke-width:4; stroke-opacity:1; fill:none\" points=\"\n  500.326,512.705 393.617,515.49 \n  \"/>\n<polyline clip-path=\"url(#clip392)\" style=\"stroke:#9b7fe8; stroke-linecap:round; stroke-linejoin:round; stroke-width:4; stroke-opacity:1; fill:none\" points=\"\n  1497.65,780.075 1423.77,792.608 \n  \"/>\n<polyline clip-path=\"url(#clip392)\" style=\"stroke:#608cf6; stroke-linecap:round; stroke-linejoin:round; stroke-width:4; stroke-opacity:1; fill:none\" points=\"\n  1626.93,125.575 1694.65,149.249 \n  \"/>\n<polyline clip-path=\"url(#clip392)\" style=\"stroke:#f05f73; stroke-linecap:round; stroke-linejoin:round; stroke-width:4; stroke-opacity:1; fill:none\" points=\"\n  1809.57,1412.29 1575.63,1445.72 \n  \"/>\n<polyline clip-path=\"url(#clip392)\" style=\"stroke:#dd64b5; stroke-linecap:round; stroke-linejoin:round; stroke-width:4; stroke-opacity:1; fill:none\" points=\"\n  1454.55,965.285 1431.98,924.901 \n  \"/>\n<polyline clip-path=\"url(#clip392)\" style=\"stroke:#6b9e32; stroke-linecap:round; stroke-linejoin:round; stroke-width:4; stroke-opacity:1; fill:none\" points=\"\n  996.934,306.607 797.88,327.495 \n  \"/>\n<polyline clip-path=\"url(#clip392)\" style=\"stroke:#009af9; stroke-linecap:round; stroke-linejoin:round; stroke-width:4; stroke-opacity:1; fill:none\" points=\"\n  514.691,344.206 726.057,220.269 \n  \"/>\n<polyline clip-path=\"url(#clip392)\" style=\"stroke:#e26f46; stroke-linecap:round; stroke-linejoin:round; stroke-width:4; stroke-opacity:1; fill:none\" points=\"\n  2189.2,100.509 2203.57,87.9763 \n  \"/>\n<polyline clip-path=\"url(#clip392)\" style=\"stroke:#3da44d; stroke-linecap:round; stroke-linejoin:round; stroke-width:4; stroke-opacity:1; fill:none\" points=\"\n  1423.77,792.608 1253.45,749.439 \n  \"/>\n<polyline clip-path=\"url(#clip392)\" style=\"stroke:#c271d2; stroke-linecap:round; stroke-linejoin:round; stroke-width:4; stroke-opacity:1; fill:none\" points=\"\n  1637.19,1179.74 1782.89,1183.92 \n  \"/>\n<polyline clip-path=\"url(#clip392)\" style=\"stroke:#ac8d18; stroke-linecap:round; stroke-linejoin:round; stroke-width:4; stroke-opacity:1; fill:none\" points=\"\n  1419.67,136.716 1626.93,125.575 \n  \"/>\n<polyline clip-path=\"url(#clip392)\" style=\"stroke:#00a9ad; stroke-linecap:round; stroke-linejoin:round; stroke-width:4; stroke-opacity:1; fill:none\" points=\"\n  393.617,515.49 514.691,344.206 \n  \"/>\n<polyline clip-path=\"url(#clip392)\" style=\"stroke:#ed5d92; stroke-linecap:round; stroke-linejoin:round; stroke-width:4; stroke-opacity:1; fill:none\" points=\"\n  1684.39,204.951 2082.49,136.716 \n  \"/>\n<polyline clip-path=\"url(#clip392)\" style=\"stroke:#c68125; stroke-linecap:round; stroke-linejoin:round; stroke-width:4; stroke-opacity:1; fill:none\" points=\"\n  440.815,951.359 654.234,993.136 \n  \"/>\n<polyline clip-path=\"url(#clip392)\" style=\"stroke:#00a98d; stroke-linecap:round; stroke-linejoin:round; stroke-width:4; stroke-opacity:1; fill:none\" points=\"\n  1981.94,433.329 1739.79,660.316 \n  \"/>\n<polyline clip-path=\"url(#clip392)\" style=\"stroke:#8e971d; stroke-linecap:round; stroke-linejoin:round; stroke-width:4; stroke-opacity:1; fill:none\" points=\"\n  962.048,890.087 1054.39,800.964 \n  \"/>\n<polyline clip-path=\"url(#clip392)\" style=\"stroke:#00a8cb; stroke-linecap:round; stroke-linejoin:round; stroke-width:4; stroke-opacity:1; fill:none\" points=\"\n  1823.93,1011.24 1647.45,927.686 \n  \"/>\n<polyline clip-path=\"url(#clip392)\" style=\"stroke:#9b7fe8; stroke-linecap:round; stroke-linejoin:round; stroke-width:4; stroke-opacity:1; fill:none\" points=\"\n  797.88,327.495 970.257,319.14 \n  \"/>\n<polyline clip-path=\"url(#clip392)\" style=\"stroke:#608cf6; stroke-linecap:round; stroke-linejoin:round; stroke-width:4; stroke-opacity:1; fill:none\" points=\"\n  1354,1298.11 1637.19,1179.74 \n  \"/>\n<polyline clip-path=\"url(#clip392)\" style=\"stroke:#f05f73; stroke-linecap:round; stroke-linejoin:round; stroke-width:4; stroke-opacity:1; fill:none\" points=\"\n  849.183,755.009 742.474,677.026 \n  \"/>\n<polyline clip-path=\"url(#clip392)\" style=\"stroke:#dd64b5; stroke-linecap:round; stroke-linejoin:round; stroke-width:4; stroke-opacity:1; fill:none\" points=\"\n  742.474,677.026 693.223,722.981 \n  \"/>\n<polyline clip-path=\"url(#clip392)\" style=\"stroke:#6b9e32; stroke-linecap:round; stroke-linejoin:round; stroke-width:4; stroke-opacity:1; fill:none\" points=\"\n  2254.87,767.542 2291.81,1261.9 \n  \"/>\n<polyline clip-path=\"url(#clip392)\" style=\"stroke:#009af9; stroke-linecap:round; stroke-linejoin:round; stroke-width:4; stroke-opacity:1; fill:none\" points=\"\n  1998.36,763.365 2254.87,767.542 \n  \"/>\n<polyline clip-path=\"url(#clip392)\" style=\"stroke:#e26f46; stroke-linecap:round; stroke-linejoin:round; stroke-width:4; stroke-opacity:1; fill:none\" points=\"\n  1694.65,149.249 1684.39,204.951 \n  \"/>\n</svg>\n"
          },
          "metadata": {}
        },
        {
          "output_type": "stream",
          "name": "stdout",
          "text": [
            "Lower bound : 5595.0\n"
          ]
        },
        {
          "output_type": "display_data",
          "data": {
            "image/svg+xml": "<?xml version=\"1.0\" encoding=\"utf-8\"?>\n<svg xmlns=\"http://www.w3.org/2000/svg\" xmlns:xlink=\"http://www.w3.org/1999/xlink\" width=\"600\" height=\"400\" viewBox=\"0 0 2400 1600\">\n<defs>\n  <clipPath id=\"clip430\">\n    <rect x=\"0\" y=\"0\" width=\"2400\" height=\"1600\"/>\n  </clipPath>\n</defs>\n<path clip-path=\"url(#clip430)\" d=\"\nM0 1600 L2400 1600 L2400 0 L0 0  Z\n  \" fill=\"#ffffff\" fill-rule=\"evenodd\" fill-opacity=\"1\"/>\n<defs>\n  <clipPath id=\"clip431\">\n    <rect x=\"480\" y=\"0\" width=\"1681\" height=\"1600\"/>\n  </clipPath>\n</defs>\n<path clip-path=\"url(#clip430)\" d=\"\nM199.283 1486.45 L2352.76 1486.45 L2352.76 47.2441 L199.283 47.2441  Z\n  \" fill=\"#ffffff\" fill-rule=\"evenodd\" fill-opacity=\"1\"/>\n<defs>\n  <clipPath id=\"clip432\">\n    <rect x=\"199\" y=\"47\" width=\"2154\" height=\"1440\"/>\n  </clipPath>\n</defs>\n<polyline clip-path=\"url(#clip432)\" style=\"stroke:#000000; stroke-linecap:round; stroke-linejoin:round; stroke-width:2; stroke-opacity:0.1; fill:none\" points=\"\n  245.866,1486.45 245.866,47.2441 \n  \"/>\n<polyline clip-path=\"url(#clip432)\" style=\"stroke:#000000; stroke-linecap:round; stroke-linejoin:round; stroke-width:2; stroke-opacity:0.1; fill:none\" points=\"\n  758.891,1486.45 758.891,47.2441 \n  \"/>\n<polyline clip-path=\"url(#clip432)\" style=\"stroke:#000000; stroke-linecap:round; stroke-linejoin:round; stroke-width:2; stroke-opacity:0.1; fill:none\" points=\"\n  1271.92,1486.45 1271.92,47.2441 \n  \"/>\n<polyline clip-path=\"url(#clip432)\" style=\"stroke:#000000; stroke-linecap:round; stroke-linejoin:round; stroke-width:2; stroke-opacity:0.1; fill:none\" points=\"\n  1784.94,1486.45 1784.94,47.2441 \n  \"/>\n<polyline clip-path=\"url(#clip432)\" style=\"stroke:#000000; stroke-linecap:round; stroke-linejoin:round; stroke-width:2; stroke-opacity:0.1; fill:none\" points=\"\n  2297.96,1486.45 2297.96,47.2441 \n  \"/>\n<polyline clip-path=\"url(#clip430)\" style=\"stroke:#000000; stroke-linecap:round; stroke-linejoin:round; stroke-width:4; stroke-opacity:1; fill:none\" points=\"\n  199.283,1486.45 2352.76,1486.45 \n  \"/>\n<polyline clip-path=\"url(#clip430)\" style=\"stroke:#000000; stroke-linecap:round; stroke-linejoin:round; stroke-width:4; stroke-opacity:1; fill:none\" points=\"\n  245.866,1486.45 245.866,1467.55 \n  \"/>\n<polyline clip-path=\"url(#clip430)\" style=\"stroke:#000000; stroke-linecap:round; stroke-linejoin:round; stroke-width:4; stroke-opacity:1; fill:none\" points=\"\n  758.891,1486.45 758.891,1467.55 \n  \"/>\n<polyline clip-path=\"url(#clip430)\" style=\"stroke:#000000; stroke-linecap:round; stroke-linejoin:round; stroke-width:4; stroke-opacity:1; fill:none\" points=\"\n  1271.92,1486.45 1271.92,1467.55 \n  \"/>\n<polyline clip-path=\"url(#clip430)\" style=\"stroke:#000000; stroke-linecap:round; stroke-linejoin:round; stroke-width:4; stroke-opacity:1; fill:none\" points=\"\n  1784.94,1486.45 1784.94,1467.55 \n  \"/>\n<polyline clip-path=\"url(#clip430)\" style=\"stroke:#000000; stroke-linecap:round; stroke-linejoin:round; stroke-width:4; stroke-opacity:1; fill:none\" points=\"\n  2297.96,1486.45 2297.96,1467.55 \n  \"/>\n<path clip-path=\"url(#clip430)\" d=\"M245.866 1517.37 Q242.255 1517.37 240.426 1520.93 Q238.621 1524.47 238.621 1531.6 Q238.621 1538.71 240.426 1542.27 Q242.255 1545.82 245.866 1545.82 Q249.5 1545.82 251.306 1542.27 Q253.134 1538.71 253.134 1531.6 Q253.134 1524.47 251.306 1520.93 Q249.5 1517.37 245.866 1517.37 M245.866 1513.66 Q251.676 1513.66 254.732 1518.27 Q257.81 1522.85 257.81 1531.6 Q257.81 1540.33 254.732 1544.94 Q251.676 1549.52 245.866 1549.52 Q240.056 1549.52 236.977 1544.94 Q233.921 1540.33 233.921 1531.6 Q233.921 1522.85 236.977 1518.27 Q240.056 1513.66 245.866 1513.66 Z\" fill=\"#000000\" fill-rule=\"evenodd\" fill-opacity=\"1\" /><path clip-path=\"url(#clip430)\" d=\"M722.583 1544.91 L738.902 1544.91 L738.902 1548.85 L716.958 1548.85 L716.958 1544.91 Q719.62 1542.16 724.203 1537.53 Q728.81 1532.88 729.99 1531.53 Q732.236 1529.01 733.115 1527.27 Q734.018 1525.51 734.018 1523.82 Q734.018 1521.07 732.074 1519.33 Q730.152 1517.6 727.05 1517.6 Q724.851 1517.6 722.398 1518.36 Q719.967 1519.13 717.189 1520.68 L717.189 1515.95 Q720.013 1514.82 722.467 1514.24 Q724.921 1513.66 726.958 1513.66 Q732.328 1513.66 735.523 1516.35 Q738.717 1519.03 738.717 1523.52 Q738.717 1525.65 737.907 1527.57 Q737.12 1529.47 735.013 1532.07 Q734.435 1532.74 731.333 1535.95 Q728.231 1539.15 722.583 1544.91 Z\" fill=\"#000000\" fill-rule=\"evenodd\" fill-opacity=\"1\" /><path clip-path=\"url(#clip430)\" d=\"M748.763 1514.29 L767.12 1514.29 L767.12 1518.22 L753.046 1518.22 L753.046 1526.7 Q754.064 1526.35 755.083 1526.19 Q756.101 1526 757.12 1526 Q762.907 1526 766.286 1529.17 Q769.666 1532.34 769.666 1537.76 Q769.666 1543.34 766.194 1546.44 Q762.722 1549.52 756.402 1549.52 Q754.226 1549.52 751.958 1549.15 Q749.712 1548.78 747.305 1548.04 L747.305 1543.34 Q749.388 1544.47 751.611 1545.03 Q753.833 1545.58 756.31 1545.58 Q760.314 1545.58 762.652 1543.48 Q764.99 1541.37 764.99 1537.76 Q764.99 1534.15 762.652 1532.04 Q760.314 1529.94 756.31 1529.94 Q754.435 1529.94 752.56 1530.35 Q750.708 1530.77 748.763 1531.65 L748.763 1514.29 Z\" fill=\"#000000\" fill-rule=\"evenodd\" fill-opacity=\"1\" /><path clip-path=\"url(#clip430)\" d=\"M788.879 1517.37 Q785.268 1517.37 783.439 1520.93 Q781.634 1524.47 781.634 1531.6 Q781.634 1538.71 783.439 1542.27 Q785.268 1545.82 788.879 1545.82 Q792.513 1545.82 794.319 1542.27 Q796.147 1538.71 796.147 1531.6 Q796.147 1524.47 794.319 1520.93 Q792.513 1517.37 788.879 1517.37 M788.879 1513.66 Q794.689 1513.66 797.745 1518.27 Q800.823 1522.85 800.823 1531.6 Q800.823 1540.33 797.745 1544.94 Q794.689 1549.52 788.879 1549.52 Q783.069 1549.52 779.99 1544.94 Q776.934 1540.33 776.934 1531.6 Q776.934 1522.85 779.99 1518.27 Q783.069 1513.66 788.879 1513.66 Z\" fill=\"#000000\" fill-rule=\"evenodd\" fill-opacity=\"1\" /><path clip-path=\"url(#clip430)\" d=\"M1231.53 1514.29 L1249.89 1514.29 L1249.89 1518.22 L1235.82 1518.22 L1235.82 1526.7 Q1236.83 1526.35 1237.85 1526.19 Q1238.87 1526 1239.89 1526 Q1245.68 1526 1249.06 1529.17 Q1252.44 1532.34 1252.44 1537.76 Q1252.44 1543.34 1248.96 1546.44 Q1245.49 1549.52 1239.17 1549.52 Q1237 1549.52 1234.73 1549.15 Q1232.48 1548.78 1230.08 1548.04 L1230.08 1543.34 Q1232.16 1544.47 1234.38 1545.03 Q1236.6 1545.58 1239.08 1545.58 Q1243.08 1545.58 1245.42 1543.48 Q1247.76 1541.37 1247.76 1537.76 Q1247.76 1534.15 1245.42 1532.04 Q1243.08 1529.94 1239.08 1529.94 Q1237.2 1529.94 1235.33 1530.35 Q1233.48 1530.77 1231.53 1531.65 L1231.53 1514.29 Z\" fill=\"#000000\" fill-rule=\"evenodd\" fill-opacity=\"1\" /><path clip-path=\"url(#clip430)\" d=\"M1271.65 1517.37 Q1268.04 1517.37 1266.21 1520.93 Q1264.4 1524.47 1264.4 1531.6 Q1264.4 1538.71 1266.21 1542.27 Q1268.04 1545.82 1271.65 1545.82 Q1275.28 1545.82 1277.09 1542.27 Q1278.92 1538.71 1278.92 1531.6 Q1278.92 1524.47 1277.09 1520.93 Q1275.28 1517.37 1271.65 1517.37 M1271.65 1513.66 Q1277.46 1513.66 1280.51 1518.27 Q1283.59 1522.85 1283.59 1531.6 Q1283.59 1540.33 1280.51 1544.94 Q1277.46 1549.52 1271.65 1549.52 Q1265.84 1549.52 1262.76 1544.94 Q1259.7 1540.33 1259.7 1531.6 Q1259.7 1522.85 1262.76 1518.27 Q1265.84 1513.66 1271.65 1513.66 Z\" fill=\"#000000\" fill-rule=\"evenodd\" fill-opacity=\"1\" /><path clip-path=\"url(#clip430)\" d=\"M1301.81 1517.37 Q1298.2 1517.37 1296.37 1520.93 Q1294.57 1524.47 1294.57 1531.6 Q1294.57 1538.71 1296.37 1542.27 Q1298.2 1545.82 1301.81 1545.82 Q1305.45 1545.82 1307.25 1542.27 Q1309.08 1538.71 1309.08 1531.6 Q1309.08 1524.47 1307.25 1520.93 Q1305.45 1517.37 1301.81 1517.37 M1301.81 1513.66 Q1307.62 1513.66 1310.68 1518.27 Q1313.76 1522.85 1313.76 1531.6 Q1313.76 1540.33 1310.68 1544.94 Q1307.62 1549.52 1301.81 1549.52 Q1296 1549.52 1292.92 1544.94 Q1289.87 1540.33 1289.87 1531.6 Q1289.87 1522.85 1292.92 1518.27 Q1296 1513.66 1301.81 1513.66 Z\" fill=\"#000000\" fill-rule=\"evenodd\" fill-opacity=\"1\" /><path clip-path=\"url(#clip430)\" d=\"M1743.22 1514.29 L1765.44 1514.29 L1765.44 1516.28 L1752.89 1548.85 L1748.01 1548.85 L1759.81 1518.22 L1743.22 1518.22 L1743.22 1514.29 Z\" fill=\"#000000\" fill-rule=\"evenodd\" fill-opacity=\"1\" /><path clip-path=\"url(#clip430)\" d=\"M1774.6 1514.29 L1792.96 1514.29 L1792.96 1518.22 L1778.89 1518.22 L1778.89 1526.7 Q1779.91 1526.35 1780.92 1526.19 Q1781.94 1526 1782.96 1526 Q1788.75 1526 1792.13 1529.17 Q1795.51 1532.34 1795.51 1537.76 Q1795.51 1543.34 1792.03 1546.44 Q1788.56 1549.52 1782.24 1549.52 Q1780.07 1549.52 1777.8 1549.15 Q1775.55 1548.78 1773.15 1548.04 L1773.15 1543.34 Q1775.23 1544.47 1777.45 1545.03 Q1779.67 1545.58 1782.15 1545.58 Q1786.16 1545.58 1788.49 1543.48 Q1790.83 1541.37 1790.83 1537.76 Q1790.83 1534.15 1788.49 1532.04 Q1786.16 1529.94 1782.15 1529.94 Q1780.28 1529.94 1778.4 1530.35 Q1776.55 1530.77 1774.6 1531.65 L1774.6 1514.29 Z\" fill=\"#000000\" fill-rule=\"evenodd\" fill-opacity=\"1\" /><path clip-path=\"url(#clip430)\" d=\"M1814.72 1517.37 Q1811.11 1517.37 1809.28 1520.93 Q1807.47 1524.47 1807.47 1531.6 Q1807.47 1538.71 1809.28 1542.27 Q1811.11 1545.82 1814.72 1545.82 Q1818.35 1545.82 1820.16 1542.27 Q1821.99 1538.71 1821.99 1531.6 Q1821.99 1524.47 1820.16 1520.93 Q1818.35 1517.37 1814.72 1517.37 M1814.72 1513.66 Q1820.53 1513.66 1823.59 1518.27 Q1826.66 1522.85 1826.66 1531.6 Q1826.66 1540.33 1823.59 1544.94 Q1820.53 1549.52 1814.72 1549.52 Q1808.91 1549.52 1805.83 1544.94 Q1802.78 1540.33 1802.78 1531.6 Q1802.78 1522.85 1805.83 1518.27 Q1808.91 1513.66 1814.72 1513.66 Z\" fill=\"#000000\" fill-rule=\"evenodd\" fill-opacity=\"1\" /><path clip-path=\"url(#clip430)\" d=\"M2242.49 1544.91 L2250.13 1544.91 L2250.13 1518.55 L2241.82 1520.21 L2241.82 1515.95 L2250.08 1514.29 L2254.76 1514.29 L2254.76 1544.91 L2262.4 1544.91 L2262.4 1548.85 L2242.49 1548.85 L2242.49 1544.91 Z\" fill=\"#000000\" fill-rule=\"evenodd\" fill-opacity=\"1\" /><path clip-path=\"url(#clip430)\" d=\"M2281.84 1517.37 Q2278.23 1517.37 2276.4 1520.93 Q2274.6 1524.47 2274.6 1531.6 Q2274.6 1538.71 2276.4 1542.27 Q2278.23 1545.82 2281.84 1545.82 Q2285.48 1545.82 2287.28 1542.27 Q2289.11 1538.71 2289.11 1531.6 Q2289.11 1524.47 2287.28 1520.93 Q2285.48 1517.37 2281.84 1517.37 M2281.84 1513.66 Q2287.65 1513.66 2290.71 1518.27 Q2293.79 1522.85 2293.79 1531.6 Q2293.79 1540.33 2290.71 1544.94 Q2287.65 1549.52 2281.84 1549.52 Q2276.03 1549.52 2272.95 1544.94 Q2269.9 1540.33 2269.9 1531.6 Q2269.9 1522.85 2272.95 1518.27 Q2276.03 1513.66 2281.84 1513.66 Z\" fill=\"#000000\" fill-rule=\"evenodd\" fill-opacity=\"1\" /><path clip-path=\"url(#clip430)\" d=\"M2312 1517.37 Q2308.39 1517.37 2306.56 1520.93 Q2304.76 1524.47 2304.76 1531.6 Q2304.76 1538.71 2306.56 1542.27 Q2308.39 1545.82 2312 1545.82 Q2315.64 1545.82 2317.44 1542.27 Q2319.27 1538.71 2319.27 1531.6 Q2319.27 1524.47 2317.44 1520.93 Q2315.64 1517.37 2312 1517.37 M2312 1513.66 Q2317.81 1513.66 2320.87 1518.27 Q2323.95 1522.85 2323.95 1531.6 Q2323.95 1540.33 2320.87 1544.94 Q2317.81 1549.52 2312 1549.52 Q2306.19 1549.52 2303.12 1544.94 Q2300.06 1540.33 2300.06 1531.6 Q2300.06 1522.85 2303.12 1518.27 Q2306.19 1513.66 2312 1513.66 Z\" fill=\"#000000\" fill-rule=\"evenodd\" fill-opacity=\"1\" /><path clip-path=\"url(#clip430)\" d=\"M2342.17 1517.37 Q2338.55 1517.37 2336.73 1520.93 Q2334.92 1524.47 2334.92 1531.6 Q2334.92 1538.71 2336.73 1542.27 Q2338.55 1545.82 2342.17 1545.82 Q2345.8 1545.82 2347.61 1542.27 Q2349.43 1538.71 2349.43 1531.6 Q2349.43 1524.47 2347.61 1520.93 Q2345.8 1517.37 2342.17 1517.37 M2342.17 1513.66 Q2347.98 1513.66 2351.03 1518.27 Q2354.11 1522.85 2354.11 1531.6 Q2354.11 1540.33 2351.03 1544.94 Q2347.98 1549.52 2342.17 1549.52 Q2336.36 1549.52 2333.28 1544.94 Q2330.22 1540.33 2330.22 1531.6 Q2330.22 1522.85 2333.28 1518.27 Q2336.36 1513.66 2342.17 1513.66 Z\" fill=\"#000000\" fill-rule=\"evenodd\" fill-opacity=\"1\" /><polyline clip-path=\"url(#clip432)\" style=\"stroke:#000000; stroke-linecap:round; stroke-linejoin:round; stroke-width:2; stroke-opacity:0.1; fill:none\" points=\"\n  199.283,1448.5 2352.76,1448.5 \n  \"/>\n<polyline clip-path=\"url(#clip432)\" style=\"stroke:#000000; stroke-linecap:round; stroke-linejoin:round; stroke-width:2; stroke-opacity:0.1; fill:none\" points=\"\n  199.283,1100.36 2352.76,1100.36 \n  \"/>\n<polyline clip-path=\"url(#clip432)\" style=\"stroke:#000000; stroke-linecap:round; stroke-linejoin:round; stroke-width:2; stroke-opacity:0.1; fill:none\" points=\"\n  199.283,752.224 2352.76,752.224 \n  \"/>\n<polyline clip-path=\"url(#clip432)\" style=\"stroke:#000000; stroke-linecap:round; stroke-linejoin:round; stroke-width:2; stroke-opacity:0.1; fill:none\" points=\"\n  199.283,404.086 2352.76,404.086 \n  \"/>\n<polyline clip-path=\"url(#clip432)\" style=\"stroke:#000000; stroke-linecap:round; stroke-linejoin:round; stroke-width:2; stroke-opacity:0.1; fill:none\" points=\"\n  199.283,55.9476 2352.76,55.9476 \n  \"/>\n<polyline clip-path=\"url(#clip430)\" style=\"stroke:#000000; stroke-linecap:round; stroke-linejoin:round; stroke-width:4; stroke-opacity:1; fill:none\" points=\"\n  199.283,1486.45 199.283,47.2441 \n  \"/>\n<polyline clip-path=\"url(#clip430)\" style=\"stroke:#000000; stroke-linecap:round; stroke-linejoin:round; stroke-width:4; stroke-opacity:1; fill:none\" points=\"\n  199.283,1448.5 218.181,1448.5 \n  \"/>\n<polyline clip-path=\"url(#clip430)\" style=\"stroke:#000000; stroke-linecap:round; stroke-linejoin:round; stroke-width:4; stroke-opacity:1; fill:none\" points=\"\n  199.283,1100.36 218.181,1100.36 \n  \"/>\n<polyline clip-path=\"url(#clip430)\" style=\"stroke:#000000; stroke-linecap:round; stroke-linejoin:round; stroke-width:4; stroke-opacity:1; fill:none\" points=\"\n  199.283,752.224 218.181,752.224 \n  \"/>\n<polyline clip-path=\"url(#clip430)\" style=\"stroke:#000000; stroke-linecap:round; stroke-linejoin:round; stroke-width:4; stroke-opacity:1; fill:none\" points=\"\n  199.283,404.086 218.181,404.086 \n  \"/>\n<polyline clip-path=\"url(#clip430)\" style=\"stroke:#000000; stroke-linecap:round; stroke-linejoin:round; stroke-width:4; stroke-opacity:1; fill:none\" points=\"\n  199.283,55.9476 218.181,55.9476 \n  \"/>\n<path clip-path=\"url(#clip430)\" d=\"M151.339 1434.3 Q147.728 1434.3 145.899 1437.86 Q144.093 1441.41 144.093 1448.54 Q144.093 1455.64 145.899 1459.21 Q147.728 1462.75 151.339 1462.75 Q154.973 1462.75 156.779 1459.21 Q158.607 1455.64 158.607 1448.54 Q158.607 1441.41 156.779 1437.86 Q154.973 1434.3 151.339 1434.3 M151.339 1430.6 Q157.149 1430.6 160.205 1435.2 Q163.283 1439.79 163.283 1448.54 Q163.283 1457.26 160.205 1461.87 Q157.149 1466.45 151.339 1466.45 Q145.529 1466.45 142.45 1461.87 Q139.394 1457.26 139.394 1448.54 Q139.394 1439.79 142.45 1435.2 Q145.529 1430.6 151.339 1430.6 Z\" fill=\"#000000\" fill-rule=\"evenodd\" fill-opacity=\"1\" /><path clip-path=\"url(#clip430)\" d=\"M85.0429 1113.71 L101.362 1113.71 L101.362 1117.64 L79.4179 1117.64 L79.4179 1113.71 Q82.0799 1110.95 86.6632 1106.32 Q91.2697 1101.67 92.4502 1100.33 Q94.6956 1097.8 95.5752 1096.07 Q96.478 1094.31 96.478 1092.62 Q96.478 1089.86 94.5336 1088.13 Q92.6123 1086.39 89.5104 1086.39 Q87.3114 1086.39 84.8577 1087.16 Q82.4271 1087.92 79.6494 1089.47 L79.6494 1084.75 Q82.4734 1083.61 84.9271 1083.04 Q87.3808 1082.46 89.4178 1082.46 Q94.7882 1082.46 97.9826 1085.14 Q101.177 1087.83 101.177 1092.32 Q101.177 1094.45 100.367 1096.37 Q99.5798 1098.27 97.4734 1100.86 Q96.8947 1101.53 93.7928 1104.75 Q90.691 1107.94 85.0429 1113.71 Z\" fill=\"#000000\" fill-rule=\"evenodd\" fill-opacity=\"1\" /><path clip-path=\"url(#clip430)\" d=\"M111.223 1083.08 L129.58 1083.08 L129.58 1087.02 L115.506 1087.02 L115.506 1095.49 Q116.524 1095.14 117.543 1094.98 Q118.561 1094.8 119.58 1094.8 Q125.367 1094.8 128.746 1097.97 Q132.126 1101.14 132.126 1106.55 Q132.126 1112.13 128.654 1115.24 Q125.182 1118.31 118.862 1118.31 Q116.686 1118.31 114.418 1117.94 Q112.172 1117.57 109.765 1116.83 L109.765 1112.13 Q111.848 1113.27 114.07 1113.82 Q116.293 1114.38 118.77 1114.38 Q122.774 1114.38 125.112 1112.27 Q127.45 1110.17 127.45 1106.55 Q127.45 1102.94 125.112 1100.84 Q122.774 1098.73 118.77 1098.73 Q116.895 1098.73 115.02 1099.15 Q113.168 1099.56 111.223 1100.44 L111.223 1083.08 Z\" fill=\"#000000\" fill-rule=\"evenodd\" fill-opacity=\"1\" /><path clip-path=\"url(#clip430)\" d=\"M151.339 1086.16 Q147.728 1086.16 145.899 1089.73 Q144.093 1093.27 144.093 1100.4 Q144.093 1107.5 145.899 1111.07 Q147.728 1114.61 151.339 1114.61 Q154.973 1114.61 156.779 1111.07 Q158.607 1107.5 158.607 1100.4 Q158.607 1093.27 156.779 1089.73 Q154.973 1086.16 151.339 1086.16 M151.339 1082.46 Q157.149 1082.46 160.205 1087.06 Q163.283 1091.65 163.283 1100.4 Q163.283 1109.12 160.205 1113.73 Q157.149 1118.31 151.339 1118.31 Q145.529 1118.31 142.45 1113.73 Q139.394 1109.12 139.394 1100.4 Q139.394 1091.65 142.45 1087.06 Q145.529 1082.46 151.339 1082.46 Z\" fill=\"#000000\" fill-rule=\"evenodd\" fill-opacity=\"1\" /><path clip-path=\"url(#clip430)\" d=\"M81.0614 734.944 L99.4178 734.944 L99.4178 738.879 L85.3438 738.879 L85.3438 747.352 Q86.3623 747.004 87.3808 746.842 Q88.3993 746.657 89.4178 746.657 Q95.2049 746.657 98.5845 749.828 Q101.964 753 101.964 758.416 Q101.964 763.995 98.4919 767.097 Q95.0197 770.175 88.7003 770.175 Q86.5243 770.175 84.2558 769.805 Q82.0105 769.435 79.6031 768.694 L79.6031 763.995 Q81.6864 765.129 83.9086 765.685 Q86.1308 766.24 88.6077 766.24 Q92.6123 766.24 94.9502 764.134 Q97.2882 762.027 97.2882 758.416 Q97.2882 754.805 94.9502 752.699 Q92.6123 750.592 88.6077 750.592 Q86.7327 750.592 84.8577 751.009 Q83.0058 751.426 81.0614 752.305 L81.0614 734.944 Z\" fill=\"#000000\" fill-rule=\"evenodd\" fill-opacity=\"1\" /><path clip-path=\"url(#clip430)\" d=\"M121.177 738.023 Q117.566 738.023 115.737 741.588 Q113.932 745.129 113.932 752.259 Q113.932 759.365 115.737 762.93 Q117.566 766.472 121.177 766.472 Q124.811 766.472 126.617 762.93 Q128.445 759.365 128.445 752.259 Q128.445 745.129 126.617 741.588 Q124.811 738.023 121.177 738.023 M121.177 734.319 Q126.987 734.319 130.043 738.926 Q133.121 743.509 133.121 752.259 Q133.121 760.986 130.043 765.592 Q126.987 770.175 121.177 770.175 Q115.367 770.175 112.288 765.592 Q109.233 760.986 109.233 752.259 Q109.233 743.509 112.288 738.926 Q115.367 734.319 121.177 734.319 Z\" fill=\"#000000\" fill-rule=\"evenodd\" fill-opacity=\"1\" /><path clip-path=\"url(#clip430)\" d=\"M151.339 738.023 Q147.728 738.023 145.899 741.588 Q144.093 745.129 144.093 752.259 Q144.093 759.365 145.899 762.93 Q147.728 766.472 151.339 766.472 Q154.973 766.472 156.779 762.93 Q158.607 759.365 158.607 752.259 Q158.607 745.129 156.779 741.588 Q154.973 738.023 151.339 738.023 M151.339 734.319 Q157.149 734.319 160.205 738.926 Q163.283 743.509 163.283 752.259 Q163.283 760.986 160.205 765.592 Q157.149 770.175 151.339 770.175 Q145.529 770.175 142.45 765.592 Q139.394 760.986 139.394 752.259 Q139.394 743.509 142.45 738.926 Q145.529 734.319 151.339 734.319 Z\" fill=\"#000000\" fill-rule=\"evenodd\" fill-opacity=\"1\" /><path clip-path=\"url(#clip430)\" d=\"M79.8346 386.806 L102.057 386.806 L102.057 388.797 L89.5104 421.366 L84.6262 421.366 L96.4317 390.741 L79.8346 390.741 L79.8346 386.806 Z\" fill=\"#000000\" fill-rule=\"evenodd\" fill-opacity=\"1\" /><path clip-path=\"url(#clip430)\" d=\"M111.223 386.806 L129.58 386.806 L129.58 390.741 L115.506 390.741 L115.506 399.213 Q116.524 398.866 117.543 398.704 Q118.561 398.519 119.58 398.519 Q125.367 398.519 128.746 401.69 Q132.126 404.861 132.126 410.278 Q132.126 415.857 128.654 418.958 Q125.182 422.037 118.862 422.037 Q116.686 422.037 114.418 421.667 Q112.172 421.296 109.765 420.556 L109.765 415.857 Q111.848 416.991 114.07 417.546 Q116.293 418.102 118.77 418.102 Q122.774 418.102 125.112 415.996 Q127.45 413.889 127.45 410.278 Q127.45 406.667 125.112 404.56 Q122.774 402.454 118.77 402.454 Q116.895 402.454 115.02 402.871 Q113.168 403.287 111.223 404.167 L111.223 386.806 Z\" fill=\"#000000\" fill-rule=\"evenodd\" fill-opacity=\"1\" /><path clip-path=\"url(#clip430)\" d=\"M151.339 389.885 Q147.728 389.885 145.899 393.449 Q144.093 396.991 144.093 404.121 Q144.093 411.227 145.899 414.792 Q147.728 418.333 151.339 418.333 Q154.973 418.333 156.779 414.792 Q158.607 411.227 158.607 404.121 Q158.607 396.991 156.779 393.449 Q154.973 389.885 151.339 389.885 M151.339 386.181 Q157.149 386.181 160.205 390.787 Q163.283 395.371 163.283 404.121 Q163.283 412.847 160.205 417.454 Q157.149 422.037 151.339 422.037 Q145.529 422.037 142.45 417.454 Q139.394 412.847 139.394 404.121 Q139.394 395.371 142.45 390.787 Q145.529 386.181 151.339 386.181 Z\" fill=\"#000000\" fill-rule=\"evenodd\" fill-opacity=\"1\" /><path clip-path=\"url(#clip430)\" d=\"M51.6634 69.2924 L59.3023 69.2924 L59.3023 42.9268 L50.9921 44.5934 L50.9921 40.3342 L59.256 38.6676 L63.9319 38.6676 L63.9319 69.2924 L71.5707 69.2924 L71.5707 73.2276 L51.6634 73.2276 L51.6634 69.2924 Z\" fill=\"#000000\" fill-rule=\"evenodd\" fill-opacity=\"1\" /><path clip-path=\"url(#clip430)\" d=\"M91.0151 41.7462 Q87.404 41.7462 85.5753 45.311 Q83.7697 48.8527 83.7697 55.9823 Q83.7697 63.0887 85.5753 66.6535 Q87.404 70.1952 91.0151 70.1952 Q94.6493 70.1952 96.4548 66.6535 Q98.2835 63.0887 98.2835 55.9823 Q98.2835 48.8527 96.4548 45.311 Q94.6493 41.7462 91.0151 41.7462 M91.0151 38.0426 Q96.8252 38.0426 99.8808 42.649 Q102.959 47.2323 102.959 55.9823 Q102.959 64.7091 99.8808 69.3155 Q96.8252 73.8988 91.0151 73.8988 Q85.2049 73.8988 82.1262 69.3155 Q79.0707 64.7091 79.0707 55.9823 Q79.0707 47.2323 82.1262 42.649 Q85.2049 38.0426 91.0151 38.0426 Z\" fill=\"#000000\" fill-rule=\"evenodd\" fill-opacity=\"1\" /><path clip-path=\"url(#clip430)\" d=\"M121.177 41.7462 Q117.566 41.7462 115.737 45.311 Q113.932 48.8527 113.932 55.9823 Q113.932 63.0887 115.737 66.6535 Q117.566 70.1952 121.177 70.1952 Q124.811 70.1952 126.617 66.6535 Q128.445 63.0887 128.445 55.9823 Q128.445 48.8527 126.617 45.311 Q124.811 41.7462 121.177 41.7462 M121.177 38.0426 Q126.987 38.0426 130.043 42.649 Q133.121 47.2323 133.121 55.9823 Q133.121 64.7091 130.043 69.3155 Q126.987 73.8988 121.177 73.8988 Q115.367 73.8988 112.288 69.3155 Q109.233 64.7091 109.233 55.9823 Q109.233 47.2323 112.288 42.649 Q115.367 38.0426 121.177 38.0426 Z\" fill=\"#000000\" fill-rule=\"evenodd\" fill-opacity=\"1\" /><path clip-path=\"url(#clip430)\" d=\"M151.339 41.7462 Q147.728 41.7462 145.899 45.311 Q144.093 48.8527 144.093 55.9823 Q144.093 63.0887 145.899 66.6535 Q147.728 70.1952 151.339 70.1952 Q154.973 70.1952 156.779 66.6535 Q158.607 63.0887 158.607 55.9823 Q158.607 48.8527 156.779 45.311 Q154.973 41.7462 151.339 41.7462 M151.339 38.0426 Q157.149 38.0426 160.205 42.649 Q163.283 47.2323 163.283 55.9823 Q163.283 64.7091 160.205 69.3155 Q157.149 73.8988 151.339 73.8988 Q145.529 73.8988 142.45 69.3155 Q139.394 64.7091 139.394 55.9823 Q139.394 47.2323 142.45 42.649 Q145.529 38.0426 151.339 38.0426 Z\" fill=\"#000000\" fill-rule=\"evenodd\" fill-opacity=\"1\" /><polyline clip-path=\"url(#clip432)\" style=\"stroke:#009af9; stroke-linecap:round; stroke-linejoin:round; stroke-width:4; stroke-opacity:1; fill:none\" points=\"\n  914.85,832.992 849.183,755.009 \n  \"/>\n<polyline clip-path=\"url(#clip432)\" style=\"stroke:#e26f46; stroke-linecap:round; stroke-linejoin:round; stroke-width:4; stroke-opacity:1; fill:none\" points=\"\n  1372.47,216.091 1259.6,451.433 \n  \"/>\n<polyline clip-path=\"url(#clip432)\" style=\"stroke:#3da44d; stroke-linecap:round; stroke-linejoin:round; stroke-width:4; stroke-opacity:1; fill:none\" points=\"\n  693.223,722.981 654.234,993.136 \n  \"/>\n<polyline clip-path=\"url(#clip432)\" style=\"stroke:#c271d2; stroke-linecap:round; stroke-linejoin:round; stroke-width:4; stroke-opacity:1; fill:none\" points=\"\n  2082.49,136.716 1684.39,204.951 \n  \"/>\n<polyline clip-path=\"url(#clip432)\" style=\"stroke:#ac8d18; stroke-linecap:round; stroke-linejoin:round; stroke-width:4; stroke-opacity:1; fill:none\" points=\"\n  970.257,319.14 797.88,327.495 \n  \"/>\n<polyline clip-path=\"url(#clip432)\" style=\"stroke:#00a9ad; stroke-linecap:round; stroke-linejoin:round; stroke-width:4; stroke-opacity:1; fill:none\" points=\"\n  1054.39,800.964 962.048,890.087 \n  \"/>\n<polyline clip-path=\"url(#clip432)\" style=\"stroke:#ed5d92; stroke-linecap:round; stroke-linejoin:round; stroke-width:4; stroke-opacity:1; fill:none\" points=\"\n  2203.57,87.9763 2189.2,100.509 \n  \"/>\n<polyline clip-path=\"url(#clip432)\" style=\"stroke:#c68125; stroke-linecap:round; stroke-linejoin:round; stroke-width:4; stroke-opacity:1; fill:none\" points=\"\n  1879.34,752.224 1998.36,763.365 \n  \"/>\n<polyline clip-path=\"url(#clip432)\" style=\"stroke:#00a98d; stroke-linecap:round; stroke-linejoin:round; stroke-width:4; stroke-opacity:1; fill:none\" points=\"\n  1259.6,451.433 1146.74,568.407 \n  \"/>\n<polyline clip-path=\"url(#clip432)\" style=\"stroke:#8e971d; stroke-linecap:round; stroke-linejoin:round; stroke-width:4; stroke-opacity:1; fill:none\" points=\"\n  1782.89,1183.92 1637.19,1179.74 \n  \"/>\n<polyline clip-path=\"url(#clip432)\" style=\"stroke:#00a8cb; stroke-linecap:round; stroke-linejoin:round; stroke-width:4; stroke-opacity:1; fill:none\" points=\"\n  1431.98,924.901 1423.77,792.608 \n  \"/>\n<polyline clip-path=\"url(#clip432)\" style=\"stroke:#9b7fe8; stroke-linecap:round; stroke-linejoin:round; stroke-width:4; stroke-opacity:1; fill:none\" points=\"\n  1739.79,660.316 1782.89,707.662 \n  \"/>\n<polyline clip-path=\"url(#clip432)\" style=\"stroke:#608cf6; stroke-linecap:round; stroke-linejoin:round; stroke-width:4; stroke-opacity:1; fill:none\" points=\"\n  260.231,1208.98 471.597,1346.84 \n  \"/>\n<polyline clip-path=\"url(#clip432)\" style=\"stroke:#f05f73; stroke-linecap:round; stroke-linejoin:round; stroke-width:4; stroke-opacity:1; fill:none\" points=\"\n  654.234,993.136 440.815,951.359 \n  \"/>\n<polyline clip-path=\"url(#clip432)\" style=\"stroke:#dd64b5; stroke-linecap:round; stroke-linejoin:round; stroke-width:4; stroke-opacity:1; fill:none\" points=\"\n  1146.74,568.407 1253.45,749.439 \n  \"/>\n<polyline clip-path=\"url(#clip432)\" style=\"stroke:#6b9e32; stroke-linecap:round; stroke-linejoin:round; stroke-width:4; stroke-opacity:1; fill:none\" points=\"\n  1647.45,927.686 1532.53,937.434 \n  \"/>\n<polyline clip-path=\"url(#clip432)\" style=\"stroke:#009af9; stroke-linecap:round; stroke-linejoin:round; stroke-width:4; stroke-opacity:1; fill:none\" points=\"\n  2209.72,433.329 1981.94,433.329 \n  \"/>\n<polyline clip-path=\"url(#clip432)\" style=\"stroke:#e26f46; stroke-linecap:round; stroke-linejoin:round; stroke-width:4; stroke-opacity:1; fill:none\" points=\"\n  1575.63,1445.72 1809.57,1412.29 \n  \"/>\n<polyline clip-path=\"url(#clip432)\" style=\"stroke:#3da44d; stroke-linecap:round; stroke-linejoin:round; stroke-width:4; stroke-opacity:1; fill:none\" points=\"\n  2291.81,1261.9 1782.89,1183.92 \n  \"/>\n<polyline clip-path=\"url(#clip432)\" style=\"stroke:#c271d2; stroke-linecap:round; stroke-linejoin:round; stroke-width:4; stroke-opacity:1; fill:none\" points=\"\n  1782.89,707.662 1879.34,752.224 \n  \"/>\n<polyline clip-path=\"url(#clip432)\" style=\"stroke:#ac8d18; stroke-linecap:round; stroke-linejoin:round; stroke-width:4; stroke-opacity:1; fill:none\" points=\"\n  471.597,1346.84 767.099,1286.96 \n  \"/>\n<polyline clip-path=\"url(#clip432)\" style=\"stroke:#00a9ad; stroke-linecap:round; stroke-linejoin:round; stroke-width:4; stroke-opacity:1; fill:none\" points=\"\n  1253.45,749.439 1054.39,800.964 \n  \"/>\n<polyline clip-path=\"url(#clip432)\" style=\"stroke:#ed5d92; stroke-linecap:round; stroke-linejoin:round; stroke-width:4; stroke-opacity:1; fill:none\" points=\"\n  1405.3,185.455 1372.47,216.091 \n  \"/>\n<polyline clip-path=\"url(#clip432)\" style=\"stroke:#c68125; stroke-linecap:round; stroke-linejoin:round; stroke-width:4; stroke-opacity:1; fill:none\" points=\"\n  767.099,1286.96 1354,1298.11 \n  \"/>\n<polyline clip-path=\"url(#clip432)\" style=\"stroke:#00a98d; stroke-linecap:round; stroke-linejoin:round; stroke-width:4; stroke-opacity:1; fill:none\" points=\"\n  1532.53,937.434 1454.55,965.285 \n  \"/>\n<polyline clip-path=\"url(#clip432)\" style=\"stroke:#8e971d; stroke-linecap:round; stroke-linejoin:round; stroke-width:4; stroke-opacity:1; fill:none\" points=\"\n  726.057,220.269 996.934,306.607 \n  \"/>\n<polyline clip-path=\"url(#clip432)\" style=\"stroke:#00a8cb; stroke-linecap:round; stroke-linejoin:round; stroke-width:4; stroke-opacity:1; fill:none\" points=\"\n  500.326,512.705 393.617,515.49 \n  \"/>\n<polyline clip-path=\"url(#clip432)\" style=\"stroke:#9b7fe8; stroke-linecap:round; stroke-linejoin:round; stroke-width:4; stroke-opacity:1; fill:none\" points=\"\n  1497.65,780.075 1739.79,660.316 \n  \"/>\n<polyline clip-path=\"url(#clip432)\" style=\"stroke:#608cf6; stroke-linecap:round; stroke-linejoin:round; stroke-width:4; stroke-opacity:1; fill:none\" points=\"\n  1626.93,125.575 1419.67,136.716 \n  \"/>\n<polyline clip-path=\"url(#clip432)\" style=\"stroke:#f05f73; stroke-linecap:round; stroke-linejoin:round; stroke-width:4; stroke-opacity:1; fill:none\" points=\"\n  1809.57,1412.29 2291.81,1261.9 \n  \"/>\n<polyline clip-path=\"url(#clip432)\" style=\"stroke:#dd64b5; stroke-linecap:round; stroke-linejoin:round; stroke-width:4; stroke-opacity:1; fill:none\" points=\"\n  1454.55,965.285 1431.98,924.901 \n  \"/>\n<polyline clip-path=\"url(#clip432)\" style=\"stroke:#6b9e32; stroke-linecap:round; stroke-linejoin:round; stroke-width:4; stroke-opacity:1; fill:none\" points=\"\n  996.934,306.607 970.257,319.14 \n  \"/>\n<polyline clip-path=\"url(#clip432)\" style=\"stroke:#009af9; stroke-linecap:round; stroke-linejoin:round; stroke-width:4; stroke-opacity:1; fill:none\" points=\"\n  514.691,344.206 726.057,220.269 \n  \"/>\n<polyline clip-path=\"url(#clip432)\" style=\"stroke:#e26f46; stroke-linecap:round; stroke-linejoin:round; stroke-width:4; stroke-opacity:1; fill:none\" points=\"\n  2189.2,100.509 2082.49,136.716 \n  \"/>\n<polyline clip-path=\"url(#clip432)\" style=\"stroke:#3da44d; stroke-linecap:round; stroke-linejoin:round; stroke-width:4; stroke-opacity:1; fill:none\" points=\"\n  1423.77,792.608 1497.65,780.075 \n  \"/>\n<polyline clip-path=\"url(#clip432)\" style=\"stroke:#c271d2; stroke-linecap:round; stroke-linejoin:round; stroke-width:4; stroke-opacity:1; fill:none\" points=\"\n  1637.19,1179.74 1823.93,1011.24 \n  \"/>\n<polyline clip-path=\"url(#clip432)\" style=\"stroke:#ac8d18; stroke-linecap:round; stroke-linejoin:round; stroke-width:4; stroke-opacity:1; fill:none\" points=\"\n  1419.67,136.716 1405.3,185.455 \n  \"/>\n<polyline clip-path=\"url(#clip432)\" style=\"stroke:#00a9ad; stroke-linecap:round; stroke-linejoin:round; stroke-width:4; stroke-opacity:1; fill:none\" points=\"\n  393.617,515.49 514.691,344.206 \n  \"/>\n<polyline clip-path=\"url(#clip432)\" style=\"stroke:#ed5d92; stroke-linecap:round; stroke-linejoin:round; stroke-width:4; stroke-opacity:1; fill:none\" points=\"\n  1684.39,204.951 1694.65,149.249 \n  \"/>\n<polyline clip-path=\"url(#clip432)\" style=\"stroke:#c68125; stroke-linecap:round; stroke-linejoin:round; stroke-width:4; stroke-opacity:1; fill:none\" points=\"\n  440.815,951.359 260.231,1208.98 \n  \"/>\n<polyline clip-path=\"url(#clip432)\" style=\"stroke:#00a98d; stroke-linecap:round; stroke-linejoin:round; stroke-width:4; stroke-opacity:1; fill:none\" points=\"\n  1981.94,433.329 2203.57,87.9763 \n  \"/>\n<polyline clip-path=\"url(#clip432)\" style=\"stroke:#8e971d; stroke-linecap:round; stroke-linejoin:round; stroke-width:4; stroke-opacity:1; fill:none\" points=\"\n  962.048,890.087 914.85,832.992 \n  \"/>\n<polyline clip-path=\"url(#clip432)\" style=\"stroke:#00a8cb; stroke-linecap:round; stroke-linejoin:round; stroke-width:4; stroke-opacity:1; fill:none\" points=\"\n  1823.93,1011.24 1647.45,927.686 \n  \"/>\n<polyline clip-path=\"url(#clip432)\" style=\"stroke:#9b7fe8; stroke-linecap:round; stroke-linejoin:round; stroke-width:4; stroke-opacity:1; fill:none\" points=\"\n  797.88,327.495 500.326,512.705 \n  \"/>\n<polyline clip-path=\"url(#clip432)\" style=\"stroke:#608cf6; stroke-linecap:round; stroke-linejoin:round; stroke-width:4; stroke-opacity:1; fill:none\" points=\"\n  1354,1298.11 1575.63,1445.72 \n  \"/>\n<polyline clip-path=\"url(#clip432)\" style=\"stroke:#f05f73; stroke-linecap:round; stroke-linejoin:round; stroke-width:4; stroke-opacity:1; fill:none\" points=\"\n  849.183,755.009 742.474,677.026 \n  \"/>\n<polyline clip-path=\"url(#clip432)\" style=\"stroke:#dd64b5; stroke-linecap:round; stroke-linejoin:round; stroke-width:4; stroke-opacity:1; fill:none\" points=\"\n  742.474,677.026 693.223,722.981 \n  \"/>\n<polyline clip-path=\"url(#clip432)\" style=\"stroke:#6b9e32; stroke-linecap:round; stroke-linejoin:round; stroke-width:4; stroke-opacity:1; fill:none\" points=\"\n  2254.87,767.542 2209.72,433.329 \n  \"/>\n<polyline clip-path=\"url(#clip432)\" style=\"stroke:#009af9; stroke-linecap:round; stroke-linejoin:round; stroke-width:4; stroke-opacity:1; fill:none\" points=\"\n  1998.36,763.365 2254.87,767.542 \n  \"/>\n<polyline clip-path=\"url(#clip432)\" style=\"stroke:#e26f46; stroke-linecap:round; stroke-linejoin:round; stroke-width:4; stroke-opacity:1; fill:none\" points=\"\n  1694.65,149.249 1626.93,125.575 \n  \"/>\n</svg>\n"
          },
          "metadata": {}
        },
        {
          "output_type": "stream",
          "name": "stdout",
          "text": [
            "Lower bound : 5610.0\n"
          ]
        },
        {
          "output_type": "display_data",
          "data": {
            "image/svg+xml": "<?xml version=\"1.0\" encoding=\"utf-8\"?>\n<svg xmlns=\"http://www.w3.org/2000/svg\" xmlns:xlink=\"http://www.w3.org/1999/xlink\" width=\"600\" height=\"400\" viewBox=\"0 0 2400 1600\">\n<defs>\n  <clipPath id=\"clip470\">\n    <rect x=\"0\" y=\"0\" width=\"2400\" height=\"1600\"/>\n  </clipPath>\n</defs>\n<path clip-path=\"url(#clip470)\" d=\"\nM0 1600 L2400 1600 L2400 0 L0 0  Z\n  \" fill=\"#ffffff\" fill-rule=\"evenodd\" fill-opacity=\"1\"/>\n<defs>\n  <clipPath id=\"clip471\">\n    <rect x=\"480\" y=\"0\" width=\"1681\" height=\"1600\"/>\n  </clipPath>\n</defs>\n<path clip-path=\"url(#clip470)\" d=\"\nM199.283 1486.45 L2352.76 1486.45 L2352.76 47.2441 L199.283 47.2441  Z\n  \" fill=\"#ffffff\" fill-rule=\"evenodd\" fill-opacity=\"1\"/>\n<defs>\n  <clipPath id=\"clip472\">\n    <rect x=\"199\" y=\"47\" width=\"2154\" height=\"1440\"/>\n  </clipPath>\n</defs>\n<polyline clip-path=\"url(#clip472)\" style=\"stroke:#000000; stroke-linecap:round; stroke-linejoin:round; stroke-width:2; stroke-opacity:0.1; fill:none\" points=\"\n  245.866,1486.45 245.866,47.2441 \n  \"/>\n<polyline clip-path=\"url(#clip472)\" style=\"stroke:#000000; stroke-linecap:round; stroke-linejoin:round; stroke-width:2; stroke-opacity:0.1; fill:none\" points=\"\n  758.891,1486.45 758.891,47.2441 \n  \"/>\n<polyline clip-path=\"url(#clip472)\" style=\"stroke:#000000; stroke-linecap:round; stroke-linejoin:round; stroke-width:2; stroke-opacity:0.1; fill:none\" points=\"\n  1271.92,1486.45 1271.92,47.2441 \n  \"/>\n<polyline clip-path=\"url(#clip472)\" style=\"stroke:#000000; stroke-linecap:round; stroke-linejoin:round; stroke-width:2; stroke-opacity:0.1; fill:none\" points=\"\n  1784.94,1486.45 1784.94,47.2441 \n  \"/>\n<polyline clip-path=\"url(#clip472)\" style=\"stroke:#000000; stroke-linecap:round; stroke-linejoin:round; stroke-width:2; stroke-opacity:0.1; fill:none\" points=\"\n  2297.96,1486.45 2297.96,47.2441 \n  \"/>\n<polyline clip-path=\"url(#clip470)\" style=\"stroke:#000000; stroke-linecap:round; stroke-linejoin:round; stroke-width:4; stroke-opacity:1; fill:none\" points=\"\n  199.283,1486.45 2352.76,1486.45 \n  \"/>\n<polyline clip-path=\"url(#clip470)\" style=\"stroke:#000000; stroke-linecap:round; stroke-linejoin:round; stroke-width:4; stroke-opacity:1; fill:none\" points=\"\n  245.866,1486.45 245.866,1467.55 \n  \"/>\n<polyline clip-path=\"url(#clip470)\" style=\"stroke:#000000; stroke-linecap:round; stroke-linejoin:round; stroke-width:4; stroke-opacity:1; fill:none\" points=\"\n  758.891,1486.45 758.891,1467.55 \n  \"/>\n<polyline clip-path=\"url(#clip470)\" style=\"stroke:#000000; stroke-linecap:round; stroke-linejoin:round; stroke-width:4; stroke-opacity:1; fill:none\" points=\"\n  1271.92,1486.45 1271.92,1467.55 \n  \"/>\n<polyline clip-path=\"url(#clip470)\" style=\"stroke:#000000; stroke-linecap:round; stroke-linejoin:round; stroke-width:4; stroke-opacity:1; fill:none\" points=\"\n  1784.94,1486.45 1784.94,1467.55 \n  \"/>\n<polyline clip-path=\"url(#clip470)\" style=\"stroke:#000000; stroke-linecap:round; stroke-linejoin:round; stroke-width:4; stroke-opacity:1; fill:none\" points=\"\n  2297.96,1486.45 2297.96,1467.55 \n  \"/>\n<path clip-path=\"url(#clip470)\" d=\"M245.866 1517.37 Q242.255 1517.37 240.426 1520.93 Q238.621 1524.47 238.621 1531.6 Q238.621 1538.71 240.426 1542.27 Q242.255 1545.82 245.866 1545.82 Q249.5 1545.82 251.306 1542.27 Q253.134 1538.71 253.134 1531.6 Q253.134 1524.47 251.306 1520.93 Q249.5 1517.37 245.866 1517.37 M245.866 1513.66 Q251.676 1513.66 254.732 1518.27 Q257.81 1522.85 257.81 1531.6 Q257.81 1540.33 254.732 1544.94 Q251.676 1549.52 245.866 1549.52 Q240.056 1549.52 236.977 1544.94 Q233.921 1540.33 233.921 1531.6 Q233.921 1522.85 236.977 1518.27 Q240.056 1513.66 245.866 1513.66 Z\" fill=\"#000000\" fill-rule=\"evenodd\" fill-opacity=\"1\" /><path clip-path=\"url(#clip470)\" d=\"M722.583 1544.91 L738.902 1544.91 L738.902 1548.85 L716.958 1548.85 L716.958 1544.91 Q719.62 1542.16 724.203 1537.53 Q728.81 1532.88 729.99 1531.53 Q732.236 1529.01 733.115 1527.27 Q734.018 1525.51 734.018 1523.82 Q734.018 1521.07 732.074 1519.33 Q730.152 1517.6 727.05 1517.6 Q724.851 1517.6 722.398 1518.36 Q719.967 1519.13 717.189 1520.68 L717.189 1515.95 Q720.013 1514.82 722.467 1514.24 Q724.921 1513.66 726.958 1513.66 Q732.328 1513.66 735.523 1516.35 Q738.717 1519.03 738.717 1523.52 Q738.717 1525.65 737.907 1527.57 Q737.12 1529.47 735.013 1532.07 Q734.435 1532.74 731.333 1535.95 Q728.231 1539.15 722.583 1544.91 Z\" fill=\"#000000\" fill-rule=\"evenodd\" fill-opacity=\"1\" /><path clip-path=\"url(#clip470)\" d=\"M748.763 1514.29 L767.12 1514.29 L767.12 1518.22 L753.046 1518.22 L753.046 1526.7 Q754.064 1526.35 755.083 1526.19 Q756.101 1526 757.12 1526 Q762.907 1526 766.286 1529.17 Q769.666 1532.34 769.666 1537.76 Q769.666 1543.34 766.194 1546.44 Q762.722 1549.52 756.402 1549.52 Q754.226 1549.52 751.958 1549.15 Q749.712 1548.78 747.305 1548.04 L747.305 1543.34 Q749.388 1544.47 751.611 1545.03 Q753.833 1545.58 756.31 1545.58 Q760.314 1545.58 762.652 1543.48 Q764.99 1541.37 764.99 1537.76 Q764.99 1534.15 762.652 1532.04 Q760.314 1529.94 756.31 1529.94 Q754.435 1529.94 752.56 1530.35 Q750.708 1530.77 748.763 1531.65 L748.763 1514.29 Z\" fill=\"#000000\" fill-rule=\"evenodd\" fill-opacity=\"1\" /><path clip-path=\"url(#clip470)\" d=\"M788.879 1517.37 Q785.268 1517.37 783.439 1520.93 Q781.634 1524.47 781.634 1531.6 Q781.634 1538.71 783.439 1542.27 Q785.268 1545.82 788.879 1545.82 Q792.513 1545.82 794.319 1542.27 Q796.147 1538.71 796.147 1531.6 Q796.147 1524.47 794.319 1520.93 Q792.513 1517.37 788.879 1517.37 M788.879 1513.66 Q794.689 1513.66 797.745 1518.27 Q800.823 1522.85 800.823 1531.6 Q800.823 1540.33 797.745 1544.94 Q794.689 1549.52 788.879 1549.52 Q783.069 1549.52 779.99 1544.94 Q776.934 1540.33 776.934 1531.6 Q776.934 1522.85 779.99 1518.27 Q783.069 1513.66 788.879 1513.66 Z\" fill=\"#000000\" fill-rule=\"evenodd\" fill-opacity=\"1\" /><path clip-path=\"url(#clip470)\" d=\"M1231.53 1514.29 L1249.89 1514.29 L1249.89 1518.22 L1235.82 1518.22 L1235.82 1526.7 Q1236.83 1526.35 1237.85 1526.19 Q1238.87 1526 1239.89 1526 Q1245.68 1526 1249.06 1529.17 Q1252.44 1532.34 1252.44 1537.76 Q1252.44 1543.34 1248.96 1546.44 Q1245.49 1549.52 1239.17 1549.52 Q1237 1549.52 1234.73 1549.15 Q1232.48 1548.78 1230.08 1548.04 L1230.08 1543.34 Q1232.16 1544.47 1234.38 1545.03 Q1236.6 1545.58 1239.08 1545.58 Q1243.08 1545.58 1245.42 1543.48 Q1247.76 1541.37 1247.76 1537.76 Q1247.76 1534.15 1245.42 1532.04 Q1243.08 1529.94 1239.08 1529.94 Q1237.2 1529.94 1235.33 1530.35 Q1233.48 1530.77 1231.53 1531.65 L1231.53 1514.29 Z\" fill=\"#000000\" fill-rule=\"evenodd\" fill-opacity=\"1\" /><path clip-path=\"url(#clip470)\" d=\"M1271.65 1517.37 Q1268.04 1517.37 1266.21 1520.93 Q1264.4 1524.47 1264.4 1531.6 Q1264.4 1538.71 1266.21 1542.27 Q1268.04 1545.82 1271.65 1545.82 Q1275.28 1545.82 1277.09 1542.27 Q1278.92 1538.71 1278.92 1531.6 Q1278.92 1524.47 1277.09 1520.93 Q1275.28 1517.37 1271.65 1517.37 M1271.65 1513.66 Q1277.46 1513.66 1280.51 1518.27 Q1283.59 1522.85 1283.59 1531.6 Q1283.59 1540.33 1280.51 1544.94 Q1277.46 1549.52 1271.65 1549.52 Q1265.84 1549.52 1262.76 1544.94 Q1259.7 1540.33 1259.7 1531.6 Q1259.7 1522.85 1262.76 1518.27 Q1265.84 1513.66 1271.65 1513.66 Z\" fill=\"#000000\" fill-rule=\"evenodd\" fill-opacity=\"1\" /><path clip-path=\"url(#clip470)\" d=\"M1301.81 1517.37 Q1298.2 1517.37 1296.37 1520.93 Q1294.57 1524.47 1294.57 1531.6 Q1294.57 1538.71 1296.37 1542.27 Q1298.2 1545.82 1301.81 1545.82 Q1305.45 1545.82 1307.25 1542.27 Q1309.08 1538.71 1309.08 1531.6 Q1309.08 1524.47 1307.25 1520.93 Q1305.45 1517.37 1301.81 1517.37 M1301.81 1513.66 Q1307.62 1513.66 1310.68 1518.27 Q1313.76 1522.85 1313.76 1531.6 Q1313.76 1540.33 1310.68 1544.94 Q1307.62 1549.52 1301.81 1549.52 Q1296 1549.52 1292.92 1544.94 Q1289.87 1540.33 1289.87 1531.6 Q1289.87 1522.85 1292.92 1518.27 Q1296 1513.66 1301.81 1513.66 Z\" fill=\"#000000\" fill-rule=\"evenodd\" fill-opacity=\"1\" /><path clip-path=\"url(#clip470)\" d=\"M1743.22 1514.29 L1765.44 1514.29 L1765.44 1516.28 L1752.89 1548.85 L1748.01 1548.85 L1759.81 1518.22 L1743.22 1518.22 L1743.22 1514.29 Z\" fill=\"#000000\" fill-rule=\"evenodd\" fill-opacity=\"1\" /><path clip-path=\"url(#clip470)\" d=\"M1774.6 1514.29 L1792.96 1514.29 L1792.96 1518.22 L1778.89 1518.22 L1778.89 1526.7 Q1779.91 1526.35 1780.92 1526.19 Q1781.94 1526 1782.96 1526 Q1788.75 1526 1792.13 1529.17 Q1795.51 1532.34 1795.51 1537.76 Q1795.51 1543.34 1792.03 1546.44 Q1788.56 1549.52 1782.24 1549.52 Q1780.07 1549.52 1777.8 1549.15 Q1775.55 1548.78 1773.15 1548.04 L1773.15 1543.34 Q1775.23 1544.47 1777.45 1545.03 Q1779.67 1545.58 1782.15 1545.58 Q1786.16 1545.58 1788.49 1543.48 Q1790.83 1541.37 1790.83 1537.76 Q1790.83 1534.15 1788.49 1532.04 Q1786.16 1529.94 1782.15 1529.94 Q1780.28 1529.94 1778.4 1530.35 Q1776.55 1530.77 1774.6 1531.65 L1774.6 1514.29 Z\" fill=\"#000000\" fill-rule=\"evenodd\" fill-opacity=\"1\" /><path clip-path=\"url(#clip470)\" d=\"M1814.72 1517.37 Q1811.11 1517.37 1809.28 1520.93 Q1807.47 1524.47 1807.47 1531.6 Q1807.47 1538.71 1809.28 1542.27 Q1811.11 1545.82 1814.72 1545.82 Q1818.35 1545.82 1820.16 1542.27 Q1821.99 1538.71 1821.99 1531.6 Q1821.99 1524.47 1820.16 1520.93 Q1818.35 1517.37 1814.72 1517.37 M1814.72 1513.66 Q1820.53 1513.66 1823.59 1518.27 Q1826.66 1522.85 1826.66 1531.6 Q1826.66 1540.33 1823.59 1544.94 Q1820.53 1549.52 1814.72 1549.52 Q1808.91 1549.52 1805.83 1544.94 Q1802.78 1540.33 1802.78 1531.6 Q1802.78 1522.85 1805.83 1518.27 Q1808.91 1513.66 1814.72 1513.66 Z\" fill=\"#000000\" fill-rule=\"evenodd\" fill-opacity=\"1\" /><path clip-path=\"url(#clip470)\" d=\"M2242.49 1544.91 L2250.13 1544.91 L2250.13 1518.55 L2241.82 1520.21 L2241.82 1515.95 L2250.08 1514.29 L2254.76 1514.29 L2254.76 1544.91 L2262.4 1544.91 L2262.4 1548.85 L2242.49 1548.85 L2242.49 1544.91 Z\" fill=\"#000000\" fill-rule=\"evenodd\" fill-opacity=\"1\" /><path clip-path=\"url(#clip470)\" d=\"M2281.84 1517.37 Q2278.23 1517.37 2276.4 1520.93 Q2274.6 1524.47 2274.6 1531.6 Q2274.6 1538.71 2276.4 1542.27 Q2278.23 1545.82 2281.84 1545.82 Q2285.48 1545.82 2287.28 1542.27 Q2289.11 1538.71 2289.11 1531.6 Q2289.11 1524.47 2287.28 1520.93 Q2285.48 1517.37 2281.84 1517.37 M2281.84 1513.66 Q2287.65 1513.66 2290.71 1518.27 Q2293.79 1522.85 2293.79 1531.6 Q2293.79 1540.33 2290.71 1544.94 Q2287.65 1549.52 2281.84 1549.52 Q2276.03 1549.52 2272.95 1544.94 Q2269.9 1540.33 2269.9 1531.6 Q2269.9 1522.85 2272.95 1518.27 Q2276.03 1513.66 2281.84 1513.66 Z\" fill=\"#000000\" fill-rule=\"evenodd\" fill-opacity=\"1\" /><path clip-path=\"url(#clip470)\" d=\"M2312 1517.37 Q2308.39 1517.37 2306.56 1520.93 Q2304.76 1524.47 2304.76 1531.6 Q2304.76 1538.71 2306.56 1542.27 Q2308.39 1545.82 2312 1545.82 Q2315.64 1545.82 2317.44 1542.27 Q2319.27 1538.71 2319.27 1531.6 Q2319.27 1524.47 2317.44 1520.93 Q2315.64 1517.37 2312 1517.37 M2312 1513.66 Q2317.81 1513.66 2320.87 1518.27 Q2323.95 1522.85 2323.95 1531.6 Q2323.95 1540.33 2320.87 1544.94 Q2317.81 1549.52 2312 1549.52 Q2306.19 1549.52 2303.12 1544.94 Q2300.06 1540.33 2300.06 1531.6 Q2300.06 1522.85 2303.12 1518.27 Q2306.19 1513.66 2312 1513.66 Z\" fill=\"#000000\" fill-rule=\"evenodd\" fill-opacity=\"1\" /><path clip-path=\"url(#clip470)\" d=\"M2342.17 1517.37 Q2338.55 1517.37 2336.73 1520.93 Q2334.92 1524.47 2334.92 1531.6 Q2334.92 1538.71 2336.73 1542.27 Q2338.55 1545.82 2342.17 1545.82 Q2345.8 1545.82 2347.61 1542.27 Q2349.43 1538.71 2349.43 1531.6 Q2349.43 1524.47 2347.61 1520.93 Q2345.8 1517.37 2342.17 1517.37 M2342.17 1513.66 Q2347.98 1513.66 2351.03 1518.27 Q2354.11 1522.85 2354.11 1531.6 Q2354.11 1540.33 2351.03 1544.94 Q2347.98 1549.52 2342.17 1549.52 Q2336.36 1549.52 2333.28 1544.94 Q2330.22 1540.33 2330.22 1531.6 Q2330.22 1522.85 2333.28 1518.27 Q2336.36 1513.66 2342.17 1513.66 Z\" fill=\"#000000\" fill-rule=\"evenodd\" fill-opacity=\"1\" /><polyline clip-path=\"url(#clip472)\" style=\"stroke:#000000; stroke-linecap:round; stroke-linejoin:round; stroke-width:2; stroke-opacity:0.1; fill:none\" points=\"\n  199.283,1448.5 2352.76,1448.5 \n  \"/>\n<polyline clip-path=\"url(#clip472)\" style=\"stroke:#000000; stroke-linecap:round; stroke-linejoin:round; stroke-width:2; stroke-opacity:0.1; fill:none\" points=\"\n  199.283,1100.36 2352.76,1100.36 \n  \"/>\n<polyline clip-path=\"url(#clip472)\" style=\"stroke:#000000; stroke-linecap:round; stroke-linejoin:round; stroke-width:2; stroke-opacity:0.1; fill:none\" points=\"\n  199.283,752.224 2352.76,752.224 \n  \"/>\n<polyline clip-path=\"url(#clip472)\" style=\"stroke:#000000; stroke-linecap:round; stroke-linejoin:round; stroke-width:2; stroke-opacity:0.1; fill:none\" points=\"\n  199.283,404.086 2352.76,404.086 \n  \"/>\n<polyline clip-path=\"url(#clip472)\" style=\"stroke:#000000; stroke-linecap:round; stroke-linejoin:round; stroke-width:2; stroke-opacity:0.1; fill:none\" points=\"\n  199.283,55.9476 2352.76,55.9476 \n  \"/>\n<polyline clip-path=\"url(#clip470)\" style=\"stroke:#000000; stroke-linecap:round; stroke-linejoin:round; stroke-width:4; stroke-opacity:1; fill:none\" points=\"\n  199.283,1486.45 199.283,47.2441 \n  \"/>\n<polyline clip-path=\"url(#clip470)\" style=\"stroke:#000000; stroke-linecap:round; stroke-linejoin:round; stroke-width:4; stroke-opacity:1; fill:none\" points=\"\n  199.283,1448.5 218.181,1448.5 \n  \"/>\n<polyline clip-path=\"url(#clip470)\" style=\"stroke:#000000; stroke-linecap:round; stroke-linejoin:round; stroke-width:4; stroke-opacity:1; fill:none\" points=\"\n  199.283,1100.36 218.181,1100.36 \n  \"/>\n<polyline clip-path=\"url(#clip470)\" style=\"stroke:#000000; stroke-linecap:round; stroke-linejoin:round; stroke-width:4; stroke-opacity:1; fill:none\" points=\"\n  199.283,752.224 218.181,752.224 \n  \"/>\n<polyline clip-path=\"url(#clip470)\" style=\"stroke:#000000; stroke-linecap:round; stroke-linejoin:round; stroke-width:4; stroke-opacity:1; fill:none\" points=\"\n  199.283,404.086 218.181,404.086 \n  \"/>\n<polyline clip-path=\"url(#clip470)\" style=\"stroke:#000000; stroke-linecap:round; stroke-linejoin:round; stroke-width:4; stroke-opacity:1; fill:none\" points=\"\n  199.283,55.9476 218.181,55.9476 \n  \"/>\n<path clip-path=\"url(#clip470)\" d=\"M151.339 1434.3 Q147.728 1434.3 145.899 1437.86 Q144.093 1441.41 144.093 1448.54 Q144.093 1455.64 145.899 1459.21 Q147.728 1462.75 151.339 1462.75 Q154.973 1462.75 156.779 1459.21 Q158.607 1455.64 158.607 1448.54 Q158.607 1441.41 156.779 1437.86 Q154.973 1434.3 151.339 1434.3 M151.339 1430.6 Q157.149 1430.6 160.205 1435.2 Q163.283 1439.79 163.283 1448.54 Q163.283 1457.26 160.205 1461.87 Q157.149 1466.45 151.339 1466.45 Q145.529 1466.45 142.45 1461.87 Q139.394 1457.26 139.394 1448.54 Q139.394 1439.79 142.45 1435.2 Q145.529 1430.6 151.339 1430.6 Z\" fill=\"#000000\" fill-rule=\"evenodd\" fill-opacity=\"1\" /><path clip-path=\"url(#clip470)\" d=\"M85.0429 1113.71 L101.362 1113.71 L101.362 1117.64 L79.4179 1117.64 L79.4179 1113.71 Q82.0799 1110.95 86.6632 1106.32 Q91.2697 1101.67 92.4502 1100.33 Q94.6956 1097.8 95.5752 1096.07 Q96.478 1094.31 96.478 1092.62 Q96.478 1089.86 94.5336 1088.13 Q92.6123 1086.39 89.5104 1086.39 Q87.3114 1086.39 84.8577 1087.16 Q82.4271 1087.92 79.6494 1089.47 L79.6494 1084.75 Q82.4734 1083.61 84.9271 1083.04 Q87.3808 1082.46 89.4178 1082.46 Q94.7882 1082.46 97.9826 1085.14 Q101.177 1087.83 101.177 1092.32 Q101.177 1094.45 100.367 1096.37 Q99.5798 1098.27 97.4734 1100.86 Q96.8947 1101.53 93.7928 1104.75 Q90.691 1107.94 85.0429 1113.71 Z\" fill=\"#000000\" fill-rule=\"evenodd\" fill-opacity=\"1\" /><path clip-path=\"url(#clip470)\" d=\"M111.223 1083.08 L129.58 1083.08 L129.58 1087.02 L115.506 1087.02 L115.506 1095.49 Q116.524 1095.14 117.543 1094.98 Q118.561 1094.8 119.58 1094.8 Q125.367 1094.8 128.746 1097.97 Q132.126 1101.14 132.126 1106.55 Q132.126 1112.13 128.654 1115.24 Q125.182 1118.31 118.862 1118.31 Q116.686 1118.31 114.418 1117.94 Q112.172 1117.57 109.765 1116.83 L109.765 1112.13 Q111.848 1113.27 114.07 1113.82 Q116.293 1114.38 118.77 1114.38 Q122.774 1114.38 125.112 1112.27 Q127.45 1110.17 127.45 1106.55 Q127.45 1102.94 125.112 1100.84 Q122.774 1098.73 118.77 1098.73 Q116.895 1098.73 115.02 1099.15 Q113.168 1099.56 111.223 1100.44 L111.223 1083.08 Z\" fill=\"#000000\" fill-rule=\"evenodd\" fill-opacity=\"1\" /><path clip-path=\"url(#clip470)\" d=\"M151.339 1086.16 Q147.728 1086.16 145.899 1089.73 Q144.093 1093.27 144.093 1100.4 Q144.093 1107.5 145.899 1111.07 Q147.728 1114.61 151.339 1114.61 Q154.973 1114.61 156.779 1111.07 Q158.607 1107.5 158.607 1100.4 Q158.607 1093.27 156.779 1089.73 Q154.973 1086.16 151.339 1086.16 M151.339 1082.46 Q157.149 1082.46 160.205 1087.06 Q163.283 1091.65 163.283 1100.4 Q163.283 1109.12 160.205 1113.73 Q157.149 1118.31 151.339 1118.31 Q145.529 1118.31 142.45 1113.73 Q139.394 1109.12 139.394 1100.4 Q139.394 1091.65 142.45 1087.06 Q145.529 1082.46 151.339 1082.46 Z\" fill=\"#000000\" fill-rule=\"evenodd\" fill-opacity=\"1\" /><path clip-path=\"url(#clip470)\" d=\"M81.0614 734.944 L99.4178 734.944 L99.4178 738.879 L85.3438 738.879 L85.3438 747.352 Q86.3623 747.004 87.3808 746.842 Q88.3993 746.657 89.4178 746.657 Q95.2049 746.657 98.5845 749.828 Q101.964 753 101.964 758.416 Q101.964 763.995 98.4919 767.097 Q95.0197 770.175 88.7003 770.175 Q86.5243 770.175 84.2558 769.805 Q82.0105 769.435 79.6031 768.694 L79.6031 763.995 Q81.6864 765.129 83.9086 765.685 Q86.1308 766.24 88.6077 766.24 Q92.6123 766.24 94.9502 764.134 Q97.2882 762.027 97.2882 758.416 Q97.2882 754.805 94.9502 752.699 Q92.6123 750.592 88.6077 750.592 Q86.7327 750.592 84.8577 751.009 Q83.0058 751.426 81.0614 752.305 L81.0614 734.944 Z\" fill=\"#000000\" fill-rule=\"evenodd\" fill-opacity=\"1\" /><path clip-path=\"url(#clip470)\" d=\"M121.177 738.023 Q117.566 738.023 115.737 741.588 Q113.932 745.129 113.932 752.259 Q113.932 759.365 115.737 762.93 Q117.566 766.472 121.177 766.472 Q124.811 766.472 126.617 762.93 Q128.445 759.365 128.445 752.259 Q128.445 745.129 126.617 741.588 Q124.811 738.023 121.177 738.023 M121.177 734.319 Q126.987 734.319 130.043 738.926 Q133.121 743.509 133.121 752.259 Q133.121 760.986 130.043 765.592 Q126.987 770.175 121.177 770.175 Q115.367 770.175 112.288 765.592 Q109.233 760.986 109.233 752.259 Q109.233 743.509 112.288 738.926 Q115.367 734.319 121.177 734.319 Z\" fill=\"#000000\" fill-rule=\"evenodd\" fill-opacity=\"1\" /><path clip-path=\"url(#clip470)\" d=\"M151.339 738.023 Q147.728 738.023 145.899 741.588 Q144.093 745.129 144.093 752.259 Q144.093 759.365 145.899 762.93 Q147.728 766.472 151.339 766.472 Q154.973 766.472 156.779 762.93 Q158.607 759.365 158.607 752.259 Q158.607 745.129 156.779 741.588 Q154.973 738.023 151.339 738.023 M151.339 734.319 Q157.149 734.319 160.205 738.926 Q163.283 743.509 163.283 752.259 Q163.283 760.986 160.205 765.592 Q157.149 770.175 151.339 770.175 Q145.529 770.175 142.45 765.592 Q139.394 760.986 139.394 752.259 Q139.394 743.509 142.45 738.926 Q145.529 734.319 151.339 734.319 Z\" fill=\"#000000\" fill-rule=\"evenodd\" fill-opacity=\"1\" /><path clip-path=\"url(#clip470)\" d=\"M79.8346 386.806 L102.057 386.806 L102.057 388.797 L89.5104 421.366 L84.6262 421.366 L96.4317 390.741 L79.8346 390.741 L79.8346 386.806 Z\" fill=\"#000000\" fill-rule=\"evenodd\" fill-opacity=\"1\" /><path clip-path=\"url(#clip470)\" d=\"M111.223 386.806 L129.58 386.806 L129.58 390.741 L115.506 390.741 L115.506 399.213 Q116.524 398.866 117.543 398.704 Q118.561 398.519 119.58 398.519 Q125.367 398.519 128.746 401.69 Q132.126 404.861 132.126 410.278 Q132.126 415.857 128.654 418.958 Q125.182 422.037 118.862 422.037 Q116.686 422.037 114.418 421.667 Q112.172 421.296 109.765 420.556 L109.765 415.857 Q111.848 416.991 114.07 417.546 Q116.293 418.102 118.77 418.102 Q122.774 418.102 125.112 415.996 Q127.45 413.889 127.45 410.278 Q127.45 406.667 125.112 404.56 Q122.774 402.454 118.77 402.454 Q116.895 402.454 115.02 402.871 Q113.168 403.287 111.223 404.167 L111.223 386.806 Z\" fill=\"#000000\" fill-rule=\"evenodd\" fill-opacity=\"1\" /><path clip-path=\"url(#clip470)\" d=\"M151.339 389.885 Q147.728 389.885 145.899 393.449 Q144.093 396.991 144.093 404.121 Q144.093 411.227 145.899 414.792 Q147.728 418.333 151.339 418.333 Q154.973 418.333 156.779 414.792 Q158.607 411.227 158.607 404.121 Q158.607 396.991 156.779 393.449 Q154.973 389.885 151.339 389.885 M151.339 386.181 Q157.149 386.181 160.205 390.787 Q163.283 395.371 163.283 404.121 Q163.283 412.847 160.205 417.454 Q157.149 422.037 151.339 422.037 Q145.529 422.037 142.45 417.454 Q139.394 412.847 139.394 404.121 Q139.394 395.371 142.45 390.787 Q145.529 386.181 151.339 386.181 Z\" fill=\"#000000\" fill-rule=\"evenodd\" fill-opacity=\"1\" /><path clip-path=\"url(#clip470)\" d=\"M51.6634 69.2924 L59.3023 69.2924 L59.3023 42.9268 L50.9921 44.5934 L50.9921 40.3342 L59.256 38.6676 L63.9319 38.6676 L63.9319 69.2924 L71.5707 69.2924 L71.5707 73.2276 L51.6634 73.2276 L51.6634 69.2924 Z\" fill=\"#000000\" fill-rule=\"evenodd\" fill-opacity=\"1\" /><path clip-path=\"url(#clip470)\" d=\"M91.0151 41.7462 Q87.404 41.7462 85.5753 45.311 Q83.7697 48.8527 83.7697 55.9823 Q83.7697 63.0887 85.5753 66.6535 Q87.404 70.1952 91.0151 70.1952 Q94.6493 70.1952 96.4548 66.6535 Q98.2835 63.0887 98.2835 55.9823 Q98.2835 48.8527 96.4548 45.311 Q94.6493 41.7462 91.0151 41.7462 M91.0151 38.0426 Q96.8252 38.0426 99.8808 42.649 Q102.959 47.2323 102.959 55.9823 Q102.959 64.7091 99.8808 69.3155 Q96.8252 73.8988 91.0151 73.8988 Q85.2049 73.8988 82.1262 69.3155 Q79.0707 64.7091 79.0707 55.9823 Q79.0707 47.2323 82.1262 42.649 Q85.2049 38.0426 91.0151 38.0426 Z\" fill=\"#000000\" fill-rule=\"evenodd\" fill-opacity=\"1\" /><path clip-path=\"url(#clip470)\" d=\"M121.177 41.7462 Q117.566 41.7462 115.737 45.311 Q113.932 48.8527 113.932 55.9823 Q113.932 63.0887 115.737 66.6535 Q117.566 70.1952 121.177 70.1952 Q124.811 70.1952 126.617 66.6535 Q128.445 63.0887 128.445 55.9823 Q128.445 48.8527 126.617 45.311 Q124.811 41.7462 121.177 41.7462 M121.177 38.0426 Q126.987 38.0426 130.043 42.649 Q133.121 47.2323 133.121 55.9823 Q133.121 64.7091 130.043 69.3155 Q126.987 73.8988 121.177 73.8988 Q115.367 73.8988 112.288 69.3155 Q109.233 64.7091 109.233 55.9823 Q109.233 47.2323 112.288 42.649 Q115.367 38.0426 121.177 38.0426 Z\" fill=\"#000000\" fill-rule=\"evenodd\" fill-opacity=\"1\" /><path clip-path=\"url(#clip470)\" d=\"M151.339 41.7462 Q147.728 41.7462 145.899 45.311 Q144.093 48.8527 144.093 55.9823 Q144.093 63.0887 145.899 66.6535 Q147.728 70.1952 151.339 70.1952 Q154.973 70.1952 156.779 66.6535 Q158.607 63.0887 158.607 55.9823 Q158.607 48.8527 156.779 45.311 Q154.973 41.7462 151.339 41.7462 M151.339 38.0426 Q157.149 38.0426 160.205 42.649 Q163.283 47.2323 163.283 55.9823 Q163.283 64.7091 160.205 69.3155 Q157.149 73.8988 151.339 73.8988 Q145.529 73.8988 142.45 69.3155 Q139.394 64.7091 139.394 55.9823 Q139.394 47.2323 142.45 42.649 Q145.529 38.0426 151.339 38.0426 Z\" fill=\"#000000\" fill-rule=\"evenodd\" fill-opacity=\"1\" /><polyline clip-path=\"url(#clip472)\" style=\"stroke:#009af9; stroke-linecap:round; stroke-linejoin:round; stroke-width:4; stroke-opacity:1; fill:none\" points=\"\n  914.85,832.992 849.183,755.009 \n  \"/>\n<polyline clip-path=\"url(#clip472)\" style=\"stroke:#e26f46; stroke-linecap:round; stroke-linejoin:round; stroke-width:4; stroke-opacity:1; fill:none\" points=\"\n  1372.47,216.091 1405.3,185.455 \n  \"/>\n<polyline clip-path=\"url(#clip472)\" style=\"stroke:#3da44d; stroke-linecap:round; stroke-linejoin:round; stroke-width:4; stroke-opacity:1; fill:none\" points=\"\n  693.223,722.981 742.474,677.026 \n  \"/>\n<polyline clip-path=\"url(#clip472)\" style=\"stroke:#c271d2; stroke-linecap:round; stroke-linejoin:round; stroke-width:4; stroke-opacity:1; fill:none\" points=\"\n  2082.49,136.716 2189.2,100.509 \n  \"/>\n<polyline clip-path=\"url(#clip472)\" style=\"stroke:#ac8d18; stroke-linecap:round; stroke-linejoin:round; stroke-width:4; stroke-opacity:1; fill:none\" points=\"\n  970.257,319.14 996.934,306.607 \n  \"/>\n<polyline clip-path=\"url(#clip472)\" style=\"stroke:#00a9ad; stroke-linecap:round; stroke-linejoin:round; stroke-width:4; stroke-opacity:1; fill:none\" points=\"\n  1054.39,800.964 914.85,832.992 \n  \"/>\n<polyline clip-path=\"url(#clip472)\" style=\"stroke:#ed5d92; stroke-linecap:round; stroke-linejoin:round; stroke-width:4; stroke-opacity:1; fill:none\" points=\"\n  2203.57,87.9763 2209.72,433.329 \n  \"/>\n<polyline clip-path=\"url(#clip472)\" style=\"stroke:#c68125; stroke-linecap:round; stroke-linejoin:round; stroke-width:4; stroke-opacity:1; fill:none\" points=\"\n  1879.34,752.224 1998.36,763.365 \n  \"/>\n<polyline clip-path=\"url(#clip472)\" style=\"stroke:#00a98d; stroke-linecap:round; stroke-linejoin:round; stroke-width:4; stroke-opacity:1; fill:none\" points=\"\n  1259.6,451.433 1372.47,216.091 \n  \"/>\n<polyline clip-path=\"url(#clip472)\" style=\"stroke:#8e971d; stroke-linecap:round; stroke-linejoin:round; stroke-width:4; stroke-opacity:1; fill:none\" points=\"\n  1782.89,1183.92 1637.19,1179.74 \n  \"/>\n<polyline clip-path=\"url(#clip472)\" style=\"stroke:#00a8cb; stroke-linecap:round; stroke-linejoin:round; stroke-width:4; stroke-opacity:1; fill:none\" points=\"\n  1431.98,924.901 1454.55,965.285 \n  \"/>\n<polyline clip-path=\"url(#clip472)\" style=\"stroke:#9b7fe8; stroke-linecap:round; stroke-linejoin:round; stroke-width:4; stroke-opacity:1; fill:none\" points=\"\n  1739.79,660.316 1782.89,707.662 \n  \"/>\n<polyline clip-path=\"url(#clip472)\" style=\"stroke:#608cf6; stroke-linecap:round; stroke-linejoin:round; stroke-width:4; stroke-opacity:1; fill:none\" points=\"\n  260.231,1208.98 440.815,951.359 \n  \"/>\n<polyline clip-path=\"url(#clip472)\" style=\"stroke:#f05f73; stroke-linecap:round; stroke-linejoin:round; stroke-width:4; stroke-opacity:1; fill:none\" points=\"\n  654.234,993.136 962.048,890.087 \n  \"/>\n<polyline clip-path=\"url(#clip472)\" style=\"stroke:#dd64b5; stroke-linecap:round; stroke-linejoin:round; stroke-width:4; stroke-opacity:1; fill:none\" points=\"\n  1146.74,568.407 1259.6,451.433 \n  \"/>\n<polyline clip-path=\"url(#clip472)\" style=\"stroke:#6b9e32; stroke-linecap:round; stroke-linejoin:round; stroke-width:4; stroke-opacity:1; fill:none\" points=\"\n  1647.45,927.686 1431.98,924.901 \n  \"/>\n<polyline clip-path=\"url(#clip472)\" style=\"stroke:#009af9; stroke-linecap:round; stroke-linejoin:round; stroke-width:4; stroke-opacity:1; fill:none\" points=\"\n  2209.72,433.329 1981.94,433.329 \n  \"/>\n<polyline clip-path=\"url(#clip472)\" style=\"stroke:#e26f46; stroke-linecap:round; stroke-linejoin:round; stroke-width:4; stroke-opacity:1; fill:none\" points=\"\n  1575.63,1445.72 1354,1298.11 \n  \"/>\n<polyline clip-path=\"url(#clip472)\" style=\"stroke:#3da44d; stroke-linecap:round; stroke-linejoin:round; stroke-width:4; stroke-opacity:1; fill:none\" points=\"\n  2291.81,1261.9 1809.57,1412.29 \n  \"/>\n<polyline clip-path=\"url(#clip472)\" style=\"stroke:#c271d2; stroke-linecap:round; stroke-linejoin:round; stroke-width:4; stroke-opacity:1; fill:none\" points=\"\n  1782.89,707.662 1879.34,752.224 \n  \"/>\n<polyline clip-path=\"url(#clip472)\" style=\"stroke:#ac8d18; stroke-linecap:round; stroke-linejoin:round; stroke-width:4; stroke-opacity:1; fill:none\" points=\"\n  471.597,1346.84 260.231,1208.98 \n  \"/>\n<polyline clip-path=\"url(#clip472)\" style=\"stroke:#00a9ad; stroke-linecap:round; stroke-linejoin:round; stroke-width:4; stroke-opacity:1; fill:none\" points=\"\n  1253.45,749.439 1423.77,792.608 \n  \"/>\n<polyline clip-path=\"url(#clip472)\" style=\"stroke:#ed5d92; stroke-linecap:round; stroke-linejoin:round; stroke-width:4; stroke-opacity:1; fill:none\" points=\"\n  1405.3,185.455 1419.67,136.716 \n  \"/>\n<polyline clip-path=\"url(#clip472)\" style=\"stroke:#c68125; stroke-linecap:round; stroke-linejoin:round; stroke-width:4; stroke-opacity:1; fill:none\" points=\"\n  767.099,1286.96 471.597,1346.84 \n  \"/>\n<polyline clip-path=\"url(#clip472)\" style=\"stroke:#00a98d; stroke-linecap:round; stroke-linejoin:round; stroke-width:4; stroke-opacity:1; fill:none\" points=\"\n  1532.53,937.434 1647.45,927.686 \n  \"/>\n<polyline clip-path=\"url(#clip472)\" style=\"stroke:#8e971d; stroke-linecap:round; stroke-linejoin:round; stroke-width:4; stroke-opacity:1; fill:none\" points=\"\n  726.057,220.269 797.88,327.495 \n  \"/>\n<polyline clip-path=\"url(#clip472)\" style=\"stroke:#00a8cb; stroke-linecap:round; stroke-linejoin:round; stroke-width:4; stroke-opacity:1; fill:none\" points=\"\n  500.326,512.705 393.617,515.49 \n  \"/>\n<polyline clip-path=\"url(#clip472)\" style=\"stroke:#9b7fe8; stroke-linecap:round; stroke-linejoin:round; stroke-width:4; stroke-opacity:1; fill:none\" points=\"\n  1497.65,780.075 1253.45,749.439 \n  \"/>\n<polyline clip-path=\"url(#clip472)\" style=\"stroke:#608cf6; stroke-linecap:round; stroke-linejoin:round; stroke-width:4; stroke-opacity:1; fill:none\" points=\"\n  1626.93,125.575 1694.65,149.249 \n  \"/>\n<polyline clip-path=\"url(#clip472)\" style=\"stroke:#f05f73; stroke-linecap:round; stroke-linejoin:round; stroke-width:4; stroke-opacity:1; fill:none\" points=\"\n  1809.57,1412.29 1575.63,1445.72 \n  \"/>\n<polyline clip-path=\"url(#clip472)\" style=\"stroke:#dd64b5; stroke-linecap:round; stroke-linejoin:round; stroke-width:4; stroke-opacity:1; fill:none\" points=\"\n  1454.55,965.285 1532.53,937.434 \n  \"/>\n<polyline clip-path=\"url(#clip472)\" style=\"stroke:#6b9e32; stroke-linecap:round; stroke-linejoin:round; stroke-width:4; stroke-opacity:1; fill:none\" points=\"\n  996.934,306.607 1146.74,568.407 \n  \"/>\n<polyline clip-path=\"url(#clip472)\" style=\"stroke:#009af9; stroke-linecap:round; stroke-linejoin:round; stroke-width:4; stroke-opacity:1; fill:none\" points=\"\n  514.691,344.206 726.057,220.269 \n  \"/>\n<polyline clip-path=\"url(#clip472)\" style=\"stroke:#e26f46; stroke-linecap:round; stroke-linejoin:round; stroke-width:4; stroke-opacity:1; fill:none\" points=\"\n  2189.2,100.509 2203.57,87.9763 \n  \"/>\n<polyline clip-path=\"url(#clip472)\" style=\"stroke:#3da44d; stroke-linecap:round; stroke-linejoin:round; stroke-width:4; stroke-opacity:1; fill:none\" points=\"\n  1423.77,792.608 1497.65,780.075 \n  \"/>\n<polyline clip-path=\"url(#clip472)\" style=\"stroke:#c271d2; stroke-linecap:round; stroke-linejoin:round; stroke-width:4; stroke-opacity:1; fill:none\" points=\"\n  1637.19,1179.74 1823.93,1011.24 \n  \"/>\n<polyline clip-path=\"url(#clip472)\" style=\"stroke:#ac8d18; stroke-linecap:round; stroke-linejoin:round; stroke-width:4; stroke-opacity:1; fill:none\" points=\"\n  1419.67,136.716 1626.93,125.575 \n  \"/>\n<polyline clip-path=\"url(#clip472)\" style=\"stroke:#00a9ad; stroke-linecap:round; stroke-linejoin:round; stroke-width:4; stroke-opacity:1; fill:none\" points=\"\n  393.617,515.49 514.691,344.206 \n  \"/>\n<polyline clip-path=\"url(#clip472)\" style=\"stroke:#ed5d92; stroke-linecap:round; stroke-linejoin:round; stroke-width:4; stroke-opacity:1; fill:none\" points=\"\n  1684.39,204.951 2082.49,136.716 \n  \"/>\n<polyline clip-path=\"url(#clip472)\" style=\"stroke:#c68125; stroke-linecap:round; stroke-linejoin:round; stroke-width:4; stroke-opacity:1; fill:none\" points=\"\n  440.815,951.359 654.234,993.136 \n  \"/>\n<polyline clip-path=\"url(#clip472)\" style=\"stroke:#00a98d; stroke-linecap:round; stroke-linejoin:round; stroke-width:4; stroke-opacity:1; fill:none\" points=\"\n  1981.94,433.329 1739.79,660.316 \n  \"/>\n<polyline clip-path=\"url(#clip472)\" style=\"stroke:#8e971d; stroke-linecap:round; stroke-linejoin:round; stroke-width:4; stroke-opacity:1; fill:none\" points=\"\n  962.048,890.087 1054.39,800.964 \n  \"/>\n<polyline clip-path=\"url(#clip472)\" style=\"stroke:#00a8cb; stroke-linecap:round; stroke-linejoin:round; stroke-width:4; stroke-opacity:1; fill:none\" points=\"\n  1823.93,1011.24 1782.89,1183.92 \n  \"/>\n<polyline clip-path=\"url(#clip472)\" style=\"stroke:#9b7fe8; stroke-linecap:round; stroke-linejoin:round; stroke-width:4; stroke-opacity:1; fill:none\" points=\"\n  797.88,327.495 970.257,319.14 \n  \"/>\n<polyline clip-path=\"url(#clip472)\" style=\"stroke:#608cf6; stroke-linecap:round; stroke-linejoin:round; stroke-width:4; stroke-opacity:1; fill:none\" points=\"\n  1354,1298.11 767.099,1286.96 \n  \"/>\n<polyline clip-path=\"url(#clip472)\" style=\"stroke:#f05f73; stroke-linecap:round; stroke-linejoin:round; stroke-width:4; stroke-opacity:1; fill:none\" points=\"\n  849.183,755.009 693.223,722.981 \n  \"/>\n<polyline clip-path=\"url(#clip472)\" style=\"stroke:#dd64b5; stroke-linecap:round; stroke-linejoin:round; stroke-width:4; stroke-opacity:1; fill:none\" points=\"\n  742.474,677.026 500.326,512.705 \n  \"/>\n<polyline clip-path=\"url(#clip472)\" style=\"stroke:#6b9e32; stroke-linecap:round; stroke-linejoin:round; stroke-width:4; stroke-opacity:1; fill:none\" points=\"\n  2254.87,767.542 2291.81,1261.9 \n  \"/>\n<polyline clip-path=\"url(#clip472)\" style=\"stroke:#009af9; stroke-linecap:round; stroke-linejoin:round; stroke-width:4; stroke-opacity:1; fill:none\" points=\"\n  1998.36,763.365 2254.87,767.542 \n  \"/>\n<polyline clip-path=\"url(#clip472)\" style=\"stroke:#e26f46; stroke-linecap:round; stroke-linejoin:round; stroke-width:4; stroke-opacity:1; fill:none\" points=\"\n  1694.65,149.249 1684.39,204.951 \n  \"/>\n</svg>\n"
          },
          "metadata": {}
        },
        {
          "output_type": "stream",
          "name": "stdout",
          "text": [
            "Lower bound : 5611.0\n"
          ]
        },
        {
          "output_type": "display_data",
          "data": {
            "image/svg+xml": "<?xml version=\"1.0\" encoding=\"utf-8\"?>\n<svg xmlns=\"http://www.w3.org/2000/svg\" xmlns:xlink=\"http://www.w3.org/1999/xlink\" width=\"600\" height=\"400\" viewBox=\"0 0 2400 1600\">\n<defs>\n  <clipPath id=\"clip510\">\n    <rect x=\"0\" y=\"0\" width=\"2400\" height=\"1600\"/>\n  </clipPath>\n</defs>\n<path clip-path=\"url(#clip510)\" d=\"\nM0 1600 L2400 1600 L2400 0 L0 0  Z\n  \" fill=\"#ffffff\" fill-rule=\"evenodd\" fill-opacity=\"1\"/>\n<defs>\n  <clipPath id=\"clip511\">\n    <rect x=\"480\" y=\"0\" width=\"1681\" height=\"1600\"/>\n  </clipPath>\n</defs>\n<path clip-path=\"url(#clip510)\" d=\"\nM199.283 1486.45 L2352.76 1486.45 L2352.76 47.2441 L199.283 47.2441  Z\n  \" fill=\"#ffffff\" fill-rule=\"evenodd\" fill-opacity=\"1\"/>\n<defs>\n  <clipPath id=\"clip512\">\n    <rect x=\"199\" y=\"47\" width=\"2154\" height=\"1440\"/>\n  </clipPath>\n</defs>\n<polyline clip-path=\"url(#clip512)\" style=\"stroke:#000000; stroke-linecap:round; stroke-linejoin:round; stroke-width:2; stroke-opacity:0.1; fill:none\" points=\"\n  245.866,1486.45 245.866,47.2441 \n  \"/>\n<polyline clip-path=\"url(#clip512)\" style=\"stroke:#000000; stroke-linecap:round; stroke-linejoin:round; stroke-width:2; stroke-opacity:0.1; fill:none\" points=\"\n  758.891,1486.45 758.891,47.2441 \n  \"/>\n<polyline clip-path=\"url(#clip512)\" style=\"stroke:#000000; stroke-linecap:round; stroke-linejoin:round; stroke-width:2; stroke-opacity:0.1; fill:none\" points=\"\n  1271.92,1486.45 1271.92,47.2441 \n  \"/>\n<polyline clip-path=\"url(#clip512)\" style=\"stroke:#000000; stroke-linecap:round; stroke-linejoin:round; stroke-width:2; stroke-opacity:0.1; fill:none\" points=\"\n  1784.94,1486.45 1784.94,47.2441 \n  \"/>\n<polyline clip-path=\"url(#clip512)\" style=\"stroke:#000000; stroke-linecap:round; stroke-linejoin:round; stroke-width:2; stroke-opacity:0.1; fill:none\" points=\"\n  2297.96,1486.45 2297.96,47.2441 \n  \"/>\n<polyline clip-path=\"url(#clip510)\" style=\"stroke:#000000; stroke-linecap:round; stroke-linejoin:round; stroke-width:4; stroke-opacity:1; fill:none\" points=\"\n  199.283,1486.45 2352.76,1486.45 \n  \"/>\n<polyline clip-path=\"url(#clip510)\" style=\"stroke:#000000; stroke-linecap:round; stroke-linejoin:round; stroke-width:4; stroke-opacity:1; fill:none\" points=\"\n  245.866,1486.45 245.866,1467.55 \n  \"/>\n<polyline clip-path=\"url(#clip510)\" style=\"stroke:#000000; stroke-linecap:round; stroke-linejoin:round; stroke-width:4; stroke-opacity:1; fill:none\" points=\"\n  758.891,1486.45 758.891,1467.55 \n  \"/>\n<polyline clip-path=\"url(#clip510)\" style=\"stroke:#000000; stroke-linecap:round; stroke-linejoin:round; stroke-width:4; stroke-opacity:1; fill:none\" points=\"\n  1271.92,1486.45 1271.92,1467.55 \n  \"/>\n<polyline clip-path=\"url(#clip510)\" style=\"stroke:#000000; stroke-linecap:round; stroke-linejoin:round; stroke-width:4; stroke-opacity:1; fill:none\" points=\"\n  1784.94,1486.45 1784.94,1467.55 \n  \"/>\n<polyline clip-path=\"url(#clip510)\" style=\"stroke:#000000; stroke-linecap:round; stroke-linejoin:round; stroke-width:4; stroke-opacity:1; fill:none\" points=\"\n  2297.96,1486.45 2297.96,1467.55 \n  \"/>\n<path clip-path=\"url(#clip510)\" d=\"M245.866 1517.37 Q242.255 1517.37 240.426 1520.93 Q238.621 1524.47 238.621 1531.6 Q238.621 1538.71 240.426 1542.27 Q242.255 1545.82 245.866 1545.82 Q249.5 1545.82 251.306 1542.27 Q253.134 1538.71 253.134 1531.6 Q253.134 1524.47 251.306 1520.93 Q249.5 1517.37 245.866 1517.37 M245.866 1513.66 Q251.676 1513.66 254.732 1518.27 Q257.81 1522.85 257.81 1531.6 Q257.81 1540.33 254.732 1544.94 Q251.676 1549.52 245.866 1549.52 Q240.056 1549.52 236.977 1544.94 Q233.921 1540.33 233.921 1531.6 Q233.921 1522.85 236.977 1518.27 Q240.056 1513.66 245.866 1513.66 Z\" fill=\"#000000\" fill-rule=\"evenodd\" fill-opacity=\"1\" /><path clip-path=\"url(#clip510)\" d=\"M722.583 1544.91 L738.902 1544.91 L738.902 1548.85 L716.958 1548.85 L716.958 1544.91 Q719.62 1542.16 724.203 1537.53 Q728.81 1532.88 729.99 1531.53 Q732.236 1529.01 733.115 1527.27 Q734.018 1525.51 734.018 1523.82 Q734.018 1521.07 732.074 1519.33 Q730.152 1517.6 727.05 1517.6 Q724.851 1517.6 722.398 1518.36 Q719.967 1519.13 717.189 1520.68 L717.189 1515.95 Q720.013 1514.82 722.467 1514.24 Q724.921 1513.66 726.958 1513.66 Q732.328 1513.66 735.523 1516.35 Q738.717 1519.03 738.717 1523.52 Q738.717 1525.65 737.907 1527.57 Q737.12 1529.47 735.013 1532.07 Q734.435 1532.74 731.333 1535.95 Q728.231 1539.15 722.583 1544.91 Z\" fill=\"#000000\" fill-rule=\"evenodd\" fill-opacity=\"1\" /><path clip-path=\"url(#clip510)\" d=\"M748.763 1514.29 L767.12 1514.29 L767.12 1518.22 L753.046 1518.22 L753.046 1526.7 Q754.064 1526.35 755.083 1526.19 Q756.101 1526 757.12 1526 Q762.907 1526 766.286 1529.17 Q769.666 1532.34 769.666 1537.76 Q769.666 1543.34 766.194 1546.44 Q762.722 1549.52 756.402 1549.52 Q754.226 1549.52 751.958 1549.15 Q749.712 1548.78 747.305 1548.04 L747.305 1543.34 Q749.388 1544.47 751.611 1545.03 Q753.833 1545.58 756.31 1545.58 Q760.314 1545.58 762.652 1543.48 Q764.99 1541.37 764.99 1537.76 Q764.99 1534.15 762.652 1532.04 Q760.314 1529.94 756.31 1529.94 Q754.435 1529.94 752.56 1530.35 Q750.708 1530.77 748.763 1531.65 L748.763 1514.29 Z\" fill=\"#000000\" fill-rule=\"evenodd\" fill-opacity=\"1\" /><path clip-path=\"url(#clip510)\" d=\"M788.879 1517.37 Q785.268 1517.37 783.439 1520.93 Q781.634 1524.47 781.634 1531.6 Q781.634 1538.71 783.439 1542.27 Q785.268 1545.82 788.879 1545.82 Q792.513 1545.82 794.319 1542.27 Q796.147 1538.71 796.147 1531.6 Q796.147 1524.47 794.319 1520.93 Q792.513 1517.37 788.879 1517.37 M788.879 1513.66 Q794.689 1513.66 797.745 1518.27 Q800.823 1522.85 800.823 1531.6 Q800.823 1540.33 797.745 1544.94 Q794.689 1549.52 788.879 1549.52 Q783.069 1549.52 779.99 1544.94 Q776.934 1540.33 776.934 1531.6 Q776.934 1522.85 779.99 1518.27 Q783.069 1513.66 788.879 1513.66 Z\" fill=\"#000000\" fill-rule=\"evenodd\" fill-opacity=\"1\" /><path clip-path=\"url(#clip510)\" d=\"M1231.53 1514.29 L1249.89 1514.29 L1249.89 1518.22 L1235.82 1518.22 L1235.82 1526.7 Q1236.83 1526.35 1237.85 1526.19 Q1238.87 1526 1239.89 1526 Q1245.68 1526 1249.06 1529.17 Q1252.44 1532.34 1252.44 1537.76 Q1252.44 1543.34 1248.96 1546.44 Q1245.49 1549.52 1239.17 1549.52 Q1237 1549.52 1234.73 1549.15 Q1232.48 1548.78 1230.08 1548.04 L1230.08 1543.34 Q1232.16 1544.47 1234.38 1545.03 Q1236.6 1545.58 1239.08 1545.58 Q1243.08 1545.58 1245.42 1543.48 Q1247.76 1541.37 1247.76 1537.76 Q1247.76 1534.15 1245.42 1532.04 Q1243.08 1529.94 1239.08 1529.94 Q1237.2 1529.94 1235.33 1530.35 Q1233.48 1530.77 1231.53 1531.65 L1231.53 1514.29 Z\" fill=\"#000000\" fill-rule=\"evenodd\" fill-opacity=\"1\" /><path clip-path=\"url(#clip510)\" d=\"M1271.65 1517.37 Q1268.04 1517.37 1266.21 1520.93 Q1264.4 1524.47 1264.4 1531.6 Q1264.4 1538.71 1266.21 1542.27 Q1268.04 1545.82 1271.65 1545.82 Q1275.28 1545.82 1277.09 1542.27 Q1278.92 1538.71 1278.92 1531.6 Q1278.92 1524.47 1277.09 1520.93 Q1275.28 1517.37 1271.65 1517.37 M1271.65 1513.66 Q1277.46 1513.66 1280.51 1518.27 Q1283.59 1522.85 1283.59 1531.6 Q1283.59 1540.33 1280.51 1544.94 Q1277.46 1549.52 1271.65 1549.52 Q1265.84 1549.52 1262.76 1544.94 Q1259.7 1540.33 1259.7 1531.6 Q1259.7 1522.85 1262.76 1518.27 Q1265.84 1513.66 1271.65 1513.66 Z\" fill=\"#000000\" fill-rule=\"evenodd\" fill-opacity=\"1\" /><path clip-path=\"url(#clip510)\" d=\"M1301.81 1517.37 Q1298.2 1517.37 1296.37 1520.93 Q1294.57 1524.47 1294.57 1531.6 Q1294.57 1538.71 1296.37 1542.27 Q1298.2 1545.82 1301.81 1545.82 Q1305.45 1545.82 1307.25 1542.27 Q1309.08 1538.71 1309.08 1531.6 Q1309.08 1524.47 1307.25 1520.93 Q1305.45 1517.37 1301.81 1517.37 M1301.81 1513.66 Q1307.62 1513.66 1310.68 1518.27 Q1313.76 1522.85 1313.76 1531.6 Q1313.76 1540.33 1310.68 1544.94 Q1307.62 1549.52 1301.81 1549.52 Q1296 1549.52 1292.92 1544.94 Q1289.87 1540.33 1289.87 1531.6 Q1289.87 1522.85 1292.92 1518.27 Q1296 1513.66 1301.81 1513.66 Z\" fill=\"#000000\" fill-rule=\"evenodd\" fill-opacity=\"1\" /><path clip-path=\"url(#clip510)\" d=\"M1743.22 1514.29 L1765.44 1514.29 L1765.44 1516.28 L1752.89 1548.85 L1748.01 1548.85 L1759.81 1518.22 L1743.22 1518.22 L1743.22 1514.29 Z\" fill=\"#000000\" fill-rule=\"evenodd\" fill-opacity=\"1\" /><path clip-path=\"url(#clip510)\" d=\"M1774.6 1514.29 L1792.96 1514.29 L1792.96 1518.22 L1778.89 1518.22 L1778.89 1526.7 Q1779.91 1526.35 1780.92 1526.19 Q1781.94 1526 1782.96 1526 Q1788.75 1526 1792.13 1529.17 Q1795.51 1532.34 1795.51 1537.76 Q1795.51 1543.34 1792.03 1546.44 Q1788.56 1549.52 1782.24 1549.52 Q1780.07 1549.52 1777.8 1549.15 Q1775.55 1548.78 1773.15 1548.04 L1773.15 1543.34 Q1775.23 1544.47 1777.45 1545.03 Q1779.67 1545.58 1782.15 1545.58 Q1786.16 1545.58 1788.49 1543.48 Q1790.83 1541.37 1790.83 1537.76 Q1790.83 1534.15 1788.49 1532.04 Q1786.16 1529.94 1782.15 1529.94 Q1780.28 1529.94 1778.4 1530.35 Q1776.55 1530.77 1774.6 1531.65 L1774.6 1514.29 Z\" fill=\"#000000\" fill-rule=\"evenodd\" fill-opacity=\"1\" /><path clip-path=\"url(#clip510)\" d=\"M1814.72 1517.37 Q1811.11 1517.37 1809.28 1520.93 Q1807.47 1524.47 1807.47 1531.6 Q1807.47 1538.71 1809.28 1542.27 Q1811.11 1545.82 1814.72 1545.82 Q1818.35 1545.82 1820.16 1542.27 Q1821.99 1538.71 1821.99 1531.6 Q1821.99 1524.47 1820.16 1520.93 Q1818.35 1517.37 1814.72 1517.37 M1814.72 1513.66 Q1820.53 1513.66 1823.59 1518.27 Q1826.66 1522.85 1826.66 1531.6 Q1826.66 1540.33 1823.59 1544.94 Q1820.53 1549.52 1814.72 1549.52 Q1808.91 1549.52 1805.83 1544.94 Q1802.78 1540.33 1802.78 1531.6 Q1802.78 1522.85 1805.83 1518.27 Q1808.91 1513.66 1814.72 1513.66 Z\" fill=\"#000000\" fill-rule=\"evenodd\" fill-opacity=\"1\" /><path clip-path=\"url(#clip510)\" d=\"M2242.49 1544.91 L2250.13 1544.91 L2250.13 1518.55 L2241.82 1520.21 L2241.82 1515.95 L2250.08 1514.29 L2254.76 1514.29 L2254.76 1544.91 L2262.4 1544.91 L2262.4 1548.85 L2242.49 1548.85 L2242.49 1544.91 Z\" fill=\"#000000\" fill-rule=\"evenodd\" fill-opacity=\"1\" /><path clip-path=\"url(#clip510)\" d=\"M2281.84 1517.37 Q2278.23 1517.37 2276.4 1520.93 Q2274.6 1524.47 2274.6 1531.6 Q2274.6 1538.71 2276.4 1542.27 Q2278.23 1545.82 2281.84 1545.82 Q2285.48 1545.82 2287.28 1542.27 Q2289.11 1538.71 2289.11 1531.6 Q2289.11 1524.47 2287.28 1520.93 Q2285.48 1517.37 2281.84 1517.37 M2281.84 1513.66 Q2287.65 1513.66 2290.71 1518.27 Q2293.79 1522.85 2293.79 1531.6 Q2293.79 1540.33 2290.71 1544.94 Q2287.65 1549.52 2281.84 1549.52 Q2276.03 1549.52 2272.95 1544.94 Q2269.9 1540.33 2269.9 1531.6 Q2269.9 1522.85 2272.95 1518.27 Q2276.03 1513.66 2281.84 1513.66 Z\" fill=\"#000000\" fill-rule=\"evenodd\" fill-opacity=\"1\" /><path clip-path=\"url(#clip510)\" d=\"M2312 1517.37 Q2308.39 1517.37 2306.56 1520.93 Q2304.76 1524.47 2304.76 1531.6 Q2304.76 1538.71 2306.56 1542.27 Q2308.39 1545.82 2312 1545.82 Q2315.64 1545.82 2317.44 1542.27 Q2319.27 1538.71 2319.27 1531.6 Q2319.27 1524.47 2317.44 1520.93 Q2315.64 1517.37 2312 1517.37 M2312 1513.66 Q2317.81 1513.66 2320.87 1518.27 Q2323.95 1522.85 2323.95 1531.6 Q2323.95 1540.33 2320.87 1544.94 Q2317.81 1549.52 2312 1549.52 Q2306.19 1549.52 2303.12 1544.94 Q2300.06 1540.33 2300.06 1531.6 Q2300.06 1522.85 2303.12 1518.27 Q2306.19 1513.66 2312 1513.66 Z\" fill=\"#000000\" fill-rule=\"evenodd\" fill-opacity=\"1\" /><path clip-path=\"url(#clip510)\" d=\"M2342.17 1517.37 Q2338.55 1517.37 2336.73 1520.93 Q2334.92 1524.47 2334.92 1531.6 Q2334.92 1538.71 2336.73 1542.27 Q2338.55 1545.82 2342.17 1545.82 Q2345.8 1545.82 2347.61 1542.27 Q2349.43 1538.71 2349.43 1531.6 Q2349.43 1524.47 2347.61 1520.93 Q2345.8 1517.37 2342.17 1517.37 M2342.17 1513.66 Q2347.98 1513.66 2351.03 1518.27 Q2354.11 1522.85 2354.11 1531.6 Q2354.11 1540.33 2351.03 1544.94 Q2347.98 1549.52 2342.17 1549.52 Q2336.36 1549.52 2333.28 1544.94 Q2330.22 1540.33 2330.22 1531.6 Q2330.22 1522.85 2333.28 1518.27 Q2336.36 1513.66 2342.17 1513.66 Z\" fill=\"#000000\" fill-rule=\"evenodd\" fill-opacity=\"1\" /><polyline clip-path=\"url(#clip512)\" style=\"stroke:#000000; stroke-linecap:round; stroke-linejoin:round; stroke-width:2; stroke-opacity:0.1; fill:none\" points=\"\n  199.283,1448.5 2352.76,1448.5 \n  \"/>\n<polyline clip-path=\"url(#clip512)\" style=\"stroke:#000000; stroke-linecap:round; stroke-linejoin:round; stroke-width:2; stroke-opacity:0.1; fill:none\" points=\"\n  199.283,1100.36 2352.76,1100.36 \n  \"/>\n<polyline clip-path=\"url(#clip512)\" style=\"stroke:#000000; stroke-linecap:round; stroke-linejoin:round; stroke-width:2; stroke-opacity:0.1; fill:none\" points=\"\n  199.283,752.224 2352.76,752.224 \n  \"/>\n<polyline clip-path=\"url(#clip512)\" style=\"stroke:#000000; stroke-linecap:round; stroke-linejoin:round; stroke-width:2; stroke-opacity:0.1; fill:none\" points=\"\n  199.283,404.086 2352.76,404.086 \n  \"/>\n<polyline clip-path=\"url(#clip512)\" style=\"stroke:#000000; stroke-linecap:round; stroke-linejoin:round; stroke-width:2; stroke-opacity:0.1; fill:none\" points=\"\n  199.283,55.9476 2352.76,55.9476 \n  \"/>\n<polyline clip-path=\"url(#clip510)\" style=\"stroke:#000000; stroke-linecap:round; stroke-linejoin:round; stroke-width:4; stroke-opacity:1; fill:none\" points=\"\n  199.283,1486.45 199.283,47.2441 \n  \"/>\n<polyline clip-path=\"url(#clip510)\" style=\"stroke:#000000; stroke-linecap:round; stroke-linejoin:round; stroke-width:4; stroke-opacity:1; fill:none\" points=\"\n  199.283,1448.5 218.181,1448.5 \n  \"/>\n<polyline clip-path=\"url(#clip510)\" style=\"stroke:#000000; stroke-linecap:round; stroke-linejoin:round; stroke-width:4; stroke-opacity:1; fill:none\" points=\"\n  199.283,1100.36 218.181,1100.36 \n  \"/>\n<polyline clip-path=\"url(#clip510)\" style=\"stroke:#000000; stroke-linecap:round; stroke-linejoin:round; stroke-width:4; stroke-opacity:1; fill:none\" points=\"\n  199.283,752.224 218.181,752.224 \n  \"/>\n<polyline clip-path=\"url(#clip510)\" style=\"stroke:#000000; stroke-linecap:round; stroke-linejoin:round; stroke-width:4; stroke-opacity:1; fill:none\" points=\"\n  199.283,404.086 218.181,404.086 \n  \"/>\n<polyline clip-path=\"url(#clip510)\" style=\"stroke:#000000; stroke-linecap:round; stroke-linejoin:round; stroke-width:4; stroke-opacity:1; fill:none\" points=\"\n  199.283,55.9476 218.181,55.9476 \n  \"/>\n<path clip-path=\"url(#clip510)\" d=\"M151.339 1434.3 Q147.728 1434.3 145.899 1437.86 Q144.093 1441.41 144.093 1448.54 Q144.093 1455.64 145.899 1459.21 Q147.728 1462.75 151.339 1462.75 Q154.973 1462.75 156.779 1459.21 Q158.607 1455.64 158.607 1448.54 Q158.607 1441.41 156.779 1437.86 Q154.973 1434.3 151.339 1434.3 M151.339 1430.6 Q157.149 1430.6 160.205 1435.2 Q163.283 1439.79 163.283 1448.54 Q163.283 1457.26 160.205 1461.87 Q157.149 1466.45 151.339 1466.45 Q145.529 1466.45 142.45 1461.87 Q139.394 1457.26 139.394 1448.54 Q139.394 1439.79 142.45 1435.2 Q145.529 1430.6 151.339 1430.6 Z\" fill=\"#000000\" fill-rule=\"evenodd\" fill-opacity=\"1\" /><path clip-path=\"url(#clip510)\" d=\"M85.0429 1113.71 L101.362 1113.71 L101.362 1117.64 L79.4179 1117.64 L79.4179 1113.71 Q82.0799 1110.95 86.6632 1106.32 Q91.2697 1101.67 92.4502 1100.33 Q94.6956 1097.8 95.5752 1096.07 Q96.478 1094.31 96.478 1092.62 Q96.478 1089.86 94.5336 1088.13 Q92.6123 1086.39 89.5104 1086.39 Q87.3114 1086.39 84.8577 1087.16 Q82.4271 1087.92 79.6494 1089.47 L79.6494 1084.75 Q82.4734 1083.61 84.9271 1083.04 Q87.3808 1082.46 89.4178 1082.46 Q94.7882 1082.46 97.9826 1085.14 Q101.177 1087.83 101.177 1092.32 Q101.177 1094.45 100.367 1096.37 Q99.5798 1098.27 97.4734 1100.86 Q96.8947 1101.53 93.7928 1104.75 Q90.691 1107.94 85.0429 1113.71 Z\" fill=\"#000000\" fill-rule=\"evenodd\" fill-opacity=\"1\" /><path clip-path=\"url(#clip510)\" d=\"M111.223 1083.08 L129.58 1083.08 L129.58 1087.02 L115.506 1087.02 L115.506 1095.49 Q116.524 1095.14 117.543 1094.98 Q118.561 1094.8 119.58 1094.8 Q125.367 1094.8 128.746 1097.97 Q132.126 1101.14 132.126 1106.55 Q132.126 1112.13 128.654 1115.24 Q125.182 1118.31 118.862 1118.31 Q116.686 1118.31 114.418 1117.94 Q112.172 1117.57 109.765 1116.83 L109.765 1112.13 Q111.848 1113.27 114.07 1113.82 Q116.293 1114.38 118.77 1114.38 Q122.774 1114.38 125.112 1112.27 Q127.45 1110.17 127.45 1106.55 Q127.45 1102.94 125.112 1100.84 Q122.774 1098.73 118.77 1098.73 Q116.895 1098.73 115.02 1099.15 Q113.168 1099.56 111.223 1100.44 L111.223 1083.08 Z\" fill=\"#000000\" fill-rule=\"evenodd\" fill-opacity=\"1\" /><path clip-path=\"url(#clip510)\" d=\"M151.339 1086.16 Q147.728 1086.16 145.899 1089.73 Q144.093 1093.27 144.093 1100.4 Q144.093 1107.5 145.899 1111.07 Q147.728 1114.61 151.339 1114.61 Q154.973 1114.61 156.779 1111.07 Q158.607 1107.5 158.607 1100.4 Q158.607 1093.27 156.779 1089.73 Q154.973 1086.16 151.339 1086.16 M151.339 1082.46 Q157.149 1082.46 160.205 1087.06 Q163.283 1091.65 163.283 1100.4 Q163.283 1109.12 160.205 1113.73 Q157.149 1118.31 151.339 1118.31 Q145.529 1118.31 142.45 1113.73 Q139.394 1109.12 139.394 1100.4 Q139.394 1091.65 142.45 1087.06 Q145.529 1082.46 151.339 1082.46 Z\" fill=\"#000000\" fill-rule=\"evenodd\" fill-opacity=\"1\" /><path clip-path=\"url(#clip510)\" d=\"M81.0614 734.944 L99.4178 734.944 L99.4178 738.879 L85.3438 738.879 L85.3438 747.352 Q86.3623 747.004 87.3808 746.842 Q88.3993 746.657 89.4178 746.657 Q95.2049 746.657 98.5845 749.828 Q101.964 753 101.964 758.416 Q101.964 763.995 98.4919 767.097 Q95.0197 770.175 88.7003 770.175 Q86.5243 770.175 84.2558 769.805 Q82.0105 769.435 79.6031 768.694 L79.6031 763.995 Q81.6864 765.129 83.9086 765.685 Q86.1308 766.24 88.6077 766.24 Q92.6123 766.24 94.9502 764.134 Q97.2882 762.027 97.2882 758.416 Q97.2882 754.805 94.9502 752.699 Q92.6123 750.592 88.6077 750.592 Q86.7327 750.592 84.8577 751.009 Q83.0058 751.426 81.0614 752.305 L81.0614 734.944 Z\" fill=\"#000000\" fill-rule=\"evenodd\" fill-opacity=\"1\" /><path clip-path=\"url(#clip510)\" d=\"M121.177 738.023 Q117.566 738.023 115.737 741.588 Q113.932 745.129 113.932 752.259 Q113.932 759.365 115.737 762.93 Q117.566 766.472 121.177 766.472 Q124.811 766.472 126.617 762.93 Q128.445 759.365 128.445 752.259 Q128.445 745.129 126.617 741.588 Q124.811 738.023 121.177 738.023 M121.177 734.319 Q126.987 734.319 130.043 738.926 Q133.121 743.509 133.121 752.259 Q133.121 760.986 130.043 765.592 Q126.987 770.175 121.177 770.175 Q115.367 770.175 112.288 765.592 Q109.233 760.986 109.233 752.259 Q109.233 743.509 112.288 738.926 Q115.367 734.319 121.177 734.319 Z\" fill=\"#000000\" fill-rule=\"evenodd\" fill-opacity=\"1\" /><path clip-path=\"url(#clip510)\" d=\"M151.339 738.023 Q147.728 738.023 145.899 741.588 Q144.093 745.129 144.093 752.259 Q144.093 759.365 145.899 762.93 Q147.728 766.472 151.339 766.472 Q154.973 766.472 156.779 762.93 Q158.607 759.365 158.607 752.259 Q158.607 745.129 156.779 741.588 Q154.973 738.023 151.339 738.023 M151.339 734.319 Q157.149 734.319 160.205 738.926 Q163.283 743.509 163.283 752.259 Q163.283 760.986 160.205 765.592 Q157.149 770.175 151.339 770.175 Q145.529 770.175 142.45 765.592 Q139.394 760.986 139.394 752.259 Q139.394 743.509 142.45 738.926 Q145.529 734.319 151.339 734.319 Z\" fill=\"#000000\" fill-rule=\"evenodd\" fill-opacity=\"1\" /><path clip-path=\"url(#clip510)\" d=\"M79.8346 386.806 L102.057 386.806 L102.057 388.797 L89.5104 421.366 L84.6262 421.366 L96.4317 390.741 L79.8346 390.741 L79.8346 386.806 Z\" fill=\"#000000\" fill-rule=\"evenodd\" fill-opacity=\"1\" /><path clip-path=\"url(#clip510)\" d=\"M111.223 386.806 L129.58 386.806 L129.58 390.741 L115.506 390.741 L115.506 399.213 Q116.524 398.866 117.543 398.704 Q118.561 398.519 119.58 398.519 Q125.367 398.519 128.746 401.69 Q132.126 404.861 132.126 410.278 Q132.126 415.857 128.654 418.958 Q125.182 422.037 118.862 422.037 Q116.686 422.037 114.418 421.667 Q112.172 421.296 109.765 420.556 L109.765 415.857 Q111.848 416.991 114.07 417.546 Q116.293 418.102 118.77 418.102 Q122.774 418.102 125.112 415.996 Q127.45 413.889 127.45 410.278 Q127.45 406.667 125.112 404.56 Q122.774 402.454 118.77 402.454 Q116.895 402.454 115.02 402.871 Q113.168 403.287 111.223 404.167 L111.223 386.806 Z\" fill=\"#000000\" fill-rule=\"evenodd\" fill-opacity=\"1\" /><path clip-path=\"url(#clip510)\" d=\"M151.339 389.885 Q147.728 389.885 145.899 393.449 Q144.093 396.991 144.093 404.121 Q144.093 411.227 145.899 414.792 Q147.728 418.333 151.339 418.333 Q154.973 418.333 156.779 414.792 Q158.607 411.227 158.607 404.121 Q158.607 396.991 156.779 393.449 Q154.973 389.885 151.339 389.885 M151.339 386.181 Q157.149 386.181 160.205 390.787 Q163.283 395.371 163.283 404.121 Q163.283 412.847 160.205 417.454 Q157.149 422.037 151.339 422.037 Q145.529 422.037 142.45 417.454 Q139.394 412.847 139.394 404.121 Q139.394 395.371 142.45 390.787 Q145.529 386.181 151.339 386.181 Z\" fill=\"#000000\" fill-rule=\"evenodd\" fill-opacity=\"1\" /><path clip-path=\"url(#clip510)\" d=\"M51.6634 69.2924 L59.3023 69.2924 L59.3023 42.9268 L50.9921 44.5934 L50.9921 40.3342 L59.256 38.6676 L63.9319 38.6676 L63.9319 69.2924 L71.5707 69.2924 L71.5707 73.2276 L51.6634 73.2276 L51.6634 69.2924 Z\" fill=\"#000000\" fill-rule=\"evenodd\" fill-opacity=\"1\" /><path clip-path=\"url(#clip510)\" d=\"M91.0151 41.7462 Q87.404 41.7462 85.5753 45.311 Q83.7697 48.8527 83.7697 55.9823 Q83.7697 63.0887 85.5753 66.6535 Q87.404 70.1952 91.0151 70.1952 Q94.6493 70.1952 96.4548 66.6535 Q98.2835 63.0887 98.2835 55.9823 Q98.2835 48.8527 96.4548 45.311 Q94.6493 41.7462 91.0151 41.7462 M91.0151 38.0426 Q96.8252 38.0426 99.8808 42.649 Q102.959 47.2323 102.959 55.9823 Q102.959 64.7091 99.8808 69.3155 Q96.8252 73.8988 91.0151 73.8988 Q85.2049 73.8988 82.1262 69.3155 Q79.0707 64.7091 79.0707 55.9823 Q79.0707 47.2323 82.1262 42.649 Q85.2049 38.0426 91.0151 38.0426 Z\" fill=\"#000000\" fill-rule=\"evenodd\" fill-opacity=\"1\" /><path clip-path=\"url(#clip510)\" d=\"M121.177 41.7462 Q117.566 41.7462 115.737 45.311 Q113.932 48.8527 113.932 55.9823 Q113.932 63.0887 115.737 66.6535 Q117.566 70.1952 121.177 70.1952 Q124.811 70.1952 126.617 66.6535 Q128.445 63.0887 128.445 55.9823 Q128.445 48.8527 126.617 45.311 Q124.811 41.7462 121.177 41.7462 M121.177 38.0426 Q126.987 38.0426 130.043 42.649 Q133.121 47.2323 133.121 55.9823 Q133.121 64.7091 130.043 69.3155 Q126.987 73.8988 121.177 73.8988 Q115.367 73.8988 112.288 69.3155 Q109.233 64.7091 109.233 55.9823 Q109.233 47.2323 112.288 42.649 Q115.367 38.0426 121.177 38.0426 Z\" fill=\"#000000\" fill-rule=\"evenodd\" fill-opacity=\"1\" /><path clip-path=\"url(#clip510)\" d=\"M151.339 41.7462 Q147.728 41.7462 145.899 45.311 Q144.093 48.8527 144.093 55.9823 Q144.093 63.0887 145.899 66.6535 Q147.728 70.1952 151.339 70.1952 Q154.973 70.1952 156.779 66.6535 Q158.607 63.0887 158.607 55.9823 Q158.607 48.8527 156.779 45.311 Q154.973 41.7462 151.339 41.7462 M151.339 38.0426 Q157.149 38.0426 160.205 42.649 Q163.283 47.2323 163.283 55.9823 Q163.283 64.7091 160.205 69.3155 Q157.149 73.8988 151.339 73.8988 Q145.529 73.8988 142.45 69.3155 Q139.394 64.7091 139.394 55.9823 Q139.394 47.2323 142.45 42.649 Q145.529 38.0426 151.339 38.0426 Z\" fill=\"#000000\" fill-rule=\"evenodd\" fill-opacity=\"1\" /><polyline clip-path=\"url(#clip512)\" style=\"stroke:#009af9; stroke-linecap:round; stroke-linejoin:round; stroke-width:4; stroke-opacity:1; fill:none\" points=\"\n  914.85,832.992 1054.39,800.964 \n  \"/>\n<polyline clip-path=\"url(#clip512)\" style=\"stroke:#e26f46; stroke-linecap:round; stroke-linejoin:round; stroke-width:4; stroke-opacity:1; fill:none\" points=\"\n  1372.47,216.091 1259.6,451.433 \n  \"/>\n<polyline clip-path=\"url(#clip512)\" style=\"stroke:#3da44d; stroke-linecap:round; stroke-linejoin:round; stroke-width:4; stroke-opacity:1; fill:none\" points=\"\n  693.223,722.981 849.183,755.009 \n  \"/>\n<polyline clip-path=\"url(#clip512)\" style=\"stroke:#c271d2; stroke-linecap:round; stroke-linejoin:round; stroke-width:4; stroke-opacity:1; fill:none\" points=\"\n  2082.49,136.716 1684.39,204.951 \n  \"/>\n<polyline clip-path=\"url(#clip512)\" style=\"stroke:#ac8d18; stroke-linecap:round; stroke-linejoin:round; stroke-width:4; stroke-opacity:1; fill:none\" points=\"\n  970.257,319.14 797.88,327.495 \n  \"/>\n<polyline clip-path=\"url(#clip512)\" style=\"stroke:#00a9ad; stroke-linecap:round; stroke-linejoin:round; stroke-width:4; stroke-opacity:1; fill:none\" points=\"\n  1054.39,800.964 962.048,890.087 \n  \"/>\n<polyline clip-path=\"url(#clip512)\" style=\"stroke:#ed5d92; stroke-linecap:round; stroke-linejoin:round; stroke-width:4; stroke-opacity:1; fill:none\" points=\"\n  2203.57,87.9763 2189.2,100.509 \n  \"/>\n<polyline clip-path=\"url(#clip512)\" style=\"stroke:#c68125; stroke-linecap:round; stroke-linejoin:round; stroke-width:4; stroke-opacity:1; fill:none\" points=\"\n  1879.34,752.224 1998.36,763.365 \n  \"/>\n<polyline clip-path=\"url(#clip512)\" style=\"stroke:#00a98d; stroke-linecap:round; stroke-linejoin:round; stroke-width:4; stroke-opacity:1; fill:none\" points=\"\n  1259.6,451.433 1146.74,568.407 \n  \"/>\n<polyline clip-path=\"url(#clip512)\" style=\"stroke:#8e971d; stroke-linecap:round; stroke-linejoin:round; stroke-width:4; stroke-opacity:1; fill:none\" points=\"\n  1782.89,1183.92 1637.19,1179.74 \n  \"/>\n<polyline clip-path=\"url(#clip512)\" style=\"stroke:#00a8cb; stroke-linecap:round; stroke-linejoin:round; stroke-width:4; stroke-opacity:1; fill:none\" points=\"\n  1431.98,924.901 1253.45,749.439 \n  \"/>\n<polyline clip-path=\"url(#clip512)\" style=\"stroke:#9b7fe8; stroke-linecap:round; stroke-linejoin:round; stroke-width:4; stroke-opacity:1; fill:none\" points=\"\n  1739.79,660.316 1782.89,707.662 \n  \"/>\n<polyline clip-path=\"url(#clip512)\" style=\"stroke:#608cf6; stroke-linecap:round; stroke-linejoin:round; stroke-width:4; stroke-opacity:1; fill:none\" points=\"\n  260.231,1208.98 471.597,1346.84 \n  \"/>\n<polyline clip-path=\"url(#clip512)\" style=\"stroke:#f05f73; stroke-linecap:round; stroke-linejoin:round; stroke-width:4; stroke-opacity:1; fill:none\" points=\"\n  654.234,993.136 440.815,951.359 \n  \"/>\n<polyline clip-path=\"url(#clip512)\" style=\"stroke:#dd64b5; stroke-linecap:round; stroke-linejoin:round; stroke-width:4; stroke-opacity:1; fill:none\" points=\"\n  1146.74,568.407 996.934,306.607 \n  \"/>\n<polyline clip-path=\"url(#clip512)\" style=\"stroke:#6b9e32; stroke-linecap:round; stroke-linejoin:round; stroke-width:4; stroke-opacity:1; fill:none\" points=\"\n  1647.45,927.686 1532.53,937.434 \n  \"/>\n<polyline clip-path=\"url(#clip512)\" style=\"stroke:#009af9; stroke-linecap:round; stroke-linejoin:round; stroke-width:4; stroke-opacity:1; fill:none\" points=\"\n  2209.72,433.329 1981.94,433.329 \n  \"/>\n<polyline clip-path=\"url(#clip512)\" style=\"stroke:#e26f46; stroke-linecap:round; stroke-linejoin:round; stroke-width:4; stroke-opacity:1; fill:none\" points=\"\n  1575.63,1445.72 1809.57,1412.29 \n  \"/>\n<polyline clip-path=\"url(#clip512)\" style=\"stroke:#3da44d; stroke-linecap:round; stroke-linejoin:round; stroke-width:4; stroke-opacity:1; fill:none\" points=\"\n  2291.81,1261.9 1782.89,1183.92 \n  \"/>\n<polyline clip-path=\"url(#clip512)\" style=\"stroke:#c271d2; stroke-linecap:round; stroke-linejoin:round; stroke-width:4; stroke-opacity:1; fill:none\" points=\"\n  1782.89,707.662 1879.34,752.224 \n  \"/>\n<polyline clip-path=\"url(#clip512)\" style=\"stroke:#ac8d18; stroke-linecap:round; stroke-linejoin:round; stroke-width:4; stroke-opacity:1; fill:none\" points=\"\n  471.597,1346.84 767.099,1286.96 \n  \"/>\n<polyline clip-path=\"url(#clip512)\" style=\"stroke:#00a9ad; stroke-linecap:round; stroke-linejoin:round; stroke-width:4; stroke-opacity:1; fill:none\" points=\"\n  1253.45,749.439 1423.77,792.608 \n  \"/>\n<polyline clip-path=\"url(#clip512)\" style=\"stroke:#ed5d92; stroke-linecap:round; stroke-linejoin:round; stroke-width:4; stroke-opacity:1; fill:none\" points=\"\n  1405.3,185.455 1372.47,216.091 \n  \"/>\n<polyline clip-path=\"url(#clip512)\" style=\"stroke:#c68125; stroke-linecap:round; stroke-linejoin:round; stroke-width:4; stroke-opacity:1; fill:none\" points=\"\n  767.099,1286.96 1354,1298.11 \n  \"/>\n<polyline clip-path=\"url(#clip512)\" style=\"stroke:#00a98d; stroke-linecap:round; stroke-linejoin:round; stroke-width:4; stroke-opacity:1; fill:none\" points=\"\n  1532.53,937.434 1454.55,965.285 \n  \"/>\n<polyline clip-path=\"url(#clip512)\" style=\"stroke:#8e971d; stroke-linecap:round; stroke-linejoin:round; stroke-width:4; stroke-opacity:1; fill:none\" points=\"\n  726.057,220.269 514.691,344.206 \n  \"/>\n<polyline clip-path=\"url(#clip512)\" style=\"stroke:#00a8cb; stroke-linecap:round; stroke-linejoin:round; stroke-width:4; stroke-opacity:1; fill:none\" points=\"\n  500.326,512.705 742.474,677.026 \n  \"/>\n<polyline clip-path=\"url(#clip512)\" style=\"stroke:#9b7fe8; stroke-linecap:round; stroke-linejoin:round; stroke-width:4; stroke-opacity:1; fill:none\" points=\"\n  1497.65,780.075 1739.79,660.316 \n  \"/>\n<polyline clip-path=\"url(#clip512)\" style=\"stroke:#608cf6; stroke-linecap:round; stroke-linejoin:round; stroke-width:4; stroke-opacity:1; fill:none\" points=\"\n  1626.93,125.575 1419.67,136.716 \n  \"/>\n<polyline clip-path=\"url(#clip512)\" style=\"stroke:#f05f73; stroke-linecap:round; stroke-linejoin:round; stroke-width:4; stroke-opacity:1; fill:none\" points=\"\n  1809.57,1412.29 2291.81,1261.9 \n  \"/>\n<polyline clip-path=\"url(#clip512)\" style=\"stroke:#dd64b5; stroke-linecap:round; stroke-linejoin:round; stroke-width:4; stroke-opacity:1; fill:none\" points=\"\n  1454.55,965.285 1431.98,924.901 \n  \"/>\n<polyline clip-path=\"url(#clip512)\" style=\"stroke:#6b9e32; stroke-linecap:round; stroke-linejoin:round; stroke-width:4; stroke-opacity:1; fill:none\" points=\"\n  996.934,306.607 970.257,319.14 \n  \"/>\n<polyline clip-path=\"url(#clip512)\" style=\"stroke:#009af9; stroke-linecap:round; stroke-linejoin:round; stroke-width:4; stroke-opacity:1; fill:none\" points=\"\n  514.691,344.206 393.617,515.49 \n  \"/>\n<polyline clip-path=\"url(#clip512)\" style=\"stroke:#e26f46; stroke-linecap:round; stroke-linejoin:round; stroke-width:4; stroke-opacity:1; fill:none\" points=\"\n  2189.2,100.509 2082.49,136.716 \n  \"/>\n<polyline clip-path=\"url(#clip512)\" style=\"stroke:#3da44d; stroke-linecap:round; stroke-linejoin:round; stroke-width:4; stroke-opacity:1; fill:none\" points=\"\n  1423.77,792.608 1497.65,780.075 \n  \"/>\n<polyline clip-path=\"url(#clip512)\" style=\"stroke:#c271d2; stroke-linecap:round; stroke-linejoin:round; stroke-width:4; stroke-opacity:1; fill:none\" points=\"\n  1637.19,1179.74 1823.93,1011.24 \n  \"/>\n<polyline clip-path=\"url(#clip512)\" style=\"stroke:#ac8d18; stroke-linecap:round; stroke-linejoin:round; stroke-width:4; stroke-opacity:1; fill:none\" points=\"\n  1419.67,136.716 1405.3,185.455 \n  \"/>\n<polyline clip-path=\"url(#clip512)\" style=\"stroke:#00a9ad; stroke-linecap:round; stroke-linejoin:round; stroke-width:4; stroke-opacity:1; fill:none\" points=\"\n  393.617,515.49 500.326,512.705 \n  \"/>\n<polyline clip-path=\"url(#clip512)\" style=\"stroke:#ed5d92; stroke-linecap:round; stroke-linejoin:round; stroke-width:4; stroke-opacity:1; fill:none\" points=\"\n  1684.39,204.951 1694.65,149.249 \n  \"/>\n<polyline clip-path=\"url(#clip512)\" style=\"stroke:#c68125; stroke-linecap:round; stroke-linejoin:round; stroke-width:4; stroke-opacity:1; fill:none\" points=\"\n  440.815,951.359 260.231,1208.98 \n  \"/>\n<polyline clip-path=\"url(#clip512)\" style=\"stroke:#00a98d; stroke-linecap:round; stroke-linejoin:round; stroke-width:4; stroke-opacity:1; fill:none\" points=\"\n  1981.94,433.329 2203.57,87.9763 \n  \"/>\n<polyline clip-path=\"url(#clip512)\" style=\"stroke:#8e971d; stroke-linecap:round; stroke-linejoin:round; stroke-width:4; stroke-opacity:1; fill:none\" points=\"\n  962.048,890.087 654.234,993.136 \n  \"/>\n<polyline clip-path=\"url(#clip512)\" style=\"stroke:#00a8cb; stroke-linecap:round; stroke-linejoin:round; stroke-width:4; stroke-opacity:1; fill:none\" points=\"\n  1823.93,1011.24 1647.45,927.686 \n  \"/>\n<polyline clip-path=\"url(#clip512)\" style=\"stroke:#9b7fe8; stroke-linecap:round; stroke-linejoin:round; stroke-width:4; stroke-opacity:1; fill:none\" points=\"\n  797.88,327.495 726.057,220.269 \n  \"/>\n<polyline clip-path=\"url(#clip512)\" style=\"stroke:#608cf6; stroke-linecap:round; stroke-linejoin:round; stroke-width:4; stroke-opacity:1; fill:none\" points=\"\n  1354,1298.11 1575.63,1445.72 \n  \"/>\n<polyline clip-path=\"url(#clip512)\" style=\"stroke:#f05f73; stroke-linecap:round; stroke-linejoin:round; stroke-width:4; stroke-opacity:1; fill:none\" points=\"\n  849.183,755.009 914.85,832.992 \n  \"/>\n<polyline clip-path=\"url(#clip512)\" style=\"stroke:#dd64b5; stroke-linecap:round; stroke-linejoin:round; stroke-width:4; stroke-opacity:1; fill:none\" points=\"\n  742.474,677.026 693.223,722.981 \n  \"/>\n<polyline clip-path=\"url(#clip512)\" style=\"stroke:#6b9e32; stroke-linecap:round; stroke-linejoin:round; stroke-width:4; stroke-opacity:1; fill:none\" points=\"\n  2254.87,767.542 2209.72,433.329 \n  \"/>\n<polyline clip-path=\"url(#clip512)\" style=\"stroke:#009af9; stroke-linecap:round; stroke-linejoin:round; stroke-width:4; stroke-opacity:1; fill:none\" points=\"\n  1998.36,763.365 2254.87,767.542 \n  \"/>\n<polyline clip-path=\"url(#clip512)\" style=\"stroke:#e26f46; stroke-linecap:round; stroke-linejoin:round; stroke-width:4; stroke-opacity:1; fill:none\" points=\"\n  1694.65,149.249 1626.93,125.575 \n  \"/>\n</svg>\n"
          },
          "metadata": {}
        },
        {
          "output_type": "stream",
          "name": "stdout",
          "text": [
            "Lower bound : 5624.0\n",
            "Iterations=6  Cuts=27   Time=2.4453399181365967\n",
            "Optval: 5624.0    ;   Solution: [1, 6, 42, 14, 40, 13, 21, 24, 45, 18, 30, 19, 10, 36, 43, 16, 25, 31, 11, 22, 35, 28, 12, 20, 8, 49, 48, 17, 41, 7, 34, 4, 39, 50, 29, 37, 23, 2, 9, 15, 32, 5, 44, 26, 33, 38, 27, 47, 3, 46, 1]\n"
          ]
        }
      ]
    },
    {
      "cell_type": "code",
      "source": [
        "function SEC(xval, x)\n",
        "    EPS = 1e-5\n",
        "    VIOLA = 1e-4\n",
        "    cuts = []\n",
        "\n",
        "    G = SimpleDiGraph( Edge.([ (i,j) for i=1:N,j=1:N if xval[i,j]>EPS ]) )\n",
        "    Components = connected_components(G)\n",
        "    if length(Components)>1\n",
        "        for S in Components\n",
        "            push!(cuts,@build_constraint(sum(x[S,S]) <= length(S)-1))\n",
        "        end\n",
        "        return cuts\n",
        "    end\n",
        "    \n",
        "    if ne(G)==N\n",
        "        return []\n",
        "    end\n",
        "\n",
        "    for i = 2:N\n",
        "        fval, fsol, labels = maximum_flow(G,1,i,xval,algorithm=BoykovKolmogorovAlgorithm())\n",
        "        if fval < 1-VIOLA\n",
        "            S = Set()\n",
        "            for j = 1:N\n",
        "                if labels[j] == 1\n",
        "                    push!(S, j);\n",
        "                end\n",
        "            end\n",
        "            push!(cuts,@build_constraint(sum(x[u,v] for u in S, v in S) <= length(S)-1))\n",
        "        end\n",
        "    end\n",
        "    return cuts\n",
        "end\n",
        "\n",
        "function BranchAndCut(model,x)\n",
        "\n",
        "    function my_lazy_callback_function(cb_data)\n",
        "#        status = callback_node_status(cb_data, model)\n",
        "#        println(\"STATUS=$(status)\")\n",
        "        xval = callback_value.(Ref(cb_data), x)\n",
        "        cuts = SEC(xval, x)\n",
        "        for cut in cuts\n",
        "            MOI.submit(model, MOI.LazyConstraint(cb_data), cut)\n",
        "        end\n",
        "        iterations += 1\n",
        "        tcuts += length(cuts)\n",
        "    end\n",
        "        \n",
        "    function my_usercutCallback_function(cb_data)\n",
        "        xval = callback_value.(Ref(cb_data), x)\n",
        "        cuts = SEC(xval, x)\n",
        "        for cut in cuts\n",
        "            MOI.submit(model, MOI.UserCut(cb_data), cut)\n",
        "        end\n",
        "        iterations += 1\n",
        "        tcuts += length(cuts)\n",
        "    end    \n",
        "\n",
        "    MOI.set(model, MOI.LazyConstraintCallback(), my_lazy_callback_function)\n",
        "#    MOI.set(model, MOI.UserCutCallback(), my_usercutCallback_function)\n",
        "\n",
        "    tcuts = 0\n",
        "    iterations = 1\n",
        "    optimize!(model)\n",
        "    PlotTour( N, coord, value.(x) )\n",
        "    println(\"Iterations=$(iterations)  Cuts=$(tcuts)   Time=$(solve_time(model))  \")  \n",
        "end\n",
        "\n",
        "function SolveATSPbc()\n",
        "    model = Model(GLPK.Optimizer)\n",
        "    set_silent(model)\n",
        "\n",
        "    @variable(model, x[1:N,1:N], Bin)\n",
        "    for i in 1:N\n",
        "        set_upper_bound(x[i,i], 0)\n",
        "    end\n",
        "\n",
        "    @objective(model, Min, sum(cost .* x))\n",
        "    @constraint(model, [i=1:N], sum(x[i,:]) == 1)\n",
        "    @constraint(model, [i=1:N], sum(x[:,i]) == 1)\n",
        "    @constraint(model, [i=1:N,j=i+1:N], x[i,j]+x[j,i] <= 1)\n",
        "\n",
        "    BranchAndCut(model,x)\n",
        "\n",
        "    print(\"Optval: $(objective_value(model))    ;   Solution: \")\n",
        "    println( ExtractTour(N, value.(x)) )\n",
        "end\n",
        "\n",
        "SolveATSPbc()"
      ],
      "metadata": {
        "colab": {
          "base_uri": "https://localhost:8080/",
          "height": 476
        },
        "id": "zwqmmygcx5a2",
        "outputId": "28a5cef7-7b86-4587-a63d-73c972c26e8e"
      },
      "execution_count": null,
      "outputs": [
        {
          "output_type": "display_data",
          "data": {
            "image/svg+xml": "<?xml version=\"1.0\" encoding=\"utf-8\"?>\n<svg xmlns=\"http://www.w3.org/2000/svg\" xmlns:xlink=\"http://www.w3.org/1999/xlink\" width=\"600\" height=\"400\" viewBox=\"0 0 2400 1600\">\n<defs>\n  <clipPath id=\"clip550\">\n    <rect x=\"0\" y=\"0\" width=\"2400\" height=\"1600\"/>\n  </clipPath>\n</defs>\n<path clip-path=\"url(#clip550)\" d=\"\nM0 1600 L2400 1600 L2400 0 L0 0  Z\n  \" fill=\"#ffffff\" fill-rule=\"evenodd\" fill-opacity=\"1\"/>\n<defs>\n  <clipPath id=\"clip551\">\n    <rect x=\"480\" y=\"0\" width=\"1681\" height=\"1600\"/>\n  </clipPath>\n</defs>\n<path clip-path=\"url(#clip550)\" d=\"\nM199.283 1486.45 L2352.76 1486.45 L2352.76 47.2441 L199.283 47.2441  Z\n  \" fill=\"#ffffff\" fill-rule=\"evenodd\" fill-opacity=\"1\"/>\n<defs>\n  <clipPath id=\"clip552\">\n    <rect x=\"199\" y=\"47\" width=\"2154\" height=\"1440\"/>\n  </clipPath>\n</defs>\n<polyline clip-path=\"url(#clip552)\" style=\"stroke:#000000; stroke-linecap:round; stroke-linejoin:round; stroke-width:2; stroke-opacity:0.1; fill:none\" points=\"\n  245.866,1486.45 245.866,47.2441 \n  \"/>\n<polyline clip-path=\"url(#clip552)\" style=\"stroke:#000000; stroke-linecap:round; stroke-linejoin:round; stroke-width:2; stroke-opacity:0.1; fill:none\" points=\"\n  758.891,1486.45 758.891,47.2441 \n  \"/>\n<polyline clip-path=\"url(#clip552)\" style=\"stroke:#000000; stroke-linecap:round; stroke-linejoin:round; stroke-width:2; stroke-opacity:0.1; fill:none\" points=\"\n  1271.92,1486.45 1271.92,47.2441 \n  \"/>\n<polyline clip-path=\"url(#clip552)\" style=\"stroke:#000000; stroke-linecap:round; stroke-linejoin:round; stroke-width:2; stroke-opacity:0.1; fill:none\" points=\"\n  1784.94,1486.45 1784.94,47.2441 \n  \"/>\n<polyline clip-path=\"url(#clip552)\" style=\"stroke:#000000; stroke-linecap:round; stroke-linejoin:round; stroke-width:2; stroke-opacity:0.1; fill:none\" points=\"\n  2297.96,1486.45 2297.96,47.2441 \n  \"/>\n<polyline clip-path=\"url(#clip550)\" style=\"stroke:#000000; stroke-linecap:round; stroke-linejoin:round; stroke-width:4; stroke-opacity:1; fill:none\" points=\"\n  199.283,1486.45 2352.76,1486.45 \n  \"/>\n<polyline clip-path=\"url(#clip550)\" style=\"stroke:#000000; stroke-linecap:round; stroke-linejoin:round; stroke-width:4; stroke-opacity:1; fill:none\" points=\"\n  245.866,1486.45 245.866,1467.55 \n  \"/>\n<polyline clip-path=\"url(#clip550)\" style=\"stroke:#000000; stroke-linecap:round; stroke-linejoin:round; stroke-width:4; stroke-opacity:1; fill:none\" points=\"\n  758.891,1486.45 758.891,1467.55 \n  \"/>\n<polyline clip-path=\"url(#clip550)\" style=\"stroke:#000000; stroke-linecap:round; stroke-linejoin:round; stroke-width:4; stroke-opacity:1; fill:none\" points=\"\n  1271.92,1486.45 1271.92,1467.55 \n  \"/>\n<polyline clip-path=\"url(#clip550)\" style=\"stroke:#000000; stroke-linecap:round; stroke-linejoin:round; stroke-width:4; stroke-opacity:1; fill:none\" points=\"\n  1784.94,1486.45 1784.94,1467.55 \n  \"/>\n<polyline clip-path=\"url(#clip550)\" style=\"stroke:#000000; stroke-linecap:round; stroke-linejoin:round; stroke-width:4; stroke-opacity:1; fill:none\" points=\"\n  2297.96,1486.45 2297.96,1467.55 \n  \"/>\n<path clip-path=\"url(#clip550)\" d=\"M245.866 1517.37 Q242.255 1517.37 240.426 1520.93 Q238.621 1524.47 238.621 1531.6 Q238.621 1538.71 240.426 1542.27 Q242.255 1545.82 245.866 1545.82 Q249.5 1545.82 251.306 1542.27 Q253.134 1538.71 253.134 1531.6 Q253.134 1524.47 251.306 1520.93 Q249.5 1517.37 245.866 1517.37 M245.866 1513.66 Q251.676 1513.66 254.732 1518.27 Q257.81 1522.85 257.81 1531.6 Q257.81 1540.33 254.732 1544.94 Q251.676 1549.52 245.866 1549.52 Q240.056 1549.52 236.977 1544.94 Q233.921 1540.33 233.921 1531.6 Q233.921 1522.85 236.977 1518.27 Q240.056 1513.66 245.866 1513.66 Z\" fill=\"#000000\" fill-rule=\"evenodd\" fill-opacity=\"1\" /><path clip-path=\"url(#clip550)\" d=\"M722.583 1544.91 L738.902 1544.91 L738.902 1548.85 L716.958 1548.85 L716.958 1544.91 Q719.62 1542.16 724.203 1537.53 Q728.81 1532.88 729.99 1531.53 Q732.236 1529.01 733.115 1527.27 Q734.018 1525.51 734.018 1523.82 Q734.018 1521.07 732.074 1519.33 Q730.152 1517.6 727.05 1517.6 Q724.851 1517.6 722.398 1518.36 Q719.967 1519.13 717.189 1520.68 L717.189 1515.95 Q720.013 1514.82 722.467 1514.24 Q724.921 1513.66 726.958 1513.66 Q732.328 1513.66 735.523 1516.35 Q738.717 1519.03 738.717 1523.52 Q738.717 1525.65 737.907 1527.57 Q737.12 1529.47 735.013 1532.07 Q734.435 1532.74 731.333 1535.95 Q728.231 1539.15 722.583 1544.91 Z\" fill=\"#000000\" fill-rule=\"evenodd\" fill-opacity=\"1\" /><path clip-path=\"url(#clip550)\" d=\"M748.763 1514.29 L767.12 1514.29 L767.12 1518.22 L753.046 1518.22 L753.046 1526.7 Q754.064 1526.35 755.083 1526.19 Q756.101 1526 757.12 1526 Q762.907 1526 766.286 1529.17 Q769.666 1532.34 769.666 1537.76 Q769.666 1543.34 766.194 1546.44 Q762.722 1549.52 756.402 1549.52 Q754.226 1549.52 751.958 1549.15 Q749.712 1548.78 747.305 1548.04 L747.305 1543.34 Q749.388 1544.47 751.611 1545.03 Q753.833 1545.58 756.31 1545.58 Q760.314 1545.58 762.652 1543.48 Q764.99 1541.37 764.99 1537.76 Q764.99 1534.15 762.652 1532.04 Q760.314 1529.94 756.31 1529.94 Q754.435 1529.94 752.56 1530.35 Q750.708 1530.77 748.763 1531.65 L748.763 1514.29 Z\" fill=\"#000000\" fill-rule=\"evenodd\" fill-opacity=\"1\" /><path clip-path=\"url(#clip550)\" d=\"M788.879 1517.37 Q785.268 1517.37 783.439 1520.93 Q781.634 1524.47 781.634 1531.6 Q781.634 1538.71 783.439 1542.27 Q785.268 1545.82 788.879 1545.82 Q792.513 1545.82 794.319 1542.27 Q796.147 1538.71 796.147 1531.6 Q796.147 1524.47 794.319 1520.93 Q792.513 1517.37 788.879 1517.37 M788.879 1513.66 Q794.689 1513.66 797.745 1518.27 Q800.823 1522.85 800.823 1531.6 Q800.823 1540.33 797.745 1544.94 Q794.689 1549.52 788.879 1549.52 Q783.069 1549.52 779.99 1544.94 Q776.934 1540.33 776.934 1531.6 Q776.934 1522.85 779.99 1518.27 Q783.069 1513.66 788.879 1513.66 Z\" fill=\"#000000\" fill-rule=\"evenodd\" fill-opacity=\"1\" /><path clip-path=\"url(#clip550)\" d=\"M1231.53 1514.29 L1249.89 1514.29 L1249.89 1518.22 L1235.82 1518.22 L1235.82 1526.7 Q1236.83 1526.35 1237.85 1526.19 Q1238.87 1526 1239.89 1526 Q1245.68 1526 1249.06 1529.17 Q1252.44 1532.34 1252.44 1537.76 Q1252.44 1543.34 1248.96 1546.44 Q1245.49 1549.52 1239.17 1549.52 Q1237 1549.52 1234.73 1549.15 Q1232.48 1548.78 1230.08 1548.04 L1230.08 1543.34 Q1232.16 1544.47 1234.38 1545.03 Q1236.6 1545.58 1239.08 1545.58 Q1243.08 1545.58 1245.42 1543.48 Q1247.76 1541.37 1247.76 1537.76 Q1247.76 1534.15 1245.42 1532.04 Q1243.08 1529.94 1239.08 1529.94 Q1237.2 1529.94 1235.33 1530.35 Q1233.48 1530.77 1231.53 1531.65 L1231.53 1514.29 Z\" fill=\"#000000\" fill-rule=\"evenodd\" fill-opacity=\"1\" /><path clip-path=\"url(#clip550)\" d=\"M1271.65 1517.37 Q1268.04 1517.37 1266.21 1520.93 Q1264.4 1524.47 1264.4 1531.6 Q1264.4 1538.71 1266.21 1542.27 Q1268.04 1545.82 1271.65 1545.82 Q1275.28 1545.82 1277.09 1542.27 Q1278.92 1538.71 1278.92 1531.6 Q1278.92 1524.47 1277.09 1520.93 Q1275.28 1517.37 1271.65 1517.37 M1271.65 1513.66 Q1277.46 1513.66 1280.51 1518.27 Q1283.59 1522.85 1283.59 1531.6 Q1283.59 1540.33 1280.51 1544.94 Q1277.46 1549.52 1271.65 1549.52 Q1265.84 1549.52 1262.76 1544.94 Q1259.7 1540.33 1259.7 1531.6 Q1259.7 1522.85 1262.76 1518.27 Q1265.84 1513.66 1271.65 1513.66 Z\" fill=\"#000000\" fill-rule=\"evenodd\" fill-opacity=\"1\" /><path clip-path=\"url(#clip550)\" d=\"M1301.81 1517.37 Q1298.2 1517.37 1296.37 1520.93 Q1294.57 1524.47 1294.57 1531.6 Q1294.57 1538.71 1296.37 1542.27 Q1298.2 1545.82 1301.81 1545.82 Q1305.45 1545.82 1307.25 1542.27 Q1309.08 1538.71 1309.08 1531.6 Q1309.08 1524.47 1307.25 1520.93 Q1305.45 1517.37 1301.81 1517.37 M1301.81 1513.66 Q1307.62 1513.66 1310.68 1518.27 Q1313.76 1522.85 1313.76 1531.6 Q1313.76 1540.33 1310.68 1544.94 Q1307.62 1549.52 1301.81 1549.52 Q1296 1549.52 1292.92 1544.94 Q1289.87 1540.33 1289.87 1531.6 Q1289.87 1522.85 1292.92 1518.27 Q1296 1513.66 1301.81 1513.66 Z\" fill=\"#000000\" fill-rule=\"evenodd\" fill-opacity=\"1\" /><path clip-path=\"url(#clip550)\" d=\"M1743.22 1514.29 L1765.44 1514.29 L1765.44 1516.28 L1752.89 1548.85 L1748.01 1548.85 L1759.81 1518.22 L1743.22 1518.22 L1743.22 1514.29 Z\" fill=\"#000000\" fill-rule=\"evenodd\" fill-opacity=\"1\" /><path clip-path=\"url(#clip550)\" d=\"M1774.6 1514.29 L1792.96 1514.29 L1792.96 1518.22 L1778.89 1518.22 L1778.89 1526.7 Q1779.91 1526.35 1780.92 1526.19 Q1781.94 1526 1782.96 1526 Q1788.75 1526 1792.13 1529.17 Q1795.51 1532.34 1795.51 1537.76 Q1795.51 1543.34 1792.03 1546.44 Q1788.56 1549.52 1782.24 1549.52 Q1780.07 1549.52 1777.8 1549.15 Q1775.55 1548.78 1773.15 1548.04 L1773.15 1543.34 Q1775.23 1544.47 1777.45 1545.03 Q1779.67 1545.58 1782.15 1545.58 Q1786.16 1545.58 1788.49 1543.48 Q1790.83 1541.37 1790.83 1537.76 Q1790.83 1534.15 1788.49 1532.04 Q1786.16 1529.94 1782.15 1529.94 Q1780.28 1529.94 1778.4 1530.35 Q1776.55 1530.77 1774.6 1531.65 L1774.6 1514.29 Z\" fill=\"#000000\" fill-rule=\"evenodd\" fill-opacity=\"1\" /><path clip-path=\"url(#clip550)\" d=\"M1814.72 1517.37 Q1811.11 1517.37 1809.28 1520.93 Q1807.47 1524.47 1807.47 1531.6 Q1807.47 1538.71 1809.28 1542.27 Q1811.11 1545.82 1814.72 1545.82 Q1818.35 1545.82 1820.16 1542.27 Q1821.99 1538.71 1821.99 1531.6 Q1821.99 1524.47 1820.16 1520.93 Q1818.35 1517.37 1814.72 1517.37 M1814.72 1513.66 Q1820.53 1513.66 1823.59 1518.27 Q1826.66 1522.85 1826.66 1531.6 Q1826.66 1540.33 1823.59 1544.94 Q1820.53 1549.52 1814.72 1549.52 Q1808.91 1549.52 1805.83 1544.94 Q1802.78 1540.33 1802.78 1531.6 Q1802.78 1522.85 1805.83 1518.27 Q1808.91 1513.66 1814.72 1513.66 Z\" fill=\"#000000\" fill-rule=\"evenodd\" fill-opacity=\"1\" /><path clip-path=\"url(#clip550)\" d=\"M2242.49 1544.91 L2250.13 1544.91 L2250.13 1518.55 L2241.82 1520.21 L2241.82 1515.95 L2250.08 1514.29 L2254.76 1514.29 L2254.76 1544.91 L2262.4 1544.91 L2262.4 1548.85 L2242.49 1548.85 L2242.49 1544.91 Z\" fill=\"#000000\" fill-rule=\"evenodd\" fill-opacity=\"1\" /><path clip-path=\"url(#clip550)\" d=\"M2281.84 1517.37 Q2278.23 1517.37 2276.4 1520.93 Q2274.6 1524.47 2274.6 1531.6 Q2274.6 1538.71 2276.4 1542.27 Q2278.23 1545.82 2281.84 1545.82 Q2285.48 1545.82 2287.28 1542.27 Q2289.11 1538.71 2289.11 1531.6 Q2289.11 1524.47 2287.28 1520.93 Q2285.48 1517.37 2281.84 1517.37 M2281.84 1513.66 Q2287.65 1513.66 2290.71 1518.27 Q2293.79 1522.85 2293.79 1531.6 Q2293.79 1540.33 2290.71 1544.94 Q2287.65 1549.52 2281.84 1549.52 Q2276.03 1549.52 2272.95 1544.94 Q2269.9 1540.33 2269.9 1531.6 Q2269.9 1522.85 2272.95 1518.27 Q2276.03 1513.66 2281.84 1513.66 Z\" fill=\"#000000\" fill-rule=\"evenodd\" fill-opacity=\"1\" /><path clip-path=\"url(#clip550)\" d=\"M2312 1517.37 Q2308.39 1517.37 2306.56 1520.93 Q2304.76 1524.47 2304.76 1531.6 Q2304.76 1538.71 2306.56 1542.27 Q2308.39 1545.82 2312 1545.82 Q2315.64 1545.82 2317.44 1542.27 Q2319.27 1538.71 2319.27 1531.6 Q2319.27 1524.47 2317.44 1520.93 Q2315.64 1517.37 2312 1517.37 M2312 1513.66 Q2317.81 1513.66 2320.87 1518.27 Q2323.95 1522.85 2323.95 1531.6 Q2323.95 1540.33 2320.87 1544.94 Q2317.81 1549.52 2312 1549.52 Q2306.19 1549.52 2303.12 1544.94 Q2300.06 1540.33 2300.06 1531.6 Q2300.06 1522.85 2303.12 1518.27 Q2306.19 1513.66 2312 1513.66 Z\" fill=\"#000000\" fill-rule=\"evenodd\" fill-opacity=\"1\" /><path clip-path=\"url(#clip550)\" d=\"M2342.17 1517.37 Q2338.55 1517.37 2336.73 1520.93 Q2334.92 1524.47 2334.92 1531.6 Q2334.92 1538.71 2336.73 1542.27 Q2338.55 1545.82 2342.17 1545.82 Q2345.8 1545.82 2347.61 1542.27 Q2349.43 1538.71 2349.43 1531.6 Q2349.43 1524.47 2347.61 1520.93 Q2345.8 1517.37 2342.17 1517.37 M2342.17 1513.66 Q2347.98 1513.66 2351.03 1518.27 Q2354.11 1522.85 2354.11 1531.6 Q2354.11 1540.33 2351.03 1544.94 Q2347.98 1549.52 2342.17 1549.52 Q2336.36 1549.52 2333.28 1544.94 Q2330.22 1540.33 2330.22 1531.6 Q2330.22 1522.85 2333.28 1518.27 Q2336.36 1513.66 2342.17 1513.66 Z\" fill=\"#000000\" fill-rule=\"evenodd\" fill-opacity=\"1\" /><polyline clip-path=\"url(#clip552)\" style=\"stroke:#000000; stroke-linecap:round; stroke-linejoin:round; stroke-width:2; stroke-opacity:0.1; fill:none\" points=\"\n  199.283,1448.5 2352.76,1448.5 \n  \"/>\n<polyline clip-path=\"url(#clip552)\" style=\"stroke:#000000; stroke-linecap:round; stroke-linejoin:round; stroke-width:2; stroke-opacity:0.1; fill:none\" points=\"\n  199.283,1100.36 2352.76,1100.36 \n  \"/>\n<polyline clip-path=\"url(#clip552)\" style=\"stroke:#000000; stroke-linecap:round; stroke-linejoin:round; stroke-width:2; stroke-opacity:0.1; fill:none\" points=\"\n  199.283,752.224 2352.76,752.224 \n  \"/>\n<polyline clip-path=\"url(#clip552)\" style=\"stroke:#000000; stroke-linecap:round; stroke-linejoin:round; stroke-width:2; stroke-opacity:0.1; fill:none\" points=\"\n  199.283,404.086 2352.76,404.086 \n  \"/>\n<polyline clip-path=\"url(#clip552)\" style=\"stroke:#000000; stroke-linecap:round; stroke-linejoin:round; stroke-width:2; stroke-opacity:0.1; fill:none\" points=\"\n  199.283,55.9476 2352.76,55.9476 \n  \"/>\n<polyline clip-path=\"url(#clip550)\" style=\"stroke:#000000; stroke-linecap:round; stroke-linejoin:round; stroke-width:4; stroke-opacity:1; fill:none\" points=\"\n  199.283,1486.45 199.283,47.2441 \n  \"/>\n<polyline clip-path=\"url(#clip550)\" style=\"stroke:#000000; stroke-linecap:round; stroke-linejoin:round; stroke-width:4; stroke-opacity:1; fill:none\" points=\"\n  199.283,1448.5 218.181,1448.5 \n  \"/>\n<polyline clip-path=\"url(#clip550)\" style=\"stroke:#000000; stroke-linecap:round; stroke-linejoin:round; stroke-width:4; stroke-opacity:1; fill:none\" points=\"\n  199.283,1100.36 218.181,1100.36 \n  \"/>\n<polyline clip-path=\"url(#clip550)\" style=\"stroke:#000000; stroke-linecap:round; stroke-linejoin:round; stroke-width:4; stroke-opacity:1; fill:none\" points=\"\n  199.283,752.224 218.181,752.224 \n  \"/>\n<polyline clip-path=\"url(#clip550)\" style=\"stroke:#000000; stroke-linecap:round; stroke-linejoin:round; stroke-width:4; stroke-opacity:1; fill:none\" points=\"\n  199.283,404.086 218.181,404.086 \n  \"/>\n<polyline clip-path=\"url(#clip550)\" style=\"stroke:#000000; stroke-linecap:round; stroke-linejoin:round; stroke-width:4; stroke-opacity:1; fill:none\" points=\"\n  199.283,55.9476 218.181,55.9476 \n  \"/>\n<path clip-path=\"url(#clip550)\" d=\"M151.339 1434.3 Q147.728 1434.3 145.899 1437.86 Q144.093 1441.41 144.093 1448.54 Q144.093 1455.64 145.899 1459.21 Q147.728 1462.75 151.339 1462.75 Q154.973 1462.75 156.779 1459.21 Q158.607 1455.64 158.607 1448.54 Q158.607 1441.41 156.779 1437.86 Q154.973 1434.3 151.339 1434.3 M151.339 1430.6 Q157.149 1430.6 160.205 1435.2 Q163.283 1439.79 163.283 1448.54 Q163.283 1457.26 160.205 1461.87 Q157.149 1466.45 151.339 1466.45 Q145.529 1466.45 142.45 1461.87 Q139.394 1457.26 139.394 1448.54 Q139.394 1439.79 142.45 1435.2 Q145.529 1430.6 151.339 1430.6 Z\" fill=\"#000000\" fill-rule=\"evenodd\" fill-opacity=\"1\" /><path clip-path=\"url(#clip550)\" d=\"M85.0429 1113.71 L101.362 1113.71 L101.362 1117.64 L79.4179 1117.64 L79.4179 1113.71 Q82.0799 1110.95 86.6632 1106.32 Q91.2697 1101.67 92.4502 1100.33 Q94.6956 1097.8 95.5752 1096.07 Q96.478 1094.31 96.478 1092.62 Q96.478 1089.86 94.5336 1088.13 Q92.6123 1086.39 89.5104 1086.39 Q87.3114 1086.39 84.8577 1087.16 Q82.4271 1087.92 79.6494 1089.47 L79.6494 1084.75 Q82.4734 1083.61 84.9271 1083.04 Q87.3808 1082.46 89.4178 1082.46 Q94.7882 1082.46 97.9826 1085.14 Q101.177 1087.83 101.177 1092.32 Q101.177 1094.45 100.367 1096.37 Q99.5798 1098.27 97.4734 1100.86 Q96.8947 1101.53 93.7928 1104.75 Q90.691 1107.94 85.0429 1113.71 Z\" fill=\"#000000\" fill-rule=\"evenodd\" fill-opacity=\"1\" /><path clip-path=\"url(#clip550)\" d=\"M111.223 1083.08 L129.58 1083.08 L129.58 1087.02 L115.506 1087.02 L115.506 1095.49 Q116.524 1095.14 117.543 1094.98 Q118.561 1094.8 119.58 1094.8 Q125.367 1094.8 128.746 1097.97 Q132.126 1101.14 132.126 1106.55 Q132.126 1112.13 128.654 1115.24 Q125.182 1118.31 118.862 1118.31 Q116.686 1118.31 114.418 1117.94 Q112.172 1117.57 109.765 1116.83 L109.765 1112.13 Q111.848 1113.27 114.07 1113.82 Q116.293 1114.38 118.77 1114.38 Q122.774 1114.38 125.112 1112.27 Q127.45 1110.17 127.45 1106.55 Q127.45 1102.94 125.112 1100.84 Q122.774 1098.73 118.77 1098.73 Q116.895 1098.73 115.02 1099.15 Q113.168 1099.56 111.223 1100.44 L111.223 1083.08 Z\" fill=\"#000000\" fill-rule=\"evenodd\" fill-opacity=\"1\" /><path clip-path=\"url(#clip550)\" d=\"M151.339 1086.16 Q147.728 1086.16 145.899 1089.73 Q144.093 1093.27 144.093 1100.4 Q144.093 1107.5 145.899 1111.07 Q147.728 1114.61 151.339 1114.61 Q154.973 1114.61 156.779 1111.07 Q158.607 1107.5 158.607 1100.4 Q158.607 1093.27 156.779 1089.73 Q154.973 1086.16 151.339 1086.16 M151.339 1082.46 Q157.149 1082.46 160.205 1087.06 Q163.283 1091.65 163.283 1100.4 Q163.283 1109.12 160.205 1113.73 Q157.149 1118.31 151.339 1118.31 Q145.529 1118.31 142.45 1113.73 Q139.394 1109.12 139.394 1100.4 Q139.394 1091.65 142.45 1087.06 Q145.529 1082.46 151.339 1082.46 Z\" fill=\"#000000\" fill-rule=\"evenodd\" fill-opacity=\"1\" /><path clip-path=\"url(#clip550)\" d=\"M81.0614 734.944 L99.4178 734.944 L99.4178 738.879 L85.3438 738.879 L85.3438 747.352 Q86.3623 747.004 87.3808 746.842 Q88.3993 746.657 89.4178 746.657 Q95.2049 746.657 98.5845 749.828 Q101.964 753 101.964 758.416 Q101.964 763.995 98.4919 767.097 Q95.0197 770.175 88.7003 770.175 Q86.5243 770.175 84.2558 769.805 Q82.0105 769.435 79.6031 768.694 L79.6031 763.995 Q81.6864 765.129 83.9086 765.685 Q86.1308 766.24 88.6077 766.24 Q92.6123 766.24 94.9502 764.134 Q97.2882 762.027 97.2882 758.416 Q97.2882 754.805 94.9502 752.699 Q92.6123 750.592 88.6077 750.592 Q86.7327 750.592 84.8577 751.009 Q83.0058 751.426 81.0614 752.305 L81.0614 734.944 Z\" fill=\"#000000\" fill-rule=\"evenodd\" fill-opacity=\"1\" /><path clip-path=\"url(#clip550)\" d=\"M121.177 738.023 Q117.566 738.023 115.737 741.588 Q113.932 745.129 113.932 752.259 Q113.932 759.365 115.737 762.93 Q117.566 766.472 121.177 766.472 Q124.811 766.472 126.617 762.93 Q128.445 759.365 128.445 752.259 Q128.445 745.129 126.617 741.588 Q124.811 738.023 121.177 738.023 M121.177 734.319 Q126.987 734.319 130.043 738.926 Q133.121 743.509 133.121 752.259 Q133.121 760.986 130.043 765.592 Q126.987 770.175 121.177 770.175 Q115.367 770.175 112.288 765.592 Q109.233 760.986 109.233 752.259 Q109.233 743.509 112.288 738.926 Q115.367 734.319 121.177 734.319 Z\" fill=\"#000000\" fill-rule=\"evenodd\" fill-opacity=\"1\" /><path clip-path=\"url(#clip550)\" d=\"M151.339 738.023 Q147.728 738.023 145.899 741.588 Q144.093 745.129 144.093 752.259 Q144.093 759.365 145.899 762.93 Q147.728 766.472 151.339 766.472 Q154.973 766.472 156.779 762.93 Q158.607 759.365 158.607 752.259 Q158.607 745.129 156.779 741.588 Q154.973 738.023 151.339 738.023 M151.339 734.319 Q157.149 734.319 160.205 738.926 Q163.283 743.509 163.283 752.259 Q163.283 760.986 160.205 765.592 Q157.149 770.175 151.339 770.175 Q145.529 770.175 142.45 765.592 Q139.394 760.986 139.394 752.259 Q139.394 743.509 142.45 738.926 Q145.529 734.319 151.339 734.319 Z\" fill=\"#000000\" fill-rule=\"evenodd\" fill-opacity=\"1\" /><path clip-path=\"url(#clip550)\" d=\"M79.8346 386.806 L102.057 386.806 L102.057 388.797 L89.5104 421.366 L84.6262 421.366 L96.4317 390.741 L79.8346 390.741 L79.8346 386.806 Z\" fill=\"#000000\" fill-rule=\"evenodd\" fill-opacity=\"1\" /><path clip-path=\"url(#clip550)\" d=\"M111.223 386.806 L129.58 386.806 L129.58 390.741 L115.506 390.741 L115.506 399.213 Q116.524 398.866 117.543 398.704 Q118.561 398.519 119.58 398.519 Q125.367 398.519 128.746 401.69 Q132.126 404.861 132.126 410.278 Q132.126 415.857 128.654 418.958 Q125.182 422.037 118.862 422.037 Q116.686 422.037 114.418 421.667 Q112.172 421.296 109.765 420.556 L109.765 415.857 Q111.848 416.991 114.07 417.546 Q116.293 418.102 118.77 418.102 Q122.774 418.102 125.112 415.996 Q127.45 413.889 127.45 410.278 Q127.45 406.667 125.112 404.56 Q122.774 402.454 118.77 402.454 Q116.895 402.454 115.02 402.871 Q113.168 403.287 111.223 404.167 L111.223 386.806 Z\" fill=\"#000000\" fill-rule=\"evenodd\" fill-opacity=\"1\" /><path clip-path=\"url(#clip550)\" d=\"M151.339 389.885 Q147.728 389.885 145.899 393.449 Q144.093 396.991 144.093 404.121 Q144.093 411.227 145.899 414.792 Q147.728 418.333 151.339 418.333 Q154.973 418.333 156.779 414.792 Q158.607 411.227 158.607 404.121 Q158.607 396.991 156.779 393.449 Q154.973 389.885 151.339 389.885 M151.339 386.181 Q157.149 386.181 160.205 390.787 Q163.283 395.371 163.283 404.121 Q163.283 412.847 160.205 417.454 Q157.149 422.037 151.339 422.037 Q145.529 422.037 142.45 417.454 Q139.394 412.847 139.394 404.121 Q139.394 395.371 142.45 390.787 Q145.529 386.181 151.339 386.181 Z\" fill=\"#000000\" fill-rule=\"evenodd\" fill-opacity=\"1\" /><path clip-path=\"url(#clip550)\" d=\"M51.6634 69.2924 L59.3023 69.2924 L59.3023 42.9268 L50.9921 44.5934 L50.9921 40.3342 L59.256 38.6676 L63.9319 38.6676 L63.9319 69.2924 L71.5707 69.2924 L71.5707 73.2276 L51.6634 73.2276 L51.6634 69.2924 Z\" fill=\"#000000\" fill-rule=\"evenodd\" fill-opacity=\"1\" /><path clip-path=\"url(#clip550)\" d=\"M91.0151 41.7462 Q87.404 41.7462 85.5753 45.311 Q83.7697 48.8527 83.7697 55.9823 Q83.7697 63.0887 85.5753 66.6535 Q87.404 70.1952 91.0151 70.1952 Q94.6493 70.1952 96.4548 66.6535 Q98.2835 63.0887 98.2835 55.9823 Q98.2835 48.8527 96.4548 45.311 Q94.6493 41.7462 91.0151 41.7462 M91.0151 38.0426 Q96.8252 38.0426 99.8808 42.649 Q102.959 47.2323 102.959 55.9823 Q102.959 64.7091 99.8808 69.3155 Q96.8252 73.8988 91.0151 73.8988 Q85.2049 73.8988 82.1262 69.3155 Q79.0707 64.7091 79.0707 55.9823 Q79.0707 47.2323 82.1262 42.649 Q85.2049 38.0426 91.0151 38.0426 Z\" fill=\"#000000\" fill-rule=\"evenodd\" fill-opacity=\"1\" /><path clip-path=\"url(#clip550)\" d=\"M121.177 41.7462 Q117.566 41.7462 115.737 45.311 Q113.932 48.8527 113.932 55.9823 Q113.932 63.0887 115.737 66.6535 Q117.566 70.1952 121.177 70.1952 Q124.811 70.1952 126.617 66.6535 Q128.445 63.0887 128.445 55.9823 Q128.445 48.8527 126.617 45.311 Q124.811 41.7462 121.177 41.7462 M121.177 38.0426 Q126.987 38.0426 130.043 42.649 Q133.121 47.2323 133.121 55.9823 Q133.121 64.7091 130.043 69.3155 Q126.987 73.8988 121.177 73.8988 Q115.367 73.8988 112.288 69.3155 Q109.233 64.7091 109.233 55.9823 Q109.233 47.2323 112.288 42.649 Q115.367 38.0426 121.177 38.0426 Z\" fill=\"#000000\" fill-rule=\"evenodd\" fill-opacity=\"1\" /><path clip-path=\"url(#clip550)\" d=\"M151.339 41.7462 Q147.728 41.7462 145.899 45.311 Q144.093 48.8527 144.093 55.9823 Q144.093 63.0887 145.899 66.6535 Q147.728 70.1952 151.339 70.1952 Q154.973 70.1952 156.779 66.6535 Q158.607 63.0887 158.607 55.9823 Q158.607 48.8527 156.779 45.311 Q154.973 41.7462 151.339 41.7462 M151.339 38.0426 Q157.149 38.0426 160.205 42.649 Q163.283 47.2323 163.283 55.9823 Q163.283 64.7091 160.205 69.3155 Q157.149 73.8988 151.339 73.8988 Q145.529 73.8988 142.45 69.3155 Q139.394 64.7091 139.394 55.9823 Q139.394 47.2323 142.45 42.649 Q145.529 38.0426 151.339 38.0426 Z\" fill=\"#000000\" fill-rule=\"evenodd\" fill-opacity=\"1\" /><polyline clip-path=\"url(#clip552)\" style=\"stroke:#009af9; stroke-linecap:round; stroke-linejoin:round; stroke-width:4; stroke-opacity:1; fill:none\" points=\"\n  914.85,832.992 849.183,755.009 \n  \"/>\n<polyline clip-path=\"url(#clip552)\" style=\"stroke:#e26f46; stroke-linecap:round; stroke-linejoin:round; stroke-width:4; stroke-opacity:1; fill:none\" points=\"\n  1372.47,216.091 1405.3,185.455 \n  \"/>\n<polyline clip-path=\"url(#clip552)\" style=\"stroke:#3da44d; stroke-linecap:round; stroke-linejoin:round; stroke-width:4; stroke-opacity:1; fill:none\" points=\"\n  693.223,722.981 742.474,677.026 \n  \"/>\n<polyline clip-path=\"url(#clip552)\" style=\"stroke:#c271d2; stroke-linecap:round; stroke-linejoin:round; stroke-width:4; stroke-opacity:1; fill:none\" points=\"\n  2082.49,136.716 2203.57,87.9763 \n  \"/>\n<polyline clip-path=\"url(#clip552)\" style=\"stroke:#ac8d18; stroke-linecap:round; stroke-linejoin:round; stroke-width:4; stroke-opacity:1; fill:none\" points=\"\n  970.257,319.14 996.934,306.607 \n  \"/>\n<polyline clip-path=\"url(#clip552)\" style=\"stroke:#00a9ad; stroke-linecap:round; stroke-linejoin:round; stroke-width:4; stroke-opacity:1; fill:none\" points=\"\n  1054.39,800.964 914.85,832.992 \n  \"/>\n<polyline clip-path=\"url(#clip552)\" style=\"stroke:#ed5d92; stroke-linecap:round; stroke-linejoin:round; stroke-width:4; stroke-opacity:1; fill:none\" points=\"\n  2203.57,87.9763 2189.2,100.509 \n  \"/>\n<polyline clip-path=\"url(#clip552)\" style=\"stroke:#c68125; stroke-linecap:round; stroke-linejoin:round; stroke-width:4; stroke-opacity:1; fill:none\" points=\"\n  1879.34,752.224 1782.89,707.662 \n  \"/>\n<polyline clip-path=\"url(#clip552)\" style=\"stroke:#00a98d; stroke-linecap:round; stroke-linejoin:round; stroke-width:4; stroke-opacity:1; fill:none\" points=\"\n  1259.6,451.433 1372.47,216.091 \n  \"/>\n<polyline clip-path=\"url(#clip552)\" style=\"stroke:#8e971d; stroke-linecap:round; stroke-linejoin:round; stroke-width:4; stroke-opacity:1; fill:none\" points=\"\n  1782.89,1183.92 2291.81,1261.9 \n  \"/>\n<polyline clip-path=\"url(#clip552)\" style=\"stroke:#00a8cb; stroke-linecap:round; stroke-linejoin:round; stroke-width:4; stroke-opacity:1; fill:none\" points=\"\n  1431.98,924.901 1454.55,965.285 \n  \"/>\n<polyline clip-path=\"url(#clip552)\" style=\"stroke:#9b7fe8; stroke-linecap:round; stroke-linejoin:round; stroke-width:4; stroke-opacity:1; fill:none\" points=\"\n  1739.79,660.316 1497.65,780.075 \n  \"/>\n<polyline clip-path=\"url(#clip552)\" style=\"stroke:#608cf6; stroke-linecap:round; stroke-linejoin:round; stroke-width:4; stroke-opacity:1; fill:none\" points=\"\n  260.231,1208.98 440.815,951.359 \n  \"/>\n<polyline clip-path=\"url(#clip552)\" style=\"stroke:#f05f73; stroke-linecap:round; stroke-linejoin:round; stroke-width:4; stroke-opacity:1; fill:none\" points=\"\n  654.234,993.136 962.048,890.087 \n  \"/>\n<polyline clip-path=\"url(#clip552)\" style=\"stroke:#dd64b5; stroke-linecap:round; stroke-linejoin:round; stroke-width:4; stroke-opacity:1; fill:none\" points=\"\n  1146.74,568.407 1259.6,451.433 \n  \"/>\n<polyline clip-path=\"url(#clip552)\" style=\"stroke:#6b9e32; stroke-linecap:round; stroke-linejoin:round; stroke-width:4; stroke-opacity:1; fill:none\" points=\"\n  1647.45,927.686 1823.93,1011.24 \n  \"/>\n<polyline clip-path=\"url(#clip552)\" style=\"stroke:#009af9; stroke-linecap:round; stroke-linejoin:round; stroke-width:4; stroke-opacity:1; fill:none\" points=\"\n  2209.72,433.329 2254.87,767.542 \n  \"/>\n<polyline clip-path=\"url(#clip552)\" style=\"stroke:#e26f46; stroke-linecap:round; stroke-linejoin:round; stroke-width:4; stroke-opacity:1; fill:none\" points=\"\n  1575.63,1445.72 1354,1298.11 \n  \"/>\n<polyline clip-path=\"url(#clip552)\" style=\"stroke:#3da44d; stroke-linecap:round; stroke-linejoin:round; stroke-width:4; stroke-opacity:1; fill:none\" points=\"\n  2291.81,1261.9 1809.57,1412.29 \n  \"/>\n<polyline clip-path=\"url(#clip552)\" style=\"stroke:#c271d2; stroke-linecap:round; stroke-linejoin:round; stroke-width:4; stroke-opacity:1; fill:none\" points=\"\n  1782.89,707.662 1739.79,660.316 \n  \"/>\n<polyline clip-path=\"url(#clip552)\" style=\"stroke:#ac8d18; stroke-linecap:round; stroke-linejoin:round; stroke-width:4; stroke-opacity:1; fill:none\" points=\"\n  471.597,1346.84 260.231,1208.98 \n  \"/>\n<polyline clip-path=\"url(#clip552)\" style=\"stroke:#00a9ad; stroke-linecap:round; stroke-linejoin:round; stroke-width:4; stroke-opacity:1; fill:none\" points=\"\n  1253.45,749.439 1431.98,924.901 \n  \"/>\n<polyline clip-path=\"url(#clip552)\" style=\"stroke:#ed5d92; stroke-linecap:round; stroke-linejoin:round; stroke-width:4; stroke-opacity:1; fill:none\" points=\"\n  1405.3,185.455 1419.67,136.716 \n  \"/>\n<polyline clip-path=\"url(#clip552)\" style=\"stroke:#c68125; stroke-linecap:round; stroke-linejoin:round; stroke-width:4; stroke-opacity:1; fill:none\" points=\"\n  767.099,1286.96 471.597,1346.84 \n  \"/>\n<polyline clip-path=\"url(#clip552)\" style=\"stroke:#00a98d; stroke-linecap:round; stroke-linejoin:round; stroke-width:4; stroke-opacity:1; fill:none\" points=\"\n  1532.53,937.434 1647.45,927.686 \n  \"/>\n<polyline clip-path=\"url(#clip552)\" style=\"stroke:#8e971d; stroke-linecap:round; stroke-linejoin:round; stroke-width:4; stroke-opacity:1; fill:none\" points=\"\n  726.057,220.269 797.88,327.495 \n  \"/>\n<polyline clip-path=\"url(#clip552)\" style=\"stroke:#00a8cb; stroke-linecap:round; stroke-linejoin:round; stroke-width:4; stroke-opacity:1; fill:none\" points=\"\n  500.326,512.705 393.617,515.49 \n  \"/>\n<polyline clip-path=\"url(#clip552)\" style=\"stroke:#9b7fe8; stroke-linecap:round; stroke-linejoin:round; stroke-width:4; stroke-opacity:1; fill:none\" points=\"\n  1497.65,780.075 1423.77,792.608 \n  \"/>\n<polyline clip-path=\"url(#clip552)\" style=\"stroke:#608cf6; stroke-linecap:round; stroke-linejoin:round; stroke-width:4; stroke-opacity:1; fill:none\" points=\"\n  1626.93,125.575 1694.65,149.249 \n  \"/>\n<polyline clip-path=\"url(#clip552)\" style=\"stroke:#f05f73; stroke-linecap:round; stroke-linejoin:round; stroke-width:4; stroke-opacity:1; fill:none\" points=\"\n  1809.57,1412.29 1575.63,1445.72 \n  \"/>\n<polyline clip-path=\"url(#clip552)\" style=\"stroke:#dd64b5; stroke-linecap:round; stroke-linejoin:round; stroke-width:4; stroke-opacity:1; fill:none\" points=\"\n  1454.55,965.285 1532.53,937.434 \n  \"/>\n<polyline clip-path=\"url(#clip552)\" style=\"stroke:#6b9e32; stroke-linecap:round; stroke-linejoin:round; stroke-width:4; stroke-opacity:1; fill:none\" points=\"\n  996.934,306.607 1146.74,568.407 \n  \"/>\n<polyline clip-path=\"url(#clip552)\" style=\"stroke:#009af9; stroke-linecap:round; stroke-linejoin:round; stroke-width:4; stroke-opacity:1; fill:none\" points=\"\n  514.691,344.206 726.057,220.269 \n  \"/>\n<polyline clip-path=\"url(#clip552)\" style=\"stroke:#e26f46; stroke-linecap:round; stroke-linejoin:round; stroke-width:4; stroke-opacity:1; fill:none\" points=\"\n  2189.2,100.509 1981.94,433.329 \n  \"/>\n<polyline clip-path=\"url(#clip552)\" style=\"stroke:#3da44d; stroke-linecap:round; stroke-linejoin:round; stroke-width:4; stroke-opacity:1; fill:none\" points=\"\n  1423.77,792.608 1253.45,749.439 \n  \"/>\n<polyline clip-path=\"url(#clip552)\" style=\"stroke:#c271d2; stroke-linecap:round; stroke-linejoin:round; stroke-width:4; stroke-opacity:1; fill:none\" points=\"\n  1637.19,1179.74 1782.89,1183.92 \n  \"/>\n<polyline clip-path=\"url(#clip552)\" style=\"stroke:#ac8d18; stroke-linecap:round; stroke-linejoin:round; stroke-width:4; stroke-opacity:1; fill:none\" points=\"\n  1419.67,136.716 1626.93,125.575 \n  \"/>\n<polyline clip-path=\"url(#clip552)\" style=\"stroke:#00a9ad; stroke-linecap:round; stroke-linejoin:round; stroke-width:4; stroke-opacity:1; fill:none\" points=\"\n  393.617,515.49 514.691,344.206 \n  \"/>\n<polyline clip-path=\"url(#clip552)\" style=\"stroke:#ed5d92; stroke-linecap:round; stroke-linejoin:round; stroke-width:4; stroke-opacity:1; fill:none\" points=\"\n  1684.39,204.951 2082.49,136.716 \n  \"/>\n<polyline clip-path=\"url(#clip552)\" style=\"stroke:#c68125; stroke-linecap:round; stroke-linejoin:round; stroke-width:4; stroke-opacity:1; fill:none\" points=\"\n  440.815,951.359 654.234,993.136 \n  \"/>\n<polyline clip-path=\"url(#clip552)\" style=\"stroke:#00a98d; stroke-linecap:round; stroke-linejoin:round; stroke-width:4; stroke-opacity:1; fill:none\" points=\"\n  1981.94,433.329 2209.72,433.329 \n  \"/>\n<polyline clip-path=\"url(#clip552)\" style=\"stroke:#8e971d; stroke-linecap:round; stroke-linejoin:round; stroke-width:4; stroke-opacity:1; fill:none\" points=\"\n  962.048,890.087 1054.39,800.964 \n  \"/>\n<polyline clip-path=\"url(#clip552)\" style=\"stroke:#00a8cb; stroke-linecap:round; stroke-linejoin:round; stroke-width:4; stroke-opacity:1; fill:none\" points=\"\n  1823.93,1011.24 1637.19,1179.74 \n  \"/>\n<polyline clip-path=\"url(#clip552)\" style=\"stroke:#9b7fe8; stroke-linecap:round; stroke-linejoin:round; stroke-width:4; stroke-opacity:1; fill:none\" points=\"\n  797.88,327.495 970.257,319.14 \n  \"/>\n<polyline clip-path=\"url(#clip552)\" style=\"stroke:#608cf6; stroke-linecap:round; stroke-linejoin:round; stroke-width:4; stroke-opacity:1; fill:none\" points=\"\n  1354,1298.11 767.099,1286.96 \n  \"/>\n<polyline clip-path=\"url(#clip552)\" style=\"stroke:#f05f73; stroke-linecap:round; stroke-linejoin:round; stroke-width:4; stroke-opacity:1; fill:none\" points=\"\n  849.183,755.009 693.223,722.981 \n  \"/>\n<polyline clip-path=\"url(#clip552)\" style=\"stroke:#dd64b5; stroke-linecap:round; stroke-linejoin:round; stroke-width:4; stroke-opacity:1; fill:none\" points=\"\n  742.474,677.026 500.326,512.705 \n  \"/>\n<polyline clip-path=\"url(#clip552)\" style=\"stroke:#6b9e32; stroke-linecap:round; stroke-linejoin:round; stroke-width:4; stroke-opacity:1; fill:none\" points=\"\n  2254.87,767.542 1998.36,763.365 \n  \"/>\n<polyline clip-path=\"url(#clip552)\" style=\"stroke:#009af9; stroke-linecap:round; stroke-linejoin:round; stroke-width:4; stroke-opacity:1; fill:none\" points=\"\n  1998.36,763.365 1879.34,752.224 \n  \"/>\n<polyline clip-path=\"url(#clip552)\" style=\"stroke:#e26f46; stroke-linecap:round; stroke-linejoin:round; stroke-width:4; stroke-opacity:1; fill:none\" points=\"\n  1694.65,149.249 1684.39,204.951 \n  \"/>\n</svg>\n"
          },
          "metadata": {}
        },
        {
          "output_type": "stream",
          "name": "stdout",
          "text": [
            "Iterations=67  Cuts=177   Time=6.696629047393799  \n",
            "Optval: 5624.0    ;   Solution: [1, 46, 3, 47, 27, 38, 33, 26, 44, 5, 32, 15, 9, 2, 23, 37, 29, 50, 39, 4, 7, 34, 41, 17, 48, 49, 8, 20, 12, 28, 35, 22, 11, 31, 25, 16, 43, 36, 10, 19, 30, 18, 45, 24, 21, 13, 40, 14, 42, 6, 1]\n"
          ]
        }
      ]
    }
  ]
}