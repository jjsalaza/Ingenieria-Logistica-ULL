{
 "cells": [
  {
   "cell_type": "markdown",
   "metadata": {
    "colab_type": "text",
    "id": "Q4A2sTdrgkXM"
   },
   "source": [
    "<h1>**Modelos Ingeniería Logística**</h1>"
   ]
  },
  {
   "cell_type": "markdown",
   "metadata": {
    "colab_type": "text",
    "id": "LsemLLW2gkmt"
   },
   "source": [
    "**1.- 3 Modelos del TSP utilizando las variables u, j o f para evitar los subciclos**"
   ]
  },
  {
   "cell_type": "markdown",
   "metadata": {
    "colab_type": "text",
    "id": "401BbyHbiWLA"
   },
   "source": [
    "1.1.- Primer modelo (Usando la variable *u* para conocer la posición que ocupa cada nodo en la ruta final)"
   ]
  },
  {
   "cell_type": "code",
   "execution_count": 1,
   "metadata": {
    "colab": {},
    "colab_type": "code",
    "id": "VcaG7yeqiPW4"
   },
   "outputs": [
    {
     "name": "stdout",
     "output_type": "stream",
     "text": [
      "Requirement already satisfied: ortools in c:\\programdata\\anaconda3\\lib\\site-packages (6.9.5824)\n",
      "Requirement already satisfied: protobuf>=3.6.1 in c:\\programdata\\anaconda3\\lib\\site-packages (from ortools) (3.6.1)\n",
      "Requirement already satisfied: six>=1.10 in c:\\programdata\\anaconda3\\lib\\site-packages (from ortools) (1.11.0)\n",
      "Requirement already satisfied: setuptools in c:\\programdata\\anaconda3\\lib\\site-packages (from protobuf>=3.6.1->ortools) (40.2.0)\n",
      "Distancia total de la ruta =  158.0 kilometros\n",
      "Ruta de mínima distancia:\n",
      "De 0 a 47 con distancia=1 Km\n",
      "De 1 a 46 con distancia=2 Km\n",
      "De 2 a 5 con distancia=2 Km\n",
      "De 3 a 17 con distancia=4 Km\n",
      "De 4 a 11 con distancia=6 Km\n",
      "De 5 a 30 con distancia=2 Km\n",
      "De 6 a 13 con distancia=2 Km\n",
      "De 7 a 42 con distancia=2 Km\n",
      "De 8 a 22 con distancia=4 Km\n",
      "De 9 a 3 con distancia=1 Km\n",
      "De 10 a 41 con distancia=1 Km\n",
      "De 11 a 35 con distancia=2 Km\n",
      "De 12 a 37 con distancia=3 Km\n",
      "De 13 a 23 con distancia=3 Km\n",
      "De 14 a 34 con distancia=1 Km\n",
      "De 15 a 10 con distancia=6 Km\n",
      "De 16 a 33 con distancia=2 Km\n",
      "De 17 a 21 con distancia=2 Km\n",
      "De 18 a 8 con distancia=2 Km\n",
      "De 19 a 0 con distancia=4 Km\n",
      "De 20 a 45 con distancia=1 Km\n",
      "De 21 a 16 con distancia=4 Km\n",
      "De 22 a 15 con distancia=1 Km\n",
      "De 23 a 49 con distancia=2 Km\n",
      "De 24 a 18 con distancia=1 Km\n",
      "De 25 a 36 con distancia=1 Km\n",
      "De 26 a 2 con distancia=2 Km\n",
      "De 27 a 25 con distancia=11 Km\n",
      "De 28 a 27 con distancia=2 Km\n",
      "De 29 a 32 con distancia=4 Km\n",
      "De 30 a 7 con distancia=3 Km\n",
      "De 31 a 12 con distancia=6 Km\n",
      "De 32 a 1 con distancia=7 Km\n",
      "De 33 a 6 con distancia=6 Km\n",
      "De 34 a 4 con distancia=5 Km\n",
      "De 35 a 43 con distancia=3 Km\n",
      "De 36 a 44 con distancia=1 Km\n",
      "De 37 a 9 con distancia=5 Km\n",
      "De 38 a 28 con distancia=1 Km\n",
      "De 39 a 48 con distancia=2 Km\n",
      "De 40 a 29 con distancia=6 Km\n",
      "De 41 a 20 con distancia=1 Km\n",
      "De 42 a 24 con distancia=5 Km\n",
      "De 43 a 38 con distancia=5 Km\n",
      "De 44 a 31 con distancia=7 Km\n",
      "De 45 a 39 con distancia=3 Km\n",
      "De 46 a 19 con distancia=6 Km\n",
      "De 47 a 26 con distancia=2 Km\n",
      "De 48 a 14 con distancia=2 Km\n",
      "De 49 a 40 con distancia=1 Km\n"
     ]
    }
   ],
   "source": [
    "!pip install ortools\n",
    "from ortools.linear_solver import pywraplp\n",
    "import random\n",
    "\n",
    "n = 50\n",
    "todos = range(n)\n",
    "otros = range(1,n)\n",
    "random.seed(12345)\n",
    "dist= { (i,j) : random.randint(1,100) for i in todos for j in todos if i!=j }\n",
    "EPS = 0.001\n",
    "\n",
    "def TSP1():\n",
    "    solver = pywraplp.Solver('ATSP', pywraplp.Solver.CBC_MIXED_INTEGER_PROGRAMMING)\n",
    "\n",
    "    x = {}\n",
    "    for i in todos:\n",
    "        for j in todos:\n",
    "            if i!=j:\n",
    "                x[i,j] = solver.BoolVar('x[%i,%i]' % (i,j))\n",
    "    u = {}\n",
    "    for i in otros:\n",
    "        u[i] = solver.IntVar(0.0, solver.infinity(), 'u[%i]' % i)  \n",
    "\n",
    "    solver.Minimize(solver.Sum( dist[i,j]*x[i,j] for i in todos for j in todos if i!=j ))\n",
    "    \n",
    "    [ solver.Add(  solver.Sum(x[i,j] for j in todos if i!=j) == 1  )  for i in todos ]\n",
    "    [ solver.Add(  solver.Sum(x[j,i] for j in todos if i!=j) == 1  )  for i in todos ]\n",
    "    \n",
    "    [ solver.Add(  u[j] >= u[i] + x[i,j] - (n-2)*(1-x[i,j]) + (n-3)*x[j,i]   ) for i in otros for j in otros if j!=i ]\n",
    "        \n",
    "    solver.Solve()\n",
    "\n",
    "    print('Distancia total de la ruta = ', solver.Objective().Value(),'kilometros')\n",
    "    print('Ruta de mínima distancia:')\n",
    "    for i in todos:\n",
    "        for j in todos: \n",
    "            if i!=j and x[i,j].solution_value() > EPS :\n",
    "                print('De %d a %d con distancia=%d Km'  %(i,j,dist[i,j]))\n",
    "\n",
    "TSP1()\n"
   ]
  },
  {
   "cell_type": "markdown",
   "metadata": {
    "colab_type": "text",
    "id": "uaaYrU8Hgky4"
   },
   "source": [
    "1.2.- Segundo modelo (Usando la variable *v* para llevar el control de que es nodo es visitado antes que otro)"
   ]
  },
  {
   "cell_type": "code",
   "execution_count": null,
   "metadata": {
    "colab": {
     "base_uri": "https://localhost:8080/",
     "height": 118
    },
    "colab_type": "code",
    "id": "2RhizDiGghtx",
    "outputId": "229fe7c0-1cf6-4024-afca-958edce471e1"
   },
   "outputs": [
    {
     "name": "stdout",
     "output_type": "stream",
     "text": [
      "Requirement already satisfied: pulp in c:\\programdata\\anaconda3\\lib\\site-packages (1.6.9)\n",
      "Requirement already satisfied: pyparsing>=2.0.1 in c:\\programdata\\anaconda3\\lib\\site-packages (from pulp) (2.2.0)\n",
      "Requirement already satisfied: ortools in c:\\programdata\\anaconda3\\lib\\site-packages (6.9.5824)\n",
      "Requirement already satisfied: protobuf>=3.6.1 in c:\\programdata\\anaconda3\\lib\\site-packages (from ortools) (3.6.1)\n",
      "Requirement already satisfied: six>=1.10 in c:\\programdata\\anaconda3\\lib\\site-packages (from ortools) (1.11.0)\n",
      "Requirement already satisfied: setuptools in c:\\programdata\\anaconda3\\lib\\site-packages (from protobuf>=3.6.1->ortools) (40.2.0)\n"
     ]
    }
   ],
   "source": [
    "!pip install ortools\n",
    "from ortools.linear_solver import pywraplp\n",
    "import random\n",
    "\n",
    "n = 50\n",
    "todos = range(n)\n",
    "otros = range(1,n)\n",
    "random.seed(12345)\n",
    "dist= { (i,j) : random.randint(1,100) for i in todos for j in todos if i!=j }\n",
    "EPS = 0.001\n",
    "\n",
    "def TSP2():\n",
    "    solver = pywraplp.Solver('ATSP', pywraplp.Solver.CBC_MIXED_INTEGER_PROGRAMMING)\n",
    "\n",
    "    x = {}\n",
    "    for i in todos:\n",
    "        for j in todos:\n",
    "            if i!=j:\n",
    "                x[i,j] = solver.BoolVar('x[%i,%i]' % (i,j))              \n",
    "    v = {}\n",
    "    for i in todos:\n",
    "        for j in todos:\n",
    "            if i!=j:\n",
    "                v[i,j] = solver.BoolVar('v[%i,%i]' % (i,j))\n",
    "\n",
    "    solver.Minimize(solver.Sum( dist[i,j]*x[i,j] for i in todos for j in todos if i!=j ))\n",
    "    \n",
    "    [ solver.Add(  solver.Sum(x[i,j] for j in todos if i!=j) == 1  )  for i in todos ]\n",
    "    [ solver.Add(  solver.Sum(x[j,i] for j in todos if i!=j) == 1  )  for i in todos ]\n",
    "    \n",
    "    [ solver.Add(  v[i,j] + v[j,i] == 1  )  for i in otros for j in otros if i!=j ]\n",
    "    [ solver.Add(  x[i,k] + v[i,j] + v[j,k] <= v[i,k] + 1  )  for i in otros for j in otros for k in todos if i!=j and j!=k and k!=i ]\n",
    "    [ solver.Add(  x[i,j] <= v[i,j]  )  for i in otros for j in todos if i!=j ]\n",
    "      \n",
    "    solver.Solve()\n",
    "\n",
    "    print('Distancia total de la ruta = ', solver.Objective().Value(),'kilometros')\n",
    "    print('Ruta de mínima distancia:')\n",
    "    for i in todos:\n",
    "        for j in todos: \n",
    "            if i!=j and x[i,j].solution_value() > EPS :\n",
    "                print('De %d a %d con distancia=%d Km'  %(i,j,dist[i,j]))\n",
    "\n",
    "TSP2()"
   ]
  },
  {
   "cell_type": "markdown",
   "metadata": {
    "colab_type": "text",
    "id": "Bikk--x3vafX"
   },
   "source": [
    "1.3.- Tercer modelo (Usando la variable *f* para llevar el control de la cantidad de euros que llevo por un arco)"
   ]
  },
  {
   "cell_type": "code",
   "execution_count": 0,
   "metadata": {
    "colab": {},
    "colab_type": "code",
    "id": "yDO5xTfQvsjp"
   },
   "outputs": [],
   "source": [
    "!pip install ortools\n",
    "from ortools.linear_solver import pywraplp\n",
    "import random\n",
    "\n",
    "n = 50\n",
    "todos = range(n)\n",
    "otros = range(1,n)\n",
    "random.seed(12345)\n",
    "dist= { (i,j) : random.randint(1,100) for i in todos for j in todos if i!=j }\n",
    "EPS = 0.001\n",
    "\n",
    "def TSP3():\n",
    "    solver = pywraplp.Solver('ATSP', pywraplp.Solver.CBC_MIXED_INTEGER_PROGRAMMING)\n",
    "\n",
    "    x = {}\n",
    "    for i in todos:\n",
    "        for j in todos:\n",
    "            if i!=j:\n",
    "                x[i,j] = solver.BoolVar('x[%i,%i]' % (i,j))\n",
    "    f = {}\n",
    "    for i in todos:\n",
    "        for j in todos:\n",
    "            if i!=j:\n",
    "                f[i,j] = solver.IntVar(0.0, solver.infinity(), 'f[%i,%i]' % (i,j))  \n",
    "\n",
    "    solver.Minimize(solver.Sum( dist[i,j]*x[i,j] for i in todos for j in todos if i!=j ))\n",
    "    \n",
    "    [ solver.Add(  solver.Sum(x[i,j] for j in todos if i!=j) == 1  )  for i in todos ]\n",
    "    [ solver.Add(  solver.Sum(x[j,i] for j in todos if i!=j) == 1  )  for i in todos ]\n",
    "    \n",
    "    [ solver.Add(  solver.Sum(f[i,j] for i in todos if i!=j) - solver.Sum(f[j,k] for k in todos if j!=k) == 1  )  for j in otros]\n",
    "    [ solver.Add(  0 <= f[i,j]  )  for i in todos for j in todos if i!=j]\n",
    "    [ solver.Add(  f[i,j] <= (n - 1) * x[i,j]) for i in todos for j in todos if i!=j]\n",
    "        \n",
    "    solver.Solve()\n",
    "\n",
    "    print('Distancia total de la ruta = ', solver.Objective().Value(),'kilometros')\n",
    "    print('Ruta de mínima distancia:')\n",
    "    for i in todos:\n",
    "        for j in todos: \n",
    "            if i!=j and x[i,j].solution_value() > EPS :\n",
    "                print('De %d a %d con distancia=%d Km'  %(i,j,dist[i,j]))\n",
    "\n",
    "TSP3()"
   ]
  },
  {
   "cell_type": "markdown",
   "metadata": {
    "colab_type": "text",
    "id": "kLaLCAg3zNDQ"
   },
   "source": [
    "**2.- Modelo del TSP con Relaciones de Precedencia**"
   ]
  },
  {
   "cell_type": "code",
   "execution_count": 0,
   "metadata": {
    "colab": {},
    "colab_type": "code",
    "id": "u0qAw65yzbzn"
   },
   "outputs": [],
   "source": [
    "!pip install ortools\n",
    "from ortools.linear_solver import pywraplp\n",
    "import random\n",
    "\n",
    "n = 50\n",
    "todos = range(n)\n",
    "otros = range(1,n)\n",
    "random.seed(12345)\n",
    "dist= { (i,j) : random.randint(1,100) for i in todos for j in todos if i!=j }\n",
    "EPS = 0.001\n",
    "\n",
    "def TSP4():\n",
    "    solver = pywraplp.Solver('ATSP', pywraplp.Solver.CBC_MIXED_INTEGER_PROGRAMMING)\n",
    "\n",
    "    x = {}\n",
    "    for i in todos:\n",
    "        for j in todos:\n",
    "            if i!=j:\n",
    "                x[i,j] = solver.BoolVar('x[%i,%i]' % (i,j))\n",
    "    v = {}\n",
    "    for i in todos:\n",
    "        for j in todos:\n",
    "            if i!=j:\n",
    "                v[i,j] = solver.BoolVar('v[%i,%i]' % (i,j))  \n",
    "\n",
    "    solver.Minimize(solver.Sum( dist[i,j]*x[i,j] for i in todos for j in todos if i!=j ))\n",
    "    \n",
    "    [ solver.Add(  solver.Sum(x[i,j] for j in todos if i!=j) == 1  )  for i in todos ]\n",
    "    [ solver.Add(  solver.Sum(x[j,i] for j in todos if i!=j) == 1  )  for i in todos ]\n",
    "    \n",
    "    [ solver.Add(  v[i,j] + v[j,i] == 1  )  for i in todos for j in todos if i!=j ]\n",
    "    [ solver.Add(  v[i,j] + v[j,k] <= v[i,k] + 1  )  for i in todos for j in todos for k in todos if i!=j and j!=k and k!=i ]\n",
    "    [ solver.Add(  x[i,j] <= v[i,j]  )  for i in todos for j in todos if i!=j ]\n",
    "    [ solver.Add(  solver.Sum(v[i,j] for j in todos if i!=j) == 1  for i in todos if i!=j)]\n",
    "    \n",
    "    solver.Solve()\n",
    "\n",
    "    print('Distancia total de la ruta = ', solver.Objective().Value(),'kilometros')\n",
    "    print('Ruta de mínima distancia:')\n",
    "    for i in todos:\n",
    "        for j in todos: \n",
    "            if i!=j and x[i,j].solution_value() > EPS :\n",
    "                print('De %d a %d con distancia=%d Km'  %(i,j,dist[i,j]))\n",
    "\n",
    "TSP4()"
   ]
  },
  {
   "cell_type": "markdown",
   "metadata": {
    "colab_type": "text",
    "id": "P7SVhO9LCsEN"
   },
   "source": [
    "**3.- Modelo del TSP con recogidas y entregas de un mercancia**"
   ]
  },
  {
   "cell_type": "code",
   "execution_count": 0,
   "metadata": {
    "colab": {},
    "colab_type": "code",
    "id": "I4gqcJbFC6Il"
   },
   "outputs": [],
   "source": [
    "!pip install ortools\n",
    "from ortools.linear_solver import pywraplp\n",
    "import random\n",
    "\n",
    "n = 50\n",
    "todos = range(n)\n",
    "otros = range(1,n)\n",
    "random.seed(12345)\n",
    "dist= { (i,j) : random.randint(1,100) for i in todos for j in todos if i!=j }\n",
    "demanda= { (i) : random.randint(1,10) for i in otros }\n",
    "Q = 500 #Cantidad máxima de mercancia en el camión transportista\n",
    "EPS = 0.001\n",
    "\n",
    "def TSP5():\n",
    "    solver = pywraplp.Solver('ATSP', pywraplp.Solver.CBC_MIXED_INTEGER_PROGRAMMING)\n",
    "\n",
    "    x = {}\n",
    "    for i in todos:\n",
    "        for j in todos:\n",
    "            if i!=j:\n",
    "                x[i,j] = solver.BoolVar('x[%i,%i]' % (i,j))\n",
    "    u = {}\n",
    "    for i in otros:\n",
    "        u[i] = solver.IntVar(0.0, solver.infinity(), 'u[%i]' % i) \n",
    "    f = {}\n",
    "    for i in todos:\n",
    "        for j in todos:\n",
    "            if i!=j:\n",
    "                f[i,j] = solver.IntVar(0.0, solver.infinity(), 'f[%i,%i]' % (i,j))\n",
    "\n",
    "    solver.Minimize(solver.Sum( dist[i,j]*x[i,j] for i in todos for j in todos if i!=j ))\n",
    "    \n",
    "    [ solver.Add(  solver.Sum(x[i,j] for j in todos if i!=j) == 1  )  for i in todos ]\n",
    "    [ solver.Add(  solver.Sum(x[j,i] for j in todos if i!=j) == 1  )  for i in todos ]\n",
    "    \n",
    "    [ solver.Add(  u[j] >= u[i] + x[i,j] - (n-2)*(1-x[i,j]) + (n-3)*x[j,i]   ) for i in otros for j in otros if j!=i ]\n",
    "    \n",
    "    [ solver.Add(  solver.Sum(f[i,j] for j in todos if i!=j) - solver.Sum(f[j,i] for j in todos if i!=j) == demanda[i]  )  for i in otros ]\n",
    "    [ solver.Add(  max(0, demanda[i], -demanda[j]) * x[i,j] <= f[i,j]  )  for i in otros for j in otros if i!=j ]\n",
    "    [ solver.Add(  f[i,j] <= (Q - max(0, -demanda[i], demanda[j])) * x[i,j]  )  for i in otros for j in otros if i!=j ]\n",
    "    \n",
    "    solver.Solve()\n",
    "\n",
    "    print('Distancia total de la ruta = ', solver.Objective().Value(),'kilometros')\n",
    "    print('Ruta de mínima distancia:')\n",
    "    for i in todos:\n",
    "        for j in todos: \n",
    "            if i!=j and x[i,j].solution_value() > EPS :\n",
    "                print('De %d a %d con distancia=%d Km'  %(i,j,dist[i,j]))\n",
    "\n",
    "TSP5()"
   ]
  },
  {
   "cell_type": "markdown",
   "metadata": {
    "colab_type": "text",
    "id": "opdJ6rUsKzW1"
   },
   "source": [
    "**4.- Modelo del TSP con Ventanas Temporales**"
   ]
  },
  {
   "cell_type": "code",
   "execution_count": 0,
   "metadata": {
    "colab": {},
    "colab_type": "code",
    "id": "zsIuSpCTK7Ut"
   },
   "outputs": [],
   "source": [
    "!pip install ortools\n",
    "from ortools.linear_solver import pywraplp\n",
    "import random\n",
    "\n",
    "n = 50\n",
    "todos = range(n)\n",
    "otros = range(1,n)\n",
    "random.seed(12345)\n",
    "dist= { (i,j) : random.randint(1,100) for i in todos for j in todos if i!=j }\n",
    "e = { i : random.randint(1,100) * i for i in otros }     #early time\n",
    "l = { i : e[i]+random.randint(1,100) for i in otros }    #late time\n",
    "t = { (i,j) : random.randint(1,100) for i in todos for j in todos if i!=j }  #tiempo de ruta en cada arco\n",
    "s = { i : random.randint(1,20) * i for i in otros }     #service time\n",
    "EPS = 0.001\n",
    "\n",
    "def TSP6():\n",
    "    solver = pywraplp.Solver('ATSP', pywraplp.Solver.CBC_MIXED_INTEGER_PROGRAMMING)\n",
    "\n",
    "    x = {}\n",
    "    for i in todos:\n",
    "        for j in todos:\n",
    "            if i!=j:\n",
    "                x[i,j] = solver.BoolVar('x[%i,%i]' % (i,j))\n",
    "    u = {}\n",
    "    for i in otros:\n",
    "        u[i] = solver.IntVar(0.0, solver.infinity(), 'u[%i]' % i) \n",
    "    f = {}\n",
    "    for i in todos:\n",
    "        for j in todos:\n",
    "            if i!=j:\n",
    "                f[i,j] = solver.IntVar(0.0, solver.infinity(), 'f[%i,%i]' % (i,j))\n",
    "            \n",
    "    solver.Minimize(solver.Sum( dist[i,j]*x[i,j] for i in todos for j in todos if i!=j ))\n",
    "    \n",
    "    [ solver.Add(  solver.Sum(x[i,j] for j in todos if i!=j) == 1  )  for i in todos ]\n",
    "    [ solver.Add(  solver.Sum(x[j,i] for j in todos if i!=j) == 1  )  for i in todos ]\n",
    "    \n",
    "    [ solver.Add(  u[j] >= u[i] + x[i,j] - (n-2)*(1-x[i,j]) + (n-3)*x[j,i]  ) for i in otros for j in otros if j!=i ]\n",
    "    \n",
    "    '''[ solver.Add(  0 <= f[i,j]  )  for i in otros for i in otros if i!=j ]\n",
    "    [ solver.Add(  f[i,j] <= T[i,j] * x[i,j]  )  for i in otros for i in otros if i!=j ]\n",
    "    [ solver.Add(  solver.Sum(f[i,j] for j in todos) >= solver.Sum(f[k,i] + (s[k] + t[i,k]) * x[i,j] for k in todos)  )  for i in otros if i!=j and i!=k ]\n",
    "    [ solver.Add(  e[i] <= solver.Sum(f[i,j] for j in todos)  )  for i in otros if i!=j ]\n",
    "    [ solver.Add(  solver.Sum(f[i,j] for j in todos) <= l[i]  )  for i in otros if i!=j ]'''\n",
    "    \n",
    "    [ solver.Add(  e[i] <= u[i]  )  for i in otros]\n",
    "    [ solver.Add(  u[i] <= l[i]  )  for i in otros]\n",
    "    \n",
    "    [ solver.Add(  u[j] <= u[i] + (s[i] + t[i,j]) * x[i,j] - n * (1 - x[i,j])  )  for i in otros for j in otros if i!=j ]\n",
    "    \n",
    "    \n",
    "    solver.Solve()\n",
    "\n",
    "    print('Distancia total de la ruta = ', solver.Objective().Value(),'kilometros')\n",
    "    print('Ruta de mínima distancia:')\n",
    "    for i in todos:\n",
    "        for j in todos: \n",
    "            if i!=j and x[i,j].solution_value() > EPS :\n",
    "                print('De %d a %d con distancia=%d Km'  %(i,j,dist[i,j]))\n",
    "\n",
    "TSP6()"
   ]
  }
 ],
 "metadata": {
  "colab": {
   "collapsed_sections": [],
   "name": "Ingeniería Logística.ipynb",
   "provenance": [],
   "version": "0.3.2"
  },
  "kernelspec": {
   "display_name": "Python 3",
   "language": "python",
   "name": "python3"
  },
  "language_info": {
   "codemirror_mode": {
    "name": "ipython",
    "version": 3
   },
   "file_extension": ".py",
   "mimetype": "text/x-python",
   "name": "python",
   "nbconvert_exporter": "python",
   "pygments_lexer": "ipython3",
   "version": "3.7.3"
  }
 },
 "nbformat": 4,
 "nbformat_minor": 1
}
