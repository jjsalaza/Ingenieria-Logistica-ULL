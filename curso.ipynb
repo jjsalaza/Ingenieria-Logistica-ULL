{
 "cells": [
  {
   "cell_type": "markdown",
   "metadata": {},
   "source": [
    "$x^{y^{z^{v^k}}}$ mi **casa** bonita\n"
   ]
  },
  {
   "cell_type": "code",
   "execution_count": null,
   "metadata": {},
   "outputs": [],
   "source": []
  },
  {
   "cell_type": "markdown",
   "metadata": {},
   "source": [
    "ping elpais.es"
   ]
  },
  {
   "cell_type": "code",
   "execution_count": 1,
   "metadata": {},
   "outputs": [
    {
     "ename": "SyntaxError",
     "evalue": "invalid syntax (<ipython-input-1-393f22a26152>, line 1)",
     "output_type": "error",
     "traceback": [
      "\u001b[1;36m  File \u001b[1;32m\"<ipython-input-1-393f22a26152>\"\u001b[1;36m, line \u001b[1;32m1\u001b[0m\n\u001b[1;33m    ping elpais.es\u001b[0m\n\u001b[1;37m              ^\u001b[0m\n\u001b[1;31mSyntaxError\u001b[0m\u001b[1;31m:\u001b[0m invalid syntax\n"
     ]
    }
   ],
   "source": [
    "ping elpais.es"
   ]
  },
  {
   "cell_type": "code",
   "execution_count": 3,
   "metadata": {},
   "outputs": [
    {
     "name": "stdout",
     "output_type": "stream",
     "text": [
      "\n",
      "Haciendo ping a elpais.es [91.216.63.241] con 32 bytes de datos:\n",
      "Tiempo de espera agotado para esta solicitud.\n",
      "Tiempo de espera agotado para esta solicitud.\n",
      "Tiempo de espera agotado para esta solicitud.\n",
      "Tiempo de espera agotado para esta solicitud.\n",
      "\n",
      "Estad¡sticas de ping para 91.216.63.241:\n",
      "    Paquetes: enviados = 4, recibidos = 0, perdidos = 4\n",
      "    (100% perdidos),\n"
     ]
    }
   ],
   "source": [
    "!ping elpais.es\n"
   ]
  },
  {
   "cell_type": "code",
   "execution_count": 4,
   "metadata": {},
   "outputs": [
    {
     "name": "stdout",
     "output_type": "stream",
     "text": [
      " El volumen de la unidad C es OS\n",
      " El n£mero de serie del volumen es: 3809-48C8\n",
      "\n",
      " Directorio de C:\\Users\\JuanJose\\jj\\GitHub\\Ingenieria-Logistica-ULL\n",
      "\n",
      "22/01/2019  17:45    <DIR>          .\n",
      "22/01/2019  17:45    <DIR>          ..\n",
      "22/01/2019  17:41    <DIR>          .ipynb_checkpoints\n",
      "21/01/2019  08:30            20.068 CarlosGarciaGonzalez.ipynb\n",
      "22/01/2019  17:45               676 curso.ipynb\n",
      "02/01/2019  14:49           249.420 logistica.ipynb\n",
      "22/01/2019  17:30               655 Untitled.ipynb\n",
      "               4 archivos        270.819 bytes\n",
      "               3 dirs  66.056.716.288 bytes libres\n"
     ]
    }
   ],
   "source": [
    "!dir"
   ]
  },
  {
   "cell_type": "code",
   "execution_count": 5,
   "metadata": {},
   "outputs": [
    {
     "name": "stdout",
     "output_type": "stream",
     "text": [
      "Object `os.path.dirname` not found.\n"
     ]
    }
   ],
   "source": [
    "os.path.dirname?"
   ]
  },
  {
   "cell_type": "code",
   "execution_count": 15,
   "metadata": {},
   "outputs": [],
   "source": [
    "import random\n",
    "random.seed?"
   ]
  },
  {
   "cell_type": "code",
   "execution_count": 14,
   "metadata": {},
   "outputs": [
    {
     "name": "stdout",
     "output_type": "stream",
     "text": [
      "Object `gurobipy.optimize` not found.\n"
     ]
    }
   ],
   "source": [
    "import gurobipy\n",
    "gurobipy.optimize?\n"
   ]
  },
  {
   "cell_type": "code",
   "execution_count": 39,
   "metadata": {},
   "outputs": [
    {
     "name": "stdout",
     "output_type": "stream",
     "text": [
      "Overwriting micuadrado.py\n"
     ]
    }
   ],
   "source": [
    "%%writefile \"micuadrado.py\"\n",
    "x = 5\n",
    "print (x*2)"
   ]
  },
  {
   "cell_type": "code",
   "execution_count": 42,
   "metadata": {},
   "outputs": [
    {
     "name": "stdout",
     "output_type": "stream",
     "text": [
      "10\n"
     ]
    }
   ],
   "source": [
    "#load \"micuadrado.py\"\n"
   ]
  },
  {
   "cell_type": "code",
   "execution_count": null,
   "metadata": {},
   "outputs": [],
   "source": []
  },
  {
   "cell_type": "code",
   "execution_count": 43,
   "metadata": {},
   "outputs": [
    {
     "name": "stdout",
     "output_type": "stream",
     "text": [
      "10\n"
     ]
    }
   ],
   "source": [
    "%run \"micuadrado.py\""
   ]
  },
  {
   "cell_type": "code",
   "execution_count": 45,
   "metadata": {},
   "outputs": [
    {
     "name": "stdout",
     "output_type": "stream",
     "text": [
      "12 µs ± 76.5 ns per loop (mean ± std. dev. of 7 runs, 100000 loops each)\n"
     ]
    }
   ],
   "source": [
    "import numpy\n",
    "%timeit numpy.random.normal(size=100)"
   ]
  },
  {
   "cell_type": "code",
   "execution_count": 47,
   "metadata": {},
   "outputs": [
    {
     "data": {
      "text/plain": [
       "array([0.04758421, 0.65813424, 0.3860801 , 0.82686004, 0.46533518,\n",
       "       0.78283421, 0.35785843, 0.69185825, 0.32776625, 0.27435479,\n",
       "       0.56708493, 0.59284601, 0.23506919, 0.09648759, 0.95910604,\n",
       "       0.17947301, 0.47055526, 0.57074932, 0.61696222, 0.5122144 ,\n",
       "       0.93111295, 0.83057728, 0.48172606, 0.88032126, 0.27898622,\n",
       "       0.46347077, 0.73886101, 0.21359202, 0.74869436, 0.96761845,\n",
       "       0.98097846, 0.28003511, 0.70408278, 0.77410501, 0.28523291,\n",
       "       0.50355717, 0.05620835, 0.13243006, 0.31677594, 0.36144513,\n",
       "       0.98808298, 0.81366958, 0.89675729, 0.7245335 , 0.38111222,\n",
       "       0.41681435, 0.83949316, 0.31580029, 0.52962189, 0.10571715,\n",
       "       0.61484746, 0.2695176 , 0.98826776, 0.44488643, 0.42943957,\n",
       "       0.76313425, 0.92242153, 0.13356589, 0.82483594, 0.91060933,\n",
       "       0.45037868, 0.54450587, 0.84463514, 0.84497636, 0.02059409,\n",
       "       0.53378231, 0.57765449, 0.93473541, 0.75699797, 0.49609104,\n",
       "       0.47870119, 0.40462704, 0.21127184, 0.10508689, 0.64045378,\n",
       "       0.95258459, 0.40264046, 0.96872925, 0.76261903, 0.74046705,\n",
       "       0.40731338, 0.299874  , 0.27499723, 0.39710259, 0.23549056,\n",
       "       0.28753851, 0.54310172, 0.87895703, 0.91381526, 0.03899908,\n",
       "       0.10657392, 0.66338744, 0.92568085, 0.538493  , 0.85290192,\n",
       "       0.03047471, 0.39132215, 0.26525624, 0.72497636, 0.49114477])"
      ]
     },
     "execution_count": 47,
     "metadata": {},
     "output_type": "execute_result"
    }
   ],
   "source": [
    "%timeit\n",
    "numpy.random.normal(size=100)\n",
    "numpy.random.uniform(size=100)"
   ]
  },
  {
   "cell_type": "code",
   "execution_count": 55,
   "metadata": {},
   "outputs": [
    {
     "name": "stdout",
     "output_type": "stream",
     "text": [
      "fase= 1.97568811307998 , modulo= 7.615773105863909\n",
      "fase= -1.1902899496825317 , modulo= 5.385164807134504\n"
     ]
    }
   ],
   "source": [
    "import cmath\n",
    "z1 = complex(-3,7)\n",
    "z2 = complex(2,-5)\n",
    "print( \"fase=\",cmath.phase(z1),\", modulo=\",abs(z1))\n",
    "print( \"fase=\",cmath.phase(z2),\", modulo=\",abs(z2))"
   ]
  },
  {
   "cell_type": "code",
   "execution_count": null,
   "metadata": {},
   "outputs": [],
   "source": [
    "cadena = \"Happiness is a way of travel. Not a destination.\""
   ]
  },
  {
   "cell_type": "code",
   "execution_count": 68,
   "metadata": {},
   "outputs": [
    {
     "name": "stdout",
     "output_type": "stream",
     "text": [
      "Happiness is a way of travel.\n",
      " Not a destination.\n"
     ]
    }
   ],
   "source": [
    "cadena = \"Happiness is a way of travel. Not a destination.\"\n",
    "print( cadena[: len(cadena)//2+5 ] )\n",
    "print( cadena[ -len(cadena)//2+5 :: ] )\n"
   ]
  },
  {
   "cell_type": "code",
   "execution_count": 70,
   "metadata": {},
   "outputs": [
    {
     "data": {
      "text/plain": [
       "'😊'"
      ]
     },
     "execution_count": 70,
     "metadata": {},
     "output_type": "execute_result"
    }
   ],
   "source": [
    "chr(128522)"
   ]
  },
  {
   "cell_type": "code",
   "execution_count": 71,
   "metadata": {},
   "outputs": [
    {
     "data": {
      "text/plain": [
       "128522"
      ]
     },
     "execution_count": 71,
     "metadata": {},
     "output_type": "execute_result"
    }
   ],
   "source": [
    "ord(\"😊\")"
   ]
  },
  {
   "cell_type": "code",
   "execution_count": 72,
   "metadata": {},
   "outputs": [
    {
     "data": {
      "text/plain": [
       "'\\r\\n'"
      ]
     },
     "execution_count": 72,
     "metadata": {},
     "output_type": "execute_result"
    }
   ],
   "source": [
    "os.linesep"
   ]
  },
  {
   "cell_type": "code",
   "execution_count": null,
   "metadata": {},
   "outputs": [],
   "source": [
    "palabras = \"Cobalt, Silver, Platinum\"\n",
    "valores  = \"27, 47, 78\"\n",
    "lista_palabras = palabras.split(\", \")\n",
    "lista_valores  = valores.split(\", \")\n",
    "dic = {}\n",
    "for i in range(len(palabras) ) :\n",
    "     dic.( )"
   ]
  },
  {
   "cell_type": "code",
   "execution_count": null,
   "metadata": {},
   "outputs": [],
   "source": []
  },
  {
   "cell_type": "code",
   "execution_count": 10,
   "metadata": {},
   "outputs": [
    {
     "name": "stdout",
     "output_type": "stream",
     "text": [
      "9.488750000000001 , 5.71241069405028\n"
     ]
    }
   ],
   "source": [
    "gravity = [ 2.8 , 8.9 , 9.8 , 3.71 , 22.8 , 9.1 , 7.8 , 11.00 ]\n",
    "media = 0\n",
    "for g in gravity:\n",
    "    media += g\n",
    "media = media / len(gravity)\n",
    "\n",
    "varianza = 0\n",
    "for g in gravity:\n",
    "    varianza += (g - media)**2\n",
    "varianza = ( varianza / len(gravity) )**0.5\n",
    "\n",
    "print(media,\",\",varianza)"
   ]
  },
  {
   "cell_type": "code",
   "execution_count": 23,
   "metadata": {},
   "outputs": [
    {
     "name": "stdout",
     "output_type": "stream",
     "text": [
      "(4,)\n",
      "1\n",
      "<class 'numpy.ndarray'>\n",
      "(2,)\n",
      "1\n",
      "<class 'numpy.ndarray'>\n",
      "(4, 1)\n",
      "2\n",
      "<class 'numpy.ndarray'>\n"
     ]
    }
   ],
   "source": [
    "import numpy as np\n",
    "array1 = np.array([ 88, 23, 39, 41])\n",
    "array2 = np.array([ [76.4, 21.7, 38.4] , [41.2, 52.8] ])\n",
    "array3 = np.array([ [12], ['a'] , [9], [\"b\"] ])\n",
    "def imprime(array):\n",
    "    print( array.shape )\n",
    "    print( array.ndim )\n",
    "    print( type(array) )\n",
    "imprime(array1)\n",
    "imprime(array2)\n",
    "imprime(array3)"
   ]
  },
  {
   "cell_type": "code",
   "execution_count": 25,
   "metadata": {},
   "outputs": [
    {
     "data": {
      "text/plain": [
       "array([[ True]])"
      ]
     },
     "execution_count": 25,
     "metadata": {},
     "output_type": "execute_result"
    }
   ],
   "source": [
    "diagonal = np.diag( [ i in range(50)] )\n",
    "diagonal"
   ]
  },
  {
   "cell_type": "code",
   "execution_count": 30,
   "metadata": {},
   "outputs": [
    {
     "ename": "NameError",
     "evalue": "name 'size' is not defined",
     "output_type": "error",
     "traceback": [
      "\u001b[1;31m---------------------------------------------------------------------------\u001b[0m",
      "\u001b[1;31mNameError\u001b[0m                                 Traceback (most recent call last)",
      "\u001b[1;32m<ipython-input-30-5b224719ad4a>\u001b[0m in \u001b[0;36m<module>\u001b[1;34m()\u001b[0m\n\u001b[1;32m----> 1\u001b[1;33m \u001b[0mX\u001b[0m \u001b[1;33m=\u001b[0m \u001b[0mnp\u001b[0m\u001b[1;33m.\u001b[0m\u001b[0mlinspace\u001b[0m\u001b[1;33m(\u001b[0m\u001b[1;36m1\u001b[0m\u001b[1;33m,\u001b[0m\u001b[1;36m10\u001b[0m\u001b[1;33m,\u001b[0m\u001b[0msize\u001b[0m\u001b[1;33m(\u001b[0m\u001b[1;36m20\u001b[0m\u001b[1;33m,\u001b[0m\u001b[1;36m5\u001b[0m\u001b[1;33m)\u001b[0m\u001b[1;33m)\u001b[0m\u001b[1;33m\u001b[0m\u001b[0m\n\u001b[0m",
      "\u001b[1;31mNameError\u001b[0m: name 'size' is not defined"
     ]
    }
   ],
   "source": [
    "X = np.linspace(1,10,size(20,5))"
   ]
  },
  {
   "cell_type": "code",
   "execution_count": 43,
   "metadata": {},
   "outputs": [
    {
     "data": {
      "text/plain": [
       "array([1, 3, 5, 7, 9])"
      ]
     },
     "execution_count": 43,
     "metadata": {},
     "output_type": "execute_result"
    }
   ],
   "source": [
    "X= np.array([0,1,2,3,4,5,6,7,8,9])\n",
    "X[ X % 2 != 0 ]\n"
   ]
  },
  {
   "cell_type": "code",
   "execution_count": 45,
   "metadata": {},
   "outputs": [
    {
     "data": {
      "text/plain": [
       "array([0, 1, 0, 1, 0, 1, 0, 1, 0, 1])"
      ]
     },
     "execution_count": 45,
     "metadata": {},
     "output_type": "execute_result"
    }
   ],
   "source": [
    "Y= np.array([0,1,2,3,4,5,6,7,8,9])\n",
    "Y[ X % 2 ]"
   ]
  },
  {
   "cell_type": "code",
   "execution_count": null,
   "metadata": {},
   "outputs": [],
   "source": [
    "M = np.random.rand()"
   ]
  }
 ],
 "metadata": {
  "kernelspec": {
   "display_name": "Python 3",
   "language": "python",
   "name": "python3"
  },
  "language_info": {
   "codemirror_mode": {
    "name": "ipython",
    "version": 3
   },
   "file_extension": ".py",
   "mimetype": "text/x-python",
   "name": "python",
   "nbconvert_exporter": "python",
   "pygments_lexer": "ipython3",
   "version": "3.7.0"
  }
 },
 "nbformat": 4,
 "nbformat_minor": 2
}
